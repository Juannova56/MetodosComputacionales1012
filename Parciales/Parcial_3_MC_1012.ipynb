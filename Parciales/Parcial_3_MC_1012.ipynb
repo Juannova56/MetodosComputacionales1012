{
  "nbformat": 4,
  "nbformat_minor": 0,
  "metadata": {
    "colab": {
      "provenance": []
    },
    "kernelspec": {
      "name": "python3",
      "display_name": "Python 3"
    },
    "language_info": {
      "name": "python"
    }
  },
  "cells": [
    {
      "cell_type": "code",
      "execution_count": null,
      "metadata": {
        "cellView": "form",
        "id": "Yuv-rOLsiZWr"
      },
      "outputs": [],
      "source": [
        "#@title Librerias\n",
        "import numpy as np\n",
        "import numpy.linalg as la\n",
        "import matplotlib.pyplot as plt\n",
        "from scipy.integrate import solve_ivp"
      ]
    },
    {
      "cell_type": "markdown",
      "source": [
        "# Parcial III - Métodos Computacionales\n",
        "\n",
        "### Nombre:\n",
        "\n",
        "---\n",
        "\n",
        "## ⚠ Importante\n",
        "\n",
        "👁 Puede usar unicamente las librerias vistas en clase (estas están en la parte superior) en caso de agregar una nueva, debe justificarla.\n",
        "\n",
        "💀 No está permitido el uso de IA's en caso de hacerlo su parcial será **anulado**!\n",
        "\n",
        "❗ Comente su código y funciones, esto hace parte de la nota.\n",
        "\n",
        "✅ Responda ordenadamente y con claridad.\n",
        "\n",
        "\n",
        "---"
      ],
      "metadata": {
        "id": "n7iqcT1JqoQK"
      }
    },
    {
      "cell_type": "markdown",
      "source": [
        "# 1\n",
        "\n",
        "(**35 puntos**) El **método de Jacobi** es un algoritmo iterativo para resolver sistemas lineales de la forma:\n",
        "\n",
        "$$\n",
        "A \\mathbf{x} = \\mathbf{b},\n",
        "$$\n",
        "\n",
        "donde \\$A\\$ es una matriz cuadrada no singular. A diferencia del método de Gauss-Seidel, Jacobi utiliza exclusivamente los valores de la iteración anterior para actualizar todas las variables simultáneamente, lo que lo hace más sencillo de paralelizar pero, en general, con una convergencia más lenta.\n",
        "\n",
        "## Algoritmo\n",
        "\n",
        "Dado un sistema lineal \\$A \\mathbf{x} = \\mathbf{b}\\$, el método de Jacobi consiste en:\n",
        "\n",
        "1. Elegir un vector inicial \\$\\mathbf{x}^{(0)}\\$ (por ejemplo, el vector nulo).\n",
        "\n",
        "2. Para cada iteración \\$k\\$ y cada componente \\$i = 1, 2, ..., n\\$, actualizar:\n",
        "\n",
        "$$\n",
        "x_i^{(k)} = \\frac{1}{a_{ii}} \\left( b_i - \\sum_{\\substack{j=1 \\\\ j \\neq i}}^{n} a_{ij} x_j^{(k-1)} \\right)\n",
        "$$\n",
        "\n",
        "3. Repetir hasta que se cumpla un criterio de convergencia, como:\n",
        "\n",
        "$$\n",
        "\\| \\mathbf{x}^{(k)} - \\mathbf{x}^{(k-1)} \\| < \\text{tolerancia}\n",
        "$$\n",
        "\n",
        "---\n",
        "\n",
        "**a)** Escriba una función llamada `jacobi` que resuelva el sistema lineal \\$A \\mathbf{x} = \\mathbf{b}\\$ usando el método iterativo de Jacobi. La función debe aceptar como argumentos:\n",
        "\n",
        "* La matriz \\$A\\$ y el vector \\$\\mathbf{b}\\$,\n",
        "* Una tolerancia (por defecto \\$1\\times 10^{-10}\\$),\n",
        "* Un número máximo de iteraciones.\n",
        "\n",
        "Debe retornar la solución aproximada \\$\\mathbf{x}\\$ y el número de iteraciones realizadas.\n",
        "\n",
        "---\n",
        "\n",
        "**b)** Aplique su función para resolver el siguiente sistema de ecuaciones lineales:\n",
        "\n",
        "$$\n",
        "\\begin{cases}\n",
        "10x_1 - x_2 + 2x_3 = 6 \\\\[2mm]\n",
        "-2x_1 + 11x_2 - x_4 = 25 \\\\[2mm]\n",
        "3x_1 - x_2 + 10x_3 - x_4 = -11 \\\\[2mm]\n",
        "2x_2 - x_3 + 8x_4 = 15\n",
        "\\end{cases}\n",
        "$$\n",
        "\n",
        "Use como vector inicial \\$\\mathbf{x}^{(0)} = \\[0, 0, 0, 0]^T\\$. Imprima la solución aproximada y el número de iteraciones necesarias para adquirir la convergencia.\n",
        "\n",
        "---\n",
        "\n",
        "**c)** Compare su solución con `np.linalg.solve`. ¿Qué tan cercana es la solución iterativa a la exacta? Para esto, realice un gráfico del error usando la norma euclidiana (`np.linalg.norm`) en función de la tolerancia y otro del número de iteraciones, empleando un `np.logspace(-18, -1, 18)`.\n",
        "\n",
        "---\n",
        "\n"
      ],
      "metadata": {
        "id": "atjx6Bv7i7sE"
      }
    },
    {
      "cell_type": "code",
      "source": [
        "# Aquí va su código"
      ],
      "metadata": {
        "id": "gRI-aeKmi7eF"
      },
      "execution_count": null,
      "outputs": []
    },
    {
      "cell_type": "markdown",
      "source": [
        "# 2\n",
        "\n",
        "(**50 puntos**) El sistema **masa-resorte con fricción** es un modelo clásico en física que describe el movimiento de una masa sujeta a una fuerza restauradora (resorte) y una fuerza disipativa (fricción o viscosidad). Su dinámica está gobernada por la ecuación diferencial de segundo orden:\n",
        "\n",
        "$$\n",
        "m y''(t) + c y'(t) + k y(t) = 0,\n",
        "$$\n",
        "\n",
        "donde:\n",
        "\n",
        "* $m$ es la masa del objeto,\n",
        "* $c$ es el coeficiente de fricción (amortiguamiento),\n",
        "* $k$ es la constante del resorte,\n",
        "* $y(t)$ es la posición de la masa respecto a su equilibrio.\n",
        "\n",
        "---\n",
        "\n",
        "**a)** Reformule esta ecuación como un sistema de primer orden adecuado para ser resuelto con `solve_ivp`. Explique mediante una función explicita y realice su documentación.\n",
        "\n",
        "---\n",
        "\n",
        "**b)** Considere el siguiente caso:\n",
        "\n",
        "* Masa: $m = 1$ kg\n",
        "* Constante del resorte: $k = 4$ N/m\n",
        "* Coeficiente de fricción: $c = 0.5$ N·s/m\n",
        "* Condiciones iniciales: $y(0) = 1$, $y'(0) = 0$\n",
        "* Intervalo de tiempo: $t \\in [0, 20]$\n",
        "\n",
        "Utilice `solve_ivp` para resolver el sistema y grafique $y(t)$ como $y'(t)$. Interprete el comportamiento del sistema.\n",
        "\n",
        "---\n",
        "\n",
        "**c)** Simule dos escenarios adicionales:\n",
        "\n",
        "1. Sin fricción: $c = 0$\n",
        "2. Con fuerte fricción: $c = 4.5$\n",
        "\n",
        "Grafique los tres casos \\$y(t)\\$ en una misma figura y compare los regímenes: **no amortiguado**, **subamortiguado**, y **sobreamortiguado**.\n",
        "\n",
        "---\n",
        "\n",
        "**d)** Para cada uno de los tres casos, calcule la **energía mecánica total** del sistema en función del tiempo. La energía total se define como la suma de energía cinética y potencial:\n",
        "\n",
        "$$\n",
        "E(t) = \\frac{1}{2} m v^2 + \\frac{1}{2} k y^2\n",
        "$$\n",
        "\n",
        "Grafique $E(t)$ para los tres escenarios simulados. Analice y compare el comportamiento de la energía en cada caso. ¿Qué sucede con la energía a lo largo del tiempo? ¿Cómo se relaciona esto con el valor del coeficiente de fricción $c$?\n"
      ],
      "metadata": {
        "id": "h7JrrJrOpNex"
      }
    },
    {
      "cell_type": "code",
      "source": [
        "# Aquí va su código"
      ],
      "metadata": {
        "id": "DYkQ7TUmrti-"
      },
      "execution_count": null,
      "outputs": []
    },
    {
      "cell_type": "markdown",
      "source": [
        "# 3\n",
        "\n",
        "**(15 puntos)** Sea $A$ una matriz cuadrada de tamaño $n \\times n$. Dos propiedades fundamentales de los autovalores de $A$ son:\n",
        "\n",
        "1. **Determinante**:\n",
        "\n",
        "   $$\n",
        "   \\det(A) = \\prod_{i=1}^{n} \\lambda_i\n",
        "   $$\n",
        "\n",
        "2. **Traza**:\n",
        "\n",
        "   $$\n",
        "   \\mathrm{tr}(A) = \\sum_{i=1}^{n} \\lambda_i\n",
        "   $$\n",
        "\n",
        "donde $\\lambda_1, \\lambda_2, \\dots, \\lambda_n$ son los autovalores de $A$.\n",
        "\n",
        "Usando un conjunto de matrices aleatorias $A$ de $5\\times 5$ (1000 matrices diferentes), verifique numéricamente ambas propiedades. Puede emplear las funciones `np.linalg.det`, `np.trace` y `np.linalg.eigvals`.\n"
      ],
      "metadata": {
        "id": "oST6HBD1BCAA"
      }
    },
    {
      "cell_type": "code",
      "source": [
        "# Aquí va su código"
      ],
      "metadata": {
        "id": "V2rc7C4kBH0b"
      },
      "execution_count": null,
      "outputs": []
    }
  ]
}