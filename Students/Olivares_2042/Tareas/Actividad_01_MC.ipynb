{
  "nbformat": 4,
  "nbformat_minor": 0,
  "metadata": {
    "colab": {
      "provenance": []
    },
    "kernelspec": {
      "name": "python3",
      "display_name": "Python 3"
    },
    "language_info": {
      "name": "python"
    }
  },
  "cells": [
    {
      "cell_type": "markdown",
      "source": [
        "# Actividad: Introducción a Python (sin librerías)\n",
        "\n",
        "Ana Paulina Olivares Álvarez\n",
        "\n",
        "---"
      ],
      "metadata": {
        "id": "ym3QAv5yfZSO"
      }
    },
    {
      "cell_type": "markdown",
      "source": [
        "## Problema 1: Números primos entre 2 y 50 con la Criba de Eratóstenes\n",
        "\n",
        "La **Criba de Eratóstenes** es un método eficiente para encontrar todos los números primos menores que un número dado. El algoritmo consiste en:\n",
        "\n",
        "1. Crear una lista de valores booleanos para representar los números del 2 al 50, todos inicialmente marcados como verdaderos.\n",
        "2. Comenzando desde el primer número primo (2), eliminar todos sus múltiplos (marcándolos como falsos).\n",
        "3. Repetir el proceso para el siguiente número no eliminado.\n",
        "4. Los números que permanezcan marcados como verdaderos son primos.\n",
        "\n",
        "Usando funciones, implementa este método y muestra en pantalla todos los números primos entre 2 y 50.\n",
        "\n"
      ],
      "metadata": {
        "id": "W0C9oNGXfwDj"
      }
    },
    {
      "cell_type": "code",
      "source": [
        "'''\n",
        "Pseudocódigo:\n",
        "\n",
        "Definir función y establecer límite\n",
        "\n",
        "  Crear lista primos con valores booleanos\n",
        "  Determinar cada valor = verdadero\n",
        "\n",
        "    Para cada i desde 2 hasta 50 (n+1) #para que incluya hasta el 50\n",
        "      Si primo = Verdadero\n",
        "      Para cada j de cada múltiplo de i (i*i)\n",
        "        primo = Falso\n",
        "\n",
        "  Retornar lista primos\n",
        "'''"
      ],
      "metadata": {
        "id": "GIk3OsqxfZ50"
      },
      "execution_count": null,
      "outputs": []
    },
    {
      "cell_type": "code",
      "source": [
        "def criba_eratostenes(n): # n es el número límite hasta el cual vamos a buscar los primos\n",
        "  primos = [True] * (n + 1) # ya que empieza desde 0, para realizar el recorrido de todos los n se agrega el +1\n",
        "\n",
        "  for i in range(2, int(n**0.5) + 1): # se empieza desde 2 hasta la raíz cuadrada de n incluída (todo número compuesto tiene al menos un divisor menor o igual a la raíz cuadrada de n), int convierte este resultado en entero\n",
        "   if primos[i]:\n",
        "      for j in range(i*i, n + 1, i): # se empieza desde i*i porque los múltiplos menores ya fueron eliminados por primos anteriores, se analiza cada i\n",
        "        primos[j] = False\n",
        "\n",
        "  return [i for i in range(2, n + 1) if primos[i]] # retorna todos los i en el rango que son verdaderos en la lista primos"
      ],
      "metadata": {
        "id": "Zqy3o8G2sC4o"
      },
      "execution_count": null,
      "outputs": []
    },
    {
      "cell_type": "code",
      "source": [
        "primo = criba_eratostenes(50)\n",
        "print(f'Números primos entre 2 y 50:{primo}')"
      ],
      "metadata": {
        "colab": {
          "base_uri": "https://localhost:8080/"
        },
        "id": "NguOzM1ovAzQ",
        "outputId": "deddefda-b34d-4e2a-c37e-3fa9ea8c40e6"
      },
      "execution_count": null,
      "outputs": [
        {
          "output_type": "stream",
          "name": "stdout",
          "text": [
            "Números primos entre 2 y 50:[2, 3, 5, 7, 11, 13, 17, 19, 23, 29, 31, 37, 41, 43, 47]\n"
          ]
        }
      ]
    },
    {
      "cell_type": "markdown",
      "source": [
        "## Problema 2: Aproximación de π usando la serie de Leibniz\n",
        "\n",
        "La serie de Leibniz es una forma sencilla de aproximar el valor de π:\n",
        "\n",
        "$$\n",
        "\\pi \\approx 4 \\sum_{n=0}^{N} \\frac{(-1)^n}{2n + 1}\n",
        "$$\n",
        "\n",
        "Implementa una función que realice este calculo y muestra la aproximación para distintos valores de $N$ (por ejemplo: 10, 100, 1000, 10000)."
      ],
      "metadata": {
        "id": "WzI-FhIWf2iJ"
      }
    },
    {
      "cell_type": "code",
      "source": [
        "'''\n",
        "Pseudocódigo:\n",
        "\n",
        "Definir función con entrada de N términos\n",
        "\n",
        "  suma = 0\n",
        "\n",
        "  Para cada i en el rango:\n",
        "    x = inserte aquí la serie de Leibniz\n",
        "    suma = suma + x\n",
        "  pi = 4 * suma\n",
        "\n",
        "  Retornar suma (que sería la aproximación de pi)\n",
        "'''"
      ],
      "metadata": {
        "id": "CVaZY-Uk1nEK"
      },
      "execution_count": null,
      "outputs": []
    },
    {
      "cell_type": "code",
      "source": [
        "def aproximacion_pi(N): # N cantidad de términos para aproximar a pi\n",
        "\n",
        "  suma = 0\n",
        "\n",
        "  for n in range(N):\n",
        "    x = ((-1)**n) / (2 * n + 1)\n",
        "    suma += x\n",
        "  pi_aprox = 4 * suma\n",
        "\n",
        "  return pi_aprox"
      ],
      "metadata": {
        "id": "DfVwDvrRf7Fz"
      },
      "execution_count": null,
      "outputs": []
    },
    {
      "cell_type": "code",
      "source": [
        "pi = aproximacion_pi(10000)\n",
        "print(f'Aproximación de pi: {pi}')"
      ],
      "metadata": {
        "colab": {
          "base_uri": "https://localhost:8080/"
        },
        "id": "FiYzl2gj4kfs",
        "outputId": "9310f7d8-88a4-4873-fc97-c68383e41cc8"
      },
      "execution_count": null,
      "outputs": [
        {
          "output_type": "stream",
          "name": "stdout",
          "text": [
            "Aproximación de pi: 3.1414926535900345\n"
          ]
        }
      ]
    },
    {
      "cell_type": "markdown",
      "source": [
        "## Problema 3: Números amigos en un rango dado\n",
        "\n",
        "Dos números naturales $a$ y $b$ se llaman **números amigos** si la suma de los divisores propios (excluyendo el número mismo) de $a$ es igual a $b$, y viceversa.\n",
        "\n",
        "Por ejemplo, 220 y 284 son números amigos porque:\n",
        "- Los divisores propios de 220 son: 1, 2, 4, 5, 10, 11, 20, 22, 44, 55, 110 → suma: 284\n",
        "- Los divisores propios de 284 son: 1, 2, 4, 71, 142 → suma: 220\n",
        "\n",
        "Escribe un programa que encuentre todos los pares de números amigos en un rango dado por el usuario (por ejemplo, entre 1 y 10000)."
      ],
      "metadata": {
        "id": "Z1-gsRbNf7jy"
      }
    },
    {
      "cell_type": "code",
      "source": [
        "'''\n",
        "Pseudocódigo:\n",
        "\n",
        "Definir función suma divisores propios con n entrada:\n",
        "\n",
        "  suma = 0\n",
        "  Para cada i desde 1 hasta n-1 términos # n -1 términos para excluir el número mismo como divisor propio\n",
        "  Si n % i = 0, entonces\n",
        "    suma = suma + i\n",
        "  Retornar suma\n",
        "\n",
        "Ingresar límite inferior del rango\n",
        "Ingresar límite superior del rango\n",
        "\n",
        "Para cada a desde lím inf hasta lím sup\n",
        "  b = función suma divisores propios (a)\n",
        "  Si b > a y b <= límite superior entonces # b > a para que no se repita el par\n",
        "    Si a = suma divisores propios (b)\n",
        "      a y b son números amigos\n",
        "'''"
      ],
      "metadata": {
        "id": "m87mKCXlgGjN"
      },
      "execution_count": null,
      "outputs": []
    },
    {
      "cell_type": "code",
      "source": [
        "def suma_divisores_propios(n):\n",
        "\n",
        "  suma = 0\n",
        "\n",
        "  for i in range(1, n): # iteramos desde 1 hasta el n-1 términos, excluyendo a sí mismo como divisor propio\n",
        "    if n % i == 0: # si n dividido 1 tiene residuo cero, entonces:\n",
        "      suma += i # se suma cada divisor de n\n",
        "  return suma #devuelve la suma total de los divisores propios de n"
      ],
      "metadata": {
        "id": "cOwxA6LQwCzO"
      },
      "execution_count": null,
      "outputs": []
    },
    {
      "cell_type": "code",
      "source": [
        "inf = int(input('Ingrese el rango inferior: '))\n",
        "sup = int(input('Ingrese el rango superior: '))\n",
        "\n",
        "def numeros_amigos(inf, sup):\n",
        "\n",
        "  for a in range(inf, sup+1): # sup+1 para incluír el límite superior en las iteraciones\n",
        "    b = suma_divisores_propios(a)\n",
        "    if b > a and b <= sup: # para comprobar que b esté dentro del rango asignado\n",
        "      if a == suma_divisores_propios(b): # si sus sumas son iguales, entonces son números amigos\n",
        "        print(f'{a} y {b} son números amigos')\n",
        "\n",
        "numeros_amigos(inf, sup)"
      ],
      "metadata": {
        "colab": {
          "base_uri": "https://localhost:8080/"
        },
        "id": "ptBgS4HawTBn",
        "outputId": "2791ade7-19f8-4e1c-e410-25dc3ac8da6b"
      },
      "execution_count": null,
      "outputs": [
        {
          "output_type": "stream",
          "name": "stdout",
          "text": [
            "Ingrese el rango inferior: 1\n",
            "Ingrese el rango superior: 10000\n",
            "220 y 284 son números amigos\n",
            "1184 y 1210 son números amigos\n",
            "2620 y 2924 son números amigos\n",
            "5020 y 5564 son números amigos\n",
            "6232 y 6368 son números amigos\n"
          ]
        }
      ]
    },
    {
      "cell_type": "markdown",
      "source": [
        "\n",
        "## Problema 4: Contador de frecuencias de letras en una palabra\n",
        "\n",
        "Escribe un programa que lea una palabra ingresada por el usuario y construya un diccionario donde cada clave sea una letra de la palabra, y el valor asociado sea la cantidad de veces que esa letra aparece. Imprime el resultado.\n"
      ],
      "metadata": {
        "id": "ASKmJNuBgHIp"
      }
    },
    {
      "cell_type": "code",
      "source": [
        "'''\n",
        "Pseudocódigo:\n",
        "\n",
        "Leer palabra ingresada por el usuario\n",
        "\n",
        "Crear un diccionario vacío para almacenar cada letra de la palabra\n",
        "\n",
        "Para cada letra:\n",
        "  Si la letra está en el diccionario\n",
        "    Sumar +1\n",
        "  De lo contrario:\n",
        "    letra = 1\n",
        "Imprimir diccionario\n",
        "'''"
      ],
      "metadata": {
        "id": "QZ61NTql2wfO"
      },
      "execution_count": null,
      "outputs": []
    },
    {
      "cell_type": "code",
      "source": [
        "dicc = {} # se crea un diccionario vacío para almacenar las palabras\n",
        "palabra = input('Ingrese una palabra: ')\n",
        "\n",
        "for i in palabra:\n",
        "  if i in dicc:\n",
        "    dicc[i] += 1 # incrementa la frecuencia si la letra se repite\n",
        "  else:\n",
        "    dicc[i] = 1 # de lo contrario, solo tiene una frecuencia de aparición de 1\n",
        "print(f'La frecuencia de aparición de cada letra en {palabra} es: {dicc}')"
      ],
      "metadata": {
        "colab": {
          "base_uri": "https://localhost:8080/"
        },
        "id": "lECyFeYf35OW",
        "outputId": "bd89f1de-808a-45b0-b2f0-42771572a7a9"
      },
      "execution_count": null,
      "outputs": [
        {
          "output_type": "stream",
          "name": "stdout",
          "text": [
            "Ingrese una palabra: palabra\n",
            "La frecuencia de aparición de cada letra en palabra es: {'p': 1, 'a': 3, 'l': 1, 'b': 1, 'r': 1}\n"
          ]
        }
      ]
    }
  ]
}