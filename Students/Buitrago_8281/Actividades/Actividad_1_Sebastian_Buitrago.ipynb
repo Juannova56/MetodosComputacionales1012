{
  "nbformat": 4,
  "nbformat_minor": 0,
  "metadata": {
    "colab": {
      "provenance": []
    },
    "kernelspec": {
      "name": "python3",
      "display_name": "Python 3"
    },
    "language_info": {
      "name": "python"
    }
  },
  "cells": [
    {
      "cell_type": "markdown",
      "source": [
        "# Actividad: Introducción a Python (sin librerías)\n",
        "\n",
        "---"
      ],
      "metadata": {
        "id": "ym3QAv5yfZSO"
      }
    },
    {
      "cell_type": "markdown",
      "source": [
        "## Problema 1: Números primos entre 2 y 50 con la Criba de Eratóstenes\n",
        "\n",
        "La **Criba de Eratóstenes** es un método eficiente para encontrar todos los números primos menores que un número dado. El algoritmo consiste en:\n",
        "\n",
        "1. Crear una lista de valores booleanos para representar los números del 2 al 50, todos inicialmente marcados como verdaderos.\n",
        "2. Comenzando desde el primer número primo (2), eliminar todos sus múltiplos (marcándolos como falsos).\n",
        "3. Repetir el proceso para el siguiente número no eliminado.\n",
        "4. Los números que permanezcan marcados como verdaderos son primos.\n",
        "\n",
        "Usando funciones, implementa este método y muestra en pantalla todos los números primos entre 2 y 50.\n",
        "\n"
      ],
      "metadata": {
        "id": "W0C9oNGXfwDj"
      }
    },
    {
      "cell_type": "code",
      "source": [
        "def criba_eratostenes(n):\n",
        "    list = [i for i in range(n+1)]    # Crea una lista de tamaño fijo con valores desde 0 hasta 50.\n",
        "    list[0] = list[1] = False # Marca 0 y 1 como no primos\n",
        "\n",
        "    for i in range(2, n + 1): # Itera desde 2 hasta n\n",
        "        if list[i]: # Si el número no ha sido marcado como compuesto, es primo\n",
        "            for j in range(i * 2, n + 1, i): # Marca como no primos todos los múltiplos de i\n",
        "                list[j] = False\n",
        "    return [i for i, es_primo in enumerate(list) if es_primo] # Devuelve todos los índices marcados como True (es decir, los primos)\n",
        "\n",
        "criba_eratostenes(50) # Llama a la función para encontrar todos los primos hasta 50"
      ],
      "metadata": {
        "id": "GIk3OsqxfZ50",
        "outputId": "b785b071-bbb9-42da-9ee8-08ac899cc2ac",
        "colab": {
          "base_uri": "https://localhost:8080/"
        }
      },
      "execution_count": null,
      "outputs": [
        {
          "output_type": "stream",
          "name": "stdout",
          "text": [
            "[2, 3, 5, 7, 11, 13, 17, 19, 23, 29, 31, 37, 41, 43, 47]\n"
          ]
        }
      ]
    },
    {
      "cell_type": "markdown",
      "source": [
        "## Problema 2: Aproximación de π usando la serie de Leibniz\n",
        "\n",
        "La serie de Leibniz es una forma sencilla de aproximar el valor de π:\n",
        "\n",
        "$$\n",
        "\\pi \\approx 4 \\sum_{n=0}^{N} \\frac{(-1)^n}{2n + 1}\n",
        "$$\n",
        "\n",
        "Implementa una función que realice este calculo y muestra la aproximación para distintos valores de $N$ (por ejemplo: 10, 100, 1000, 10000)."
      ],
      "metadata": {
        "id": "WzI-FhIWf2iJ"
      }
    },
    {
      "cell_type": "code",
      "source": [
        "def aprox_pi(n):\n",
        "    serie_leibniz = 0  # Inicializa el acumulador de la suma\n",
        "    for i in range(0, n):  # Recorre n términos de la serie\n",
        "        serie_leibniz += ((-1)**i) / (2 * i + 1)  # Suma o resta cada término de la serie alternando signos\n",
        "    return serie_leibniz * 4  # Multiplica por 4 para obtener la aproximación de pi\n",
        "\n",
        "n = [10, 100, 1000, 10000]  # Lista para el ejemplo\n",
        "\n",
        "# Itera sobre la lista de valores n para mostrar distintas aproximaciones de pi\n",
        "for i in n:\n",
        "    pi = aprox_pi(i)\n",
        "    print(pi)  # Imprime la aproximación de pi con i términos"
      ],
      "metadata": {
        "id": "DfVwDvrRf7Fz",
        "outputId": "03a41067-49f1-404a-b680-e541da2bf967",
        "colab": {
          "base_uri": "https://localhost:8080/"
        }
      },
      "execution_count": null,
      "outputs": [
        {
          "output_type": "stream",
          "name": "stdout",
          "text": [
            "3.0418396189294032\n",
            "3.1315929035585537\n",
            "3.140592653839794\n",
            "3.1414926535900345\n"
          ]
        }
      ]
    },
    {
      "cell_type": "markdown",
      "source": [
        "## Problema 3: Números amigos en un rango dado\n",
        "\n",
        "Dos números naturales $a$ y $b$ se llaman **números amigos** si la suma de los divisores propios (excluyendo el número mismo) de $a$ es igual a $b$, y viceversa.\n",
        "\n",
        "Por ejemplo, 220 y 284 son números amigos porque:\n",
        "- Los divisores propios de 220 son: 1, 2, 4, 5, 10, 11, 20, 22, 44, 55, 110 → suma: 284\n",
        "- Los divisores propios de 284 son: 1, 2, 4, 71, 142 → suma: 220\n",
        "\n",
        "Escribe un programa que encuentre todos los pares de números amigos en un rango dado por el usuario (por ejemplo, entre 1 y 10000)."
      ],
      "metadata": {
        "id": "Z1-gsRbNf7jy"
      }
    },
    {
      "cell_type": "code",
      "source": [
        "# Solicita al usuario los límites del rango\n",
        "a = int(input('Ingresa el límite inferior: '))\n",
        "b = int(input('Ingresa el límite superior: '))\n",
        "\n",
        "# Función que calcula la suma de los divisores propios de un número n (excluyendo n)\n",
        "def suma_div(n):\n",
        "    suma = 0\n",
        "    for i in range(1, n):\n",
        "        if n % i == 0:\n",
        "            suma += i\n",
        "    return suma\n",
        "\n",
        "# Búsqueda de números amigos en el rango dado\n",
        "for i in range(a, b + 1):\n",
        "    j = suma_div(i)  # Suma de divisores propios de i\n",
        "    if i < j <= b:   # Evita duplicados y asegura que j esté en el rango\n",
        "        if suma_div(j) == i:  # Verifica si j también tiene a i como suma de divisores\n",
        "            print(f'{i} y {j} son números amigos')\n"
      ],
      "metadata": {
        "id": "m87mKCXlgGjN",
        "colab": {
          "base_uri": "https://localhost:8080/"
        },
        "outputId": "ed5695e1-f8f7-4839-f7bc-0dfdaed46be7"
      },
      "execution_count": null,
      "outputs": [
        {
          "output_type": "stream",
          "name": "stdout",
          "text": [
            "ingresa un numero:1\n",
            "ingresa otro numero:5000\n",
            "220 y 284 son números amigos\n",
            "1184 y 1210 son números amigos\n",
            "2620 y 2924 son números amigos\n"
          ]
        }
      ]
    },
    {
      "cell_type": "markdown",
      "source": [
        "\n",
        "## Problema 4: Contador de frecuencias de letras en una palabra\n",
        "\n",
        "Escribe un programa que lea una palabra ingresada por el usuario y construya un diccionario donde cada clave sea una letra de la palabra, y el valor asociado sea la cantidad de veces que esa letra aparece. Imprime el resultado.\n"
      ],
      "metadata": {
        "id": "ASKmJNuBgHIp"
      }
    },
    {
      "cell_type": "code",
      "source": [
        "palabra = input(\"Ingresa una palabra: \")  # Se pide al usuario una palabra\n",
        "dicc = {}  # Diccionario vacío para almacenar los conteos\n",
        "\n",
        "for i in palabra:  # Se recorre cada letra de la palabra\n",
        "  cont = 0\n",
        "  for j in palabra:  # Se vuelve a recorrer la palabra\n",
        "    if i == j:       # Si las letras coinciden se cuenta la coincidencia\n",
        "      cont += 1\n",
        "      dicc[i] = cont # Se asigna el conteo al diccionario (esto se hace muchas veces innecesariamente)\n",
        "\n",
        "print(dicc)"
      ],
      "metadata": {
        "id": "klMGSddPgUQ5",
        "colab": {
          "base_uri": "https://localhost:8080/"
        },
        "collapsed": true,
        "outputId": "c325e212-a901-4b8b-d91e-307fe07b7157"
      },
      "execution_count": null,
      "outputs": [
        {
          "output_type": "stream",
          "name": "stdout",
          "text": [
            "Ingrese una palabra: holii\n",
            "{'h': 1, 'o': 1, 'l': 1, 'i': 2}\n"
          ]
        }
      ]
    }
  ]
}