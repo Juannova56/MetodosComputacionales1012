{
  "nbformat": 4,
  "nbformat_minor": 0,
  "metadata": {
    "colab": {
      "provenance": []
    },
    "kernelspec": {
      "name": "python3",
      "display_name": "Python 3"
    },
    "language_info": {
      "name": "python"
    }
  },
  "cells": [
    {
      "cell_type": "code",
      "execution_count": 62,
      "metadata": {
        "id": "rZuc8vXcWuxy"
      },
      "outputs": [],
      "source": [
        "import numpy as np\n",
        "import matplotlib.pyplot as plt\n",
        "from scipy.differentiate import derivative"
      ]
    },
    {
      "cell_type": "markdown",
      "source": [
        "# Actividad 06: Diferenciación númerica\n",
        "\n",
        "---\n",
        "### Profesor: Juan Marcos Marín\n",
        "### Nombre: Juan Sebastian Buitrago Díaz\n",
        "---"
      ],
      "metadata": {
        "id": "MGwGfceuWxy3"
      }
    },
    {
      "cell_type": "markdown",
      "source": [
        "# 1.\n",
        "Implementar el método de la derivada de cinco puntos a través de una función llamada `five_point_derivative`. Luego,\n",
        "* Calcule el valor para $f(x) = \\cos(x)$ utilizando un arreglo con 10 datos $[0\\leq x\\leq 2\\pi]$ y encuentre $f'(\\pi/8)$ variando el $h$ y encuentre el error de convergencia, comparando su respuesta con el valor exacto.\n",
        "\n",
        "* Determine $f''(\\pi/8)$ con $h = 0.05$ y encuentre el error de su aproximación. ¿Mejorará con un $h$ menor o mayor?\n",
        "\n"
      ],
      "metadata": {
        "id": "E8ME9Aa7TbKA"
      }
    },
    {
      "cell_type": "code",
      "execution_count": 63,
      "metadata": {
        "id": "vyTohkly7IW_"
      },
      "outputs": [],
      "source": [
        "def five_point_derivative(f, x, h):\n",
        "    \"\"\"\n",
        "    Calcula la derivada de cinco puntos para una función f en un conjunto de puntos x con paso h.\n",
        "\n",
        "    Parámetros:\n",
        "    - f: función a derivar.\n",
        "    - x: array de puntos donde evaluar la derivada.\n",
        "    - h: paso entre puntos en el array x.\n",
        "\n",
        "    Retorna:\n",
        "    - Array de las derivadas aproximadas en cada punto de x.\n",
        "    \"\"\"\n",
        "    n = len(x)  # Número de puntos\n",
        "    fprime = np.zeros_like(x)  # Array para almacenar las derivadas\n",
        "\n",
        "    for i in range(n):\n",
        "        if i == 0:\n",
        "            # Derivada adelantada para el primer punto\n",
        "            fprime[i] = (-25 * f(x[i]) + 48 * f(x[i] + h) - 36 * f(x[i] + 2 * h) + 16 * f(x[i] + 3 * h) - 3 * f(x[i] + 4 * h)) / (12 * h)\n",
        "        elif i == n - 1:\n",
        "            # Derivada atrasada para el último punto\n",
        "            fprime[i] = (25 * f(x[i]) - 48 * f(x[i] - h) + 36 * f(x[i] - 2 * h) - 16 * f(x[i] - 3 * h) + 3 * f(x[i] - 4 * h)) / (12 * h)\n",
        "        else:\n",
        "            # Derivada centrada para los puntos intermedios\n",
        "            fprime[i] = (f(x[i] - 2 * h) - 8 * f(x[i] - h) + 8 * f(x[i] + h) - f(x[i] + 2 * h))/ (12 * h)\n",
        "    return fprime"
      ]
    },
    {
      "cell_type": "code",
      "source": [
        "f=lambda x: np.cos(x)\n",
        "d_f=lambda x: -np.sin(x)\n",
        "x=np.linspace(0,2*np.pi,10)\n",
        "h=0.1\n",
        "print(f'El valor de la derivada de cinco puntos para cada punto del intervalo es: {five_point_derivative(f,x,h)}')"
      ],
      "metadata": {
        "colab": {
          "base_uri": "https://localhost:8080/"
        },
        "id": "wpJ2_gM-D1Gc",
        "outputId": "985db434-860d-4ddf-dfee-ff88091acaec"
      },
      "execution_count": 64,
      "outputs": [
        {
          "output_type": "stream",
          "name": "stdout",
          "text": [
            "El valor de la derivada de cinco puntos para cada punto del intervalo es: [ 3.31255132e-06 -6.42785470e-01 -9.84804474e-01 -8.66022520e-01\n",
            " -3.42019005e-01  3.42019005e-01  8.66022520e-01  9.84804474e-01\n",
            "  6.42785470e-01 -3.31255132e-06]\n"
          ]
        }
      ]
    },
    {
      "cell_type": "code",
      "source": [
        "x=np.array([np.pi/8])\n",
        "h=np.linspace(0.01,1,10)\n",
        "df_I=[]\n",
        "Error=[]\n",
        "for i in h:\n",
        "  df_i=five_point_derivative(f, x,i)\n",
        "  df_I.append(df_i)\n",
        "  error=abs(df_i-d_f(x))\n",
        "  Error.append(error)\n",
        "for i in range(len(h)):\n",
        "  print(f'El valor de f′(π/8) para h={h[i]} es: {df_I[i]} y su error es {Error[i]}')"
      ],
      "metadata": {
        "colab": {
          "base_uri": "https://localhost:8080/"
        },
        "id": "jgtQMOB7JaAC",
        "outputId": "386f26a9-e5e8-4cc9-9ee5-0d9d09218313"
      },
      "execution_count": 65,
      "outputs": [
        {
          "output_type": "stream",
          "name": "stdout",
          "text": [
            "El valor de f′(π/8) para h=0.01 es: [-0.38268343] y su error es [7.96070043e-10]\n",
            "El valor de f′(π/8) para h=0.12 es: [-0.38266032] y su error es [2.31131085e-05]\n",
            "El valor de f′(π/8) para h=0.23 es: [-0.38229471] y su error es [0.00038873]\n",
            "El valor de f′(π/8) para h=0.34 es: [-0.38053513] y su error es [0.0021483]\n",
            "El valor de f′(π/8) para h=0.45 es: [-0.37546033] y su error es [0.0072231]\n",
            "El valor de f′(π/8) para h=0.56 es: [-0.36453399] y su error es [0.01814944]\n",
            "El valor de f′(π/8) para h=0.67 es: [-0.34523712] y su error es [0.03744631]\n",
            "El valor de f′(π/8) para h=0.78 es: [-0.31597644] y su error es [0.06670699]\n",
            "El valor de f′(π/8) para h=0.89 es: [-0.27709178] y su error es [0.10559166]\n",
            "El valor de f′(π/8) para h=1.0 es: [-0.23174167] y su error es [0.15094176]\n"
          ]
        }
      ]
    },
    {
      "cell_type": "code",
      "source": [
        "def second_diff(f, x, h):\n",
        "  '''\n",
        "  Aproxima la segunda derivada de f en x usando la diferencia finita centrada.\n",
        "  f: función\n",
        "  x: punto en el que se quiere calcular la derivada\n",
        "  h: paso de discretización\n",
        "  return: segunda derivada de f en x\n",
        "  '''\n",
        "  return (f(x + h) - 2 * f(x) + f(x - h)) / (h**2)"
      ],
      "metadata": {
        "id": "licZKtcPNMwp"
      },
      "execution_count": 66,
      "outputs": []
    },
    {
      "cell_type": "code",
      "source": [
        "h=0.05\n",
        "df2=lambda x: -np.cos(x)\n",
        "error=abs(second_diff(f,np.pi/8,h)-df2(x))\n",
        "print(f'El valor de f′′(π/8) para h = {0.5} es: {second_diff(f,np.pi/8,h)} y su error es {error}')"
      ],
      "metadata": {
        "colab": {
          "base_uri": "https://localhost:8080/"
        },
        "id": "q07cywQ0Ndu4",
        "outputId": "d6f9103e-0d68-4ce8-dac1-2e17409e9011"
      },
      "execution_count": 67,
      "outputs": [
        {
          "output_type": "stream",
          "name": "stdout",
          "text": [
            "El valor de f′′(π/8) para h = 0.5 es: -0.9236870736474943 y su error es [0.00019246]\n"
          ]
        }
      ]
    },
    {
      "cell_type": "code",
      "source": [
        "h=np.linspace(2*1e-8,1,1000)\n",
        "plt.plot(abs(second_diff(f,np.pi/8,h)-df2(x)),h, color =\"hotpink\", ls=\"--\")\n",
        "plt.title('h vs error')\n",
        "plt.ylabel('h')\n",
        "plt.xlabel('Error')\n",
        "plt.legend()\n",
        "plt.grid()\n",
        "plt.show()\n",
        "\n",
        "# El error mejora, es decir, se hace más pequeño a medida que h disminuye, sin embargo, cuando h toma valores demasiado pequeños, cercanos a cero el error aumenta"
      ],
      "metadata": {
        "colab": {
          "base_uri": "https://localhost:8080/",
          "height": 527
        },
        "id": "1pzWPuFfrTX-",
        "outputId": "39a334e2-d5dc-4c33-f044-63c681f54b1a"
      },
      "execution_count": 68,
      "outputs": [
        {
          "output_type": "stream",
          "name": "stderr",
          "text": [
            "<ipython-input-68-232710270>:6: UserWarning: No artists with labels found to put in legend.  Note that artists whose label start with an underscore are ignored when legend() is called with no argument.\n",
            "  plt.legend()\n"
          ]
        },
        {
          "output_type": "display_data",
          "data": {
            "text/plain": [
              "<Figure size 640x480 with 1 Axes>"
            ],
            "image/png": "[encoded data removed]"
          },
          "metadata": {}
        }
      ]
    },
    {
      "cell_type": "markdown",
      "source": [
        "#2.\n",
        "Considere la función:\n",
        "\n",
        "$$f(x) = x e^x$$\n",
        "\n",
        "Encuentre la derivada númerica $f'(x)$ y $f''(x)$ para $x = 2.0$ usando diferencias finitas. Considere un arreglo con 6 puntos $[1.8\\leq x\\leq 2.2]$.\n",
        "\n",
        "*   Cambie los valores de $h$ desde 0.01 hasta 0.1 (tomando 10 diferentes) y compare su resultado con el dado por `scipy` y `numpy.gradient`. Realice un gráfico logaritmico de los errores.\n",
        "\n",
        "*   ¿Cuál será el valor óptimo de $h$?"
      ],
      "metadata": {
        "id": "Dx40CzPL-V8i"
      }
    },
    {
      "cell_type": "code",
      "source": [
        "def forward_diff(f, x, h):\n",
        "  '''\n",
        "  Aproxima la primera derivada de f en x usando la diferencia finita hacia adelante.\n",
        "  f: función\n",
        "  x: punto en el que se quiere calcular la derivada\n",
        "  h: paso de discretización\n",
        "  return: primera derivada de f en x\n",
        "  '''\n",
        "  return (f(x + h) - f(x)) / h\n",
        "\n",
        "def backward_diff(f, x, h):\n",
        "  '''\n",
        "  Aproxima la primera derivada de f en x usando la diferencia finita hacia atrás.\n",
        "  f: función\n",
        "  x: punto en el que se quiere calcular la derivada\n",
        "  h: paso de discretización\n",
        "  return: primera derivada de f en x\n",
        "  '''\n",
        "  return (f(x) - f(x - h)) / h\n",
        "\n",
        "def centered_diff(f, x, h):\n",
        "  '''\n",
        "  Aproxima la primera derivada de f en x usando la diferencia finita centrada.\n",
        "  f: función\n",
        "  x: punto en el que se quiere calcular la derivada\n",
        "  h: paso de discretización\n",
        "  return: primera derivada de f en x\n",
        "  '''\n",
        "  return (f(x + h) - f(x - h)) / (2 * h)\n",
        "\n",
        "#Función de diferencias finitas\n",
        "def Diferencias_Finitas(f, h):\n",
        "  '''\n",
        "  Calcula la primera derivada de f usando las diferencias finitas.\n",
        "  f: función\n",
        "  h: paso de discretización\n",
        "  return: primera derivada de f usando las diferencias finitas (función)\n",
        "  '''\n",
        "  def Derivada(x):\n",
        "    '''\n",
        "    Calcula la primera derivada de f en x usando las diferencias finitas.\n",
        "    x: punto en el que se quiere calcular la derivada\n",
        "    return: primera derivada de f en x\n",
        "    '''\n",
        "    n = len(x)\n",
        "    fprime = np.zeros_like(x, dtype=float) # Crea un array para guardar los datos\n",
        "    for i in range(n):\n",
        "      if i == 0: # Condicion para el primer punto\n",
        "        fprime[i] = forward_diff(f, x[i], h)\n",
        "      elif i == n-1: # Condición para el último punto\n",
        "        fprime[i] = backward_diff(f, x[i], h)\n",
        "      else:\n",
        "        fprime[i] = centered_diff(f, x[i], h) # Diferencias centradas\n",
        "    return fprime\n",
        "\n",
        "  return Derivada"
      ],
      "metadata": {
        "id": "qp_ONJPvwiO_"
      },
      "execution_count": 69,
      "outputs": []
    },
    {
      "cell_type": "code",
      "source": [
        "f=lambda x: x*np.exp(x)\n",
        "df=lambda x: np.exp(x)+x*np.exp(x)\n",
        "d2f=lambda x: x*np.exp(x)+2*np.exp(x)\n",
        "x=np.array([2.0])\n",
        "h=0.01\n",
        "print(f'El valor de la derivada numérica para x=2 es: {Diferencias_Finitas(f,h)(x)}')\n",
        "print(f'El valor de la segunda derivada numérica para x=2 es: {second_diff(f,x,h)}')"
      ],
      "metadata": {
        "colab": {
          "base_uri": "https://localhost:8080/"
        },
        "id": "x8Tzn-X37yQq",
        "outputId": "e97821d9-6c4e-411a-85b7-f3641a8e1df9"
      },
      "execution_count": 70,
      "outputs": [
        {
          "output_type": "stream",
          "name": "stdout",
          "text": [
            "El valor de la derivada numérica para x=2 es: [22.31556703]\n",
            "El valor de la segunda derivada numérica para x=2 es: [29.55659385]\n"
          ]
        }
      ]
    },
    {
      "cell_type": "code",
      "source": [
        "f=lambda x: x*np.exp(x)\n",
        "df=lambda x: np.exp(x)+x*np.exp(x)\n",
        "d2f=lambda x: x*np.exp(x)+2*np.exp(x)\n",
        "x=np.linspace(1.8,2.2,6)\n",
        "h=0.01\n",
        "print(f'El valor de la derivada numérica para cada punto del intervalo es: {Diferencias_Finitas(f,h)(x)}')\n",
        "print(f'El valor de la segunda derivada numérica para cada punto del intervalo es: {second_diff(f,x,h)}')"
      ],
      "metadata": {
        "colab": {
          "base_uri": "https://localhost:8080/"
        },
        "id": "uDFwj7-B8vI9",
        "outputId": "489dc3af-ed41-42a5-eb55-3fc39bc24ec7"
      },
      "execution_count": 71,
      "outputs": [
        {
          "output_type": "stream",
          "name": "stdout",
          "text": [
            "El valor de la derivada numérica para cada punto del intervalo es: [17.05444164 18.87462703 21.01459499 23.38009798 25.99385989 28.69129776]\n",
            "El valor de la segunda derivada numérica para cada punto del intervalo es: [22.98895277 25.42791999 28.11368778 31.07044826 34.32471134 37.90552299]\n"
          ]
        }
      ]
    },
    {
      "cell_type": "code",
      "source": [
        "f=lambda x: x*np.exp(x)\n",
        "df=lambda x: np.exp(x)+x*np.exp(x)\n",
        "d2f=lambda x: x*np.exp(x)+2*np.exp(x)\n",
        "x=np.linspace(1.8,2.2,10)\n",
        "H=np.linspace(0.01,0.1,10)\n",
        "\n",
        "err_df=[]\n",
        "err_d2f=[]\n",
        "for i in H:\n",
        "  df_i=Diferencias_Finitas(f,i)(x)\n",
        "  d2f_i=second_diff(f,x,i)\n",
        "  error_df=abs(df_i-df(x))\n",
        "  error_d2f=abs(d2f_i-d2f(x))\n",
        "  err_df.append(error_df)\n",
        "  err_d2f.append(error_d2f)\n",
        "\n",
        "plt.plot(H,error_df,color=\"purple\",label=\"Error df\")\n",
        "plt.plot(H,error_d2f,color=\"cyan\",label=\"Error d2f\")\n",
        "plt.title('Error vs h')\n",
        "plt.ylabel('Error')\n",
        "plt.xlabel('h')\n",
        "plt.xscale('log')\n",
        "plt.yscale('log')\n",
        "plt.legend()\n",
        "plt.grid()\n",
        "plt.show()"
      ],
      "metadata": {
        "colab": {
          "base_uri": "https://localhost:8080/",
          "height": 476
        },
        "id": "4-Gi1yj5-qB-",
        "outputId": "42bcada7-5246-498a-8979-51855ec56b92"
      },
      "execution_count": 108,
      "outputs": [
        {
          "output_type": "display_data",
          "data": {
            "text/plain": [
              "<Figure size 640x480 with 1 Axes>"
            ],
            "image/png": "[encoded data removed]"
          },
          "metadata": {}
        }
      ]
    },
    {
      "cell_type": "code",
      "source": [
        "f=lambda x: x*np.exp(x)\n",
        "df=lambda x: np.exp(x)+x*np.exp(x)\n",
        "d2f=lambda x: x*np.exp(x)+2*np.exp(x)\n",
        "x=np.linspace(1.8,2.2,10)\n",
        "H=np.linspace(0.01,0.1,10)\n",
        "\n",
        "err_df=[]\n",
        "err_d2f=[]\n",
        "for i in H:\n",
        "  df_grad=np.gradient(f(x),i)\n",
        "  d2f_grad=np.gradient(df(x),i)\n",
        "  error_df=abs(df_grad-df(x))\n",
        "  error_d2f=abs(d2f_grad-d2f(x))\n",
        "  err_df.append(error_df)\n",
        "  err_d2f.append(error_d2f)\n",
        "\n",
        "plt.plot(H,error_df,color=\"hotpink\",label=\"Error df\")\n",
        "plt.plot(H,error_d2f,color=\"cyan\",label=\"Error d2f\")\n",
        "plt.title('Error vs h')\n",
        "plt.ylabel('Error')\n",
        "plt.xlabel('h')\n",
        "plt.xscale('log')\n",
        "plt.yscale('log')\n",
        "plt.legend()\n",
        "plt.grid()\n",
        "plt.show()"
      ],
      "metadata": {
        "colab": {
          "base_uri": "https://localhost:8080/",
          "height": 476
        },
        "id": "ffSLtJnD_isD",
        "outputId": "2858e933-a0c7-4004-c3fa-87429f2cf5ad"
      },
      "execution_count": 106,
      "outputs": [
        {
          "output_type": "display_data",
          "data": {
            "text/plain": [
              "<Figure size 640x480 with 1 Axes>"
            ],
            "image/png": "[encoded data removed]"
          },
          "metadata": {}
        }
      ]
    },
    {
      "cell_type": "code",
      "source": [],
      "metadata": {
        "id": "GtYQMYMiBqL6"
      },
      "execution_count": null,
      "outputs": []
    }
  ]
}