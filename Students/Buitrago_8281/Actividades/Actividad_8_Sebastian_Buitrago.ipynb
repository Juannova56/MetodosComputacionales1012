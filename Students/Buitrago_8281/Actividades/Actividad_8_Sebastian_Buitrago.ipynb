{
  "nbformat": 4,
  "nbformat_minor": 0,
  "metadata": {
    "colab": {
      "provenance": []
    },
    "kernelspec": {
      "name": "python3",
      "display_name": "Python 3"
    },
    "language_info": {
      "name": "python"
    }
  },
  "cells": [
    {
      "cell_type": "code",
      "execution_count": 26,
      "metadata": {
        "id": "z7RCty67y3ME"
      },
      "outputs": [],
      "source": [
        "import numpy as np\n",
        "import matplotlib.pyplot as plt\n",
        "import numpy.linalg as la"
      ]
    },
    {
      "cell_type": "markdown",
      "source": [
        "# Actividad 08: Algebra Lineal y Matrices\n",
        "\n",
        "---\n",
        "### Profesor: Juan Marcos Marín\n",
        "### Nombre: Juan Sebastian Buitrago Díaz\n",
        "*Métodos computacionales*\n",
        "\n",
        "---"
      ],
      "metadata": {
        "id": "GGQpGoujzAnQ"
      }
    },
    {
      "cell_type": "markdown",
      "source": [
        "#1\n",
        "Escriba tres matrices aleatorias $A$, $B$ y $C$ de $3\\times 3$, y demuestre las siguientes relaciones\n",
        "\n",
        "- $ \\mathbf{A}\\mathbf{B} \\neq \\mathbf{B}\\mathbf{A} $, en general.\n",
        "- $ (\\mathbf{A}\\mathbf{B})\\mathbf{C} = \\mathbf{A}(\\mathbf{B}\\mathbf{C}) $.\n",
        "- $ \\mathbf{A}(\\mathbf{B} + \\mathbf{C}) = \\mathbf{A}\\mathbf{B} + \\mathbf{A}\\mathbf{C} $.\n",
        "- $ (\\mathbf{A} + \\mathbf{B})\\mathbf{C} = \\mathbf{A}\\mathbf{C} + \\mathbf{B}\\mathbf{C} $.\n",
        "- $ (\\mathbf{A}\\mathbf{B})^\\top = \\mathbf{B}^\\top \\mathbf{A}^\\top $.\n",
        "- $ \\det(\\mathbf{A}\\mathbf{B}) = \\det(\\mathbf{A}) \\det(\\mathbf{B}) $.\n",
        "- $ (\\mathbf{A}^\\top)^\\top = \\mathbf{A} $.\n",
        "- $ (c\\mathbf{A})^\\top = c\\mathbf{A}^\\top $.\n",
        "- $ (\\mathbf{A} + \\mathbf{B})^\\top = \\mathbf{A}^\\top + \\mathbf{B}^\\top $.\n",
        "\n"
      ],
      "metadata": {
        "id": "U9hC1R-F0-iH"
      }
    },
    {
      "cell_type": "code",
      "source": [
        "n=0\n",
        "Bool=[]\n",
        "while n<1000:\n",
        "  A = np.random.rand(3, 3)\n",
        "  B = np.random.rand(3, 3)\n",
        "  C = np.random.rand(3, 3)\n",
        "  if (A@B != B@A).all() == False:\n",
        "    print(f'La condición 1 no se cumple')\n",
        "    break\n",
        "  else:\n",
        "    n+=1\n",
        "if n==1000:\n",
        "  print(f'La relacion 1 se cumple')"
      ],
      "metadata": {
        "id": "yiNifi9B-UXE",
        "colab": {
          "base_uri": "https://localhost:8080/"
        },
        "outputId": "525b21bc-1d72-47f7-e737-6a93064f2a56"
      },
      "execution_count": 27,
      "outputs": [
        {
          "output_type": "stream",
          "name": "stdout",
          "text": [
            "La relacion 1 se cumple\n"
          ]
        }
      ]
    },
    {
      "cell_type": "code",
      "source": [
        "n=0\n",
        "Bool=[]\n",
        "while n<1000:\n",
        "  A = np.random.rand(3, 3)\n",
        "  B = np.random.rand(3, 3)\n",
        "  C = np.random.rand(3, 3)\n",
        "  if np.isclose(A@(B@C),(A@B)@C).all() == False:\n",
        "    print(f'La condición 2 no se cumple')\n",
        "    break\n",
        "  else:\n",
        "    n+=1\n",
        "if n==1000:\n",
        "  print(f'La relacion 2 se cumple')"
      ],
      "metadata": {
        "colab": {
          "base_uri": "https://localhost:8080/"
        },
        "id": "x7hVTdo6DfBP",
        "outputId": "8be644aa-f334-47fe-fc6b-e27379d2fc75"
      },
      "execution_count": 28,
      "outputs": [
        {
          "output_type": "stream",
          "name": "stdout",
          "text": [
            "La relacion 2 se cumple\n"
          ]
        }
      ]
    },
    {
      "cell_type": "code",
      "source": [
        "n=0\n",
        "Bool=[]\n",
        "while n<1000:\n",
        "  A = np.random.rand(3, 3)\n",
        "  B = np.random.rand(3, 3)\n",
        "  C = np.random.rand(3, 3)\n",
        "  if np.isclose(A@(B+C),(A@B)+(A@C)).all() == False:\n",
        "    print(f'La condición 3 no se cumple')\n",
        "    break\n",
        "  else:\n",
        "    n+=1\n",
        "if n==1000:\n",
        "  print(f'La relacion 3 se cumple')"
      ],
      "metadata": {
        "colab": {
          "base_uri": "https://localhost:8080/"
        },
        "id": "Rx38hbOcPFvz",
        "outputId": "49401489-23f1-4174-96b1-0f109dc10227"
      },
      "execution_count": 29,
      "outputs": [
        {
          "output_type": "stream",
          "name": "stdout",
          "text": [
            "La relacion 3 se cumple\n"
          ]
        }
      ]
    },
    {
      "cell_type": "code",
      "source": [
        "n=0\n",
        "Bool=[]\n",
        "while n<1000:\n",
        "  A = np.random.rand(3, 3)\n",
        "  B = np.random.rand(3, 3)\n",
        "  C = np.random.rand(3, 3)\n",
        "  if np.isclose((A+B)@C,(A@C)+(B@C)).all() == False:\n",
        "    print(f'La condición 4 no se cumple')\n",
        "    break\n",
        "  else:\n",
        "    n+=1\n",
        "if n==1000:\n",
        "  print(f'La relacion 4 se cumple')"
      ],
      "metadata": {
        "id": "9fUv9fb4Qprw",
        "colab": {
          "base_uri": "https://localhost:8080/"
        },
        "outputId": "2294428c-e847-41b4-b7c2-39131ff0c910"
      },
      "execution_count": 30,
      "outputs": [
        {
          "output_type": "stream",
          "name": "stdout",
          "text": [
            "La relacion 4 se cumple\n"
          ]
        }
      ]
    },
    {
      "cell_type": "code",
      "source": [
        "n=0\n",
        "Bool=[]\n",
        "while n<1000:\n",
        "  A = np.random.rand(3, 3)\n",
        "  B = np.random.rand(3, 3)\n",
        "  C = np.random.rand(3, 3)\n",
        "  if np.isclose(np.transpose(A@B),np.transpose(B)@np.transpose(A)).all() == False:\n",
        "    print(f'La condición 5 no se cumple')\n",
        "    break\n",
        "  else:\n",
        "    n+=1\n",
        "if n==1000:\n",
        "  print(f'La relacion 5 se cumple')"
      ],
      "metadata": {
        "id": "TIz6WFDcTYR5",
        "colab": {
          "base_uri": "https://localhost:8080/"
        },
        "outputId": "9e0c92c8-9473-4b23-8c07-8058f065631f"
      },
      "execution_count": 31,
      "outputs": [
        {
          "output_type": "stream",
          "name": "stdout",
          "text": [
            "La relacion 5 se cumple\n"
          ]
        }
      ]
    },
    {
      "cell_type": "code",
      "source": [
        "n=0\n",
        "Bool=[]\n",
        "while n<1000:\n",
        "  A = np.random.rand(3, 3)\n",
        "  B = np.random.rand(3, 3)\n",
        "  C = np.random.rand(3, 3)\n",
        "  if np.isclose(la.det(A@B),(la.det(A)*la.det(B))).all() == False:\n",
        "    print(f'La condición 6 no se cumple')\n",
        "    break\n",
        "  else:\n",
        "    n+=1\n",
        "if n==1000:\n",
        "  print(f'La relacion 6 se cumple')"
      ],
      "metadata": {
        "colab": {
          "base_uri": "https://localhost:8080/"
        },
        "id": "MVLj7d7oWISC",
        "outputId": "169ab51b-784e-4be9-94f4-518663e71375"
      },
      "execution_count": 32,
      "outputs": [
        {
          "output_type": "stream",
          "name": "stdout",
          "text": [
            "La relacion 6 se cumple\n"
          ]
        }
      ]
    },
    {
      "cell_type": "code",
      "source": [
        "n=0\n",
        "Bool=[]\n",
        "while n<1000:\n",
        "  A = np.random.rand(3, 3)\n",
        "  B = np.random.rand(3, 3)\n",
        "  C = np.random.rand(3, 3)\n",
        "  if np.isclose(np.transpose(np.transpose(A)),A).all() == False:\n",
        "    print(f'La condición 7 no se cumple')\n",
        "    break\n",
        "  else:\n",
        "    n+=1\n",
        "if n==1000:\n",
        "  print(f'La relacion 7 se cumple')"
      ],
      "metadata": {
        "colab": {
          "base_uri": "https://localhost:8080/"
        },
        "id": "k7AyTEveWoG_",
        "outputId": "47ac5c44-db2e-4a1b-c159-b9c6560bccf9"
      },
      "execution_count": 33,
      "outputs": [
        {
          "output_type": "stream",
          "name": "stdout",
          "text": [
            "La relacion 7 se cumple\n"
          ]
        }
      ]
    },
    {
      "cell_type": "code",
      "source": [
        "n=0\n",
        "Bool=[]\n",
        "while n<1000:\n",
        "  A = np.random.rand(3, 3)\n",
        "  B = np.random.rand(3, 3)\n",
        "  C = np.random.rand(3, 3)\n",
        "  c=np.random.rand()\n",
        "  if np.isclose(np.transpose(c*A),c*np.transpose(A)).all() == False:\n",
        "    print(f'La condición 8 no se cumple')\n",
        "    break\n",
        "  else:\n",
        "    n+=1\n",
        "if n==1000:\n",
        "  print(f'La relacion 8 se cumple')"
      ],
      "metadata": {
        "colab": {
          "base_uri": "https://localhost:8080/"
        },
        "id": "b22_2b3mW51H",
        "outputId": "3ec5becf-12e7-44f6-8aaf-29f79340764c"
      },
      "execution_count": 34,
      "outputs": [
        {
          "output_type": "stream",
          "name": "stdout",
          "text": [
            "La relacion 8 se cumple\n"
          ]
        }
      ]
    },
    {
      "cell_type": "code",
      "source": [
        "n=0\n",
        "Bool=[]\n",
        "while n<1000:\n",
        "  A = np.random.rand(3, 3)\n",
        "  B = np.random.rand(3, 3)\n",
        "  C = np.random.rand(3, 3)\n",
        "  if np.isclose(np.transpose(A+B),np.transpose(A)+np.transpose(B)).all() == False:\n",
        "    print(f'La condición 9 no se cumple')\n",
        "    break\n",
        "  else:\n",
        "    n+=1\n",
        "if n==1000:\n",
        "  print(f'La relacion 9 se cumple')"
      ],
      "metadata": {
        "colab": {
          "base_uri": "https://localhost:8080/"
        },
        "id": "SzKYxCcFX9rK",
        "outputId": "09e0adc2-19fb-4eaf-d661-64ab69afab37"
      },
      "execution_count": 35,
      "outputs": [
        {
          "output_type": "stream",
          "name": "stdout",
          "text": [
            "La relacion 9 se cumple\n"
          ]
        }
      ]
    },
    {
      "cell_type": "markdown",
      "source": [
        "#2\n",
        "\n",
        "El **Teorema de Laplace** es un método para calcular el determinante de una matriz cuadrada, particularmente útil para matrices de orden mayor a 2. Este teorema se basa en la expansión del determinante por los elementos de una fila o una columna cualquiera.\n",
        "\n",
        "\n",
        "\n",
        "$$\n",
        "\\det(A) = \\sum_{j=1}^n (-1)^{1+j} a_{1j} M_{1j}\n",
        "$$\n",
        "\n",
        "donde:\n",
        "- $a_{1j}$ es el elemento de la primera fila y columna $j$.\n",
        "- $M_{1j}$ es el menor asociado al elemento $a_{1j}$, es decir, el determinante de la submatriz de $3 \\times 3$ que se obtiene al eliminar la fila 1 y la columna $j$.\n",
        "- $(-1)^{1+j}$ es el signo correspondiente al cofactor del elemento $a_{1j}$.\n",
        "\n",
        "Podemos realizar una función recursiva para el cálculo del determinante, sabiendo que el valor del determinante de una matriz de orden uno es el único elemento de esa matriz, y el de una matriz de orden superior a uno es la suma de cada uno de los elementos de una fila o columna por los Adjuntos a ese elemento, como en la función recursiva se emplea la misma función definida el cálculo lo haremos por Menor complementario, un ejemplo desarrollado por la primera fila sería:\n",
        "\n",
        "$$\n",
        "   \\det (A_{j,j}) =\n",
        "   \\left \\{\n",
        "   \\begin{array}{llcl}\n",
        "      si & j = 1 & \\to & a_{1,1} \\\\\n",
        "                                 \\\\\n",
        "      si & j > 1 & \\to & \\displaystyle \\sum_{k=1}^j \\; (-1)^{(1+k)} \\cdot a_{1,k} \\cdot \\det( \\alpha_{1,k})\n",
        "   \\end{array}\n",
        "   \\right .\n",
        "$$\n",
        "\n",
        "Realice una función que encuentre el determinante de una matriz usando la recursividad aqui planteada, explique explicitamente su código"
      ],
      "metadata": {
        "id": "ibYf2I9T2pIw"
      }
    },
    {
      "cell_type": "code",
      "source": [
        "def determinante(A):\n",
        "  \"\"\"\n",
        "  Resuelve el sistema lineal Ax = b usando el método iterativo de Gauss-Seidel.\n",
        "\n",
        "  Input:\n",
        "  A : La matriz de la que se busca el determinante\n",
        "\n",
        "  Output:\n",
        "det : El determinante de la matriz\n",
        "  \"\"\"\n",
        "  #Para matrices de grado menor a 2\n",
        "  n = A.shape[0]\n",
        "  if n == 1:\n",
        "    return A[0, 0]\n",
        "  if n == 2:\n",
        "    return A[0,0]*A[1,1] - A[0,1]*A[1,0]\n",
        "  #Para matrices de grado igual o mayor a 3\n",
        "  det = 0\n",
        "  for i in range(n):\n",
        "    B= np.delete(np.delete(A, 0, axis=0), i, axis=1) #Esto elimina la columna y la fila\n",
        "    cofact = (-1) ** (2 + i) #Esto encuentra el simbolo del cofactor (2+i debido a que Python cuenta desde 0)\n",
        "    det += cofact * A[0, i] * determinante(B) #Esto suma el valor de cada multipliación\n",
        "  return det"
      ],
      "metadata": {
        "id": "-8tYERLHtrtY"
      },
      "execution_count": 36,
      "outputs": []
    },
    {
      "cell_type": "code",
      "source": [
        "A = np.random.rand(3, 3)\n",
        "print(f'Matriz:\\n {A}')\n",
        "print(f'Determinante según Laplace: {determinante(A)}')\n",
        "print(f'Determinante según numpy: {(la.det(A))}')"
      ],
      "metadata": {
        "colab": {
          "base_uri": "https://localhost:8080/"
        },
        "id": "hd5RVPHHanzj",
        "outputId": "791adcba-1db7-49d6-f5b6-8739a8ba75e1"
      },
      "execution_count": 37,
      "outputs": [
        {
          "output_type": "stream",
          "name": "stdout",
          "text": [
            "Matriz:\n",
            " [[0.41705619 0.94142317 0.48958471]\n",
            " [0.51324385 0.68891903 0.5159633 ]\n",
            " [0.11455419 0.65899469 0.75447996]]\n",
            "Determinante según Laplace: -0.10698397233531382\n",
            "Determinante según numpy: -0.10698397233531384\n"
          ]
        }
      ]
    },
    {
      "cell_type": "markdown",
      "source": [
        "#3 Método de Gauss - Seidel\n",
        "\n",
        "Sea \\$A\\in\\mathbb{R}^{n\\times n}\\$ no singular y sea \\$b\\in\\mathbb{R}^n\\$.\n",
        "Descomponga \\$A\\$ como\n",
        "\n",
        "$$\n",
        "A \\;=\\; D \\;+\\; L \\;+\\; U,\n",
        "$$\n",
        "\n",
        "donde\n",
        "\n",
        "* \\$D\\$ es la matriz diagonal de \\$A\\$,\n",
        "* \\$L\\$ es la parte estrictamente triangular inferior,\n",
        "* \\$U\\$ es la parte estrictamente triangular superior.\n",
        "\n",
        "El algoritmo de Gauss - Seidel reorganiza el sistema \\$Ax=b\\$ como\n",
        "\n",
        "$$\n",
        "x \\;=\\; (D+L)^{-1}\\bigl(b \\;-\\; Ux\\bigr),\n",
        "$$\n",
        "\n",
        "y genera la sucesión\n",
        "\n",
        "$$\n",
        "x_i^{(k+1)}\n",
        "= \\frac{1}{a_{ii}}\n",
        "\\Bigl(b_i - \\sum_{j<i} a_{ij}\\,x_j^{(k+1)} - \\sum_{j>i} a_{ij}\\,x_j^{(k)}\\Bigr),\n",
        "\\qquad i=1,\\dots,n.\n",
        "$$\n",
        "\n",
        "Implemente una función `gauss_seidel(A, b, tol=1e-7, max_iter=100)` que:\n",
        "   * Realice las iteraciones hasta que\n",
        "     $\\lVert x^{(k+1)}-x^{(k)}\\rVert_\\infty<\\text{tol}$\n",
        "     o se alcance `max_iter`;\n",
        "   * devuelva el vector solución aproximado \\$x\\$, el número de iteraciones realizadas y la norma del último residuo.\n",
        "\n",
        "Incluya una documentación clara.\n",
        "\n",
        "Luego,\n",
        "\n",
        "   * Genere una matriz aleatoria \\$5\\times5\\$ (por ejemplo, con `np.random.rand`) y un vector \\$b\\$ aleatorio.\n",
        "   * Resuelva \\$Ax=b\\$ con su función; calcule el error relativo frente a `numpy.linalg.solve`.\n",
        "   * Estime igualmente el error respecto a la solución obtenida mediante \\$x=A^{-1}b\\$ (usando `numpy.linalg.inv`).\n",
        "   * Presente las normas de los residuos y los errores relativos."
      ],
      "metadata": {
        "id": "fTSweDGhnAUN"
      }
    },
    {
      "cell_type": "code",
      "source": [
        "def gauss_seidel(A, b, tol=1e-7, max_iter=100):\n",
        "  \"\"\"\n",
        "  Resuelve el sistema lineal Ax = b usando el método iterativo de Gauss-Seidel.\n",
        "\n",
        "  Input:\n",
        "  A : La matriz que representa al sistema lineal.\n",
        "  b : Solución del sistema lineal en forma de vector.\n",
        "  tol : Tolerancia de la convergencia.\n",
        "  max_iter : Número máximo de iteraciones.\n",
        "\n",
        "  Output:\n",
        "  x : Vector de coeficientes.\n",
        "  iter : Número de iteraciones realizadas.\n",
        "  res : Norma infinito del último residuo\n",
        "  \"\"\"\n",
        "  n = len(b)\n",
        "  x = np.zeros_like(b, dtype=float)\n",
        "  iter = 0\n",
        "\n",
        "  while iter < max_iter: #Esto mantiene las interacciones en el rango deseado\n",
        "    x_old = np.copy(x)\n",
        "    for i in range(n):\n",
        "      sum_0 = sum(A[i, j] * x[j] for j in range(i)) #Esto hace la suma con el valor actual\n",
        "      sum_1 = sum(A[i, j] * x_old[j] for j in range(i + 1, n)) #Esto hace la suma con el valor inmediatamente anterior\n",
        "      x[i] = (b[i] - sum_0 - sum_1) / A[i, i] #Esto actualiza los valores de x\n",
        "      if la.norm(x[i]-x[i-1]) < tol: #Esto revisa si ya se cumple el criterio de divergencia deseado\n",
        "        break\n",
        "    iter += 1\n",
        "\n",
        "  res = b - A @ x\n",
        "  res_norm = la.norm(res, ord=np.inf)\n",
        "\n",
        "  return x, iter + 1, res_norm"
      ],
      "metadata": {
        "id": "xXuUhfjznlnO"
      },
      "execution_count": 38,
      "outputs": []
    },
    {
      "cell_type": "code",
      "source": [
        "A = np.random.rand(5, 5)\n",
        "b= np.random.rand(5,1)\n",
        "\n",
        "x, iter, res = gauss_seidel(A, b)\n",
        "\n",
        "err=la.norm(x - la.solve(A,b))/la.norm(la.solve(A,b))\n",
        "err_inv=la.norm(x - (la.inv(A)@b))/la.norm(la.inv(A)@b)\n",
        "\n",
        "print(f'Matriz:\\n {A}')\n",
        "print(f'Vector b:\\n {b}')\n",
        "print(f'Vector solución:\\n {x}')\n",
        "print(f'Error según numpy.la: {err}')\n",
        "print(f'Error según la inversa: {err_inv}')\n",
        "#Los errores son casi iguales"
      ],
      "metadata": {
        "colab": {
          "base_uri": "https://localhost:8080/"
        },
        "id": "8O903LuQgfvA",
        "outputId": "bd6b21c4-2361-447e-cf1a-89f9ece0b148"
      },
      "execution_count": 42,
      "outputs": [
        {
          "output_type": "stream",
          "name": "stdout",
          "text": [
            "Matriz:\n",
            " [[0.88185345 0.4707825  0.74205358 0.24689668 0.92098693]\n",
            " [0.86528914 0.94172191 0.08678333 0.97788323 0.452602  ]\n",
            " [0.59250253 0.86369959 0.60966019 0.11576185 0.40535501]\n",
            " [0.14139508 0.1085549  0.4370603  0.75080455 0.07503924]\n",
            " [0.70187788 0.61349553 0.62747232 0.48696895 0.4449782 ]]\n",
            "Vector b:\n",
            " [[0.37782975]\n",
            " [0.54011472]\n",
            " [0.40975062]\n",
            " [0.10921528]\n",
            " [0.69265313]]\n",
            "Vector solución:\n",
            " [[-1.59141062e+11]\n",
            " [ 6.09086413e+10]\n",
            " [-2.92441446e+10]\n",
            " [ 2.40472626e+10]\n",
            " [ 1.81964045e+11]]\n",
            "Error según numpy.la: 69117619872.27577\n",
            "Error según la inversa: 69117619872.2758\n"
          ]
        }
      ]
    },
    {
      "cell_type": "markdown",
      "source": [
        "#4 Método de potencias para el valor propio dominante\n",
        "\n",
        "Sea \\$A\\in\\mathbb{R}^{n\\times n}\\$ diagonalizable con valor propio dominante \\$\\lambda\\_{\\max}\\$ (en magnitud) y vector propio asociado \\$v\\_{\\max}\\$.\n",
        "\n",
        "El método de potencias genera, a partir de un vector inicial \\$q^{(0)}\\neq 0\\$, la sucesión\n",
        "\n",
        "$$\n",
        "q^{(k+1)} \\;=\\; \\frac{A\\,q^{(k)}}{\\lVert A\\,q^{(k)}\\rVert_2},\n",
        "\\qquad\n",
        "\\lambda^{(k+1)} \\;=\\; (q^{(k+1)})^{\\!\\top} A\\, q^{(k+1)},\n",
        "$$\n",
        "\n",
        "que converge a \\$v\\_{\\max}/\\lVert v\\_{\\max}\\rVert\\_2\\$ y a \\$\\lambda\\_{\\max}\\$ respectivamente, bajo hipótesis estándar.\n",
        "\n",
        "Implemente `power_method(A, tol=1e-7, max_iter=1000)` que:\n",
        "\n",
        "   * Acepte matrices reales cuadradas,\n",
        "   * Devuelva \\$\\lambda\\_{\\max}\\$, el vector propio normalizado \\$v\\_{\\max}\\$, el número de iteraciones y la última variación relativa de \\$\\lambda\\$,\n",
        "   * detenga la iteración cuando\n",
        "     $\\bigl|\\lambda^{(k+1)}-\\lambda^{(k)}\\bigr|<\\text{tol}\\,|\\lambda^{(k+1)}|$\n",
        "     o se alcance `max_iter`.\n",
        "\n",
        "Luego,\n",
        "   * Genere una matriz simétrica aleatoria \\$6\\times6\\$ (por ejemplo, \\$A = (M+M^\\top)/2\\$ con \\$M\\$ aleatoria).\n",
        "   * Aplique su `power_method` y compare \\$\\lambda\\_{\\max}\\$ y \\$v\\_{\\max}\\$ con los resultados de `numpy.linalg.eig`."
      ],
      "metadata": {
        "id": "REVJcqYtnmM-"
      }
    },
    {
      "cell_type": "code",
      "source": [
        "def power_method(A, tol=1e-7, max_iter=1000):\n",
        "  \"\"\"\n",
        "  Eleva una matriz A.\n",
        "\n",
        "  Input:\n",
        "  A : La matriz que se desea elevar.\n",
        "  tol : Tolerancia de la convergencia.\n",
        "  max_iter : Número máximo de iteraciones.\n",
        "\n",
        "  Output:\n",
        "  λ_new : Mayor valor propio.\n",
        "  q_new : Vector propio.\n",
        "  iter : Número de iteraciones realizadas.\n",
        "  v_r : Variación relativa de λ.\n",
        "  \"\"\"\n",
        "  n, m = A.shape #Esto se asegura de que la matriz sea cuadrada\n",
        "  if n != m:\n",
        "    raise ValueError('La matriz no es cuadrada')\n",
        "\n",
        "  λ = 0\n",
        "  iter=0\n",
        "  q = np.random.rand(n) #Vector inicial aleatorio\n",
        "  while iter < max_iter: #Esto mantiene las interacciones en el rango deseado\n",
        "    q_new = (A @ q) / la.norm(A @ q) #Calculamos el nuevo vector q\n",
        "    λ_new = np.transpose(q_new) @ A @ q_new #Calculamos el nuevo valor de lambda\n",
        "    v_r=abs(λ_new - λ) #Calculamos la variación relativa de lambda\n",
        "    if abs(λ_new - λ) < tol:\n",
        "      return λ_new, q_new, iter+1,  abs(λ_new - λ)\n",
        "      break\n",
        "    elif iter == max_iter-1:\n",
        "      raise RuntimeError('Se alcanzarón las maximas iteraciones posibles')\n",
        "    iter+=1\n",
        "    λ = λ_new\n",
        "\n",
        "  return λ_new, q_new, iter, v_r"
      ],
      "metadata": {
        "id": "lPzFAOE7obZY"
      },
      "execution_count": 43,
      "outputs": []
    },
    {
      "cell_type": "code",
      "source": [
        "M = np.random.rand(6, 6)\n",
        "A = (M + np.transpose(M)) / 2\n",
        "\n",
        "λ_1, v1, i, v_r = power_method(A)\n",
        "λ_2, v2 = la.eig(A)\n",
        "idx_max = np.argmax(λ_2)\n",
        "\n",
        "print(f'λ_max según power_method: {λ_1}')\n",
        "print(f'v_max según power_method:\\n {v1}')\n",
        "print(f'Iteraciones: {i}')\n",
        "print(f'Variación final: {v_r}')\n",
        "print(f'λ_max según numpy: {λ_2[idx_max]}')\n",
        "print(f'v_max según numpy:\\n {v2[:, idx_max]}')"
      ],
      "metadata": {
        "colab": {
          "base_uri": "https://localhost:8080/"
        },
        "id": "NnnYB6EWlVCq",
        "outputId": "c75eace4-58b5-42ec-d762-2a97273d8306"
      },
      "execution_count": 45,
      "outputs": [
        {
          "output_type": "stream",
          "name": "stdout",
          "text": [
            "λ_max según power_method: 2.6103055590906608\n",
            "v_max según power_method:\n",
            " [0.3646532  0.46037765 0.48276924 0.37716604 0.31998091 0.42115593]\n",
            "Iteraciones: 9\n",
            "Variación final: 1.793528214832918e-08\n",
            "λ_max según numpy: 2.6103055620688473\n",
            "v_max según numpy:\n",
            " [-0.3646662  -0.46039903 -0.48275766 -0.37713561 -0.31999264 -0.42115291]\n"
          ]
        }
      ]
    },
    {
      "cell_type": "markdown",
      "source": [
        "#5\n",
        "\n",
        "Verifique que cualquier matriz hermitiana de 2 × 2 $ L $ puede escribirse como una suma de cuatro términos:\n",
        "\n",
        "$$ L = a\\sigma_x + b\\sigma_y + c\\sigma_z + dI $$\n",
        "\n",
        "donde $ a $, $ b $, $ c $ y $ d $ son números reales.\n",
        "\n",
        "Las cuatro matrices de Pauli son:\n",
        "\n",
        "$$ \\sigma_x = \\begin{pmatrix} 0 & 1 \\\\ 1 & 0 \\end{pmatrix}, \\quad \\sigma_y = \\begin{pmatrix} 0 & -i \\\\ i & 0 \\end{pmatrix}, \\quad \\sigma_z = \\begin{pmatrix} 1 & 0 \\\\ 0 & -1 \\end{pmatrix}, \\quad I = \\begin{pmatrix} 1 & 0 \\\\ 0 & 1 \\end{pmatrix} $$\n",
        "\n",
        "\n"
      ],
      "metadata": {
        "id": "iggu2jNwVpnK"
      }
    },
    {
      "cell_type": "code",
      "source": [
        "sigma_x = np.array([[0, 1], [1, 0]], dtype=complex)\n",
        "sigma_y = np.array([[0, -1j], [1j, 0]], dtype=complex)\n",
        "sigma_z = np.array([[1, 0], [0, -1]], dtype=complex)\n",
        "I = np.array([[1, 0], [0, 1]],dtype=complex)\n",
        "\n",
        "n=0\n",
        "Bool=[]\n",
        "while n<1000:\n",
        "  L_0 = np.random.rand(2, 2) + 1j\n",
        "  L = (L_0 + np.transpose(np.conjugate(L_0))) / 2\n",
        "  a = np.trace(L @ sigma_x) / 2\n",
        "  b = np.trace(L @ sigma_y) / 2\n",
        "  c = np.trace(L @ sigma_z) / 2\n",
        "  d = np.trace(L @ I) / 2\n",
        "  L_ = a * sigma_x + b * sigma_y + c * sigma_z + d * I\n",
        "\n",
        "  if np.allclose(L, L_) == False:\n",
        "    print(f'La condición no se cumple')\n",
        "    break\n",
        "  else:\n",
        "    n+=1\n",
        "if n==1000:\n",
        "  print(f'La condición se cumple')"
      ],
      "metadata": {
        "id": "8WN9_cOCV7cM",
        "colab": {
          "base_uri": "https://localhost:8080/"
        },
        "outputId": "ac50036e-5f95-4572-e8ce-63c486809e5b"
      },
      "execution_count": 60,
      "outputs": [
        {
          "output_type": "stream",
          "name": "stdout",
          "text": [
            "La condición se cumple\n"
          ]
        }
      ]
    },
    {
      "cell_type": "markdown",
      "source": [
        "# 6\n",
        "\n",
        "Haga un breve resumen en Markdown de las funciones y métodos más relevantes para algebra lineal usando Python. Emplee ejemplos."
      ],
      "metadata": {
        "id": "GnCw5_O5pMxl"
      }
    },
    {
      "cell_type": "code",
      "source": [],
      "metadata": {
        "id": "5KsJ7nops68a"
      },
      "execution_count": null,
      "outputs": []
    }
  ]
}