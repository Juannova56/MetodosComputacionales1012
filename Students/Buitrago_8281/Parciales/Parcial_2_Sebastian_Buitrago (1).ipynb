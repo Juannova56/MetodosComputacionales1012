{
  "nbformat": 4,
  "nbformat_minor": 0,
  "metadata": {
    "colab": {
      "provenance": []
    },
    "kernelspec": {
      "name": "python3",
      "display_name": "Python 3"
    },
    "language_info": {
      "name": "python"
    }
  },
  "cells": [
    {
      "cell_type": "markdown",
      "source": [
        "# Parcial I - Métodos Computacionales\n",
        "\n",
        "**2025-1**\n",
        "\n",
        "---\n",
        "\n",
        "Nombre:\n",
        "\n",
        "Identificación:\n",
        "\n",
        "---\n",
        "\n",
        "* ⚠ Explique su código usando con comentarios,\n",
        "\n",
        "* ❗Todas las funciones deben tener documentación básica,\n",
        "\n",
        "* 🛑 El uso de IA's no está permitido,\n",
        "\n",
        "* ⚛ La interpretación del enunciado hace parte de la evaluación,\n",
        "\n",
        "* ⏲ Este parcial tiene una duración de 2 horas"
      ],
      "metadata": {
        "id": "bcIQtfNJ4sBq"
      }
    },
    {
      "cell_type": "code",
      "source": [
        "# Librerias útiles\n",
        "import numpy as np\n",
        "import matplotlib.pyplot as plt\n",
        "import pandas as pd\n",
        "from math import factorial\n",
        "from scipy.optimize import root_scalar, newton, bisect # Funciones para raices\n",
        "\n",
        "## Ayudas\n",
        "# np.sign (Signo de una variable)\n",
        "# np.deg2rad (Convertir grados a radianes)\n",
        "# pd.Dataframe Genera un dataframe a partir de un diccionario o listas\n",
        "# range(0, 10, 2) (Pasos de 2 comenzando en 0 hasta 10)"
      ],
      "metadata": {
        "id": "-86TwvuE48Kp"
      },
      "execution_count": 6,
      "outputs": []
    },
    {
      "cell_type": "markdown",
      "source": [
        "# 1\n",
        "\n",
        "**(40 puntos)** El **método de Ridder** es un algoritmo de búsqueda de raíces que, como la bisección, requiere un intervalo $[a, b]$ tal que $f(a) \\cdot f(b) < 0$. A diferencia de la bisección, Ridder introduce una corrección exponencial para acelerar la convergencia, logrando **convergencia cuadrática** sin requerir derivadas.\n",
        "\n",
        "---\n",
        "### Pasos para implementar\n",
        "\n",
        "1. **Definir la función** $f(x)$ y un intervalo $[a, b]$ tal que:\n",
        "\n",
        "   - $f(a) \\cdot f(b) < 0$ (la función tiene signos opuestos en los extremos del intervalo).\n",
        "   - La función debe ser continua en $[a, b]$.\n",
        "\n",
        "2. **Calcular el punto medio**:\n",
        "\n",
        "   $$\n",
        "   m = \\frac{a + b}{2}\n",
        "   $$\n",
        "\n",
        "3. **Calcular la corrección exponencial**:\n",
        "\n",
        "   - Evaluar $f(a)$, $f(b)$ y $f(m)$.\n",
        "   - Calcular:\n",
        "\n",
        "     $$\n",
        "     s = \\sqrt{f(m)^2 - f(a) f(b)}\n",
        "     $$\n",
        "\n",
        "   - Si $s = 0$, detener: la raíz no puede estimarse en esta iteración.\n",
        "\n",
        "   - Calcular el nuevo candidato a raíz:\n",
        "\n",
        "     $$\n",
        "     x = m + \\frac{(m - a) f(m)}{s} \\cdot \\text{sign}(f(a) - f(b))\n",
        "     $$\n",
        "\n",
        "4. **Evaluar $f(x)$** y actualizar el intervalo:\n",
        "\n",
        "   - Si $f(m) \\cdot f(x) < 0$, entonces la nueva raíz está entre $m$ y $x$.\n",
        "   - Si $f(a) \\cdot f(x) < 0$, entonces actualizar $b = x$, luego $f(b) = f(x)$.\n",
        "   - Si $f(b) \\cdot f(x) < 0$, entonces actualizar $a = x$, luego $f(a) = f(x)$.\n",
        "   - En cada paso mantener la condición $f(a) \\cdot f(b) < 0$.\n",
        "\n",
        "5. **Criterio de parada**:\n",
        "\n",
        "   - Repetir los pasos anteriores hasta que se alcance la tolerancia deseada:\n",
        "\n",
        "     $$\n",
        "     |f(x)| < \\varepsilon \\quad \\text{o} \\quad |b - a| < \\delta\n",
        "     $$\n",
        "\n",
        "   donde $\\varepsilon$ y $\\delta$ son tolerancias establecidas por el usuario.\n",
        "\n",
        "---\n",
        "\n",
        "* Defina una función llamada `Ridder` que calcule la raiz de una función dada. Su función debe tener documentación y retornar el valor de la raiz junto con el número de iteraciones empleadas para alcanzar la convergencia dada una tolerancia.\n",
        "\n",
        "* Usando\n",
        "$$\\cos(x) = x,$$\n",
        "\n",
        "Grafique la función para $0\\leq x \\leq \\pi/2$ usando 100 puntos. Luego, cree un DataFrame con los datos de $x$ y $f(x)$, y encuentre una primera aproximación a la raiz aplicando un filtro en el dataframe con los valores más cercanos a cero.\n",
        "\n",
        "* Usando el método de Ridder encuentre la raiz númericamente y compare su resultado usando el método de bisección y secante.\n",
        "\n",
        "* Para las siguientes tolerancias (ver código) realice un gráfico usando escala logaritimica en $y$ de cuantas iteraciones son necesarias hasta alcanzar la convergencia. ¿Qué puede concluir acerca de la misma?\n",
        "\n",
        "```python\n",
        "# Tolerancias\n",
        "tol = np.logspace(-1, -20, 20)\n",
        "\n",
        "# Grafico semilog\n",
        "\n",
        "plt.semilogy(N, tol)\n",
        "\n",
        "```"
      ],
      "metadata": {
        "id": "rNIchL-H5ZII"
      }
    },
    {
      "cell_type": "code",
      "source": [
        "def ridder(f,a,b,tol=1e-8,max_iter=100):\n",
        "  'A esta funcion le entran:'\n",
        "  ''\n",
        "  n=0\n",
        "  terminos=[]\n",
        "  while n < max_iter:\n",
        "      m=(a+b)/2\n",
        "      s=np.sqrt((f(m)**2)-(f(a)*f(b)))\n",
        "      if s==0:\n",
        "        raise ValueError(\"La raíz no puede estimarse en esta iteración\")\n",
        "      x=m+(((m-a)*f(m))/(s))*np.sign(f(a)-f(b))\n",
        "      if f(m)*f(x)<0:\n",
        "        a=m\n",
        "        b=x\n",
        "      elif f(a)*f(x)<0:\n",
        "        b=x\n",
        "      else:\n",
        "        a=x\n",
        "      terminos.append(x)\n",
        "      n+=1\n",
        "      if abs(f(x))<tol:\n",
        "        return x, n+1"
      ],
      "metadata": {
        "id": "phBAIpoX7Y9W"
      },
      "execution_count": 93,
      "outputs": []
    },
    {
      "cell_type": "code",
      "source": [
        "f= lambda x: x-np.cos(x)\n",
        "x=np.linspace(0,np.pi/2,100)\n",
        "raiz, iteraciones = ridder(f,1,np.pi/2)\n",
        "\n",
        "df = pd.DataFrame({'x':x,'f(x)':f(x)})\n",
        "\n",
        "print(df[(df['f(x)']<0.1)&(df['f(x)']>-0.1)])\n",
        "\n",
        "\n",
        "plt.plot(x,f(x),color=\"purple\")\n",
        "plt.axhline(0, color =\"black\", ls =\"--\")\n",
        "plt.scatter(raiz,0, color =\"olive\")\n",
        "plt.xlabel(\"x\")\n",
        "plt.ylabel (\"cos(x)\")\n",
        "plt.grid()\n",
        "plt.show()"
      ],
      "metadata": {
        "colab": {
          "base_uri": "https://localhost:8080/",
          "height": 211
        },
        "id": "38e7o1xO3LCL",
        "outputId": "23ac6390-0b5c-4363-9bfa-f77d832a6bdf"
      },
      "execution_count": 97,
      "outputs": [
        {
          "output_type": "error",
          "ename": "AttributeError",
          "evalue": "'list' object has no attribute 'DataFrame'",
          "traceback": [
            "\u001b[0;31m---------------------------------------------------------------------------\u001b[0m",
            "\u001b[0;31mAttributeError\u001b[0m                            Traceback (most recent call last)",
            "\u001b[0;32m<ipython-input-97-fb978ba3f7a0>\u001b[0m in \u001b[0;36m<cell line: 0>\u001b[0;34m()\u001b[0m\n\u001b[1;32m      3\u001b[0m \u001b[0mraiz\u001b[0m\u001b[0;34m,\u001b[0m \u001b[0miteraciones\u001b[0m \u001b[0;34m=\u001b[0m \u001b[0mridder\u001b[0m\u001b[0;34m(\u001b[0m\u001b[0mf\u001b[0m\u001b[0;34m,\u001b[0m\u001b[0;36m1\u001b[0m\u001b[0;34m,\u001b[0m\u001b[0mnp\u001b[0m\u001b[0;34m.\u001b[0m\u001b[0mpi\u001b[0m\u001b[0;34m/\u001b[0m\u001b[0;36m2\u001b[0m\u001b[0;34m)\u001b[0m\u001b[0;34m\u001b[0m\u001b[0;34m\u001b[0m\u001b[0m\n\u001b[1;32m      4\u001b[0m \u001b[0;34m\u001b[0m\u001b[0m\n\u001b[0;32m----> 5\u001b[0;31m \u001b[0mdf\u001b[0m \u001b[0;34m=\u001b[0m \u001b[0mpd\u001b[0m\u001b[0;34m.\u001b[0m\u001b[0mDataFrame\u001b[0m\u001b[0;34m(\u001b[0m\u001b[0;34m{\u001b[0m\u001b[0;34m'x'\u001b[0m\u001b[0;34m:\u001b[0m\u001b[0mx\u001b[0m\u001b[0;34m,\u001b[0m\u001b[0;34m'f(x)'\u001b[0m\u001b[0;34m:\u001b[0m\u001b[0mf\u001b[0m\u001b[0;34m(\u001b[0m\u001b[0mx\u001b[0m\u001b[0;34m)\u001b[0m\u001b[0;34m}\u001b[0m\u001b[0;34m)\u001b[0m\u001b[0;34m\u001b[0m\u001b[0;34m\u001b[0m\u001b[0m\n\u001b[0m\u001b[1;32m      6\u001b[0m \u001b[0;34m\u001b[0m\u001b[0m\n\u001b[1;32m      7\u001b[0m \u001b[0mprint\u001b[0m\u001b[0;34m(\u001b[0m\u001b[0mdf\u001b[0m\u001b[0;34m[\u001b[0m\u001b[0;34m(\u001b[0m\u001b[0mdf\u001b[0m\u001b[0;34m[\u001b[0m\u001b[0;34m'f(x)'\u001b[0m\u001b[0;34m]\u001b[0m\u001b[0;34m<\u001b[0m\u001b[0;36m0.1\u001b[0m\u001b[0;34m)\u001b[0m\u001b[0;34m&\u001b[0m\u001b[0;34m(\u001b[0m\u001b[0mdf\u001b[0m\u001b[0;34m[\u001b[0m\u001b[0;34m'f(x)'\u001b[0m\u001b[0;34m]\u001b[0m\u001b[0;34m>\u001b[0m\u001b[0;34m-\u001b[0m\u001b[0;36m0.1\u001b[0m\u001b[0;34m)\u001b[0m\u001b[0;34m]\u001b[0m\u001b[0;34m)\u001b[0m\u001b[0;34m\u001b[0m\u001b[0;34m\u001b[0m\u001b[0m\n",
            "\u001b[0;31mAttributeError\u001b[0m: 'list' object has no attribute 'DataFrame'"
          ]
        }
      ]
    },
    {
      "cell_type": "code",
      "source": [
        "raiz_biseccion=bisect(f, -np.pi/2,np.pi/2)\n",
        "print(f'Metodo de bisección:', raiz_biseccion)\n",
        "\n",
        "raiz_newton=newton(f,-np.pi/2,x1=np.pi/2)\n",
        "print(f'Metodo de secante:', raiz_newton)\n",
        "\n",
        "print(f'Metodo Ridder:', raiz)\n",
        "\n",
        "#El metodo Ridder es un poco menos eficiente que los metodos de bisección y Newton-Raphson"
      ],
      "metadata": {
        "colab": {
          "base_uri": "https://localhost:8080/"
        },
        "id": "Ri-Rdxi6oQ4q",
        "outputId": "d8087638-52fc-4a22-8bde-00828e197f0e"
      },
      "execution_count": 100,
      "outputs": [
        {
          "output_type": "stream",
          "name": "stdout",
          "text": [
            "Metodo de bisección: 0.7390851332152737\n",
            "Metodo de secante: 0.7390851332151585\n",
            "Metodo Ridder: 0.7390851334994524\n"
          ]
        }
      ]
    },
    {
      "cell_type": "code",
      "source": [
        "tol = np.logspace(-1, -20, 20)\n",
        "plt.semilogy(N, tol)"
      ],
      "metadata": {
        "id": "1HGlOmm-ujRw"
      },
      "execution_count": null,
      "outputs": []
    },
    {
      "cell_type": "markdown",
      "source": [
        "#2\n",
        "\n",
        "**(60 puntos)** En óptica, cuando un rayo de luz atraviesa la interfaz entre dos medios con diferentes índices de refracción, su dirección cambia según la ley de Snell. Para el caso de un prisma triangular, cuando un rayo emerge después de dos refracciones, el ángulo de desviación total $\\delta$ está dado por:\n",
        "\n",
        "$$\\delta(\\theta_i) = \\theta_i + \\arcsin\\left(n\\sin\\left(A - \\arcsin\\left(\\frac{\\sin\\theta_i}{n}\\right)\\right)\\right) - A$$\n",
        "\n",
        "donde $\\theta_i$ es el ángulo de incidencia, $n$ es el índice de refracción del prisma y $A$ es el ángulo del prisma.\n",
        "\n",
        "La derivada de esta función con respecto al ángulo de incidencia $\\theta_i$ es:\n",
        "\n",
        "$$\\frac{d\\delta}{d\\theta_i} = 1 - \\frac{\\cos\\theta_i \\cdot \\cos(A-\\theta_r)}{\\cos\\theta_r \\cdot \\sqrt{1-n^2\\sin^2(A-\\theta_r)}}$$\n",
        "\n",
        "donde $\\theta_r = \\arcsin\\left(\\frac{\\sin\\theta_i}{n}\\right)$ es el ángulo de refracción en la primera interfaz.\n",
        "\n",
        "Considere un prisma de vidrio crown con $n = 1.52$ y $A = 60°$.\n",
        "\n",
        "### Parte A:\n",
        "* Escriba una función explicita y documentada para $\\frac{d\\delta}{d\\theta_i}$\n",
        "\n",
        "* Realice un gráfico para $\\frac{d\\delta}{d\\theta_i}$ y encuentre el ángulo de incidencia $\\theta_i$ que produce el ángulo de desviación mínimo para $\\theta_i \\in [30°, 80°]$.\n",
        "\n",
        "* Use el método de Newton-Raphson (sin derivada) y el método de la secante para hallar el ángulo de desviación mínimo.\n",
        "\n",
        "\n",
        "### Parte B:\n",
        "* Determine el ángulo crítico $\\theta_c$ para el cual el rayo comienza a experimentar reflexión interna total en la segunda interfaz del prisma. Esta condición ocurre cuando:\n",
        "\n",
        "$$\\sin(A - \\theta_r) = \\frac{1}{n}$$\n",
        "\n",
        "* Resuelva numéricamente la ecuación anterior para encontrar el ángulo de incidencia $\\theta_i$ correspondiente a este ángulo crítico, utilizando el método de la bisección.\n",
        "\n",
        "\n",
        "\n"
      ],
      "metadata": {
        "id": "od2GDFK5-QJC"
      }
    },
    {
      "cell_type": "code",
      "source": [
        "# Aquí va su código"
      ],
      "metadata": {
        "id": "hkHRzyB9-mSS"
      },
      "execution_count": null,
      "outputs": []
    }
  ]
}