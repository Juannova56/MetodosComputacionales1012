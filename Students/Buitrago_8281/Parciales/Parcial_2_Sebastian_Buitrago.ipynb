{
  "nbformat": 4,
  "nbformat_minor": 0,
  "metadata": {
    "colab": {
      "provenance": []
    },
    "kernelspec": {
      "name": "python3",
      "display_name": "Python 3"
    },
    "language_info": {
      "name": "python"
    }
  },
  "cells": [
    {
      "cell_type": "code",
      "execution_count": 1,
      "metadata": {
        "id": "7Y1lCE6sq6dB"
      },
      "outputs": [],
      "source": [
        "import numpy as np # Númerica\n",
        "import matplotlib.pyplot as plt # Gráficas\n",
        "from scipy.interpolate import CubicSpline, lagrange, interp1d # Interpolación\n",
        "from scipy.integrate import quad, dblquad, tplquad, trapezoid, simpson # Integración\n",
        "import sympy as sp # Símbolos"
      ]
    },
    {
      "cell_type": "markdown",
      "source": [
        "# ⚠ Importante\n",
        "\n",
        "👁 Puede usar unicamente las librerias vistas en clase (estas están en la parte superior) en caso de agregar una nueva, debe justificarla.\n",
        "\n",
        "💀 No está permitido el uso de IA's en caso de hacerlo su parcial será **anulado**!\n",
        "\n",
        "❗ Comente su código y funciones, esto hace parte de la nota.\n",
        "\n",
        "✅ Responda ordenadamente y con claridad.\n",
        "\n",
        "\n",
        "### Nombre: Juan Sebastian Buitrago Díaz"
      ],
      "metadata": {
        "id": "ejroOZ4F4qg3"
      }
    },
    {
      "cell_type": "markdown",
      "source": [
        "# 1\n",
        "\n",
        "**(30 puntos)** Sea la función $f(x) = 3^x$,\n",
        "\n",
        "---\n",
        "\n",
        "a. Defina una función llamada derivada (ver abajo) que encuentre el valor de la derivada en $x=2$ usando diferencias finitas centrales,\n",
        "\n",
        "$$\n",
        "f'(x) ≈ \\frac{f(x+h) - f(x-h)}{2h}\n",
        "$$\n",
        "\n",
        "con una tolerancia menor a $10^{-8}$ y que retorne el valor de $f'(x=2)$ para cada valor de $h$. Tome con $h$ inicial 0.1.\n",
        "\n",
        "---\n",
        "\n",
        "b. Realice un gráfico logaritmico del error absoluto asociado a $f'(x)$ en función de $h$, conociendo que\n",
        "\n",
        "$$\n",
        "\\frac{d}{dx}(b^x) = b^x\\ln b\n",
        "$$\n",
        "\n",
        "\n",
        "\n",
        "\n",
        "\n",
        "```python\n",
        "def derivada(f,x, tol = 1e-8):\n",
        "'''\n",
        "Recuerde hacer su documentación\n",
        "'''\n",
        "\n",
        "  return valor_derivada, h_valores\n",
        "```\n",
        "\n"
      ],
      "metadata": {
        "id": "wNcvYgSvMr0P"
      }
    },
    {
      "cell_type": "code",
      "source": [
        "def derivada(f,x, tol = 1e-8):\n",
        "  '''\n",
        "  Encuentra el valor de la derivada con una tolerancia de 10^-8\n",
        "\n",
        "  Entradas:\n",
        "  f: La función función a derivar (debe ser llamable)\n",
        "  x: El valor en el cual se evalúa la derivada\n",
        "\n",
        "  Salidas:\n",
        "  valor_derivada: El valor de la función derivada evaluada en x\n",
        "  h_valores: Los valores del paso\n",
        "  '''\n",
        "  h=0.1\n",
        "  h_valores=[]\n",
        "  dev_0=0\n",
        "  dev_1=(f(x+h)-f(x-h))/(2*h)\n",
        "  err=abs(dev_0-dev_1)\n",
        "  while err > tol:\n",
        "    h=h/2\n",
        "    h_valores.append(h)\n",
        "    dev_0=dev_1\n",
        "    dev_1=(f(x+h)-f(x-h))/(2*h)\n",
        "    err=abs(dev_0-dev_1)\n",
        "  valor_derivada=dev_1\n",
        "  return valor_derivada, h_valores"
      ],
      "metadata": {
        "id": "fifYPyLU2mSN"
      },
      "execution_count": 50,
      "outputs": []
    },
    {
      "cell_type": "code",
      "source": [
        "f=lambda x:3**x\n",
        "df,h_valores=derivada(f,2)\n",
        "error= [abs((np.log(3)*3**2)-(f(2+h)-f(2-h))/(2*h)) for h in h_valores]\n",
        "\n",
        "plt.loglog(h_valores,error,color=\"hotpink\",ls=\"-.\")\n",
        "plt.scatter(h_valores,error,color=\"purple\")\n",
        "plt.title(\"Error como función del paso\")\n",
        "plt.xlabel(\"H\")\n",
        "plt.ylabel(\"Error(h)\")\n",
        "plt.grid()\n",
        "plt.show()"
      ],
      "metadata": {
        "colab": {
          "base_uri": "https://localhost:8080/",
          "height": 477
        },
        "id": "6nY-cyDk0QpZ",
        "outputId": "40b9b53a-965a-4699-c189-f0df0b87d91a"
      },
      "execution_count": 63,
      "outputs": [
        {
          "output_type": "display_data",
          "data": {
            "text/plain": [
              "<Figure size 640x480 with 1 Axes>"
            ],
            "image/png": "[encoded data removed]"
          },
          "metadata": {}
        }
      ]
    },
    {
      "cell_type": "markdown",
      "source": [
        "## 2\n",
        "\n",
        "**(40 puntos)** Considere un fluido viscoso que fluye en régimen laminar a través de una tubería cilíndrica horizontal de radio $R = 1.0\\ \\text{cm}$. Se ha medido experimentalmente la velocidad axial del fluido en distintos radios desde el centro de la tubería ($r = 0$) hasta la pared ($r = R$). Los datos obtenidos son:\n",
        "\n",
        "| $r$ (cm) | $v(r)$ (cm/s) |\n",
        "|----------|---------------|\n",
        "| 0.0      | 2.00          |\n",
        "| 0.2      | 1.92          |\n",
        "| 0.4      | 1.68          |\n",
        "| 0.6      | 1.28          |\n",
        "| 0.8      | 0.72          |\n",
        "| 1.0      | 0.00          |\n",
        "\n",
        "Con base en estos datos responda:\n",
        "\n",
        "---\n",
        "\n",
        "**a.** Encuentre una expresión para el polinomio interpolador de **Lagrange** para $v(r)$.\n",
        "\n",
        "---\n",
        "\n",
        "**b.** Usando las funciones obtenidas por **Lagrange** y **CubicSpline**, haga un gráfico donde se muestre el comportamiento de ambas interpolaciones, comparándolas con los datos experimentales.\n",
        "\n",
        "---\n",
        "\n",
        "**c.** Calcule la derivada $\\frac{dv}{dr}$, correspondiente al **gradiente de velocidad radial** usando los datos procedentes de la interpolación CubicSpline. Use `np.gradient` con $h = 10^{-4}$.\n",
        "\n",
        "---\n",
        "\n",
        "**d.** Determine el **esfuerzo cortante** en el fluido, dado por:\n",
        "\n",
        "$$\n",
        "\\tau(r) = \\mu \\frac{dv}{dr},\n",
        "$$\n",
        "\n",
        "donde $\\mu = 0.001\\ \\text{Pa}\\cdot\\text{s}$ es la viscosidad dinámica del fluido. Grafique $\\tau(r)$ para $r \\in [0, 1]$.\n",
        "\n",
        "---\n",
        "\n"
      ],
      "metadata": {
        "id": "UmhjjdEyBL7R"
      }
    },
    {
      "cell_type": "code",
      "source": [
        "# Aquí va su código"
      ],
      "metadata": {
        "id": "qBbt3yi322-3"
      },
      "execution_count": null,
      "outputs": []
    },
    {
      "cell_type": "markdown",
      "source": [
        "# 3\n",
        "\n",
        "**(30 puntos)** Considere un sólido tetraédrico $R$ delimitado por los planos:\n",
        "\n",
        "- $x = 0$, $y = 0$, $z = 0$,  \n",
        "- y el plano $x + y + z = 1$.\n",
        "\n",
        "Este sólido ocupa una región en el primer octante y está contenido completamente dentro del cubo unidad.\n",
        "\n",
        "La densidad del sólido es variable y está dada por $\\rho(x, y, z) = xyz$ [kg/m³].\n",
        "\n",
        "Considere:\n",
        "\n",
        "\n",
        "$$\n",
        "\\iiint_R f(x,y,z)\\, dV = \\int_0^1 \\int_0^{1-x} \\int_0^{1-x-y} f(x,y,z)\\, dz\\, dy\\, dx\n",
        "$$\n",
        "\n",
        "con\n",
        "\n",
        "$$\n",
        "dV = dz\\,dy\\,dx\n",
        "$$\n",
        "\n",
        "---\n",
        "\n",
        "a. Calcule la **masa total** del sólido:\n",
        "\n",
        "$$\n",
        "m = \\iiint_R \\rho(x, y, z)\\, dV.\n",
        "$$\n",
        "\n",
        "Usando la forma iterativa de `quad`, compare su resultado con `tplquad`.\n",
        "\n",
        "---\n",
        "\n",
        "b. Calcule el **momento de inercia respecto a los ejes $x$ y $z$**, definidos como:\n",
        "\n",
        "$$\n",
        "I_z = \\iiint_R (x^2 + y^2)\\, \\rho(x, y, z)\\, dV.\n",
        "$$\n",
        "\n",
        "$$\n",
        "I_x = \\iiint_R (y^2 + z^2)\\, \\rho(x, y, z)\\, dV.\n",
        "$$\n",
        "\n",
        "Puede usar la forma iterativa de `quad` o `tplquad`.\n",
        "\n",
        "\n",
        "\n"
      ],
      "metadata": {
        "id": "Qu0LchSUBfh4"
      }
    },
    {
      "cell_type": "code",
      "source": [
        "def integral_z(y,x):\n",
        "  '''\n",
        "  Encuentra el valor de la integral interior\n",
        "\n",
        "  Entradas:\n",
        "  x: Una de las variables a integrar\n",
        "  y: La otra variable a integrar\n",
        "\n",
        "  Salidas:\n",
        "  El valor de dicha integral\n",
        "  '''\n",
        "  itg=lambda z: z*x*y\n",
        "  return quad(itg,0,1-x-y)[0]\n",
        "\n",
        "def integral_y(x):\n",
        "  '''\n",
        "  Encuentra el valor de la integral interior\n",
        "\n",
        "  Entradas:\n",
        "  x: La variable a integrar\n",
        "\n",
        "  Salidas:\n",
        "  El valor de dicha integral\n",
        "  '''\n",
        "  itg = lambda y: integral_z(y,x)\n",
        "  return quad(itg,0,1-x)[0]\n",
        "\n",
        "print(f'El valor de la masa encontrado con el metodo tplquad {(quad(integral_y,0,1))[0]}')"
      ],
      "metadata": {
        "id": "7EXQFhCI24pU",
        "colab": {
          "base_uri": "https://localhost:8080/"
        },
        "outputId": "0f1128c7-8075-4cc9-9375-9ad2cc2a6a0c"
      },
      "execution_count": 82,
      "outputs": [
        {
          "output_type": "stream",
          "name": "stdout",
          "text": [
            "El valor de la masa encontrado con el metodo tplquad 0.001388888888888889\n"
          ]
        }
      ]
    },
    {
      "cell_type": "code",
      "source": [
        "f=lambda z,y,x:x*y*z\n",
        "print(f'El valor de la masa encontrado con el metodo tplquad {(tplquad(f,0,1,0,lambda x:1-x,0,lambda x,y:1-x-y))[0]}')"
      ],
      "metadata": {
        "colab": {
          "base_uri": "https://localhost:8080/"
        },
        "id": "U2c7RfGHCPms",
        "outputId": "fc032108-157c-4d6e-de17-8131ee42d48f"
      },
      "execution_count": 83,
      "outputs": [
        {
          "output_type": "stream",
          "name": "stdout",
          "text": [
            "El valor de la masa encontrado con el metodo tplquad 0.001388888888888889\n"
          ]
        }
      ]
    },
    {
      "cell_type": "code",
      "source": [
        "f=lambda z,y,x:((x**2)+(y**2))*x*y*z\n",
        "print(f'El momento de inercia en el eje Z encontrado con el metodo tplquad {(tplquad(f,0,1,0,lambda x:1-x,0,lambda x,y:1-x-y))[0]}')"
      ],
      "metadata": {
        "colab": {
          "base_uri": "https://localhost:8080/"
        },
        "id": "Tk5mR2aTDX62",
        "outputId": "54b0c7a3-3e94-4a5c-ec0a-182ff6eaaa35"
      },
      "execution_count": 85,
      "outputs": [
        {
          "output_type": "stream",
          "name": "stdout",
          "text": [
            "El momento de inercia en el eje Z encontrado con el metodo tplquad 0.00029761904761904765\n"
          ]
        }
      ]
    }
  ]
}