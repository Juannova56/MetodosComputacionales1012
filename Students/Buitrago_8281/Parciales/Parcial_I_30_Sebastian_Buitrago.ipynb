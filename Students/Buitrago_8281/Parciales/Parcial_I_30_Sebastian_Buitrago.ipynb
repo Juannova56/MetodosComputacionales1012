{
  "nbformat": 4,
  "nbformat_minor": 0,
  "metadata": {
    "colab": {
      "provenance": []
    },
    "kernelspec": {
      "name": "python3",
      "display_name": "Python 3"
    },
    "language_info": {
      "name": "python"
    }
  },
  "cells": [
    {
      "cell_type": "markdown",
      "source": [
        "# Parcial I - Métodos Computacionales\n",
        "\n",
        "**2025-1**\n",
        "\n",
        "---\n",
        "\n",
        "Nombre:\n",
        "\n",
        "Identificación:\n",
        "\n",
        "---\n",
        "\n",
        "* ⚠ Explique su código usando con comentarios,\n",
        "\n",
        "* ❗Todas las funciones deben tener documentación básica,\n",
        "\n",
        "* 🛑 El uso de IA's no está permitido,\n",
        "\n",
        "* ⚛ La interpretación del enunciado hace parte de la evaluación,\n",
        "\n",
        "* ⏲ Este parcial tiene una duración de 2 horas"
      ],
      "metadata": {
        "id": "bcIQtfNJ4sBq"
      }
    },
    {
      "cell_type": "code",
      "source": [
        "# Librerias útiles\n",
        "import numpy as np\n",
        "import matplotlib.pyplot as plt\n",
        "import pandas as pd\n",
        "from math import factorial\n",
        "from scipy.optimize import root_scalar, newton, bisect # Funciones para raices\n",
        "\n",
        "## Ayudas\n",
        "# np.sign (Signo de una variable)\n",
        "# np.deg2rad (Convertir grados a radianes)\n",
        "# pd.Dataframe Genera un dataframe a partir de un diccionario o listas\n",
        "# range(0, 10, 2) (Pasos de 2 comenzando en 0 hasta 10)"
      ],
      "metadata": {
        "id": "-86TwvuE48Kp"
      },
      "execution_count": 2,
      "outputs": []
    },
    {
      "cell_type": "markdown",
      "source": [
        "# 1\n",
        "\n",
        "**(40 puntos)** El **método de Ridder** es un algoritmo de búsqueda de raíces que, como la bisección, requiere un intervalo $[a, b]$ tal que $f(a) \\cdot f(b) < 0$. A diferencia de la bisección, Ridder introduce una corrección exponencial para acelerar la convergencia, logrando **convergencia cuadrática** sin requerir derivadas.\n",
        "\n",
        "---\n",
        "### Pasos para implementar\n",
        "\n",
        "1. **Definir la función** $f(x)$ y un intervalo $[a, b]$ tal que:\n",
        "\n",
        "   - $f(a) \\cdot f(b) < 0$ (la función tiene signos opuestos en los extremos del intervalo).\n",
        "   - La función debe ser continua en $[a, b]$.\n",
        "\n",
        "2. **Calcular el punto medio**:\n",
        "\n",
        "   $$\n",
        "   m = \\frac{a + b}{2}\n",
        "   $$\n",
        "\n",
        "3. **Calcular la corrección exponencial**:\n",
        "\n",
        "   - Evaluar $f(a)$, $f(b)$ y $f(m)$.\n",
        "   - Calcular:\n",
        "\n",
        "     $$\n",
        "     s = \\sqrt{f(m)^2 - f(a) f(b)}\n",
        "     $$\n",
        "\n",
        "   - Si $s = 0$, detener: la raíz no puede estimarse en esta iteración.\n",
        "\n",
        "   - Calcular el nuevo candidato a raíz:\n",
        "\n",
        "     $$\n",
        "     x = m + \\frac{(m - a) f(m)}{s} \\cdot \\text{sign}(f(a) - f(b))\n",
        "     $$\n",
        "\n",
        "4. **Evaluar $f(x)$** y actualizar el intervalo:\n",
        "\n",
        "   - Si $f(m) \\cdot f(x) < 0$, entonces la nueva raíz está entre $m$ y $x$.\n",
        "   - Si $f(a) \\cdot f(x) < 0$, entonces actualizar $b = x$, luego $f(b) = f(x)$.\n",
        "   - Si $f(b) \\cdot f(x) < 0$, entonces actualizar $a = x$, luego $f(a) = f(x)$.\n",
        "   - En cada paso mantener la condición $f(a) \\cdot f(b) < 0$.\n",
        "\n",
        "5. **Criterio de parada**:\n",
        "\n",
        "   - Repetir los pasos anteriores hasta que se alcance la tolerancia deseada:\n",
        "\n",
        "     $$\n",
        "     |f(x)| < \\varepsilon \\quad \\text{o} \\quad |b - a| < \\delta\n",
        "     $$\n",
        "\n",
        "   donde $\\varepsilon$ y $\\delta$ son tolerancias establecidas por el usuario.\n",
        "\n",
        "---\n",
        "\n",
        "* Defina una función llamada `Ridder` que calcule la raiz de una función dada. Su función debe tener documentación y retornar el valor de la raiz junto con el número de iteraciones empleadas para alcanzar la convergencia dada una tolerancia.\n",
        "\n",
        "* Usando\n",
        "$$\\cos(x) = x,$$\n",
        "\n",
        "Grafique la función para $0\\leq x \\leq \\pi/2$ usando 100 puntos. Luego, cree un DataFrame con los datos de $x$ y $f(x)$, y encuentre una primera aproximación a la raiz aplicando un filtro en el dataframe con los valores más cercanos a cero.\n",
        "\n",
        "* Usando el método de Ridder encuentre la raiz númericamente y compare su resultado usando el método de bisección y secante.\n",
        "\n",
        "* Para las siguientes tolerancias (ver código) realice un gráfico usando escala logaritimica en $y$ de cuantas iteraciones son necesarias hasta alcanzar la convergencia. ¿Qué puede concluir acerca de la misma?\n",
        "\n",
        "```python\n",
        "# Tolerancias\n",
        "tol = np.logspace(-1, -20, 20)\n",
        "\n",
        "# Grafico semilog\n",
        "\n",
        "plt.semilogy(N, tol)\n",
        "\n",
        "```"
      ],
      "metadata": {
        "id": "rNIchL-H5ZII"
      }
    },
    {
      "cell_type": "code",
      "source": [
        "def ridder(f,a,b,tol=1e-8,max_iter=100):\n",
        "  # Documentación de la función Ridder\n",
        "  '''\n",
        "  Esta función implementa el método de Ridder para encontrar la raíz de una función.\n",
        "\n",
        "  Parámetros:\n",
        "  f (function): La función para la cual se busca la raíz.\n",
        "  a (float): El límite inferior del intervalo.\n",
        "  b (float): El límite superior del intervalo.\n",
        "  tol (float, optional): La tolerancia para el criterio de parada. Por defecto es 1e-8.\n",
        "  max_iter (int, optional): El número máximo de iteraciones permitidas. Por defecto es 100.\n",
        "\n",
        "  Retorna:\n",
        "  tuple: Una tupla que contiene la raíz encontrada y el número de iteraciones.\n",
        "\n",
        "  Raises:\n",
        "  ValueError: Si s es igual a 0 en alguna iteración.\n",
        "  '''\n",
        "  n=0 # Inicializa el contador de iteraciones\n",
        "  terminos=[] # Inicializa una lista para almacenar los términos (aunque no se usa en el retorno)\n",
        "  while n < max_iter: # Bucle principal que se ejecuta hasta el número máximo de iteraciones\n",
        "      m=(a+b)/2 # Calcula el punto medio del intervalo\n",
        "      # Calcula el término s de la corrección exponencial\n",
        "      s=np.sqrt((f(m)**2)-(f(a)*f(b)))\n",
        "      if s==0:\n",
        "        # Lanza un error si s es 0, indicando que la raíz no puede estimarse\n",
        "        raise ValueError(\"La raíz no puede estimarse en esta iteración\")\n",
        "      # Calcula el nuevo candidato a raíz usando la fórmula de Ridder\n",
        "      x=m+(((m-a)*f(m))/(s))*np.sign(f(a)-f(b))\n",
        "      # Evalúa f(m) * f(x) para actualizar el intervalo\n",
        "      if f(m)*f(x)<0:\n",
        "        # Si el signo cambia entre m y x, la raíz está en [m, x]\n",
        "        a=m\n",
        "        b=x\n",
        "      elif f(a)*f(x)<0:\n",
        "        # Si el signo cambia entre a y x, la raíz está en [a, x]\n",
        "        b=x\n",
        "      else:\n",
        "        # Si no, la raíz está en [x, b]\n",
        "        a=x\n",
        "      terminos.append(x) # Agrega el nuevo candidato a raíz a la lista de términos\n",
        "      n+=1 # Incrementa el contador de iteraciones\n",
        "      # Criterio de parada: si el valor absoluto de f(x) es menor que la tolerancia\n",
        "      if abs(f(x))<tol:\n",
        "        return x, n+1 # Retorna la raíz encontrada y el número de iteraciones"
      ],
      "metadata": {
        "id": "phBAIpoX7Y9W"
      },
      "execution_count": 78,
      "outputs": []
    },
    {
      "cell_type": "code",
      "source": [
        "f= lambda x: x-np.cos(x)\n",
        "x=np.linspace(0,np.pi/2,100)\n",
        "raiz, iteraciones = ridder(f,1,np.pi/2)\n",
        "\n",
        "\n",
        "plt.plot(x,f(x),color=\"purple\")\n",
        "plt.axhline(0, color =\"black\", ls =\"--\")\n",
        "plt.scatter(raiz,0, color =\"olive\")\n",
        "plt.xlabel(\"x\")\n",
        "plt.ylabel (\"cos(x)\")\n",
        "plt.grid()\n",
        "plt.show()"
      ],
      "metadata": {
        "colab": {
          "base_uri": "https://localhost:8080/",
          "height": 449
        },
        "id": "38e7o1xO3LCL",
        "outputId": "743212ba-cab4-4e20-97b7-f1a45824e75e"
      },
      "execution_count": 79,
      "outputs": [
        {
          "output_type": "display_data",
          "data": {
            "text/plain": [
              "<Figure size 640x480 with 1 Axes>"
            ],
            "image/png": "[encoded data removed]"
          },
          "metadata": {}
        }
      ]
    },
    {
      "cell_type": "code",
      "source": [
        "df = pd.DataFrame({'x':x,'f(x)':f(x)})\n",
        "print(df[(df['f(x)']<0.1)&(df['f(x)']>-0.1)])"
      ],
      "metadata": {
        "colab": {
          "base_uri": "https://localhost:8080/"
        },
        "id": "zIssH1pKFgVj",
        "outputId": "02019545-a647-4f5e-d43e-9a42e4f6e279"
      },
      "execution_count": 15,
      "outputs": [
        {
          "output_type": "stream",
          "name": "stdout",
          "text": [
            "           x      f(x)\n",
            "43  0.682265 -0.093881\n",
            "44  0.698132 -0.067913\n",
            "45  0.713998 -0.041751\n",
            "46  0.729865 -0.015399\n",
            "47  0.745732  0.011140\n",
            "48  0.761598  0.037864\n",
            "49  0.777465  0.064771\n",
            "50  0.793331  0.091857\n"
          ]
        }
      ]
    },
    {
      "cell_type": "code",
      "source": [
        "raiz_biseccion=bisect(f, -np.pi/2,np.pi/2)\n",
        "print(f'Metodo de bisección:', raiz_biseccion)\n",
        "\n",
        "raiz_newton=newton(f,-np.pi/2,x1=np.pi/2)\n",
        "print(f'Metodo de secante:', raiz_newton)\n",
        "\n",
        "print(f'Metodo Ridder:', raiz)\n",
        "\n",
        "#El metodo Ridder es un poco menos eficiente que los metodos de bisección y Newton-Raphson"
      ],
      "metadata": {
        "colab": {
          "base_uri": "https://localhost:8080/"
        },
        "id": "Ri-Rdxi6oQ4q",
        "outputId": "7156bacb-d178-4e7e-de87-73daf81db3a8"
      },
      "execution_count": 6,
      "outputs": [
        {
          "output_type": "stream",
          "name": "stdout",
          "text": [
            "Metodo de bisección: 0.7390851332152737\n",
            "Metodo de secante: 0.7390851332151585\n",
            "Metodo Ridder: 0.7390851334994524\n"
          ]
        }
      ]
    },
    {
      "cell_type": "code",
      "source": [
        "# Define un array de tolerancias en escala logarítmica\n",
        "tol = np.logspace(-1, -20, 20)\n",
        "ridder_iter=[] # Inicializa una lista para almacenar el número de iteraciones para cada tolerancia\n",
        "\n",
        "# Itera sobre las tolerancias\n",
        "for i in tol:\n",
        "  # Encuentra la raíz con el método de Ridder para la tolerancia actual\n",
        "  raiz_r, iter = ridder(f,0,np.pi/2, tol =i)\n",
        "  # Añade el número de iteraciones a la lista\n",
        "  ridder_iter.append(iter)\n",
        "\n",
        "plt.plot(ridder_iter, color=\"purple\", marker=\"o\")\n",
        "plt.xlabel(\"Tolerancia\")\n",
        "plt.ylabel(\"Número de iteraciones\")\n",
        "plt.grid()\n",
        "plt.show()"
      ],
      "metadata": {
        "id": "1HGlOmm-ujRw",
        "colab": {
          "base_uri": "https://localhost:8080/",
          "height": 449
        },
        "outputId": "38908b14-3ef1-4d3f-ecae-f73c82630159"
      },
      "execution_count": 80,
      "outputs": [
        {
          "output_type": "display_data",
          "data": {
            "text/plain": [
              "<Figure size 640x480 with 1 Axes>"
            ],
            "image/png": "[encoded data removed]"
          },
          "metadata": {}
        }
      ]
    },
    {
      "cell_type": "markdown",
      "source": [
        "#2\n",
        "\n",
        "**(60 puntos)** En óptica, cuando un rayo de luz atraviesa la interfaz entre dos medios con diferentes índices de refracción, su dirección cambia según la ley de Snell. Para el caso de un prisma triangular, cuando un rayo emerge después de dos refracciones, el ángulo de desviación total $\\delta$ está dado por:\n",
        "\n",
        "$$\\delta(\\theta_i) = \\theta_i + \\arcsin\\left(n\\sin\\left(A - \\arcsin\\left(\\frac{\\sin\\theta_i}{n}\\right)\\right)\\right) - A$$\n",
        "\n",
        "donde $\\theta_i$ es el ángulo de incidencia, $n$ es el índice de refracción del prisma y $A$ es el ángulo del prisma.\n",
        "\n",
        "La derivada de esta función con respecto al ángulo de incidencia $\\theta_i$ es:\n",
        "\n",
        "$$\\frac{d\\delta}{d\\theta_i} = 1 - \\frac{\\cos\\theta_i \\cdot \\cos(A-\\theta_r)}{\\cos\\theta_r \\cdot \\sqrt{1-n^2\\sin^2(A-\\theta_r)}}$$\n",
        "\n",
        "donde $\\theta_r = \\arcsin\\left(\\frac{\\sin\\theta_i}{n}\\right)$ es el ángulo de refracción en la primera interfaz.\n",
        "\n",
        "Considere un prisma de vidrio crown con $n = 1.52$ y $A = 60°$.\n",
        "\n",
        "### Parte A:\n",
        "* Escriba una función explicita y documentada para $\\frac{d\\delta}{d\\theta_i}$\n",
        "\n",
        "* Realice un gráfico para $\\frac{d\\delta}{d\\theta_i}$ y encuentre el ángulo de incidencia $\\theta_i$ que produce el ángulo de desviación mínimo para $\\theta_i \\in [30°, 80°]$.\n",
        "\n",
        "* Use el método de Newton-Raphson (sin derivada) y el método de la secante para hallar el ángulo de desviación mínimo.\n",
        "\n",
        "\n",
        "### Parte B:\n",
        "* Determine el ángulo crítico $\\theta_c$ para el cual el rayo comienza a experimentar reflexión interna total en la segunda interfaz del prisma. Esta condición ocurre cuando:\n",
        "\n",
        "$$\\sin(A - \\theta_r) = \\frac{1}{n}$$\n",
        "\n",
        "* Resuelva numéricamente la ecuación anterior para encontrar el ángulo de incidencia $\\theta_i$ correspondiente a este ángulo crítico, utilizando el método de la bisección.\n",
        "\n",
        "\n",
        "\n"
      ],
      "metadata": {
        "id": "od2GDFK5-QJC"
      }
    },
    {
      "cell_type": "code",
      "source": [
        "def deltaprime(theta, n=1.52, A=60, tol=1e-8, max_iter=100):\n",
        "  '''\n",
        "  Calcula la derivada del ángulo de desviación total (delta) con respecto al ángulo de incidencia (theta_i) para un prisma triangular.\n",
        "\n",
        "  Parámetros:\n",
        "  theta (float): Ángulo de incidencia (en radianes).\n",
        "  n (float, optional): Índice de refracción del prisma. Por defecto es 1.52.\n",
        "  A (float, optional): Ángulo del prisma (en grados). Por defecto es 60.\n",
        "  tol (float, optional): Tolerancia (no se usa en esta función, presente por consistencia con otras funciones).\n",
        "  max_iter (int, optional): Número máximo de iteraciones (no se usa en esta función, presente por consistencia).\n",
        "\n",
        "  Retorna:\n",
        "  float: El valor de la derivada del ángulo de desviación total con respecto al ángulo de incidencia.\n",
        "  '''\n",
        "  # Convierte el ángulo del prisma de grados a radianes para los cálculos trigonométricos.\n",
        "  A_rad = np.deg2rad(A)\n",
        "  # Calcula el ángulo de refracción en la primera interfaz (theta_r) usando la ley de Snell.\n",
        "  theta_r = np.arcsin((np.sin(theta)) / n)\n",
        "  # Calcula y retorna el valor de la derivada del ángulo de desviación total según la fórmula proporcionada.\n",
        "  return 1 - ((np.cos(theta)) * (np.cos(A_rad - theta_r))) / ((np.cos(theta_r)) * (np.sqrt(1 - ((n ** 2) * (np.sin(A_rad - theta_r) ** 2)))))"
      ],
      "metadata": {
        "id": "hkHRzyB9-mSS"
      },
      "execution_count": 44,
      "outputs": []
    },
    {
      "cell_type": "code",
      "source": [
        "Theta=np.linspace(np.deg2rad(30),np.deg2rad(80),100)\n",
        "delta=deltaprime(Theta)\n",
        "\n",
        "plt.plot(Theta, delta, color=\"purple\")\n",
        "plt.xlabel(\"θ\")\n",
        "plt.ylabel(\"δ(θ)\")\n",
        "plt.axhline(0, color=\"black\", ls=\"--\")\n",
        "plt.scatter(newton(deltaprime,0.8,x1=1.0),0,color=\"olive\")\n",
        "plt.grid()\n",
        "plt.show()"
      ],
      "metadata": {
        "colab": {
          "base_uri": "https://localhost:8080/",
          "height": 453
        },
        "id": "nZhG21JI7Gps",
        "outputId": "55872c45-e866-46fa-c8f1-60b0aafbed8c"
      },
      "execution_count": 61,
      "outputs": [
        {
          "output_type": "display_data",
          "data": {
            "text/plain": [
              "<Figure size 640x480 with 1 Axes>"
            ],
            "image/png": "[encoded data removed]"
          },
          "metadata": {}
        }
      ]
    },
    {
      "cell_type": "code",
      "source": [
        "Min_n=newton(deltaprime,0.8)\n",
        "print(f'El valor que minimiza el angúlo de deviación según el método Newton-Raphson es:', Min_n)\n",
        "Min_s=newton(deltaprime,0.8,x1=1.0)\n",
        "print(f'El valor que minimiza el angúlo de deviación según el método de la secante es:', Min_s)"
      ],
      "metadata": {
        "colab": {
          "base_uri": "https://localhost:8080/"
        },
        "id": "_LZo8oAE8mod",
        "outputId": "11e53ffd-7ea6-4e23-fe8c-65927352cd2a"
      },
      "execution_count": 60,
      "outputs": [
        {
          "output_type": "stream",
          "name": "stdout",
          "text": [
            "El valor que minimiza el angúlo de deviación según el método Newton-Raphson es: 0.8633131150155223\n",
            "El valor que minimiza el angúlo de deviación según el método de la secante es: 0.8633131150155536\n"
          ]
        }
      ]
    },
    {
      "cell_type": "code",
      "source": [
        "def theta_c(theta, n=1.52, A=60):\n",
        "  '''\n",
        "  Calcula el valor de la expresión sin(A - theta_r) - (1/n) para encontrar el ángulo de incidencia crítico.\n",
        "\n",
        "  Parámetros:\n",
        "  theta (float): Ángulo de incidencia (en grados).\n",
        "  n (float, optional): Índice de refracción del prisma. Por defecto es 1.52.\n",
        "  A (float, optional): Ángulo del prisma (en grados). Por defecto es 60.\n",
        "\n",
        "  Retorna:\n",
        "  float: El valor de la expresión sin(A - theta_r) - (1/n).\n",
        "  '''\n",
        "  # Convierte el ángulo de incidencia (theta) de grados a radianes para los cálculos trigonométricos.\n",
        "  theta_rad=np.deg2rad(theta)\n",
        "  # Calcula el ángulo de refracción en la primera interfaz (theta_r) usando la ley de Snell.\n",
        "  theta_r=np.arcsin((np.sin(theta_rad))/n)\n",
        "  # Convierte el ángulo del prisma (A) de grados a radianes para los cálculos trigonométricos.\n",
        "  A_rad=np.deg2rad(A)\n",
        "  # Retorna el resultado de la expresión sin(A - theta_r) - (1/n).\n",
        "  return np.sin(A_rad-theta_r)-(1/n)"
      ],
      "metadata": {
        "id": "z95maeepA4yY"
      },
      "execution_count": 66,
      "outputs": []
    },
    {
      "cell_type": "code",
      "source": [
        "print(f'El ángulo de incidencia crítico es:', bisect(theta_c,-90,90,))"
      ],
      "metadata": {
        "colab": {
          "base_uri": "https://localhost:8080/"
        },
        "id": "zhIt0znzBJZm",
        "outputId": "968645fe-84ec-4948-e836-c414bbacc026"
      },
      "execution_count": 77,
      "outputs": [
        {
          "output_type": "stream",
          "name": "stdout",
          "text": [
            "El ángulo de incidencia crítico es: 31.92958020211833\n"
          ]
        }
      ]
    }
  ]
}