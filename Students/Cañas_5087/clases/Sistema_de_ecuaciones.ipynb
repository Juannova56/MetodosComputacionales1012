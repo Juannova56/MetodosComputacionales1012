{
 "cells": [
  {
   "cell_type": "code",
   "execution_count": 1,
   "id": "b56fc542-49cc-4e29-8b33-57483c5d7408",
   "metadata": {},
   "outputs": [],
   "source": [
    "import numpy as np\n",
    "import numpy.linalg as la"
   ]
  },
  {
   "cell_type": "code",
   "execution_count": 2,
   "id": "584d3237-ac89-462a-b85c-b5a759144547",
   "metadata": {},
   "outputs": [],
   "source": [
    "A = np.array(([2., 3.],\n",
    "             [4., -1.]), dtype = float)\n",
    "\n",
    "b = np.array(([5,6]), dtype = float)"
   ]
  },
  {
   "cell_type": "markdown",
   "id": "32e7cedb-0b7e-4d2a-918c-6f4ba5bac2d5",
   "metadata": {},
   "source": [
    "## $Regla$ $De$ $Cramer$"
   ]
  },
  {
   "cell_type": "code",
   "execution_count": 3,
   "id": "6634be43-f4e0-48ed-be81-f77a8f72de7f",
   "metadata": {},
   "outputs": [
    {
     "ename": "SyntaxError",
     "evalue": "invalid syntax (1009675575.py, line 13)",
     "output_type": "error",
     "traceback": [
      "  \u001b[36mCell\u001b[39m\u001b[36m \u001b[39m\u001b[32mIn[3]\u001b[39m\u001b[32m, line 13\u001b[39m\n\u001b[31m    \u001b[39m\u001b[31mif A.shape[0]!\u001b[39m\n                 ^\n\u001b[31mSyntaxError\u001b[39m\u001b[31m:\u001b[39m invalid syntax\n"
     ]
    }
   ],
   "source": [
    "def Cramer(A, b):\n",
    "    '''\n",
    "    Encuentra la solucion a un sistema de ecuaciones\n",
    "    usando la regla de CRamer\n",
    "\n",
    "    A = matriz cuadrada\n",
    "    b = vectro \n",
    "\n",
    "\n",
    "\n",
    "    '''\n",
    "\n",
    "    if A.shape[0]!"
   ]
  },
  {
   "cell_type": "markdown",
   "id": "014b3274-112e-4827-bda8-90c9797f285d",
   "metadata": {},
   "source": [
    "## $ELiminacion$ $Gaussiana$"
   ]
  },
  {
   "cell_type": "code",
   "execution_count": 4,
   "id": "69ae2573-d0a6-4d48-8666-95f0aabd29d0",
   "metadata": {},
   "outputs": [],
   "source": [
    "def Eliminacion_Gauss(A, b):\n",
    "    '''\n",
    "    Encuantra la solucion de un sistema de ecuaciones\n",
    "    usando eliminacion Gaussiana\n",
    "\n",
    "    Entradas:\n",
    "    A: Matriz --> ndarray\n",
    "    b : vectror de factores imdependientes\n",
    "\n",
    "    Salidas \n",
    "    U : matriz triangular superior -> nd array\n",
    "    x: vector de soluciones\n",
    "    '''\n",
    "    A_aumentada = np.column_stack((A,b))\n",
    "    n = A.shape[0] #Numero de soluciones\n",
    "\n",
    "\n",
    " \n",
    "    \n",
    "    for i in range(n):\n",
    "        #Nos ubicamos en la fila con el pivote\n",
    "        for j in range(i+1, n):\n",
    "            #Calculamos el factor para la eliminación\n",
    "            factor = A_aumentada[j,i]/A_aumentada[i,i]\n",
    "            #OPeramos en la fila i-esima con el factor y reemplazamos en la j-esima\n",
    "            A_aumentada[j, :]-= factor * A_aumentada[i, :]\n",
    "\n",
    "    #Sustitución hacia atras\n",
    "    x = np.zeros(n)\n",
    "\n",
    "    for i in range(n-1, -1, -1):\n",
    "        x[i] = (A_aumentada[i, -1] - np.dot(A_aumentada[i, i+1:n], x[i+1 :n])) /A_aumentada[i,i]\n",
    "                \n",
    "    return A_aumentada,x"
   ]
  },
  {
   "cell_type": "code",
   "execution_count": 5,
   "id": "be5ae639-f54a-4759-9d6c-c8f85331c789",
   "metadata": {},
   "outputs": [],
   "source": [
    "A = np.array(([1., 2., 3.],\n",
    "              [2., 3., 1.],\n",
    "              [3., 1., 2.]), dtype = float)\n",
    "\n",
    "b = np.array(([9., 8., 7.]), dtype = float)"
   ]
  },
  {
   "cell_type": "code",
   "execution_count": 6,
   "id": "3a2dd912-48f6-4c1c-b767-9780573b81c0",
   "metadata": {},
   "outputs": [
    {
     "data": {
      "text/plain": [
       "(array([[  1.,   2.,   3.,   9.],\n",
       "        [  0.,  -1.,  -5., -10.],\n",
       "        [  0.,   0.,  18.,  30.]]),\n",
       " array([0.66666667, 1.66666667, 1.66666667]))"
      ]
     },
     "execution_count": 6,
     "metadata": {},
     "output_type": "execute_result"
    }
   ],
   "source": [
    "Eliminacion_Gauss(A, b)"
   ]
  },
  {
   "cell_type": "code",
   "execution_count": 7,
   "id": "d32dfb2f-a942-42a2-9767-806e0f8830f8",
   "metadata": {},
   "outputs": [],
   "source": [
    "max_index= np.argmax(np.abs(A[:,0]))"
   ]
  },
  {
   "cell_type": "code",
   "execution_count": null,
   "id": "2def6f39-5d48-4cd1-8ea4-4aded16cc783",
   "metadata": {},
   "outputs": [],
   "source": []
  },
  {
   "cell_type": "code",
   "execution_count": 8,
   "id": "6895b5af-fb65-4f4a-91a9-9eae4284e70f",
   "metadata": {},
   "outputs": [],
   "source": [
    "def Eliminacion_Gauss_pivote_simple(A, b):\n",
    "    '''\n",
    "    Encuantra la solucion de un sistema de ecuaciones\n",
    "    usando eliminacion Gaussiana\n",
    "\n",
    "    Entradas:\n",
    "    A: Matriz --> ndarray\n",
    "    b : vectror de factores imdependientes\n",
    "\n",
    "    Salidas \n",
    "    U : matriz triangular superior -> nd array\n",
    "    x: vector de soluciones\n",
    "    '''\n",
    "    A_aumentada = np.column_stack((A,b))\n",
    "    n = A.shape[0] #Numero de soluciones\n",
    "\n",
    "    max_index = np.argmax(np.abs(A_aumentada[:, 0]))\n",
    "    A_aumentada[[0,max_index], :] = A_aumentada[[max_index, 0], :]\n",
    "    \n",
    "    for i in range(n):\n",
    "        #Nos ubicamos en la fila con el pivote\n",
    "        for j in range(i+1, n):\n",
    "            #Calculamos el factor para la eliminación\n",
    "            factor = A_aumentada[j,i]/A_aumentada[i,i]\n",
    "            #OPeramos en la fila i-esima con el factor y reemplazamos en la j-esima\n",
    "            A_aumentada[j, :]-= factor * A_aumentada[i, :]\n",
    "\n",
    "    #Sustitución hacia atras\n",
    "    x = np.zeros(n)\n",
    "\n",
    "    for i in range(n-1, -1, -1):\n",
    "        x[i] = (A_aumentada[i, -1] - np.dot(A_aumentada[i, i+1:n], x[i+1 :n])) /A_aumentada[i,i]\n",
    "                \n",
    "    return A_aumentada,x"
   ]
  },
  {
   "cell_type": "code",
   "execution_count": 9,
   "id": "b94a22ce-1657-4d07-ba43-06af1ba8a9a0",
   "metadata": {},
   "outputs": [
    {
     "data": {
      "text/plain": [
       "(array([[ 3.        ,  1.        ,  2.        ,  7.        ],\n",
       "        [ 0.        ,  2.33333333, -0.33333333,  3.33333333],\n",
       "        [ 0.        ,  0.        ,  2.57142857,  4.28571429]]),\n",
       " array([0.66666667, 1.66666667, 1.66666667]))"
      ]
     },
     "execution_count": 9,
     "metadata": {},
     "output_type": "execute_result"
    }
   ],
   "source": [
    "Eliminacion_Gauss_pivote_simple(A,b)"
   ]
  },
  {
   "cell_type": "markdown",
   "id": "c0bf7304-b42a-4d0f-a92c-5d68cf93fbc4",
   "metadata": {},
   "source": [
    "## $Gauss$ $Jordan$"
   ]
  },
  {
   "cell_type": "code",
   "execution_count": 14,
   "id": "2dbb489e-4620-40c1-a62d-dd29d6a50275",
   "metadata": {},
   "outputs": [
    {
     "data": {
      "text/plain": [
       "array([ 2.,  3., -1.])"
      ]
     },
     "execution_count": 14,
     "metadata": {},
     "output_type": "execute_result"
    }
   ],
   "source": [
    "A = np.array(([2, 1,-1],\n",
    "             [-3, -1, 2],\n",
    "             [-2, 1, 2]), dtype = float)\n",
    "b = np.array([8, -11, -3], dtype = float)\n",
    "la.solve(A, b)"
   ]
  },
  {
   "cell_type": "code",
   "execution_count": 20,
   "id": "47dc8f83-f839-42e2-9806-6ea50367053e",
   "metadata": {},
   "outputs": [
    {
     "data": {
      "text/plain": [
       "array([[  2.,   1.,  -1.,   8.],\n",
       "       [ -3.,  -1.,   2., -11.],\n",
       "       [ -2.,   1.,   2.,  -3.]])"
      ]
     },
     "execution_count": 20,
     "metadata": {},
     "output_type": "execute_result"
    }
   ],
   "source": [
    "A_aumentada = np.column_stack((A,b))\n",
    "A_aumentada"
   ]
  },
  {
   "cell_type": "code",
   "execution_count": 21,
   "id": "2308ec01-3a3f-4c59-a317-6fc0f2e1a2ea",
   "metadata": {},
   "outputs": [],
   "source": [
    "A_aumentada[0] = A_aumentada[0] / A_aumentada[0,0]"
   ]
  },
  {
   "cell_type": "code",
   "execution_count": 22,
   "id": "205e0f52-b2a8-4178-af04-33a69a00a5fa",
   "metadata": {},
   "outputs": [
    {
     "data": {
      "text/plain": [
       "array([[ 1. ,  0.5, -0.5,  4. ],\n",
       "       [ 0. ,  0.5,  0.5,  1. ],\n",
       "       [ 0. ,  2. ,  1. ,  5. ]])"
      ]
     },
     "execution_count": 22,
     "metadata": {},
     "output_type": "execute_result"
    }
   ],
   "source": [
    "A_aumentada[1] -= A_aumentada[1,0] * A_aumentada[0]\n",
    "A_aumentada[2] -= A_aumentada[2,0] * A_aumentada[0]\n",
    "A_aumentada"
   ]
  },
  {
   "cell_type": "code",
   "execution_count": 28,
   "id": "0ebab6ff-c96b-43ba-9554-998b033724af",
   "metadata": {},
   "outputs": [
    {
     "data": {
      "text/plain": [
       "array([[ 1.,  0., -1.,  3.],\n",
       "       [ 0.,  1.,  1.,  2.],\n",
       "       [ 0.,  0., -1.,  1.]])"
      ]
     },
     "execution_count": 28,
     "metadata": {},
     "output_type": "execute_result"
    }
   ],
   "source": [
    "A_aumentada[1] = A_aumentada[1] / A_aumentada[1,1]\n",
    "A_aumentada[0] -= A_aumentada[0,1] * A_aumentada[1]\n",
    "A_aumentada[2] -= A_aumentada[2,1] * A_aumentada[1]\n",
    "\n",
    "A_aumentada"
   ]
  },
  {
   "cell_type": "code",
   "execution_count": 34,
   "id": "c64a3fe4-8f52-4a56-adb9-cb53dbc771a2",
   "metadata": {},
   "outputs": [],
   "source": [
    "def Gauss_Jordan(A, b):\n",
    "    '''\n",
    "    Resuelve el sistema Ax = b usando Gauss - Jordan\n",
    "\n",
    "    Entradas:\n",
    "    A : Matriz \n",
    "    b : vector\n",
    "\n",
    "    Salida:\n",
    "    x: Vector solucion\n",
    "\n",
    "    '''\n",
    "\n",
    "    A_aun = np.column_stack((A, b))\n",
    "    n = A.shape[0]\n",
    "\n",
    "    for i in range(n):\n",
    "        pivote = A_aun[i, i] #Elegimos el pivote\n",
    "\n",
    "        if np.isclose(pivote, 0):\n",
    "            raise ValueError('EL pivote es cercano a cero')\n",
    "        A_aun[i] = A_aun[i]/ pivote #Normalizacion\n",
    "\n",
    "        for j in range(n):\n",
    "            if j!=i:\n",
    "                #Dejamos los elementos en la columna j-esima diferente a donde esta el pivote\n",
    "                A_aun[j] -= A_aun[j,i] * A_aun[i] #Eliminacion\n",
    "    return A_aun, A_aun[:, -1]"
   ]
  },
  {
   "cell_type": "code",
   "execution_count": 35,
   "id": "aa92d38e-3be7-4f1e-9e18-ab92aec73a4c",
   "metadata": {},
   "outputs": [
    {
     "data": {
      "text/plain": [
       "(array([[ 1.,  0.,  0.,  2.],\n",
       "        [ 0.,  1.,  0.,  3.],\n",
       "        [-0., -0.,  1., -1.]]),\n",
       " array([ 2.,  3., -1.]))"
      ]
     },
     "execution_count": 35,
     "metadata": {},
     "output_type": "execute_result"
    }
   ],
   "source": [
    "A = np.array(([2, 1,-1],\n",
    "             [-3, -1, 2],\n",
    "             [-2, 1, 2]), dtype = float)\n",
    "b = np.array([8, -11, -3], dtype = float)\n",
    "Gauss_Jordan(A,b)"
   ]
  },
  {
   "cell_type": "code",
   "execution_count": 42,
   "id": "903fc179-5783-4934-98fb-35afd0c25b0d",
   "metadata": {},
   "outputs": [
    {
     "ename": "IndexError",
     "evalue": "too many indices for array: array is 1-dimensional, but 2 were indexed",
     "output_type": "error",
     "traceback": [
      "\u001b[31m---------------------------------------------------------------------------\u001b[39m",
      "\u001b[31mIndexError\u001b[39m                                Traceback (most recent call last)",
      "\u001b[36mCell\u001b[39m\u001b[36m \u001b[39m\u001b[32mIn[42]\u001b[39m\u001b[32m, line 7\u001b[39m\n\u001b[32m      3\u001b[39m I = np.eye(n)\n\u001b[32m      5\u001b[39m M, solve = Gauss_Jordan(A,I)\n\u001b[32m----> \u001b[39m\u001b[32m7\u001b[39m solve = solve[:,(n, -\u001b[32m1\u001b[39m)]\n",
      "\u001b[31mIndexError\u001b[39m: too many indices for array: array is 1-dimensional, but 2 were indexed"
     ]
    }
   ],
   "source": [
    "n = A.shape[0]\n",
    "\n",
    "I = np.eye(n)\n",
    "\n",
    "M, solve = Gauss_Jordan(A,I)\n",
    "\n",
    "solve = solve[:,[n, -1)]"
   ]
  },
  {
   "cell_type": "markdown",
   "id": "dbe96f1a-1b36-4c1a-92be-ce53c0c9c284",
   "metadata": {},
   "source": [
    "## $Usando$ $LU$"
   ]
  },
  {
   "cell_type": "code",
   "execution_count": 43,
   "id": "3f5a8af4-72b2-4d38-953c-08b29192c5f9",
   "metadata": {},
   "outputs": [],
   "source": [
    "A = np.array(([2,3],\n",
    "              [4,7]), dtype = float)"
   ]
  },
  {
   "cell_type": "code",
   "execution_count": null,
   "id": "50b8deb2-af78-4563-b63d-0c15280c4817",
   "metadata": {},
   "outputs": [],
   "source": [
    "import scipy.linalg as sla\n",
    "sla.A"
   ]
  }
 ],
 "metadata": {
  "kernelspec": {
   "display_name": "Python 3 (ipykernel)",
   "language": "python",
   "name": "python3"
  },
  "language_info": {
   "codemirror_mode": {
    "name": "ipython",
    "version": 3
   },
   "file_extension": ".py",
   "mimetype": "text/x-python",
   "name": "python",
   "nbconvert_exporter": "python",
   "pygments_lexer": "ipython3",
   "version": "3.12.9"
  }
 },
 "nbformat": 4,
 "nbformat_minor": 5
}
