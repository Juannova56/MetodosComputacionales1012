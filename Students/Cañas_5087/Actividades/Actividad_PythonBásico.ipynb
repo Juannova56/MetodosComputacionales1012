{
 "cells": [
  {
   "cell_type": "markdown",
   "metadata": {
    "id": "ym3QAv5yfZSO"
   },
   "source": [
    "# Actividad: Introducción a Python (sin librerías)\n",
    "\n",
    "---"
   ]
  },
  {
   "cell_type": "markdown",
   "metadata": {
    "id": "W0C9oNGXfwDj"
   },
   "source": [
    "## Problema 1: Números primos entre 2 y 50 con la Criba de Eratóstenes\n",
    "\n",
    "La **Criba de Eratóstenes** es un método eficiente para encontrar todos los números primos menores que un número dado. El algoritmo consiste en:\n",
    "\n",
    "1. Crear una lista de valores booleanos para representar los números del 2 al 50, todos inicialmente marcados como verdaderos.\n",
    "2. Comenzando desde el primer número primo (2), eliminar todos sus múltiplos (marcándolos como falsos).\n",
    "3. Repetir el proceso para el siguiente número no eliminado.\n",
    "4. Los números que permanezcan marcados como verdaderos son primos.\n",
    "\n",
    "Usando funciones, implementa este método y muestra en pantalla todos los números primos entre 2 y 50.\n",
    "\n"
   ]
  },
  {
   "cell_type": "code",
   "execution_count": 1,
   "metadata": {
    "id": "GIk3OsqxfZ50"
   },
   "outputs": [
    {
     "name": "stdin",
     "output_type": "stream",
     "text": [
      "ingrese un numero 34\n"
     ]
    },
    {
     "name": "stdout",
     "output_type": "stream",
     "text": [
      "el numero 34 ingresado no es primo\n"
     ]
    }
   ],
   "source": [
    "booleano = []\n",
    "for i in range(2,50): #creo una lista con booleano\n",
    "    booleano.append(True)\n",
    "for i in range(2,50):\n",
    "    for m in range (2,50):\n",
    "        if m!= i:\n",
    "            if i%m == 0:\n",
    "                booleano[i-2] = False\n",
    "def numeros_primos(numero):\n",
    "    if booleano[numero-2]== True:\n",
    "        print(f\"el numero {numero} ingresado es primo\")\n",
    "    else:\n",
    "        print(f\"el numero {numero} ingresado no es primo\")\n",
    "numero = int(input(\"ingrese un numero\"))\n",
    "numeros_primos(numero)"
   ]
  },
  {
   "cell_type": "markdown",
   "metadata": {
    "id": "WzI-FhIWf2iJ"
   },
   "source": [
    "## Problema 2: Aproximación de π usando la serie de Leibniz\n",
    "\n",
    "La serie de Leibniz es una forma sencilla de aproximar el valor de π:\n",
    "\n",
    "$$\n",
    "\\pi \\approx 4 \\sum_{n=0}^{N} \\frac{(-1)^n}{2n + 1}\n",
    "$$\n",
    "\n",
    "Implementa una función que realice este calculo y muestra la aproximación para distintos valores de $N$ (por ejemplo: 10, 100, 1000, 10000)."
   ]
  },
  {
   "cell_type": "code",
   "execution_count": 2,
   "metadata": {
    "id": "DfVwDvrRf7Fz"
   },
   "outputs": [
    {
     "name": "stdin",
     "output_type": "stream",
     "text": [
      "Ingrese el valor de N al cual desea aproximar:  1000\n"
     ]
    },
    {
     "name": "stdout",
     "output_type": "stream",
     "text": [
      "3.140592653839794\n"
     ]
    }
   ],
   "source": [
    "def aproximacion_de_pi_usando_la_serie_de_Leibniz(N):\n",
    "    pi = 0  # Inicializa fuera del bucle\n",
    "    for n in range(N):\n",
    "        pi += ((-1)**n) / (2*n + 1)\n",
    "    pi *= 4  # Multiplica por 4 al final\n",
    "    print(pi)\n",
    "\n",
    "# Solicita el valor de N\n",
    "N = int(input(\"Ingrese el valor de N al cual desea aproximar: \"))\n",
    "aproximacion_de_pi_usando_la_serie_de_Leibniz(N)\n"
   ]
  },
  {
   "cell_type": "markdown",
   "metadata": {
    "id": "Z1-gsRbNf7jy"
   },
   "source": [
    "## Problema 3: Números amigos en un rango dado\n",
    "\n",
    "Dos números naturales $a$ y $b$ se llaman **números amigos** si la suma de los divisores propios (excluyendo el número mismo) de $a$ es igual a $b$, y viceversa.\n",
    "\n",
    "Por ejemplo, 220 y 284 son números amigos porque:\n",
    "- Los divisores propios de 220 son: 1, 2, 4, 5, 10, 11, 20, 22, 44, 55, 110 → suma: 284\n",
    "- Los divisores propios de 284 son: 1, 2, 4, 71, 142 → suma: 220\n",
    "\n",
    "Escribe un programa que encuentre todos los pares de números amigos en un rango dado por el usuario (por ejemplo, entre 1 y 10000)."
   ]
  },
  {
   "cell_type": "code",
   "execution_count": 3,
   "metadata": {
    "id": "m87mKCXlgGjN"
   },
   "outputs": [
    {
     "name": "stdin",
     "output_type": "stream",
     "text": [
      "Ingrese el rango:  1,10000\n"
     ]
    },
    {
     "name": "stdout",
     "output_type": "stream",
     "text": [
      "[[6, 6], [28, 28], [220, 284], [284, 220], [496, 496], [1184, 1210], [1210, 1184], [2620, 2924], [2924, 2620], [5020, 5564], [5564, 5020], [6232, 6368], [6368, 6232], [8128, 8128]]\n"
     ]
    }
   ],
   "source": [
    "c, d = map(int, input('Ingrese el rango: ').split(',')) #Solicitamos el intervalo donde se buscaran los numeros amigos\n",
    "lista = [] #En esta lista se guardaran los numeros amigos\n",
    "for i in range(c,d): #Definimos el ciclo dentro del rango\n",
    "    acum = 0 #Creamos dos acomuladores donde se guardara la suma de los divisores\n",
    "    acum_1 = 0\n",
    "    n = 1 #Definimos las variables que vamos a iterar para encontrar los divisores\n",
    "    m = 1\n",
    "    while n < i: #En este ciclo calculamos los divisores del numero i\n",
    "        if i % n == 0 :\n",
    "            acum += n\n",
    "        n += 1\n",
    "    while m < acum: #En este ciclo calculamos los divisores de la suma de los divisores del numero i\n",
    "        if acum % m == 0:\n",
    "            acum_1 += m\n",
    "        m += 1\n",
    "    if acum_1 == i : #Miramos si la suma de los divisores del numero que se forma al sumar los divisores de i es la misma que el valor de i\n",
    "        lista.append([i,acum])\n",
    "print(lista)\n",
    "                "
   ]
  },
  {
   "cell_type": "markdown",
   "metadata": {
    "id": "ASKmJNuBgHIp"
   },
   "source": [
    "\n",
    "## Problema 4: Contador de frecuencias de letras en una palabra\n",
    "\n",
    "Escribe un programa que lea una palabra ingresada por el usuario y construya un diccionario donde cada clave sea una letra de la palabra, y el valor asociado sea la cantidad de veces que esa letra aparece. Imprime el resultado.\n"
   ]
  },
  {
   "cell_type": "code",
   "execution_count": 4,
   "metadata": {
    "id": "klMGSddPgUQ5"
   },
   "outputs": [
    {
     "name": "stdin",
     "output_type": "stream",
     "text": [
      "ingrese la palabra :  ornitorrico\n"
     ]
    },
    {
     "name": "stdout",
     "output_type": "stream",
     "text": [
      "{'o': 3, 'r': 3, 'n': 1, 'i': 2, 't': 1, 'c': 1}\n"
     ]
    }
   ],
   "source": [
    "palabra= input(\"ingrese la palabra : \") #Pedimos la palabra\n",
    "palabra = list(palabra) #La pasamos a una lista\n",
    "diccionario = {} #Creamos un diccionario pra guardar la cantidad de letras\n",
    "\n",
    "for letra in palabra: #Iteramos para encontrar la cantidad de letras en cada palabra\n",
    "    n = 0\n",
    "    for letra_1 in palabra:# Comparamos cada letra con las otras\n",
    "        if letra == letra_1:\n",
    "            n+=1 #Guaradamos el numero de letras\n",
    "    diccionario[letra]=n #Guardamos como clave las letras y como valor la cantidad\n",
    "print(diccionario)\n",
    "            "
   ]
  },
  {
   "cell_type": "code",
   "execution_count": null,
   "metadata": {},
   "outputs": [],
   "source": []
  }
 ],
 "metadata": {
  "colab": {
   "provenance": []
  },
  "kernelspec": {
   "display_name": "Python 3 (ipykernel)",
   "language": "python",
   "name": "python3"
  },
  "language_info": {
   "codemirror_mode": {
    "name": "ipython",
    "version": 3
   },
   "file_extension": ".py",
   "mimetype": "text/x-python",
   "name": "python",
   "nbconvert_exporter": "python",
   "pygments_lexer": "ipython3",
   "version": "3.12.10"
  }
 },
 "nbformat": 4,
 "nbformat_minor": 4
}
