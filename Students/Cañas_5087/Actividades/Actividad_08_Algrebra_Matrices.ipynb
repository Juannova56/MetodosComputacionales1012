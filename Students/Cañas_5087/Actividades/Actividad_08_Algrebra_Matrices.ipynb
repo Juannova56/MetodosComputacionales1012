{
 "cells": [
  {
   "cell_type": "markdown",
   "metadata": {
    "colab_type": "text",
    "id": "view-in-github"
   },
   "source": [
    "<a href=\"https://colab.research.google.com/github/jmmarinr/ComputationalMethods/blob/master/Algebra_Lineal/Actividad_08_Algrebra_Matrices.ipynb\" target=\"_parent\"><img src=\"https://colab.research.google.com/assets/colab-badge.svg\" alt=\"Open In Colab\"/></a>"
   ]
  },
  {
   "cell_type": "code",
   "execution_count": 37,
   "metadata": {
    "id": "z7RCty67y3ME"
   },
   "outputs": [],
   "source": [
    "import numpy as np\n",
    "import matplotlib.pyplot as plt\n",
    "import scipy.linalg as la"
   ]
  },
  {
   "cell_type": "markdown",
   "metadata": {
    "id": "GGQpGoujzAnQ"
   },
   "source": [
    "# Actividad 08: Algebra Lineal y Matrices\n",
    "\n",
    "---\n",
    "### Profesor: Juan Marcos Marín\n",
    "### Nombre: Jesus Armando Cañas Gamboa\n",
    "*Métodos computacionales*\n",
    "\n",
    "---"
   ]
  },
  {
   "cell_type": "markdown",
   "metadata": {
    "id": "U9hC1R-F0-iH"
   },
   "source": [
    "#1\n",
    "Escriba tres matrices aleatorias $A$, $B$ y $C$ de $3\\times 3$, y demuestre las siguientes relaciones\n",
    "\n",
    "- $ \\mathbf{A}\\mathbf{B} \\neq \\mathbf{B}\\mathbf{A} $, en general.\n",
    "- $ (\\mathbf{A}\\mathbf{B})\\mathbf{C} = \\mathbf{A}(\\mathbf{B}\\mathbf{C}) $.\n",
    "- $ \\mathbf{A}(\\mathbf{B} + \\mathbf{C}) = \\mathbf{A}\\mathbf{B} + \\mathbf{A}\\mathbf{C} $.\n",
    "- $ (\\mathbf{A} + \\mathbf{B})\\mathbf{C} = \\mathbf{A}\\mathbf{C} + \\mathbf{B}\\mathbf{C} $.\n",
    "- $ (\\mathbf{A}\\mathbf{B})^\\top = \\mathbf{B}^\\top \\mathbf{A}^\\top $.\n",
    "- $ \\det(\\mathbf{A}\\mathbf{B}) = \\det(\\mathbf{A}) \\det(\\mathbf{B}) $.\n",
    "- $ (\\mathbf{A}^\\top)^\\top = \\mathbf{A} $.\n",
    "- $ (c\\mathbf{A})^\\top = c\\mathbf{A}^\\top $.\n",
    "- $ (\\mathbf{A} + \\mathbf{B})^\\top = \\mathbf{A}^\\top + \\mathbf{B}^\\top $.\n",
    "\n"
   ]
  },
  {
   "cell_type": "code",
   "execution_count": 90,
   "metadata": {
    "id": "cQQ6cPGW1anK"
   },
   "outputs": [
    {
     "name": "stdout",
     "output_type": "stream",
     "text": [
      "True\n",
      "True\n",
      "True\n",
      "True\n",
      "True\n"
     ]
    }
   ],
   "source": [
    "\n",
    "A = np.random.rand(3, 3)\n",
    "B = np.random.rand(3, 3)\n",
    "C = np.random.rand(3, 3)\n",
    "c = np.random.rand()\n",
    "\n",
    "print(np.allclose((A@B).T, B.T @ A.T))\n",
    "print(np.allclose(np.linalg.det(A@B), np.linalg.det(A) * np.linalg.det(B)))\n",
    "print(np.array_equal((A.T).T, A))\n",
    "print(np.array_equal((c*A).T, c*A.T))\n",
    "print(np.array_equal((A+B).T, A.T + B.T))\n"
   ]
  },
  {
   "cell_type": "code",
   "execution_count": 20,
   "metadata": {},
   "outputs": [
    {
     "data": {
      "text/plain": [
       "True"
      ]
     },
     "execution_count": 20,
     "metadata": {},
     "output_type": "execute_result"
    }
   ],
   "source": [
    "np.array_equal(A,A)"
   ]
  },
  {
   "cell_type": "code",
   "execution_count": 12,
   "metadata": {},
   "outputs": [
    {
     "data": {
      "text/plain": [
       "array([[0.70214591, 0.41980988, 1.08968598],\n",
       "       [1.13382826, 0.57022048, 1.65216725],\n",
       "       [1.10696605, 0.49266532, 1.52881041]])"
      ]
     },
     "execution_count": 12,
     "metadata": {},
     "output_type": "execute_result"
    }
   ],
   "source": [
    " A@(B@C)"
   ]
  },
  {
   "cell_type": "markdown",
   "metadata": {
    "id": "ibYf2I9T2pIw"
   },
   "source": [
    "#2\n",
    "\n",
    "El **Teorema de Laplace** es un método para calcular el determinante de una matriz cuadrada, particularmente útil para matrices de orden mayor a 2. Este teorema se basa en la expansión del determinante por los elementos de una fila o una columna cualquiera.\n",
    "\n",
    "\n",
    "\n",
    "$$\n",
    "\\det(A) = \\sum_{j=1}^n (-1)^{1+j} a_{1j} M_{1j}\n",
    "$$\n",
    "\n",
    "donde:\n",
    "- $a_{1j}$ es el elemento de la primera fila y columna $j$.\n",
    "- $M_{1j}$ es el menor asociado al elemento $a_{1j}$, es decir, el determinante de la submatriz de $3 \\times 3$ que se obtiene al eliminar la fila 1 y la columna $j$.\n",
    "- $(-1)^{1+j}$ es el signo correspondiente al cofactor del elemento $a_{1j}$.\n",
    "\n",
    "Podemos realizar una función recursiva para el cálculo del determinante, sabiendo que el valor del determinante de una matriz de orden uno es el único elemento de esa matriz, y el de una matriz de orden superior a uno es la suma de cada uno de los elementos de una fila o columna por los Adjuntos a ese elemento, como en la función recursiva se emplea la misma función definida el cálculo lo haremos por Menor complementario, un ejemplo desarrollado por la primera fila sería:\n",
    "\n",
    "$$\n",
    "   \\det (A_{j,j}) =\n",
    "   \\left \\{\n",
    "   \\begin{array}{llcl}\n",
    "      si & j = 1 & \\to & a_{1,1} \\\\\n",
    "                                 \\\\\n",
    "      si & j > 1 & \\to & \\displaystyle \\sum_{k=1}^j \\; (-1)^{(1+k)} \\cdot a_{1,k} \\cdot \\det( \\alpha_{1,k})\n",
    "   \\end{array}\n",
    "   \\right .\n",
    "$$\n",
    "\n",
    "Realice una función que encuentre el determinante de una matriz usando la recursividad aqui planteada, explique explicitamente su código"
   ]
  },
  {
   "cell_type": "code",
   "execution_count": 11,
   "metadata": {
    "id": "-8tYERLHtrtY"
   },
   "outputs": [],
   "source": [
    "def Teorema_de_Laplace(A):\n",
    "\n",
    "    '''\n",
    "    Esta funcion calcula el determinante de una\n",
    "    matriz usando el teorema de laplace\n",
    "\n",
    "    Entradas:\n",
    "    A: Matriz a la que se le calculara el determinante\n",
    "\n",
    "    Salidas:\n",
    "    suma: valor del determinante\n",
    "\n",
    "    '''\n",
    "    if A.shape[0] != A.shape[1]: #miramos si la matriz es cuadrada\n",
    "        raise ValueError(\"La matriz no es cuadrada\") \n",
    "\n",
    "    n = A.shape[0] # si es cuadrada calculamos el tamaño\n",
    "    if n == 1: # si el tamaño de la matriz es 1x1 retornamos al valor del elemento\n",
    "        return A[0, 0]\n",
    "\n",
    "    suma = 0\n",
    "    for k in range(n):\n",
    "        # Construimos los índices sin la fila 0 y sin la columna k\n",
    "        A1 = A[1:n, 0:k] \n",
    "        A2 = A[1:n, k+1:n+1]\n",
    "        submatriz = np.concatenate((A1, A2), axis = 1)  \n",
    "        suma += (-1)**k * A[0, k] * Teorema_de_Laplace(submatriz) #Calculamos el teorema de laplace usando recursividad\n",
    "\n",
    "    return suma\n",
    "        "
   ]
  },
  {
   "cell_type": "code",
   "execution_count": 12,
   "metadata": {},
   "outputs": [
    {
     "name": "stdout",
     "output_type": "stream",
     "text": [
      "-0.25809870446108435\n",
      "-0.25809870446108435\n"
     ]
    }
   ],
   "source": [
    "print(Teorema_de_Laplace(A))\n",
    "print(np.linalg.det(A))"
   ]
  },
  {
   "cell_type": "markdown",
   "metadata": {
    "id": "fTSweDGhnAUN"
   },
   "source": [
    "#3 Método de Gauss - Seidel\n",
    "\n",
    "Sea \\$A\\in\\mathbb{R}^{n\\times n}\\$ no singular y sea \\$b\\in\\mathbb{R}^n\\$.\n",
    "Descomponga \\$A\\$ como\n",
    "\n",
    "$$\n",
    "A \\;=\\; D \\;+\\; L \\;+\\; U,\n",
    "$$\n",
    "\n",
    "donde\n",
    "\n",
    "* \\$D\\$ es la matriz diagonal de \\$A\\$,\n",
    "* \\$L\\$ es la parte estrictamente triangular inferior,\n",
    "* \\$U\\$ es la parte estrictamente triangular superior.\n",
    "\n",
    "El algoritmo de Gauss - Seidel reorganiza el sistema \\$Ax=b\\$ como\n",
    "\n",
    "$$\n",
    "x \\;=\\; (D+L)^{-1}\\bigl(b \\;-\\; Ux\\bigr),\n",
    "$$\n",
    "\n",
    "y genera la sucesión\n",
    "\n",
    "$$\n",
    "x_i^{(k+1)}\n",
    "= \\frac{1}{a_{ii}}\n",
    "\\Bigl(b_i - \\sum_{j<i} a_{ij}\\,x_j^{(k+1)} - \\sum_{j>i} a_{ij}\\,x_j^{(k)}\\Bigr),\n",
    "\\qquad i=1,\\dots,n.\n",
    "$$\n",
    "\n",
    "Implemente una función `gauss_seidel(A, b, tol=1e-7, max_iter=100)` que:\n",
    "   * Realice las iteraciones hasta que\n",
    "     $\\lVert x^{(k+1)}-x^{(k)}\\rVert_\\infty<\\text{tol}$\n",
    "     o se alcance `max_iter`;\n",
    "   * devuelva el vector solución aproximado \\$x\\$, el número de iteraciones realizadas y la norma del último residuo.\n",
    "\n",
    "Incluya una documentación clara.\n",
    "\n",
    "Luego,\n",
    "\n",
    "   * Genere una matriz aleatoria \\$5\\times5\\$ (por ejemplo, con `np.random.rand`) y un vector \\$b\\$ aleatorio.\n",
    "   * Resuelva \\$Ax=b\\$ con su función; calcule el error relativo frente a `numpy.linalg.solve`.\n",
    "   * Estime igualmente el error respecto a la solución obtenida mediante \\$x=A^{-1}b\\$ (usando `numpy.linalg.inv`).\n",
    "   * Presente las normas de los residuos y los errores relativos."
   ]
  },
  {
   "cell_type": "code",
   "execution_count": 77,
   "metadata": {
    "id": "xXuUhfjznlnO"
   },
   "outputs": [],
   "source": [
    "def gauss_seidel(A, b, tol=1e-7, max_iter=300):\n",
    "    ''' Esta funcion resuelve un sistema de la forma Ax = b\n",
    "    usando el metodo de Gauss seidel\n",
    "    entradas\n",
    "       A: matriz(array)\n",
    "       b : vector(array)\n",
    "       tol: tolerancia (float)\n",
    "       max_iter = numero maximo de iteraciones(float)\n",
    "    salida\n",
    "        x : vector(array)\n",
    "        j : numero de iteraciones hasta converger\n",
    "    '''\n",
    "    n = len(b)\n",
    "    x = np.zeros_like(b, dtype=float)\n",
    "    x_new = np.zeros_like(x)\n",
    "\n",
    "    for k in range(max_iter):\n",
    "        for i in range(n):\n",
    "            suma_1 = 0.0\n",
    "            suma_2 = 0.0\n",
    "            \n",
    "            for j in range(n):\n",
    "                if j < i:\n",
    "                    suma_1 += A[i, j] * x_new[j]  # usa valores nuevos\n",
    "                if j > i:\n",
    "                    suma_2 += A[i, j] * x[j]      # usa valores viejos\n",
    "            x_new[i] = (b[i] - suma_1 - suma_2) / A[i, i]\n",
    "\n",
    "        # Verificamos convergencia con norma infinito\n",
    "        error = np.linalg.norm(x_new - x, ord=np.inf)\n",
    "        if error < tol:\n",
    "            return x_new, k\n",
    "        else:\n",
    "            x[:] = x_new  # actualizamos x para la siguiente iteración\n",
    "    \n",
    "    raise ValueError('maximo de iteraciones alcanzado')\n",
    "\n",
    "    \n"
   ]
  },
  {
   "cell_type": "code",
   "execution_count": 89,
   "metadata": {},
   "outputs": [
    {
     "name": "stdout",
     "output_type": "stream",
     "text": [
      "A =\n",
      " [[2.58654934e+00 7.20324493e-01 1.14374817e-04 3.02332573e-01\n",
      "  1.46755891e-01]\n",
      " [9.23385948e-02 2.55974374e+00 3.45560727e-01 3.96767474e-01\n",
      "  5.38816734e-01]\n",
      " [4.19194514e-01 6.85219500e-01 3.21437129e+00 8.78117436e-01\n",
      "  2.73875932e-02]\n",
      " [6.70467510e-01 4.17304802e-01 5.58689828e-01 2.98495057e+00\n",
      "  1.98101489e-01]\n",
      " [8.00744569e-01 9.68261576e-01 3.13424178e-01 6.92322616e-01\n",
      "  4.65114209e+00]]\n",
      "\n",
      "b = [0.89460666 0.08504421 0.03905478 0.16983042 0.8781425 ]\n",
      "\n",
      "sol_gauss_seidel = [ 3.41025089e-01 -2.97457169e-04 -2.69658082e-02 -2.36069594e-02\n",
      "  1.35483261e-01]\n",
      "iteraciones = 9\n",
      "\n",
      "sol_numpy = [ 3.41025082e-01 -2.97458619e-04 -2.69658069e-02 -2.36069575e-02\n",
      "  1.35483263e-01]\n",
      "\n",
      "sol_inv = [ 3.41025082e-01 -2.97458619e-04 -2.69658069e-02 -2.36069575e-02\n",
      "  1.35483263e-01]\n",
      "\n",
      "Normas de los residuos = {'GS_norm2': 1.885562130622038e-08, 'GS_norm_inf': 1.854012643409675e-08, 'NP_norm2': 1.6782945342419286e-16, 'NP_norm_inf': 1.1102230246251565e-16, 'INV_norm2': 7.110250420355456e-17, 'INV_norm_inf': 5.551115123125783e-17}\n",
      "\n",
      "Errores relativos vs numpy = {'GS_rel_error_2': 2.0689392883547072e-08, 'GS_rel_error_inf': 2.0653245172767932e-08, 'INV_rel_error_2': 1.7511900619595882e-16, 'INV_rel_error_inf': 1.6277732679728558e-16}\n",
      "\n",
      "Errores relativos GS vs INV = {'GS_vs_INV_2': 2.0689393026085717e-08, 'GS_vs_INV_inf': 2.0653245335545265e-08}\n"
     ]
    }
   ],
   "source": [
    "\n",
    "\n",
    "np.random.seed(1)\n",
    "n = 5\n",
    "A = np.random.rand(n, n)\n",
    "for i in range(n):\n",
    "    A[i, i] = np.sum(np.abs(A[i, :])) + 1.0\n",
    "b = np.random.rand(n)\n",
    "\n",
    "x_gs, it = gauss_seidel(A, b)\n",
    "x_np = np.linalg.solve(A, b)\n",
    "x_inv = np.linalg.inv(A) @ b\n",
    "\n",
    "r_gs = b - A @ x_gs\n",
    "r_np = b - A @ x_np\n",
    "r_inv = b - A @ x_inv\n",
    "\n",
    "residuals = {\n",
    "    'GS_norm2': np.linalg.norm(r_gs, 2),\n",
    "    'GS_norm_inf': np.linalg.norm(r_gs, np.inf),\n",
    "    'NP_norm2': np.linalg.norm(r_np, 2),\n",
    "    'NP_norm_inf': np.linalg.norm(r_np, np.inf),\n",
    "    'INV_norm2': np.linalg.norm(r_inv, 2),\n",
    "    'INV_norm_inf': np.linalg.norm(r_inv, np.inf),\n",
    "}\n",
    "\n",
    "rel_errors_vs_np = {\n",
    "    'GS_rel_error_2': np.linalg.norm(x_gs - x_np, 2) / np.linalg.norm(x_np, 2),\n",
    "    'GS_rel_error_inf': np.linalg.norm(x_gs - x_np, np.inf) / np.linalg.norm(x_np, np.inf),\n",
    "    'INV_rel_error_2': np.linalg.norm(x_inv - x_np, 2) / np.linalg.norm(x_np, 2),\n",
    "    'INV_rel_error_inf': np.linalg.norm(x_inv - x_np, np.inf) / np.linalg.norm(x_np, np.inf),\n",
    "}\n",
    "\n",
    "rel_between_gs_inv = {\n",
    "    'GS_vs_INV_2': np.linalg.norm(x_gs - x_inv, 2) / np.linalg.norm(x_inv, 2),\n",
    "    'GS_vs_INV_inf': np.linalg.norm(x_gs - x_inv, np.inf) / np.linalg.norm(x_inv, np.inf),\n",
    "}\n",
    "\n",
    "print(\"A =\\n\", A)\n",
    "print(\"\\nb =\", b)\n",
    "print(\"\\nsol_gauss_seidel =\", x_gs)\n",
    "print(\"iteraciones =\", it)\n",
    "print(\"\\nsol_numpy =\", x_np)\n",
    "print(\"\\nsol_inv =\", x_inv)\n",
    "print(\"\\nNormas de los residuos =\", residuals)\n",
    "print(\"\\nErrores relativos vs numpy =\", rel_errors_vs_np)\n",
    "print(\"\\nErrores relativos GS vs INV =\", rel_between_gs_inv)\n"
   ]
  },
  {
   "cell_type": "markdown",
   "metadata": {
    "id": "REVJcqYtnmM-"
   },
   "source": [
    "#4 Método de potencias para el valor propio dominante\n",
    "\n",
    "Sea \\$A\\in\\mathbb{R}^{n\\times n}\\$ diagonalizable con valor propio dominante \\$\\lambda\\_{\\max}\\$ (en magnitud) y vector propio asociado \\$v\\_{\\max}\\$.\n",
    "\n",
    "El método de potencias genera, a partir de un vector inicial \\$q^{(0)}\\neq 0\\$, la sucesión\n",
    "\n",
    "$$\n",
    "q^{(k+1)} \\;=\\; \\frac{A\\,q^{(k)}}{\\lVert A\\,q^{(k)}\\rVert_2},\n",
    "\\qquad\n",
    "\\lambda^{(k+1)} \\;=\\; (q^{(k+1)})^{\\!\\top} A\\, q^{(k+1)},\n",
    "$$\n",
    "\n",
    "que converge a \\$v\\_{\\max}/\\lVert v\\_{\\max}\\rVert\\_2\\$ y a \\$\\lambda\\_{\\max}\\$ respectivamente, bajo hipótesis estándar.\n",
    "\n",
    "Implemente `power_method(A, tol=1e-7, max_iter=1000)` que:\n",
    "\n",
    "   * Acepte matrices reales cuadradas,\n",
    "   * Devuelva \\$\\lambda\\_{\\max}\\$, el vector propio normalizado \\$v\\_{\\max}\\$, el número de iteraciones y la última variación relativa de \\$\\lambda\\$,\n",
    "   * detenga la iteración cuando\n",
    "     $\\bigl|\\lambda^{(k+1)}-\\lambda^{(k)}\\bigr|<\\text{tol}\\,|\\lambda^{(k+1)}|$\n",
    "     o se alcance `max_iter`.\n",
    "\n",
    "Luego,\n",
    "   * Genere una matriz simétrica aleatoria \\$6\\times6\\$ (por ejemplo, \\$A = (M+M^\\top)/2\\$ con \\$M\\$ aleatoria).\n",
    "   * Aplique su `power_method` y compare \\$\\lambda\\_{\\max}\\$ y \\$v\\_{\\max}\\$ con los resultados de `numpy.linalg.eig`."
   ]
  },
  {
   "cell_type": "code",
   "execution_count": 23,
   "metadata": {
    "id": "lPzFAOE7obZY"
   },
   "outputs": [],
   "source": [
    "def power_method(A, tol=1e-7, max_iter=1000):\n",
    "\n",
    "    if A.dtype != float:\n",
    "        raise ValueError('La matriz no es real')\n",
    "    if A.shape[0] !=A.shape[1]:\n",
    "        raise ValueError(' La matriz no es cuadrada')\n",
    "    n = len(A)\n",
    "\n",
    "    q = np.ones(n)\n",
    "    q_new = np.zeros_like(q)\n",
    "    lamda = 0\n",
    "    for i in range(max_iter):\n",
    "        q_new = A@q/np.linalg.norm(A@q)\n",
    "        lamda_new = q_new.T @ (A @ q_new)\n",
    "\n",
    "        if abs(lamda_new - lamda) < tol * lamda_new:\n",
    "            return q_new, lamda_new, i, lamda\n",
    "        lamda = lamda_new\n",
    "        q = q_new"
   ]
  },
  {
   "cell_type": "code",
   "execution_count": 28,
   "metadata": {},
   "outputs": [
    {
     "name": "stdout",
     "output_type": "stream",
     "text": [
      "usando power method\n",
      "Autovalor dominante: 2.6694855187791577\n",
      "Autovector dominante: [0.4934119  0.36928283 0.45227796 0.38323565 0.34909252 0.38325498]\n",
      "usando linalg.eig\n",
      "Autovalor dominante: 2.6694855212382875\n",
      "Autovector dominante: [0.49341409 0.3692752  0.45228132 0.38323599 0.34907396 0.38327212]\n"
     ]
    }
   ],
   "source": [
    "M = np.random.rand(6,6)\n",
    "A = (M + M.T)/2\n",
    "\n",
    "v, l, itera, ulland = power_method(A)\n",
    "print('usando power method')\n",
    "print(\"Autovalor dominante:\", l)\n",
    "print(\"Autovector dominante:\", v)\n",
    "\n",
    "l, v = np.linalg.eig(A)\n",
    "#Encontramos el indice del autovalor propio maximo\n",
    "idx = np.argmax(l)\n",
    "\n",
    "#Encontramos el valor y vector propio\n",
    "lmax = l[idx]\n",
    "vmax = v[:, idx]\n",
    "\n",
    "print('usando linalg.eig')\n",
    "print(\"Autovalor dominante:\", lmax)\n",
    "print(\"Autovector dominante:\", abs(vmax))\n",
    "    "
   ]
  },
  {
   "cell_type": "markdown",
   "metadata": {
    "id": "iggu2jNwVpnK"
   },
   "source": [
    "#5\n",
    "\n",
    "Verifique que cualquier matriz hermitiana de 2 × 2 $ L $ puede escribirse como una suma de cuatro términos:\n",
    "\n",
    "$$ L = a\\sigma_x + b\\sigma_y + c\\sigma_z + dI $$\n",
    "\n",
    "donde $ a $, $ b $, $ c $ y $ d $ son números reales.\n",
    "\n",
    "Las cuatro matrices de Pauli son:\n",
    "\n",
    "$$ \\sigma_x = \\begin{pmatrix} 0 & 1 \\\\ 1 & 0 \\end{pmatrix}, \\quad \\sigma_y = \\begin{pmatrix} 0 & -i \\\\ i & 0 \\end{pmatrix}, \\quad \\sigma_z = \\begin{pmatrix} 1 & 0 \\\\ 0 & -1 \\end{pmatrix}, \\quad I = \\begin{pmatrix} 1 & 0 \\\\ 0 & 1 \\end{pmatrix} $$\n",
    "\n",
    "\n"
   ]
  },
  {
   "cell_type": "code",
   "execution_count": 35,
   "metadata": {},
   "outputs": [
    {
     "name": "stdout",
     "output_type": "stream",
     "text": [
      "Coeficientes (a,b,c,d): (0.85+0.04999999999999999j) (0.25-0.35j) (1.35+0.75j) (0.65+0.25j)\n",
      "\n",
      "¿Coincide H con la reconstrucción?: True\n",
      "\n",
      "H original:\n",
      " [[ 2. +1.j   0.5-0.2j]\n",
      " [ 1.2+0.3j -0.7-0.5j]]\n",
      "\n",
      "H reconstruida:\n",
      " [[ 2. +1.j   0.5-0.2j]\n",
      " [ 1.2+0.3j -0.7-0.5j]]\n"
     ]
    }
   ],
   "source": [
    "# Bases: Pauli + identidad\n",
    "sigma_x = np.array([[0, 1],\n",
    "                    [1, 0]], dtype=complex)\n",
    "\n",
    "sigma_y = np.array([[0, -1j],\n",
    "                    [1j, 0]], dtype=complex)\n",
    "\n",
    "sigma_z = np.array([[1, 0],\n",
    "                    [0, -1]], dtype=complex)\n",
    "\n",
    "I = np.eye(2, dtype=complex)\n",
    "#Planteamos un sistema de ecuaciones Ax = b\n",
    "#donde x son los coeficientes de pauli\n",
    "\n",
    "# Ejemplo con una matriz hermitica 2x2\n",
    "H = np.array([[2 + 1j, 0.5 - 0.2j],\n",
    "              [1.2 + 0.3j, -0.7 - 0.5j]], dtype=complex)\n",
    "\n",
    "#Matriz A asociada al sistema\n",
    "A = np.array([[0, 0, 1, 1],\n",
    "              [1, -1j, 0, 0],\n",
    "              [1, 1j, 0, 0],\n",
    "              [0, 0, -1, 1]], dtype = complex)\n",
    "\n",
    "B = np.array([H[0,0], H[0,1], H[1,0], H[1,1]])\n",
    "\n",
    "a, b, c, d = np.linalg.solve(A, B)\n",
    "\n",
    "\n",
    "print(\"Coeficientes (a,b,c,d):\", a, b, c, d)\n",
    "\n",
    "# Reconstruir y comprobar\n",
    "H_new = a*sigma_x + b*sigma_y + c*sigma_z + d*I\n",
    "print(\"\\n¿Coincide H con la reconstrucción?:\", np.allclose(H, H_new))\n",
    "print(\"\\nH original:\\n\", H)\n",
    "print(\"\\nH reconstruida:\\n\", H_new)\n"
   ]
  },
  {
   "cell_type": "markdown",
   "metadata": {
    "id": "GnCw5_O5pMxl"
   },
   "source": [
    "# 6\n",
    "\n",
    "Haga un breve resumen en Markdown de las funciones y métodos más relevantes para algebra lineal usando Python. Emplee ejemplos."
   ]
  },
  {
   "cell_type": "markdown",
   "metadata": {
    "id": "djdVPgpoparm"
   },
   "source": [
    "# Funciones y métodos más relevantes para algebra lineal usando Python.\n",
    "\n",
    "| Método | Descripción | Ejemplo de Uso | Caso de Aplicación Típico |\n",
    "|--------|-------------|----------------|---------------------------|\n",
    "| `np.linalg.solve` | Resuelve un sitema de ecuaciones | `np.linag.solve(A, b)` | Resolver sistema Ax = b |\n",
    "| `np.linalg.eig` | Encuentra los valores y vectores propios de una matriz cuadrada | `np.linalg.eig(A)` | Solucion de ecuaciones diferenciales lineales de primer orden |\n",
    "| `.T` | Transpone una matriz | `A.T` | Intercambiar filas y columnas |\n",
    "| `np.random.rand()` | sirve para obtener una matriz aleatoria de cierto tamaño | `np.random.rand(5,5)` | Matriz aleatoria de tamaño 5x5 |\n",
    "| `Power_metho` | Calcula los valores y vectores propios de una matriz | `Power_method(A)` | lo mismo que linalg.eig |\n",
    "| `.shape` | sirve para obtener las dimensiones de una matriz | `A.shape` | para hacer metodos iterativos con matrices |\n",
    "| `len` | sirve para obtener la cantidad de elementos de cada fila de una matriz | `len(A)` | Para hecer metodos iterativos |\n",
    "| `np.zeros_like` | Sirve para crear matrices vacias con la dimension de una matriz A | `np.zeros_like(A)` | Para metodos iterativos |\n",
    "| `np.diag()` | Extrae o crea diagonal | `np.diag(A)` | Manejo de matrices diagonales |\n",
    "| `np.linalg.det()` | Calcula el determinante de una matriz | `np.linalg.det(A)` | Resolución de sistemas lineales |\n",
    "| `@` | Multiplicación matricial | `A@B` | Multiplicación de matrices |\n",
    "| `np.inner()` | Producto interno | `np.inner(a, b)` | Proyecciones y ángulos entre vectores |\n",
    "| `np.norm` | sirve para calcularle la norma a un vector | `np.norm(v)` |Para emcontrar los errores de metodos, para encotrar bases ortonormales |\n",
    "| `np.allclose` | comparacion de matrices | `np.allclose(A,B) ` | para comparar la eficiencia de los metodos |"
   ]
  },
  {
   "cell_type": "code",
   "execution_count": null,
   "metadata": {},
   "outputs": [],
   "source": []
  }
 ],
 "metadata": {
  "colab": {
   "include_colab_link": true,
   "provenance": []
  },
  "kernelspec": {
   "display_name": "Python 3 (ipykernel)",
   "language": "python",
   "name": "python3"
  },
  "language_info": {
   "codemirror_mode": {
    "name": "ipython",
    "version": 3
   },
   "file_extension": ".py",
   "mimetype": "text/x-python",
   "name": "python",
   "nbconvert_exporter": "python",
   "pygments_lexer": "ipython3",
   "version": "3.12.10"
  }
 },
 "nbformat": 4,
 "nbformat_minor": 4
}
