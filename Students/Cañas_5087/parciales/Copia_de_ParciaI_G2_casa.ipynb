{
 "cells": [
  {
   "cell_type": "markdown",
   "metadata": {
    "id": "bcIQtfNJ4sBq"
   },
   "source": [
    "# Parcial I - Métodos Computacionales\n",
    "\n",
    "**2025-1**\n",
    "\n",
    "---\n",
    "\n",
    "Nombre: Jesús Armando Cañas Gamboa\n",
    "\n",
    "Identificación: 1093855087\n",
    "\n",
    "---\n",
    "\n",
    "* ⚠ Explique su código usando con comentarios,\n",
    "\n",
    "* ❗Todas las funciones deben tener documentación básica,\n",
    "\n",
    "* 🛑 El uso de IA's no está permitido,\n",
    "\n",
    "* ⚛ La interpretación del enunciado hace parte de la evaluación,\n",
    "\n",
    "* ⏲ Este parcial tiene una duración de 2 horas"
   ]
  },
  {
   "cell_type": "code",
   "execution_count": 1,
   "metadata": {
    "id": "-86TwvuE48Kp"
   },
   "outputs": [],
   "source": [
    "# Librerias útiles\n",
    "import numpy as np\n",
    "import matplotlib.pyplot as plt\n",
    "import pandas as pd\n",
    "from math import factorial\n",
    "from scipy.optimize import root_scalar, newton, bisect # Funciones para raices\n",
    "\n",
    "## Ayudas\n",
    "# np.sign (Signo de una variable)\n",
    "# np.deg2rad (Convertir grados a radianes)\n",
    "# pd.Dataframe Genera un dataframe a partir de un diccionario o listas\n",
    "# range(0, 10, 2) (Pasos de 2 comenzando en 0 hasta 10)"
   ]
  },
  {
   "cell_type": "markdown",
   "metadata": {
    "id": "rNIchL-H5ZII"
   },
   "source": [
    "# 1\n",
    "\n",
    "**(40 puntos)** El **método de Ridder** es un algoritmo de búsqueda de raíces que, como la bisección, requiere un intervalo $[a, b]$ tal que $f(a) \\cdot f(b) < 0$. A diferencia de la bisección, Ridder introduce una corrección exponencial para acelerar la convergencia, logrando **convergencia cuadrática** sin requerir derivadas.\n",
    "\n",
    "---\n",
    "### Pasos para implementar\n",
    "\n",
    "1. **Definir la función** $f(x)$ y un intervalo $[a, b]$ tal que:\n",
    "\n",
    "   - $f(a) \\cdot f(b) < 0$ (la función tiene signos opuestos en los extremos del intervalo).\n",
    "   - La función debe ser continua en $[a, b]$.\n",
    "\n",
    "2. **Calcular el punto medio**:\n",
    "\n",
    "   $$\n",
    "   m = \\frac{a + b}{2}\n",
    "   $$\n",
    "\n",
    "3. **Calcular la corrección exponencial**:\n",
    "\n",
    "   - Evaluar $f(a)$, $f(b)$ y $f(m)$.\n",
    "   - Calcular:\n",
    "\n",
    "     $$\n",
    "     s = \\sqrt{f(m)^2 - f(a) f(b)}\n",
    "     $$\n",
    "\n",
    "   - Si $s = 0$, detener: la raíz no puede estimarse en esta iteración.\n",
    "\n",
    "   - Calcular el nuevo candidato a raíz:\n",
    "\n",
    "     $$\n",
    "     x = m + \\frac{(m - a) f(m)}{s} \\cdot \\text{sign}(f(a) - f(b))\n",
    "     $$\n",
    "\n",
    "4. **Evaluar $f(x)$** y actualizar el intervalo:\n",
    "\n",
    "   - Si $f(m) \\cdot f(x) < 0$, entonces la nueva raíz está entre $m$ y $x$.\n",
    "   - Si $f(a) \\cdot f(x) < 0$, entonces actualizar $b = x$, luego $f(b) = f(x)$.\n",
    "   - Si $f(b) \\cdot f(x) < 0$, entonces actualizar $a = x$, luego $f(a) = f(x)$.\n",
    "   - En cada paso mantener la condición $f(a) \\cdot f(b) < 0$.\n",
    "\n",
    "5. **Criterio de parada**:\n",
    "\n",
    "   - Repetir los pasos anteriores hasta que se alcance la tolerancia deseada:\n",
    "\n",
    "     $$\n",
    "     |f(x)| < \\varepsilon \\quad \\text{o} \\quad |b - a| < \\delta\n",
    "     $$\n",
    "\n",
    "   donde $\\varepsilon$ y $\\delta$ son tolerancias establecidas por el usuario.\n",
    "\n",
    "---\n",
    "\n",
    "* Defina una función llamada `Ridder` que calcule la raiz de una función dada. Su función debe tener documentación y retornar el valor de la raiz junto con el número de iteraciones empleadas para alcanzar la convergencia dada una tolerancia.\n",
    "\n",
    "* Usando\n",
    "$$\\cos(x) = x,$$\n",
    "\n",
    "Grafique la función para $0\\leq x \\leq \\pi/2$ usando 100 puntos. Luego, cree un DataFrame con los datos de $x$ y $f(x)$, y encuentre una primera aproximación a la raiz aplicando un filtro en el dataframe con los valores más cercanos a cero.\n",
    "\n",
    "* Usando el método de Ridder encuentre la raiz númericamente y compare su resultado usando el método de bisección y secante.\n",
    "\n",
    "* Para las siguientes tolerancias (ver código) realice un gráfico usando escala logaritimica en $y$ de cuantas iteraciones son necesarias hasta alcanzar la convergencia. ¿Qué puede concluir acerca de la misma?\n",
    "\n",
    "```python\n",
    "# Tolerancias\n",
    "tol = np.logspace(-1, -20, 20)\n",
    "\n",
    "# Grafico semilog\n",
    "\n",
    "plt.semilogy(N, tol)\n",
    "\n",
    "```"
   ]
  },
  {
   "cell_type": "code",
   "execution_count": 2,
   "metadata": {
    "id": "phBAIpoX7Y9W"
   },
   "outputs": [],
   "source": [
    "def metodo_de_Ridder(a,b,f,epsilon= 1e-10,Max_iter = 1000000):\n",
    "    '''\n",
    "    Esta funcion calcula las raices de un función\n",
    "    Entrada: \n",
    "    a y b : extremos del intervalo donde esta la raiz\n",
    "    f: función\n",
    "    epsilon: Tolerancia\n",
    "    Max_iter : maximo de iteraciones\n",
    "\n",
    "    Salida:\n",
    "    Raiz \n",
    "\n",
    "    errores:\n",
    "    el intervalo no contiene la raiz\n",
    "    la correxión exponencial es cero\n",
    "    el maximo de iteraciones ha sido alcanzado\n",
    "    \n",
    "    '''\n",
    "    \n",
    "    if f(a)*f(b)>= 0: #Verificamos si el intervalo es correcto\n",
    "          raise ValueError('el intervalo es incorrecto')\n",
    "\n",
    "    else:\n",
    "\n",
    "        for i in range(Max_iter):\n",
    "\n",
    "          m = (a + b) / 2 #Calculamos el punto medio\n",
    "\n",
    "          #Calcular la corrección exponencial\n",
    "          s = np.sqrt((f(m)** 2) -(f(a)*f(b))) #Calculamos s\n",
    "\n",
    "          if s == 0: #miramos si s = 0, si no no podemos continuar con el metodo\n",
    "                raise ValueError('el intervalo no permite continuar con el metodo')\n",
    "\n",
    "          x =  m + (((m - a) * f(m))/s * np.sign(f(a)-f(b))) #Calculamos x\n",
    "\n",
    "          #miramos si se cumple la tolerancia\n",
    "          if abs(f(x)) < epsilon:#or abs(b-a)< delta:\n",
    "            return x\n",
    "\n",
    "          if f(m)*f(x) < 0: # si no miramos si el intervalo entre m y x contiene la raiz\n",
    "\n",
    "              a = m\n",
    "              b = x\n",
    "\n",
    "          else : #Si no actualizamos los valores dependiendo del signo de la multiplicacion de f(a)*f(x)\n",
    "            if f(a)*f(x) < 0:\n",
    "              b = x\n",
    "            if f(b)*f(x) < 0:\n",
    "              a = x\n",
    "\n",
    "        raise RuntimeError('Maximo de iteraciones alcanzado')"
   ]
  },
  {
   "cell_type": "code",
   "execution_count": 3,
   "metadata": {
    "id": "i6Oe2eKEh1qq"
   },
   "outputs": [],
   "source": [
    "cos = lambda x: np.cos(x)-x #Dedinimos la funcion que vamos a usar igualada a cero"
   ]
  },
  {
   "cell_type": "code",
   "execution_count": 4,
   "metadata": {
    "colab": {
     "base_uri": "https://localhost:8080/",
     "height": 448
    },
    "id": "MCy5hHasiFh3",
    "outputId": "7d26558e-ac3c-46cf-d861-859f345f9200"
   },
   "outputs": [
    {
     "data": {
      "image/png": "[encoded data removed]",
      "text/plain": [
       "<Figure size 1000x600 with 1 Axes>"
      ]
     },
     "metadata": {},
     "output_type": "display_data"
    }
   ],
   "source": [
    "x = np.linspace(0,np.pi/2,100) #Creamos un array con los valores de x\n",
    "plt.figure(figsize = (10,6))\n",
    "plt.plot(x , cos(x), 'g-',label = 'x- cos(x)' ) #Hacemos una grafica de la función\n",
    "plt.xlabel('x')\n",
    "plt.ylabel('x - cos(x)')\n",
    "plt.axhline(y = 0 , color = 'red', linestyle = '--')#Trazamo una linea horizontal que intersecte la raiz\n",
    "plt.legend() #Mostramos la leyenda\n",
    "plt.grid()\n",
    "plt.show() #Mostramos la graficaa\n"
   ]
  },
  {
   "cell_type": "code",
   "execution_count": 5,
   "metadata": {
    "colab": {
     "base_uri": "https://localhost:8080/"
    },
    "id": "oU9_uObilxSx",
    "outputId": "1e558bb5-8f47-4135-dbbd-46faf501e329"
   },
   "outputs": [],
   "source": [
    "df = pd.DataFrame({'x': x , ' x - cos(x)' : cos(x)})"
   ]
  },
  {
   "cell_type": "code",
   "execution_count": 6,
   "metadata": {},
   "outputs": [],
   "source": [
    "cercano = -abs(df[\" x - cos(x)\"]).min() #Miramos cual es el valor que se acerca mas a cero en la funcion\n",
    "df_filtrado = df[df[\" x - cos(x)\"] == cercano] #Definimos el dataframe que contenga ese valor \n"
   ]
  },
  {
   "cell_type": "code",
   "execution_count": 7,
   "metadata": {},
   "outputs": [
    {
     "data": {
      "text/html": [
       "<div>\n",
       "<style scoped>\n",
       "    .dataframe tbody tr th:only-of-type {\n",
       "        vertical-align: middle;\n",
       "    }\n",
       "\n",
       "    .dataframe tbody tr th {\n",
       "        vertical-align: top;\n",
       "    }\n",
       "\n",
       "    .dataframe thead th {\n",
       "        text-align: right;\n",
       "    }\n",
       "</style>\n",
       "<table border=\"1\" class=\"dataframe\">\n",
       "  <thead>\n",
       "    <tr style=\"text-align: right;\">\n",
       "      <th></th>\n",
       "      <th>x</th>\n",
       "      <th>x - cos(x)</th>\n",
       "    </tr>\n",
       "  </thead>\n",
       "  <tbody>\n",
       "    <tr>\n",
       "      <th>47</th>\n",
       "      <td>0.745732</td>\n",
       "      <td>-0.01114</td>\n",
       "    </tr>\n",
       "  </tbody>\n",
       "</table>\n",
       "</div>"
      ],
      "text/plain": [
       "           x   x - cos(x)\n",
       "47  0.745732     -0.01114"
      ]
     },
     "execution_count": 7,
     "metadata": {},
     "output_type": "execute_result"
    }
   ],
   "source": [
    "df_filtrado #impriminos"
   ]
  },
  {
   "cell_type": "markdown",
   "metadata": {},
   "source": [
    "### Usando el método de Ridder encuentre la raiz númericamente y compare su resultado usando el método de bisección y secante"
   ]
  },
  {
   "cell_type": "code",
   "execution_count": 8,
   "metadata": {
    "colab": {
     "base_uri": "https://localhost:8080/"
    },
    "id": "NXdA8Ebumf-C",
    "outputId": "d6c3abc9-d62e-4b2d-ec4e-4de1fc10d8a3"
   },
   "outputs": [
    {
     "data": {
      "text/plain": [
       "0.7390851332151974"
      ]
     },
     "execution_count": 8,
     "metadata": {},
     "output_type": "execute_result"
    }
   ],
   "source": [
    "metodo_de_Ridder(0.6,0.8,cos) #Metodo de Ridder"
   ]
  },
  {
   "cell_type": "code",
   "execution_count": 9,
   "metadata": {},
   "outputs": [
    {
     "data": {
      "text/plain": [
       "0.7390851332151214"
      ]
     },
     "execution_count": 9,
     "metadata": {},
     "output_type": "execute_result"
    }
   ],
   "source": [
    "bisect(cos,0.6,0.8) #Bisección"
   ]
  },
  {
   "cell_type": "code",
   "execution_count": 10,
   "metadata": {},
   "outputs": [
    {
     "data": {
      "text/plain": [
       "0.7390851332151607"
      ]
     },
     "execution_count": 10,
     "metadata": {},
     "output_type": "execute_result"
    }
   ],
   "source": [
    "newton(cos,0.6,x1 = 0.8) #Secante"
   ]
  },
  {
   "cell_type": "markdown",
   "metadata": {},
   "source": [
    "### Para las siguientes tolerancias (ver código) realice un gráfico usando escala logaritimica en de cuantas iteraciones son necesarias hasta alcanzar la convergencia. ¿Qué puede concluir acerca de la misma?"
   ]
  },
  {
   "cell_type": "code",
   "execution_count": 11,
   "metadata": {
    "id": "kqON5oZ3m1MV"
   },
   "outputs": [],
   "source": [
    "def metodo_de_Ridder(epsilon, a=0.6, b=0.8, f=cos, Max_iter = 1000000):\n",
    "  '''\n",
    "    Esta funcion calcula las iteraciones que se demora el metodo en encontrar\n",
    "    las raices de una función\n",
    "    Entrada: \n",
    "    a y b : extremos del intervalo donde esta la raiz\n",
    "    f: función\n",
    "    epsilon: Tolerancia\n",
    "    Max_iter : maximo de iteraciones\n",
    "\n",
    "    Salida:\n",
    "    i = numero de iteraciones que se demora el metodo en encotrar la raiz\n",
    "\n",
    "    errores:\n",
    "    el intervalo no contiene la raiz\n",
    "    la correxión exponencial es cero\n",
    "    el maximo de iteraciones ha sido alcanzado\n",
    "    \n",
    "  '''\n",
    "    \n",
    "  if f(a)*f(b)>= 0: #Verificamos si el intervalo es correcto\n",
    "    raise ValueError('el intervalo es incorrecto')\n",
    "\n",
    "  else:\n",
    "\n",
    "    for i in range(Max_iter):\n",
    "\n",
    "      m = (a + b) / 2 #Calculamos el punto medio\n",
    "\n",
    "      #Calcular la corrección exponencial\n",
    "      s = np.sqrt((f(m)** 2) -(f(a)*f(b))) #Calculamos s\n",
    "\n",
    "      if s == 0: #miramos si s = 0, si no no podemos continuar con el metodo\n",
    "        raise ValueError('el intervalo no permite continuar con el metodo')\n",
    "\n",
    "      x =  m + (((m - a) * f(m))/s * np.sign(f(a)-f(b))) #Calculamos x\n",
    "\n",
    "      #miramos si se cumple la tolerancia\n",
    "      if abs(f(x)) < epsilon:#or abs(b-a)< delta:\n",
    "        return i\n",
    "\n",
    "      if f(m)*f(x) < 0: # si no miramos si el intervalo entre m y x contiene la raiz\n",
    "\n",
    "          a = m\n",
    "          b = x\n",
    "\n",
    "      else : #Si no actualizamos los valores dependiendo del signo de la multiplicacion de f(a)*f(x)\n",
    "        if f(a)*f(x) < 0:\n",
    "          b = x\n",
    "        if f(b)*f(x) < 0:\n",
    "          a = x\n",
    "\n",
    "    raise RuntimeError('Maximo de iteraciones alcanzado')"
   ]
  },
  {
   "cell_type": "code",
   "execution_count": 12,
   "metadata": {
    "id": "R8SZSeAxt7DS"
   },
   "outputs": [],
   "source": [
    "tol = np.logspace(-1, -20, 20) #Definimos las tolerancias"
   ]
  },
  {
   "cell_type": "code",
   "execution_count": 13,
   "metadata": {
    "id": "ep0IC6tZuAuC"
   },
   "outputs": [],
   "source": [
    "iteraciones = [] #Hacemos una lista para guardar el numero de iteraciones\n",
    "for i in tol:\n",
    "    iteraciones.append(metodo_de_Ridder(i))"
   ]
  },
  {
   "cell_type": "code",
   "execution_count": 14,
   "metadata": {
    "colab": {
     "base_uri": "https://localhost:8080/",
     "height": 448
    },
    "id": "tvMzd3y7uzDL",
    "outputId": "b04932c7-c54c-42bb-ab7c-6337f681b5d2"
   },
   "outputs": [
    {
     "data": {
      "image/png": "[encoded data removed]",
      "text/plain": [
       "<Figure size 640x480 with 1 Axes>"
      ]
     },
     "metadata": {},
     "output_type": "display_data"
    }
   ],
   "source": [
    "#Graficamos\n",
    "plt.title('Tolerancia en funcion del numero de iteraciones')\n",
    "plt.semilogy(iteraciones,tol, '.')\n",
    "plt.xlabel('Numero de iteraciones')\n",
    "plt.xticks(np.arange(0,5,1))\n",
    "plt.ylabel('Tolerancia')\n",
    "plt.grid()\n",
    "plt.show()"
   ]
  },
  {
   "cell_type": "markdown",
   "metadata": {},
   "source": [
    "Se puede decir que el metodo no demara en converger, es muy eficiente."
   ]
  },
  {
   "cell_type": "markdown",
   "metadata": {
    "id": "od2GDFK5-QJC"
   },
   "source": [
    "#2\n",
    "\n",
    "**(60 puntos)** En óptica, cuando un rayo de luz atraviesa la interfaz entre dos medios con diferentes índices de refracción, su dirección cambia según la ley de Snell. Para el caso de un prisma triangular, cuando un rayo emerge después de dos refracciones, el ángulo de desviación total $\\delta$ está dado por:\n",
    "\n",
    "$$\\delta(\\theta_i) = \\theta_i + \\arcsin\\left(n\\sin\\left(A - \\arcsin\\left(\\frac{\\sin\\theta_i}{n}\\right)\\right)\\right) - A$$\n",
    "\n",
    "donde $\\theta_i$ es el ángulo de incidencia, $n$ es el índice de refracción del prisma y $A$ es el ángulo del prisma.\n",
    "\n",
    "La derivada de esta función con respecto al ángulo de incidencia $\\theta_i$ es:\n",
    "\n",
    "$$\\frac{d\\delta}{d\\theta_i} = 1 - \\frac{\\cos\\theta_i \\cdot \\cos(A-\\theta_r)}{\\cos\\theta_r \\cdot \\sqrt{1-n^2\\sin^2(A-\\theta_r)}}$$\n",
    "\n",
    "donde $\\theta_r = \\arcsin\\left(\\frac{\\sin\\theta_i}{n}\\right)$ es el ángulo de refracción en la primera interfaz.\n",
    "\n",
    "Considere un prisma de vidrio crown con $n = 1.52$ y $A = 60°$.\n",
    "\n",
    "### Parte A:\n",
    "* Escriba una función explicita y documentada para $\\frac{d\\delta}{d\\theta_i}$\n",
    "\n",
    "* Realice un gráfico para $\\frac{d\\delta}{d\\theta_i}$ y encuentre el ángulo de incidencia $\\theta_i$ que produce el ángulo de desviación mínimo para $\\theta_i \\in [30°, 80°]$.\n",
    "\n",
    "* Use el método de Newton-Raphson (sin derivada) y el método de la secante para hallar el ángulo de desviación mínimo.\n",
    "\n",
    "\n",
    "### Parte B:\n",
    "* Determine el ángulo crítico $\\theta_c$ para el cual el rayo comienza a experimentar reflexión interna total en la segunda interfaz del prisma. Esta condición ocurre cuando:\n",
    "\n",
    "$$\\sin(A - \\theta_r) = \\frac{1}{n}$$\n",
    "\n",
    "* Resuelva numéricamente la ecuación anterior para encontrar el ángulo de incidencia $\\theta_i$ correspondiente a este ángulo crítico, utilizando el método de la bisección.\n",
    "\n",
    "\n",
    "\n"
   ]
  },
  {
   "cell_type": "markdown",
   "metadata": {},
   "source": [
    "### Parte A"
   ]
  },
  {
   "cell_type": "markdown",
   "metadata": {},
   "source": [
    "* Escriba una función explicita y documentada para $\\frac{d\\delta}{d\\theta_i}$"
   ]
  },
  {
   "cell_type": "code",
   "execution_count": 15,
   "metadata": {
    "id": "hkHRzyB9-mSS"
   },
   "outputs": [],
   "source": [
    "def d_angulo_de_desviacion(Theta_i, n=1.52, A = np.pi/3 ):\n",
    "  ''' \n",
    "  Esta funcion calcula la derivada de la funcion \n",
    "  del angulo de desviacion total\n",
    "  Entrada:\n",
    "  angulo de incidencia : Theta_i\n",
    "  indice de refraccion : n\n",
    "  Angulo el prisma : A \n",
    "\n",
    "  Salida:\n",
    "  valor de la derivada para el angulo de  incidencia dado\n",
    "  '''\n",
    "  Theta_r = np.arcsin(np.sin(Theta_i)/n) #Definimos el angulo de refraccion\n",
    "\n",
    "  Numerador = np.cos(Theta_i)*np.cos(A - Theta_r) #Calculamos el numerador de la funcion\n",
    "\n",
    "  Denominador = np.cos(Theta_r) * np.sqrt(1- (n * np.sin(A - Theta_r))**2) #Calculamos el denominador de la función\n",
    "\n",
    "  return 1- Numerador/Denominador #Retornamos el valor\n"
   ]
  },
  {
   "cell_type": "code",
   "execution_count": 16,
   "metadata": {},
   "outputs": [],
   "source": [
    "def delta(theta_i, A = np.pi/3, n = 1.52):\n",
    "    \"\"\"\n",
    "    Calcula la función delta(theta_i) = theta_i + arcsin(n * sin(A - arcsin(sin(theta_i)/n))) - A\n",
    "    \n",
    "    Parámetros:\n",
    "        theta_i : ángulo de incidencia en radianes\n",
    "        A       : ángulo A en radianes\n",
    "        n       : índice de refracción (número real)\n",
    "    \n",
    "    Retorna:\n",
    "        delta   : resultado de la función\n",
    "    \"\"\"\n",
    "    inner_arcsin = np.arcsin(np.sin(theta_i) / n)\n",
    "    delta_val = theta_i + np.arcsin(n * np.sin(A - inner_arcsin)) - A\n",
    "    return delta_val\n"
   ]
  },
  {
   "cell_type": "markdown",
   "metadata": {},
   "source": [
    "* Realice un gráfico para $\\frac{d\\delta}{d\\theta_i}$ y encuentre el ángulo de incidencia $\\theta_i$ que produce el ángulo de desviación mínimo para $\\theta_i \\in [30°, 80°]$."
   ]
  },
  {
   "cell_type": "code",
   "execution_count": 17,
   "metadata": {
    "colab": {
     "base_uri": "https://localhost:8080/",
     "height": 433
    },
    "id": "PYxJu9U2pQuB",
    "outputId": "41d39682-cb02-44ae-9d3b-0f98f9a1a824"
   },
   "outputs": [
    {
     "data": {
      "image/png": "[encoded data removed]",
      "text/plain": [
       "<Figure size 1000x600 with 1 Axes>"
      ]
     },
     "metadata": {},
     "output_type": "display_data"
    }
   ],
   "source": [
    "Theta = np.linspace(np.deg2rad(30),np.deg2rad(80),1000) #Hacemos un array con los valores de los angulos\n",
    "plt.figure(figsize=(10,6))#Le damos tamaño a la imagen\n",
    "plt.title('ángulo de incidencia que produce el ángulo de desviacion') #Elegimos un titulo\n",
    "plt.plot(Theta,d_angulo_de_desviacion(Theta))#Graficamos\n",
    "plt.xlabel('theta_i') #Le damos titulo a los ejes\n",
    "plt.ylabel('theta_d')\n",
    "plt.axhline(y=0, color = 'red', linestyle = '--') #Trazamos una linea horizontal \n",
    "plt.grid()"
   ]
  },
  {
   "cell_type": "markdown",
   "metadata": {},
   "source": [
    "* Use el método de Newton-Raphson (sin derivada) y el método de la secante para hallar el ángulo de desviación mínimo."
   ]
  },
  {
   "cell_type": "code",
   "execution_count": 18,
   "metadata": {
    "colab": {
     "base_uri": "https://localhost:8080/",
     "height": 287
    },
    "id": "xjMhaUkGqm4Q",
    "outputId": "407821f1-c27f-4b57-e0c9-953471106c4b"
   },
   "outputs": [
    {
     "name": "stdout",
     "output_type": "stream",
     "text": [
      "38.93° este es el angulo de desviación minimo\n"
     ]
    }
   ],
   "source": [
    "Theta_minimo = newton(d_angulo_de_desviacion, 1)#Angulo de incidencia cuando la derivada de la funcion del angulo de desviacin es cero, es decir cuando hay un minimo \n",
    "print(f'{np.rad2deg(delta(Theta_minimo)):.2f}° este es el angulo de desviación minimo')"
   ]
  },
  {
   "cell_type": "code",
   "execution_count": 19,
   "metadata": {},
   "outputs": [
    {
     "name": "stdout",
     "output_type": "stream",
     "text": [
      "0.8633131150155533\n"
     ]
    }
   ],
   "source": [
    "print(Theta_minimo) #Newton rapson"
   ]
  },
  {
   "cell_type": "code",
   "execution_count": 20,
   "metadata": {
    "colab": {
     "base_uri": "https://localhost:8080/",
     "height": 293
    },
    "id": "6O0f0RHtvrhi",
    "outputId": "49ed7955-65cc-4965-a80a-cdbf0488ec86"
   },
   "outputs": [
    {
     "data": {
      "text/plain": [
       "0.8633131150155534"
      ]
     },
     "execution_count": 20,
     "metadata": {},
     "output_type": "execute_result"
    }
   ],
   "source": [
    "newton(d_angulo_de_desviacion,0.8 , x1 = 1 ) #Angulo de incidencia minimo usando secante"
   ]
  },
  {
   "cell_type": "markdown",
   "metadata": {},
   "source": [
    "### Parte B"
   ]
  },
  {
   "cell_type": "markdown",
   "metadata": {},
   "source": [
    "* Determine el ángulo crítico $\\theta_c$ para el cual el rayo comienza a experimentar reflexión interna total en la segunda interfaz del prisma. Esta condición ocurre cuando:\n",
    "\n",
    "$$\\sin(A - \\theta_r) = \\frac{1}{n}$$\n"
   ]
  },
  {
   "cell_type": "code",
   "execution_count": 21,
   "metadata": {
    "id": "6ZRqMyP8wGlz"
   },
   "outputs": [],
   "source": [
    "def angulo_critico(T,A = np.pi/3 ,n= 1.52): #Igualamos a cero para el valor que queremos encontrar\n",
    "  return np.sin(A - T)- 1/n"
   ]
  },
  {
   "cell_type": "code",
   "execution_count": 22,
   "metadata": {
    "colab": {
     "base_uri": "https://localhost:8080/"
    },
    "id": "-AsoqG-ywG5h",
    "outputId": "93b17ba5-43df-4cb5-8a5c-9c0d7ccaaadc"
   },
   "outputs": [
    {
     "name": "stdout",
     "output_type": "stream",
     "text": [
      " el angulo critico es 18.86°, usando Newton Rahson\n"
     ]
    }
   ],
   "source": [
    "print(f' el angulo critico es {np.rad2deg(newton(angulo_critico, 1)):.2f}°, usando Newton Rahson') #Encontramos el angulo critico"
   ]
  },
  {
   "cell_type": "markdown",
   "metadata": {},
   "source": [
    " - Resuelva numéricamente la ecuación anterior para encontrar el ángulo de incidencia $\\theta_i$\n",
    "   correspondiente a este ángulo crítico, utilizando el método de la bisección"
   ]
  },
  {
   "cell_type": "code",
   "execution_count": 25,
   "metadata": {
    "id": "K9lFifxFyCCK"
   },
   "outputs": [],
   "source": [
    "angulo_incidencia = lambda Theta_i: np.arcsin(np.sin(Theta_i)/1.52) - newton(angulo_critico, 1) #Definimos la funcion para calcular el angulo de incidencia pra el respectivo angulo critico igualada  a cero"
   ]
  },
  {
   "cell_type": "code",
   "execution_count": 29,
   "metadata": {},
   "outputs": [
    {
     "data": {
      "text/plain": [
       "[<matplotlib.lines.Line2D at 0x1d39882a990>]"
      ]
     },
     "execution_count": 29,
     "metadata": {},
     "output_type": "execute_result"
    },
    {
     "data": {
      "image/png": "[encoded data removed]",
      "text/plain": [
       "<Figure size 640x480 with 1 Axes>"
      ]
     },
     "metadata": {},
     "output_type": "display_data"
    }
   ],
   "source": [
    "Theta = np.linspace(0,np.pi,100)#Hacemos un grafico para encontrar el intervalo\n",
    "plt.plot(Theta, angulo_incidencia(Theta))"
   ]
  },
  {
   "cell_type": "code",
   "execution_count": 30,
   "metadata": {
    "colab": {
     "base_uri": "https://localhost:8080/",
     "height": 287
    },
    "id": "5av_z707yanL",
    "outputId": "04087eba-00e6-4b2d-e43c-c8533f084cb3"
   },
   "outputs": [
    {
     "name": "stdout",
     "output_type": "stream",
     "text": [
      "el angulo de incidencia para el angulo critico: 18.86°\n",
      "es 29.43°\n"
     ]
    }
   ],
   "source": [
    "print(f'el angulo de incidencia para el angulo critico: {np.rad2deg(newton(angulo_critico, 1)):.2f}°\\nes {np.rad2deg(bisect(angulo_incidencia, 0.5,2 )):.2f}°') \n",
    "#Calculamos el angulo de incidencia usando biseccion"
   ]
  },
  {
   "cell_type": "code",
   "execution_count": null,
   "metadata": {},
   "outputs": [],
   "source": []
  }
 ],
 "metadata": {
  "colab": {
   "provenance": []
  },
  "kernelspec": {
   "display_name": "Python 3 (ipykernel)",
   "language": "python",
   "name": "python3"
  },
  "language_info": {
   "codemirror_mode": {
    "name": "ipython",
    "version": 3
   },
   "file_extension": ".py",
   "mimetype": "text/x-python",
   "name": "python",
   "nbconvert_exporter": "python",
   "pygments_lexer": "ipython3",
   "version": "3.12.10"
  }
 },
 "nbformat": 4,
 "nbformat_minor": 4
}
