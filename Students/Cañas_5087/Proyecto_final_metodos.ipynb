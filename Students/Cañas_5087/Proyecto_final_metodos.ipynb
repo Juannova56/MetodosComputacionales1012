{
 "cells": [
  {
   "cell_type": "code",
   "execution_count": 1,
   "id": "bbadf850-e504-4345-9d1c-6cdc0bfaa38a",
   "metadata": {},
   "outputs": [],
   "source": [
    "from scipy.integrate import solve_ivp\n",
    "import numpy as np"
   ]
  },
  {
   "cell_type": "code",
   "execution_count": 6,
   "id": "f8de9475-2b20-485d-9b24-a50d7f3ed5d1",
   "metadata": {},
   "outputs": [],
   "source": [
    "def angulos_de_euler_sin_friccion(t, Y, params):\n",
    "    dY = np.zeros_like(Y, dtype = float)\n",
    "    theta, dtheta, psi, dpsi, phi, dphi = Y\n",
    "    Ix, Iz, M, g, l_tilde, k, Rp = params\n",
    "\n",
    "    v_abs = Rp* np.sqrt( dtheta**2 + dpsi**2 * np.sin(theta)**2)\n",
    "    ddtheta = (Iz * phi * sin_theta / Ix) * (psi + dphi * cos_theta) \\\n",
    "              + dphi**2 * sin_theta * cos_theta \\\n",
    "              + (M * g * l_tilde / Ix) * sin_theta\n",
    "    # Ecuación para ddphi\n",
    "    ddphi = (Iz * dtheta / (Ix * sin_theta)) * (psi + dphi * cos_theta) \\\n",
    "            - 2 * dtheta * dphi * cos_theta / sin_theta \\\n",
    "            + (k * M * g * Rp**2 * psi * cos_theta) / (Ix * v_abs)\n",
    "\n",
    "    # Ecuación para ddpsi\n",
    "    ddpsi = -(Iz * dtheta * cos_theta / (Ix * sin_theta)) * (psi + dphi * cos_theta) \\\n",
    "            + 2 * dtheta * dphi * cos_theta**2 / sin_theta \\\n",
    "            + dtheta * dphi * sin_theta \\\n",
    "            - (k * M * g * Rp**2 * psi / v_abs) * (sin_theta**2 / Iz + cos_theta**2 / Ix)\n",
    "\n",
    "    dY[0] = dtheta\n",
    "    dY[1] = ddtheta\n",
    "    dY[2] = dpsi\n",
    "    dY[3] = ddsi\n",
    "    dY[4] = dphi\n",
    "    dY[5] = ddphi\n",
    "    \n",
    "    return dY\n",
    "    \n",
    "    "
   ]
  },
  {
   "cell_type": "code",
   "execution_count": null,
   "id": "cb017607-4cd1-4ca7-9c8d-fdbf07093013",
   "metadata": {},
   "outputs": [],
   "source": [
    "params = [8.44e-5, 7.23e-5, 0.105, 9.81,  20.9e-3,0.03, 0.1e-3]\n",
    "\n"
   ]
  }
 ],
 "metadata": {
  "kernelspec": {
   "display_name": "Python 3 (ipykernel)",
   "language": "python",
   "name": "python3"
  },
  "language_info": {
   "codemirror_mode": {
    "name": "ipython",
    "version": 3
   },
   "file_extension": ".py",
   "mimetype": "text/x-python",
   "name": "python",
   "nbconvert_exporter": "python",
   "pygments_lexer": "ipython3",
   "version": "3.12.9"
  }
 },
 "nbformat": 4,
 "nbformat_minor": 5
}
