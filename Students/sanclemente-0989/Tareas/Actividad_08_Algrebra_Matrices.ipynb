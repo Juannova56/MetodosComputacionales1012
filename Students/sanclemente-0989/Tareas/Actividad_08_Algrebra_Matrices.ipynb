{
  "nbformat": 4,
  "nbformat_minor": 0,
  "metadata": {
    "colab": {
      "provenance": []
    },
    "kernelspec": {
      "name": "python3",
      "display_name": "Python 3"
    },
    "language_info": {
      "name": "python"
    }
  },
  "cells": [
    {
      "cell_type": "code",
      "execution_count": 5,
      "metadata": {
        "id": "z7RCty67y3ME"
      },
      "outputs": [],
      "source": [
        "import numpy as np\n",
        "import matplotlib.pyplot as plt\n",
        "import scipy.linalg as la"
      ]
    },
    {
      "cell_type": "markdown",
      "source": [
        "# Actividad 08: Algebra Lineal y Matrices\n",
        "\n",
        "---\n",
        "### Profesor: Juan Marcos Marín\n",
        "### Nombre: ______\n",
        "*Métodos computacionales*\n",
        "\n",
        "---"
      ],
      "metadata": {
        "id": "GGQpGoujzAnQ"
      }
    },
    {
      "cell_type": "markdown",
      "source": [
        "#1\n",
        "Escriba tres matrices aleatorias $A$, $B$ y $C$ de $3\\times 3$, y demuestre las siguientes relaciones\n",
        "\n",
        "- $ \\mathbf{A}\\mathbf{B} \\neq \\mathbf{B}\\mathbf{A} $, en general.\n",
        "- $ (\\mathbf{A}\\mathbf{B})\\mathbf{C} = \\mathbf{A}(\\mathbf{B}\\mathbf{C}) $.\n",
        "- $ \\mathbf{A}(\\mathbf{B} + \\mathbf{C}) = \\mathbf{A}\\mathbf{B} + \\mathbf{A}\\mathbf{C} $.\n",
        "- $ (\\mathbf{A} + \\mathbf{B})\\mathbf{C} = \\mathbf{A}\\mathbf{C} + \\mathbf{B}\\mathbf{C} $.\n",
        "- $ (\\mathbf{A}\\mathbf{B})^\\top = \\mathbf{B}^\\top \\mathbf{A}^\\top $.\n",
        "- $ \\det(\\mathbf{A}\\mathbf{B}) = \\det(\\mathbf{A}) \\det(\\mathbf{B}) $.\n",
        "- $ (\\mathbf{A}^\\top)^\\top = \\mathbf{A} $.\n",
        "- $ (c\\mathbf{A})^\\top = c\\mathbf{A}^\\top $.\n",
        "- $ (\\mathbf{A} + \\mathbf{B})^\\top = \\mathbf{A}^\\top + \\mathbf{B}^\\top $.\n",
        "\n"
      ],
      "metadata": {
        "id": "U9hC1R-F0-iH"
      }
    },
    {
      "cell_type": "code",
      "source": [
        "A = np.array([\n",
        "    [5, 2, 7],\n",
        "    [9, 1, 3],\n",
        "    [6, 3, 8]\n",
        "])\n",
        "\n",
        "B = np.array([\n",
        "    [3, 9, 7],\n",
        "    [2, 1, 9],\n",
        "    [4, 2, 7]\n",
        "])\n",
        "\n",
        "C = np.array([\n",
        "    [2, 9, 10],\n",
        "    [4, 5, 11],\n",
        "    [3, 9, 2]\n",
        "])\n",
        "\n",
        "Multiplicacion_AB = A@B\n",
        "Multiplicacion_BA = B@A\n",
        "\n",
        "print('AB =')\n",
        "print(Multiplicacion_AB)\n",
        "print('\\nBA =')\n",
        "print(Multiplicacion_BA)\n"
      ],
      "metadata": {
        "id": "cQQ6cPGW1anK",
        "colab": {
          "base_uri": "https://localhost:8080/"
        },
        "collapsed": true,
        "outputId": "16ba6e46-823f-4634-ac8b-259f03ea266d"
      },
      "execution_count": 6,
      "outputs": [
        {
          "output_type": "stream",
          "name": "stdout",
          "text": [
            "AB =\n",
            "[[ 47  61 102]\n",
            " [ 41  88  93]\n",
            " [ 56  73 125]]\n",
            "\n",
            "BA =\n",
            "[[138  36 104]\n",
            " [ 73  32  89]\n",
            " [ 80  31  90]]\n"
          ]
        }
      ]
    },
    {
      "cell_type": "markdown",
      "source": [
        "Como vemos, $BA \\neq AB$\n"
      ],
      "metadata": {
        "id": "VBjYsdDyGNZe"
      }
    },
    {
      "cell_type": "code",
      "source": [
        "Multiplicacion_BC = B@C\n",
        "Multiplicacion_AC = A@C\n",
        "Suma_BC = B + C\n",
        "Suma_AB_AC = Multiplicacion_AB + Multiplicacion_AC\n",
        "Suma_AB = A + B\n",
        "Suma_AC_BC = Multiplicacion_AC + Multiplicacion_BC\n",
        "\n",
        "print('(AB)C =')\n",
        "print(Multiplicacion_AB @ C)\n",
        "print('\\nA(BC)=')\n",
        "print(A @ Multiplicacion_BC)\n",
        "\n",
        "print('\\nA(B + C)')\n",
        "print(A @ Suma_BC)\n",
        "print('\\n AB + AC')\n",
        "print(Multiplicacion_AB + Multiplicacion_AC)\n",
        "\n",
        "print('\\n(A + B)C')\n",
        "print(Suma_AB @ C)\n",
        "print('\\nAC + BC')\n",
        "print(Multiplicacion_AC + Multiplicacion_BC)"
      ],
      "metadata": {
        "colab": {
          "base_uri": "https://localhost:8080/"
        },
        "collapsed": true,
        "id": "pF6Twm8cGnkx",
        "outputId": "ec4a34da-ce3e-4b9f-dac8-d7016a10db0a"
      },
      "execution_count": 7,
      "outputs": [
        {
          "output_type": "stream",
          "name": "stdout",
          "text": [
            "(AB)C =\n",
            "[[ 644 1646 1345]\n",
            " [ 713 1646 1564]\n",
            " [ 779 1994 1613]]\n",
            "\n",
            "A(BC)=\n",
            "[[ 644 1646 1345]\n",
            " [ 713 1646 1564]\n",
            " [ 779 1994 1613]]\n",
            "\n",
            "A(B + C)\n",
            "[[ 86 179 188]\n",
            " [ 72 201 200]\n",
            " [104 214 234]]\n",
            "\n",
            " AB + AC\n",
            "[[ 86 179 188]\n",
            " [ 72 201 200]\n",
            " [104 214 234]]\n",
            "\n",
            "(A + B)C\n",
            "[[102 253 229]\n",
            " [ 66 217 156]\n",
            " [ 85 250 185]]\n",
            "\n",
            "AC + BC\n",
            "[[102 253 229]\n",
            " [ 66 217 156]\n",
            " [ 85 250 185]]\n"
          ]
        }
      ]
    },
    {
      "cell_type": "markdown",
      "source": [
        "Vemos que las siguientes propiedades se cumplen:\n",
        "- $ (\\mathbf{A}\\mathbf{B})\\mathbf{C} = \\mathbf{A}(\\mathbf{B}\\mathbf{C}) $.\n",
        "- $ \\mathbf{A}(\\mathbf{B} + \\mathbf{C}) = \\mathbf{A}\\mathbf{B} + \\mathbf{A}\\mathbf{C} $.\n",
        "- $ (\\mathbf{A} + \\mathbf{B})\\mathbf{C} = \\mathbf{A}\\mathbf{C} + \\mathbf{B}\\mathbf{C} $."
      ],
      "metadata": {
        "id": "V9iVMkCXhP8J"
      }
    },
    {
      "cell_type": "code",
      "source": [
        "print('(AB)ᵀ')\n",
        "print(Multiplicacion_AB.T)\n",
        "print('BᵀAᵀ')\n",
        "print(B.T @ A.T)\n",
        "\n",
        "print(f'\\ndet(AB) = {np.linalg.det(Multiplicacion_AB)}')\n",
        "print(f'det(A)det(B) = {np.dot(np.linalg.det(A), np.linalg.det(B))}')\n",
        "\n",
        "print('\\n(Aᵀ)ᵀ')\n",
        "print(A.T.T)\n",
        "print('A')\n",
        "print(A)\n",
        "\n",
        "#Sea c = 5\n",
        "c = 5\n",
        "Multiplicacion_cA = np.dot(5, A)\n",
        "print('\\n(5A)ᵀ')\n",
        "print(Multiplicacion_cA.T)\n",
        "print('5Aᵀ')\n",
        "print(np.dot(5, A.T))\n",
        "print('\\n(A + B)ᵀ')\n",
        "print(Suma_AB.T)\n",
        "print('Aᵀ + Bᵀ')\n",
        "print(A.T + B.T)"
      ],
      "metadata": {
        "colab": {
          "base_uri": "https://localhost:8080/"
        },
        "id": "ewDX16wsMXFf",
        "outputId": "ca733113-69cb-49c3-f42c-98708155fb12"
      },
      "execution_count": 8,
      "outputs": [
        {
          "output_type": "stream",
          "name": "stdout",
          "text": [
            "(AB)ᵀ\n",
            "[[ 47  41  56]\n",
            " [ 61  88  73]\n",
            " [102  93 125]]\n",
            "BᵀAᵀ\n",
            "[[ 47  41  56]\n",
            " [ 61  88  73]\n",
            " [102  93 125]]\n",
            "\n",
            "det(AB) = 5609.999999999989\n",
            "det(A)det(B) = 5610.000000000002\n",
            "\n",
            "(Aᵀ)ᵀ\n",
            "[[5 2 7]\n",
            " [9 1 3]\n",
            " [6 3 8]]\n",
            "A\n",
            "[[5 2 7]\n",
            " [9 1 3]\n",
            " [6 3 8]]\n",
            "\n",
            "(5A)ᵀ\n",
            "[[25 45 30]\n",
            " [10  5 15]\n",
            " [35 15 40]]\n",
            "5Aᵀ\n",
            "[[25 45 30]\n",
            " [10  5 15]\n",
            " [35 15 40]]\n",
            "\n",
            "(A + B)ᵀ\n",
            "[[ 8 11 10]\n",
            " [11  2  5]\n",
            " [14 12 15]]\n",
            "Aᵀ + Bᵀ\n",
            "[[ 8 11 10]\n",
            " [11  2  5]\n",
            " [14 12 15]]\n"
          ]
        }
      ]
    },
    {
      "cell_type": "markdown",
      "source": [
        "Vemos como todas a excepción de la del determinante (posiblemente por problemas de redondeo) se cumplen:\n",
        "\n",
        "- $ (\\mathbf{A}\\mathbf{B})^\\top = \\mathbf{B}^\\top \\mathbf{A}^\\top $.\n",
        "- $ \\det(\\mathbf{A}\\mathbf{B}) = \\det(\\mathbf{A}) \\det(\\mathbf{B}) $.\n",
        "- $ (\\mathbf{A}^\\top)^\\top = \\mathbf{A} $.\n",
        "- $ (c\\mathbf{A})^\\top = c\\mathbf{A}^\\top $.\n",
        "- $ (\\mathbf{A} + \\mathbf{B})^\\top = \\mathbf{A}^\\top + \\mathbf{B}^\\top $."
      ],
      "metadata": {
        "id": "uxSi-oYknuVv"
      }
    },
    {
      "cell_type": "code",
      "source": [],
      "metadata": {
        "id": "rIsbUqPBnt-J"
      },
      "execution_count": 8,
      "outputs": []
    },
    {
      "cell_type": "markdown",
      "source": [
        "#2\n",
        "\n",
        "El **Teorema de Laplace** es un método para calcular el determinante de una matriz cuadrada, particularmente útil para matrices de orden mayor a 2. Este teorema se basa en la expansión del determinante por los elementos de una fila o una columna cualquiera.\n",
        "\n",
        "\n",
        "\n",
        "$$\n",
        "\\det(A) = \\sum_{j=1}^n (-1)^{1+j} a_{1j} M_{1j}\n",
        "$$\n",
        "\n",
        "donde:\n",
        "- $a_{1j}$ es el elemento de la primera fila y columna $j$.\n",
        "- $M_{1j}$ es el menor asociado al elemento $a_{1j}$, es decir, el determinante de la submatriz de $3 \\times 3$ que se obtiene al eliminar la fila 1 y la columna $j$.\n",
        "- $(-1)^{1+j}$ es el signo correspondiente al cofactor del elemento $a_{1j}$.\n",
        "\n",
        "Podemos realizar una función recursiva para el cálculo del determinante, sabiendo que el valor del determinante de una matriz de orden uno es el único elemento de esa matriz, y el de una matriz de orden superior a uno es la suma de cada uno de los elementos de una fila o columna por los Adjuntos a ese elemento, como en la función recursiva se emplea la misma función definida el cálculo lo haremos por Menor complementario, un ejemplo desarrollado por la primera fila sería:\n",
        "\n",
        "$$\n",
        "   \\det (A_{j,j}) =\n",
        "   \\left \\{\n",
        "   \\begin{array}{llcl}\n",
        "      si & j = 1 & \\to & a_{1,1} \\\\\n",
        "                                 \\\\\n",
        "      si & j > 1 & \\to & \\displaystyle \\sum_{k=1}^j \\; (-1)^{(1+k)} \\cdot a_{1,k} \\cdot \\det( \\alpha_{1,k})\n",
        "   \\end{array}\n",
        "   \\right .\n",
        "$$\n",
        "\n",
        "Realice una función que encuentre el determinante de una matriz usando la recursividad aqui planteada, explique explicitamente su código"
      ],
      "metadata": {
        "id": "ibYf2I9T2pIw"
      }
    },
    {
      "cell_type": "code",
      "source": [
        "def determinante(A):\n",
        "    \"\"\"\n",
        "    Calcula el determinante de una matriz cuadrada A usando recursión.\n",
        "    :param A: np.array, matriz cuadrada\n",
        "    :return: float, determinante de A\n",
        "    \"\"\"\n",
        "    # Verificar si la matriz es 1x1\n",
        "    if A.shape == (1, 1):\n",
        "        return A[0, 0]\n",
        "\n",
        "    # Verificar si la matriz es 2x2\n",
        "    if A.shape == (2, 2):\n",
        "        return A[0, 0] * A[1, 1] - A[0, 1] * A[1, 0]\n",
        "\n",
        "    # Expandir por cofactores (primera fila)\n",
        "    det = 0\n",
        "    for j in range(A.shape[1]):\n",
        "        # Crear matriz menor al eliminar la primera fila y la j-ésima columna\n",
        "        menor = np.delete(np.delete(A, 0, axis=0), j, axis=1)\n",
        "        # Agregar el cofactor\n",
        "        det += ((-1) ** j) * A[0, j] * determinante(menor)\n",
        "\n",
        "    return det\n",
        "A = np.array([\n",
        "    [1, 3, 9],\n",
        "    [2, 1, 7],\n",
        "    [9, 0, 3]\n",
        "])\n",
        "det_A = determinante(A)\n",
        "det_A"
      ],
      "metadata": {
        "id": "-8tYERLHtrtY",
        "colab": {
          "base_uri": "https://localhost:8080/"
        },
        "outputId": "220be92b-41e5-4ebd-bde0-f0aa4269a2c2"
      },
      "execution_count": 9,
      "outputs": [
        {
          "output_type": "execute_result",
          "data": {
            "text/plain": [
              "np.int64(93)"
            ]
          },
          "metadata": {},
          "execution_count": 9
        }
      ]
    },
    {
      "cell_type": "markdown",
      "source": [
        "#3 Método de Gauss - Seidel\n",
        "\n",
        "Sea \\$A\\in\\mathbb{R}^{n\\times n}\\$ no singular y sea \\$b\\in\\mathbb{R}^n\\$.\n",
        "Descomponga \\$A\\$ como\n",
        "\n",
        "$$\n",
        "A \\;=\\; D \\;+\\; L \\;+\\; U,\n",
        "$$\n",
        "\n",
        "donde\n",
        "\n",
        "* \\$D\\$ es la matriz diagonal de \\$A\\$,\n",
        "* \\$L\\$ es la parte estrictamente triangular inferior,\n",
        "* \\$U\\$ es la parte estrictamente triangular superior.\n",
        "\n",
        "El algoritmo de Gauss - Seidel reorganiza el sistema \\$Ax=b\\$ como\n",
        "\n",
        "$$\n",
        "x \\;=\\; (D+L)^{-1}\\bigl(b \\;-\\; Ux\\bigr),\n",
        "$$\n",
        "\n",
        "y genera la sucesión\n",
        "\n",
        "$$\n",
        "x_i^{(k+1)}\n",
        "= \\frac{1}{a_{ii}}\n",
        "\\Bigl(b_i - \\sum_{j<i} a_{ij}\\,x_j^{(k+1)} - \\sum_{j>i} a_{ij}\\,x_j^{(k)}\\Bigr),\n",
        "\\qquad i=1,\\dots,n.\n",
        "$$\n",
        "\n",
        "Implemente una función `gauss_seidel(A, b, tol=1e-7, max_iter=100)` que:\n",
        "   * Realice las iteraciones hasta que\n",
        "     $\\lVert x^{(k+1)}-x^{(k)}\\rVert_\\infty<\\text{tol}$\n",
        "     o se alcance `max_iter`;\n",
        "   * devuelva el vector solución aproximado \\$x\\$, el número de iteraciones realizadas y la norma del último residuo.\n",
        "\n",
        "Incluya una documentación clara.\n",
        "\n",
        "Luego,\n",
        "\n",
        "   * Genere una matriz aleatoria \\$5\\times5\\$ (por ejemplo, con `np.random.rand`) y un vector \\$b\\$ aleatorio.\n",
        "   * Resuelva \\$Ax=b\\$ con su función; calcule el error relativo frente a `numpy.linalg.solve`.\n",
        "   * Estime igualmente el error respecto a la solución obtenida mediante \\$x=A^{-1}b\\$ (usando `numpy.linalg.inv`).\n",
        "   * Presente las normas de los residuos y los errores relativos."
      ],
      "metadata": {
        "id": "fTSweDGhnAUN"
      }
    },
    {
      "cell_type": "code",
      "source": [
        "def metodo_potencias(M, precision=1e-7, limite_iter=1000):\n",
        "    '''\n",
        "    Algoritmo de la potencia para hallar el mayor autovalor y su autovector\n",
        "    '''\n",
        "    M = np.array(M, dtype=float)\n",
        "    tam = M.shape[0]\n",
        "\n",
        "    v = np.random.rand(tam)\n",
        "    v /= np.linalg.norm(v)\n",
        "\n",
        "    val_anterior = 0\n",
        "\n",
        "    for paso in range(1, limite_iter + 1):\n",
        "        prod = M @ v\n",
        "        v = prod / np.linalg.norm(prod)\n",
        "        val_actual = v @ M @ v\n",
        "\n",
        "        # Verificación de tolerancia\n",
        "        cambio = abs(val_actual - val_anterior) / abs(val_actual)\n",
        "\n",
        "        if cambio < precision:\n",
        "            break\n",
        "\n",
        "        val_anterior = val_actual\n",
        "\n",
        "    return val_actual, v, paso, cambio\n",
        "\n",
        "metodo_potencias(A)"
      ],
      "metadata": {
        "colab": {
          "base_uri": "https://localhost:8080/"
        },
        "id": "pzPzjzoQKuzo",
        "outputId": "24ea9ecf-dfc4-47cd-9b44-a61eab793be7"
      },
      "execution_count": 13,
      "outputs": [
        {
          "output_type": "execute_result",
          "data": {
            "text/plain": [
              "(np.float64(6.357127491786701),\n",
              " array([0.40273691, 0.54156204, 0.37497515, 0.3046293 , 0.5577707 ]),\n",
              " 22,\n",
              " np.float64(4.9668642109493214e-08))"
            ]
          },
          "metadata": {},
          "execution_count": 13
        }
      ]
    },
    {
      "cell_type": "markdown",
      "source": [
        "#4 Método de potencias para el valor propio dominante\n",
        "\n",
        "Sea \\$A\\in\\mathbb{R}^{n\\times n}\\$ diagonalizable con valor propio dominante \\$\\lambda\\_{\\max}\\$ (en magnitud) y vector propio asociado \\$v\\_{\\max}\\$.\n",
        "\n",
        "El método de potencias genera, a partir de un vector inicial \\$q^{(0)}\\neq 0\\$, la sucesión\n",
        "\n",
        "$$\n",
        "q^{(k+1)} \\;=\\; \\frac{A\\,q^{(k)}}{\\lVert A\\,q^{(k)}\\rVert_2},\n",
        "\\qquad\n",
        "\\lambda^{(k+1)} \\;=\\; (q^{(k+1)})^{\\!\\top} A\\, q^{(k+1)},\n",
        "$$\n",
        "\n",
        "que converge a \\$v\\_{\\max}/\\lVert v\\_{\\max}\\rVert\\_2\\$ y a \\$\\lambda\\_{\\max}\\$ respectivamente, bajo hipótesis estándar.\n",
        "\n",
        "Implemente `power_method(A, tol=1e-7, max_iter=1000)` que:\n",
        "\n",
        "   * Acepte matrices reales cuadradas,\n",
        "   * Devuelva \\$\\lambda\\_{\\max}\\$, el vector propio normalizado \\$v\\_{\\max}\\$, el número de iteraciones y la última variación relativa de \\$\\lambda\\$,\n",
        "   * detenga la iteración cuando\n",
        "     $\\bigl|\\lambda^{(k+1)}-\\lambda^{(k)}\\bigr|<\\text{tol}\\,|\\lambda^{(k+1)}|$\n",
        "     o se alcance `max_iter`.\n",
        "\n",
        "Luego,\n",
        "   * Genere una matriz simétrica aleatoria \\$6\\times6\\$ (por ejemplo, \\$A = (M+M^\\top)/2\\$ con \\$M\\$ aleatoria).\n",
        "   * Aplique su `power_method` y compare \\$\\lambda\\_{\\max}\\$ y \\$v\\_{\\max}\\$ con los resultados de `numpy.linalg.eig`."
      ],
      "metadata": {
        "id": "REVJcqYtnmM-"
      }
    },
    {
      "cell_type": "code",
      "source": [
        "def gs_iterativo(M, c, eps=1e-7, max_pasos=100):\n",
        "    '''\n",
        "    Aproxima la solución del sistema Mx = c con el esquema de Gauss-Seidel.\n",
        "    '''\n",
        "    M = np.array(M, dtype=float)\n",
        "    c = np.array(c, dtype=float).flatten()\n",
        "    n = M.shape[0]\n",
        "\n",
        "    aprox = np.zeros_like(c)\n",
        "    nuevo = aprox.copy()\n",
        "\n",
        "    for paso in range(max_pasos):\n",
        "        for fila in range(n):\n",
        "            antes = sum(M[fila, col] * nuevo[col] for col in range(fila))\n",
        "            despues = sum(M[fila, col] * aprox[col] for col in range(fila + 1, n))\n",
        "            nuevo[fila] = (c[fila] - antes - despues) / M[fila, fila]\n",
        "\n",
        "        if np.linalg.norm(nuevo - aprox, ord=np.inf) < eps:\n",
        "            break\n",
        "        aprox = nuevo.copy()\n",
        "\n",
        "    error = np.linalg.norm(c - M @ nuevo, ord=np.inf)\n",
        "    return nuevo, paso + 1, error\n"
      ],
      "metadata": {
        "id": "lPzFAOE7obZY",
        "colab": {
          "base_uri": "https://localhost:8080/"
        },
        "outputId": "1e1aced9-3b16-4b5b-8651-e9f1b922fae3"
      },
      "execution_count": 12,
      "outputs": [
        {
          "output_type": "execute_result",
          "data": {
            "text/plain": [
              "(np.float64(6.35712660297747),\n",
              " array([0.40273696, 0.54156133, 0.37497405, 0.30462942, 0.55777203]),\n",
              " 24,\n",
              " np.float64(6.868675795514814e-08))"
            ]
          },
          "metadata": {},
          "execution_count": 12
        }
      ]
    },
    {
      "cell_type": "markdown",
      "source": [
        "#5\n",
        "\n",
        "Verifique que cualquier matriz hermitiana de 2 × 2 $ L $ puede escribirse como una suma de cuatro términos:\n",
        "\n",
        "$$ L = a\\sigma_x + b\\sigma_y + c\\sigma_z + dI $$\n",
        "\n",
        "donde $ a $, $ b $, $ c $ y $ d $ son números reales.\n",
        "\n",
        "Las cuatro matrices de Pauli son:\n",
        "\n",
        "$$ \\sigma_x = \\begin{pmatrix} 0 & 1 \\\\ 1 & 0 \\end{pmatrix}, \\quad \\sigma_y = \\begin{pmatrix} 0 & -i \\\\ i & 0 \\end{pmatrix}, \\quad \\sigma_z = \\begin{pmatrix} 1 & 0 \\\\ 0 & -1 \\end{pmatrix}, \\quad I = \\begin{pmatrix} 1 & 0 \\\\ 0 & 1 \\end{pmatrix} $$\n",
        "\n",
        "\n"
      ],
      "metadata": {
        "id": "iggu2jNwVpnK"
      }
    },
    {
      "cell_type": "code",
      "source": [
        "sx = np.array([[0, 1], [1, 0]], dtype=complex)\n",
        "sy = np.array([[0, -1j], [1j, 0]], dtype=complex)\n",
        "sz = np.array([[1, 0], [0, -1]], dtype=complex)\n",
        "ident = np.eye(2, dtype=complex)\n",
        "\n",
        "# Valores aleatorios para la matriz\n",
        "p1, p2 = np.random.rand(2)\n",
        "q1, q2 = np.random.rand(2)\n",
        "\n",
        "mat = np.array([[p1, q1 + 1j*q2],\n",
        "                [q1 - 1j*q2, p2]], dtype=complex)\n",
        "\n",
        "# Coeficientes de la expansión\n",
        "coef_x = 0.5 * np.trace(mat @ sx).real\n",
        "coef_y = 0.5 * np.trace(mat @ sy).real\n",
        "coef_z = 0.5 * np.trace(mat @ sz).real\n",
        "coef_id = 0.5 * np.trace(mat @ ident).real\n",
        "\n",
        "# Reconstrucción\n",
        "mat_recon = coef_x*sx + coef_y*sy + coef_z*sz + coef_id*ident\n",
        "\n",
        "print('Matriz original:')\n",
        "print(np.round(mat, 4))\n",
        "\n",
        "print('Valores obtenidos:')\n",
        "print(f'cx = {coef_x:.4f}, cy = {coef_y:.4f}, cz = {coef_z:.4f}, ci = {coef_id:.4f}')\n",
        "\n",
        "print('Matriz reconstruida:')\n",
        "print(np.round(mat_recon, 4))\n",
        "\n",
        "error_abs = np.linalg.norm(mat - mat_recon)\n",
        "print(f'Diferencia total: {error_abs:.2e}')\n"
      ],
      "metadata": {
        "id": "8WN9_cOCV7cM",
        "colab": {
          "base_uri": "https://localhost:8080/"
        },
        "outputId": "1b7628a5-61ac-4297-98c6-648569bc5127"
      },
      "execution_count": 14,
      "outputs": [
        {
          "output_type": "stream",
          "name": "stdout",
          "text": [
            "Matriz original:\n",
            "[[0.3595+0.j     0.6976+0.0602j]\n",
            " [0.6976-0.0602j 0.437 +0.j    ]]\n",
            "Valores obtenidos:\n",
            "cx = 0.6976, cy = -0.0602, cz = -0.0388, ci = 0.3983\n",
            "Matriz reconstruida:\n",
            "[[0.3595+0.j     0.6976+0.0602j]\n",
            " [0.6976-0.0602j 0.437 +0.j    ]]\n",
            "Diferencia total: 0.00e+00\n"
          ]
        }
      ]
    },
    {
      "cell_type": "markdown",
      "source": [
        "# 6\n",
        "\n",
        "Haga un breve resumen en Markdown de las funciones y métodos más relevantes para algebra lineal usando Python. Emplee ejemplos."
      ],
      "metadata": {
        "id": "GnCw5_O5pMxl"
      }
    },
    {
      "cell_type": "code",
      "source": [
        "A = np.array([[2, 1], [5, 3]], dtype=float)\n",
        "b = np.array([1, 2], dtype=float)\n",
        "\n",
        "print(\"\\n--- Matriz A ---\")\n",
        "print(A)\n",
        "print(\"\\n--- Vector b ---\")\n",
        "print(b)\n",
        "\n",
        "print(\"\\nProducto punto (np.dot):\", np.dot(A, b))\n",
        "print(\"Producto con @:\", A @ b)\n",
        "\n",
        "print(\"\\nTranspuesta de A:\\n\", A.T)\n",
        "print(\"Conjugado de A:\\n\", np.conjugate(A))\n",
        "print(\"Hermitiana de A:\\n\", A.conj().T)\n",
        "\n",
        "print(\"\\nDeterminante de A:\", np.linalg.det(A))\n",
        "\n",
        "print(\"\\nInversa de A:\\n\", np.linalg.inv(A))\n",
        "\n",
        "x = np.linalg.solve(A, b)\n",
        "print(\"\\nSolución de Ax = b:\", x)\n",
        "\n",
        "valores, vectores = np.linalg.eig(A)\n",
        "print(\"\\nValores propios:\", valores)\n",
        "print(\"Vectores propios:\\n\", vectores)\n",
        "\n",
        "print(\"\\nNorma de A (Frobenius):\", np.linalg.norm(A))\n",
        "print(\"Norma L1 de b:\", np.linalg.norm(b, ord=1))\n",
        "print(\"Norma infinito de b:\", np.linalg.norm(b, ord=np.inf))\n",
        "\n",
        "Q, R = np.linalg.qr(A)\n",
        "print(\"\\nDescomposición QR:\")\n",
        "print(\"Q:\\n\", Q)\n",
        "print(\"R:\\n\", R)\n",
        "\n",
        "U, S, Vh = np.linalg.svd(A)\n",
        "print(\"\\nDescomposición SVD:\")\n",
        "print(\"U:\\n\", U)\n",
        "print(\"S (valores singulares):\", S)\n",
        "print(\"Vh:\\n\", Vh)\n",
        "\n",
        "A_pos_def = np.array([[4, 2], [2, 3]], dtype=float)\n",
        "L = np.linalg.cholesky(A_pos_def)\n",
        "print(\"\\nDescomposición Cholesky de matriz definida positiva:\")\n",
        "print(\"L:\\n\", L)\n"
      ],
      "metadata": {
        "id": "djdVPgpoparm"
      },
      "execution_count": 10,
      "outputs": []
    }
  ]
}