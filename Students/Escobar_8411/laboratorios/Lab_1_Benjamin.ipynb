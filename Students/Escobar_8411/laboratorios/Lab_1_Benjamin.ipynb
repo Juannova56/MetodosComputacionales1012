{
  "cells": [
    {
      "cell_type": "markdown",
      "id": "a205c519",
      "metadata": {
        "id": "a205c519"
      },
      "source": [
        "# Laboratorio 1: Python Básico, Librerias y Modelamiento Básico.\n",
        "\n",
        "---\n",
        "### Profesor: Daniel Ruiz Mejía\n",
        "### Nombre: Benjamin Escobar Jaramillo\n",
        "*Métodos computacionales 2025-I*\n",
        "\n",
        "---"
      ]
    },
    {
      "cell_type": "code",
      "source": [
        "import numpy as np\n",
        "import matplotlib.pyplot as plt\n",
        "import math\n",
        "from scipy.optimize import newton\n",
        "from itertools import permutations"
      ],
      "metadata": {
        "id": "hMeH1FFbsMQm"
      },
      "id": "hMeH1FFbsMQm",
      "execution_count": null,
      "outputs": []
    },
    {
      "cell_type": "markdown",
      "id": "0634e826",
      "metadata": {
        "id": "0634e826"
      },
      "source": [
        "# 1.\n",
        "Diseñar un programa en el que entrado  un numero `a`  retorne una variable booleana True or false si cumple que es:\n",
        "\n",
        "- [Números defectivo](https://es.wikipedia.org/wiki/Número_defectivo) : la suma de los divisores propios es menor que el número.\n",
        "\n",
        "  La rutina se deberá llamar números_defectivos\n",
        "\n",
        "\n",
        "\n",
        "- [Números abundantes](https://es.wikipedia.org/wiki/Número_abundante): la suma de los divisores es mayor que el número.\n",
        "\n",
        "  La rutina se deberá llamar números_abundantes\n",
        "\n",
        "\n",
        "\n",
        "- [Números semiperfectos](https://es.wikipedia.org/wiki/N%C3%BAmero_semiperfecto) la suma de todos o algunos de los divisores propios es igual al número.\n",
        "\n",
        "  La rutina se debera llamar numeros_semiperfectos\n",
        "\n",
        "- [Números perfectos](https://es.wikipedia.org/wiki/N%C3%BAmero_perfecto) la suma de todos sus divisores propios, excepto el mismo numero, es igual al número.\n",
        "\n",
        "   La rutina se deberá llamar numeros_perfectos\n",
        "\n",
        "\n",
        "- [Números primos](https://es.wikipedia.org/wiki/N%C3%BAmero_primo) el número es divisible unicamente por sí mismo y por 1.\n",
        "\n",
        "   La rutina se deberá llamar numeros_primos\n",
        "\n",
        "\n",
        "**Problema no obligatorio**\n",
        "\n",
        "Retornar los 30 primeros números de cada clase"
      ]
    },
    {
      "cell_type": "code",
      "execution_count": null,
      "id": "ef8dd628",
      "metadata": {
        "id": "ef8dd628"
      },
      "outputs": [],
      "source": [
        "#Damas y caballeros, preparense para la maraton de funciones!\n",
        "\n",
        "def números_defectivos(a):\n",
        "  divisores_propios=0\n",
        "\n",
        "  if a==1:\n",
        "    return True                      #Una convención.\n",
        "\n",
        "  for i in range(1,a):\n",
        "    if a%i == 0:              #Con el modulo, sacamos todos sus divisores (hasta a-1, pues a no cuenta!)\n",
        "      divisores_propios+=i\n",
        "\n",
        "  if divisores_propios<a:             #Y aplicamos la condicion.\n",
        "    return True\n",
        "  else:\n",
        "    return False"
      ]
    },
    {
      "cell_type": "code",
      "source": [
        "números_defectivos(17)"
      ],
      "metadata": {
        "colab": {
          "base_uri": "https://localhost:8080/"
        },
        "id": "HE5eoK0X4exN",
        "outputId": "781c3ccc-2e92-433c-8380-fa3b110c933d"
      },
      "id": "HE5eoK0X4exN",
      "execution_count": null,
      "outputs": [
        {
          "output_type": "execute_result",
          "data": {
            "text/plain": [
              "True"
            ]
          },
          "metadata": {},
          "execution_count": 79
        }
      ]
    },
    {
      "cell_type": "code",
      "source": [
        "#Numeros abudantes! (Excluyendo el termino a en si, es basicamente cambiar la posicion de True y False de los defectivos!)\n",
        "def números_abudantes(a):\n",
        "  divisores_propios=0\n",
        "\n",
        "  if a==1:\n",
        "    return False                      #Una nueva convención.\n",
        "\n",
        "  for i in range(1,a):\n",
        "    if a%i == 0:\n",
        "      divisores_propios+=i\n",
        "\n",
        "  if divisores_propios<=a:             #Y aplicamos la condicion (inversa!!).\n",
        "    return False\n",
        "  else:\n",
        "    return True"
      ],
      "metadata": {
        "id": "e59abwa56gBF"
      },
      "id": "e59abwa56gBF",
      "execution_count": null,
      "outputs": []
    },
    {
      "cell_type": "code",
      "source": [
        "números_abudantes(12)"
      ],
      "metadata": {
        "colab": {
          "base_uri": "https://localhost:8080/"
        },
        "id": "g1yJYSY47KB3",
        "outputId": "50b883e7-3086-406e-8a8d-687fd1f5ee58"
      },
      "id": "g1yJYSY47KB3",
      "execution_count": null,
      "outputs": [
        {
          "output_type": "execute_result",
          "data": {
            "text/plain": [
              "True"
            ]
          },
          "metadata": {},
          "execution_count": 81
        }
      ]
    },
    {
      "cell_type": "code",
      "source": [
        "#Semi perfectos!! (La suma de todos o ALGUNOS...??? Vaya... eso explica el semi...)\n",
        "def números_semiperfectos(a):\n",
        "  divisores_propios=[]     #Dado que la suma no tiene que ser secuencial (Como el 12, que es semiperfecto por 6+4+2), que sea una lista.\n",
        "                              #Luego hacemos todas las sumas posibles, y comparamos!\n",
        "\n",
        "  for i in range(1,a):\n",
        "    if a%i == 0:\n",
        "      divisores_propios.append(i)\n",
        "\n",
        "  for i in range(2, len(divisores_propios) + 1):               #Requerimos lo que llamamos una permutación! Todas las combincaciones posibles\n",
        "    for p in permutations(divisores_propios, i):          #Hace permutaciones de i elementos (empezando en 2, parejas, luego 3, etc.)\n",
        "        suma = sum(p)\n",
        "\n",
        "        if suma==a:\n",
        "          return True\n",
        "\n",
        "  return False\n"
      ],
      "metadata": {
        "id": "f21Bsuly7Wjx"
      },
      "id": "f21Bsuly7Wjx",
      "execution_count": null,
      "outputs": []
    },
    {
      "cell_type": "code",
      "source": [
        "números_semiperfectos(28)"
      ],
      "metadata": {
        "colab": {
          "base_uri": "https://localhost:8080/"
        },
        "id": "2jcfU3dm8TZk",
        "outputId": "f16ad672-9a40-4c24-f195-186df85b9737"
      },
      "id": "2jcfU3dm8TZk",
      "execution_count": null,
      "outputs": [
        {
          "output_type": "execute_result",
          "data": {
            "text/plain": [
              "True"
            ]
          },
          "metadata": {},
          "execution_count": 83
        }
      ]
    },
    {
      "cell_type": "code",
      "source": [
        "#Numeros perfectos! Mayor paz y tranquilidad... sin tanta locura intermedia como el anterior!\n",
        "def números_perfectos(a):\n",
        "  divisores_propios=0\n",
        "  if a==1:                       #Convencionnn\n",
        "    return True\n",
        "  for i in range(1,a):\n",
        "    if a%i == 0:\n",
        "      divisores_propios+=i\n",
        "\n",
        "  if divisores_propios==a:\n",
        "    return True\n",
        "  return False"
      ],
      "metadata": {
        "id": "IjrNVMNs_lCs"
      },
      "id": "IjrNVMNs_lCs",
      "execution_count": null,
      "outputs": []
    },
    {
      "cell_type": "code",
      "source": [
        "números_perfectos(33550336)"
      ],
      "metadata": {
        "colab": {
          "base_uri": "https://localhost:8080/"
        },
        "id": "0Rzk5Y3z_18q",
        "outputId": "12197c92-7759-417d-96d6-83047fd6318b"
      },
      "id": "0Rzk5Y3z_18q",
      "execution_count": null,
      "outputs": [
        {
          "output_type": "execute_result",
          "data": {
            "text/plain": [
              "True"
            ]
          },
          "metadata": {},
          "execution_count": 85
        }
      ]
    },
    {
      "cell_type": "code",
      "source": [
        "#Ahora... supongo que, el más sencillo de todos!\n",
        "def números_primos(a):\n",
        "  divisores=0\n",
        "\n",
        "  for i in range(1,a):\n",
        "    if a%i == 0:\n",
        "      divisores+=i\n",
        "\n",
        "  if divisores==1:\n",
        "    return True\n",
        "  return False"
      ],
      "metadata": {
        "id": "8XWhNU6_Az2x"
      },
      "id": "8XWhNU6_Az2x",
      "execution_count": null,
      "outputs": []
    },
    {
      "cell_type": "code",
      "source": [
        "números_primos(97)"
      ],
      "metadata": {
        "colab": {
          "base_uri": "https://localhost:8080/"
        },
        "id": "TAQNi-8kBVWO",
        "outputId": "05b3d2ed-0494-405e-d7f6-b4bc98c261c0"
      },
      "id": "TAQNi-8kBVWO",
      "execution_count": null,
      "outputs": [
        {
          "output_type": "execute_result",
          "data": {
            "text/plain": [
              "True"
            ]
          },
          "metadata": {},
          "execution_count": 87
        }
      ]
    },
    {
      "cell_type": "code",
      "source": [
        "#Hagamos el punto opcional! La naturaleza de los codigos (Booleanos) Lo hace muy sencillo\n",
        "lista_def=[]\n",
        "lista_abund=[]\n",
        "lista_semi=[]\n",
        "#los numeros perfectos SON ENORMES. lamento negarme a hacer aparecer 30 numeros perfectos (por el bien de la integridad de mi maquina y la suya)\n",
        "lista_primos=[]\n",
        "\n",
        "i=1\n",
        "while True:                                   #Todo pasara infinitamente, hasta alcanzar 30 números!\n",
        "  if números_defectivos(i)==True:\n",
        "    lista_def.append(i)\n",
        "  i+=1\n",
        "  if len(lista_def)==30:\n",
        "    break\n",
        "\n",
        "i=1\n",
        "while True:\n",
        "  if números_abudantes(i)==True:\n",
        "    lista_abund.append(i)\n",
        "  i+=1\n",
        "  if len(lista_abund)==30:\n",
        "    break\n",
        "\n",
        "i=1\n",
        "while True:\n",
        "  if números_semiperfectos(i)==True:\n",
        "    lista_semi.append(i)\n",
        "  i+=1\n",
        "  if len(lista_semi)==30:\n",
        "    break\n",
        "\n",
        "i=1\n",
        "while True:\n",
        "  if números_primos(i)==True:\n",
        "    lista_primos.append(i)\n",
        "  i+=1\n",
        "  if len(lista_primos)==30:\n",
        "    break\n",
        "\n",
        "\n",
        "print(f\"Los primeros 30 números defectivos son {lista_def}\")\n",
        "print(f\"Los primeros 30 números abudantes son {lista_abund}\")\n",
        "print(f\"Los primeros 30 números semi-perfectos son {lista_semi}\")\n",
        "print(f\"Los primeros 30 números primos son {lista_primos}\")"
      ],
      "metadata": {
        "colab": {
          "base_uri": "https://localhost:8080/"
        },
        "id": "IEL-Ukn3BgaU",
        "outputId": "3677aedc-111a-4996-b48e-8ac707c2efed"
      },
      "id": "IEL-Ukn3BgaU",
      "execution_count": null,
      "outputs": [
        {
          "output_type": "stream",
          "name": "stdout",
          "text": [
            "Los primeros 30 números defectivos son [1, 2, 3, 4, 5, 7, 8, 9, 10, 11, 13, 14, 15, 16, 17, 19, 21, 22, 23, 25, 26, 27, 29, 31, 32, 33, 34, 35, 37, 38]\n",
            "Los primeros 30 números abudantes son [12, 18, 20, 24, 30, 36, 40, 42, 48, 54, 56, 60, 66, 70, 72, 78, 80, 84, 88, 90, 96, 100, 102, 104, 108, 112, 114, 120, 126, 132]\n",
            "Los primeros 30 números semi-perfectos son [6, 12, 18, 20, 24, 28, 30, 36, 40, 42, 48, 54, 56, 60, 66, 72, 78, 80, 84, 88, 90, 96, 100, 102, 104, 108, 112, 114, 120, 126]\n",
            "Los primeros 30 números primos son [2, 3, 5, 7, 11, 13, 17, 19, 23, 29, 31, 37, 41, 43, 47, 53, 59, 61, 67, 71, 73, 79, 83, 89, 97, 101, 103, 107, 109, 113]\n"
          ]
        }
      ]
    },
    {
      "cell_type": "markdown",
      "id": "7abaa420",
      "metadata": {
        "id": "7abaa420"
      },
      "source": [
        "# 2.\n",
        "Determine si un número `n` entero ingresado por el usuario es un [palíndromo](https://en.wikipedia.org/wiki/Palindromic_number), (Retorne `True` en caso afirmativo y `False` en caso contrario)"
      ]
    },
    {
      "cell_type": "code",
      "execution_count": null,
      "id": "f4074c2f",
      "metadata": {
        "id": "f4074c2f"
      },
      "outputs": [],
      "source": [
        "def palindromo(n): #El plan es el siguiente, convertirlo en cadena de caracteres, voltearlo, y evaluarlo!\n",
        "  normal=str(n)\n",
        "  volteado=normal[::-1]\n",
        "  if normal==volteado:\n",
        "    return True\n",
        "  return False"
      ]
    },
    {
      "cell_type": "code",
      "source": [
        "palindromo(16361)"
      ],
      "metadata": {
        "colab": {
          "base_uri": "https://localhost:8080/"
        },
        "id": "Tiy_CaMqFL5A",
        "outputId": "40ae9590-f584-43ef-e387-45bde5430f07"
      },
      "id": "Tiy_CaMqFL5A",
      "execution_count": null,
      "outputs": [
        {
          "output_type": "execute_result",
          "data": {
            "text/plain": [
              "True"
            ]
          },
          "metadata": {},
          "execution_count": 119
        }
      ]
    },
    {
      "cell_type": "markdown",
      "id": "f5ef6ce7",
      "metadata": {
        "id": "f5ef6ce7"
      },
      "source": [
        "# 3.\n",
        "Una característica útil de las funciones definidas por el usuario es la **recursion**, la capacidad de una función de llamarse a sí misma. Por ejemplo, considere la siguiente definición del factorial $n!$ de un entero positivo $n$:\n",
        "\n",
        "$$n! =\n",
        "\\begin{cases}\n",
        "1 & \\text{si } n = 1, \\\\\n",
        "n \\times (n - 1)! & \\text{si } n > 1.\n",
        "\\end{cases}$$\n",
        "\n",
        "Esta constituye una definición completa del factorial que nos permite calcular el valor de $n!$ para cualquier entero positivo. Podemos emplear esta definición directamente para crear una función en Python para factoriales, así:\n",
        "\n",
        "\n",
        "\n",
        "```python\n",
        "def factorial(n):\n",
        "    if n == 1:\n",
        "        return 1\n",
        "    else:\n",
        "        return n * factorial(n-1)\n",
        "```\n",
        "- Los números de Catalan $C_n$ aparecieron previamente en clase. La definición dada allí puede reescribirse como:\n",
        "\n",
        "$$C_n =\n",
        "\\begin{cases}\n",
        "1 & \\text{si } n = 0, \\\\\n",
        "\\frac{4n - 2}{n + 1} \\, C_{n-1} & \\text{si } n > 0.\n",
        "\\end{cases}$$\n",
        "\n",
        "Escriba una función en Python, usando recursión, que calcule $C_n$. Utilice su función para calcular e imprimir $C_{50}$.\n",
        "\n",
        "- Euclides demostró que el máximo común divisor $g(m, n)$ de dos enteros no negativos $m$ y $n$ satisface:\n",
        "\n",
        "$$g(m, n) =\n",
        "\\begin{cases}\n",
        "m & \\text{si } n = 0, \\\\\n",
        "g(n, m \\bmod n) & \\text{si } n > 0.\n",
        "\\end{cases}$$\n",
        "\n",
        "Escriba una función en Python $g(m, n)$ que emplee recursión para calcular el máximo común divisor de $m$ y $n$ usando esta fórmula. Use su función para calcular e imprimir el máximo común divisor de 108 y 192.\n"
      ]
    },
    {
      "cell_type": "code",
      "execution_count": null,
      "id": "7f8fb186",
      "metadata": {
        "id": "7f8fb186"
      },
      "outputs": [],
      "source": [
        "def catalan(n):\n",
        "  if n==0:\n",
        "    return 1\n",
        "  else:\n",
        "    return (((4*n)-2)/(n+1))*(catalan(n-1)) #Vaya que es útil la recursión!"
      ]
    },
    {
      "cell_type": "code",
      "source": [
        "catalan(50)"
      ],
      "metadata": {
        "colab": {
          "base_uri": "https://localhost:8080/"
        },
        "id": "RZSDvXWTG_dI",
        "outputId": "8e4c828f-93e8-4cb5-a938-00ad8a50bffc"
      },
      "id": "RZSDvXWTG_dI",
      "execution_count": null,
      "outputs": [
        {
          "output_type": "execute_result",
          "data": {
            "text/plain": [
              "1.9782616577561618e+27"
            ]
          },
          "metadata": {},
          "execution_count": 90
        }
      ]
    },
    {
      "cell_type": "code",
      "source": [
        "def mcd(m,n):         #maximo comun divisor, recibe dos valores a comparar, devuelve el mcd!\n",
        "  if n==0:\n",
        "    return m\n",
        "  else:\n",
        "    return mcd(n,m%n)       #Bendita recursion!"
      ],
      "metadata": {
        "id": "g44FP3TGJMMD"
      },
      "id": "g44FP3TGJMMD",
      "execution_count": null,
      "outputs": []
    },
    {
      "cell_type": "code",
      "source": [
        "mcd(108,192)"
      ],
      "metadata": {
        "colab": {
          "base_uri": "https://localhost:8080/"
        },
        "id": "oFdqyVtyJrMV",
        "outputId": "7fdb5902-3d54-4bc9-8226-cbf756d24965"
      },
      "id": "oFdqyVtyJrMV",
      "execution_count": null,
      "outputs": [
        {
          "output_type": "execute_result",
          "data": {
            "text/plain": [
              "12"
            ]
          },
          "metadata": {},
          "execution_count": 92
        }
      ]
    },
    {
      "cell_type": "markdown",
      "id": "7f0f66c8",
      "metadata": {
        "id": "7f0f66c8"
      },
      "source": [
        "# 4.\n",
        "Un problema conocido de mecánica cuántica involucra una partícula de masa $m$ que encuentra un escalón de potencial unidimensional, como se muestra en la figura:\n",
        "\n",
        "![image.png](data:image/png;base64,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)\n",
        "\n",
        "\n",
        "La partícula con energía cinética inicial $E$ y vector de onda $k_1 = \\sqrt{2mE}/\\hbar$ entra desde la izquierda y encuentra un salto abrupto en la energía potencial de altura $V$ en la posición $x = 0$. Resolviendo la ecuación de Schrödinger, se puede demostrar que cuando $E > V$ la partícula puede:\n",
        "- Pasar el escalón, en cuyo caso tendrá una energía cinética menor $E - V$ al otro lado y un vector de onda correspondientemente más pequeño $k_2 = \\sqrt{2m(E - V)}/\\hbar$\n",
        "- Ser reflejada, manteniendo toda su energía cinética y vector de onda sin cambios, pero moviéndose en dirección opuesta.\n",
        "\n",
        "\n",
        "Las probabilidades $T$ y $R$ para transmisión y reflexión están dadas por:\n",
        "\n",
        "$$T = \\frac{4k_1k_2}{(k_1 + k_2)^2}, \\quad R = \\left(\\frac{k_1 - k_2}{k_1 + k_2}\\right)^2.$$\n",
        "\n",
        "Consideremos una partícula con masa igual a la del electrón $m = 9.11 \\times 10^{-31} \\, \\text{kg}$ y energía $10 \\, \\text{eV}$ que encuentra un escalón de potencial de altura $9 \\, \\text{eV}$. Escriba un programa en Python para calcular e imprimir las probabilidades de transmisión y reflexión usando las fórmulas anteriores.\n"
      ]
    },
    {
      "cell_type": "code",
      "execution_count": null,
      "id": "f231cf33",
      "metadata": {
        "colab": {
          "base_uri": "https://localhost:8080/"
        },
        "id": "f231cf33",
        "outputId": "09b41d70-279c-444f-f89a-330c430f7857"
      },
      "outputs": [
        {
          "output_type": "stream",
          "name": "stdout",
          "text": [
            "La probabilidad de transmisión es 0.7301261363877618, y de reflexión es 0.26987386361223836 para un logico total porcentual de 1.0000000000000002\n"
          ]
        }
      ],
      "source": [
        "# Tercer semestre y cuantica? Nada mal!\n",
        "m=9.11*1e-31  #(kg)                     #definamos variables\n",
        "E=10*(1.602*1e-19)              #(J) Que todo este en el S.I. no queremos tener problemas de Unidades!\n",
        "V= 9*(1.602*1e-19)              #(J) #Alturas en terminos de energía? Loquísimo!\n",
        "hbarra=1.0545718*1e-34          #(J/s) Listo, todo en unidades apropiadas, comencemos a calcular.\n",
        "\n",
        "k1=((2*m*E)**(1/2))/(hbarra)\n",
        "k2=((2*m*(E-V))**(1/2))/(hbarra)      #Netas deficiones, no hay mucho que explicar\n",
        "\n",
        "T=(4*k1*k2)/((k1+k2)**(2))              #Y voilà los cálculos solicitados!\n",
        "R=((k1-k2)/(k1+k2))**(2)\n",
        "\n",
        "print(f\"La probabilidad de transmisión es {T}, y de reflexión es {R} para un logico total porcentual de {T+R}\")"
      ]
    },
    {
      "cell_type": "markdown",
      "id": "34155057",
      "metadata": {
        "id": "34155057"
      },
      "source": [
        "# 5.\n",
        "La órbita en el espacio de un cuerpo alrededor de otro, como un planeta alrededor del Sol, no necesita ser circular. En general toma la forma de una elipse, con el cuerpo a veces más cerca y a veces más lejos. Si se conocen la distancia $\\ell_{1}$ del acercamiento más próximo que hace un planeta al Sol, llamado perihelio, y su velocidad lineal $v_{1}$ en el perihelio, entonces cualquier otra propiedad de la órbita puede calcularse a partir de estos dos datos de la siguiente manera.\n",
        "La segunda ley de Kepler nos dice que la distancia $\\ell_{2}$ y velocidad $v_{2}$ del planeta en su punto más distante, o afelio, satisfacen $\\ell_{2}v_{2}=\\ell_{1}v_{1}$. Al mismo tiempo, la energía total, cinética más gravitacional, de un planeta con velocidad $v$ y distancia $r$ del Sol está dada por\n",
        "    $$\n",
        "    E = \\tfrac{1}{2}mv^{2} - G\\frac{mM}{r},\n",
        "    $$\n",
        "    donde $m$ es la masa del planeta, $M=1.9891\\times 10^{30}\\,\\mathrm{kg}$ es la masa del Sol, y $G=6.6738\\times 10^{-11}\\,\\mathrm{m}^{3}\\,\\mathrm{kg}^{-1}\\,\\mathrm{s}^{-2}$ es la constante gravitacional de Newton. Dado que la energía debe conservarse, se llega a que $v_{2}$ es la raíz más pequeña de la ecuación cuadrática\n",
        "    $$\n",
        "    v_{2}^{2} - \\frac{2GM}{v_{1}\\ell_{1}}v_{2} - \\left[v_{1}^{2} - \\frac{2GM}{\\ell_{1}}\\right] = 0.\n",
        "    $$\n",
        "    Una vez que se tiene $v_{2}$, podemos calcular $\\ell_{2}$ usando la relación $\\ell_{2}=\\ell_{1}v_{1}/v_{2}$.\n",
        "\n",
        "- Dados los valores de $v_{1}$, $\\ell_{1}$, y $\\ell_{2}$, otros parámetros de la órbita vienen dados por fórmulas simples que pueden derivarse de las leyes de Kepler y del hecho de que la órbita es una elipse:\n",
        "$$\n",
        "    \\text{Semieje mayor:}  \\quad a = \\tfrac{1}{2}(\\ell_{1}+\\ell_{2}),\n",
        "$$\n",
        "$$\n",
        "    \\text{Semieje menor:}  \\quad b = \\sqrt{\\ell_{1}\\ell_{2}},\n",
        "$$\n",
        "$$\n",
        "    \\text{Periodo orbital:}  \\quad T = \\frac{2\\pi ab}{\\ell_{1}v_{1}},\n",
        "$$\n",
        "$$\n",
        "    \\text{Excentricidad orbital:}  \\quad e = \\frac{\\ell_{2}-\\ell_{1}}{\\ell_{2}+\\ell_{1}}.\n",
        "$$\n",
        "\n",
        "Escriba un programa que solicite al usuario ingresar la distancia al Sol y la velocidad en el perihelio, luego calcule e imprima las cantidades $\\ell_{2}$, $v_{2}$, $T$, y $e$.\n",
        "\n",
        "- Pruebe su programa calculando las propiedades de las órbitas de la Tierra (para la cual $\\ell_{1}=1.4710\\times 10^{11}\\,\\mathrm{m}$ y $v_{1}=3.0287\\times 10^{4}\\,\\mathrm{m}\\,\\mathrm{s}^{-1}$) y del cometa Halley ($\\ell_{1}=8.7830\\times 10^{10}\\,\\mathrm{m}$ y $v_{1}=5.4529\\times 10^{4}\\,\\mathrm{m}\\,\\mathrm{s}^{-1}$). Entre otras cosas, debería encontrar que el período orbital de la Tierra es un año y el del cometa Halley es alrededor de 76 años.\n"
      ]
    },
    {
      "cell_type": "code",
      "execution_count": null,
      "id": "2b8f351c",
      "metadata": {
        "id": "2b8f351c"
      },
      "outputs": [],
      "source": [
        "#Wow, aca tenemos bastante con que trabajar...! Comencemos.\n",
        "\n",
        "\n",
        "def orbitas(l1,v1): #Solicita v1, y l1, devuelve l2, v2, T, y e!\n",
        "\n",
        "  M=1.9891*1e30 #Masa sol, kg\n",
        "  G=6.6738*1e-11 #Constange gravtacional con unidades apropiadas en S.I. (Note que todo esta en unidades del S.I.)\n",
        "\n",
        "  #Primero necesitamos v2!\n",
        "\n",
        "  \"\"\"\n",
        "\n",
        "  Este era el brillante plan, pero el profesor se nego a aceptarlo...\n",
        "\n",
        "  def v2(x):        #Hagamos un pequeño truco veloz para hallar a v2... Metodos númericos! (no es acaso el curso? jeje)\n",
        "    return (x**2)-(((2*G*M)/(v1*l1))*x)-((v1**2)-((2*G*M)/(l1)))\n",
        "  v2=newton(v2,x0=10,x1=1000 )  # voilà! Ya tenemos a v2\n",
        "\n",
        "\n",
        "  \"\"\"\n",
        "\n",
        "  #Calculemos entonces v**2 (con papel!!!) para ello usaremos la clasica formula general, donde necesitamos a, b y c\n",
        "  a=1\n",
        "  b=-((2*G*M)/(v1*l1))           #No olvidemos el signo!!!\n",
        "  c=-((v1**2)-((2*G*M)/(l1)))    #Listo, empleemos nuestra formula màgica!\n",
        "  #Finalmente caclulemos v2\n",
        "\n",
        "  v2=(((-1)*b) - ( (b**2) - (4*a*c) )**(1/2))  / (2*a) #Clasica formula\n",
        "\n",
        "\n",
        "  #Sigue l2\n",
        "  l2=(l1*v1)/(v2)      #Y listo!!! Lo tenemos absolutamente todo! l1,l2,v1,v2, ahora, a evaluar!\n",
        "\n",
        "  a=(1/2)*(l1+l2)\n",
        "  b=(l1*l2)**(1/2)\n",
        "  T=(2*np.pi*a*b)/(l1*v1)         #Todo esta en S.I. asi que hagamos una pequeña conversion.\n",
        "  e=(l2-l1)/(l2+l1)\n",
        "\n",
        "  T=T*(1/31557600)        #Asi convertimos nuestro periodo en años, para una mejor visualizaciñon\n",
        "\n",
        "  return print(f\"El periodo T fueron {T} años, su excentricidad fue {e}, y l2 y v2 fueron {l2}, {v2} respectivamente\")"
      ]
    },
    {
      "cell_type": "code",
      "source": [
        "orbitas(1.4710*1e11,3.0287*1e4) #Tierra!"
      ],
      "metadata": {
        "colab": {
          "base_uri": "https://localhost:8080/"
        },
        "id": "Rl8mS6mESrkM",
        "outputId": "6bd4b917-2d80-4307-fcec-2df476acc25c"
      },
      "id": "Rl8mS6mESrkM",
      "execution_count": null,
      "outputs": [
        {
          "output_type": "stream",
          "name": "stdout",
          "text": [
            "El periodo T fueron 0.9995392617907274 años, su excentricidad fue 0.016471913134744297, y l2 y v2 fueron 152027197208.66058, 29305.399177261148 respectivamente\n"
          ]
        }
      ]
    },
    {
      "cell_type": "code",
      "source": [
        "orbitas(8.7830*1e10,5.4529*1e4) #Halley!"
      ],
      "metadata": {
        "colab": {
          "base_uri": "https://localhost:8080/"
        },
        "id": "l_oNBOwAVYni",
        "outputId": "695696f4-242d-4de7-9c97-af5f2c9c4b43"
      },
      "id": "l_oNBOwAVYni",
      "execution_count": null,
      "outputs": [
        {
          "output_type": "stream",
          "name": "stdout",
          "text": [
            "El periodo T fueron 76.02962556864867 años, su excentricidad fue 0.9672889126454061, y l2 y v2 fueron 5282214660876.441, 906.6806969191493 respectivamente\n"
          ]
        }
      ]
    },
    {
      "cell_type": "markdown",
      "id": "cd4ec81e",
      "metadata": {
        "id": "cd4ec81e"
      },
      "source": [
        "# 6.\n",
        "Un proyectil es lanzado desde una altura inicial $y_0 = 0$ con una velocidad inicial de $4.0\\, \\text{m/s}$ a $45^\\circ$ respecto a la horizontal. Graficar la trayectoria del proyectil en su plano de movimiento (considerando el eje $x$ paralelo a la horizontal y el origen en la posición inicial del proyectil) desde el punto de lanzamiento hasta el punto donde impacta el suelo (asumiendo un terreno plano). La gráfica debe incluir etiquetas en los ejes y un título. Recuerde que las ecuaciones del movimiento parabólico están dadas por\n",
        "\n",
        "$$\n",
        "\\text{Posición horizontal:} \\quad x(t) = v_{0x} t = v_0 \\cos\\theta \\cdot t\n",
        "$$\n",
        "$$\n",
        "\\text{Posición vertical:} \\quad y(t) = y_0 + v_{0y} t - \\frac{1}{2}gt^2 = y_0 + v_0 \\sin\\theta \\cdot t - \\frac{1}{2}gt^2\n",
        "$$\n",
        "$$\n",
        "\\text{Velocidad horizontal:} \\quad v_x(t) = v_{0x} =v_0 \\cos \\theta= \\text{constante}\n",
        "$$\n",
        "$$\n",
        "\\text{Velocidad vertical:} \\quad v_y(t) = v_{0y} - gt = v_0 \\sin\\theta - gt\n",
        "$$"
      ]
    },
    {
      "cell_type": "code",
      "execution_count": null,
      "id": "74e3d972",
      "metadata": {
        "id": "74e3d972"
      },
      "outputs": [],
      "source": [
        "#Nos dan y0 y v0, pero vamos...! Todos sabemos que es mas divertido cuando es mas general, y asi poder jugar con los parametros!\n",
        "\n",
        "def pbl(y0,v0,a0):    #recibe y0(altura inicial), v0(velocidad inicial), a0(angulo)\n",
        "\n",
        "  a0=a0*(np.pi/180) #Todo cientifico respetable trabaja en radianes.\n",
        "  g = 9.81\n",
        "\n",
        "  v0x= v0*np.cos(a0)\n",
        "  v0y= v0*np.sin(a0)\n",
        "\n",
        "  tf= (v0y+((v0y**2)+(2*g*y0))**(0.5))/g                 #aqui calculamos el tiempo de vuelo! (tiempo final)\n",
        "\n",
        "  xf=v0x*tf\n",
        "  yf=0                                                 #Distancias finales...\n",
        "\n",
        "\n",
        "  t=np.linspace(0,tf,1000)\n",
        "  y= y0+ v0y*t -(1/2)*g*(t**2)\n",
        "  x= v0x*t\n",
        "\n",
        "  fig, ax=plt.subplots()\n",
        "  ax.plot(x,y,color=\"c\",lw=3,label=\"Trayectoria del proyectil\",linestyle=\"--\")\n",
        "  plt.xlabel(\"Distancia $x$ ($m$)\")\n",
        "  plt.ylabel(\"$Altura$ (m)\")\n",
        "  plt.title(\"Lanzamiento Parabólico\")\n",
        "  plt.legend()\n",
        "  plt.grid()\n",
        "\n",
        "\n",
        "\n",
        "  return plt.show"
      ]
    },
    {
      "cell_type": "code",
      "source": [
        "pbl(0,4,45)"
      ],
      "metadata": {
        "colab": {
          "base_uri": "https://localhost:8080/",
          "height": 643
        },
        "id": "6m4c-GmesKBv",
        "outputId": "b1fb26dd-7ffd-456c-af46-ed180562abc8"
      },
      "id": "6m4c-GmesKBv",
      "execution_count": null,
      "outputs": [
        {
          "output_type": "execute_result",
          "data": {
            "text/plain": [
              "<function matplotlib.pyplot.show(close=None, block=None)>"
            ],
            "text/html": [
              "<div style=\"max-width:800px; border: 1px solid var(--colab-border-color);\"><style>\n",
              "      pre.function-repr-contents {\n",
              "        overflow-x: auto;\n",
              "        padding: 8px 12px;\n",
              "        max-height: 500px;\n",
              "      }\n",
              "\n",
              "      pre.function-repr-contents.function-repr-contents-collapsed {\n",
              "        cursor: pointer;\n",
              "        max-height: 100px;\n",
              "      }\n",
              "    </style>\n",
              "    <pre style=\"white-space: initial; background:\n",
              "         var(--colab-secondary-surface-color); padding: 8px 12px;\n",
              "         border-bottom: 1px solid var(--colab-border-color);\"><b>matplotlib.pyplot.show</b><br/>def show(*args, **kwargs) -&gt; None</pre><pre class=\"function-repr-contents function-repr-contents-collapsed\" style=\"\"><a class=\"filepath\" style=\"display:none\" href=\"#\">/usr/local/lib/python3.11/dist-packages/matplotlib/pyplot.py</a>Display all open figures.\n",
              "\n",
              "Parameters\n",
              "----------\n",
              "block : bool, optional\n",
              "    Whether to wait for all figures to be closed before returning.\n",
              "\n",
              "    If `True` block and run the GUI main loop until all figure windows\n",
              "    are closed.\n",
              "\n",
              "    If `False` ensure that all figure windows are displayed and return\n",
              "    immediately.  In this case, you are responsible for ensuring\n",
              "    that the event loop is running to have responsive figures.\n",
              "\n",
              "    Defaults to True in non-interactive mode and to False in interactive\n",
              "    mode (see `.pyplot.isinteractive`).\n",
              "\n",
              "See Also\n",
              "--------\n",
              "ion : Enable interactive mode, which shows / updates the figure after\n",
              "      every plotting command, so that calling ``show()`` is not necessary.\n",
              "ioff : Disable interactive mode.\n",
              "savefig : Save the figure to an image file instead of showing it on screen.\n",
              "\n",
              "Notes\n",
              "-----\n",
              "**Saving figures to file and showing a window at the same time**\n",
              "\n",
              "If you want an image file as well as a user interface window, use\n",
              "`.pyplot.savefig` before `.pyplot.show`. At the end of (a blocking)\n",
              "``show()`` the figure is closed and thus unregistered from pyplot. Calling\n",
              "`.pyplot.savefig` afterwards would save a new and thus empty figure. This\n",
              "limitation of command order does not apply if the show is non-blocking or\n",
              "if you keep a reference to the figure and use `.Figure.savefig`.\n",
              "\n",
              "**Auto-show in jupyter notebooks**\n",
              "\n",
              "The jupyter backends (activated via ``%matplotlib inline``,\n",
              "``%matplotlib notebook``, or ``%matplotlib widget``), call ``show()`` at\n",
              "the end of every cell by default. Thus, you usually don&#x27;t have to call it\n",
              "explicitly there.</pre>\n",
              "      <script>\n",
              "      if (google.colab.kernel.accessAllowed && google.colab.files && google.colab.files.view) {\n",
              "        for (const element of document.querySelectorAll('.filepath')) {\n",
              "          element.style.display = 'block'\n",
              "          element.onclick = (event) => {\n",
              "            event.preventDefault();\n",
              "            event.stopPropagation();\n",
              "            google.colab.files.view(element.textContent, 569);\n",
              "          };\n",
              "        }\n",
              "      }\n",
              "      for (const element of document.querySelectorAll('.function-repr-contents')) {\n",
              "        element.onclick = (event) => {\n",
              "          event.preventDefault();\n",
              "          event.stopPropagation();\n",
              "          element.classList.toggle('function-repr-contents-collapsed');\n",
              "        };\n",
              "      }\n",
              "      </script>\n",
              "      </div>"
            ]
          },
          "metadata": {},
          "execution_count": 151
        },
        {
          "output_type": "display_data",
          "data": {
            "text/plain": [
              "<Figure size 640x480 with 1 Axes>"
            ],
            "image/png": "[encoded data removed]"
          },
          "metadata": {}
        }
      ]
    },
    {
      "cell_type": "markdown",
      "id": "316251cc",
      "metadata": {
        "id": "316251cc"
      },
      "source": [
        "# 7.\n",
        "\n",
        "Los polinomios de Legendre son de gran importancia en física, especialmente en la solución de la ecuación de Laplace en coordenadas esféricas. Son fundamentales en la expansión en armónicos esféricos, lo que los hace esenciales en problemas de mecánica cuántica y electromagnetismo. Cada polinomio de Legendre $P_n(x)$ es un polinomio de grado $n$. Este puede ser expresado usando la Fórmula de Rodrigues:\n",
        "     \n",
        "$$\n",
        "P_n (x)=\\frac{1}{n!\\ 2^n} \\frac{d^n}{dx^n} (x^2-1)^n, \\ \\ n \\in  \\mathbb{Z^{+}}+\\{0\\}\n",
        "$$\n",
        "        \n",
        "- Utilizando la fórmula de Rodrigues halle $P_0(x)$ y $P_1(x)$.\n",
        "-  Con la fórmula de recurrencia\n",
        "$$\n",
        "            P_{j+1}(x)=\\frac{(2j+1)x P_j (x)-jP_{j-1}(x)}{j+1},\n",
        "$$\n",
        "elabore un código que permita calcular $P_n(x)$ para $n\\geq2$.\n",
        "- En una misma gráfica muestre $P_n(x)$ para $1\\leq n\\leq5$.\n"
      ]
    },
    {
      "cell_type": "code",
      "source": [
        "#Bueno... Con neta inspección, podemos observar que P0=1, y que P1=x, por lo cual... tenemos material para usar recursividad!!\n",
        "\n",
        "\n",
        "def legrende(x,n):     #Elegimos nuestra variable, al igual que el n\n",
        "  if n==0:\n",
        "    return 1\n",
        "  if n==1:              #Nuestras condiciones descubiertas...\n",
        "    return x\n",
        "\n",
        "  return ((2*(n-1)+1)*x*legrende(x,n-1)-((n-1)*legrende(x,n-2)))/(n)      #Y la ecuaciñon recursiva!"
      ],
      "metadata": {
        "id": "U30QPbEKHZdx"
      },
      "id": "U30QPbEKHZdx",
      "execution_count": null,
      "outputs": []
    },
    {
      "cell_type": "code",
      "source": [
        "legrende(2,4)"
      ],
      "metadata": {
        "colab": {
          "base_uri": "https://localhost:8080/"
        },
        "id": "Xprz58VMTLyw",
        "outputId": "ed0abb45-187e-46d8-952d-af476000b5ba"
      },
      "id": "Xprz58VMTLyw",
      "execution_count": null,
      "outputs": [
        {
          "output_type": "execute_result",
          "data": {
            "text/plain": [
              "55.375"
            ]
          },
          "metadata": {},
          "execution_count": 154
        }
      ]
    },
    {
      "cell_type": "code",
      "source": [
        "#Y ahora,grafiquemos!!\n",
        "ejex=np.linspace(-1,1,100)\n",
        "n1=legrende(ejex,1)\n",
        "n2=legrende(ejex,2)\n",
        "n3=legrende(ejex,3)\n",
        "n4=legrende(ejex,4)\n",
        "n5=legrende(ejex,5)\n",
        "\n",
        "plt.plot(ejex,n1,label=\"P1(x)\")\n",
        "plt.plot(ejex,n2,label=\"P2(x)\")\n",
        "plt.plot(ejex,n3,label=\"P3(x)\")\n",
        "plt.plot(ejex,n4,label=\"P4(x)\")\n",
        "plt.plot(ejex,n5,label=\"P5(x)\")\n",
        "plt.legend()\n",
        "plt.grid()"
      ],
      "metadata": {
        "colab": {
          "base_uri": "https://localhost:8080/",
          "height": 430
        },
        "id": "uXGrEmOEX6o7",
        "outputId": "7437b217-4fb8-4a43-c651-0c131fb5ecdb"
      },
      "id": "uXGrEmOEX6o7",
      "execution_count": null,
      "outputs": [
        {
          "output_type": "display_data",
          "data": {
            "text/plain": [
              "<Figure size 640x480 with 1 Axes>"
            ],
            "image/png": "[encoded data removed]"
          },
          "metadata": {}
        }
      ]
    }
  ],
  "metadata": {
    "kernelspec": {
      "display_name": "Python 3",
      "language": "python",
      "name": "python3"
    },
    "language_info": {
      "codemirror_mode": {
        "name": "ipython",
        "version": 3
      },
      "file_extension": ".py",
      "mimetype": "text/x-python",
      "name": "python",
      "nbconvert_exporter": "python",
      "pygments_lexer": "ipython3",
      "version": "3.12.6"
    },
    "colab": {
      "provenance": []
    }
  },
  "nbformat": 4,
  "nbformat_minor": 5
}