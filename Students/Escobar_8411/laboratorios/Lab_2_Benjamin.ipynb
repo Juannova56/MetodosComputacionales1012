{
  "cells": [
    {
      "cell_type": "markdown",
      "id": "5833cba4",
      "metadata": {
        "id": "5833cba4"
      },
      "source": [
        "# Laboratorio 02: Representación Numérica, Errores y Estabilidad.\n",
        "\n",
        "---\n",
        "### Profesor: Daniel Ruiz Mejía\n",
        "### Nombre: Benjamin Escobar Jaramillo\n",
        "*Métodos computacionales 2025-I*\n",
        "\n",
        "---"
      ]
    },
    {
      "cell_type": "markdown",
      "source": [
        "### ***Imports***"
      ],
      "metadata": {
        "id": "FEyHmhSJJv90"
      },
      "id": "FEyHmhSJJv90"
    },
    {
      "cell_type": "code",
      "source": [
        "import numpy as np\n",
        "import math\n",
        "import matplotlib.pyplot as plt\n",
        "import pandas as pd"
      ],
      "metadata": {
        "id": "iqr6f_x8Jslv"
      },
      "id": "iqr6f_x8Jslv",
      "execution_count": null,
      "outputs": []
    },
    {
      "cell_type": "markdown",
      "id": "204306de",
      "metadata": {
        "id": "204306de"
      },
      "source": [
        "# 1.\n",
        "Cree una función llamada `myint` pero que a partir de un número binario con base de 16 bits encuentre el entero correspondiente. Compare su resultado con `int(0b1000011100001)`"
      ]
    },
    {
      "cell_type": "code",
      "execution_count": null,
      "id": "6b0117ca",
      "metadata": {
        "id": "6b0117ca"
      },
      "outputs": [],
      "source": [
        "#Vamos con 16 bits!!\n",
        "def myint(n): #Entra un binario, sale un entero. (Ingresarlo sin el 0b!!!!)\n",
        "  #el Plan es este: Convertirlo en str, y a partir de su posición, saber que valor de potencia de 2 sumar!\n",
        "  valor=0\n",
        "  n=str(n)\n",
        "  n=n[::-1]                  #Lo ponemos al revés para que el indice 0, sea dos a la 0, el uno sea dos a la 1, etc...\n",
        "\n",
        "  for i in range(0,len(n)):\n",
        "    valor+= 2**(i)*int(n[i])    #Por lo cual, elevamos al numero, y suma si valor en ese punto es igual a 1\n",
        "\n",
        "  return valor           #Como la suma es conmutativa, no hay que voltear nada"
      ]
    },
    {
      "cell_type": "code",
      "source": [
        "myint(1000011100001)"
      ],
      "metadata": {
        "colab": {
          "base_uri": "https://localhost:8080/"
        },
        "id": "8QD0k28Ge_lB",
        "outputId": "bd2077b4-8846-4943-c8e0-ea97e9665200"
      },
      "id": "8QD0k28Ge_lB",
      "execution_count": null,
      "outputs": [
        {
          "output_type": "execute_result",
          "data": {
            "text/plain": [
              "4321"
            ]
          },
          "metadata": {},
          "execution_count": 215
        }
      ]
    },
    {
      "cell_type": "code",
      "source": [
        "int(0b1000011100001)==myint(1000011100001)     #Confirmado nuestro generador de binario!"
      ],
      "metadata": {
        "colab": {
          "base_uri": "https://localhost:8080/"
        },
        "id": "WT5F8P_OgeKv",
        "outputId": "9887e4ba-038c-4bd4-b421-e5f6f8c7d6d2"
      },
      "id": "WT5F8P_OgeKv",
      "execution_count": null,
      "outputs": [
        {
          "output_type": "execute_result",
          "data": {
            "text/plain": [
              "True"
            ]
          },
          "metadata": {},
          "execution_count": 4
        }
      ]
    },
    {
      "cell_type": "markdown",
      "id": "bb956b56",
      "metadata": {
        "id": "bb956b56"
      },
      "source": [
        "# 2.\n",
        "Generar una función llamada `number64` para flotantes de precisión doble (64bits) donde a partir de un número binario encuentre el valor real. Compruebe su solución usando\n",
        "\n",
        "```\n",
        "number64(\"0100000000111011100100001111111111111111111111111111111111111111\")\n",
        "```"
      ]
    },
    {
      "cell_type": "code",
      "source": [
        "#precision doble! damas y caballeros, tenemos signos, decimales y mucho mas! asi que manos a la obra.\n",
        "def number64(n):\n",
        "  n=str(n) #Trabajemos con stringssss! asi podemos usar sus indices!\n",
        "\n",
        "  signo=\"+\"             #aqui guardamos el signo!\n",
        "  if n[0]==1:\n",
        "    signo=\"-\"\n",
        "\n",
        "  exponente=\"\"   #Sigamos con el exponente! con un total de 11 bits!\n",
        "  for i in range(1,12): #11 bits, el 0 era el del signo\n",
        "    exponente+=n[i]  # y listo ya tenemos tambien el exponente separado, sigue...!\n",
        "\n",
        "    mantisa=\"\"\n",
        "  for i in range(12,64): #y listo, aca esta nuestra mantiza guardada\n",
        "    mantisa+=n[i]\n",
        "\n",
        "\n",
        "  #Bien! ya tenemos signo, exponente y mantisa separados. Solo queda operar\n",
        "  #1) Valor del exponente! (Usemos nuestro codigo anterior!!)\n",
        "\n",
        "  exponentefinal=((myint(int(exponente)))-1023) #Por definicion, se le resta el 1023\n",
        "\n",
        "  #Listo, ya tenemos exponente, ya tenemos el signo, queda la mantisa!!!\n",
        "\n",
        "  valormantisa=0         #Ahora calculemos la mantisa!\n",
        "\n",
        "  for i in range(0,52):\n",
        "    if mantisa[i]==str(1):           #Voila, los que sean 1 sobreviven, los 0`s mueren!!!\n",
        "      valormantisa= valormantisa + (1 / (2**(i+1)))\n",
        "    else:\n",
        "      continue\n",
        "\n",
        "  valormantisa=valormantisa+1+1/(2**52)              #Y se le suma el 1 por convencion!  #Ya tenemos nuestra mantiza\n",
        "\n",
        "          #Y listo! solo queda seguir la formula! mantiza x 2**exponente, y el signo!\n",
        "  casitotal=valormantisa*(2**(exponentefinal))\n",
        "  casitotal=str(casitotal)  #Lo hacemos strings para...\n",
        "  total=signo+casitotal     #unirlo al signo!!!!\n",
        "  return float(total)   #Y el finnnn!!! Logramos hacerlo!! (QUE TEDIOSO! WOW)\n"
      ],
      "metadata": {
        "id": "iMWfILOIAye5"
      },
      "id": "iMWfILOIAye5",
      "execution_count": null,
      "outputs": []
    },
    {
      "cell_type": "code",
      "source": [
        "number64(\"0100000000111011100100001111111111111111111111111111111111111111\")"
      ],
      "metadata": {
        "colab": {
          "base_uri": "https://localhost:8080/"
        },
        "id": "EmYcmkA_BwUS",
        "outputId": "b8e0ca39-6156-4564-8adf-20a2462d5169"
      },
      "id": "EmYcmkA_BwUS",
      "execution_count": null,
      "outputs": [
        {
          "output_type": "execute_result",
          "data": {
            "text/plain": [
              "27.56640625"
            ]
          },
          "metadata": {},
          "execution_count": 290
        }
      ]
    },
    {
      "cell_type": "markdown",
      "id": "a5693385",
      "metadata": {
        "id": "a5693385"
      },
      "source": [
        "# 3. Aproximación de $\\pi$\n",
        "\n",
        "La serie de Maclaurin para la función tangente inversa converge en $-1 < x \\leq 1$ y está dada por:\n",
        "\n",
        "$$\n",
        "\\arctan x = \\lim_{n \\to \\infty} P_n(x) = \\lim_{n \\to \\infty} \\sum_{i=1}^n (-1)^{i+1} \\frac{x^{2i-1}}{2i-1}\n",
        "$$\n",
        "\n",
        "- **Aproximación básica**\n",
        "    - Utilizando el hecho de que $\\tan(\\pi/4) = 1$, implemente en Python una función que calcule $4P_n(1)$ y determina el número mínimo de términos $n$ necesarios para que $|4P_n(1) - \\pi| < 10^{-3}$. Compare su resultado con el valor de $\\pi$ de la librería math.\n",
        "    - Requiriendo que el valor de $\\pi$ esté dentro de un error de $10^{-4}$. ¿Cuántos términos de la serie se necesitaría sumar para obtener esta precisión? Implemente una solución en Python para encontrar este valor.\n",
        "- **Mejora de la convergencia**\n",
        "    El método anterior puede mejorarse significativamente usando la identidad:\n",
        "    $$\n",
        "    \\frac{\\pi}{4} = \\arctan\\left(\\frac{1}{2}\\right) + \\arctan\\left(\\frac{1}{3}\\right)\n",
        "    $$\n",
        "    - Implemente en Python una función que evalúe la serie para $\\arctan(1/2)$ y $\\arctan(1/3)$ por separado y luego las sume. Determine el número mínimo de términos necesarios para cada serie (pueden ser diferentes) para aproximar $\\pi$ con un error menor a $10^{-3}$ y $10^{-6}$.\n",
        "\n",
        "- **Método de alta precisión**\n",
        "    Para obtener una convergencia aún más rápida, usamos la identidad:\n",
        "    $$\n",
        "    \\frac{\\pi}{4} = 4\\arctan\\left(\\frac{1}{5}\\right) - \\arctan\\left(\\frac{1}{239}\\right)\n",
        "    $$\n",
        "    Desarrolle un programa en Python que implemente esta fórmula y determine:\n",
        "    - El número mínimo de términos necesarios en cada serie para aproximar $\\pi$ con error menor a $10^{-3}$ y $10^{-6}$.\n",
        "    - Compare el rendimiento (número de términos requeridos) con los métodos anteriores.\n",
        "\n"
      ]
    },
    {
      "cell_type": "code",
      "execution_count": null,
      "id": "8aef365a",
      "metadata": {
        "id": "8aef365a"
      },
      "outputs": [],
      "source": [
        "def cuatro_arctanpi(x,tol): #Esta función calclula el valor de 4*arctan, Recibe el x a calcular, y aun mejor! la tolerancia\n",
        "                          #De este modo, podemos comparar con cualquier tolerancia, y ver cuantas iteraciones se tarda\n",
        "  valor=0\n",
        "  i=1\n",
        "  while True:             #Hacemos que se ejecute infinatemente hasta que ocurra nuestra condicion deseada\n",
        "    valor+=(((-1)**(i+1))*((x**(2*i-1))/(2*i-1)))\n",
        "    if abs((4*valor)-np.pi)<tol:                                   # y voilà la condición deseada.\n",
        "      return print(f\"el valor obtenido (multiplicado por 4) fue {4*valor}, con {i} iteraciones\")\n",
        "    i+=1"
      ]
    },
    {
      "cell_type": "code",
      "source": [
        "cuatro_arctanpi(1,1e-3)  #Rayos!!! Acaso ven eso?? 1000 iteraciones!\n",
        "cuatro_arctanpi(1,1e-4)  #Y aun peor (logicamente) con una precision mayor! Si que se tarda en converger esta serie..."
      ],
      "metadata": {
        "colab": {
          "base_uri": "https://localhost:8080/"
        },
        "id": "bwd7ovw4OlxE",
        "outputId": "7e931d16-2d61-4aa1-8204-1874225e1599"
      },
      "id": "bwd7ovw4OlxE",
      "execution_count": null,
      "outputs": [
        {
          "output_type": "stream",
          "name": "stdout",
          "text": [
            "el valor obtenido (multiplicado por 4) fue 3.140592653839794, con 1000 iteraciones\n",
            "el valor obtenido (multiplicado por 4) fue 3.1414926535900345, con 10000 iteraciones\n"
          ]
        }
      ]
    },
    {
      "cell_type": "code",
      "source": [
        "def suma_arctan(x1,x2,tol): #Aahora necesita dos datos iniciales!\n",
        "  valor1=0\n",
        "  valor2=0       #Guardaremos aqui los valores individuales\n",
        "\n",
        "  i=1         #y aca las iteraciones\n",
        "\n",
        "  while True:\n",
        "\n",
        "    valor1+=(((-1)**(i+1))*((x1**(2*i-1))/(2*i-1)))\n",
        "    valor2+=(((-1)**(i+1))*((x2**(2*i-1))/(2*i-1)))\n",
        "\n",
        "    if abs( 4*(valor1+valor2) - np.pi )<tol:\n",
        "      return print(f\"El valor aproximado fue {4*(valor1+valor2)}, en un total de {i} iteraciones\")\n",
        "    i+=1"
      ],
      "metadata": {
        "id": "s0ckaD0nRDIc"
      },
      "id": "s0ckaD0nRDIc",
      "execution_count": null,
      "outputs": []
    },
    {
      "cell_type": "code",
      "source": [
        "suma_arctan(1/2,1/3,1e-3)    #Rayos! Mejoro de una manera pero impresionante!!!! casi mil iteraciones menos!\n",
        "suma_arctan(1/2,1/3,1e-6)    #Y hasta con precisiones mayores, sigue siendo realmente pequeño el numero de iteraciones!"
      ],
      "metadata": {
        "colab": {
          "base_uri": "https://localhost:8080/"
        },
        "id": "7Y586xP1TYiC",
        "outputId": "992eebb8-408f-4650-8234-1dc6d413d9a4"
      },
      "id": "7Y586xP1TYiC",
      "execution_count": null,
      "outputs": [
        {
          "output_type": "stream",
          "name": "stdout",
          "text": [
            "El valor aproximado fue 3.1408505617610554, en un total de 4 iteraciones\n",
            "El valor aproximado fue 3.1415929813345667, en un total de 9 iteraciones\n"
          ]
        }
      ]
    },
    {
      "cell_type": "code",
      "source": [
        "#viendo ahora, lo especifico de nuestras funciones, mejor hagamos que unicamente pidan la tolerancia, lo demas es fijo!\n",
        "def arctan_precisa(tol):   #Le entra la tolerancia, devuelve el valor asociado a la comparacion y el numero de iteraciones.\n",
        "  x1=1/5\n",
        "  x2=1/(239)\n",
        "\n",
        "  valor1=0\n",
        "  valor2=0\n",
        "  i=1\n",
        "\n",
        "  while True:\n",
        "\n",
        "    valor1+=(((-1)**(i+1))*((x1**(2*i-1))/(2*i-1)))\n",
        "    valor2+=(((-1)**(i+1))*((x2**(2*i-1))/(2*i-1)))\n",
        "\n",
        "    if abs( 4*((4*valor1)-valor2) - np.pi )<tol:\n",
        "      return print(f\"El valor aproximado fue {4*(valor1+valor2)}, en un total de {i} iteraciones\")\n",
        "    i+=1"
      ],
      "metadata": {
        "id": "YCSKg2nfUXTX"
      },
      "id": "YCSKg2nfUXTX",
      "execution_count": null,
      "outputs": []
    },
    {
      "cell_type": "code",
      "source": [
        "arctan_precisa(1e-3)  # Y efectivamente... Como nos lo prometieron, damas y caballeros, tenemos una mayor velocidad de precisión!\n",
        "arctan_precisa(1e-6)"
      ],
      "metadata": {
        "colab": {
          "base_uri": "https://localhost:8080/"
        },
        "id": "pb8OcoaJVSrP",
        "outputId": "58bb33cf-4214-4987-99f2-0763619e048f"
      },
      "id": "pb8OcoaJVSrP",
      "execution_count": null,
      "outputs": [
        {
          "output_type": "stream",
          "name": "stdout",
          "text": [
            "El valor aproximado fue 0.8060696373406063, en un total de 2 iteraciones\n",
            "El valor aproximado fue 0.8063183230559179, en un total de 4 iteraciones\n"
          ]
        }
      ]
    },
    {
      "cell_type": "code",
      "source": [
        "#Ahora bien... como cientificos que somos, que mejor forma que comparar datos que, con graficas!!!\n",
        "#A) No vamos a incluir logicamente al primer metodo, porque es mas que evidente su deficiencia (1000 iteraciones? Por Dios!!)\n",
        "\n",
        "\n",
        "#Paso 1; editemos todos nuestros codigos, para que nos entreguen unicamente el numero de iteraciones.\n",
        "\n",
        "def suma_arctan2(tol):\n",
        "  valor1=0\n",
        "  valor2=0\n",
        "\n",
        "  x1=1/2\n",
        "  x2=1/3\n",
        "\n",
        "\n",
        "\n",
        "  i=1\n",
        "\n",
        "  while True:\n",
        "\n",
        "    valor1+=(((-1)**(i+1))*((x1**(2*i-1))/(2*i-1)))\n",
        "    valor2+=(((-1)**(i+1))*((x2**(2*i-1))/(2*i-1)))\n",
        "\n",
        "    if abs( 4*(valor1+valor2) - np.pi )<tol:\n",
        "      return i                               #Solo cambiamos el return\n",
        "    i+=1\n",
        "\n",
        "def arctan_precisa2(tol):   #Le entra la tolerancia, devuelve el valor asociado a la comparacion y el numero de iteraciones.\n",
        "  x1=1/5\n",
        "  x2=1/(239)\n",
        "\n",
        "  valor1=0\n",
        "  valor2=0\n",
        "  i=1\n",
        "\n",
        "  while True:\n",
        "\n",
        "    valor1+=(((-1)**(i+1))*((x1**(2*i-1))/(2*i-1)))\n",
        "    valor2+=(((-1)**(i+1))*((x2**(2*i-1))/(2*i-1)))\n",
        "\n",
        "    if abs( 4*((4*valor1)-valor2) - np.pi )<tol:\n",
        "      return i                                              # Igual\n",
        "    i+=1\n",
        "\n",
        "  #Ahora hacemos nuestro eje x!\n",
        "ejex1=[]\n",
        "ejex2=[]\n",
        "tolerancias=np.logspace(-1, -15, 15)\n",
        "for i in tolerancias:\n",
        "  ejex1.append(suma_arctan2(i))\n",
        "for i in tolerancias:\n",
        "  ejex2.append(arctan_precisa2(i))\n",
        "\n",
        "plt.semilogy(ejex1, tolerancias,label=\"Segundo Metodo (suma)\",color=\"c\")\n",
        "plt.semilogy(ejex2, tolerancias,label=\"Tercer metodo (resta)\",color=\"r\")\n",
        "plt.legend()\n",
        "plt.grid()\n",
        "plt.xlabel(\"Iteraciones\")\n",
        "plt.ylabel(\"Precision\")"
      ],
      "metadata": {
        "colab": {
          "base_uri": "https://localhost:8080/",
          "height": 466
        },
        "id": "eltba-uqV2JN",
        "outputId": "e517b66e-b4a7-482d-dee4-17bc7b43e0c9"
      },
      "id": "eltba-uqV2JN",
      "execution_count": null,
      "outputs": [
        {
          "output_type": "execute_result",
          "data": {
            "text/plain": [
              "Text(0, 0.5, 'Precision')"
            ]
          },
          "metadata": {},
          "execution_count": 11
        },
        {
          "output_type": "display_data",
          "data": {
            "text/plain": [
              "<Figure size 640x480 with 1 Axes>"
            ],
            "image/png": "[encoded data removed]"
          },
          "metadata": {}
        }
      ]
    },
    {
      "cell_type": "code",
      "source": [
        "#Ahora, podemos visualizar facilmente, como el tercer metodo, converge en menos iteraciones que el segundo (es mas eficiente!)"
      ],
      "metadata": {
        "id": "ExSo_yUBZ_dA"
      },
      "id": "ExSo_yUBZ_dA",
      "execution_count": null,
      "outputs": []
    },
    {
      "cell_type": "markdown",
      "id": "ca9640b7",
      "metadata": {
        "id": "ca9640b7"
      },
      "source": [
        "# 4. Serie Exponencial\n",
        "Considere la serie para $e^{-x}$\n",
        "\n",
        "$$\n",
        "e^{-x}=\\sum_{n=0}^{N}  (-1)^n \\frac{x^{n}}{n!}\n",
        "$$\n",
        "\n",
        "- Calcula la serie para $x \\le 1$ y compárela con la función incorporada `np.exp(x)` (asuma que la función exponencial incorporada es exacta). Elegir un $N$ para el cual el siguiente término en la serie no sea más que $10^{-7}$ de la suma hasta ese punto.\n",
        "\n",
        "$$\n",
        "\\left| \\frac{(-x)^{N+1}}{(N+1)!} \\right | \\le \\left| 10^{-7} \\sum_{N=0}^{N} \\frac{(-x)^{n}}{n!} \\right|\n",
        "$$\n",
        "\n",
        "- Examine los términos de la serie para $x\\approx 10$ y observa las cancelaciones sustractivas significativas que ocurren cuando términos grandes se suman para dar respuestas pequeñas. En particular, imprime la cancelación casi perfecta en $n \\approx x − 1$.\n",
        "\n",
        "- Compruebe si se obtiene una mejor precisión siendo ingenioso y usando $e^{−x} = \\frac{1}{e^x}$ para valores grandes de $x$. Esto elimina la cancelación sustractiva, pero no elimina todos los errores de redondeo.\n",
        "\n",
        "\n",
        "- Incrementando progresivamente $x$ de 1 a 10, y luego de 10 a 100, use el programa para determinar experimentalmente cuándo la serie comienza a perder precisión, y cuándo la serie ya no converge.\n",
        "\n",
        "\n",
        "- Realice una serie de gráficos del error versus $N$ para diferentes valores de $x$."
      ]
    },
    {
      "cell_type": "code",
      "execution_count": null,
      "id": "ad34281d",
      "metadata": {
        "id": "ad34281d",
        "colab": {
          "base_uri": "https://localhost:8080/"
        },
        "outputId": "02a58aa1-cafa-4cd8-edd5-1046414427a3"
      },
      "outputs": [
        {
          "output_type": "stream",
          "name": "stdout",
          "text": [
            "0.6065306597126334\n",
            "0.6065306648375496\n"
          ]
        }
      ],
      "source": [
        "def menosexp(x):    #Funcion en series de e**-x. Recibe un x, devuelve la aproximación!\n",
        "  valor=0              #Aqui almacenamos el total\n",
        "  termino=0            #y aqui el termino en ese punto! con el proposito de parar cuando alcance la condicion anteriormente propuesta\n",
        "  i=0                  #y nuestro contador\n",
        "\n",
        "  while True:\n",
        "    valor=valor+(((-1)**i)*(((x)**i)/math.factorial(i)))\n",
        "    termino=((-x)**(i+1))/(math.factorial(i+1))\n",
        "\n",
        "    if abs(termino) <= abs(valor*(1e-7)):\n",
        "      return valor\n",
        "    i+=1\n",
        "\n",
        "\n",
        "\n",
        "print(np.exp(-0.5))\n",
        "print(menosexp(0.5))      #Como podemos obserar, con la tolerancia proporcionada, tiene una buena convergencia."
      ]
    },
    {
      "cell_type": "code",
      "source": [
        "def menosexp_manual(x,n):    #y para comparaciones futuras, la misma funcion, pero que se le ingrese manualmente el n.\n",
        "  valor=0\n",
        "  for i in range(n+1):\n",
        "    valor+=(((-1)**i)*(((x)**i)/math.factorial(i)))\n",
        "  return valor\n",
        "\n",
        "\n",
        "\n",
        "print(np.exp(-0.5))\n",
        "print(menosexp_manual(0.5,120))      #Logicamente, mas numero de iteraciones, mas precision alcanzada."
      ],
      "metadata": {
        "colab": {
          "base_uri": "https://localhost:8080/"
        },
        "id": "SS_SF8_ShYzp",
        "outputId": "5f7bf269-e1e8-4337-f2d5-0c18c65495af"
      },
      "id": "SS_SF8_ShYzp",
      "execution_count": null,
      "outputs": [
        {
          "output_type": "stream",
          "name": "stdout",
          "text": [
            "0.6065306597126334\n",
            "0.6065306597126333\n"
          ]
        }
      ]
    },
    {
      "cell_type": "code",
      "source": [
        "#Ahora observemos aquellos terminos substractivos de los que tanto se habla! por lo cual, nuestra funcion no debe sacar la suma\n",
        "#sino los valores individuales!\n",
        "x=10\n",
        "\n",
        "\n",
        "def terminos_menos_exp(x,n):\n",
        "  valor=0                         #Definimos una funcion analoga a la menosexp, pero no suma los valores, devuelve el valor en el punto i\n",
        "  for i in range(n+1):             #Ademas, en este caso, le permitimos la asignación manual de N, para ver la comparación\n",
        "    valor= ((-1)**i)*(((x)**i)/math.factorial(i))\n",
        "  return valor\n",
        "\n",
        "\n",
        "\n",
        "ejey=[]\n",
        "ejeN=np.linspace(1,15,15)\n",
        "for i in ejeN:                  #Y ahora hacemos nuestra grafica (debemos poner int(i), pues la i, solo recibe enteros)\n",
        "  ejey.append(terminos_menos_exp(x,int(i)))\n",
        "\n",
        "\n",
        "plt.plot(ejeN,ejey,linestyle=\"-\",color=\"red\")\n",
        "plt.xlabel(\"$N$\")\n",
        "plt.ylabel(\"Valor del termino\")\n",
        "plt.axvline(x-1,linestyle=\"--\") #Y encontramos nuestra cancelacion substractiva casi perfecta n=x-1\n",
        "plt.axvline(x,linestyle=\"--\")\n",
        "plt.grid()"
      ],
      "metadata": {
        "id": "OVqZX9J_cZ-7",
        "colab": {
          "base_uri": "https://localhost:8080/",
          "height": 453
        },
        "outputId": "224b1bb2-a64e-4aed-9345-2fa3709162d0"
      },
      "id": "OVqZX9J_cZ-7",
      "execution_count": null,
      "outputs": [
        {
          "output_type": "display_data",
          "data": {
            "text/plain": [
              "<Figure size 640x480 with 1 Axes>"
            ],
            "image/png": "[encoded data removed]"
          },
          "metadata": {}
        }
      ]
    },
    {
      "cell_type": "code",
      "source": [
        "\"\"\"A continuación, veamos númericamente este fenomeno, emplearemos a x=10, y estaremos lindando las zonas de n=x, y de n=x-1\"\"\"\n",
        "\n",
        "a=terminos_menos_exp(x,x)  #como x es =10, vamos a recibir el valor del termino en la decima iteracion\n",
        "b=terminos_menos_exp(x,x-1) #Y en la iteracion anterior!\n",
        "c=a+b\n",
        "print(a)\n",
        "print(-b)\n",
        "print(c)\n",
        "\n",
        "#Rayos! Quien sabe que este ocurriendo en el epsilon de la maquina, pero la susbtracción es praticamente PERFECTA! y solo es un termino atras!"
      ],
      "metadata": {
        "colab": {
          "base_uri": "https://localhost:8080/"
        },
        "id": "24wZsN3uWF6-",
        "outputId": "30282952-0df6-4c92-da4f-a91d011c25c9"
      },
      "id": "24wZsN3uWF6-",
      "execution_count": null,
      "outputs": [
        {
          "output_type": "stream",
          "name": "stdout",
          "text": [
            "2755.731922398589\n",
            "2755.731922398589\n",
            "0.0\n"
          ]
        }
      ]
    },
    {
      "cell_type": "code",
      "source": [
        "#Observemos si la identidad e**-x = 1/e**x mejora la precisión.\n",
        "\n",
        "def exponencial(x,n):  #Otra vez le ingresamos una x, y un maximo de iteraciones (Manual, para comparar precision)\n",
        "  valor=0\n",
        "  for i in range(n+1):\n",
        "    valor+=(x**i)/math.factorial(i)\n",
        "  return 1/valor #Y aca tenemos la transformación!!"
      ],
      "metadata": {
        "id": "QRREcbbkYdeR"
      },
      "id": "QRREcbbkYdeR",
      "execution_count": null,
      "outputs": []
    },
    {
      "cell_type": "code",
      "source": [
        "print(f\"{menosexp_manual(0.5,120)} (Primer método)\")\n",
        "print(f'{exponencial(0.5,120)} (Nuevo método)')     # Como podemos observar, en x pequeños, ambas precisiones satisfacen muy bien\n",
        "print(np.exp(-0.5))"
      ],
      "metadata": {
        "colab": {
          "base_uri": "https://localhost:8080/"
        },
        "id": "JBD60dgyZYcO",
        "outputId": "e579e77e-ada8-475f-9b0b-cb5c9918c480"
      },
      "id": "JBD60dgyZYcO",
      "execution_count": null,
      "outputs": [
        {
          "output_type": "stream",
          "name": "stdout",
          "text": [
            "0.6065306597126333 (Primer método)\n",
            "0.6065306597126335 (Nuevo método)\n",
            "0.6065306597126334\n"
          ]
        }
      ]
    },
    {
      "cell_type": "code",
      "source": [
        "print(f\"{menosexp_manual(60,120)} (Primer método)\")\n",
        "print(f'{exponencial(60,120)} (Nuevo método)')    #Sin embargo, note como en x mas grandes, el primer metodo falla terriblemente!!\n",
        "print(f\"{np.exp(-60)} (Valor teórico)\")      #Por lo cual, con la ingeniosa identidad, podriamos decir que si, obtenemos mayor precision"
      ],
      "metadata": {
        "colab": {
          "base_uri": "https://localhost:8080/"
        },
        "id": "LA03RYZzZlhe",
        "outputId": "4be4e067-5976-4766-90d6-3e24a78872f6"
      },
      "id": "LA03RYZzZlhe",
      "execution_count": null,
      "outputs": [
        {
          "output_type": "stream",
          "name": "stdout",
          "text": [
            "118582066388242.88 (Primer método)\n",
            "8.75651076272304e-27 (Nuevo método)\n",
            "8.75651076269652e-27 (Valor teórico)\n"
          ]
        }
      ]
    },
    {
      "cell_type": "code",
      "source": [
        "#Vamos a realizar primero una grafica interesante, para mover progresivamente los x, como bloques enteros de 1 a 100.\n",
        "#Por lo cual, graficaremos lo siguiente: Una grafica corresponde al valor preciso de e**x, en el x mencionado.\n",
        "#La otra, corresponde al valor experimental con la precisión. Asi podremos observar cuando esta comienza a perderse!\n",
        "\n",
        "ejex = np.arange(1,11)\n",
        "\n",
        "y1=np.exp((-1)*ejex)\n",
        "y2=[]\n",
        "for i in ejex:\n",
        "  y2.append(menosexp(int(i)))\n",
        "\n",
        "plt.plot(ejex,y1,color=\"red\",label=\"Valor teórico\")\n",
        "plt.plot(ejex,y2,linestyle=\"--\",color=\"blue\",label=\"Sumatoria aproximada\")\n",
        "plt.title(\"Comparación de aproximaciones de e**-x en valores grandes de x\")\n",
        "plt.ylabel(\"f(x)\")\n",
        "plt.xlabel(\"$X$\")\n",
        "plt.grid()\n",
        "plt.legend()"
      ],
      "metadata": {
        "colab": {
          "base_uri": "https://localhost:8080/",
          "height": 489
        },
        "id": "GC8kL5Mdo2Mh",
        "outputId": "048bbb5f-4441-4c20-86ce-eb45b30b404f"
      },
      "id": "GC8kL5Mdo2Mh",
      "execution_count": null,
      "outputs": [
        {
          "output_type": "execute_result",
          "data": {
            "text/plain": [
              "<matplotlib.legend.Legend at 0x7fa260acb150>"
            ]
          },
          "metadata": {},
          "execution_count": 46
        },
        {
          "output_type": "display_data",
          "data": {
            "text/plain": [
              "<Figure size 640x480 with 1 Axes>"
            ],
            "image/png": "[encoded data removed]"
          },
          "metadata": {}
        }
      ]
    },
    {
      "cell_type": "code",
      "source": [
        "#WOW Note que para los 10 primeros x, la precisión es innegable! todo parece marchar bien, vamonos ahora con 100!\n",
        "\n",
        "ejex = np.arange(0,101)   #Solo cambiamos aqui el max x\n",
        "\n",
        "y1=np.exp((-1)*ejex)\n",
        "y2=[]\n",
        "for i in ejex:\n",
        "  y2.append(menosexp(int(i)))\n",
        "\n",
        "plt.plot(ejex,y1,color=\"red\",label=\"Valor teórico\")\n",
        "plt.plot(ejex,y2,linestyle=\"--\",color=\"blue\",label=\"Sumatoria aproximada\")\n",
        "plt.title(\"Comparación de aproximaciones de e**-x en valores grandes de x\")\n",
        "plt.ylabel(\"f(x)\")\n",
        "plt.xlabel(\"$X$\")\n",
        "plt.grid()\n",
        "plt.legend()"
      ],
      "metadata": {
        "colab": {
          "base_uri": "https://localhost:8080/",
          "height": 504
        },
        "id": "lgnp1HRYpe1_",
        "outputId": "cd72faf5-edfa-4b8f-d4b5-1e7b748f5989"
      },
      "id": "lgnp1HRYpe1_",
      "execution_count": null,
      "outputs": [
        {
          "output_type": "execute_result",
          "data": {
            "text/plain": [
              "<matplotlib.legend.Legend at 0x7fa2600ea4d0>"
            ]
          },
          "metadata": {},
          "execution_count": 92
        },
        {
          "output_type": "display_data",
          "data": {
            "text/plain": [
              "<Figure size 640x480 with 1 Axes>"
            ],
            "image/png": "[encoded data removed]"
          },
          "metadata": {}
        }
      ]
    },
    {
      "cell_type": "code",
      "source": [
        "y2=np.array(y2)\n",
        "y1=np.array(y1)"
      ],
      "metadata": {
        "id": "XYPnPP-nqjf0"
      },
      "id": "XYPnPP-nqjf0",
      "execution_count": null,
      "outputs": []
    },
    {
      "cell_type": "code",
      "source": [
        "#WOW! Si que hay cambios notorios, comienza a aparecer una divergencia...!!! (muy clavada)\n",
        "#Empleemos un dataframe para descubrir cuando ocurre.\n",
        "data=pd.DataFrame({\"Valor teórico\":y1,\"Valor experimental\":y2})\n",
        "\n",
        "filtrado= data[abs(data['Valor teórico']-data[\"Valor experimental\"])<1e-7] #filtramos para la tolerancia!!\n",
        "filtrado"
      ],
      "metadata": {
        "colab": {
          "base_uri": "https://localhost:8080/",
          "height": 802
        },
        "id": "nqEmEgRAqEx0",
        "outputId": "569e247f-c80e-4c09-bef9-0b2660e2b58e"
      },
      "id": "nqEmEgRAqEx0",
      "execution_count": null,
      "outputs": [
        {
          "output_type": "execute_result",
          "data": {
            "text/plain": [
              "    Valor teórico  Valor experimental\n",
              "0    1.000000e+00        1.000000e+00\n",
              "1    3.678794e-01        3.678795e-01\n",
              "2    1.353353e-01        1.353353e-01\n",
              "3    4.978707e-02        4.978707e-02\n",
              "4    1.831564e-02        1.831564e-02\n",
              "5    6.737947e-03        6.737947e-03\n",
              "6    2.478752e-03        2.478752e-03\n",
              "7    9.118820e-04        9.118820e-04\n",
              "8    3.354626e-04        3.354626e-04\n",
              "9    1.234098e-04        1.234098e-04\n",
              "10   4.539993e-05        4.539993e-05\n",
              "11   1.670170e-05        1.670170e-05\n",
              "12   6.144212e-06        6.144213e-06\n",
              "13   2.260329e-06        2.260328e-06\n",
              "14   8.315287e-07        8.315326e-07\n",
              "15   3.059023e-07        3.059342e-07\n",
              "16   1.125352e-07        1.125429e-07\n",
              "17   4.139938e-08        4.182439e-08\n",
              "18   1.522998e-08        1.460128e-08\n",
              "19   5.602796e-09        2.902385e-09\n",
              "20   2.061154e-09        5.478103e-10\n",
              "21   7.582560e-10        4.673540e-09\n",
              "22   2.789468e-10       -2.390411e-08\n",
              "23   1.026188e-10       -2.749905e-08"
            ],
            "text/html": [
              "\n",
              "  <div id=\"df-44597999-a6fe-4910-bf76-e4e27304d83c\" class=\"colab-df-container\">\n",
              "    <div>\n",
              "<style scoped>\n",
              "    .dataframe tbody tr th:only-of-type {\n",
              "        vertical-align: middle;\n",
              "    }\n",
              "\n",
              "    .dataframe tbody tr th {\n",
              "        vertical-align: top;\n",
              "    }\n",
              "\n",
              "    .dataframe thead th {\n",
              "        text-align: right;\n",
              "    }\n",
              "</style>\n",
              "<table border=\"1\" class=\"dataframe\">\n",
              "  <thead>\n",
              "    <tr style=\"text-align: right;\">\n",
              "      <th></th>\n",
              "      <th>Valor teórico</th>\n",
              "      <th>Valor experimental</th>\n",
              "    </tr>\n",
              "  </thead>\n",
              "  <tbody>\n",
              "    <tr>\n",
              "      <th>0</th>\n",
              "      <td>1.000000e+00</td>\n",
              "      <td>1.000000e+00</td>\n",
              "    </tr>\n",
              "    <tr>\n",
              "      <th>1</th>\n",
              "      <td>3.678794e-01</td>\n",
              "      <td>3.678795e-01</td>\n",
              "    </tr>\n",
              "    <tr>\n",
              "      <th>2</th>\n",
              "      <td>1.353353e-01</td>\n",
              "      <td>1.353353e-01</td>\n",
              "    </tr>\n",
              "    <tr>\n",
              "      <th>3</th>\n",
              "      <td>4.978707e-02</td>\n",
              "      <td>4.978707e-02</td>\n",
              "    </tr>\n",
              "    <tr>\n",
              "      <th>4</th>\n",
              "      <td>1.831564e-02</td>\n",
              "      <td>1.831564e-02</td>\n",
              "    </tr>\n",
              "    <tr>\n",
              "      <th>5</th>\n",
              "      <td>6.737947e-03</td>\n",
              "      <td>6.737947e-03</td>\n",
              "    </tr>\n",
              "    <tr>\n",
              "      <th>6</th>\n",
              "      <td>2.478752e-03</td>\n",
              "      <td>2.478752e-03</td>\n",
              "    </tr>\n",
              "    <tr>\n",
              "      <th>7</th>\n",
              "      <td>9.118820e-04</td>\n",
              "      <td>9.118820e-04</td>\n",
              "    </tr>\n",
              "    <tr>\n",
              "      <th>8</th>\n",
              "      <td>3.354626e-04</td>\n",
              "      <td>3.354626e-04</td>\n",
              "    </tr>\n",
              "    <tr>\n",
              "      <th>9</th>\n",
              "      <td>1.234098e-04</td>\n",
              "      <td>1.234098e-04</td>\n",
              "    </tr>\n",
              "    <tr>\n",
              "      <th>10</th>\n",
              "      <td>4.539993e-05</td>\n",
              "      <td>4.539993e-05</td>\n",
              "    </tr>\n",
              "    <tr>\n",
              "      <th>11</th>\n",
              "      <td>1.670170e-05</td>\n",
              "      <td>1.670170e-05</td>\n",
              "    </tr>\n",
              "    <tr>\n",
              "      <th>12</th>\n",
              "      <td>6.144212e-06</td>\n",
              "      <td>6.144213e-06</td>\n",
              "    </tr>\n",
              "    <tr>\n",
              "      <th>13</th>\n",
              "      <td>2.260329e-06</td>\n",
              "      <td>2.260328e-06</td>\n",
              "    </tr>\n",
              "    <tr>\n",
              "      <th>14</th>\n",
              "      <td>8.315287e-07</td>\n",
              "      <td>8.315326e-07</td>\n",
              "    </tr>\n",
              "    <tr>\n",
              "      <th>15</th>\n",
              "      <td>3.059023e-07</td>\n",
              "      <td>3.059342e-07</td>\n",
              "    </tr>\n",
              "    <tr>\n",
              "      <th>16</th>\n",
              "      <td>1.125352e-07</td>\n",
              "      <td>1.125429e-07</td>\n",
              "    </tr>\n",
              "    <tr>\n",
              "      <th>17</th>\n",
              "      <td>4.139938e-08</td>\n",
              "      <td>4.182439e-08</td>\n",
              "    </tr>\n",
              "    <tr>\n",
              "      <th>18</th>\n",
              "      <td>1.522998e-08</td>\n",
              "      <td>1.460128e-08</td>\n",
              "    </tr>\n",
              "    <tr>\n",
              "      <th>19</th>\n",
              "      <td>5.602796e-09</td>\n",
              "      <td>2.902385e-09</td>\n",
              "    </tr>\n",
              "    <tr>\n",
              "      <th>20</th>\n",
              "      <td>2.061154e-09</td>\n",
              "      <td>5.478103e-10</td>\n",
              "    </tr>\n",
              "    <tr>\n",
              "      <th>21</th>\n",
              "      <td>7.582560e-10</td>\n",
              "      <td>4.673540e-09</td>\n",
              "    </tr>\n",
              "    <tr>\n",
              "      <th>22</th>\n",
              "      <td>2.789468e-10</td>\n",
              "      <td>-2.390411e-08</td>\n",
              "    </tr>\n",
              "    <tr>\n",
              "      <th>23</th>\n",
              "      <td>1.026188e-10</td>\n",
              "      <td>-2.749905e-08</td>\n",
              "    </tr>\n",
              "  </tbody>\n",
              "</table>\n",
              "</div>\n",
              "    <div class=\"colab-df-buttons\">\n",
              "\n",
              "  <div class=\"colab-df-container\">\n",
              "    <button class=\"colab-df-convert\" onclick=\"convertToInteractive('df-44597999-a6fe-4910-bf76-e4e27304d83c')\"\n",
              "            title=\"Convert this dataframe to an interactive table.\"\n",
              "            style=\"display:none;\">\n",
              "\n",
              "  <svg xmlns=\"http://www.w3.org/2000/svg\" height=\"24px\" viewBox=\"0 -960 960 960\">\n",
              "    <path d=\"M120-120v-720h720v720H120Zm60-500h600v-160H180v160Zm220 220h160v-160H400v160Zm0 220h160v-160H400v160ZM180-400h160v-160H180v160Zm440 0h160v-160H620v160ZM180-180h160v-160H180v160Zm440 0h160v-160H620v160Z\"/>\n",
              "  </svg>\n",
              "    </button>\n",
              "\n",
              "  <style>\n",
              "    .colab-df-container {\n",
              "      display:flex;\n",
              "      gap: 12px;\n",
              "    }\n",
              "\n",
              "    .colab-df-convert {\n",
              "      background-color: #E8F0FE;\n",
              "      border: none;\n",
              "      border-radius: 50%;\n",
              "      cursor: pointer;\n",
              "      display: none;\n",
              "      fill: #1967D2;\n",
              "      height: 32px;\n",
              "      padding: 0 0 0 0;\n",
              "      width: 32px;\n",
              "    }\n",
              "\n",
              "    .colab-df-convert:hover {\n",
              "      background-color: #E2EBFA;\n",
              "      box-shadow: 0px 1px 2px rgba(60, 64, 67, 0.3), 0px 1px 3px 1px rgba(60, 64, 67, 0.15);\n",
              "      fill: #174EA6;\n",
              "    }\n",
              "\n",
              "    .colab-df-buttons div {\n",
              "      margin-bottom: 4px;\n",
              "    }\n",
              "\n",
              "    [theme=dark] .colab-df-convert {\n",
              "      background-color: #3B4455;\n",
              "      fill: #D2E3FC;\n",
              "    }\n",
              "\n",
              "    [theme=dark] .colab-df-convert:hover {\n",
              "      background-color: #434B5C;\n",
              "      box-shadow: 0px 1px 3px 1px rgba(0, 0, 0, 0.15);\n",
              "      filter: drop-shadow(0px 1px 2px rgba(0, 0, 0, 0.3));\n",
              "      fill: #FFFFFF;\n",
              "    }\n",
              "  </style>\n",
              "\n",
              "    <script>\n",
              "      const buttonEl =\n",
              "        document.querySelector('#df-44597999-a6fe-4910-bf76-e4e27304d83c button.colab-df-convert');\n",
              "      buttonEl.style.display =\n",
              "        google.colab.kernel.accessAllowed ? 'block' : 'none';\n",
              "\n",
              "      async function convertToInteractive(key) {\n",
              "        const element = document.querySelector('#df-44597999-a6fe-4910-bf76-e4e27304d83c');\n",
              "        const dataTable =\n",
              "          await google.colab.kernel.invokeFunction('convertToInteractive',\n",
              "                                                    [key], {});\n",
              "        if (!dataTable) return;\n",
              "\n",
              "        const docLinkHtml = 'Like what you see? Visit the ' +\n",
              "          '<a target=\"_blank\" href=https://colab.research.google.com/notebooks/data_table.ipynb>data table notebook</a>'\n",
              "          + ' to learn more about interactive tables.';\n",
              "        element.innerHTML = '';\n",
              "        dataTable['output_type'] = 'display_data';\n",
              "        await google.colab.output.renderOutput(dataTable, element);\n",
              "        const docLink = document.createElement('div');\n",
              "        docLink.innerHTML = docLinkHtml;\n",
              "        element.appendChild(docLink);\n",
              "      }\n",
              "    </script>\n",
              "  </div>\n",
              "\n",
              "\n",
              "    <div id=\"df-91a10eeb-5ffd-43df-8cbd-ad4ae377503a\">\n",
              "      <button class=\"colab-df-quickchart\" onclick=\"quickchart('df-91a10eeb-5ffd-43df-8cbd-ad4ae377503a')\"\n",
              "                title=\"Suggest charts\"\n",
              "                style=\"display:none;\">\n",
              "\n",
              "<svg xmlns=\"http://www.w3.org/2000/svg\" height=\"24px\"viewBox=\"0 0 24 24\"\n",
              "     width=\"24px\">\n",
              "    <g>\n",
              "        <path d=\"M19 3H5c-1.1 0-2 .9-2 2v14c0 1.1.9 2 2 2h14c1.1 0 2-.9 2-2V5c0-1.1-.9-2-2-2zM9 17H7v-7h2v7zm4 0h-2V7h2v10zm4 0h-2v-4h2v4z\"/>\n",
              "    </g>\n",
              "</svg>\n",
              "      </button>\n",
              "\n",
              "<style>\n",
              "  .colab-df-quickchart {\n",
              "      --bg-color: #E8F0FE;\n",
              "      --fill-color: #1967D2;\n",
              "      --hover-bg-color: #E2EBFA;\n",
              "      --hover-fill-color: #174EA6;\n",
              "      --disabled-fill-color: #AAA;\n",
              "      --disabled-bg-color: #DDD;\n",
              "  }\n",
              "\n",
              "  [theme=dark] .colab-df-quickchart {\n",
              "      --bg-color: #3B4455;\n",
              "      --fill-color: #D2E3FC;\n",
              "      --hover-bg-color: #434B5C;\n",
              "      --hover-fill-color: #FFFFFF;\n",
              "      --disabled-bg-color: #3B4455;\n",
              "      --disabled-fill-color: #666;\n",
              "  }\n",
              "\n",
              "  .colab-df-quickchart {\n",
              "    background-color: var(--bg-color);\n",
              "    border: none;\n",
              "    border-radius: 50%;\n",
              "    cursor: pointer;\n",
              "    display: none;\n",
              "    fill: var(--fill-color);\n",
              "    height: 32px;\n",
              "    padding: 0;\n",
              "    width: 32px;\n",
              "  }\n",
              "\n",
              "  .colab-df-quickchart:hover {\n",
              "    background-color: var(--hover-bg-color);\n",
              "    box-shadow: 0 1px 2px rgba(60, 64, 67, 0.3), 0 1px 3px 1px rgba(60, 64, 67, 0.15);\n",
              "    fill: var(--button-hover-fill-color);\n",
              "  }\n",
              "\n",
              "  .colab-df-quickchart-complete:disabled,\n",
              "  .colab-df-quickchart-complete:disabled:hover {\n",
              "    background-color: var(--disabled-bg-color);\n",
              "    fill: var(--disabled-fill-color);\n",
              "    box-shadow: none;\n",
              "  }\n",
              "\n",
              "  .colab-df-spinner {\n",
              "    border: 2px solid var(--fill-color);\n",
              "    border-color: transparent;\n",
              "    border-bottom-color: var(--fill-color);\n",
              "    animation:\n",
              "      spin 1s steps(1) infinite;\n",
              "  }\n",
              "\n",
              "  @keyframes spin {\n",
              "    0% {\n",
              "      border-color: transparent;\n",
              "      border-bottom-color: var(--fill-color);\n",
              "      border-left-color: var(--fill-color);\n",
              "    }\n",
              "    20% {\n",
              "      border-color: transparent;\n",
              "      border-left-color: var(--fill-color);\n",
              "      border-top-color: var(--fill-color);\n",
              "    }\n",
              "    30% {\n",
              "      border-color: transparent;\n",
              "      border-left-color: var(--fill-color);\n",
              "      border-top-color: var(--fill-color);\n",
              "      border-right-color: var(--fill-color);\n",
              "    }\n",
              "    40% {\n",
              "      border-color: transparent;\n",
              "      border-right-color: var(--fill-color);\n",
              "      border-top-color: var(--fill-color);\n",
              "    }\n",
              "    60% {\n",
              "      border-color: transparent;\n",
              "      border-right-color: var(--fill-color);\n",
              "    }\n",
              "    80% {\n",
              "      border-color: transparent;\n",
              "      border-right-color: var(--fill-color);\n",
              "      border-bottom-color: var(--fill-color);\n",
              "    }\n",
              "    90% {\n",
              "      border-color: transparent;\n",
              "      border-bottom-color: var(--fill-color);\n",
              "    }\n",
              "  }\n",
              "</style>\n",
              "\n",
              "      <script>\n",
              "        async function quickchart(key) {\n",
              "          const quickchartButtonEl =\n",
              "            document.querySelector('#' + key + ' button');\n",
              "          quickchartButtonEl.disabled = true;  // To prevent multiple clicks.\n",
              "          quickchartButtonEl.classList.add('colab-df-spinner');\n",
              "          try {\n",
              "            const charts = await google.colab.kernel.invokeFunction(\n",
              "                'suggestCharts', [key], {});\n",
              "          } catch (error) {\n",
              "            console.error('Error during call to suggestCharts:', error);\n",
              "          }\n",
              "          quickchartButtonEl.classList.remove('colab-df-spinner');\n",
              "          quickchartButtonEl.classList.add('colab-df-quickchart-complete');\n",
              "        }\n",
              "        (() => {\n",
              "          let quickchartButtonEl =\n",
              "            document.querySelector('#df-91a10eeb-5ffd-43df-8cbd-ad4ae377503a button');\n",
              "          quickchartButtonEl.style.display =\n",
              "            google.colab.kernel.accessAllowed ? 'block' : 'none';\n",
              "        })();\n",
              "      </script>\n",
              "    </div>\n",
              "\n",
              "  <div id=\"id_ba2ed621-988f-43ec-ab8d-b3101ae925d8\">\n",
              "    <style>\n",
              "      .colab-df-generate {\n",
              "        background-color: #E8F0FE;\n",
              "        border: none;\n",
              "        border-radius: 50%;\n",
              "        cursor: pointer;\n",
              "        display: none;\n",
              "        fill: #1967D2;\n",
              "        height: 32px;\n",
              "        padding: 0 0 0 0;\n",
              "        width: 32px;\n",
              "      }\n",
              "\n",
              "      .colab-df-generate:hover {\n",
              "        background-color: #E2EBFA;\n",
              "        box-shadow: 0px 1px 2px rgba(60, 64, 67, 0.3), 0px 1px 3px 1px rgba(60, 64, 67, 0.15);\n",
              "        fill: #174EA6;\n",
              "      }\n",
              "\n",
              "      [theme=dark] .colab-df-generate {\n",
              "        background-color: #3B4455;\n",
              "        fill: #D2E3FC;\n",
              "      }\n",
              "\n",
              "      [theme=dark] .colab-df-generate:hover {\n",
              "        background-color: #434B5C;\n",
              "        box-shadow: 0px 1px 3px 1px rgba(0, 0, 0, 0.15);\n",
              "        filter: drop-shadow(0px 1px 2px rgba(0, 0, 0, 0.3));\n",
              "        fill: #FFFFFF;\n",
              "      }\n",
              "    </style>\n",
              "    <button class=\"colab-df-generate\" onclick=\"generateWithVariable('filtrado')\"\n",
              "            title=\"Generate code using this dataframe.\"\n",
              "            style=\"display:none;\">\n",
              "\n",
              "  <svg xmlns=\"http://www.w3.org/2000/svg\" height=\"24px\"viewBox=\"0 0 24 24\"\n",
              "       width=\"24px\">\n",
              "    <path d=\"M7,19H8.4L18.45,9,17,7.55,7,17.6ZM5,21V16.75L18.45,3.32a2,2,0,0,1,2.83,0l1.4,1.43a1.91,1.91,0,0,1,.58,1.4,1.91,1.91,0,0,1-.58,1.4L9.25,21ZM18.45,9,17,7.55Zm-12,3A5.31,5.31,0,0,0,4.9,8.1,5.31,5.31,0,0,0,1,6.5,5.31,5.31,0,0,0,4.9,4.9,5.31,5.31,0,0,0,6.5,1,5.31,5.31,0,0,0,8.1,4.9,5.31,5.31,0,0,0,12,6.5,5.46,5.46,0,0,0,6.5,12Z\"/>\n",
              "  </svg>\n",
              "    </button>\n",
              "    <script>\n",
              "      (() => {\n",
              "      const buttonEl =\n",
              "        document.querySelector('#id_ba2ed621-988f-43ec-ab8d-b3101ae925d8 button.colab-df-generate');\n",
              "      buttonEl.style.display =\n",
              "        google.colab.kernel.accessAllowed ? 'block' : 'none';\n",
              "\n",
              "      buttonEl.onclick = () => {\n",
              "        google.colab.notebook.generateWithVariable('filtrado');\n",
              "      }\n",
              "      })();\n",
              "    </script>\n",
              "  </div>\n",
              "\n",
              "    </div>\n",
              "  </div>\n"
            ],
            "application/vnd.google.colaboratory.intrinsic+json": {
              "type": "dataframe",
              "variable_name": "filtrado",
              "summary": "{\n  \"name\": \"filtrado\",\n  \"rows\": 24,\n  \"fields\": [\n    {\n      \"column\": \"Valor te\\u00f3rico\",\n      \"properties\": {\n        \"dtype\": \"number\",\n        \"std\": 0.21389153558463525,\n        \"min\": 1.026187963170189e-10,\n        \"max\": 1.0,\n        \"num_unique_values\": 24,\n        \"samples\": [\n          0.00033546262790251185,\n          1.1253517471925912e-07,\n          1.0\n        ],\n        \"semantic_type\": \"\",\n        \"description\": \"\"\n      }\n    },\n    {\n      \"column\": \"Valor experimental\",\n      \"properties\": {\n        \"dtype\": \"number\",\n        \"std\": 0.21389153767090416,\n        \"min\": -2.7499045958709008e-08,\n        \"max\": 1.0,\n        \"num_unique_values\": 24,\n        \"samples\": [\n          0.00033546263463630794,\n          1.125429394725093e-07,\n          1.0\n        ],\n        \"semantic_type\": \"\",\n        \"description\": \"\"\n      }\n    }\n  ]\n}"
            }
          },
          "metadata": {},
          "execution_count": 77
        }
      ]
    },
    {
      "cell_type": "code",
      "source": [
        "#Ah ha! observamos que a partir del valor 23, empezamos a fluctuar en una tolerancia dada, es decir, a partir de ese punto,\n",
        "#comienza a dar breves brincos, y empieza a alejarse"
      ],
      "metadata": {
        "id": "a5vV6ASfrni2"
      },
      "id": "a5vV6ASfrni2",
      "execution_count": null,
      "outputs": []
    },
    {
      "cell_type": "code",
      "source": [
        "filtradoMayor= data[abs(data['Valor teórico']-data[\"Valor experimental\"])<0.1]\n",
        "filtradoMayor  #Ahora notemos que a partir de valores de x>36, la diferencia entre ellos es aun mayor que 0.1!\n",
        "#Por lo cual a partir de este valor, podriamos decir que la serie comienza formalmente a diverger (aunque con bastante gabela!)"
      ],
      "metadata": {
        "colab": {
          "base_uri": "https://localhost:8080/",
          "height": 1000
        },
        "id": "Us8vD-Vh2BMT",
        "outputId": "d8c8e842-a4a2-4467-ede0-c311774f1938"
      },
      "id": "Us8vD-Vh2BMT",
      "execution_count": null,
      "outputs": [
        {
          "output_type": "execute_result",
          "data": {
            "text/plain": [
              "    Valor teórico  Valor experimental\n",
              "0    1.000000e+00        1.000000e+00\n",
              "1    3.678794e-01        3.678795e-01\n",
              "2    1.353353e-01        1.353353e-01\n",
              "3    4.978707e-02        4.978707e-02\n",
              "4    1.831564e-02        1.831564e-02\n",
              "5    6.737947e-03        6.737947e-03\n",
              "6    2.478752e-03        2.478752e-03\n",
              "7    9.118820e-04        9.118820e-04\n",
              "8    3.354626e-04        3.354626e-04\n",
              "9    1.234098e-04        1.234098e-04\n",
              "10   4.539993e-05        4.539993e-05\n",
              "11   1.670170e-05        1.670170e-05\n",
              "12   6.144212e-06        6.144213e-06\n",
              "13   2.260329e-06        2.260328e-06\n",
              "14   8.315287e-07        8.315326e-07\n",
              "15   3.059023e-07        3.059342e-07\n",
              "16   1.125352e-07        1.125429e-07\n",
              "17   4.139938e-08        4.182439e-08\n",
              "18   1.522998e-08        1.460128e-08\n",
              "19   5.602796e-09        2.902385e-09\n",
              "20   2.061154e-09        5.478103e-10\n",
              "21   7.582560e-10        4.673540e-09\n",
              "22   2.789468e-10       -2.390411e-08\n",
              "23   1.026188e-10       -2.749905e-08\n",
              "24   3.775135e-11       -2.364182e-07\n",
              "25   1.388794e-11       -6.689561e-07\n",
              "26   5.109089e-12       -1.346653e-06\n",
              "27   1.879529e-12       -4.474122e-06\n",
              "28   6.914400e-13        5.016911e-06\n",
              "29   2.543666e-13        5.509575e-05\n",
              "30   9.357623e-14       -8.553017e-05\n",
              "31   3.442477e-14       -1.558790e-04\n",
              "32   1.266417e-14       -2.597544e-04\n",
              "33   4.658886e-15        8.490319e-04\n",
              "34   1.713908e-15       -9.038223e-03\n",
              "35   6.305117e-16       -8.022395e-03\n",
              "36   2.319523e-16       -8.689680e-03"
            ],
            "text/html": [
              "\n",
              "  <div id=\"df-f595f377-f9e3-4884-9353-27d54c10dbbe\" class=\"colab-df-container\">\n",
              "    <div>\n",
              "<style scoped>\n",
              "    .dataframe tbody tr th:only-of-type {\n",
              "        vertical-align: middle;\n",
              "    }\n",
              "\n",
              "    .dataframe tbody tr th {\n",
              "        vertical-align: top;\n",
              "    }\n",
              "\n",
              "    .dataframe thead th {\n",
              "        text-align: right;\n",
              "    }\n",
              "</style>\n",
              "<table border=\"1\" class=\"dataframe\">\n",
              "  <thead>\n",
              "    <tr style=\"text-align: right;\">\n",
              "      <th></th>\n",
              "      <th>Valor teórico</th>\n",
              "      <th>Valor experimental</th>\n",
              "    </tr>\n",
              "  </thead>\n",
              "  <tbody>\n",
              "    <tr>\n",
              "      <th>0</th>\n",
              "      <td>1.000000e+00</td>\n",
              "      <td>1.000000e+00</td>\n",
              "    </tr>\n",
              "    <tr>\n",
              "      <th>1</th>\n",
              "      <td>3.678794e-01</td>\n",
              "      <td>3.678795e-01</td>\n",
              "    </tr>\n",
              "    <tr>\n",
              "      <th>2</th>\n",
              "      <td>1.353353e-01</td>\n",
              "      <td>1.353353e-01</td>\n",
              "    </tr>\n",
              "    <tr>\n",
              "      <th>3</th>\n",
              "      <td>4.978707e-02</td>\n",
              "      <td>4.978707e-02</td>\n",
              "    </tr>\n",
              "    <tr>\n",
              "      <th>4</th>\n",
              "      <td>1.831564e-02</td>\n",
              "      <td>1.831564e-02</td>\n",
              "    </tr>\n",
              "    <tr>\n",
              "      <th>5</th>\n",
              "      <td>6.737947e-03</td>\n",
              "      <td>6.737947e-03</td>\n",
              "    </tr>\n",
              "    <tr>\n",
              "      <th>6</th>\n",
              "      <td>2.478752e-03</td>\n",
              "      <td>2.478752e-03</td>\n",
              "    </tr>\n",
              "    <tr>\n",
              "      <th>7</th>\n",
              "      <td>9.118820e-04</td>\n",
              "      <td>9.118820e-04</td>\n",
              "    </tr>\n",
              "    <tr>\n",
              "      <th>8</th>\n",
              "      <td>3.354626e-04</td>\n",
              "      <td>3.354626e-04</td>\n",
              "    </tr>\n",
              "    <tr>\n",
              "      <th>9</th>\n",
              "      <td>1.234098e-04</td>\n",
              "      <td>1.234098e-04</td>\n",
              "    </tr>\n",
              "    <tr>\n",
              "      <th>10</th>\n",
              "      <td>4.539993e-05</td>\n",
              "      <td>4.539993e-05</td>\n",
              "    </tr>\n",
              "    <tr>\n",
              "      <th>11</th>\n",
              "      <td>1.670170e-05</td>\n",
              "      <td>1.670170e-05</td>\n",
              "    </tr>\n",
              "    <tr>\n",
              "      <th>12</th>\n",
              "      <td>6.144212e-06</td>\n",
              "      <td>6.144213e-06</td>\n",
              "    </tr>\n",
              "    <tr>\n",
              "      <th>13</th>\n",
              "      <td>2.260329e-06</td>\n",
              "      <td>2.260328e-06</td>\n",
              "    </tr>\n",
              "    <tr>\n",
              "      <th>14</th>\n",
              "      <td>8.315287e-07</td>\n",
              "      <td>8.315326e-07</td>\n",
              "    </tr>\n",
              "    <tr>\n",
              "      <th>15</th>\n",
              "      <td>3.059023e-07</td>\n",
              "      <td>3.059342e-07</td>\n",
              "    </tr>\n",
              "    <tr>\n",
              "      <th>16</th>\n",
              "      <td>1.125352e-07</td>\n",
              "      <td>1.125429e-07</td>\n",
              "    </tr>\n",
              "    <tr>\n",
              "      <th>17</th>\n",
              "      <td>4.139938e-08</td>\n",
              "      <td>4.182439e-08</td>\n",
              "    </tr>\n",
              "    <tr>\n",
              "      <th>18</th>\n",
              "      <td>1.522998e-08</td>\n",
              "      <td>1.460128e-08</td>\n",
              "    </tr>\n",
              "    <tr>\n",
              "      <th>19</th>\n",
              "      <td>5.602796e-09</td>\n",
              "      <td>2.902385e-09</td>\n",
              "    </tr>\n",
              "    <tr>\n",
              "      <th>20</th>\n",
              "      <td>2.061154e-09</td>\n",
              "      <td>5.478103e-10</td>\n",
              "    </tr>\n",
              "    <tr>\n",
              "      <th>21</th>\n",
              "      <td>7.582560e-10</td>\n",
              "      <td>4.673540e-09</td>\n",
              "    </tr>\n",
              "    <tr>\n",
              "      <th>22</th>\n",
              "      <td>2.789468e-10</td>\n",
              "      <td>-2.390411e-08</td>\n",
              "    </tr>\n",
              "    <tr>\n",
              "      <th>23</th>\n",
              "      <td>1.026188e-10</td>\n",
              "      <td>-2.749905e-08</td>\n",
              "    </tr>\n",
              "    <tr>\n",
              "      <th>24</th>\n",
              "      <td>3.775135e-11</td>\n",
              "      <td>-2.364182e-07</td>\n",
              "    </tr>\n",
              "    <tr>\n",
              "      <th>25</th>\n",
              "      <td>1.388794e-11</td>\n",
              "      <td>-6.689561e-07</td>\n",
              "    </tr>\n",
              "    <tr>\n",
              "      <th>26</th>\n",
              "      <td>5.109089e-12</td>\n",
              "      <td>-1.346653e-06</td>\n",
              "    </tr>\n",
              "    <tr>\n",
              "      <th>27</th>\n",
              "      <td>1.879529e-12</td>\n",
              "      <td>-4.474122e-06</td>\n",
              "    </tr>\n",
              "    <tr>\n",
              "      <th>28</th>\n",
              "      <td>6.914400e-13</td>\n",
              "      <td>5.016911e-06</td>\n",
              "    </tr>\n",
              "    <tr>\n",
              "      <th>29</th>\n",
              "      <td>2.543666e-13</td>\n",
              "      <td>5.509575e-05</td>\n",
              "    </tr>\n",
              "    <tr>\n",
              "      <th>30</th>\n",
              "      <td>9.357623e-14</td>\n",
              "      <td>-8.553017e-05</td>\n",
              "    </tr>\n",
              "    <tr>\n",
              "      <th>31</th>\n",
              "      <td>3.442477e-14</td>\n",
              "      <td>-1.558790e-04</td>\n",
              "    </tr>\n",
              "    <tr>\n",
              "      <th>32</th>\n",
              "      <td>1.266417e-14</td>\n",
              "      <td>-2.597544e-04</td>\n",
              "    </tr>\n",
              "    <tr>\n",
              "      <th>33</th>\n",
              "      <td>4.658886e-15</td>\n",
              "      <td>8.490319e-04</td>\n",
              "    </tr>\n",
              "    <tr>\n",
              "      <th>34</th>\n",
              "      <td>1.713908e-15</td>\n",
              "      <td>-9.038223e-03</td>\n",
              "    </tr>\n",
              "    <tr>\n",
              "      <th>35</th>\n",
              "      <td>6.305117e-16</td>\n",
              "      <td>-8.022395e-03</td>\n",
              "    </tr>\n",
              "    <tr>\n",
              "      <th>36</th>\n",
              "      <td>2.319523e-16</td>\n",
              "      <td>-8.689680e-03</td>\n",
              "    </tr>\n",
              "  </tbody>\n",
              "</table>\n",
              "</div>\n",
              "    <div class=\"colab-df-buttons\">\n",
              "\n",
              "  <div class=\"colab-df-container\">\n",
              "    <button class=\"colab-df-convert\" onclick=\"convertToInteractive('df-f595f377-f9e3-4884-9353-27d54c10dbbe')\"\n",
              "            title=\"Convert this dataframe to an interactive table.\"\n",
              "            style=\"display:none;\">\n",
              "\n",
              "  <svg xmlns=\"http://www.w3.org/2000/svg\" height=\"24px\" viewBox=\"0 -960 960 960\">\n",
              "    <path d=\"M120-120v-720h720v720H120Zm60-500h600v-160H180v160Zm220 220h160v-160H400v160Zm0 220h160v-160H400v160ZM180-400h160v-160H180v160Zm440 0h160v-160H620v160ZM180-180h160v-160H180v160Zm440 0h160v-160H620v160Z\"/>\n",
              "  </svg>\n",
              "    </button>\n",
              "\n",
              "  <style>\n",
              "    .colab-df-container {\n",
              "      display:flex;\n",
              "      gap: 12px;\n",
              "    }\n",
              "\n",
              "    .colab-df-convert {\n",
              "      background-color: #E8F0FE;\n",
              "      border: none;\n",
              "      border-radius: 50%;\n",
              "      cursor: pointer;\n",
              "      display: none;\n",
              "      fill: #1967D2;\n",
              "      height: 32px;\n",
              "      padding: 0 0 0 0;\n",
              "      width: 32px;\n",
              "    }\n",
              "\n",
              "    .colab-df-convert:hover {\n",
              "      background-color: #E2EBFA;\n",
              "      box-shadow: 0px 1px 2px rgba(60, 64, 67, 0.3), 0px 1px 3px 1px rgba(60, 64, 67, 0.15);\n",
              "      fill: #174EA6;\n",
              "    }\n",
              "\n",
              "    .colab-df-buttons div {\n",
              "      margin-bottom: 4px;\n",
              "    }\n",
              "\n",
              "    [theme=dark] .colab-df-convert {\n",
              "      background-color: #3B4455;\n",
              "      fill: #D2E3FC;\n",
              "    }\n",
              "\n",
              "    [theme=dark] .colab-df-convert:hover {\n",
              "      background-color: #434B5C;\n",
              "      box-shadow: 0px 1px 3px 1px rgba(0, 0, 0, 0.15);\n",
              "      filter: drop-shadow(0px 1px 2px rgba(0, 0, 0, 0.3));\n",
              "      fill: #FFFFFF;\n",
              "    }\n",
              "  </style>\n",
              "\n",
              "    <script>\n",
              "      const buttonEl =\n",
              "        document.querySelector('#df-f595f377-f9e3-4884-9353-27d54c10dbbe button.colab-df-convert');\n",
              "      buttonEl.style.display =\n",
              "        google.colab.kernel.accessAllowed ? 'block' : 'none';\n",
              "\n",
              "      async function convertToInteractive(key) {\n",
              "        const element = document.querySelector('#df-f595f377-f9e3-4884-9353-27d54c10dbbe');\n",
              "        const dataTable =\n",
              "          await google.colab.kernel.invokeFunction('convertToInteractive',\n",
              "                                                    [key], {});\n",
              "        if (!dataTable) return;\n",
              "\n",
              "        const docLinkHtml = 'Like what you see? Visit the ' +\n",
              "          '<a target=\"_blank\" href=https://colab.research.google.com/notebooks/data_table.ipynb>data table notebook</a>'\n",
              "          + ' to learn more about interactive tables.';\n",
              "        element.innerHTML = '';\n",
              "        dataTable['output_type'] = 'display_data';\n",
              "        await google.colab.output.renderOutput(dataTable, element);\n",
              "        const docLink = document.createElement('div');\n",
              "        docLink.innerHTML = docLinkHtml;\n",
              "        element.appendChild(docLink);\n",
              "      }\n",
              "    </script>\n",
              "  </div>\n",
              "\n",
              "\n",
              "    <div id=\"df-f1486f27-0da0-441f-8c07-4adfcff34d39\">\n",
              "      <button class=\"colab-df-quickchart\" onclick=\"quickchart('df-f1486f27-0da0-441f-8c07-4adfcff34d39')\"\n",
              "                title=\"Suggest charts\"\n",
              "                style=\"display:none;\">\n",
              "\n",
              "<svg xmlns=\"http://www.w3.org/2000/svg\" height=\"24px\"viewBox=\"0 0 24 24\"\n",
              "     width=\"24px\">\n",
              "    <g>\n",
              "        <path d=\"M19 3H5c-1.1 0-2 .9-2 2v14c0 1.1.9 2 2 2h14c1.1 0 2-.9 2-2V5c0-1.1-.9-2-2-2zM9 17H7v-7h2v7zm4 0h-2V7h2v10zm4 0h-2v-4h2v4z\"/>\n",
              "    </g>\n",
              "</svg>\n",
              "      </button>\n",
              "\n",
              "<style>\n",
              "  .colab-df-quickchart {\n",
              "      --bg-color: #E8F0FE;\n",
              "      --fill-color: #1967D2;\n",
              "      --hover-bg-color: #E2EBFA;\n",
              "      --hover-fill-color: #174EA6;\n",
              "      --disabled-fill-color: #AAA;\n",
              "      --disabled-bg-color: #DDD;\n",
              "  }\n",
              "\n",
              "  [theme=dark] .colab-df-quickchart {\n",
              "      --bg-color: #3B4455;\n",
              "      --fill-color: #D2E3FC;\n",
              "      --hover-bg-color: #434B5C;\n",
              "      --hover-fill-color: #FFFFFF;\n",
              "      --disabled-bg-color: #3B4455;\n",
              "      --disabled-fill-color: #666;\n",
              "  }\n",
              "\n",
              "  .colab-df-quickchart {\n",
              "    background-color: var(--bg-color);\n",
              "    border: none;\n",
              "    border-radius: 50%;\n",
              "    cursor: pointer;\n",
              "    display: none;\n",
              "    fill: var(--fill-color);\n",
              "    height: 32px;\n",
              "    padding: 0;\n",
              "    width: 32px;\n",
              "  }\n",
              "\n",
              "  .colab-df-quickchart:hover {\n",
              "    background-color: var(--hover-bg-color);\n",
              "    box-shadow: 0 1px 2px rgba(60, 64, 67, 0.3), 0 1px 3px 1px rgba(60, 64, 67, 0.15);\n",
              "    fill: var(--button-hover-fill-color);\n",
              "  }\n",
              "\n",
              "  .colab-df-quickchart-complete:disabled,\n",
              "  .colab-df-quickchart-complete:disabled:hover {\n",
              "    background-color: var(--disabled-bg-color);\n",
              "    fill: var(--disabled-fill-color);\n",
              "    box-shadow: none;\n",
              "  }\n",
              "\n",
              "  .colab-df-spinner {\n",
              "    border: 2px solid var(--fill-color);\n",
              "    border-color: transparent;\n",
              "    border-bottom-color: var(--fill-color);\n",
              "    animation:\n",
              "      spin 1s steps(1) infinite;\n",
              "  }\n",
              "\n",
              "  @keyframes spin {\n",
              "    0% {\n",
              "      border-color: transparent;\n",
              "      border-bottom-color: var(--fill-color);\n",
              "      border-left-color: var(--fill-color);\n",
              "    }\n",
              "    20% {\n",
              "      border-color: transparent;\n",
              "      border-left-color: var(--fill-color);\n",
              "      border-top-color: var(--fill-color);\n",
              "    }\n",
              "    30% {\n",
              "      border-color: transparent;\n",
              "      border-left-color: var(--fill-color);\n",
              "      border-top-color: var(--fill-color);\n",
              "      border-right-color: var(--fill-color);\n",
              "    }\n",
              "    40% {\n",
              "      border-color: transparent;\n",
              "      border-right-color: var(--fill-color);\n",
              "      border-top-color: var(--fill-color);\n",
              "    }\n",
              "    60% {\n",
              "      border-color: transparent;\n",
              "      border-right-color: var(--fill-color);\n",
              "    }\n",
              "    80% {\n",
              "      border-color: transparent;\n",
              "      border-right-color: var(--fill-color);\n",
              "      border-bottom-color: var(--fill-color);\n",
              "    }\n",
              "    90% {\n",
              "      border-color: transparent;\n",
              "      border-bottom-color: var(--fill-color);\n",
              "    }\n",
              "  }\n",
              "</style>\n",
              "\n",
              "      <script>\n",
              "        async function quickchart(key) {\n",
              "          const quickchartButtonEl =\n",
              "            document.querySelector('#' + key + ' button');\n",
              "          quickchartButtonEl.disabled = true;  // To prevent multiple clicks.\n",
              "          quickchartButtonEl.classList.add('colab-df-spinner');\n",
              "          try {\n",
              "            const charts = await google.colab.kernel.invokeFunction(\n",
              "                'suggestCharts', [key], {});\n",
              "          } catch (error) {\n",
              "            console.error('Error during call to suggestCharts:', error);\n",
              "          }\n",
              "          quickchartButtonEl.classList.remove('colab-df-spinner');\n",
              "          quickchartButtonEl.classList.add('colab-df-quickchart-complete');\n",
              "        }\n",
              "        (() => {\n",
              "          let quickchartButtonEl =\n",
              "            document.querySelector('#df-f1486f27-0da0-441f-8c07-4adfcff34d39 button');\n",
              "          quickchartButtonEl.style.display =\n",
              "            google.colab.kernel.accessAllowed ? 'block' : 'none';\n",
              "        })();\n",
              "      </script>\n",
              "    </div>\n",
              "\n",
              "  <div id=\"id_f7f2e9ee-a1cf-4ebb-9224-0af640e7a7c4\">\n",
              "    <style>\n",
              "      .colab-df-generate {\n",
              "        background-color: #E8F0FE;\n",
              "        border: none;\n",
              "        border-radius: 50%;\n",
              "        cursor: pointer;\n",
              "        display: none;\n",
              "        fill: #1967D2;\n",
              "        height: 32px;\n",
              "        padding: 0 0 0 0;\n",
              "        width: 32px;\n",
              "      }\n",
              "\n",
              "      .colab-df-generate:hover {\n",
              "        background-color: #E2EBFA;\n",
              "        box-shadow: 0px 1px 2px rgba(60, 64, 67, 0.3), 0px 1px 3px 1px rgba(60, 64, 67, 0.15);\n",
              "        fill: #174EA6;\n",
              "      }\n",
              "\n",
              "      [theme=dark] .colab-df-generate {\n",
              "        background-color: #3B4455;\n",
              "        fill: #D2E3FC;\n",
              "      }\n",
              "\n",
              "      [theme=dark] .colab-df-generate:hover {\n",
              "        background-color: #434B5C;\n",
              "        box-shadow: 0px 1px 3px 1px rgba(0, 0, 0, 0.15);\n",
              "        filter: drop-shadow(0px 1px 2px rgba(0, 0, 0, 0.3));\n",
              "        fill: #FFFFFF;\n",
              "      }\n",
              "    </style>\n",
              "    <button class=\"colab-df-generate\" onclick=\"generateWithVariable('filtradoMayor')\"\n",
              "            title=\"Generate code using this dataframe.\"\n",
              "            style=\"display:none;\">\n",
              "\n",
              "  <svg xmlns=\"http://www.w3.org/2000/svg\" height=\"24px\"viewBox=\"0 0 24 24\"\n",
              "       width=\"24px\">\n",
              "    <path d=\"M7,19H8.4L18.45,9,17,7.55,7,17.6ZM5,21V16.75L18.45,3.32a2,2,0,0,1,2.83,0l1.4,1.43a1.91,1.91,0,0,1,.58,1.4,1.91,1.91,0,0,1-.58,1.4L9.25,21ZM18.45,9,17,7.55Zm-12,3A5.31,5.31,0,0,0,4.9,8.1,5.31,5.31,0,0,0,1,6.5,5.31,5.31,0,0,0,4.9,4.9,5.31,5.31,0,0,0,6.5,1,5.31,5.31,0,0,0,8.1,4.9,5.31,5.31,0,0,0,12,6.5,5.46,5.46,0,0,0,6.5,12Z\"/>\n",
              "  </svg>\n",
              "    </button>\n",
              "    <script>\n",
              "      (() => {\n",
              "      const buttonEl =\n",
              "        document.querySelector('#id_f7f2e9ee-a1cf-4ebb-9224-0af640e7a7c4 button.colab-df-generate');\n",
              "      buttonEl.style.display =\n",
              "        google.colab.kernel.accessAllowed ? 'block' : 'none';\n",
              "\n",
              "      buttonEl.onclick = () => {\n",
              "        google.colab.notebook.generateWithVariable('filtradoMayor');\n",
              "      }\n",
              "      })();\n",
              "    </script>\n",
              "  </div>\n",
              "\n",
              "    </div>\n",
              "  </div>\n"
            ],
            "application/vnd.google.colaboratory.intrinsic+json": {
              "type": "dataframe",
              "variable_name": "filtradoMayor",
              "summary": "{\n  \"name\": \"filtradoMayor\",\n  \"rows\": 37,\n  \"fields\": [\n    {\n      \"column\": \"Valor te\\u00f3rico\",\n      \"properties\": {\n        \"dtype\": \"number\",\n        \"std\": 0.17391556423730273,\n        \"min\": 2.3195228302435696e-16,\n        \"max\": 1.0,\n        \"num_unique_values\": 37,\n        \"samples\": [\n          4.139937718785167e-08,\n          2.2603294069810542e-06,\n          0.01831563888873418\n        ],\n        \"semantic_type\": \"\",\n        \"description\": \"\"\n      }\n    },\n    {\n      \"column\": \"Valor experimental\",\n      \"properties\": {\n        \"dtype\": \"number\",\n        \"std\": 0.1741049438600688,\n        \"min\": -0.009038222812424323,\n        \"max\": 1.0,\n        \"num_unique_values\": 37,\n        \"samples\": [\n          4.182439449849446e-08,\n          2.260327894757601e-06,\n          0.01831563849793654\n        ],\n        \"semantic_type\": \"\",\n        \"description\": \"\"\n      }\n    }\n  ]\n}"
            }
          },
          "metadata": {},
          "execution_count": 88
        }
      ]
    },
    {
      "cell_type": "code",
      "source": [
        "#AHORA OBSERVE LA SIGUIENTE CURIOSIDAD, NO HACE PARTE DEL EJERCICIO, PERO RESULTA REALMENTE INTERESANTE"
      ],
      "metadata": {
        "id": "95WY6kg_r_HZ"
      },
      "id": "95WY6kg_r_HZ",
      "execution_count": null,
      "outputs": []
    },
    {
      "cell_type": "code",
      "source": [
        "#Recordemos la funcion que hicimos anteriormente, en forma MANUAL, es decir, calcula la sumatoria con un numero de iteraciones seleccionado\n",
        "#SUPONIAMOS que este metodo era mas preciso! pues si le dabamos iteraciones ridiculas (100 iteraciones!) pensabamos que la precision\n",
        "#iba aumentar de sobremanera, sin embargo...\n",
        "\n",
        "ejex = np.arange(1,9) #Voilà los x a evaluar\n",
        "\n",
        "y1=np.exp((-1)*ejex)          #Valores teóricos\n",
        "y2=menosexp_manual(ejex,140)  #Estandar manual de alta precision (como si tendiese al ifninito en terminos computacionaels)\n",
        "\n",
        "plt.plot(ejex,y1,color=\"red\",label=\"Valor teórico\")\n",
        "plt.plot(ejex,y2,linestyle=\"--\",color=\"blue\",label=\"Sumatoria aproximada\")\n",
        "plt.title(\"Comparación de aproximaciones de e**-x en valores grandes de x\")\n",
        "plt.ylabel(\"f(x)\")\n",
        "plt.xlabel(\"$X$\")\n",
        "plt.grid()\n",
        "plt.legend()"
      ],
      "metadata": {
        "colab": {
          "base_uri": "https://localhost:8080/",
          "height": 489
        },
        "id": "ROUdFf-7bFl9",
        "outputId": "39a9438e-ac64-4314-807b-56ad66ae6ed7"
      },
      "id": "ROUdFf-7bFl9",
      "execution_count": null,
      "outputs": [
        {
          "output_type": "execute_result",
          "data": {
            "text/plain": [
              "<matplotlib.legend.Legend at 0x7fa2602eb150>"
            ]
          },
          "metadata": {},
          "execution_count": 79
        },
        {
          "output_type": "display_data",
          "data": {
            "text/plain": [
              "<Figure size 640x480 with 1 Axes>"
            ],
            "image/png": "[encoded data removed]"
          },
          "metadata": {}
        }
      ]
    },
    {
      "cell_type": "code",
      "source": [
        "#Vaya! pueden osbervar? Pusimos la precision de la funcion casi al maximo posible, es decir, una suerte de infinito computacional\n",
        "#Por lo tanto, no es cuestion de precision! la serie empieza a alejarse de los valores correspondientes en x no muy grandes!\n",
        "#En este caso, con fines de observar mejor el comportamiento, lo hicimos de 1 a 8, note que en 8, ya se aleja totalmente de la aproximacion\n",
        "#Asi que, si nos vamos mas lejos...\n",
        "\n",
        "ejex = np.arange(1,100)   #Es solo cambiar el ultimo nùmero para comparar los x\n",
        "\n",
        "y1=np.exp((-1)*ejex)\n",
        "y2=menosexp_manual(ejex,120)\n",
        "\n",
        "plt.plot(ejex,y1,color=\"red\",label=\"Valor teórico\")\n",
        "plt.plot(ejex,y2,linestyle=\"--\",color=\"blue\",label=\"Sumatoria aproximada\")\n",
        "plt.title(\"Comparación de aproximaciones de e**-x en valores grandes de x\")\n",
        "plt.ylabel(\"f(x)\")\n",
        "plt.xlabel(\"$X$\")\n",
        "plt.grid()\n",
        "plt.legend()"
      ],
      "metadata": {
        "colab": {
          "base_uri": "https://localhost:8080/",
          "height": 504
        },
        "id": "Jf6s2wbtmzl5",
        "outputId": "766a7033-2d69-4370-914c-fd9624f5b1ab"
      },
      "id": "Jf6s2wbtmzl5",
      "execution_count": null,
      "outputs": [
        {
          "output_type": "execute_result",
          "data": {
            "text/plain": [
              "<matplotlib.legend.Legend at 0x7fa280af3190>"
            ]
          },
          "metadata": {},
          "execution_count": 38
        },
        {
          "output_type": "display_data",
          "data": {
            "text/plain": [
              "<Figure size 640x480 with 1 Axes>"
            ],
            "image/png": "[encoded data removed]"
          },
          "metadata": {}
        }
      ]
    },
    {
      "cell_type": "code",
      "source": [
        "#Rayos! Cuanto caos! en verdad la función diverge totalmente en estos x a pesar de tener \"mas precision\" (??)!\n",
        "#Sospechamos que, todo esto se debe a las limitaciones computacionales de nuestra maquina. Tener un epsilon limitado, (aunque muy diminuto)\n",
        "#podria traernos problemas a la hora de evaluar, sumando y restando aparentes 0`s! ademas, ya vimos los delicados valores substractivos\n",
        "#Note que con una convergencia supuestamente mayor (mas iteraciones), la divergencia es aun peor!\n",
        "#acaso en esta funcion, mas iteraciones no significa mas precision (pues en calculo, si lo es!)"
      ],
      "metadata": {
        "id": "B3iONi0Unfr0"
      },
      "id": "B3iONi0Unfr0",
      "execution_count": null,
      "outputs": []
    },
    {
      "cell_type": "code",
      "source": [
        "#Ahora bien, ya que vamos a variar el N, lo que necesitamos es nuestra funcion MANUAL!\n",
        "N = np.arange(0,16)       #Nuestro eje x representa a N\n",
        "#Nuestros x a elegir serán...:\n",
        "x1=1\n",
        "x2=2\n",
        "x3=3\n",
        "x4=4\n",
        "x5=5\n",
        "y1=[]\n",
        "y2=[]\n",
        "y3=[]\n",
        "y4=[]\n",
        "y5=[]\n",
        "\n",
        "#por lo cual, nuestros ejes y seràn:\n",
        "for i in N:\n",
        "  y1.append(((abs(menosexp_manual(x1,int(i)))-np.exp(-x1))))\n",
        "  y2.append(((abs(menosexp_manual(x2,int(i)))-np.exp(-x2))))\n",
        "  y3.append(((abs(menosexp_manual(x3,int(i)))-np.exp(-x3))))  #Aca estamos calculando la diferencia! como avaces los valores estallan\n",
        "  y4.append(((abs(menosexp_manual(x4,int(i)))-np.exp(-x4))))  #una comparacion porcentual se saldría de la unidad\n",
        "  y5.append(((abs(menosexp_manual(x5,int(i)))-np.exp(-x5))))\n",
        "\n",
        "plt.plot(N,y1,label=\"x=1\")\n",
        "plt.plot(N,y2,label=\"x=2\")\n",
        "plt.plot(N,y3,label=\"x=3\")\n",
        "plt.plot(N,y4,label=\"x=4\")\n",
        "plt.plot(N,y5,label=\"x=5\")\n",
        "plt.legend()\n",
        "plt.xlabel(\"Iteraciones (N)\")\n",
        "plt.ylabel(\"Error relativo (Teórico - experimental)\")\n",
        "plt.grid()"
      ],
      "metadata": {
        "colab": {
          "base_uri": "https://localhost:8080/",
          "height": 449
        },
        "id": "LqrDEAR115W4",
        "outputId": "edd9c7c2-5a58-4810-9027-7421202a1c15"
      },
      "id": "LqrDEAR115W4",
      "execution_count": null,
      "outputs": [
        {
          "output_type": "display_data",
          "data": {
            "text/plain": [
              "<Figure size 640x480 with 1 Axes>"
            ],
            "image/png": "[encoded data removed]"
          },
          "metadata": {}
        }
      ]
    },
    {
      "cell_type": "code",
      "source": [
        "#Todo parece indicar, que entre mas grande sea el X, mayor numero de iteraciones requiere el programa para converger."
      ],
      "metadata": {
        "colab": {
          "base_uri": "https://localhost:8080/"
        },
        "id": "1VncxsRB-tnw",
        "outputId": "ad9203b5-c555-4829-e1ce-a30d73870361"
      },
      "id": "1VncxsRB-tnw",
      "execution_count": null,
      "outputs": [
        {
          "output_type": "execute_result",
          "data": {
            "text/plain": [
              "np.float64(13.701595386334251)"
            ]
          },
          "metadata": {},
          "execution_count": 174
        }
      ]
    },
    {
      "cell_type": "markdown",
      "id": "56688fa9",
      "metadata": {
        "id": "56688fa9"
      },
      "source": [
        "# 5.\n",
        "\n",
        "Supongamos que tenemos una función $f(x)$ y queremos calcular su derivada en un punto $x$. Podemos hacerlo manualmente si conocemos la forma matemática de la función, o podemos hacerlo computacionalmente usando la definición de derivada:\n",
        "\n",
        "$$\n",
        "\\frac{df}{dx} = \\lim_{\\delta \\to 0} \\frac{f(x + \\delta) - f(x)}{\\delta}.\n",
        "$$\n",
        "\n",
        "En el computador no podemos tomar el límite cuando $\\delta$ tiende a cero, pero podemos obtener una aproximación razonable usando valores pequeños de $\\delta$.\n",
        "\n",
        "- Escriba un programa que:\n",
        "    - Defina una función $f(x)$ que retorne el valor $x(x-1)$\n",
        "    - Calcule la derivada de la función en $x = 1$ usando la fórmula anterior con $\\delta = 10^{-2}$\n",
        "    - Compare este resultado con el valor exacto obtenido analíticamente\n",
        "    \n",
        "    Los resultados no coincidirán exactamente. ¿Por qué?\n",
        "    \n",
        "- Repita el cálculo para $\\delta = 10^{-4}, 10^{-6}, 10^{-8}, 10^{-10}, 10^{-12}$, y $10^{-14}$. Observará que la precisión mejora inicialmente al disminuir $\\delta$, pero luego empeora. Explique este comportamiento.\n"
      ]
    },
    {
      "cell_type": "code",
      "execution_count": null,
      "id": "066104c2",
      "metadata": {
        "id": "066104c2"
      },
      "outputs": [],
      "source": [
        "f = lambda x: x*(x-1) #Hacemos nuestra funcion f(x)\n",
        "\n",
        "def df(f,x,delta):       #Recibe la función, el valor a evaluar, y el delta a elegir. Devuelve la derivada de f evaluada en x\n",
        "  return ((f(x+delta)-f(x))/(delta))\n",
        "\n",
        "dfT =lambda x: 2*x-1      #dfT siginifica Derivada Teorica, para comparar"
      ]
    },
    {
      "cell_type": "code",
      "source": [
        "#Ahora, comparemos graficamente!!\n",
        "delta=[1e-4,1e-6,1e-8,1e-10,1e-12,1e-14] #Para evaluar\n",
        "deltay=[4,6,8,10,12,14] #Para mostrar\n",
        "xinformatico=[]\n",
        "\n",
        "for i in delta:\n",
        "  xinformatico.append(df(f,1,i))\n",
        "plt.scatter(deltay, xinformatico,color=\"r\", label=\"Valor Computacional\",s=60)\n",
        "plt.ylabel(\"Valor de la derivada\")\n",
        "plt.xlabel(r\"$ Valor \\times 10^{-x}$\")\n",
        "plt.axhline(y=dfT(1),color=\"c\",linestyle=\"--\",label=\"Valor esperado\")\n",
        "plt.legend()\n",
        "plt.grid()"
      ],
      "metadata": {
        "colab": {
          "base_uri": "https://localhost:8080/",
          "height": 451
        },
        "id": "FTzPz1HDbvaW",
        "outputId": "fe2275c1-a6d8-4644-b6a1-96e27b0d3076"
      },
      "id": "FTzPz1HDbvaW",
      "execution_count": null,
      "outputs": [
        {
          "output_type": "display_data",
          "data": {
            "text/plain": [
              "<Figure size 640x480 with 1 Axes>"
            ],
            "image/png": "[encoded data removed]"
          },
          "metadata": {}
        }
      ]
    },
    {
      "cell_type": "code",
      "source": [
        "#Al principio, comienza con un comportamiento natural; deltas muy grandes traen poca precision\n",
        "#Luego, una muy bella estabilidad! siguen haciendose mas pequeños los deltas, y obtenemos Valores mas precisos con la derivada teorica\n",
        "#Pero... Un momento! los deltas siguen haciendose pequeños!, pero la aproximación se aleja del valor preciso! Que esta ocurriendo!!!\n",
        "\n",
        "#Incialmente, al hacer la funcion df, era logico que no iba a coincidir perfectamente, pues el delta debia tender terriblemente a cero,\n",
        "#Por lo cual, habria una logica discrepancia entre estos valores, como podra observar a continuación"
      ],
      "metadata": {
        "id": "3Z3Z8nQicVgy"
      },
      "id": "3Z3Z8nQicVgy",
      "execution_count": null,
      "outputs": []
    },
    {
      "cell_type": "code",
      "source": [
        "df(f,1,1e-2) - dfT(1)  #Como podemos observar, Hay diferencia, pues el delta, no es lo suficientemente pequeño"
      ],
      "metadata": {
        "colab": {
          "base_uri": "https://localhost:8080/"
        },
        "id": "Mx608yZVjYrj",
        "outputId": "8f2c38cd-e11f-4da8-d1b8-98a4700576f4"
      },
      "id": "Mx608yZVjYrj",
      "execution_count": null,
      "outputs": [
        {
          "output_type": "execute_result",
          "data": {
            "text/plain": [
              "0.010000000000000897"
            ]
          },
          "metadata": {},
          "execution_count": 185
        }
      ]
    },
    {
      "cell_type": "code",
      "source": [
        "df(f,1,1e-13) - dfT(1) # pero observemos que, en deltas muy pequeños... El valor termina siendo inclusive menor al teorico!"
      ],
      "metadata": {
        "colab": {
          "base_uri": "https://localhost:8080/"
        },
        "id": "e1WJeuJ7jbr6",
        "outputId": "12d616cf-83e4-455d-9573-b6a4ad1240a1"
      },
      "id": "e1WJeuJ7jbr6",
      "execution_count": null,
      "outputs": [
        {
          "output_type": "execute_result",
          "data": {
            "text/plain": [
              "-0.0007992778372593046"
            ]
          },
          "metadata": {},
          "execution_count": 186
        }
      ]
    },
    {
      "cell_type": "code",
      "source": [
        "df(f,1,1e-14) - dfT(1) #Si, es menor...."
      ],
      "metadata": {
        "colab": {
          "base_uri": "https://localhost:8080/"
        },
        "id": "SkfBDTtqXZ87",
        "outputId": "028019d2-84a5-436e-ffd7-034383dd7866"
      },
      "id": "SkfBDTtqXZ87",
      "execution_count": null,
      "outputs": [
        {
          "output_type": "execute_result",
          "data": {
            "text/plain": [
              "-0.0007992778373491216"
            ]
          },
          "metadata": {},
          "execution_count": 187
        }
      ]
    },
    {
      "cell_type": "code",
      "source": [
        "df(f,1,1e-15) - dfT(1) #pero despues vuelve... a ser mayor...?"
      ],
      "metadata": {
        "id": "g5WVH2v4j1JA",
        "colab": {
          "base_uri": "https://localhost:8080/"
        },
        "outputId": "6eff6c8c-05b3-4f31-ac69-5c0dc5ba211f"
      },
      "id": "g5WVH2v4j1JA",
      "execution_count": null,
      "outputs": [
        {
          "output_type": "execute_result",
          "data": {
            "text/plain": [
              "0.11022302462515765"
            ]
          },
          "metadata": {},
          "execution_count": 188
        }
      ]
    },
    {
      "cell_type": "code",
      "source": [
        "#Teorizamos que tiene que ver con el epsilon de la maquina! y el como trabaja con valores tan pequeños\n",
        "\"\"\" Sospechamos que, en estas condiciones, los valores tienden a ser tan pequeños, que la maquina comienza a hacer aproximaciones.\n",
        "como nuestros numeros en el denominador son tan diminutos, estas proximaciones podrian llevar a cambios abruptos en el comportamiento\n",
        "pues es una pequeña lucha entre numerador y denominador; quien es mas pequeño? crecemos? o bajamos?\n",
        "\n",
        "asi que se teoriza que, dadas las aproximaciones necesarias por las limitantes del epsilon, en numeros muy pequeños, hay una breve rivalida\n",
        "entre el numerador y el denominador, quienes decidiran si crecera el valor, o decrecerá.\n",
        "\"\"\""
      ],
      "metadata": {
        "id": "K1lO2obDXlk-"
      },
      "id": "K1lO2obDXlk-",
      "execution_count": null,
      "outputs": []
    }
  ],
  "metadata": {
    "kernelspec": {
      "display_name": "Python 3",
      "language": "python",
      "name": "python3"
    },
    "language_info": {
      "name": "python",
      "version": "3.12.6"
    },
    "colab": {
      "provenance": []
    }
  },
  "nbformat": 4,
  "nbformat_minor": 5
}