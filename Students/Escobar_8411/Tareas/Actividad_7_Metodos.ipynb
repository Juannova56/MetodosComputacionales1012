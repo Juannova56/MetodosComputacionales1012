{
  "nbformat": 4,
  "nbformat_minor": 0,
  "metadata": {
    "colab": {
      "provenance": []
    },
    "kernelspec": {
      "name": "python3",
      "display_name": "Python 3"
    },
    "language_info": {
      "name": "python"
    }
  },
  "cells": [
    {
      "cell_type": "code",
      "execution_count": 1,
      "metadata": {
        "id": "rZuc8vXcWuxy",
        "cellView": "form"
      },
      "outputs": [],
      "source": [
        "#@title Librerias\n",
        "import numpy as np\n",
        "import matplotlib.pyplot as plt\n",
        "import pandas as pd\n",
        "import sympy as sp\n",
        "from scipy.integrate import simpson, trapezoid, fixed_quad, quad, tplquad\n",
        "from scipy.special import roots_legendre"
      ]
    },
    {
      "cell_type": "markdown",
      "source": [
        "# Actividad 07: Integración\n",
        "\n",
        "---\n",
        "### Profesor: Juan Marcos Marín\n",
        "### Nombre: Benjamin Escobar Jaramillo\n",
        "*Métodos computacionales*\n",
        "\n",
        "---"
      ],
      "metadata": {
        "id": "MGwGfceuWxy3"
      }
    },
    {
      "cell_type": "markdown",
      "source": [
        "#1\n",
        "\n",
        "Encuentre las integrales\n",
        "\n",
        "$$\\int_0^{\\pi/4}  e^{3x}\\cdot \\sin(x) \\, dx$$\n",
        "\n",
        "---\n",
        "\n",
        "$$\\int_e^{1+e} \\frac{1}{x\\ln x} \\, dx$$\n",
        "\n",
        "---\n",
        "\n",
        "* Usando los métodos Trapezoidal y de Simpson. Evalue la convergencia en función del valor de $h$, para esto haga un gráfico logaritmico del error absoluto tomando como valor exacto el dado por `quad`.\n",
        "\n",
        "* Luego, realice un estudio de la convergencia para `fixed_quad`.\n",
        "\n",
        "\n",
        "\n",
        "\n"
      ],
      "metadata": {
        "id": "_qpgPAtHNgPB"
      }
    },
    {
      "cell_type": "code",
      "source": [
        "#Comencemos entonces nuestro camino a la integración!\n",
        "#a) Usar las funciones implementadas, ambas les ingresa la sintaxis f(y,x), el h esta es en el array de x`s!\n",
        "#Por definición, vimos que h es el paso, es decir,la distancia entre los x`s, por lo cual usaremos... arange!!\n",
        "\n",
        "#Comencemos por el calculo nùmero perse con un h=0.01\n",
        "\n",
        "'''PRIMERA INTERGAL F(x)=e**3x * sin(x)'''\n",
        "h=0.01\n",
        "f1=lambda x: np.exp(3*x)*np.sin(x)\n",
        "x1=np.arange(0, np.pi/4 +h, h) #los limites de integración...\n",
        "y1=f1(x1) #Nuestras y's\n",
        "\n",
        "integral1_simpson=simpson(y1,x1)\n",
        "intergal1_trap=trapezoid(y1,x1)\n",
        "integral1_exacta=quad(f1,0,np.pi/4)[0] #Solo deseamos el valor!\n",
        "\n",
        "data1={'h':[h],'Simpson':integral1_simpson,'Trapezoide':intergal1_trap,'Quad':[integral1_exacta]} #Los braquets es para que lo lea como array\n",
        "\n",
        "uno=pd.DataFrame(data1)\n",
        "uno"
      ],
      "metadata": {
        "id": "Y0nXXFcnNe2R",
        "colab": {
          "base_uri": "https://localhost:8080/",
          "height": 89
        },
        "outputId": "6965376f-2c2e-45bc-ed8b-411287dbb388"
      },
      "execution_count": 15,
      "outputs": [
        {
          "output_type": "execute_result",
          "data": {
            "text/plain": [
              "      h   Simpson  Trapezoide      Quad\n",
              "0  0.01  1.626747    1.626992  1.592098"
            ],
            "text/html": [
              "\n",
              "  <div id=\"df-8d273180-9e07-4006-a373-c27445981ac2\" class=\"colab-df-container\">\n",
              "    <div>\n",
              "<style scoped>\n",
              "    .dataframe tbody tr th:only-of-type {\n",
              "        vertical-align: middle;\n",
              "    }\n",
              "\n",
              "    .dataframe tbody tr th {\n",
              "        vertical-align: top;\n",
              "    }\n",
              "\n",
              "    .dataframe thead th {\n",
              "        text-align: right;\n",
              "    }\n",
              "</style>\n",
              "<table border=\"1\" class=\"dataframe\">\n",
              "  <thead>\n",
              "    <tr style=\"text-align: right;\">\n",
              "      <th></th>\n",
              "      <th>h</th>\n",
              "      <th>Simpson</th>\n",
              "      <th>Trapezoide</th>\n",
              "      <th>Quad</th>\n",
              "    </tr>\n",
              "  </thead>\n",
              "  <tbody>\n",
              "    <tr>\n",
              "      <th>0</th>\n",
              "      <td>0.01</td>\n",
              "      <td>1.626747</td>\n",
              "      <td>1.626992</td>\n",
              "      <td>1.592098</td>\n",
              "    </tr>\n",
              "  </tbody>\n",
              "</table>\n",
              "</div>\n",
              "    <div class=\"colab-df-buttons\">\n",
              "\n",
              "  <div class=\"colab-df-container\">\n",
              "    <button class=\"colab-df-convert\" onclick=\"convertToInteractive('df-8d273180-9e07-4006-a373-c27445981ac2')\"\n",
              "            title=\"Convert this dataframe to an interactive table.\"\n",
              "            style=\"display:none;\">\n",
              "\n",
              "  <svg xmlns=\"http://www.w3.org/2000/svg\" height=\"24px\" viewBox=\"0 -960 960 960\">\n",
              "    <path d=\"M120-120v-720h720v720H120Zm60-500h600v-160H180v160Zm220 220h160v-160H400v160Zm0 220h160v-160H400v160ZM180-400h160v-160H180v160Zm440 0h160v-160H620v160ZM180-180h160v-160H180v160Zm440 0h160v-160H620v160Z\"/>\n",
              "  </svg>\n",
              "    </button>\n",
              "\n",
              "  <style>\n",
              "    .colab-df-container {\n",
              "      display:flex;\n",
              "      gap: 12px;\n",
              "    }\n",
              "\n",
              "    .colab-df-convert {\n",
              "      background-color: #E8F0FE;\n",
              "      border: none;\n",
              "      border-radius: 50%;\n",
              "      cursor: pointer;\n",
              "      display: none;\n",
              "      fill: #1967D2;\n",
              "      height: 32px;\n",
              "      padding: 0 0 0 0;\n",
              "      width: 32px;\n",
              "    }\n",
              "\n",
              "    .colab-df-convert:hover {\n",
              "      background-color: #E2EBFA;\n",
              "      box-shadow: 0px 1px 2px rgba(60, 64, 67, 0.3), 0px 1px 3px 1px rgba(60, 64, 67, 0.15);\n",
              "      fill: #174EA6;\n",
              "    }\n",
              "\n",
              "    .colab-df-buttons div {\n",
              "      margin-bottom: 4px;\n",
              "    }\n",
              "\n",
              "    [theme=dark] .colab-df-convert {\n",
              "      background-color: #3B4455;\n",
              "      fill: #D2E3FC;\n",
              "    }\n",
              "\n",
              "    [theme=dark] .colab-df-convert:hover {\n",
              "      background-color: #434B5C;\n",
              "      box-shadow: 0px 1px 3px 1px rgba(0, 0, 0, 0.15);\n",
              "      filter: drop-shadow(0px 1px 2px rgba(0, 0, 0, 0.3));\n",
              "      fill: #FFFFFF;\n",
              "    }\n",
              "  </style>\n",
              "\n",
              "    <script>\n",
              "      const buttonEl =\n",
              "        document.querySelector('#df-8d273180-9e07-4006-a373-c27445981ac2 button.colab-df-convert');\n",
              "      buttonEl.style.display =\n",
              "        google.colab.kernel.accessAllowed ? 'block' : 'none';\n",
              "\n",
              "      async function convertToInteractive(key) {\n",
              "        const element = document.querySelector('#df-8d273180-9e07-4006-a373-c27445981ac2');\n",
              "        const dataTable =\n",
              "          await google.colab.kernel.invokeFunction('convertToInteractive',\n",
              "                                                    [key], {});\n",
              "        if (!dataTable) return;\n",
              "\n",
              "        const docLinkHtml = 'Like what you see? Visit the ' +\n",
              "          '<a target=\"_blank\" href=https://colab.research.google.com/notebooks/data_table.ipynb>data table notebook</a>'\n",
              "          + ' to learn more about interactive tables.';\n",
              "        element.innerHTML = '';\n",
              "        dataTable['output_type'] = 'display_data';\n",
              "        await google.colab.output.renderOutput(dataTable, element);\n",
              "        const docLink = document.createElement('div');\n",
              "        docLink.innerHTML = docLinkHtml;\n",
              "        element.appendChild(docLink);\n",
              "      }\n",
              "    </script>\n",
              "  </div>\n",
              "\n",
              "\n",
              "  <div id=\"id_70b6dad5-0e20-4f59-832b-e6e125fc0d05\">\n",
              "    <style>\n",
              "      .colab-df-generate {\n",
              "        background-color: #E8F0FE;\n",
              "        border: none;\n",
              "        border-radius: 50%;\n",
              "        cursor: pointer;\n",
              "        display: none;\n",
              "        fill: #1967D2;\n",
              "        height: 32px;\n",
              "        padding: 0 0 0 0;\n",
              "        width: 32px;\n",
              "      }\n",
              "\n",
              "      .colab-df-generate:hover {\n",
              "        background-color: #E2EBFA;\n",
              "        box-shadow: 0px 1px 2px rgba(60, 64, 67, 0.3), 0px 1px 3px 1px rgba(60, 64, 67, 0.15);\n",
              "        fill: #174EA6;\n",
              "      }\n",
              "\n",
              "      [theme=dark] .colab-df-generate {\n",
              "        background-color: #3B4455;\n",
              "        fill: #D2E3FC;\n",
              "      }\n",
              "\n",
              "      [theme=dark] .colab-df-generate:hover {\n",
              "        background-color: #434B5C;\n",
              "        box-shadow: 0px 1px 3px 1px rgba(0, 0, 0, 0.15);\n",
              "        filter: drop-shadow(0px 1px 2px rgba(0, 0, 0, 0.3));\n",
              "        fill: #FFFFFF;\n",
              "      }\n",
              "    </style>\n",
              "    <button class=\"colab-df-generate\" onclick=\"generateWithVariable('uno')\"\n",
              "            title=\"Generate code using this dataframe.\"\n",
              "            style=\"display:none;\">\n",
              "\n",
              "  <svg xmlns=\"http://www.w3.org/2000/svg\" height=\"24px\"viewBox=\"0 0 24 24\"\n",
              "       width=\"24px\">\n",
              "    <path d=\"M7,19H8.4L18.45,9,17,7.55,7,17.6ZM5,21V16.75L18.45,3.32a2,2,0,0,1,2.83,0l1.4,1.43a1.91,1.91,0,0,1,.58,1.4,1.91,1.91,0,0,1-.58,1.4L9.25,21ZM18.45,9,17,7.55Zm-12,3A5.31,5.31,0,0,0,4.9,8.1,5.31,5.31,0,0,0,1,6.5,5.31,5.31,0,0,0,4.9,4.9,5.31,5.31,0,0,0,6.5,1,5.31,5.31,0,0,0,8.1,4.9,5.31,5.31,0,0,0,12,6.5,5.46,5.46,0,0,0,6.5,12Z\"/>\n",
              "  </svg>\n",
              "    </button>\n",
              "    <script>\n",
              "      (() => {\n",
              "      const buttonEl =\n",
              "        document.querySelector('#id_70b6dad5-0e20-4f59-832b-e6e125fc0d05 button.colab-df-generate');\n",
              "      buttonEl.style.display =\n",
              "        google.colab.kernel.accessAllowed ? 'block' : 'none';\n",
              "\n",
              "      buttonEl.onclick = () => {\n",
              "        google.colab.notebook.generateWithVariable('uno');\n",
              "      }\n",
              "      })();\n",
              "    </script>\n",
              "  </div>\n",
              "\n",
              "    </div>\n",
              "  </div>\n"
            ],
            "application/vnd.google.colaboratory.intrinsic+json": {
              "type": "dataframe",
              "variable_name": "uno",
              "summary": "{\n  \"name\": \"uno\",\n  \"rows\": 1,\n  \"fields\": [\n    {\n      \"column\": \"h\",\n      \"properties\": {\n        \"dtype\": \"number\",\n        \"std\": null,\n        \"min\": 0.01,\n        \"max\": 0.01,\n        \"num_unique_values\": 1,\n        \"samples\": [\n          0.01\n        ],\n        \"semantic_type\": \"\",\n        \"description\": \"\"\n      }\n    },\n    {\n      \"column\": \"Simpson\",\n      \"properties\": {\n        \"dtype\": \"number\",\n        \"std\": null,\n        \"min\": 1.6267474914567763,\n        \"max\": 1.6267474914567763,\n        \"num_unique_values\": 1,\n        \"samples\": [\n          1.6267474914567763\n        ],\n        \"semantic_type\": \"\",\n        \"description\": \"\"\n      }\n    },\n    {\n      \"column\": \"Trapezoide\",\n      \"properties\": {\n        \"dtype\": \"number\",\n        \"std\": null,\n        \"min\": 1.6269917195643375,\n        \"max\": 1.6269917195643375,\n        \"num_unique_values\": 1,\n        \"samples\": [\n          1.6269917195643375\n        ],\n        \"semantic_type\": \"\",\n        \"description\": \"\"\n      }\n    },\n    {\n      \"column\": \"Quad\",\n      \"properties\": {\n        \"dtype\": \"number\",\n        \"std\": null,\n        \"min\": 1.5920977078586793,\n        \"max\": 1.5920977078586793,\n        \"num_unique_values\": 1,\n        \"samples\": [\n          1.5920977078586793\n        ],\n        \"semantic_type\": \"\",\n        \"description\": \"\"\n      }\n    }\n  ]\n}"
            }
          },
          "metadata": {},
          "execution_count": 15
        }
      ]
    },
    {
      "cell_type": "code",
      "source": [
        "'''Analogamente vamos con la segunda función'''\n",
        "f2=lambda x:1/(x*np.log(x))\n",
        "\n",
        "x2=np.arange(np.e, (1+np.e) +h, h) #nuevos limites\n",
        "y2=f2(x2) #mismo proceso.\n",
        "\n",
        "integral2_simpson=simpson(y2,x2)\n",
        "intergal2_trap=trapezoid(y2,x2)\n",
        "integral2_exacta=quad(f2,np.e,(1+np.e))[0]\n",
        "\n",
        "data2={'h':[h],'Simpson':integral2_simpson,'Trapezoide':intergal2_trap,'Quad':[integral2_exacta]}\n",
        "dos=pd.DataFrame(data2)\n",
        "dos"
      ],
      "metadata": {
        "colab": {
          "base_uri": "https://localhost:8080/",
          "height": 89
        },
        "id": "1lVt1APIN3Uk",
        "outputId": "e07c7e61-355b-4f71-c59c-5d4518b93906"
      },
      "execution_count": 16,
      "outputs": [
        {
          "output_type": "execute_result",
          "data": {
            "text/plain": [
              "      h   Simpson  Trapezoide      Quad\n",
              "0  0.01  0.272514    0.272515  0.272514"
            ],
            "text/html": [
              "\n",
              "  <div id=\"df-81baa082-0868-45be-80f2-6bf5c726dc11\" class=\"colab-df-container\">\n",
              "    <div>\n",
              "<style scoped>\n",
              "    .dataframe tbody tr th:only-of-type {\n",
              "        vertical-align: middle;\n",
              "    }\n",
              "\n",
              "    .dataframe tbody tr th {\n",
              "        vertical-align: top;\n",
              "    }\n",
              "\n",
              "    .dataframe thead th {\n",
              "        text-align: right;\n",
              "    }\n",
              "</style>\n",
              "<table border=\"1\" class=\"dataframe\">\n",
              "  <thead>\n",
              "    <tr style=\"text-align: right;\">\n",
              "      <th></th>\n",
              "      <th>h</th>\n",
              "      <th>Simpson</th>\n",
              "      <th>Trapezoide</th>\n",
              "      <th>Quad</th>\n",
              "    </tr>\n",
              "  </thead>\n",
              "  <tbody>\n",
              "    <tr>\n",
              "      <th>0</th>\n",
              "      <td>0.01</td>\n",
              "      <td>0.272514</td>\n",
              "      <td>0.272515</td>\n",
              "      <td>0.272514</td>\n",
              "    </tr>\n",
              "  </tbody>\n",
              "</table>\n",
              "</div>\n",
              "    <div class=\"colab-df-buttons\">\n",
              "\n",
              "  <div class=\"colab-df-container\">\n",
              "    <button class=\"colab-df-convert\" onclick=\"convertToInteractive('df-81baa082-0868-45be-80f2-6bf5c726dc11')\"\n",
              "            title=\"Convert this dataframe to an interactive table.\"\n",
              "            style=\"display:none;\">\n",
              "\n",
              "  <svg xmlns=\"http://www.w3.org/2000/svg\" height=\"24px\" viewBox=\"0 -960 960 960\">\n",
              "    <path d=\"M120-120v-720h720v720H120Zm60-500h600v-160H180v160Zm220 220h160v-160H400v160Zm0 220h160v-160H400v160ZM180-400h160v-160H180v160Zm440 0h160v-160H620v160ZM180-180h160v-160H180v160Zm440 0h160v-160H620v160Z\"/>\n",
              "  </svg>\n",
              "    </button>\n",
              "\n",
              "  <style>\n",
              "    .colab-df-container {\n",
              "      display:flex;\n",
              "      gap: 12px;\n",
              "    }\n",
              "\n",
              "    .colab-df-convert {\n",
              "      background-color: #E8F0FE;\n",
              "      border: none;\n",
              "      border-radius: 50%;\n",
              "      cursor: pointer;\n",
              "      display: none;\n",
              "      fill: #1967D2;\n",
              "      height: 32px;\n",
              "      padding: 0 0 0 0;\n",
              "      width: 32px;\n",
              "    }\n",
              "\n",
              "    .colab-df-convert:hover {\n",
              "      background-color: #E2EBFA;\n",
              "      box-shadow: 0px 1px 2px rgba(60, 64, 67, 0.3), 0px 1px 3px 1px rgba(60, 64, 67, 0.15);\n",
              "      fill: #174EA6;\n",
              "    }\n",
              "\n",
              "    .colab-df-buttons div {\n",
              "      margin-bottom: 4px;\n",
              "    }\n",
              "\n",
              "    [theme=dark] .colab-df-convert {\n",
              "      background-color: #3B4455;\n",
              "      fill: #D2E3FC;\n",
              "    }\n",
              "\n",
              "    [theme=dark] .colab-df-convert:hover {\n",
              "      background-color: #434B5C;\n",
              "      box-shadow: 0px 1px 3px 1px rgba(0, 0, 0, 0.15);\n",
              "      filter: drop-shadow(0px 1px 2px rgba(0, 0, 0, 0.3));\n",
              "      fill: #FFFFFF;\n",
              "    }\n",
              "  </style>\n",
              "\n",
              "    <script>\n",
              "      const buttonEl =\n",
              "        document.querySelector('#df-81baa082-0868-45be-80f2-6bf5c726dc11 button.colab-df-convert');\n",
              "      buttonEl.style.display =\n",
              "        google.colab.kernel.accessAllowed ? 'block' : 'none';\n",
              "\n",
              "      async function convertToInteractive(key) {\n",
              "        const element = document.querySelector('#df-81baa082-0868-45be-80f2-6bf5c726dc11');\n",
              "        const dataTable =\n",
              "          await google.colab.kernel.invokeFunction('convertToInteractive',\n",
              "                                                    [key], {});\n",
              "        if (!dataTable) return;\n",
              "\n",
              "        const docLinkHtml = 'Like what you see? Visit the ' +\n",
              "          '<a target=\"_blank\" href=https://colab.research.google.com/notebooks/data_table.ipynb>data table notebook</a>'\n",
              "          + ' to learn more about interactive tables.';\n",
              "        element.innerHTML = '';\n",
              "        dataTable['output_type'] = 'display_data';\n",
              "        await google.colab.output.renderOutput(dataTable, element);\n",
              "        const docLink = document.createElement('div');\n",
              "        docLink.innerHTML = docLinkHtml;\n",
              "        element.appendChild(docLink);\n",
              "      }\n",
              "    </script>\n",
              "  </div>\n",
              "\n",
              "\n",
              "  <div id=\"id_a96a5fcc-c4ed-49e2-bde2-ef35cfbc16a1\">\n",
              "    <style>\n",
              "      .colab-df-generate {\n",
              "        background-color: #E8F0FE;\n",
              "        border: none;\n",
              "        border-radius: 50%;\n",
              "        cursor: pointer;\n",
              "        display: none;\n",
              "        fill: #1967D2;\n",
              "        height: 32px;\n",
              "        padding: 0 0 0 0;\n",
              "        width: 32px;\n",
              "      }\n",
              "\n",
              "      .colab-df-generate:hover {\n",
              "        background-color: #E2EBFA;\n",
              "        box-shadow: 0px 1px 2px rgba(60, 64, 67, 0.3), 0px 1px 3px 1px rgba(60, 64, 67, 0.15);\n",
              "        fill: #174EA6;\n",
              "      }\n",
              "\n",
              "      [theme=dark] .colab-df-generate {\n",
              "        background-color: #3B4455;\n",
              "        fill: #D2E3FC;\n",
              "      }\n",
              "\n",
              "      [theme=dark] .colab-df-generate:hover {\n",
              "        background-color: #434B5C;\n",
              "        box-shadow: 0px 1px 3px 1px rgba(0, 0, 0, 0.15);\n",
              "        filter: drop-shadow(0px 1px 2px rgba(0, 0, 0, 0.3));\n",
              "        fill: #FFFFFF;\n",
              "      }\n",
              "    </style>\n",
              "    <button class=\"colab-df-generate\" onclick=\"generateWithVariable('dos')\"\n",
              "            title=\"Generate code using this dataframe.\"\n",
              "            style=\"display:none;\">\n",
              "\n",
              "  <svg xmlns=\"http://www.w3.org/2000/svg\" height=\"24px\"viewBox=\"0 0 24 24\"\n",
              "       width=\"24px\">\n",
              "    <path d=\"M7,19H8.4L18.45,9,17,7.55,7,17.6ZM5,21V16.75L18.45,3.32a2,2,0,0,1,2.83,0l1.4,1.43a1.91,1.91,0,0,1,.58,1.4,1.91,1.91,0,0,1-.58,1.4L9.25,21ZM18.45,9,17,7.55Zm-12,3A5.31,5.31,0,0,0,4.9,8.1,5.31,5.31,0,0,0,1,6.5,5.31,5.31,0,0,0,4.9,4.9,5.31,5.31,0,0,0,6.5,1,5.31,5.31,0,0,0,8.1,4.9,5.31,5.31,0,0,0,12,6.5,5.46,5.46,0,0,0,6.5,12Z\"/>\n",
              "  </svg>\n",
              "    </button>\n",
              "    <script>\n",
              "      (() => {\n",
              "      const buttonEl =\n",
              "        document.querySelector('#id_a96a5fcc-c4ed-49e2-bde2-ef35cfbc16a1 button.colab-df-generate');\n",
              "      buttonEl.style.display =\n",
              "        google.colab.kernel.accessAllowed ? 'block' : 'none';\n",
              "\n",
              "      buttonEl.onclick = () => {\n",
              "        google.colab.notebook.generateWithVariable('dos');\n",
              "      }\n",
              "      })();\n",
              "    </script>\n",
              "  </div>\n",
              "\n",
              "    </div>\n",
              "  </div>\n"
            ],
            "application/vnd.google.colaboratory.intrinsic+json": {
              "type": "dataframe",
              "variable_name": "dos",
              "summary": "{\n  \"name\": \"dos\",\n  \"rows\": 1,\n  \"fields\": [\n    {\n      \"column\": \"h\",\n      \"properties\": {\n        \"dtype\": \"number\",\n        \"std\": null,\n        \"min\": 0.01,\n        \"max\": 0.01,\n        \"num_unique_values\": 1,\n        \"samples\": [\n          0.01\n        ],\n        \"semantic_type\": \"\",\n        \"description\": \"\"\n      }\n    },\n    {\n      \"column\": \"Simpson\",\n      \"properties\": {\n        \"dtype\": \"number\",\n        \"std\": null,\n        \"min\": 0.2725138805328822,\n        \"max\": 0.2725138805328822,\n        \"num_unique_values\": 1,\n        \"samples\": [\n          0.2725138805328822\n        ],\n        \"semantic_type\": \"\",\n        \"description\": \"\"\n      }\n    },\n    {\n      \"column\": \"Trapezoide\",\n      \"properties\": {\n        \"dtype\": \"number\",\n        \"std\": null,\n        \"min\": 0.27251532762710673,\n        \"max\": 0.27251532762710673,\n        \"num_unique_values\": 1,\n        \"samples\": [\n          0.27251532762710673\n        ],\n        \"semantic_type\": \"\",\n        \"description\": \"\"\n      }\n    },\n    {\n      \"column\": \"Quad\",\n      \"properties\": {\n        \"dtype\": \"number\",\n        \"std\": null,\n        \"min\": 0.2725138805025834,\n        \"max\": 0.2725138805025834,\n        \"num_unique_values\": 1,\n        \"samples\": [\n          0.2725138805025834\n        ],\n        \"semantic_type\": \"\",\n        \"description\": \"\"\n      }\n    }\n  ]\n}"
            }
          },
          "metadata": {},
          "execution_count": 16
        }
      ]
    },
    {
      "cell_type": "code",
      "source": [
        "''' Perfecto! Con un h=0.01, en la primera integral vemos... una desviación del valor original. Como bien sospechamos,\n",
        "con pasos mas pequeños, tenemos una mayor precisión de convergencia. Observemos el fenomeno graficamente con una gráfica\n",
        "de error absoluto\n",
        "'''\n",
        "fig,ax=plt.subplots(1,2,figsize=(13.3,5)) #Clasica forma.\n",
        "\n",
        "#Ahora nos traemos todo lo que construimos, pero vamos a varíar nuestro h!!\n",
        "\n",
        "rango=np.logspace(-1,-6,100)#Voilá! muchos h's\n",
        "error1simpson=[]\n",
        "error1trap=[]   #Aca guardaremos nuestros errores!\n",
        "\n",
        "for i in rango:\n",
        "  h=i                             #Cambiamos el h por iteración\n",
        "  x1=np.arange(0, np.pi/4 +h, h)\n",
        "  y1=f1(x1)\n",
        "  integral1_simpson=simpson(y1,x1)\n",
        "  integral1_trap=trapezoid(y1,x1)\n",
        "\n",
        "  error1simpson.append(np.abs(integral1_simpson-integral1_exacta))  #Y guardamos nuestos valores de error!\n",
        "  error1trap.append(np.abs(integral1_trap-integral1_exacta))\n",
        "\n",
        "ax[0].plot(rango,error1simpson,label='Error Simpson',c='r')\n",
        "ax[0].plot(rango,error1trap,label='Error Trapezoide',ls='--',c='b')\n",
        "ax[0].set_yscale('log')\n",
        "ax[0].set_xscale('log')\n",
        "ax[0].legend()\n",
        "ax[0].set(\n",
        "    title=('Error absoluto, integral f1'),\n",
        "    xlabel=('h'),\n",
        "    ylabel=('Error')\n",
        ")\n",
        "ax[0].grid()\n",
        "\n",
        "################################################################3\n",
        "'''Analogamente, para f2'''\n",
        "\n",
        "\n",
        "rango=np.logspace(-1,-6,100)\n",
        "error2simpson=[]\n",
        "error2trap=[]\n",
        "\n",
        "for i in rango:\n",
        "  h=i\n",
        "  x2=np.arange(np.e, (1+np.e) +h, h)\n",
        "  y2=f2(x2)\n",
        "  integral2_simpson=simpson(y2,x2)\n",
        "  integral2_trap=trapezoid(y2,x2)\n",
        "\n",
        "  error2simpson.append(np.abs(integral2_simpson-integral2_exacta))\n",
        "  error2trap.append(np.abs(integral2_trap-integral2_exacta))\n",
        "\n",
        "ax[1].plot(rango,error2simpson,label='Error Simpson',c='r')\n",
        "ax[1].loglog(rango,error2trap,label='Error Trapezoide',ls='--',c='b')\n",
        "ax[1].set_yscale('log')\n",
        "ax[1].set_xscale('log')\n",
        "ax[1].legend()\n",
        "ax[1].set(\n",
        "    title=('Error absoluto, integral f2'),\n",
        "    xlabel=('h'),\n",
        "    ylabel=('Error'))\n",
        "ax[1].grid()"
      ],
      "metadata": {
        "colab": {
          "base_uri": "https://localhost:8080/",
          "height": 492
        },
        "id": "QFOsW72TQ_4a",
        "outputId": "c5faec21-07d0-4faf-a20d-3e1f053d0ab9"
      },
      "execution_count": 17,
      "outputs": [
        {
          "output_type": "display_data",
          "data": {
            "text/plain": [
              "<Figure size 1330x500 with 2 Axes>"
            ],
            "image/png": "[encoded data removed]"
          },
          "metadata": {}
        }
      ]
    },
    {
      "cell_type": "code",
      "source": [
        "#Bien! Ya vimos como va mejorando nuestra precisíon con respecto a h's mas pequeños.\n",
        "'''\n",
        "Ahora, analicemos la convergencia de fixed quad, cambiando el numero de puntos!\n",
        "En este caso, vamos a tener como valor esperado (referencial) a quad, y veremos a partir de cuantos puntos se estabiliza\n",
        "'''\n",
        "\n",
        "#Recordemos que...\n",
        "f1=lambda x: np.exp(3*x)*np.sin(x)\n",
        "f2=lambda x:1/(x*np.log(x))\n",
        "\n",
        "ref1=quad(f1,0,np.pi/4)[0]   #Netas refrencias gráficas\n",
        "ref2=quad(f2,np.e,(1+np.e))[0]\n",
        "\n",
        "puntos=np.arange(1,15,1) #Asi de paso, garantizamos que sean ints (enteros)\n",
        "v1Fixed=[]\n",
        "v2Fixed=[]\n",
        "\n",
        "for i in puntos:\n",
        "  v1Fixed.append(fixed_quad(f1,0,np.pi/4,n=i)[0])\n",
        "  v2Fixed.append(fixed_quad(f2,np.e,(1+np.e),n=i)[0])\n",
        "\n",
        "fig,ax=plt.subplots(1,2,figsize=(13.3,5))\n",
        "\n",
        "ax[0].plot(puntos,v1Fixed,c='b',label='FixedQuad(n)')\n",
        "ax[0].axhline(y=ref1,linestyle='--',c='r',label='Valor esperado')\n",
        "ax[0].set(title='Convergencia $F(x)$ #1',xlabel=('Numero de puntos (n)'),ylabel=('valor de la integral'))\n",
        "ax[0].legend()\n",
        "ax[0].grid()\n",
        "\n",
        "ax[1].plot(puntos,v2Fixed,c='b',label='FixedQuad(n)')\n",
        "ax[1].axhline(y=ref2,linestyle='--',c='r',label='Valor esperado')\n",
        "ax[1].set(title='Convergencia $F(x)$ #2',xlabel=('Numero de puntos (n)')\n",
        ",ylabel=('valor de la integral'))\n",
        "ax[1].legend()\n",
        "ax[1].grid()"
      ],
      "metadata": {
        "colab": {
          "base_uri": "https://localhost:8080/",
          "height": 489
        },
        "id": "NJV84wvxgP_F",
        "outputId": "c75f44c1-4e30-4d8c-f9f1-1046dc88593d"
      },
      "execution_count": 9,
      "outputs": [
        {
          "output_type": "display_data",
          "data": {
            "text/plain": [
              "<Figure size 1330x500 with 2 Axes>"
            ],
            "image/png": "[encoded data removed]"
          },
          "metadata": {}
        }
      ]
    },
    {
      "cell_type": "code",
      "source": [
        "'''\n",
        "Cuanta eficiencia! Como podemos observar, a partir de tan solo 4 puntos, la gráfica ya converge a un valor estable,\n",
        "por lo que, 6>p>4 parece un rango realmente razonable para garantizar un resultado muy preciso, y a su vez, optimizado.\n",
        "'''"
      ],
      "metadata": {
        "id": "hQfA55AUk7bM",
        "colab": {
          "base_uri": "https://localhost:8080/",
          "height": 52
        },
        "outputId": "b4d1109a-e4f6-4107-a60f-83aaac54bc5a"
      },
      "execution_count": 19,
      "outputs": [
        {
          "output_type": "execute_result",
          "data": {
            "text/plain": [
              "'\\nCuanta eficiencia! Como podemos observar, a partir de tan solo 4 puntos, la gráfica ya converge a un valor estable,\\npor lo que, 6>p>4 parece un rango realmente razonable para garantizar un resultado muy preciso, y a su vez, optimizado.\\n'"
            ],
            "application/vnd.google.colaboratory.intrinsic+json": {
              "type": "string"
            }
          },
          "metadata": {},
          "execution_count": 19
        }
      ]
    },
    {
      "cell_type": "markdown",
      "source": [
        "#2\n",
        "\n",
        "* Resuelva la siguiente integral usando `quad`. Compare su respuesta con `tlquad`\n",
        "\n",
        "$$\n",
        "\\int_0^\\pi \\int_0^x \\int_0^{xy} \\frac{1}{y}\\sin\\frac{z}{y}\\, dz dy dx\n",
        "$$"
      ],
      "metadata": {
        "id": "Db9dUFTSQcLY"
      }
    },
    {
      "cell_type": "code",
      "source": [
        "### Bien! 3 integrales? sin problema! vamos paso por paso, con muchisimo cuidado.\n",
        "''' Orden es dz dy dx, vamos de adentro, hacia afuera!'''\n",
        "\n",
        "def integral_z(y,x):                 #Paso 1, definir la integral interior. Como es dz, quedará en funcion de y & x.\n",
        "  integrando=lambda z: (1/y)*np.sin(z/y)\n",
        "  res,e=quad(integrando,0,x*y)\n",
        "  return res\n",
        "\n",
        "def intergal_y(x):           #paso 2, la integral que sigue, viene de la anterior. como es integral de y, queda en función de x\n",
        "  integrando=lambda y: integral_z(y,x)\n",
        "  res,e=quad(integrando,0,x)\n",
        "  return res\n",
        "\n",
        "resultado_quad=quad(intergal_y,0,(np.pi))[0]  #Finalmente, lo que obtenemos es como si fuese una única integral!\n",
        "\n",
        "#Ahora, con el triple quad!\n",
        "func= lambda z,y,x:(1/y)*np.sin(z/y) #Muchisimo cuiado con el ORDEN INICIAL!!!\n",
        "\n",
        "c=lambda x:x\n",
        "d=lambda x:0\n",
        "                       #Definimos nuestros limites de integración (esta vez de afuera hacia adentro!)\n",
        "e=lambda x,y: x*y\n",
        "f=lambda x,y: 0\n",
        "\n",
        "\n",
        "resultado_Triplequad=tplquad(func,0,np.pi,c,d,e,f)[0] #De afuera (es decir empezamos con las dx) hacia adentro! (terminamos con las dz)\n",
        "\n",
        "print(f'Con quad, obtuvimos un valor de {resultado_quad}, mientras que con Triple quad, obtuvimos {resultado_Triplequad}')\n",
        "print(f'Obteniendo una diferencia absoluta de {abs(resultado_Triplequad-resultado_quad)}') #Wow... demasiado exacto jaja"
      ],
      "metadata": {
        "colab": {
          "base_uri": "https://localhost:8080/"
        },
        "id": "WIAZvSPHLvS5",
        "outputId": "3b68dddf-0fce-4000-f1d2-d1c68c2f44e9"
      },
      "execution_count": 20,
      "outputs": [
        {
          "output_type": "stream",
          "name": "stdout",
          "text": [
            "Con quad, obtuvimos un valor de 6.934802200544679, mientras que con Triple quad, obtuvimos 6.934802200544679\n",
            "Obteniendo una diferencia absoluta de 0.0\n"
          ]
        }
      ]
    },
    {
      "cell_type": "markdown",
      "source": [
        "#3\n",
        "Usando la siguiente función:\n",
        "\n",
        "\n",
        "\n",
        "```python\n",
        "def gauss_quad_standard(func, n):\n",
        "    \"\"\"\n",
        "    Calcula la integral de una función en el intervalo [-1, 1]\n",
        "    utilizando cuadratura gaussiana.\n",
        "\n",
        "    Parameters:\n",
        "    - func: La función a integrar.\n",
        "    - n: Número de puntos para la cuadratura (grado del polinomio de Legendre).\n",
        "\n",
        "    Returns:\n",
        "    - Aproximación de la integral.\n",
        "    \"\"\"\n",
        "    # Obtener raíces y pesos del polinomio de Legendre\n",
        "    x, w = roots_legendre(n)\n",
        "\n",
        "    # Evaluar la suma ponderada\n",
        "    integral = np.sum(w * func(x))\n",
        "    return integral\n",
        "```\n",
        "\n",
        "Modifique la función `gauss_quad_standard` de forma tal que no este restringida para $[-1,1]$ sino para cualquier intervalo $[a,b]$. Luego, encuentre la integral del *punto 2*.\n",
        "\n",
        "\n",
        "\n"
      ],
      "metadata": {
        "id": "3fLo8sm8RqA0"
      }
    },
    {
      "cell_type": "code",
      "source": [
        "'''Bien! para este ajuste, solo tenemos que hacer un sencillo cambio de variable! por lo cual, obtendriamos algo así...'''\n",
        "\n",
        "def gauss_quad_standard(f,a,b,n=5): #por conveniencia, dejemos el grado del polinomio estandar, pero sin duda es posible cambiarlo.\n",
        "    \"\"\"\n",
        "    Calcula la integral de una función en el intervalo [-1, 1]\n",
        "    utilizando cuadratura gaussiana.\n",
        "\n",
        "    Entradas:\n",
        "      f: la función a integrar (calleable)\n",
        "      a: limite inferior (float)\n",
        "      b: limite superior (float)\n",
        "      n(opcional): grado del polinomio de legendre (int)\n",
        "\n",
        "    Salidas:\n",
        "    Aproximación de la integral.\n",
        "\n",
        "    \"\"\"\n",
        "    # Obtener raíces y pesos del polinomio de Legendre, como de costumbre\n",
        "    x, w = roots_legendre(n)\n",
        "\n",
        "    # y ahora... la aproximación nueva! (con los cambios de variable)\n",
        "\n",
        "    integral = np.sum(w * f( (((b-a)/2)*x) + ((a+b)/2) )) #podemos hacer esto sin problema, x y w estan vectorizados!\n",
        "\n",
        "    integral=integral*((b-a)/2) #Y finalmente, este producto.\n",
        "    return integral"
      ],
      "metadata": {
        "id": "15omBAOVMOOK"
      },
      "execution_count": 17,
      "outputs": []
    },
    {
      "cell_type": "code",
      "source": [
        "#Confirmemos con la función más clásica de todas\n",
        "fgauss=lambda x: np.exp(-x**2)\n",
        "\n",
        "gauss_quad_standard(fgauss,0,1) #Eureka! parece funcionar."
      ],
      "metadata": {
        "colab": {
          "base_uri": "https://localhost:8080/"
        },
        "id": "p8nhapCbOhcY",
        "outputId": "0e9fa069-5cd6-403c-a22e-2155db31d628"
      },
      "execution_count": 18,
      "outputs": [
        {
          "output_type": "execute_result",
          "data": {
            "text/plain": [
              "np.float64(0.7468241267662482)"
            ]
          },
          "metadata": {},
          "execution_count": 18
        }
      ]
    },
    {
      "cell_type": "code",
      "source": [
        "'''Una vez teniendo una relativa garantía de su funcionamiento, manos a la obra; encontremos la triple integral!'''\n",
        "\n",
        "def integralz(y,x):\n",
        "  integrando=lambda z: (1/y)*np.sin(z/y)     #La mas interior, será una función de x & y.\n",
        "  return gauss_quad_standard(integrando,0,x*y)\n",
        "\n",
        "def integraly(x):\n",
        "  integrando=lambda y: integralz(y,x)        #luego solo de x...\n",
        "  return gauss_quad_standard(integrando,0,x)\n",
        "\n",
        "integral=gauss_quad_standard(integraly,0,np.pi)\n",
        "\n",
        "integral\n",
        "#Huh! acaso la integración iterada encuentra problemas con su funcionamiento interno? (esto es, los polinomios de legendre)"
      ],
      "metadata": {
        "colab": {
          "base_uri": "https://localhost:8080/"
        },
        "id": "wKmOWlzcO3zJ",
        "outputId": "83d45255-6b72-494d-f207-3008d68f2ff3"
      },
      "execution_count": 19,
      "outputs": [
        {
          "output_type": "execute_result",
          "data": {
            "text/plain": [
              "np.float64(9.107318780287503)"
            ]
          },
          "metadata": {},
          "execution_count": 19
        }
      ]
    },
    {
      "cell_type": "code",
      "source": [
        "def integral_z(y,x):\n",
        "  integrando=lambda z: (1/y)*np.sin(z/y)\n",
        "  res,e=quad(integrando,0,x*y)\n",
        "  return res\n",
        "\n",
        "def intergal_y(x):\n",
        "  integrando=lambda y: integral_z(y,x)\n",
        "  res,e=quad(integrando,0,x)\n",
        "  return res\n",
        "\n",
        "resultado_quad=quad(intergal_y,0,(np.pi))[0]\n",
        "resultado_quad"
      ],
      "metadata": {
        "colab": {
          "base_uri": "https://localhost:8080/"
        },
        "id": "4bgXvJk-QWu0",
        "outputId": "659ca22a-9ce9-47d8-8fbe-4ee6b2546fb2"
      },
      "execution_count": 20,
      "outputs": [
        {
          "output_type": "execute_result",
          "data": {
            "text/plain": [
              "6.934802200544679"
            ]
          },
          "metadata": {},
          "execution_count": 20
        }
      ]
    },
    {
      "cell_type": "markdown",
      "source": [
        "#4\n",
        "Usando los métodos trapezoidal, Simpson y cuadratura Gaussiana encuentre el valor de las siguientes integrales:\n",
        "\n",
        "---\n",
        "$$\n",
        " \\int_0^{\\pi/2} \\frac{1}{\\sqrt{\\tan x}}\\mathrm{dx}\n",
        " $$\n",
        "\n",
        "----\n",
        "$$\n",
        " \\int_{1}^{\\infty} \\frac{\\cos x}{x^3}\\mathrm{dx}\n",
        " $$\n",
        "\n",
        "\n",
        "----\n",
        "\n",
        "$$\n",
        " \\int_{0}^{\\pi/4} \\int_{0}^{\\sin x} \\frac{1}{\\sqrt{1-y^2}}\\mathrm{dxdy}\n",
        " $$\n",
        "\n",
        "---\n",
        "\n",
        "Garantizando  que el error sea menor a $\\varepsilon=1\\times 10^{-5}$."
      ],
      "metadata": {
        "id": "vj8bxPQ7YC32"
      }
    },
    {
      "cell_type": "code",
      "source": [
        "'''\n",
        "Bien! como nos piden garantizar un error, olvidemos entonces nuestras funciones asociadas, y empleemos nuestras\n",
        "precisas habilidades de carpintero computacional para construir estas funciones y asignarles una tolerancia!\n",
        "'''\n",
        "\n",
        "######################################################\n",
        "'''Creemos nuestras funciones'''\n",
        "f1=lambda x: 1/(np.sqrt(np.tan(x)))\n",
        "f2=lambda x: (np.cos(x)/(x**3))\n",
        "f3=lambda y,x: 1/np.sqrt(1-(y**2))\n",
        "\n",
        "\n",
        "'''\n",
        "Empleemos las funciones asociadas de SciPy, y comparemos con diferentes h´s! asi hasta llegar a la convergencia solicitada.\n",
        "Note que la convergenca deseada para simpson y trapezoid solo se empleará en las primeras dos funciones, dada que la tercera\n",
        "implica una integral Multiple\n",
        "'''\n",
        "\n",
        "#A) Trapezoide\n",
        "def trapezoide_epsilon(f,a,b,tol=1e-5,maxiter=400):\n",
        "  '''\n",
        "  Aproxima la integral con una tolerancia dada, a través del metodo del trapezio.\n",
        "  Entradas:\n",
        "    f: la función a integrar (calleble)\n",
        "    a: limite inferior (float)\n",
        "    b: limite superior (float)\n",
        "    tol(opcional): Tolerancia (en la forma 1e-n, donde n es un entero)\n",
        "    maxiter(opcional): maximas iteraciones (estandar de 400) (int)\n",
        "  Salida:\n",
        "  La aproximación de la integral con una tolerancia proporcionada\n",
        "  '''\n",
        "  n=2\n",
        "  anterior=99999999999999999 #Simplemente garantiza que en la primera iteración no se cumpla la convergencia en la diferencia (ver adelante)\n",
        "\n",
        "  for i in range(maxiter):\n",
        "\n",
        "    h=(b-a)/n  #Aqui iremos actualizando el h\n",
        "    x=np.arange(a,b+h,h) #y con esto, hacemos cada vez mas pequeño los intervalos!\n",
        "    y=f(x)\n",
        "\n",
        "    integral=trapezoid(y,x)\n",
        "\n",
        "    if abs(anterior-integral)<tol:\n",
        "      return integral\n",
        "    else:\n",
        "      n+=1\n",
        "      anterior=integral\n",
        "  return integral #Si llega a maximas iteraciones, devuelve la aproximación del en la ultima iteración\n",
        "\n",
        "#B) Simpson\n",
        "\n",
        "def simpson_epsilon(f,a,b,tol=1e-5,maxiter=400):  #Es un análogo identico, pero esta vez, emplea el metodo de simpson!\n",
        "  '''\n",
        "  Aproxima la integral con una tolerancia dada a través del método de Simpson.\n",
        "  Entradas:\n",
        "    f: la función a integrar (calleble)\n",
        "    a: limite inferior (float)\n",
        "    b: limite superior (float)\n",
        "    tol(opcional): Tolerancia (en la forma 1e-n, donde n es un entero)\n",
        "    maxiter(opcional): maximas iteraciones (estandar de 400) (int)\n",
        "  Salida:\n",
        "  La aproximación de la integral con una tolerancia proporcionada\n",
        "  '''\n",
        "  n=2\n",
        "  anterior=99999999999999999\n",
        "  for i in range(maxiter):\n",
        "\n",
        "    h=(b-a)/n  #Aqui iremos actualizando el h\n",
        "    x=np.arange(a,b+h,h) #y con esto, hacemos cada vez mas pequeño los intervalos!\n",
        "    y=f(x)\n",
        "\n",
        "    integral=simpson(y,x)\n",
        "\n",
        "    if abs(anterior-integral)<tol:\n",
        "      return integral\n",
        "    else:\n",
        "      n+=1\n",
        "      anterior=integral\n",
        "  return integral"
      ],
      "metadata": {
        "id": "EZNA4VoXSXiT"
      },
      "execution_count": 116,
      "outputs": []
    },
    {
      "cell_type": "code",
      "source": [
        "#Bien, confirmemos como de costumbre que nuestras funciones funcionan! (cuanta redundancia!)\n",
        "a,b=trapezoide_epsilon(fgauss,0,1),simpson_epsilon(fgauss,0,1)\n",
        "a,b # Maravilloso! aparentemente, nuestras funciones con una tolerancia preestablecida funionan!"
      ],
      "metadata": {
        "id": "hr3xB3BhcG-W",
        "colab": {
          "base_uri": "https://localhost:8080/"
        },
        "outputId": "8c744a6c-d17f-4de1-fb7b-c5f59cfcfa91"
      },
      "execution_count": 78,
      "outputs": [
        {
          "output_type": "execute_result",
          "data": {
            "text/plain": [
              "(np.float64(0.7467334282808928), np.float64(0.7468307904598198))"
            ]
          },
          "metadata": {},
          "execution_count": 78
        }
      ]
    },
    {
      "cell_type": "code",
      "source": [
        "'''\n",
        "Ahora bien, muchas integrales suelen cerrarse en valores previos a sus limites de integración.\n",
        "Con el fin de ahorrar en calculos y recursos, visualicemos estas funciones.\n",
        "'''\n",
        "\n",
        "x1=np.linspace(0,np.pi/2,1000)\n",
        "y1=f1(x1)\n",
        "plt.plot(x1,y1)\n",
        "plt.fill_between(x1, y1, color='skyblue', alpha=0.5)\n",
        "plt.ylim(0,10)  #Perfecto! Hallemos entonces esta area"
      ],
      "metadata": {
        "colab": {
          "base_uri": "https://localhost:8080/",
          "height": 487
        },
        "id": "pTfHapkJNATf",
        "outputId": "c6bd205b-6417-4f67-9191-8f9fd7eaf708"
      },
      "execution_count": 161,
      "outputs": [
        {
          "output_type": "stream",
          "name": "stderr",
          "text": [
            "/tmp/ipython-input-116-703139485.py:8: RuntimeWarning: divide by zero encountered in divide\n",
            "  f1=lambda x: 1/(np.sqrt(np.tan(x)))\n"
          ]
        },
        {
          "output_type": "execute_result",
          "data": {
            "text/plain": [
              "(0.0, 10.0)"
            ]
          },
          "metadata": {},
          "execution_count": 161
        },
        {
          "output_type": "display_data",
          "data": {
            "text/plain": [
              "<Figure size 640x480 with 1 Axes>"
            ],
            "image/png": "[encoded data removed]"
          },
          "metadata": {}
        }
      ]
    },
    {
      "cell_type": "code",
      "source": [
        "Area1Trap=trapezoide_epsilon(f1,1e-4,1.57) #Como es asintotico, nos acercamos suavemente, pero no la tocamos!!\n",
        "Area1Simpson=simpson_epsilon(f1,1e-4,1.57)\n",
        "ValorREAL=2.2214 #(data de WolframApha)\n",
        "print(f'El metodo de trapezoide nos dió un valor de {round(Area1Trap,4)},y el de Simpson {round(Area1Simpson,4)}, donde el valor Real es {ValorREAL}')"
      ],
      "metadata": {
        "id": "igME6cR8Z1KS",
        "colab": {
          "base_uri": "https://localhost:8080/"
        },
        "outputId": "cc2f2daf-9315-4a52-a9b5-84c6d0d17e28"
      },
      "execution_count": 164,
      "outputs": [
        {
          "output_type": "stream",
          "name": "stdout",
          "text": [
            "El metodo de trapezoide nos dió un valor de 2.3237,y el de Simpson 2.2709, donde el valor Real es 2.2214\n"
          ]
        },
        {
          "output_type": "stream",
          "name": "stderr",
          "text": [
            "/tmp/ipython-input-116-703139485.py:8: RuntimeWarning: invalid value encountered in sqrt\n",
            "  f1=lambda x: 1/(np.sqrt(np.tan(x)))\n"
          ]
        }
      ]
    },
    {
      "cell_type": "code",
      "source": [
        "#Ahora comparemos la funcion f2\n",
        "\n",
        "x2=np.linspace(1,20,100)\n",
        "y2=f2(x2)\n",
        "plt.plot(x2,y2)\n",
        "plt.fill_between(x2, y2, color='skyblue', alpha=0.5)\n",
        "#plt.ylim(0,10)  #Perfecto! Hallemos entonces esta area"
      ],
      "metadata": {
        "colab": {
          "base_uri": "https://localhost:8080/",
          "height": 447
        },
        "id": "dc24bo5AOlPx",
        "outputId": "cb4a2b83-f810-42cf-cb07-cc138420c82f"
      },
      "execution_count": 165,
      "outputs": [
        {
          "output_type": "execute_result",
          "data": {
            "text/plain": [
              "<matplotlib.collections.FillBetweenPolyCollection at 0x7a9e2246a850>"
            ]
          },
          "metadata": {},
          "execution_count": 165
        },
        {
          "output_type": "display_data",
          "data": {
            "text/plain": [
              "<Figure size 640x480 with 1 Axes>"
            ],
            "image/png": "[encoded data removed]"
          },
          "metadata": {}
        }
      ]
    },
    {
      "cell_type": "code",
      "source": [
        "#Como podemos observar, no hay necesidad de irnos hasta el infinito para hacer el calculo!\n",
        "Area2Trap=trapezoide_epsilon(f2,1,30)\n",
        "Area2Simpson=simpson_epsilon(f2,1,30)\n",
        "Valor2REAL=0.01811 #(WolframAlpha)\n",
        "print(f'El metodo de trapezoide nos dió un valor de {round(Area2Trap,5)},y el de Simpson {round(Area2Simpson,5)}, donde el valor Real es {Valor2REAL}')"
      ],
      "metadata": {
        "colab": {
          "base_uri": "https://localhost:8080/"
        },
        "id": "p5dE7kpTRM2H",
        "outputId": "f001aa46-2db0-4e83-cd3f-b11e1b00bb12"
      },
      "execution_count": 168,
      "outputs": [
        {
          "output_type": "stream",
          "name": "stdout",
          "text": [
            "El metodo de trapezoide nos dió un valor de 0.01971,y el de Simpson 0.0185, donde el valor Real es 0.01811\n"
          ]
        }
      ]
    },
    {
      "cell_type": "code",
      "source": [
        "#Eureka! nuestras aproximaciones fueorn relativamente aceptables.\n",
        "'''Ahora bien, para realizar cualesquier aproximación de cuadratura gaussiana, solo aumentar el grado\n",
        "de su polinomio de legendre asociado! esto es;\n",
        "'''\n",
        "\n",
        "def quad_epsilon(f,a,b,tol=1e-5,maxiter=400): #Misma estructura\n",
        "  n=2\n",
        "  anterior=99999999999999999\n",
        "  for i in range(maxiter):\n",
        "\n",
        "    integral=fixed_quad(f,a,b,n=n)[0]\n",
        "\n",
        "    if abs(anterior-integral)<tol:\n",
        "      return integral\n",
        "    else:\n",
        "      n+=1  #Aqui actualizamos el grado del polinomio\n",
        "      anterior=integral\n",
        "  return integral\n"
      ],
      "metadata": {
        "id": "AfzvJuB0TFtL"
      },
      "execution_count": 183,
      "outputs": []
    },
    {
      "cell_type": "code",
      "source": [
        "quad1=quad_epsilon(f1,0,np.pi/2)\n",
        "quad2=quad_epsilon(f2,1,30)\n",
        "\n",
        "print(f'Con el metodo de cuadratura obtenemos valores aproximados de; f1 (aprx={round(quad1,4)}, real={ValorREAL}), y f2 (aprx={round(quad2,4)}, real={Valor2REAL})')"
      ],
      "metadata": {
        "colab": {
          "base_uri": "https://localhost:8080/"
        },
        "id": "dgJeZeGsTHas",
        "outputId": "a389f3c2-550e-4b4b-eb4c-f6bd616fbb55"
      },
      "execution_count": 191,
      "outputs": [
        {
          "output_type": "stream",
          "name": "stdout",
          "text": [
            "Con el metodo de cuadratura obtenemos valores aproximados de; f1 (aprx=2.2181, real=2.2214), y f2 (aprx=0.0181, real=0.01811)\n"
          ]
        }
      ]
    },
    {
      "cell_type": "code",
      "source": [
        "#Rayos! vemos que cuadratura Gaussiana esta muchísimo mejor optimizado! #Vamos ahora con la doble integral.\n",
        "\n",
        "'''\n",
        "Note que para este metodo, se esparaba garantizar la tolerancia cambiando los n del polinomio de lagrange, sin embargo,\n",
        "Tal parece que fixed quad percibe funciones vectorizadas, lo que no le permite iterar...\n",
        "'''\n",
        "n=4\n",
        "def interna(x):\n",
        "  integrando=lambda y: 1/np.sqrt(1-(y**2))\n",
        "  resultado= fixed_quad(integrando, 0, np.sin(x))[0]\n",
        "  return resultado\n",
        "\n",
        "final=fixed_quad(interna,0,np.pi/4) [0]\n",
        "\n",
        "final"
      ],
      "metadata": {
        "colab": {
          "base_uri": "https://localhost:8080/",
          "height": 356
        },
        "id": "8sDZsJrWVUmA",
        "outputId": "e04def3c-d2ef-4852-df6f-a514ca1ec540"
      },
      "execution_count": 213,
      "outputs": [
        {
          "output_type": "error",
          "ename": "ValueError",
          "evalue": "The truth value of an array with more than one element is ambiguous. Use a.any() or a.all()",
          "traceback": [
            "\u001b[0;31m---------------------------------------------------------------------------\u001b[0m",
            "\u001b[0;31mValueError\u001b[0m                                Traceback (most recent call last)",
            "\u001b[0;32m/tmp/ipython-input-213-563216710.py\u001b[0m in \u001b[0;36m<cell line: 0>\u001b[0;34m()\u001b[0m\n\u001b[1;32m     11\u001b[0m   \u001b[0;32mreturn\u001b[0m \u001b[0mresultado\u001b[0m\u001b[0;34m\u001b[0m\u001b[0;34m\u001b[0m\u001b[0m\n\u001b[1;32m     12\u001b[0m \u001b[0;34m\u001b[0m\u001b[0m\n\u001b[0;32m---> 13\u001b[0;31m \u001b[0mfinal\u001b[0m\u001b[0;34m=\u001b[0m\u001b[0mfixed_quad\u001b[0m\u001b[0;34m(\u001b[0m\u001b[0minterna\u001b[0m\u001b[0;34m,\u001b[0m\u001b[0;36m0\u001b[0m\u001b[0;34m,\u001b[0m\u001b[0mnp\u001b[0m\u001b[0;34m.\u001b[0m\u001b[0mpi\u001b[0m\u001b[0;34m/\u001b[0m\u001b[0;36m4\u001b[0m\u001b[0;34m)\u001b[0m \u001b[0;34m[\u001b[0m\u001b[0;36m0\u001b[0m\u001b[0;34m]\u001b[0m\u001b[0;34m\u001b[0m\u001b[0;34m\u001b[0m\u001b[0m\n\u001b[0m\u001b[1;32m     14\u001b[0m \u001b[0;34m\u001b[0m\u001b[0m\n\u001b[1;32m     15\u001b[0m \u001b[0mfinal\u001b[0m\u001b[0;34m\u001b[0m\u001b[0;34m\u001b[0m\u001b[0m\n",
            "\u001b[0;32m/usr/local/lib/python3.11/dist-packages/scipy/integrate/_quadrature.py\u001b[0m in \u001b[0;36mfixed_quad\u001b[0;34m(func, a, b, args, n)\u001b[0m\n\u001b[1;32m    240\u001b[0m                          \"finite limits.\")\n\u001b[1;32m    241\u001b[0m     \u001b[0my\u001b[0m \u001b[0;34m=\u001b[0m \u001b[0;34m(\u001b[0m\u001b[0mb\u001b[0m\u001b[0;34m-\u001b[0m\u001b[0ma\u001b[0m\u001b[0;34m)\u001b[0m\u001b[0;34m*\u001b[0m\u001b[0;34m(\u001b[0m\u001b[0mx\u001b[0m\u001b[0;34m+\u001b[0m\u001b[0;36m1\u001b[0m\u001b[0;34m)\u001b[0m\u001b[0;34m/\u001b[0m\u001b[0;36m2.0\u001b[0m \u001b[0;34m+\u001b[0m \u001b[0ma\u001b[0m\u001b[0;34m\u001b[0m\u001b[0;34m\u001b[0m\u001b[0m\n\u001b[0;32m--> 242\u001b[0;31m     \u001b[0;32mreturn\u001b[0m \u001b[0;34m(\u001b[0m\u001b[0mb\u001b[0m\u001b[0;34m-\u001b[0m\u001b[0ma\u001b[0m\u001b[0;34m)\u001b[0m\u001b[0;34m/\u001b[0m\u001b[0;36m2.0\u001b[0m \u001b[0;34m*\u001b[0m \u001b[0mnp\u001b[0m\u001b[0;34m.\u001b[0m\u001b[0msum\u001b[0m\u001b[0;34m(\u001b[0m\u001b[0mw\u001b[0m\u001b[0;34m*\u001b[0m\u001b[0mfunc\u001b[0m\u001b[0;34m(\u001b[0m\u001b[0my\u001b[0m\u001b[0;34m,\u001b[0m \u001b[0;34m*\u001b[0m\u001b[0margs\u001b[0m\u001b[0;34m)\u001b[0m\u001b[0;34m,\u001b[0m \u001b[0maxis\u001b[0m\u001b[0;34m=\u001b[0m\u001b[0;34m-\u001b[0m\u001b[0;36m1\u001b[0m\u001b[0;34m)\u001b[0m\u001b[0;34m,\u001b[0m \u001b[0;32mNone\u001b[0m\u001b[0;34m\u001b[0m\u001b[0;34m\u001b[0m\u001b[0m\n\u001b[0m\u001b[1;32m    243\u001b[0m \u001b[0;34m\u001b[0m\u001b[0m\n\u001b[1;32m    244\u001b[0m \u001b[0;34m\u001b[0m\u001b[0m\n",
            "\u001b[0;32m/tmp/ipython-input-213-563216710.py\u001b[0m in \u001b[0;36minterna\u001b[0;34m(x)\u001b[0m\n\u001b[1;32m      8\u001b[0m \u001b[0;32mdef\u001b[0m \u001b[0minterna\u001b[0m\u001b[0;34m(\u001b[0m\u001b[0mx\u001b[0m\u001b[0;34m)\u001b[0m\u001b[0;34m:\u001b[0m\u001b[0;34m\u001b[0m\u001b[0;34m\u001b[0m\u001b[0m\n\u001b[1;32m      9\u001b[0m   \u001b[0mintegrando\u001b[0m\u001b[0;34m=\u001b[0m\u001b[0;32mlambda\u001b[0m \u001b[0my\u001b[0m\u001b[0;34m:\u001b[0m \u001b[0;36m1\u001b[0m\u001b[0;34m/\u001b[0m\u001b[0mnp\u001b[0m\u001b[0;34m.\u001b[0m\u001b[0msqrt\u001b[0m\u001b[0;34m(\u001b[0m\u001b[0;36m1\u001b[0m\u001b[0;34m-\u001b[0m\u001b[0;34m(\u001b[0m\u001b[0my\u001b[0m\u001b[0;34m**\u001b[0m\u001b[0;36m2\u001b[0m\u001b[0;34m)\u001b[0m\u001b[0;34m)\u001b[0m\u001b[0;34m\u001b[0m\u001b[0;34m\u001b[0m\u001b[0m\n\u001b[0;32m---> 10\u001b[0;31m   \u001b[0mresultado\u001b[0m\u001b[0;34m=\u001b[0m \u001b[0mfixed_quad\u001b[0m\u001b[0;34m(\u001b[0m\u001b[0mintegrando\u001b[0m\u001b[0;34m,\u001b[0m \u001b[0;36m0\u001b[0m\u001b[0;34m,\u001b[0m \u001b[0mnp\u001b[0m\u001b[0;34m.\u001b[0m\u001b[0msin\u001b[0m\u001b[0;34m(\u001b[0m\u001b[0mx\u001b[0m\u001b[0;34m)\u001b[0m\u001b[0;34m)\u001b[0m\u001b[0;34m[\u001b[0m\u001b[0;36m0\u001b[0m\u001b[0;34m]\u001b[0m\u001b[0;34m\u001b[0m\u001b[0;34m\u001b[0m\u001b[0m\n\u001b[0m\u001b[1;32m     11\u001b[0m   \u001b[0;32mreturn\u001b[0m \u001b[0mresultado\u001b[0m\u001b[0;34m\u001b[0m\u001b[0;34m\u001b[0m\u001b[0m\n\u001b[1;32m     12\u001b[0m \u001b[0;34m\u001b[0m\u001b[0m\n",
            "\u001b[0;32m/usr/local/lib/python3.11/dist-packages/scipy/integrate/_quadrature.py\u001b[0m in \u001b[0;36mfixed_quad\u001b[0;34m(func, a, b, args, n)\u001b[0m\n\u001b[1;32m    236\u001b[0m     \u001b[0mx\u001b[0m\u001b[0;34m,\u001b[0m \u001b[0mw\u001b[0m \u001b[0;34m=\u001b[0m \u001b[0m_cached_roots_legendre\u001b[0m\u001b[0;34m(\u001b[0m\u001b[0mn\u001b[0m\u001b[0;34m)\u001b[0m\u001b[0;34m\u001b[0m\u001b[0;34m\u001b[0m\u001b[0m\n\u001b[1;32m    237\u001b[0m     \u001b[0mx\u001b[0m \u001b[0;34m=\u001b[0m \u001b[0mnp\u001b[0m\u001b[0;34m.\u001b[0m\u001b[0mreal\u001b[0m\u001b[0;34m(\u001b[0m\u001b[0mx\u001b[0m\u001b[0;34m)\u001b[0m\u001b[0;34m\u001b[0m\u001b[0;34m\u001b[0m\u001b[0m\n\u001b[0;32m--> 238\u001b[0;31m     \u001b[0;32mif\u001b[0m \u001b[0mnp\u001b[0m\u001b[0;34m.\u001b[0m\u001b[0misinf\u001b[0m\u001b[0;34m(\u001b[0m\u001b[0ma\u001b[0m\u001b[0;34m)\u001b[0m \u001b[0;32mor\u001b[0m \u001b[0mnp\u001b[0m\u001b[0;34m.\u001b[0m\u001b[0misinf\u001b[0m\u001b[0;34m(\u001b[0m\u001b[0mb\u001b[0m\u001b[0;34m)\u001b[0m\u001b[0;34m:\u001b[0m\u001b[0;34m\u001b[0m\u001b[0;34m\u001b[0m\u001b[0m\n\u001b[0m\u001b[1;32m    239\u001b[0m         raise ValueError(\"Gaussian quadrature is only available for \"\n\u001b[1;32m    240\u001b[0m                          \"finite limits.\")\n",
            "\u001b[0;31mValueError\u001b[0m: The truth value of an array with more than one element is ambiguous. Use a.any() or a.all()"
          ]
        }
      ]
    },
    {
      "cell_type": "code",
      "source": [
        "'''Pues note como, sin problema alguno, quad resuelve el mismo problema'''\n",
        "def interna(x):\n",
        "  integrando=lambda y: 1/np.sqrt(1-(y**2))\n",
        "  resultado= quad(integrando, 0, np.sin(x))[0]\n",
        "  return resultado\n",
        "\n",
        "final=quad(interna,0,np.pi/4) [0]\n",
        "\n",
        "final"
      ],
      "metadata": {
        "colab": {
          "base_uri": "https://localhost:8080/"
        },
        "id": "933ovp4pZ1QF",
        "outputId": "79c67e52-aede-430b-8b6e-f99e77dbee2d"
      },
      "execution_count": 212,
      "outputs": [
        {
          "output_type": "execute_result",
          "data": {
            "text/plain": [
              "0.30842513753404244"
            ]
          },
          "metadata": {},
          "execution_count": 212
        }
      ]
    },
    {
      "cell_type": "code",
      "source": [
        "###Notese ademas que como vimos en los puntos superiores de la actividad, nuestra función gauss_quad_standart no es iterbale\n",
        "#En multiples integrales."
      ],
      "metadata": {
        "id": "hTKV_MdIaJjr"
      },
      "execution_count": null,
      "outputs": []
    }
  ]
}