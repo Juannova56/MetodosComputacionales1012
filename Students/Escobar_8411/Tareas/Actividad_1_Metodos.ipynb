{
  "nbformat": 4,
  "nbformat_minor": 0,
  "metadata": {
    "colab": {
      "provenance": [],
      "collapsed_sections": [
        "ASKmJNuBgHIp"
      ]
    },
    "kernelspec": {
      "name": "python3",
      "display_name": "Python 3"
    },
    "language_info": {
      "name": "python"
    }
  },
  "cells": [
    {
      "cell_type": "markdown",
      "source": [
        "# Actividad 1: Introducción a Python\n",
        "---\n",
        "#Benjamin Escobar Jaramillo CC 1001228411\n",
        "\n",
        "---"
      ],
      "metadata": {
        "id": "ym3QAv5yfZSO"
      }
    },
    {
      "cell_type": "markdown",
      "source": [
        "## Problema 1: Números primos entre 2 y 50 con la Criba de Eratóstenes\n",
        "\n",
        "La **Criba de Eratóstenes** es un método eficiente para encontrar todos los números primos menores que un número dado. El algoritmo consiste en:\n",
        "\n",
        "1. Crear una lista de valores booleanos para representar los números del 2 al 50, todos inicialmente marcados como verdaderos.\n",
        "2. Comenzando desde el primer número primo (2), eliminar todos sus múltiplos (marcándolos como falsos).\n",
        "3. Repetir el proceso para el siguiente número no eliminado.\n",
        "4. Los números que permanezcan marcados como verdaderos son primos.\n",
        "\n",
        "Usando funciones, implementa este método y muestra en pantalla todos los números primos entre 2 y 50.\n",
        "\n"
      ],
      "metadata": {
        "id": "W0C9oNGXfwDj"
      }
    },
    {
      "cell_type": "markdown",
      "source": [],
      "metadata": {
        "id": "GIk3OsqxfZ50"
      }
    },
    {
      "cell_type": "code",
      "source": [
        "def bolprimos(n): # n representa el valor maxímo a donde quiere llegar, en nuestro ejemplo, 50\n",
        "\n",
        "  bolnum=[] #lista vacia donde almacenaremos nuestroossss Booleanos!!!\n",
        "\n",
        "  #Cual es el plan!!! Para identificar primos con booleanos, aprovechemos su indice (dado que representa un numero)\n",
        "  i=1\n",
        "  while i<=n+1:   # +1, con el proposito de que el primer numero sea... el 0! de este modo, el indice coincide con el número.\n",
        "    bolnum.append(True)\n",
        "    i+=1                       #Voilá, ya tenemos una lista de n numeros lleno de booleanos (True´s)\n",
        "\n",
        "    r=2                     #r será en indice a utilizar (empieza desde el 2, quien es indice 2)\n",
        "    w=2                     #w es el multiplo! ()\n",
        "\n",
        "  for k in range(len(bolnum)-2):         #repetimos len -2 veces (pues empieza en 0, 1... y nosotros iteramos desde 2)\n",
        "\n",
        "    if bolnum[r]==True:\n",
        "        while r<len(bolnum):\n",
        "          bolnum[r]=False\n",
        "          r=r+w\n",
        "        bolnum[w]=True # Esta maravilla de la industria, como defecto, elimina el primer indice donde comienza, asi que lo reparamos!\n",
        "        r=w+1                # reiniciamos nuestros contadores (Pues w, siempre esta inalterado)\n",
        "        w=r\n",
        "    else:\n",
        "      r=w+1                # lo mismo, pero lo dejamos falso!\n",
        "      w=r\n",
        "\n",
        "  bolnum.remove(True)                      #Finalmente nos sacamos al 0 y al 1, teniendo una lista que comienza desde 2.\n",
        "  bolnum.remove(True)\n",
        "  return bolnum               #Disfrute de su dispendioso y poco practico seleccionador de primos!\n",
        "\n",
        "bolprimos(50)         #NOTA!! ANTES DE VERIFICAR LA LISTA, SE LE RECOMIENDA PRIMERO VER EL CODIGO DE ABAJO!!!"
      ],
      "metadata": {
        "colab": {
          "base_uri": "https://localhost:8080/"
        },
        "id": "oc12nCrMxU3U",
        "outputId": "31c90f5a-6faf-4753-9875-bce996b17d0f"
      },
      "execution_count": null,
      "outputs": [
        {
          "output_type": "execute_result",
          "data": {
            "text/plain": [
              "[True,\n",
              " True,\n",
              " False,\n",
              " True,\n",
              " False,\n",
              " True,\n",
              " False,\n",
              " False,\n",
              " False,\n",
              " True,\n",
              " False,\n",
              " True,\n",
              " False,\n",
              " False,\n",
              " False,\n",
              " True,\n",
              " False,\n",
              " True,\n",
              " False,\n",
              " False,\n",
              " False,\n",
              " True,\n",
              " False,\n",
              " False,\n",
              " False,\n",
              " False,\n",
              " False,\n",
              " True,\n",
              " False,\n",
              " True,\n",
              " False,\n",
              " False,\n",
              " False,\n",
              " False,\n",
              " False,\n",
              " True,\n",
              " False,\n",
              " False,\n",
              " False,\n",
              " True,\n",
              " False,\n",
              " True,\n",
              " False,\n",
              " False,\n",
              " False,\n",
              " True,\n",
              " False,\n",
              " False,\n",
              " False]"
            ]
          },
          "metadata": {},
          "execution_count": 178
        }
      ]
    },
    {
      "cell_type": "code",
      "source": [
        "# A opinion personal, es mejor tener incluidos en la lista, el 0 y el 1, pues siendo asi, podemos hacer un detector de primos!\n",
        "#El codigo acontinuación es exactamente el mismo de arriba, unicamente no se le borra al final el 0 y el 1.\n",
        "def bolprimos(n):\n",
        "  bolnum=[]\n",
        "  i=1\n",
        "  while i<=n+1:\n",
        "    bolnum.append(True)\n",
        "    i+=1\n",
        "    r=2\n",
        "    w=2\n",
        "  for k in range(len(bolnum)-2):\n",
        "    if bolnum[r]==True:\n",
        "        while r<len(bolnum):\n",
        "          bolnum[r]=False\n",
        "          r=r+w\n",
        "        bolnum[w]=True\n",
        "        r=w+1\n",
        "        w=r\n",
        "    else:\n",
        "      r=w+1\n",
        "      w=r\n",
        "  return bolnum\n",
        "\n",
        "  # Y ahora, la funcion mencionada; el detector de primos!\n",
        "\n",
        "def primo(n):   #Solo debe ingresar el numero que quiera estudiar\n",
        "  x=bolprimos(n)\n",
        "  x[1]=False\n",
        "  return x[n]          #y le dira si es primo(True) o no (False) Asi puede verificar con mayor eficacia y facilidad!"
      ],
      "metadata": {
        "id": "jRZmeBrypV1r"
      },
      "execution_count": null,
      "outputs": []
    },
    {
      "cell_type": "code",
      "source": [
        "primo(97)"
      ],
      "metadata": {
        "colab": {
          "base_uri": "https://localhost:8080/"
        },
        "id": "zRAyudilqT68",
        "outputId": "6a1e4b76-37bd-4daf-8a08-5fc09c0d5142"
      },
      "execution_count": null,
      "outputs": [
        {
          "output_type": "execute_result",
          "data": {
            "text/plain": [
              "True"
            ]
          },
          "metadata": {},
          "execution_count": 12
        }
      ]
    },
    {
      "cell_type": "markdown",
      "source": [
        "## Problema 2: Aproximación de π usando la serie de Leibniz\n",
        "\n",
        "La serie de Leibniz es una forma sencilla de aproximar el valor de π:\n",
        "\n",
        "$$\n",
        "\\pi \\approx 4 \\sum_{n=0}^{N} \\frac{(-1)^n}{2n + 1}\n",
        "$$\n",
        "\n",
        "Implementa una función que realice este calculo y muestra la aproximación para distintos valores de $N$ (por ejemplo: 10, 100, 1000, 10000)."
      ],
      "metadata": {
        "id": "WzI-FhIWf2iJ"
      }
    },
    {
      "cell_type": "code",
      "source": [
        "def leibniz(n):          #Todo hay que decirlo, no tiene mucha ciencia... son solo... cuenticas!\n",
        "  l=0\n",
        "  for i in range(0,n+1):\n",
        "    l=l+((-1)**i)/(2*i+1)\n",
        "  return 4*l\n",
        "\n",
        "print(leibniz(10))\n",
        "print(leibniz(100))\n",
        "print(leibniz(1000))\n",
        "print(leibniz(10000))"
      ],
      "metadata": {
        "id": "DfVwDvrRf7Fz",
        "colab": {
          "base_uri": "https://localhost:8080/"
        },
        "outputId": "9c54b047-89fd-4023-fab0-8dd9f1b422f7"
      },
      "execution_count": null,
      "outputs": [
        {
          "output_type": "stream",
          "name": "stdout",
          "text": [
            "3.232315809405594\n",
            "3.1514934010709914\n",
            "3.1425916543395442\n",
            "3.1416926435905346\n"
          ]
        }
      ]
    },
    {
      "cell_type": "markdown",
      "source": [
        "## Problema 3: Números amigos en un rango dado\n",
        "\n",
        "Dos números naturales $a$ y $b$ se llaman **números amigos** si la suma de los divisores propios (excluyendo el número mismo) de $a$ es igual a $b$, y viceversa.\n",
        "\n",
        "Por ejemplo, 220 y 284 son números amigos porque:\n",
        "- Los divisores propios de 220 son: 1, 2, 4, 5, 10, 11, 20, 22, 44, 55, 110 → suma: 284\n",
        "- Los divisores propios de 284 son: 1, 2, 4, 71, 142 → suma: 220\n",
        "\n",
        "Escribe un programa que encuentre todos los pares de números amigos en un rango dado por el usuario (por ejemplo, entre 1 y 10000)."
      ],
      "metadata": {
        "id": "Z1-gsRbNf7jy"
      }
    },
    {
      "cell_type": "code",
      "source": [
        "#Es nautural que vamos a emplear el modulo! %\n",
        "\n",
        "def sumadiv(n):\n",
        "  if n==1:         #Hacemos un estandar para el 1...\n",
        "    return 0\n",
        "  suma=0\n",
        "  for i in range(1,(n//2)+1):      #Y recorremos con el modulo! (para optimizar, que llegue hasta la mitad! seria el max divisor)\n",
        "    if n%i==0:\n",
        "      suma+=i               #Y guardamos el numero con el cual dividió! (divisores propios)\n",
        "  return suma               #Curiosamente tambien es un detector de primos, pues si es primo, la suma SIEMPRE será 1.\n",
        "\n",
        " # Muy bien! Ya tenemos una funcion que cuenta los divisores propios, empezemos a emparejar!\n",
        "\n",
        "def numamigos(a,b): # a,b son consecuentemente el rango.\n",
        "  if b<a:\n",
        "    return print(\"Rango invalido, revise el orden\")\n",
        "  amigos=[] #Acá guardaremos a nuestros amigos!!!!\n",
        "  for i in range(a,b+1):  #Hay que incluir a b! no?\n",
        "    x=sumadiv(i)\n",
        "    if i==sumadiv(x) and x!=i:  # El funcionamiento es sencillo, a cada numero, le evaluamos su plausible pareja!\n",
        "        amigos.append((x,i))      #Si cumple la condición, bienvenido al club!\n",
        "\n",
        "  for m in range(0,len(amigos),1): #Y ahora, adios repetidos! Sabemos que estos vienen en consecutivo! es decir (a,a,b,b,c,c) etc...\n",
        "    if m<len(amigos):            #Entonces, recorremos los indices con salto 1!\n",
        "      amigos.pop(m)               #Sin embargo, para mantenernos en el rango, nos aseguramos que m<len (pues len no cuenta el 0!)\n",
        "\n",
        "  return amigos           # Damas y caballeros, su contadora de numeros amigos! Profitez-Vous!\n"
      ],
      "metadata": {
        "id": "cQEW-0Nyz-ec"
      },
      "execution_count": null,
      "outputs": []
    },
    {
      "cell_type": "code",
      "source": [
        "numamigos(0,11000)"
      ],
      "metadata": {
        "id": "GeCfJ2rZ0YG6",
        "colab": {
          "base_uri": "https://localhost:8080/"
        },
        "outputId": "df0d776b-70c9-44c3-8b0a-961c0790a4b3"
      },
      "execution_count": null,
      "outputs": [
        {
          "output_type": "execute_result",
          "data": {
            "text/plain": [
              "[(220, 284),\n",
              " (1184, 1210),\n",
              " (2620, 2924),\n",
              " (5020, 5564),\n",
              " (6232, 6368),\n",
              " (10744, 10856)]"
            ]
          },
          "metadata": {},
          "execution_count": 3
        }
      ]
    },
    {
      "cell_type": "markdown",
      "source": [
        "\n",
        "## Problema 4: Contador de frecuencias de letras en una palabra\n",
        "\n",
        "Escribe un programa que lea una palabra ingresada por el usuario y construya un diccionario donde cada clave sea una letra de la palabra, y el valor asociado sea la cantidad de veces que esa letra aparece. Imprime el resultado.\n"
      ],
      "metadata": {
        "id": "ASKmJNuBgHIp"
      }
    },
    {
      "cell_type": "code",
      "source": [
        "print(\"Ingrese una palabra\")\n",
        "x=input() #Aqui el usuario podra escribir su palabra preferida!!\n",
        "d=dict() #Un diccionario vacío... (que conveniente!)\n",
        "y=[] # Aqui guardaremos cada caracter de la palabra seleccionada\n",
        "\n",
        "abc=[\"A\",\"a\",\"B\",\"b\",\"C\",\"c\",\"D\",\"d\",\"E\",\"e\",\"F\",\"f\",\n",
        "     \"G\",\"g\",\"H\",\"h\",\"I\",\"i\",\"J\",\"j\",\"K\",\"k\",\"L\",\"l\",\n",
        "     \"M\",\"m\",\"N\",\"n\",\"Ñ\",\"ñ\",\"O\",\"o\",\"P\",\"p\",\"Q\",\"q\",    #Ni un solo caracter se escapa! No señor!!\n",
        "     \"R\",\"r\",\"S\",\"s\",\"T\",\"t\",\"U\",\"u\",\"V\",\"v\",\"W\",\"w\",\n",
        "     \"Y\",\"y\",\"Z\",\"z\",\"Á\",\"á\",\"É\",\"é\",\"Í\",\"í\",\"Ó\",\"ó\",\n",
        "     \"Ú\",\"ú\"]\n",
        "\n",
        "for i in range(0,len(x)):\n",
        "  for j in abc:\n",
        "    if x[i]==j:       #Creamos los directorios del diccionario, donde sus valores comenzaran por defecto con un valor asociado a 0\n",
        "      y.append(j)     # y en esta lista almacenaremos los caracteres para ver sus repeticiones!!!\n",
        "      d[j]=0\n",
        "\n",
        "for k in y:                              #Y finalmente, hallamos las letras repetidas y las sumamos al contador.\n",
        "    d[k]=d[k]+1           #Con la sintaxis d[directorio]=valor. donde k es el directorio, y d[k] es el valor!\n",
        "                         # de este modo, siempre añadiremos un valor cuando la letra re-aparezca, pues le corresponde el mismo directorio!\n",
        "\n",
        "print(d)              # & voilà damas y caballeros, su maravilloso y esperado cuenta-letras!"
      ],
      "metadata": {
        "id": "klMGSddPgUQ5",
        "colab": {
          "base_uri": "https://localhost:8080/"
        },
        "outputId": "c35c6eee-af5a-432b-93bf-749d9a033d0c"
      },
      "execution_count": null,
      "outputs": [
        {
          "output_type": "stream",
          "name": "stdout",
          "text": [
            "Ingrese una palabra\n",
            "cocodrilo\n",
            "{'c': 2, 'o': 3, 'd': 1, 'r': 1, 'i': 1, 'l': 1}\n"
          ]
        }
      ]
    }
  ]
}