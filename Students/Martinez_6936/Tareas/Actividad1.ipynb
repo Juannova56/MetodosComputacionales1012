{
  "nbformat": 4,
  "nbformat_minor": 0,
  "metadata": {
    "colab": {
      "provenance": []
    },
    "kernelspec": {
      "name": "python3",
      "display_name": "Python 3"
    },
    "language_info": {
      "name": "python"
    }
  },
  "cells": [
    {
      "cell_type": "markdown",
      "source": [
        "Criba erastótenes"
      ],
      "metadata": {
        "id": "8LkDIDUn9tSC"
      }
    },
    {
      "cell_type": "code",
      "source": [
        "def criba_eratostenes(n):\n",
        "  criba = [True] * (n + 1)\n",
        "  i = 2\n",
        "  while i ** 2 <= n:\n",
        "    if criba[i]:\n",
        "      j = 2\n",
        "      while i*j <= n:\n",
        "        criba[i*j] = False\n",
        "        j += 1\n",
        "    i += 1\n",
        "  primos = []\n",
        "  i = 2\n",
        "  while i <= n:\n",
        "    if criba[i]:\n",
        "      primos.append(i)\n",
        "    i += 1\n",
        "  return primos\n",
        "n = 50\n",
        "print(criba_eratostenes(n))\n"
      ],
      "metadata": {
        "colab": {
          "base_uri": "https://localhost:8080/"
        },
        "id": "1pCNhMC592B-",
        "outputId": "bc7d6df7-70c4-4449-a39c-205cd9ba0be0"
      },
      "execution_count": null,
      "outputs": [
        {
          "output_type": "stream",
          "name": "stdout",
          "text": [
            "[2, 3, 5, 7, 11, 13, 17, 19, 23, 29, 31, 37, 41, 43, 47]\n"
          ]
        }
      ]
    },
    {
      "cell_type": "markdown",
      "source": [
        "Aproximación de pi"
      ],
      "metadata": {
        "id": "cUKfnMTFGr8M"
      }
    },
    {
      "cell_type": "code",
      "execution_count": null,
      "metadata": {
        "colab": {
          "base_uri": "https://localhost:8080/"
        },
        "id": "MqEFzPU1AWab",
        "outputId": "10c65656-b0cc-4607-f2ca-d55de0c9bbed"
      },
      "outputs": [
        {
          "name": "stdout",
          "output_type": "stream",
          "text": [
            "Ingrese el numero de términos: 1000000\n",
            "3.1415916535897743\n"
          ]
        }
      ],
      "source": [
        "def aprox_pi(n):\n",
        "  suma= 0\n",
        "  for i in range(n):\n",
        "    suma += ((-1)**(i))/(2*i+1)\n",
        "  return 4*suma\n",
        "n= int(input(\"Ingrese el numero de términos: \"))\n",
        "print(aprox_pi(n))"
      ]
    },
    {
      "cell_type": "markdown",
      "source": [
        "Números amigos"
      ],
      "metadata": {
        "id": "wThkd2pmRi0d"
      }
    },
    {
      "cell_type": "code",
      "execution_count": null,
      "metadata": {
        "colab": {
          "base_uri": "https://localhost:8080/"
        },
        "id": "5oKrNAr4q01f",
        "outputId": "729074be-10d6-476c-9347-975ff76ef51c"
      },
      "outputs": [
        {
          "name": "stdout",
          "output_type": "stream",
          "text": [
            "número inicial del rango: 1\n",
            "Número final del rango: 100\n"
          ]
        }
      ],
      "source": [
        "def suma_divisores_propios(n):\n",
        "    suma = 0\n",
        "    for i in range(1, n):\n",
        "        if n % i == 0:\n",
        "            suma += i\n",
        "    return suma\n",
        "\n",
        "def encontrar_numeros_amigos(inicio, fin):\n",
        "    for a in range(inicio, fin + 1):\n",
        "        b = suma_divisores_propios(a)\n",
        "        if b > a and b <= fin:\n",
        "            if suma_divisores_propios(b) == a:\n",
        "                print(f\"{a} y {b} son números amigos\")\n",
        "\n",
        "inicio = int(input(\"número inicial del rango: \"))\n",
        "fin = int(input(\"Número final del rango: \"))\n",
        "\n",
        "encontrar_numeros_amigos(inicio, fin)\n"
      ]
    },
    {
      "cell_type": "markdown",
      "source": [
        "Frecuencia de letras"
      ],
      "metadata": {
        "id": "sn3l1tgrRmwN"
      }
    },
    {
      "cell_type": "code",
      "execution_count": null,
      "metadata": {
        "colab": {
          "base_uri": "https://localhost:8080/"
        },
        "id": "3h0x77Y_qcXW",
        "outputId": "1707128c-191d-430b-ffc5-a38c8125302f"
      },
      "outputs": [
        {
          "output_type": "stream",
          "name": "stdout",
          "text": [
            "Ingresa una palabra: motedequeso\n",
            "Frecuencia de letras: {'m': 1, 'o': 2, 't': 1, 'e': 3, 'd': 1, 'q': 1, 'u': 1, 's': 1}\n"
          ]
        }
      ],
      "source": [
        "\n",
        "palabra = input(\"Ingresa una palabra: \").lower()\n",
        "frecuencias = {}\n",
        "\n",
        "for i in palabra:\n",
        "    if i in frecuencias:\n",
        "        frecuencias[i] += 1\n",
        "    else:\n",
        "        frecuencias[i] = 1\n",
        "\n",
        "print(\"Frecuencia de letras:\", frecuencias)\n"
      ]
    }
  ]
}