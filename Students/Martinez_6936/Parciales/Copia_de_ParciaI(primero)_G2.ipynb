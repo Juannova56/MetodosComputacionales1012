{
  "nbformat": 4,
  "nbformat_minor": 0,
  "metadata": {
    "colab": {
      "provenance": []
    },
    "kernelspec": {
      "name": "python3",
      "display_name": "Python 3"
    },
    "language_info": {
      "name": "python"
    }
  },
  "cells": [
    {
      "cell_type": "markdown",
      "source": [
        "# Parcial I - Métodos Computacionales\n",
        "\n",
        "**2025-1**\n",
        "\n",
        "---\n",
        "\n",
        "Nombre:\n",
        "\n",
        "Identificación:\n",
        "\n",
        "---\n",
        "\n",
        "* ⚠ Explique su código usando con comentarios,\n",
        "\n",
        "* ❗Todas las funciones deben tener documentación básica,\n",
        "\n",
        "* 🛑 El uso de IA's no está permitido,\n",
        "\n",
        "* ⚛ La interpretación del enunciado hace parte de la evaluación,\n",
        "\n",
        "* ⏲ Este parcial tiene una duración de 2 horas"
      ],
      "metadata": {
        "id": "bcIQtfNJ4sBq"
      }
    },
    {
      "cell_type": "code",
      "source": [
        "# Librerias útiles\n",
        "import numpy as np\n",
        "import matplotlib.pyplot as plt\n",
        "import pandas as pd\n",
        "from math import factorial\n",
        "from scipy.optimize import root_scalar, newton, bisect # Funciones para raices\n",
        "\n",
        "## Ayudas\n",
        "# np.sign (Signo de una variable)\n",
        "# np.deg2rad (Convertir grados a radianes)\n",
        "# pd.Dataframe Genera un dataframe a partir de un diccionario o listas\n",
        "# range(0, 10, 2) (Pasos de 2 comenzando en 0 hasta 10)"
      ],
      "metadata": {
        "id": "-86TwvuE48Kp"
      },
      "execution_count": 24,
      "outputs": []
    },
    {
      "cell_type": "markdown",
      "source": [
        "# 1\n",
        "\n",
        "**(40 puntos)** El **método de Ridder** es un algoritmo de búsqueda de raíces que, como la bisección, requiere un intervalo $[a, b]$ tal que $f(a) \\cdot f(b) < 0$. A diferencia de la bisección, Ridder introduce una corrección exponencial para acelerar la convergencia, logrando **convergencia cuadrática** sin requerir derivadas.\n",
        "\n",
        "---\n",
        "### Pasos para implementar\n",
        "\n",
        "1. **Definir la función** $f(x)$ y un intervalo $[a, b]$ tal que:\n",
        "\n",
        "   - $f(a) \\cdot f(b) < 0$ (la función tiene signos opuestos en los extremos del intervalo).\n",
        "   - La función debe ser continua en $[a, b]$.\n",
        "\n",
        "2. **Calcular el punto medio**:\n",
        "\n",
        "   $$\n",
        "   m = \\frac{a + b}{2}\n",
        "   $$\n",
        "\n",
        "3. **Calcular la corrección exponencial**:\n",
        "\n",
        "   - Evaluar $f(a)$, $f(b)$ y $f(m)$.\n",
        "   - Calcular:\n",
        "\n",
        "     $$\n",
        "     s = \\sqrt{f(m)^2 - f(a) f(b)}\n",
        "     $$\n",
        "\n",
        "   - Si $s = 0$, detener: la raíz no puede estimarse en esta iteración.\n",
        "\n",
        "   - Calcular el nuevo candidato a raíz:\n",
        "\n",
        "     $$\n",
        "     x = m + \\frac{(m - a) f(m)}{s} \\cdot \\text{sign}(f(a) - f(b))\n",
        "     $$\n",
        "\n",
        "4. **Evaluar $f(x)$** y actualizar el intervalo:\n",
        "\n",
        "   - Si $f(m) \\cdot f(x) < 0$, entonces la nueva raíz está entre $m$ y $x$.\n",
        "   - Si $f(a) \\cdot f(x) < 0$, entonces actualizar $b = x$, luego $f(b) = f(x)$.\n",
        "   - Si $f(b) \\cdot f(x) < 0$, entonces actualizar $a = x$, luego $f(a) = f(x)$.\n",
        "   - En cada paso mantener la condición $f(a) \\cdot f(b) < 0$.\n",
        "\n",
        "5. **Criterio de parada**:\n",
        "\n",
        "   - Repetir los pasos anteriores hasta que se alcance la tolerancia deseada:\n",
        "\n",
        "     $$\n",
        "     |f(x)| < \\varepsilon \\quad \\text{o} \\quad |b - a| < \\delta\n",
        "     $$\n",
        "\n",
        "   donde $\\varepsilon$ y $\\delta$ son tolerancias establecidas por el usuario.\n",
        "\n",
        "---\n",
        "\n",
        "* Defina una función llamada `Ridder` que calcule la raiz de una función dada. Su función debe tener documentación y retornar el valor de la raiz junto con el número de iteraciones empleadas para alcanzar la convergencia dada una tolerancia.\n",
        "\n",
        "* Usando\n",
        "$$\\cos(x) = x,$$\n",
        "\n",
        "Grafique la función para $0\\leq x \\leq \\pi/2$ usando 100 puntos. Luego, cree un DataFrame con los datos de $x$ y $f(x)$, y encuentre una primera aproximación a la raiz aplicando un filtro en el dataframe con los valores más cercanos a cero.\n",
        "\n",
        "* Usando el método de Ridder encuentre la raiz númericamente y compare su resultado usando el método de bisección y secante.\n",
        "\n",
        "* Para las siguientes tolerancias (ver código) realice un gráfico usando escala logaritimica en $y$ de cuantas iteraciones son necesarias hasta alcanzar la convergencia. ¿Qué puede concluir acerca de la misma?\n",
        "\n",
        "```python\n",
        "# Tolerancias\n",
        "tol = np.logspace(-1, -20, 20)\n",
        "\n",
        "# Grafico semilog\n",
        "\n",
        "plt.semilogy(N, tol)\n",
        "\n",
        "```"
      ],
      "metadata": {
        "id": "rNIchL-H5ZII"
      }
    },
    {
      "cell_type": "code",
      "source": [
        "from types import LambdaType\n",
        "from re import A\n",
        "# Aquí va su código\n",
        "#definir función ridder\n",
        "import numpy as np\n",
        "import matplotlib.pyplot as plt\n",
        "\n",
        "def ridder(f,a,b,tol, max_iter):\n",
        "  a = f(a)\n",
        "  b = f(b)\n",
        "  n = 0\n",
        "  while abs(a-b) > tol and n < max_iter and f(a)*f(b) < 0:\n",
        "    n += 1\n",
        "    m = (a+b)/2\n",
        "    s = np.sqrt((f(m))**2 - (f(a)*f(b)))\n",
        "    if s == 0:\n",
        "      return('f raiz no puede estimarse en la iteración:', n)\n",
        "    x = m + ((((m-a)*f(m))/s)*np.sign(f(a)-f(b)))\n",
        "    if f(m)*f(x) < 0:\n",
        "      a = m\n",
        "      b = x\n",
        "    if f(a)*f(x) < 0:\n",
        "      b = x\n",
        "      a = a\n",
        "    if f(b)*f(x) < 0:\n",
        "      a = x\n",
        "      b = b\n",
        "  return m,n\n",
        "#Graficar coseno(x) -(x)\n",
        "x = np.linspace(0, np.pi/2,100)\n",
        "f = lambda x: np.cos(x) - (x)\n",
        "df = pd.DataFrame({'x': x, 'f(x)': f(x)})\n",
        "df.plot(x= 'x', y = 'f(x)')\n",
        "plt.show()\n",
        "# encontrar la raiz con el método de ridder\n",
        "\n",
        "def riddercos(a,b,tol, max_iter):\n",
        "  n = 0\n",
        "  a = 0\n",
        "  b = np.pi/2\n",
        "\n",
        "  while abs(a-b) > tol and n < max_iter and (np.cos(a)-np.cos(b)-b) < 0:\n",
        "    n += 1\n",
        "    m = (a+b)/2\n",
        "    s = np.sqrt((np.cos(m)-m)**2 - ((np.cos(a) - a) - (np.cos(b)-b)))\n",
        "    if s == 0:\n",
        "      return('f raiz no puede estimarse en la iteración:', n)\n",
        "    x = m + ((((m-a)*(np.cos(m)- m))/s)*np.sign((np.cos(a)-a)-(np.cos(b)-b)))\n",
        "    if (np.cos(m)- m) * (np.cos(x)-x) < 0:\n",
        "      a = m\n",
        "      b = x\n",
        "    if (np.cos(a)-a)*(np.cos(x) -x) < 0:\n",
        "      b = x\n",
        "      a = a\n",
        "    if (np.cos(b)-b)*(np.cos(x)-x) < 0:\n",
        "      a = x\n",
        "      b = b\n",
        "  return m, n\n",
        "  ridder(0, np.pi/2,0.0001, 100)\n",
        "\n",
        ""
      ],
      "metadata": {
        "id": "phBAIpoX7Y9W",
        "colab": {
          "base_uri": "https://localhost:8080/",
          "height": 449
        },
        "collapsed": true,
        "outputId": "38a1de00-57af-45b4-e1c3-cd71000d9239"
      },
      "execution_count": 41,
      "outputs": [
        {
          "output_type": "display_data",
          "data": {
            "text/plain": [
              "<Figure size 640x480 with 1 Axes>"
            ],
            "image/png": "[encoded data removed]"
          },
          "metadata": {}
        }
      ]
    },
    {
      "cell_type": "code",
      "source": [
        "riddercos(0, np.pi/2, 0.1, 100)"
      ],
      "metadata": {
        "colab": {
          "base_uri": "https://localhost:8080/"
        },
        "id": "m80XsJPAx3Ng",
        "outputId": "e368de6b-a121-4cac-ccc2-633101187724"
      },
      "execution_count": 40,
      "outputs": [
        {
          "output_type": "stream",
          "name": "stderr",
          "text": [
            "<ipython-input-38-5c7cb8b916f6>:45: RuntimeWarning: invalid value encountered in sqrt\n",
            "  s = np.sqrt((np.cos(m)-m)**2 - ((np.cos(a) - a) - (np.cos(b)-b)))\n"
          ]
        },
        {
          "output_type": "execute_result",
          "data": {
            "text/plain": [
              "(0.7853981633974483, 100)"
            ]
          },
          "metadata": {},
          "execution_count": 40
        }
      ]
    },
    {
      "cell_type": "markdown",
      "source": [
        "#2\n",
        "\n",
        "**(60 puntos)** En óptica, cuando un rayo de luz atraviesa la interfaz entre dos medios con diferentes índices de refracción, su dirección cambia según la ley de Snell. Para el caso de un prisma triangular, cuando un rayo emerge después de dos refracciones, el ángulo de desviación total $\\delta$ está dado por:\n",
        "\n",
        "$$\\delta(\\theta_i) = \\theta_i + \\arcsin\\left(n\\sin\\left(A - \\arcsin\\left(\\frac{\\sin\\theta_i}{n}\\right)\\right)\\right) - A$$\n",
        "\n",
        "donde $\\theta_i$ es el ángulo de incidencia, $n$ es el índice de refracción del prisma y $A$ es el ángulo del prisma.\n",
        "\n",
        "La derivada de esta función con respecto al ángulo de incidencia $\\theta_i$ es:\n",
        "\n",
        "$$\\frac{d\\delta}{d\\theta_i} = 1 - \\frac{\\cos\\theta_i \\cdot \\cos(A-\\theta_r)}{\\cos\\theta_r \\cdot \\sqrt{1-n^2\\sin^2(A-\\theta_r)}}$$\n",
        "\n",
        "donde $\\theta_r = \\arcsin\\left(\\frac{\\sin\\theta_i}{n}\\right)$ es el ángulo de refracción en la primera interfaz.\n",
        "\n",
        "Considere un prisma de vidrio crown con $n = 1.52$ y $A = 60°$.\n",
        "\n",
        "### Parte A:\n",
        "* Escriba una función explicita y documentada para $\\frac{d\\delta}{d\\theta_i}$\n",
        "\n",
        "* Realice un gráfico para $\\frac{d\\delta}{d\\theta_i}$ y encuentre el ángulo de incidencia $\\theta_i$ que produce el ángulo de desviación mínimo para $\\theta_i \\in [30°, 80°]$.\n",
        "\n",
        "* Use el método de Newton-Raphson (sin derivada) y el método de la secante para hallar el ángulo de desviación mínimo.\n",
        "\n",
        "\n",
        "### Parte B:\n",
        "* Determine el ángulo crítico $\\theta_c$ para el cual el rayo comienza a experimentar reflexión interna total en la segunda interfaz del prisma. Esta condición ocurre cuando:\n",
        "\n",
        "$$\\sin(A - \\theta_r) = \\frac{1}{n}$$\n",
        "\n",
        "* Resuelva numéricamente la ecuación anterior para encontrar el ángulo de incidencia $\\theta_i$ correspondiente a este ángulo crítico, utilizando el método de la bisección.\n",
        "\n",
        "\n",
        "\n"
      ],
      "metadata": {
        "id": "od2GDFK5-QJC"
      }
    },
    {
      "cell_type": "code",
      "source": [],
      "metadata": {
        "id": "hkHRzyB9-mSS",
        "colab": {
          "base_uri": "https://localhost:8080/"
        },
        "outputId": "ab7be7e4-3945-486d-b9d4-e8ba40fc4ef9"
      },
      "execution_count": 14,
      "outputs": [
        {
          "output_type": "stream",
          "name": "stdout",
          "text": [
            "Object `lambda` not found.\n"
          ]
        }
      ]
    }
  ]
}