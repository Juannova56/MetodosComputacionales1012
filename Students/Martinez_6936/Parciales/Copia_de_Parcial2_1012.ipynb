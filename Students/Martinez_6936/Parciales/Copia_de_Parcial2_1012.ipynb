{
  "nbformat": 4,
  "nbformat_minor": 0,
  "metadata": {
    "colab": {
      "provenance": []
    },
    "kernelspec": {
      "name": "python3",
      "display_name": "Python 3"
    },
    "language_info": {
      "name": "python"
    }
  },
  "cells": [
    {
      "cell_type": "code",
      "execution_count": 1,
      "metadata": {
        "id": "7Y1lCE6sq6dB"
      },
      "outputs": [],
      "source": [
        "import numpy as np # Númerica\n",
        "import matplotlib.pyplot as plt # Gráficas\n",
        "from scipy.interpolate import CubicSpline, lagrange, interp1d # Interpolación\n",
        "from scipy.integrate import quad, dblquad, tplquad, trapezoid, simpson # Integración\n",
        "import sympy as sp # Símbolos"
      ]
    },
    {
      "cell_type": "markdown",
      "source": [
        "# ⚠ Importante\n",
        "\n",
        "👁 Puede usar unicamente las librerias vistas en clase (estas están en la parte superior) en caso de agregar una nueva, debe justificarla.\n",
        "\n",
        "💀 No está permitido el uso de IA's en caso de hacerlo su parcial será **anulado**!\n",
        "\n",
        "❗ Comente su código y funciones, esto hace parte de la nota.\n",
        "\n",
        "✅ Responda ordenadamente y con claridad.\n",
        "\n",
        "\n",
        "### Nombre: ___Eylen Adriana Martínez Medrano"
      ],
      "metadata": {
        "id": "ejroOZ4F4qg3"
      }
    },
    {
      "cell_type": "markdown",
      "source": [
        "# 1\n",
        "\n",
        "**(30 puntos)** Sea la función $f(x) = 3^x$,\n",
        "\n",
        "---\n",
        "\n",
        "a. Defina una función llamada derivada (ver abajo) que encuentre el valor de la derivada en $x=2$ usando diferencias finitas centrales,\n",
        "\n",
        "$$\n",
        "f'(x) ≈ \\frac{f(x+h) - f(x-h)}{2h}\n",
        "$$\n",
        "\n",
        "con una tolerancia menor a $10^{-8}$ y que retorne el valor de $f'(x=2)$ para cada valor de $h$. Tome con $h$ inicial 0.1.\n",
        "\n",
        "---\n",
        "\n",
        "b. Realice un gráfico logaritmico del error absoluto asociado a $f'(x)$ en función de $h$, conociendo que\n",
        "\n",
        "$$\n",
        "\\frac{d}{dx}(b^x) = b^x\\ln b\n",
        "$$\n",
        "\n",
        "\n",
        "\n",
        "\n",
        "\n",
        "```python\n",
        "def derivada(f,x, tol = 1e-8):\n",
        "'''\n",
        "Recuerde hacer su documentación\n",
        "'''\n",
        "\n",
        "  return valor_derivada, h_valores\n",
        "```\n",
        "\n"
      ],
      "metadata": {
        "id": "wNcvYgSvMr0P"
      }
    },
    {
      "cell_type": "code",
      "source": [
        " # Aquí va su código\n",
        "\n",
        "f = lambda x: 3**x\n",
        "valores_h= []\n",
        "valores_h.append(0.1)\n",
        "def derivada(x):\n",
        "    h = 0.1\n",
        "    nuevo = (f(x + h) - f(x-h))/(2*h)\n",
        "    anterior = 0\n",
        "    while abs(anterior - nuevo) < 1e-8:\n",
        "         h = h/2\n",
        "         valores_h.append(h)\n",
        "         anterior = (f(x + h) - f(x-h))/(2*h)\n",
        "         nuevo = anterior\n",
        "    return derivada,valores_h\n",
        "\n",
        "#b\n",
        "#NO es mucho pero es trabajo honesto :("
      ],
      "metadata": {
        "id": "fifYPyLU2mSN",
        "colab": {
          "base_uri": "https://localhost:8080/"
        },
        "outputId": "616479a6-3dc1-45e2-8f2e-36ddc12b97e3"
      },
      "execution_count": 21,
      "outputs": [
        {
          "output_type": "execute_result",
          "data": {
            "text/plain": [
              "(<function __main__.derivada(x)>, [0.1])"
            ]
          },
          "metadata": {},
          "execution_count": 21
        }
      ]
    },
    {
      "cell_type": "code",
      "source": [],
      "metadata": {
        "id": "u0c460PP2hKh"
      },
      "execution_count": null,
      "outputs": []
    },
    {
      "cell_type": "markdown",
      "source": [
        "## 2\n",
        "\n",
        "**(40 puntos)** Considere un fluido viscoso que fluye en régimen laminar a través de una tubería cilíndrica horizontal de radio $R = 1.0\\ \\text{cm}$. Se ha medido experimentalmente la velocidad axial del fluido en distintos radios desde el centro de la tubería ($r = 0$) hasta la pared ($r = R$). Los datos obtenidos son:\n",
        "\n",
        "| $r$ (cm) | $v(r)$ (cm/s) |\n",
        "|----------|---------------|\n",
        "| 0.0      | 2.00          |\n",
        "| 0.2      | 1.92          |\n",
        "| 0.4      | 1.68          |\n",
        "| 0.6      | 1.28          |\n",
        "| 0.8      | 0.72          |\n",
        "| 1.0      | 0.00          |\n",
        "\n",
        "Con base en estos datos responda:\n",
        "\n",
        "---\n",
        "\n",
        "**a.** Encuentre una expresión para el polinomio interpolador de **Lagrange** para $v(r)$.\n",
        "\n",
        "---\n",
        "\n",
        "**b.** Usando las funciones obtenidas por **Lagrange** y **CubicSpline**, haga un gráfico donde se muestre el comportamiento de ambas interpolaciones, comparándolas con los datos experimentales.\n",
        "\n",
        "---\n",
        "\n",
        "**c.** Calcule la derivada $\\frac{dv}{dr}$, correspondiente al **gradiente de velocidad radial** usando los datos procedentes de la interpolación CubicSpline. Use `np.gradient` con $h = 10^{-4}$.\n",
        "\n",
        "---\n",
        "\n",
        "**d.** Determine el **esfuerzo cortante** en el fluido, dado por:\n",
        "\n",
        "$$\n",
        "\\tau(r) = \\mu \\frac{dv}{dr},\n",
        "$$\n",
        "\n",
        "donde $\\mu = 0.001\\ \\text{Pa}\\cdot\\text{s}$ es la viscosidad dinámica del fluido. Grafique $\\tau(r)$ para $r \\in [0, 1]$.\n",
        "\n",
        "---\n",
        "\n"
      ],
      "metadata": {
        "id": "UmhjjdEyBL7R"
      }
    },
    {
      "cell_type": "code",
      "source": [
        "from scipy.interpolate import lagrange, CubicSpline\n",
        "\n",
        "# Aquí va su código\n",
        "radios = np.array([0.0,0.2,0.4,0.6,0.8,1])\n",
        "velocidad = np.array([2,1.92,1.68,1.28,0.72,0.0])\n",
        "#encuentro el polinomio de lagrange con scipy\n",
        "p_lagrange = lagrange(radios, velocidad)\n",
        "#encuentro el spline cúbico con scipy\n",
        "p_cubico = CubicSpline(radios, velocidad)\n",
        "#genero los puntos en x\n",
        "x = np.linspace(0,1,100)\n",
        "#genero el grafico\n",
        "plt.plot(radios, velocidad, color = 'green')\n",
        "plt.plot(x,p_cubico(x),'+', color = 'red')\n",
        "plt.grid\n",
        "plt.legend\n",
        "plt.show\n",
        "#gradiente\n",
        "gradiente = np.gradient(p_cubico,1)\n",
        "#esfuerzo cortante\n",
        "\n"
      ],
      "metadata": {
        "id": "qBbt3yi322-3",
        "colab": {
          "base_uri": "https://localhost:8080/",
          "height": 606
        },
        "outputId": "842cf826-8cc4-4c97-9325-3a21a1d2a817"
      },
      "execution_count": 63,
      "outputs": [
        {
          "output_type": "error",
          "ename": "TypeError",
          "evalue": "can't multiply sequence by non-int of type 'float'",
          "traceback": [
            "\u001b[0;31m---------------------------------------------------------------------------\u001b[0m",
            "\u001b[0;31mTypeError\u001b[0m                                 Traceback (most recent call last)",
            "\u001b[0;32m/tmp/ipython-input-63-1821678443.py\u001b[0m in \u001b[0;36m<cell line: 0>\u001b[0;34m()\u001b[0m\n\u001b[1;32m     19\u001b[0m \u001b[0mgradiente\u001b[0m \u001b[0;34m=\u001b[0m \u001b[0mnp\u001b[0m\u001b[0;34m.\u001b[0m\u001b[0mgradient\u001b[0m\u001b[0;34m(\u001b[0m\u001b[0mp_cubico\u001b[0m\u001b[0;34m,\u001b[0m\u001b[0;36m10\u001b[0m\u001b[0;34m**\u001b[0m\u001b[0;36m4\u001b[0m\u001b[0;34m)\u001b[0m\u001b[0;34m\u001b[0m\u001b[0;34m\u001b[0m\u001b[0m\n\u001b[1;32m     20\u001b[0m \u001b[0;31m#esfuerzo cortante\u001b[0m\u001b[0;34m\u001b[0m\u001b[0;34m\u001b[0m\u001b[0m\n\u001b[0;32m---> 21\u001b[0;31m \u001b[0mesfuerzo\u001b[0m \u001b[0;34m=\u001b[0m \u001b[0mgradiente\u001b[0m \u001b[0;34m*\u001b[0m \u001b[0;36m0.001\u001b[0m\u001b[0;34m\u001b[0m\u001b[0;34m\u001b[0m\u001b[0m\n\u001b[0m\u001b[1;32m     22\u001b[0m \u001b[0;34m\u001b[0m\u001b[0m\n",
            "\u001b[0;31mTypeError\u001b[0m: can't multiply sequence by non-int of type 'float'"
          ]
        },
        {
          "output_type": "display_data",
          "data": {
            "text/plain": [
              "<Figure size 640x480 with 1 Axes>"
            ],
            "image/png": "[encoded data removed]"
          },
          "metadata": {}
        }
      ]
    },
    {
      "cell_type": "code",
      "source": [
        "plt.legend?\n"
      ],
      "metadata": {
        "id": "XnfamprY8Skz"
      },
      "execution_count": 59,
      "outputs": []
    },
    {
      "cell_type": "markdown",
      "source": [
        "# 3\n",
        "\n",
        "**(30 puntos)** Considere un sólido tetraédrico $R$ delimitado por los planos:\n",
        "\n",
        "- $x = 0$, $y = 0$, $z = 0$,  \n",
        "- y el plano $x + y + z = 1$.\n",
        "\n",
        "Este sólido ocupa una región en el primer octante y está contenido completamente dentro del cubo unidad.\n",
        "\n",
        "La densidad del sólido es variable y está dada por $\\rho(x, y, z) = xyz$ [kg/m³].\n",
        "\n",
        "Considere:\n",
        "\n",
        "\n",
        "$$\n",
        "\\iiint_R f(x,y,z)\\, dV = \\int_0^1 \\int_0^{1-x} \\int_0^{1-x-y} f(x,y,z)\\, dz\\, dy\\, dx\n",
        "$$\n",
        "\n",
        "con\n",
        "\n",
        "$$\n",
        "dV = dz\\,dy\\,dx\n",
        "$$\n",
        "\n",
        "---\n",
        "\n",
        "a. Calcule la **masa total** del sólido:\n",
        "\n",
        "$$\n",
        "m = \\iiint_R \\rho(x, y, z)\\, dV.\n",
        "$$\n",
        "\n",
        "Usando la forma iterativa de `quad`, compare su resultado con `tplquad`.\n",
        "\n",
        "---\n",
        "\n",
        "b. Calcule el **momento de inercia respecto a los ejes $x$ y $z$**, definidos como:\n",
        "\n",
        "$$\n",
        "I_z = \\iiint_R (x^2 + y^2)\\, \\rho(x, y, z)\\, dV.\n",
        "$$\n",
        "\n",
        "$$\n",
        "I_x = \\iiint_R (y^2 + z^2)\\, \\rho(x, y, z)\\, dV.\n",
        "$$\n",
        "\n",
        "Puede usar la forma iterativa de `quad` o `tplquad`.\n",
        "\n",
        "\n",
        "\n"
      ],
      "metadata": {
        "id": "Qu0LchSUBfh4"
      }
    },
    {
      "cell_type": "code",
      "source": [
        "\n",
        "\n",
        "#a\n",
        "def integral_z(y,x):\n",
        "    integrando = lambda z: z*y*x #Defino una función de z porque es la primera variable a integral\n",
        "    res,_ =quad(integrando,0, 1-x-y)\n",
        "    return res #Solo tomo el valor de la integral\n",
        "def integral_y(x):\n",
        "    integrando = lambda y: integral_z(x,y) #Ahora una función de Y que quede en terminos de x\n",
        "    res,_ = quad(integrando,0,1-x)\n",
        "    return res #Solo tomo el valor de la integral\n",
        "integral, error = quad(integral_y, 0,1)\n",
        "print('Resultado de la integral')\n",
        "print(integral,error)\n",
        "f = lambda z,y,x: x*y*z\n",
        "a,b = 0,1\n",
        "g, h = lambda x: 0, lambda x: 1-x\n",
        "r,q = lambda x,y: 0, lambda x,y: 1-x-y\n",
        "tplquad(f,a,b,g,h,r,q)\n",
        "#momento de inercia para x\n",
        "print('Moimento de inercia para x')\n",
        "F = lambda z,y,x: (x**2 + y**2)*(x*y*z)\n",
        "a,b = 0,1\n",
        "g, h = lambda x: 0, lambda x: 1-x\n",
        "r,q = lambda x,y: 0, lambda x,y: 1-x-y\n",
        "print(tplquad(F,a,b,g,h,r,q))\n",
        "#momento de inercia para z\n",
        "print('Moimento de inercia para z')\n",
        "G = lambda z,y,x: (z**2 + y**2)*(x*y*z)\n",
        "a,b = 0,1\n",
        "g, h = lambda x: 0, lambda x: 1-x\n",
        "r,q = lambda x,y: 0, lambda x,y: 1-x-y\n",
        "tplquad(G,a,b,g,h,r,q)"
      ],
      "metadata": {
        "colab": {
          "base_uri": "https://localhost:8080/"
        },
        "id": "PGVDvaILu4_4",
        "outputId": "e242e87e-3515-4786-b2ea-f075017019e9"
      },
      "execution_count": 51,
      "outputs": [
        {
          "output_type": "stream",
          "name": "stdout",
          "text": [
            "Resultado de la integral\n",
            "0.0013888888888888887 1.541976423090495e-17\n",
            "Moimento de inercia para x\n",
            "(0.00029761904761904765, 1.5209675643109918e-17)\n",
            "Moimento de inercia para z\n"
          ]
        },
        {
          "output_type": "execute_result",
          "data": {
            "text/plain": [
              "(0.00029761904761904765, 1.8329816156081302e-17)"
            ]
          },
          "metadata": {},
          "execution_count": 51
        }
      ]
    },
    {
      "cell_type": "code",
      "source": [
        "\n"
      ],
      "metadata": {
        "id": "lk2wDmIbx15I"
      },
      "execution_count": 11,
      "outputs": []
    },
    {
      "cell_type": "code",
      "source": [
        "quad?\n"
      ],
      "metadata": {
        "id": "kqkzRQxjp_Kp"
      },
      "execution_count": 5,
      "outputs": []
    },
    {
      "cell_type": "code",
      "source": [],
      "metadata": {
        "id": "zwgQtqc-qAK4"
      },
      "execution_count": null,
      "outputs": []
    }
  ]
}