{
  "nbformat": 4,
  "nbformat_minor": 0,
  "metadata": {
    "colab": {
      "provenance": []
    },
    "kernelspec": {
      "name": "python3",
      "display_name": "Python 3"
    },
    "language_info": {
      "name": "python"
    }
  },
  "cells": [
    {
      "cell_type": "markdown",
      "source": [
        "# Actividad: Introducción a Python (sin librerías)\n",
        "\n",
        "---"
      ],
      "metadata": {
        "id": "ym3QAv5yfZSO"
      }
    },
    {
      "cell_type": "markdown",
      "source": [
        "## Problema 1: Números primos entre 2 y 50 con la Criba de Eratóstenes\n",
        "\n",
        "La **Criba de Eratóstenes** es un método eficiente para encontrar todos los números primos menores que un número dado. El algoritmo consiste en:\n",
        "\n",
        "1. Crear una lista de valores booleanos para representar los números del 2 al 50, todos inicialmente marcados como verdaderos.\n",
        "2. Comenzando desde el primer número primo (2), eliminar todos sus múltiplos (marcándolos como falsos).\n",
        "3. Repetir el proceso para el siguiente número no eliminado.\n",
        "4. Los números que permanezcan marcados como verdaderos son primos.\n",
        "\n",
        "Usando funciones, implementa este método y muestra en pantalla todos los números primos entre 2 y 50.\n",
        "\n"
      ],
      "metadata": {
        "id": "W0C9oNGXfwDj"
      }
    },
    {
      "cell_type": "code",
      "source": [
        "def criba_eratostenes():\n",
        "    n = 50 # n es el limite superior\n",
        "    primos = [True] * (n + 1) #creamos una lista de valores booleanos\n",
        "    primos[0], primos[1] = False, False #0 y 1 no son primos, los marcamos como falsos\n",
        "\n",
        "    for i in range(2, int(n**0.5) + 1): #iteramos desde 2 hasta la raíz de 50\n",
        "\n",
        "        if primos[i]:  # Si i es primo, marcamos sus múltiplos\n",
        "\n",
        "            for j in range(i * i, n + 1, i): #marcamos los multilpos de i desde i*i hasta n\n",
        "\n",
        "                primos[j] = False\n",
        "\n",
        "    return [i for i in range(2, n + 1) if primos[i]] #regresa los numeros con valor true, es decir, regresa los números que permanecieron como primos\n",
        "\n",
        "print('Números primos entre 2 y 50:')\n",
        "print(criba_eratostenes())"
      ],
      "metadata": {
        "id": "GIk3OsqxfZ50",
        "colab": {
          "base_uri": "https://localhost:8080/",
          "height": 0
        },
        "outputId": "740b64bd-a8c2-42f6-e11e-6aa8bc86037a"
      },
      "execution_count": 6,
      "outputs": [
        {
          "output_type": "stream",
          "name": "stdout",
          "text": [
            "Números primos entre 2 y 50:\n",
            "[2, 3, 5, 7, 11, 13, 17, 19, 23, 29, 31, 37, 41, 43, 47]\n"
          ]
        }
      ]
    },
    {
      "cell_type": "markdown",
      "source": [
        "## Problema 2: Aproximación de π usando la serie de Leibniz\n",
        "\n",
        "La serie de Leibniz es una forma sencilla de aproximar el valor de π:\n",
        "\n",
        "$$\n",
        "\\pi \\approx 4 \\sum_{n=0}^{N} \\frac{(-1)^n}{2n + 1}\n",
        "$$\n",
        "\n",
        "Implementa una función que realice este calculo y muestra la aproximación para distintos valores de $N$ (por ejemplo: 10, 100, 1000, 10000)."
      ],
      "metadata": {
        "id": "WzI-FhIWf2iJ"
      }
    },
    {
      "cell_type": "code",
      "source": [
        "def aproximar_pi(N):\n",
        "    suma = 0 #la sumatoria inicia desde cero\n",
        "    for n in range(N + 1): #iteramos desde n= 0 hasta N]\n",
        "        termino = (-1)**n / (2 * n + 1) #calculamos el término alternante\n",
        "        suma += termino #acumulamos el término a la suma\n",
        "    return 4 * suma #multiplicamos por 4 para aproximar a pi\n",
        "\n",
        "valores_N = [10, 100, 1000, 10000] #establecemos los valores de N para realizar la aproximación\n",
        "\n",
        "for N in valores_N:\n",
        "    pi_aproximado = aproximar_pi(N)\n",
        "    print(f'para N = {N:5},  pi aproximadamente = {pi_aproximado:.5}')"
      ],
      "metadata": {
        "id": "DfVwDvrRf7Fz",
        "colab": {
          "base_uri": "https://localhost:8080/",
          "height": 0
        },
        "outputId": "4e7169db-5189-43f1-ecab-33cf48743d04"
      },
      "execution_count": 7,
      "outputs": [
        {
          "output_type": "stream",
          "name": "stdout",
          "text": [
            "para N =    10,  pi aproximadamente = 3.2323\n",
            "para N =   100,  pi aproximadamente = 3.1515\n",
            "para N =  1000,  pi aproximadamente = 3.1426\n",
            "para N = 10000,  pi aproximadamente = 3.1417\n"
          ]
        }
      ]
    },
    {
      "cell_type": "markdown",
      "source": [
        "## Problema 3: Números amigos en un rango dado\n",
        "\n",
        "Dos números naturales $a$ y $b$ se llaman **números amigos** si la suma de los divisores propios (excluyendo el número mismo) de $a$ es igual a $b$, y viceversa.\n",
        "\n",
        "Por ejemplo, 220 y 284 son números amigos porque:\n",
        "- Los divisores propios de 220 son: 1, 2, 4, 5, 10, 11, 20, 22, 44, 55, 110 → suma: 284\n",
        "- Los divisores propios de 284 son: 1, 2, 4, 71, 142 → suma: 220\n",
        "\n",
        "Escribe un programa que encuentre todos los pares de números amigos en un rango dado por el usuario (por ejemplo, entre 1 y 10000)."
      ],
      "metadata": {
        "id": "Z1-gsRbNf7jy"
      }
    },
    {
      "cell_type": "code",
      "source": [
        "def suma_divisores_propios(n):#calcula la suma de los divisores_propios de un número, excluyendo al propio numero\n",
        "    if n <= 1: #si n es 0 ó 1, regresa cero, estos dos no tienen divisores propios\n",
        "        return 0\n",
        "    suma = 1  #1 es divisor propio para n>1, así iniciamos la suma en 1\n",
        "    i = 2\n",
        "    while i * i <= n: #iteramos hasta la raiz de n\n",
        "        if n % i == 0:\n",
        "            suma += i\n",
        "            otro_divisor = n // i\n",
        "            if otro_divisor != i:  #evitamos sumar dos veces la raíz cuadrada\n",
        "                suma += otro_divisor #sumamos los divisores en pares\n",
        "        i += 1\n",
        "    return suma\n",
        "\n",
        "def encontrar_numeros_amigos(inicio, fin): #busca los pares de ## amigos en un rango\n",
        "    pares = []\n",
        "    for a in range(inicio, fin + 1):\n",
        "        suma_a = suma_divisores_propios(a)\n",
        "        if suma_a > a and suma_a <= fin: #evitamos los numeros duplicados\n",
        "            suma_b = suma_divisores_propios(suma_a)\n",
        "            if suma_b == a:\n",
        "                pares.append((a, suma_a))\n",
        "    return pares\n",
        "\n",
        "inicio = 1\n",
        "fin = 10000\n",
        "\n",
        "pares_amigos = encontrar_numeros_amigos(inicio, fin)\n",
        "\n",
        "if pares_amigos:\n",
        "    print('Pares de números amigos encontrados:')\n",
        "    for par in pares_amigos:\n",
        "        print(f'{par[0]} y {par[1]}')"
      ],
      "metadata": {
        "id": "m87mKCXlgGjN",
        "colab": {
          "base_uri": "https://localhost:8080/",
          "height": 0
        },
        "outputId": "f47d1356-e5b1-4218-cac2-5776e05d0d43"
      },
      "execution_count": 8,
      "outputs": [
        {
          "output_type": "stream",
          "name": "stdout",
          "text": [
            "Pares de números amigos encontrados:\n",
            "220 y 284\n",
            "1184 y 1210\n",
            "2620 y 2924\n",
            "5020 y 5564\n",
            "6232 y 6368\n"
          ]
        }
      ]
    },
    {
      "cell_type": "markdown",
      "source": [
        "\n",
        "## Problema 4: Contador de frecuencias de letras en una palabra\n",
        "\n",
        "Escribe un programa que lea una palabra ingresada por el usuario y construya un diccionario donde cada clave sea una letra de la palabra, y el valor asociado sea la cantidad de veces que esa letra aparece. Imprime el resultado.\n"
      ],
      "metadata": {
        "id": "ASKmJNuBgHIp"
      }
    },
    {
      "cell_type": "code",
      "source": [
        "def contar_frecuencias(palabra):\n",
        "    frecuencias = {} #creamos un diccionario vacio para registrar la frecuencia de las letras de la palabra\n",
        "    for letra in palabra:\n",
        "        if letra in frecuencias:\n",
        "            frecuencias[letra] += 1\n",
        "        else:\n",
        "            frecuencias[letra] = 1\n",
        "    return frecuencias\n",
        "\n",
        "palabra = input('Ingrese una palabra: ')\n",
        "\n",
        "resultado = contar_frecuencias(palabra)\n",
        "print(resultado)"
      ],
      "metadata": {
        "id": "klMGSddPgUQ5",
        "colab": {
          "base_uri": "https://localhost:8080/",
          "height": 0
        },
        "outputId": "f62165fa-da03-4f42-a0f1-de4352cede66"
      },
      "execution_count": 9,
      "outputs": [
        {
          "output_type": "stream",
          "name": "stdout",
          "text": [
            "Ingrese una palabra: aguacatala\n",
            "{'a': 5, 'g': 1, 'u': 1, 'c': 1, 't': 1, 'l': 1}\n"
          ]
        }
      ]
    }
  ]
}