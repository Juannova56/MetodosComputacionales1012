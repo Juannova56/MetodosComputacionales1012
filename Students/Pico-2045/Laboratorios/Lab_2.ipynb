{
  "nbformat": 4,
  "nbformat_minor": 0,
  "metadata": {
    "colab": {
      "provenance": []
    },
    "kernelspec": {
      "name": "python3",
      "display_name": "Python 3"
    },
    "language_info": {
      "name": "python"
    }
  },
  "cells": [
    {
      "cell_type": "code",
      "source": [
        "import math\n",
        "import numpy as np\n",
        "import matplotlib.pyplot as plt\n"
      ],
      "metadata": {
        "id": "fPX2a8ybKjDG"
      },
      "execution_count": null,
      "outputs": []
    },
    {
      "cell_type": "code",
      "source": [
        "#Punto 1\n",
        "def myint(bin_str):\n",
        "    result = 0\n",
        "    for bit in bin_str:\n",
        "        result = result * 2 + int(bit)\n",
        "    return result\n",
        "\n",
        "binario = \"0101000011100001\"\n",
        "print(\"Resultado con myint:\", myint(binario))\n",
        "print(\"Resultado con int:\", int(binario, 2))\n"
      ],
      "metadata": {
        "id": "yXug0Vih0q8z",
        "colab": {
          "base_uri": "https://localhost:8080/"
        },
        "outputId": "dc909408-0ec7-4364-8d9f-d7a648d40297"
      },
      "execution_count": null,
      "outputs": [
        {
          "output_type": "stream",
          "name": "stdout",
          "text": [
            "Resultado con myint: 20705\n",
            "Resultado con int: 20705\n"
          ]
        }
      ]
    },
    {
      "cell_type": "code",
      "source": [
        "#Punto 2\n",
        "def n64(bin_str):\n",
        "    # Verificamos que la cadena tenga exactamente 64 bits\n",
        "    if len(bin_str) != 64:\n",
        "        raise ValueError(\"La cadena debe tener 64 bits\")\n",
        "    # Primer bit: signo (0 = positivo, 1 = negativo)\n",
        "    sign = int(bin_str[0])\n",
        "    # Siguientes 11 bits: exponente (con sesgo de 1023 en IEEE 754 doble precisión)\n",
        "    exponente_bits = bin_str[1:12]\n",
        "    #Últimos 52 bits: mantisa\n",
        "    mantisa_bits = bin_str[12:]\n",
        "    #Conversión del exponente de binario a decimal\n",
        "    #Recorremos cada bit del exponente y calculamos su valor en base 10\n",
        "    exponente = 0\n",
        "    for i in range(len(exponente_bits)):\n",
        "        bit = int(exponente_bits[i])  #Convertimos el carácter '0' o '1' a número entero\n",
        "        potencia = len(exponente_bits) - 1 - i  #Calculamos la potencia de 2 correspondiente\n",
        "        exponente += bit * (2 ** potencia)\n",
        "    # Restamos el 1023 para obtener el exponente real\n",
        "    exponente -= 1023\n",
        "    #Cálculo de la mantisa\n",
        "    # En IEEE 754 la mantisa se normaliza como 1.fracción, así que se inicia con 1.0\n",
        "    mantisa = 1.0\n",
        "    for i, bit in enumerate(mantisa_bits):\n",
        "        # Cada bit de la mantisa representa una fracción binaria 2^-(i+1)\n",
        "        mantisa += int(bit) * 2 ** -(i + 1)\n",
        "    #Cálculo del resultado final\n",
        "    result = mantisa*(2**exponente)\n",
        "    #Si el bit de signo es 1, convertimos el resultado a negativo\n",
        "    if sign == 1:\n",
        "        result = -result\n",
        "    return result\n",
        "\n",
        "binario_64 = \"0100000001011110110000000000000000000000000000000000000000000000\"\n",
        "print(\"Resultado:\", n64(binario_64))\n",
        "\n"
      ],
      "metadata": {
        "id": "D7nCIk1t0q_v",
        "colab": {
          "base_uri": "https://localhost:8080/"
        },
        "outputId": "009d6075-29fd-41dc-d909-9ad79565c176"
      },
      "execution_count": null,
      "outputs": [
        {
          "output_type": "stream",
          "name": "stdout",
          "text": [
            "Resultado: 123.0\n"
          ]
        }
      ]
    },
    {
      "cell_type": "code",
      "source": [],
      "metadata": {
        "id": "t3yVIrjMUTU7"
      },
      "execution_count": null,
      "outputs": []
    },
    {
      "cell_type": "code",
      "source": [
        "#Punto 3\n",
        "import math\n",
        "\n",
        "def tang(x, tol):\n",
        "    term = x\n",
        "    total = term\n",
        "    n = 1  # Contador de términos\n",
        "    while abs(term) > tol:\n",
        "        term = ((-1) ** n) * (x ** (2 * n + 1))/ (2* n + 1)\n",
        "        total += term\n",
        "        n += 1\n",
        "    return total, n\n",
        "# a.)\n",
        "def metodo_basico(tol):\n",
        "    arctan_1, n_total = tang(1, tol)\n",
        "    pi_approx = 4 * arctan_1\n",
        "    error = abs(pi_approx - math.pi)\n",
        "    return pi_approx, error, n_total\n",
        "# b.)\n",
        "def metodo_convergencia(tol):\n",
        "    arc1, n_total1 = tang(1/2, tol)\n",
        "    arc2, n_total2 = tang(1/3, tol)\n",
        "    pi_approx = 4 * (arc1 + arc2)\n",
        "    error = abs(pi_approx - math.pi)\n",
        "    return pi_approx, error, (n_total1 + n_total2)\n",
        "# c.)\n",
        "def metodo_alta_precision(tol):\n",
        "    arc1, n_total1 = tang(1/5, tol)\n",
        "    arc2, n_total2 = tang(1/239, tol)\n",
        "    pi_approx = 4 * (4 * arc1 - arc2)\n",
        "    error = abs(pi_approx - math.pi)\n",
        "    return pi_approx, error, (n_total1 + n_total2)\n",
        "\n",
        "# Definimos las precisiones deseadas\n",
        "toles = [1e-3, 1e-6]\n",
        "for tol in toles:\n",
        "    print(f\"Aproximación de π con error menor a {tol}: \\n\")\n",
        "    # Método básico\n",
        "    pi_a, error_a, n_total_a = metodo_basico(tol)\n",
        "    print(f\"Método básico: π = {pi_a}\\n  Error: {error_a}\\n  Contador: {n_total_a}\")\n",
        "    # Método mejorado\n",
        "    pi_b, error_b, n_total_b = metodo_convergencia(tol)\n",
        "    print(f\"Método convergencia: π = {pi_b}\\n  Error: {error_b}\\n  Contador: {n_total_b}\")\n",
        "    # Método de alta precisión\n",
        "    pi_c, error_c, n_total_c = metodo_alta_precision(tol)\n",
        "    print(f\"Método de alta precisión: π = {pi_c}\\n  Error: {error_c}\\n  Contador: {n_total_c}\")\n"
      ],
      "metadata": {
        "colab": {
          "base_uri": "https://localhost:8080/"
        },
        "id": "glOCrxLtUTZv",
        "outputId": "7b6cdf67-a322-4c23-ecc4-0f29709bd8c6"
      },
      "execution_count": null,
      "outputs": [
        {
          "output_type": "stream",
          "name": "stdout",
          "text": [
            "Aproximación de π con error menor a 0.001: \n",
            "\n",
            "Método básico: π = 3.143588659585789\n",
            "  Error: 0.0019960059959958087\n",
            "  Contador: 501\n",
            "Método convergencia: π = 3.1419799015285124\n",
            "  Error: 0.00038724793871924845\n",
            "  Contador: 8\n",
            "Método de alta precisión: π = 3.1416210293260605\n",
            "  Error: 2.8375736267349794e-05\n",
            "  Contador: 5\n",
            "Aproximación de π con error menor a 1e-06: \n",
            "\n",
            "Método básico: π = 3.1415946535856922\n",
            "  Error: 1.999995899115703e-06\n",
            "  Contador: 500001\n",
            "Método convergencia: π = 3.1415928051045654\n",
            "  Error: 1.5151477228414478e-07\n",
            "  Contador: 15\n",
            "Método de alta precisión: π = 3.141592682405425\n",
            "  Error: 2.8815632102663358e-08\n",
            "  Contador: 7\n"
          ]
        }
      ]
    },
    {
      "cell_type": "code",
      "source": [
        "#Punto 4"
      ],
      "metadata": {
        "id": "Av8g5RxZrh1O"
      },
      "execution_count": 6,
      "outputs": []
    },
    {
      "cell_type": "code",
      "source": [
        "#Punto 5\n",
        "def derivada(f , x , delta):\n",
        "  df = (f(x + delta) - f(x))/delta\n",
        "  return df\n",
        "\n",
        "f = lambda x: x*(x-1)\n",
        "df = derivada(f , 1 , 1e-2)\n",
        "print(f'Delta = 1e-2: {df}')\n",
        "# El 1e-2 es solo un aproximado de 0, entonces en ningun momento será el valor exacto\n",
        "\n",
        "deltas = [1e-6, 1e-8, 1e-10, 1e-12, 1e-14]\n",
        "for delta in deltas:\n",
        "  print(f\"Delta = {delta}: {derivada(f, 1, delta)}\")\n",
        "\n",
        "# Este comportamiento se puede deber debido a que la computadora tiene una presición finita y dismininuirla más allá puede que afecte los resultados"
      ],
      "metadata": {
        "colab": {
          "base_uri": "https://localhost:8080/"
        },
        "id": "HUcaFZM4mxO1",
        "outputId": "88964e2c-03cd-42bd-9218-cfe99e2642b8"
      },
      "execution_count": 5,
      "outputs": [
        {
          "output_type": "stream",
          "name": "stdout",
          "text": [
            "Delta = 1e-2: 1.010000000000001\n",
            "Delta = 1e-06: 1.0000009999177333\n",
            "Delta = 1e-08: 1.0000000039225287\n",
            "Delta = 1e-10: 1.000000082840371\n",
            "Delta = 1e-12: 1.0000889005833413\n",
            "Delta = 1e-14: 0.9992007221626509\n"
          ]
        }
      ]
    }
  ]
}