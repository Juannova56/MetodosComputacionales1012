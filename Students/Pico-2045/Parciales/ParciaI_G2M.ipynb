{
  "nbformat": 4,
  "nbformat_minor": 0,
  "metadata": {
    "colab": {
      "provenance": []
    },
    "kernelspec": {
      "name": "python3",
      "display_name": "Python 3"
    },
    "language_info": {
      "name": "python"
    }
  },
  "cells": [
    {
      "cell_type": "markdown",
      "source": [
        "# Parcial I - Métodos Computacionales\n",
        "\n",
        "**2025-1**\n",
        "\n",
        "---\n",
        "\n",
        "Nombre:\n",
        "\n",
        "Identificación:\n",
        "\n",
        "---\n",
        "\n",
        "* ⚠ Explique su código usando con comentarios,\n",
        "\n",
        "* ❗Todas las funciones deben tener documentación básica,\n",
        "\n",
        "* 🛑 El uso de IA's no está permitido,\n",
        "\n",
        "* ⚛ La interpretación del enunciado hace parte de la evaluación,\n",
        "\n",
        "* ⏲ Este parcial tiene una duración de 2 horas"
      ],
      "metadata": {
        "id": "bcIQtfNJ4sBq"
      }
    },
    {
      "cell_type": "code",
      "source": [
        "# Librerias útiles\n",
        "import numpy as np\n",
        "import matplotlib.pyplot as plt\n",
        "import pandas as pd\n",
        "from math import factorial\n",
        "from scipy.optimize import root_scalar, newton, bisect # Funciones para raices\n",
        "\n",
        "## Ayudas\n",
        "# np.sign (Signo de una variable)\n",
        "# np.deg2rad (Convertir grados a radianes)\n",
        "# pd.Dataframe Genera un dataframe a partir de un diccionario o listas\n",
        "# range(0, 10, 2) (Pasos de 2 comenzando en 0 hasta 10)"
      ],
      "metadata": {
        "id": "-86TwvuE48Kp"
      },
      "execution_count": 1,
      "outputs": []
    },
    {
      "cell_type": "markdown",
      "source": [
        "# 1\n",
        "\n",
        "**(40 puntos)** El **método de Ridder** es un algoritmo de búsqueda de raíces que, como la bisección, requiere un intervalo $[a, b]$ tal que $f(a) \\cdot f(b) < 0$. A diferencia de la bisección, Ridder introduce una corrección exponencial para acelerar la convergencia, logrando **convergencia cuadrática** sin requerir derivadas.\n",
        "\n",
        "---\n",
        "### Pasos para implementar\n",
        "\n",
        "1. **Definir la función** $f(x)$ y un intervalo $[a, b]$ tal que:\n",
        "\n",
        "   - $f(a) \\cdot f(b) < 0$ (la función tiene signos opuestos en los extremos del intervalo).\n",
        "   - La función debe ser continua en $[a, b]$.\n",
        "\n",
        "2. **Calcular el punto medio**:\n",
        "\n",
        "   $$\n",
        "   m = \\frac{a + b}{2}\n",
        "   $$\n",
        "\n",
        "3. **Calcular la corrección exponencial**:\n",
        "\n",
        "   - Evaluar $f(a)$, $f(b)$ y $f(m)$.\n",
        "   - Calcular:\n",
        "\n",
        "     $$\n",
        "     s = \\sqrt{f(m)^2 - f(a) f(b)}\n",
        "     $$\n",
        "\n",
        "   - Si $s = 0$, detener: la raíz no puede estimarse en esta iteración.\n",
        "\n",
        "   - Calcular el nuevo candidato a raíz:\n",
        "\n",
        "     $$\n",
        "     x = m + \\frac{(m - a) f(m)}{s} \\cdot \\text{sign}(f(a) - f(b))\n",
        "     $$\n",
        "\n",
        "4. **Evaluar $f(x)$** y actualizar el intervalo:\n",
        "\n",
        "   - Si $f(m) \\cdot f(x) < 0$, entonces la nueva raíz está entre $m$ y $x$.\n",
        "   - Si $f(a) \\cdot f(x) < 0$, entonces actualizar $b = x$, luego $f(b) = f(x)$.\n",
        "   - Si $f(b) \\cdot f(x) < 0$, entonces actualizar $a = x$, luego $f(a) = f(x)$.\n",
        "   - En cada paso mantener la condición $f(a) \\cdot f(b) < 0$.\n",
        "\n",
        "5. **Criterio de parada**:\n",
        "\n",
        "   - Repetir los pasos anteriores hasta que se alcance la tolerancia deseada:\n",
        "\n",
        "     $$\n",
        "     |f(x)| < \\varepsilon \\quad \\text{o} \\quad |b - a| < \\delta\n",
        "     $$\n",
        "\n",
        "   donde $\\varepsilon$ y $\\delta$ son tolerancias establecidas por el usuario.\n",
        "\n",
        "---\n",
        "\n",
        "* Defina una función llamada `Ridder` que calcule la raiz de una función dada. Su función debe tener documentación y retornar el valor de la raiz junto con el número de iteraciones empleadas para alcanzar la convergencia dada una tolerancia.\n",
        "\n",
        "* Usando\n",
        "$$\\cos(x) = x,$$\n",
        "\n",
        "Grafique la función para $0\\leq x \\leq \\pi/2$ usando 100 puntos. Luego, cree un DataFrame con los datos de $x$ y $f(x)$, y encuentre una primera aproximación a la raiz aplicando un filtro en el dataframe con los valores más cercanos a cero.\n",
        "\n",
        "* Usando el método de Ridder encuentre la raiz númericamente y compare su resultado usando el método de bisección y secante.\n",
        "\n",
        "* Para las siguientes tolerancias (ver código) realice un gráfico usando escala logaritimica en $y$ de cuantas iteraciones son necesarias hasta alcanzar la convergencia. ¿Qué puede concluir acerca de la misma?\n",
        "\n",
        "```python\n",
        "# Tolerancias\n",
        "tol = np.logspace(-1, -20, 20)\n",
        "\n",
        "# Grafico semilog\n",
        "\n",
        "plt.semilogy(N, tol)\n",
        "\n",
        "```"
      ],
      "metadata": {
        "id": "rNIchL-H5ZII"
      }
    },
    {
      "cell_type": "code",
      "source": [
        "# Aquí va su código\n",
        "def f(x):\n",
        "  t = np.cos(x) - x\n",
        "  return t\n",
        "\n",
        "def ridder(f, a, b, n, tol=1e-6):\n",
        "  if f(a)*f(b) > 0:\n",
        "      raise ValueError(print(\"Signo positivo\"))\n",
        "  for i in range(n):\n",
        "      m = (b + a)/2\n",
        "      s = (f(m)**2 - (f(b)*f(a)))**(1/2)\n",
        "      if s == 0:\n",
        "        raise ValueError(print(\"No\"))\n",
        "      x = m + ((m - a)*f(m)/s * np.sign(f(a)-f(b)))\n",
        "      if abs(f(x)) < tol:\n",
        "        return x, i+1\n",
        "\n",
        "      elif f(m)*f(x) < 0:\n",
        "        m, x = a, b\n",
        "      elif f(a)*f(x) < 0:\n",
        "        b = x\n",
        "      elif f(b)*f(x) < 0:\n",
        "        a = x\n",
        "  raise RuntimeError('Noesposible')\n"
      ],
      "metadata": {
        "id": "phBAIpoX7Y9W"
      },
      "execution_count": 2,
      "outputs": []
    },
    {
      "cell_type": "code",
      "source": [
        "ridder(f, 0, np.pi/2, 100)"
      ],
      "metadata": {
        "colab": {
          "base_uri": "https://localhost:8080/",
          "height": 228
        },
        "id": "_2bQEP7Gqpba",
        "outputId": "15f85145-bd49-48f7-9733-81896568c46e"
      },
      "execution_count": 4,
      "outputs": [
        {
          "output_type": "error",
          "ename": "RuntimeError",
          "evalue": "Noesposible",
          "traceback": [
            "\u001b[0;31m---------------------------------------------------------------------------\u001b[0m",
            "\u001b[0;31mRuntimeError\u001b[0m                              Traceback (most recent call last)",
            "\u001b[0;32m<ipython-input-4-c829d4c17df8>\u001b[0m in \u001b[0;36m<cell line: 0>\u001b[0;34m()\u001b[0m\n\u001b[0;32m----> 1\u001b[0;31m \u001b[0mridder\u001b[0m\u001b[0;34m(\u001b[0m\u001b[0mf\u001b[0m\u001b[0;34m,\u001b[0m \u001b[0;36m0\u001b[0m\u001b[0;34m,\u001b[0m \u001b[0mnp\u001b[0m\u001b[0;34m.\u001b[0m\u001b[0mpi\u001b[0m\u001b[0;34m/\u001b[0m\u001b[0;36m2\u001b[0m\u001b[0;34m,\u001b[0m \u001b[0;36m100\u001b[0m\u001b[0;34m)\u001b[0m\u001b[0;34m\u001b[0m\u001b[0;34m\u001b[0m\u001b[0m\n\u001b[0m",
            "\u001b[0;32m<ipython-input-2-965edf6c5707>\u001b[0m in \u001b[0;36mridder\u001b[0;34m(f, a, b, n, tol)\u001b[0m\n\u001b[1;32m     22\u001b[0m       \u001b[0;32melif\u001b[0m \u001b[0mf\u001b[0m\u001b[0;34m(\u001b[0m\u001b[0mb\u001b[0m\u001b[0;34m)\u001b[0m\u001b[0;34m*\u001b[0m\u001b[0mf\u001b[0m\u001b[0;34m(\u001b[0m\u001b[0mx\u001b[0m\u001b[0;34m)\u001b[0m \u001b[0;34m<\u001b[0m \u001b[0;36m0\u001b[0m\u001b[0;34m:\u001b[0m\u001b[0;34m\u001b[0m\u001b[0;34m\u001b[0m\u001b[0m\n\u001b[1;32m     23\u001b[0m         \u001b[0ma\u001b[0m \u001b[0;34m=\u001b[0m \u001b[0mx\u001b[0m\u001b[0;34m\u001b[0m\u001b[0;34m\u001b[0m\u001b[0m\n\u001b[0;32m---> 24\u001b[0;31m   \u001b[0;32mraise\u001b[0m \u001b[0mRuntimeError\u001b[0m\u001b[0;34m(\u001b[0m\u001b[0;34m'Noesposible'\u001b[0m\u001b[0;34m)\u001b[0m\u001b[0;34m\u001b[0m\u001b[0;34m\u001b[0m\u001b[0m\n\u001b[0m",
            "\u001b[0;31mRuntimeError\u001b[0m: Noesposible"
          ]
        }
      ]
    },
    {
      "cell_type": "code",
      "source": [
        "xf = []\n",
        "for i in range(-5, 5):\n",
        "  xf.append(i)\n",
        "\n",
        "x = np.linspace(0, 19)"
      ],
      "metadata": {
        "id": "4MgKkIK0nlBr"
      },
      "execution_count": null,
      "outputs": []
    },
    {
      "cell_type": "code",
      "source": [
        "ridder(-5, 50, 100, 1e-6)\n",
        "plt.plot(xf, np.cos(xf))\n",
        "plt.plot(xf, xf)"
      ],
      "metadata": {
        "id": "K-w0Ji02og_s"
      },
      "execution_count": null,
      "outputs": []
    },
    {
      "cell_type": "markdown",
      "source": [
        "#2\n",
        "\n",
        "**(60 puntos)** En óptica, cuando un rayo de luz atraviesa la interfaz entre dos medios con diferentes índices de refracción, su dirección cambia según la\n",
        "ley de Snell. Para el caso de un prisma triangular, cuando un rayo emerge después de dos refracciones, el ángulo de desviación total $\\delta$ está dado por:\n",
        "\n",
        "$$\\delta(\\theta_i) = \\theta_i + \\arcsin\\left(n\\sin\\left(A - \\arcsin\\left(\\frac{\\sin\\theta_i}{n}\\right)\\right)\\right) - A$$\n",
        "\n",
        "donde $\\theta_i$ es el ángulo de incidencia, $n$ es el índice de refracción del prisma y $A$ es el ángulo del prisma.\n",
        "\n",
        "La derivada de esta función con respecto al ángulo de incidencia $\\theta_i$ es:\n",
        "\n",
        "$$\\frac{d\\delta}{d\\theta_i} = 1 - \\frac{\\cos\\theta_i \\cdot \\cos(A-\\theta_r)}{\\cos\\theta_r \\cdot \\sqrt{1-n^2\\sin^2(A-\\theta_r)}}$$\n",
        "\n",
        "donde $\\theta_r = \\arcsin\\left(\\frac{\\sin\\theta_i}{n}\\right)$ es el ángulo de refracción en la primera interfaz.\n",
        "\n",
        "Considere un prisma de vidrio crown con $n = 1.52$ y $A = 60°$.\n",
        "\n",
        "### Parte A:\n",
        "* Escriba una función explicita y documentada para $\\frac{d\\delta}{d\\theta_i}$\n",
        "\n",
        "* Realice un gráfico para $\\frac{d\\delta}{d\\theta_i}$ y encuentre el ángulo de incidencia $\\theta_i$ que produce el ángulo de desviación mínimo para $\\theta_i \\in [30°, 80°]$.\n",
        "\n",
        "* Use el método de Newton-Raphson (sin derivada) y el método de la secante para hallar el ángulo de desviación mínimo.\n",
        "\n",
        "\n",
        "### Parte B:\n",
        "* Determine el ángulo crítico $\\theta_c$ para el cual el rayo comienza a experimentar reflexión interna total en la segunda interfaz del prisma. Esta condición ocurre cuando:\n",
        "\n",
        "$$\\sin(A - \\theta_r) = \\frac{1}{n}$$\n",
        "\n",
        "* Resuelva numéricamente la ecuación anterior para encontrar el ángulo de incidencia $\\theta_i$ correspondiente a este ángulo crítico, utilizando el método de la bisección.\n",
        "\n",
        "\n",
        "\n"
      ],
      "metadata": {
        "id": "od2GDFK5-QJC"
      }
    },
    {
      "cell_type": "code",
      "source": [
        "# Aquí va su código\n",
        "def dO(oi, A, n):\n",
        "  t = 1 - (np.cos(oi)*np.cos(A - np.asin(np.sin(oi)/n)))/(np.cos(np.asin(np.sin(oi)/n))*(1-(n*np.sin(A - np.asin(np.sin(oi)/n)))))\n",
        "  return t\n",
        "def des(oi, A, n):\n",
        "  t = oi + np.asin( n* np.sin(A - np.asin(np.sin(oi)/n))) - A\n",
        "\n",
        "\"\"\"\n",
        "Para n = 1.52 y A = 60 grados = np.pi/3\n",
        "\"\"\"\n",
        "Oi = np.linspace(np.deg2rad(30), np.deg2rad(80))\n",
        "n = 1.52\n",
        "A = np.pi/3\n",
        "\n",
        "plt.plot(Oi, dO(Oi, A, n))\n",
        "\n",
        "newton(dO(Oi, A, n), np.pi/6, np.pi/2)\n"
      ],
      "metadata": {
        "id": "hkHRzyB9-mSS",
        "colab": {
          "base_uri": "https://localhost:8080/",
          "height": 728
        },
        "outputId": "b1fdbac8-5fb9-4f6d-9d99-c9a3d52da03f"
      },
      "execution_count": 21,
      "outputs": [
        {
          "output_type": "error",
          "ename": "TypeError",
          "evalue": "'numpy.ndarray' object is not callable",
          "traceback": [
            "\u001b[0;31m---------------------------------------------------------------------------\u001b[0m",
            "\u001b[0;31mTypeError\u001b[0m                                 Traceback (most recent call last)",
            "\u001b[0;32m<ipython-input-21-804db5b650d8>\u001b[0m in \u001b[0;36m<cell line: 0>\u001b[0;34m()\u001b[0m\n\u001b[1;32m     15\u001b[0m \u001b[0mplt\u001b[0m\u001b[0;34m.\u001b[0m\u001b[0mplot\u001b[0m\u001b[0;34m(\u001b[0m\u001b[0mOi\u001b[0m\u001b[0;34m,\u001b[0m \u001b[0mdO\u001b[0m\u001b[0;34m(\u001b[0m\u001b[0mOi\u001b[0m\u001b[0;34m,\u001b[0m \u001b[0mA\u001b[0m\u001b[0;34m,\u001b[0m \u001b[0mn\u001b[0m\u001b[0;34m)\u001b[0m\u001b[0;34m)\u001b[0m\u001b[0;34m\u001b[0m\u001b[0;34m\u001b[0m\u001b[0m\n\u001b[1;32m     16\u001b[0m \u001b[0;34m\u001b[0m\u001b[0m\n\u001b[0;32m---> 17\u001b[0;31m \u001b[0mnewton\u001b[0m\u001b[0;34m(\u001b[0m\u001b[0mdO\u001b[0m\u001b[0;34m(\u001b[0m\u001b[0mOi\u001b[0m\u001b[0;34m,\u001b[0m \u001b[0mA\u001b[0m\u001b[0;34m,\u001b[0m \u001b[0mn\u001b[0m\u001b[0;34m)\u001b[0m\u001b[0;34m,\u001b[0m \u001b[0mnp\u001b[0m\u001b[0;34m.\u001b[0m\u001b[0mpi\u001b[0m\u001b[0;34m/\u001b[0m\u001b[0;36m6\u001b[0m\u001b[0;34m,\u001b[0m \u001b[0mnp\u001b[0m\u001b[0;34m.\u001b[0m\u001b[0mpi\u001b[0m\u001b[0;34m/\u001b[0m\u001b[0;36m2\u001b[0m\u001b[0;34m)\u001b[0m\u001b[0;34m\u001b[0m\u001b[0;34m\u001b[0m\u001b[0m\n\u001b[0m",
            "\u001b[0;32m/usr/local/lib/python3.11/dist-packages/scipy/optimize/_zeros_py.py\u001b[0m in \u001b[0;36mnewton\u001b[0;34m(func, x0, fprime, args, tol, maxiter, fprime2, x1, rtol, full_output, disp)\u001b[0m\n\u001b[1;32m    306\u001b[0m         \u001b[0;32mfor\u001b[0m \u001b[0mitr\u001b[0m \u001b[0;32min\u001b[0m \u001b[0mrange\u001b[0m\u001b[0;34m(\u001b[0m\u001b[0mmaxiter\u001b[0m\u001b[0;34m)\u001b[0m\u001b[0;34m:\u001b[0m\u001b[0;34m\u001b[0m\u001b[0;34m\u001b[0m\u001b[0m\n\u001b[1;32m    307\u001b[0m             \u001b[0;31m# first evaluate fval\u001b[0m\u001b[0;34m\u001b[0m\u001b[0;34m\u001b[0m\u001b[0m\n\u001b[0;32m--> 308\u001b[0;31m             \u001b[0mfval\u001b[0m \u001b[0;34m=\u001b[0m \u001b[0mfunc\u001b[0m\u001b[0;34m(\u001b[0m\u001b[0mp0\u001b[0m\u001b[0;34m,\u001b[0m \u001b[0;34m*\u001b[0m\u001b[0margs\u001b[0m\u001b[0;34m)\u001b[0m\u001b[0;34m\u001b[0m\u001b[0;34m\u001b[0m\u001b[0m\n\u001b[0m\u001b[1;32m    309\u001b[0m             \u001b[0mfuncalls\u001b[0m \u001b[0;34m+=\u001b[0m \u001b[0;36m1\u001b[0m\u001b[0;34m\u001b[0m\u001b[0;34m\u001b[0m\u001b[0m\n\u001b[1;32m    310\u001b[0m             \u001b[0;31m# If fval is 0, a root has been found, then terminate\u001b[0m\u001b[0;34m\u001b[0m\u001b[0;34m\u001b[0m\u001b[0m\n",
            "\u001b[0;31mTypeError\u001b[0m: 'numpy.ndarray' object is not callable"
          ]
        },
        {
          "output_type": "display_data",
          "data": {
            "text/plain": [
              "<Figure size 640x480 with 1 Axes>"
            ],
            "image/png": "[encoded data removed]"
          },
          "metadata": {}
        }
      ]
    },
    {
      "cell_type": "code",
      "source": [
        "newton?"
      ],
      "metadata": {
        "id": "LYQ47czL11ho"
      },
      "execution_count": 18,
      "outputs": []
    }
  ]
}