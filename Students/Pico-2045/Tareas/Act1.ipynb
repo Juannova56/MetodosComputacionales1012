{
  "nbformat": 4,
  "nbformat_minor": 0,
  "metadata": {
    "colab": {
      "provenance": []
    },
    "kernelspec": {
      "name": "python3",
      "display_name": "Python 3"
    },
    "language_info": {
      "name": "python"
    }
  },
  "cells": [
    {
      "cell_type": "markdown",
      "source": [
        "# Actividad: Introducción a Python (sin librerías)\n",
        "\n",
        "---"
      ],
      "metadata": {
        "id": "ym3QAv5yfZSO"
      }
    },
    {
      "cell_type": "markdown",
      "source": [
        "## Problema 1: Números primos entre 2 y 50 con la Criba de Eratóstenes\n",
        "\n",
        "La **Criba de Eratóstenes** es un método eficiente para encontrar todos los números primos menores que un número dado. El algoritmo consiste en:\n",
        "\n",
        "1. Crear una lista de valores booleanos para representar los números del 2 al 50, todos inicialmente marcados como verdaderos.\n",
        "2. Comenzando desde el primer número primo (2), eliminar todos sus múltiplos (marcándolos como falsos).\n",
        "3. Repetir el proceso para el siguiente número no eliminado.\n",
        "4. Los números que permanezcan marcados como verdaderos son primos.\n",
        "\n",
        "Usando funciones, implementa este método y muestra en pantalla todos los números primos entre 2 y 50.\n",
        "\n"
      ],
      "metadata": {
        "id": "W0C9oNGXfwDj"
      }
    },
    {
      "cell_type": "code",
      "source": [
        "#Aqui va su código\n",
        "def crib(n):\n",
        "    primos = [True] * (n + 1)\n",
        "    primos[0] = primos[1] = False\n",
        "\n",
        "    for i in range(2, n + 1):\n",
        "        if primos[i]:\n",
        "            for j in range(i * 2, n + 1, i):\n",
        "                primos[j] = False\n",
        "\n",
        "    lista_primos = [] #No es parte del ejercicio, solo para crear lista de primos en base a lo anterior\n",
        "    for i in range(2, n + 1):\n",
        "        if primos[i]:\n",
        "          lista_primos.append(i)\n",
        "\n",
        "    return primos\n",
        "\n",
        "primos_entre_2_y_50 = crib(50)\n",
        "print(\"Números primos entre 2 y 50:\", primos_entre_2_y_50)\n"
      ],
      "metadata": {
        "colab": {
          "base_uri": "https://localhost:8080/"
        },
        "id": "gcBf8N1iWlv9",
        "outputId": "9eba91bf-7549-413a-a962-d19e97d24d6a"
      },
      "execution_count": null,
      "outputs": [
        {
          "output_type": "stream",
          "name": "stdout",
          "text": [
            "Números primos entre 2 y 50: [False, False, True, True, False, True, False, True, False, False, False, True, False, True, False, False, False, True, False, True, False, False, False, True, False, False, False, False, False, True, False, True, False, False, False, False, False, True, False, False, False, True, False, True, False, False, False, True, False, False, False]\n"
          ]
        }
      ]
    },
    {
      "cell_type": "markdown",
      "source": [
        "## Problema 2: Aproximación de π usando la serie de Leibniz\n",
        "\n",
        "La serie de Leibniz es una forma sencilla de aproximar el valor de π:\n",
        "\n",
        "$$\n",
        "\\pi \\approx 4 \\sum_{n=0}^{N} \\frac{(-1)^n}{2n + 1}\n",
        "$$\n",
        "\n",
        "Implementa una función que realice este calculo y muestra la aproximación para distintos valores de $N$ (por ejemplo: 10, 100, 1000, 10000)."
      ],
      "metadata": {
        "id": "WzI-FhIWf2iJ"
      }
    },
    {
      "cell_type": "code",
      "source": [
        "#Aqui va su código\n",
        "def pi(k):\n",
        "  po = 0\n",
        "  for i in range(0, k) :\n",
        "    po = po + ((-1)**i)/((2*i) + 1)\n",
        "\n",
        "  po = po*4\n",
        "  return po\n",
        "\n",
        "\n",
        "a = pi(1000000)\n",
        "a"
      ],
      "metadata": {
        "id": "DfVwDvrRf7Fz",
        "colab": {
          "base_uri": "https://localhost:8080/"
        },
        "outputId": "ed937b3e-99a6-4fee-bde6-7d748cd78474"
      },
      "execution_count": null,
      "outputs": [
        {
          "output_type": "execute_result",
          "data": {
            "text/plain": [
              "3.1415916535897743"
            ]
          },
          "metadata": {},
          "execution_count": 11
        }
      ]
    },
    {
      "cell_type": "markdown",
      "source": [
        "## Problema 3: Números amigos en un rango dado\n",
        "\n",
        "Dos números naturales $a$ y $b$ se llaman **números amigos** si la suma de los divisores propios (excluyendo el número mismo) de $a$ es igual a $b$, y viceversa.\n",
        "\n",
        "Por ejemplo, 220 y 284 son números amigos porque:\n",
        "- Los divisores propios de 220 son: 1, 2, 4, 5, 10, 11, 20, 22, 44, 55, 110 → suma: 284\n",
        "- Los divisores propios de 284 son: 1, 2, 4, 71, 142 → suma: 220\n",
        "\n",
        "Escribe un programa que encuentre todos los pares de números amigos en un rango dado por el usuario (por ejemplo, entre 1 y 10000)."
      ],
      "metadata": {
        "id": "Z1-gsRbNf7jy"
      }
    },
    {
      "cell_type": "code",
      "source": [
        "#Aqui va su código\n",
        "def suma_amigos(n):\n",
        "  suma = 0\n",
        "  if n == 1:\n",
        "    suma = 1\n",
        "    return suma\n",
        "\n",
        "  if n > 1:\n",
        "    for i in range(1, n):\n",
        "      if n % i == 0:\n",
        "        suma = i + suma\n",
        "    return suma\n",
        "\n",
        "\n"
      ],
      "metadata": {
        "id": "m87mKCXlgGjN"
      },
      "execution_count": null,
      "outputs": []
    },
    {
      "cell_type": "code",
      "source": [
        "suma_amigos(220)"
      ],
      "metadata": {
        "colab": {
          "base_uri": "https://localhost:8080/"
        },
        "id": "TcgzwOaM_SL_",
        "outputId": "77f9fef3-398e-4799-89ca-d951e18dd176"
      },
      "execution_count": null,
      "outputs": [
        {
          "output_type": "execute_result",
          "data": {
            "text/plain": [
              "284"
            ]
          },
          "metadata": {},
          "execution_count": 20
        }
      ]
    },
    {
      "cell_type": "code",
      "source": [
        "def encon_amigos(li, ls):\n",
        "  amigrupos_final = []\n",
        "  for k in range(li, ls + 1):\n",
        "    amigrupos = []\n",
        "    p = suma_amigos(k)\n",
        "    if li <= p <= ls and suma_amigos(p) == k and p < k:\n",
        "      amigrupos.append(p)\n",
        "      amigrupos.append(k)\n",
        "      amigrupos_final.append(amigrupos)\n",
        "  return amigrupos_final\n"
      ],
      "metadata": {
        "id": "x9QZtXQ9JdZW"
      },
      "execution_count": null,
      "outputs": []
    },
    {
      "cell_type": "code",
      "source": [
        "li = 1\n",
        "ls = 20000\n",
        "\n",
        "encon_amigos(li, ls)\n"
      ],
      "metadata": {
        "colab": {
          "base_uri": "https://localhost:8080/"
        },
        "id": "hnXwK-pZEBgn",
        "outputId": "2716f847-5bfd-4fea-9f39-474760f65257"
      },
      "execution_count": null,
      "outputs": [
        {
          "output_type": "execute_result",
          "data": {
            "text/plain": [
              "[[220, 284],\n",
              " [1184, 1210],\n",
              " [2620, 2924],\n",
              " [5020, 5564],\n",
              " [6232, 6368],\n",
              " [10744, 10856],\n",
              " [12285, 14595],\n",
              " [17296, 18416]]"
            ]
          },
          "metadata": {},
          "execution_count": 5
        }
      ]
    },
    {
      "cell_type": "markdown",
      "source": [
        "\n",
        "## Problema 4: Contador de frecuencias de letras en una palabra\n",
        "\n",
        "Escribe un programa que lea una palabra ingresada por el usuario y construya un diccionario donde cada clave sea una letra de la palabra, y el valor asociado sea la cantidad de veces que esa letra aparece. Imprime el resultado.\n"
      ],
      "metadata": {
        "id": "ASKmJNuBgHIp"
      }
    },
    {
      "cell_type": "code",
      "source": [
        "#Aqui va su código\n",
        "def cont(palabra):\n",
        "  contador_letras = {}\n",
        "\n",
        "  for letra in palabra:\n",
        "    if letra in contador_letras:\n",
        "        contador_letras[letra] = contador_letras[letra] + 1\n",
        "    else:\n",
        "        contador_letras[letra] = 1\n",
        "  return contador_letras\n",
        "\n",
        "conta = cont(\"aAAAAaaA\")\n",
        "print(\"Conteo de letras:\", conta)\n"
      ],
      "metadata": {
        "id": "klMGSddPgUQ5",
        "colab": {
          "base_uri": "https://localhost:8080/"
        },
        "outputId": "9bd2ad47-728a-4a70-d73f-99badfd0abd9"
      },
      "execution_count": null,
      "outputs": [
        {
          "output_type": "stream",
          "name": "stdout",
          "text": [
            "Conteo de letras: {'a': 3, 'A': 5}\n"
          ]
        }
      ]
    }
  ]
}