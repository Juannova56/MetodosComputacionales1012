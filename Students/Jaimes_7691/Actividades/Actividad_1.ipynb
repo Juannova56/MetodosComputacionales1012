{
 "cells": [
  {
   "cell_type": "markdown",
   "id": "f66545e0",
   "metadata": {},
   "source": [
    "# Actividad 1"
   ]
  },
  {
   "cell_type": "markdown",
   "id": "f14e988f",
   "metadata": {},
   "source": [
    "## Problema 1"
   ]
  },
  {
   "cell_type": "markdown",
   "id": "7375dc53",
   "metadata": {},
   "source": [
    "La Criba de Eratóstenes es un método eficiente para encontrar todos los números primos menores que un número dado. El algoritmo consiste en:\n",
    "\n",
    "    1. Crear una lista de valores booleanos para representar los números del 2 al 50, todos inicialmente marcados como verdaderos.\n",
    "    2. Comenzando desde el primer número primo (2), eliminar todos sus múltiplos (marcándolos como falsos).\n",
    "    3. Repetir el proceso para el siguiente número no eliminado.\n",
    "    4. Los números que permanezcan marcados como verdaderos son primos.\n",
    "Usando funciones, implementa este método y muestra en pantalla todos los números primos entre 2 y 50."
   ]
  },
  {
   "cell_type": "code",
   "execution_count": 5,
   "id": "36cda1fc",
   "metadata": {},
   "outputs": [],
   "source": [
    "def primos_criba(lim_inf, lim_sup):\n",
    "    '''\n",
    "    Criba de Eratostenes para encontrar numeros primos\n",
    "    Entrada: limite inferior, limite superior\n",
    "    Salida: imprime los numeros primos entre los limites\n",
    "    '''\n",
    "    booleanos = [True] * (lim_sup + 1) #Se crea la lista de booleanos\n",
    "    booleanos[0] = booleanos[1] = False #0 y 1 no son primos\n",
    "    for i in range(2, lim_sup + 1):\n",
    "        if booleanos[i] == True:\n",
    "            #Si el número es primo, se marcan sus multiplos como no primos\n",
    "            for j in range(i+1, lim_sup + 1):\n",
    "                if j % i == 0:\n",
    "                    booleanos[j] = False\n",
    "    \n",
    "    print(f'\\nLos numeros primos entre {lim_inf} y {lim_sup} son:\\n')\n",
    "\n",
    "    for i in range(lim_inf, lim_sup +1):\n",
    "        if booleanos[i] == True:\n",
    "            print(i)\n",
    "            # Se imprimen los numeros primos\n"
   ]
  },
  {
   "cell_type": "code",
   "execution_count": 6,
   "id": "35a11ad5",
   "metadata": {},
   "outputs": [
    {
     "name": "stdout",
     "output_type": "stream",
     "text": [
      "\n",
      "Los numeros primos entre 2 y 50 son:\n",
      "\n",
      "2\n",
      "3\n",
      "5\n",
      "7\n",
      "11\n",
      "13\n",
      "17\n",
      "19\n",
      "23\n",
      "29\n",
      "31\n",
      "37\n",
      "41\n",
      "43\n",
      "47\n",
      "\n",
      "Los numeros primos entre 7 y 47 son:\n",
      "\n",
      "7\n",
      "11\n",
      "13\n",
      "17\n",
      "19\n",
      "23\n",
      "29\n",
      "31\n",
      "37\n",
      "41\n",
      "43\n",
      "47\n"
     ]
    }
   ],
   "source": [
    "primos_criba(2, 50)\n",
    "primos_criba(7, 47)"
   ]
  },
  {
   "cell_type": "markdown",
   "id": "ae926cb4",
   "metadata": {},
   "source": [
    "## Problema 2"
   ]
  },
  {
   "cell_type": "markdown",
   "id": "5e9ea88b",
   "metadata": {},
   "source": [
    "La serie de Leibniz es una forma sencilla de aproximar el valor de $\\pi$ :\n",
    "\n",
    "$\n",
    "\\pi≈4\\sum_{n=0}^{N}=\\frac{(−1)^{n}}{2n+1}\n",
    "$\n",
    "\n",
    "Implementa una función que realice este calculo y muestra la aproximación para distintos valores de N (por ejemplo: 10, 100, 1000, 10000)."
   ]
  },
  {
   "cell_type": "code",
   "execution_count": 7,
   "id": "36e290ec",
   "metadata": {},
   "outputs": [],
   "source": [
    "def pi_aprox(n):\n",
    "    '''\n",
    "    Aproximacion de pi con la serie de Leibniz\n",
    "    Entrada: Numero entero positivo. Cuanto mayor sea n mejor sera la aproximacion.\n",
    "    Salida: Numero pi aproximado con la serie de Leibniz\n",
    "    '''\n",
    "    suma_pi = 0 #Definimos la suma de pi\n",
    "    for i in range(n+1):\n",
    "        suma_pi += (-1)**i / (2*i + 1) # Sumamos los terminos de la serie\n",
    "    #Calculamos pi multiplicando la suma por 4\n",
    "    pi = 4 * suma_pi\n",
    "    print('Pi es aproximadamente: ', pi)"
   ]
  },
  {
   "cell_type": "code",
   "execution_count": 9,
   "id": "082df272",
   "metadata": {},
   "outputs": [
    {
     "name": "stdout",
     "output_type": "stream",
     "text": [
      "Pi es aproximadamente:  3.232315809405594\n",
      "Pi es aproximadamente:  3.1514934010709914\n",
      "Pi es aproximadamente:  3.1425916543395442\n",
      "Pi es aproximadamente:  3.1416926435905346\n",
      "Pi es aproximadamente:  3.1415936535887745\n"
     ]
    }
   ],
   "source": [
    "pi_aprox(10)\n",
    "pi_aprox(100)\n",
    "pi_aprox(1000)\n",
    "pi_aprox(10000)\n",
    "pi_aprox(1000000)"
   ]
  },
  {
   "cell_type": "markdown",
   "id": "b95f3196",
   "metadata": {},
   "source": [
    "## Problema 3"
   ]
  },
  {
   "cell_type": "markdown",
   "id": "ae128d14",
   "metadata": {},
   "source": [
    "Dos números naturales a y b se llaman números amigos si la suma de los divisores propios (excluyendo el número mismo) de a es igual a b, y viceversa.\n",
    "\n",
    "    Por ejemplo, 220 y 284 son números amigos porque:\n",
    "\n",
    "    Los divisores propios de 220 son: 1, 2, 4, 5, 10, 11, 20, 22, 44, 55, 110 → suma: 284\n",
    "    Los divisores propios de 284 son: 1, 2, 4, 71, 142 → suma: 220\n",
    "\n",
    "Escribe un programa que encuentre todos los pares de números amigos en un rango dado por el usuario (por ejemplo, entre 1 y 10000)."
   ]
  },
  {
   "cell_type": "code",
   "execution_count": 10,
   "id": "5aa150af",
   "metadata": {},
   "outputs": [],
   "source": [
    "def suma_div_propios(x):\n",
    "    '''\n",
    "    Funcion para calcular la suma de los divisores propios de un numero\n",
    "    Entrada: numero entero positivo\n",
    "    Salida: suma de los divisores propios del numero\n",
    "    '''\n",
    "    suma = 0 #Definimos la suma de los divisores\n",
    "    for i in range(1, x):\n",
    "        if x%i == 0:\n",
    "            suma += i\n",
    "    return suma #Devuelve la suma de los divisores propios"
   ]
  },
  {
   "cell_type": "code",
   "execution_count": null,
   "id": "23332352",
   "metadata": {},
   "outputs": [],
   "source": [
    "def num_amigos(inf,sup):\n",
    "    '''\n",
    "    Encuentra e imprime los pares de numeros amigos en un rango\n",
    "    Entrada: \n",
    "        inf: numero entero, limite inferior del rango\n",
    "        sup: numero entero, limite superior del rango\n",
    "    Salida: imprime los pares de numeros amigos\n",
    "    '''\n",
    "    \n",
    "    print(f'\\nEntre {inf} y {sup} los pares de numeros amigos son:\\n')\n",
    "\n",
    "    for i in range(inf, sup+1): \n",
    "        #Iteramos en el rango dado\n",
    "        a = suma_div_propios(i) \n",
    "        #Calculamos la suma de los divisores propios de i\n",
    "        if a > i: #Comprobamos que a sea mayor que i, asi no se repiten los pares\n",
    "            if suma_div_propios(a) == i:\n",
    "                print(f'{i} y {a} son amigos')"
   ]
  },
  {
   "cell_type": "code",
   "execution_count": 17,
   "id": "596ccae4",
   "metadata": {},
   "outputs": [
    {
     "name": "stdout",
     "output_type": "stream",
     "text": [
      "\n",
      "Entre 1 y 10000 los pares de numeros amigos son:\n",
      "\n",
      "220 y 284 son amigos\n",
      "1184 y 1210 son amigos\n",
      "2620 y 2924 son amigos\n",
      "5020 y 5564 son amigos\n",
      "6232 y 6368 son amigos\n",
      "\n",
      "Entre 500 y 10000 los pares de numeros amigos son:\n",
      "\n",
      "1184 y 1210 son amigos\n",
      "2620 y 2924 son amigos\n",
      "5020 y 5564 son amigos\n",
      "6232 y 6368 son amigos\n"
     ]
    }
   ],
   "source": [
    "num_amigos(1, 10000)\n",
    "num_amigos(500,10000)"
   ]
  },
  {
   "cell_type": "markdown",
   "id": "55d5ece6",
   "metadata": {},
   "source": [
    "## Problema 4"
   ]
  },
  {
   "cell_type": "markdown",
   "id": "921cf069",
   "metadata": {},
   "source": [
    "Problema 4: Contador de frecuencias de letras en una palabra\n",
    "Escribe un programa que lea una palabra ingresada por el usuario y construya un diccionario donde cada clave sea una letra de la palabra, y el valor asociado sea la cantidad de veces que esa letra aparece. Imprime el resultado."
   ]
  },
  {
   "cell_type": "code",
   "execution_count": 24,
   "id": "49b8e433",
   "metadata": {},
   "outputs": [],
   "source": [
    "def contador_letras(texto):\n",
    "    '''\n",
    "    Cuenta el numero de letras en un texto\n",
    "    Entrada: texto (string)\n",
    "    Salida: diccionario con el conteo de letras\n",
    "    '''\n",
    "    if ' ' in texto:\n",
    "        a=0\n",
    "        tx = texto\n",
    "    else:\n",
    "        a=1\n",
    "    \n",
    "    texto = texto.lower().replace(' ', '').replace('.','').replace(',', '') #Convertimos el texto a minusculas y eliminamos espacios\n",
    "    frecuencia = {} #Creamos un diccionario vacio\n",
    "    for letra in texto: #Iteramos cada letra en el texto\n",
    "        if letra in frecuencia:\n",
    "            frecuencia[letra] += 1 #Si la letra ya esta en el diccionario, sumamos 1\n",
    "        else:\n",
    "            frecuencia[letra] = 1 #Si la letra no esta en el diccionario, la añadimos con valor 1\n",
    "    \n",
    "    if a == 0: \n",
    "        print(f'En la frase \\n \"{tx}\" \\nAparecen {len(frecuencia)} letras distintas cada una se repite:\\n', frecuencia)\n",
    "    else:\n",
    "        print(f'En la palabra \\n \"{texto}\" \\nAparecen {len(frecuencia)} letras distintas cada una se repite:\\n', frecuencia)\n"
   ]
  },
  {
   "cell_type": "code",
   "execution_count": 26,
   "id": "e06f9382",
   "metadata": {},
   "outputs": [
    {
     "name": "stdout",
     "output_type": "stream",
     "text": [
      "En la palabra \n",
      " \"banana\" \n",
      "Aparecen 3 letras distintas cada una se repite:\n",
      " {'b': 1, 'a': 3, 'n': 2}\n",
      "En la frase \n",
      " \"En un lugar de la Mancha, de cuyo nombre no quiero acordarme...\" \n",
      "Aparecen 16 letras distintas cada una se repite:\n",
      " {'e': 6, 'n': 5, 'u': 4, 'l': 2, 'g': 1, 'a': 6, 'r': 5, 'd': 3, 'm': 3, 'c': 3, 'h': 1, 'y': 1, 'o': 5, 'b': 1, 'q': 1, 'i': 1}\n"
     ]
    }
   ],
   "source": [
    "contador_letras('Banana')\n",
    "contador_letras('En un lugar de la Mancha, de cuyo nombre no quiero acordarme...')"
   ]
  }
 ],
 "metadata": {
  "kernelspec": {
   "display_name": "Python 3",
   "language": "python",
   "name": "python3"
  },
  "language_info": {
   "codemirror_mode": {
    "name": "ipython",
    "version": 3
   },
   "file_extension": ".py",
   "mimetype": "text/x-python",
   "name": "python",
   "nbconvert_exporter": "python",
   "pygments_lexer": "ipython3",
   "version": "3.13.3"
  }
 },
 "nbformat": 4,
 "nbformat_minor": 5
}
