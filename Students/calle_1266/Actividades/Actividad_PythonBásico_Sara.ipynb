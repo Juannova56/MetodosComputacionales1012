{
  "nbformat": 4,
  "nbformat_minor": 0,
  "metadata": {
    "colab": {
      "provenance": []
    },
    "kernelspec": {
      "name": "python3",
      "display_name": "Python 3"
    },
    "language_info": {
      "name": "python"
    }
  },
  "cells": [
    {
      "cell_type": "markdown",
      "source": [
        "# Actividad: Introducción a Python (sin librerías)\n",
        "\n",
        "---"
      ],
      "metadata": {
        "id": "ym3QAv5yfZSO"
      }
    },
    {
      "cell_type": "markdown",
      "source": [
        "## Problema 1: Números primos entre 2 y 50 con la Criba de Eratóstenes\n",
        "\n",
        "La **Criba de Eratóstenes** es un método eficiente para encontrar todos los números primos menores que un número dado. El algoritmo consiste en:\n",
        "\n",
        "1. Crear una lista de valores booleanos para representar los números del 2 al 50, todos inicialmente marcados como verdaderos.\n",
        "2. Comenzando desde el primer número primo (2), eliminar todos sus múltiplos (marcándolos como falsos).\n",
        "3. Repetir el proceso para el siguiente número no eliminado.\n",
        "4. Los números que permanezcan marcados como verdaderos son primos.\n",
        "\n",
        "Usando funciones, implementa este método y muestra en pantalla todos los números primos entre 2 y 50.\n",
        "\n"
      ],
      "metadata": {
        "id": "W0C9oNGXfwDj"
      }
    },
    {
      "cell_type": "code",
      "source": [
        "def criba_eratostenes(n):\n",
        " primos = []  #creando la lista de booleanos\n",
        " for i in range(n +1): #aqui se comienza desde 0 hasta n\n",
        "  if i < 2:\n",
        "    primos.append(False) #ya que el 0 y 1 no son primos y se pide comenzar desde 2\n",
        "  else:\n",
        "    primos.append(True) #se pide inicialmente marcarlos todos como verdaderos\n",
        " n = 50\n",
        " for i in range(2, n+1):\n",
        "  if primos[i]: #si i es primo\n",
        "     for j in range(i * 2, n + 1, i): #se eliminan los múltiplos de i\n",
        "      primos[j] = False\n",
        "\n",
        " lista_primos = [i for i, es_primo in enumerate(primos) if es_primo] #aca se guardan los primos\n",
        " return lista_primos\n",
        "\n",
        "primos2 = criba_eratostenes(50) #ejecutamos la función para n = 50\n",
        "print(\"Números primos entre 2 y 50:\")\n",
        "print(primos2)"
      ],
      "metadata": {
        "id": "GIk3OsqxfZ50",
        "colab": {
          "base_uri": "https://localhost:8080/"
        },
        "outputId": "bb1d528a-6646-4ba2-a982-97664d4bee47"
      },
      "execution_count": null,
      "outputs": [
        {
          "output_type": "stream",
          "name": "stdout",
          "text": [
            "Números primos entre 2 y 50:\n",
            "[2, 3, 5, 7, 11, 13, 17, 19, 23, 29, 31, 37, 41, 43, 47]\n"
          ]
        }
      ]
    },
    {
      "cell_type": "markdown",
      "source": [
        "## Problema 2: Aproximación de π usando la serie de Leibniz\n",
        "\n",
        "La serie de Leibniz es una forma sencilla de aproximar el valor de π:\n",
        "\n",
        "$$\n",
        "\\pi \\approx 4 \\sum_{n=0}^{N} \\frac{(-1)^n}{2n + 1}\n",
        "$$\n",
        "\n",
        "Implementa una función que realice este calculo y muestra la aproximación para distintos valores de $N$ (por ejemplo: 10, 100, 1000, 10000)."
      ],
      "metadata": {
        "id": "WzI-FhIWf2iJ"
      }
    },
    {
      "cell_type": "code",
      "source": [
        "def aproximacion_de_pi(N):\n",
        "  '''Calcula una aproximación de pi utilizando la serie de Leibniz'''\n",
        "  suma = 0 #para acumular los términos de la serie\n",
        "  for k in range(N):\n",
        "    termino = ((-1)**k)/(2*k + 1) #calcula el término k de la serie\n",
        "    suma += termino #suma el término\n",
        "  return 4 * suma #para completar la fórmula\n",
        "\n",
        "valores_N = [10, 100, 1000, 10000] #lista de prueba para ver la aproximación\n",
        "\n",
        "print(f\"Aproximación de π para N = 10: {aproximacion_de_pi(10)}\")\n",
        "for N in valores_N:\n",
        "  aproximacion = aproximacion_de_pi(N)\n",
        "  print(f\"Aproximación de π para N = {N}: {aproximacion}\")\n",
        "\n"
      ],
      "metadata": {
        "id": "DfVwDvrRf7Fz",
        "colab": {
          "base_uri": "https://localhost:8080/"
        },
        "outputId": "60471cd6-3b98-4039-8d91-f52e9ac02fde"
      },
      "execution_count": null,
      "outputs": [
        {
          "output_type": "stream",
          "name": "stdout",
          "text": [
            "Aproximación de π para N = 10: 3.0418396189294032\n",
            "Aproximación de π para N = 10: 3.0418396189294032\n",
            "Aproximación de π para N = 100: 3.1315929035585537\n",
            "Aproximación de π para N = 1000: 3.140592653839794\n",
            "Aproximación de π para N = 10000: 3.1414926535900345\n"
          ]
        }
      ]
    },
    {
      "cell_type": "markdown",
      "source": [
        "## Problema 3: Números amigos en un rango dado\n",
        "\n",
        "Dos números naturales $a$ y $b$ se llaman **números amigos** si la suma de los divisores propios (excluyendo el número mismo) de $a$ es igual a $b$, y viceversa.\n",
        "\n",
        "Por ejemplo, 220 y 284 son números amigos porque:\n",
        "- Los divisores propios de 220 son: 1, 2, 4, 5, 10, 11, 20, 22, 44, 55, 110 → suma: 284\n",
        "- Los divisores propios de 284 son: 1, 2, 4, 71, 142 → suma: 220\n",
        "\n",
        "Escribe un programa que encuentre todos los pares de números amigos en un rango dado por el usuario (por ejemplo, entre 1 y 10000)."
      ],
      "metadata": {
        "id": "Z1-gsRbNf7jy"
      }
    },
    {
      "cell_type": "code",
      "source": [
        "#Función para calcular la suma de divisores propios de un número\n",
        "def divisores_propios(n):\n",
        "    '''Devuelve la suma de los divisores propios de un número n excepto el mismo'''\n",
        "    suma = 0\n",
        "    for i in range(1, n):  #desde 1 hasta n-1\n",
        "        if n % i == 0:\n",
        "            suma += i\n",
        "    return suma\n",
        "\n",
        "#Función para encontrar pares de números amigos en un rango\n",
        "def encontrar_numeros_amigos(limite_inferior, limite_superior):\n",
        "    '''Muestra todos los pares de números amigos en el rango dado'''\n",
        "    pares_amigos = []  #lista para guardar los pares\n",
        "    for a in range(limite_inferior, limite_superior + 1):\n",
        "        b = divisores_propios(a)\n",
        "        if b > a and b <= limite_superior: #Evita repeticiones y que esten fuera de rango\n",
        "            if divisores_propios(b) == a:\n",
        "                print(f\"Los números {a} y {b} son números amigos.\")\n",
        "                pares_amigos.append((a, b))\n",
        "    return pares_amigos\n",
        "\n",
        "#Pedir el rango al usuario\n",
        "inicio = int(input(\"Ingrese el número de inicio del rango: \"))\n",
        "fin = int(input(\"Ingrese el número final del rango: \"))\n",
        "\n",
        "#Ejecutar la función\n",
        "encontrar_numeros_amigos(inicio, fin)\n"
      ],
      "metadata": {
        "colab": {
          "base_uri": "https://localhost:8080/"
        },
        "id": "XVBrSZVCJz6Y",
        "outputId": "2edc335a-d58d-4bd7-efa9-74d4784f6bb5"
      },
      "execution_count": null,
      "outputs": [
        {
          "output_type": "stream",
          "name": "stdout",
          "text": [
            "Ingrese el número de inicio del rango: 1\n",
            "Ingrese el número final del rango: 1000\n",
            "Los números 220 y 284 son números amigos.\n"
          ]
        },
        {
          "output_type": "execute_result",
          "data": {
            "text/plain": [
              "[(220, 284)]"
            ]
          },
          "metadata": {},
          "execution_count": 35
        }
      ]
    },
    {
      "cell_type": "markdown",
      "source": [
        "\n",
        "## Problema 4: Contador de frecuencias de letras en una palabra\n",
        "\n",
        "Escribe un programa que lea una palabra ingresada por el usuario y construya un diccionario donde cada clave sea una letra de la palabra, y el valor asociado sea la cantidad de veces que esa letra aparece. Imprime el resultado.\n"
      ],
      "metadata": {
        "id": "ASKmJNuBgHIp"
      }
    },
    {
      "cell_type": "code",
      "source": [
        "palabra = input(\"Ingresa una palabra: \") #Pedimos al usuario que ingrese una palabra\n",
        "\n",
        "frecuencias = {} #Creamos un diccionario vacío para guardar las frecuencias\n",
        "\n",
        "for letra in palabra: #Se recorre cada letra de la palabra\n",
        "    if letra in frecuencias: #Verifica si la letra ya está en el diccionario\n",
        "\n",
        "        frecuencias[letra] += 1 #Si ya existe, se aumenta su contador en 1\n",
        "    else:\n",
        "        frecuencias[letra] = 1 #Si no existe, se agrega con un valor inicial de 1\n",
        "\n",
        "print(\"Frecuencia de letras:\") #Muestra el diccionario con las frecuencias\n",
        "for letra, cantidad in frecuencias.items():\n",
        "    print(f\"'{letra}': {cantidad}\")"
      ],
      "metadata": {
        "id": "klMGSddPgUQ5",
        "colab": {
          "base_uri": "https://localhost:8080/"
        },
        "outputId": "b567e6a9-978a-42dc-9094-e6455771adcc"
      },
      "execution_count": null,
      "outputs": [
        {
          "output_type": "stream",
          "name": "stdout",
          "text": [
            "Ingresa una palabra: diccionario\n",
            "Frecuencia de letras:\n",
            "'d': 1\n",
            "'i': 3\n",
            "'c': 2\n",
            "'o': 2\n",
            "'n': 1\n",
            "'a': 1\n",
            "'r': 1\n"
          ]
        }
      ]
    }
  ]
}