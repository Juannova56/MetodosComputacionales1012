{
  "nbformat": 4,
  "nbformat_minor": 0,
  "metadata": {
    "colab": {
      "provenance": []
    },
    "kernelspec": {
      "name": "python3",
      "display_name": "Python 3"
    },
    "language_info": {
      "name": "python"
    }
  },
  "cells": [
    {
      "cell_type": "code",
      "execution_count": 5,
      "metadata": {
        "id": "z7RCty67y3ME"
      },
      "outputs": [],
      "source": [
        "import numpy as np\n",
        "import matplotlib.pyplot as plt\n",
        "import scipy.linalg as la"
      ]
    },
    {
      "cell_type": "markdown",
      "source": [
        "# Actividad 08: Algebra Lineal y Matrices\n",
        "\n",
        "---\n",
        "### Profesor: Juan Marcos Marín\n",
        "### Nombre: Sara Calle Muñoz\n",
        "*Métodos computacionales*\n",
        "\n",
        "---"
      ],
      "metadata": {
        "id": "GGQpGoujzAnQ"
      }
    },
    {
      "cell_type": "markdown",
      "source": [
        "#1\n",
        "Escriba tres matrices aleatorias $A$, $B$ y $C$ de $3\\times 3$, y demuestre las siguientes relaciones\n",
        "\n",
        "- $ \\mathbf{A}\\mathbf{B} \\neq \\mathbf{B}\\mathbf{A} $, en general.\n",
        "- $ (\\mathbf{A}\\mathbf{B})\\mathbf{C} = \\mathbf{A}(\\mathbf{B}\\mathbf{C}) $.\n",
        "- $ \\mathbf{A}(\\mathbf{B} + \\mathbf{C}) = \\mathbf{A}\\mathbf{B} + \\mathbf{A}\\mathbf{C} $.\n",
        "- $ (\\mathbf{A} + \\mathbf{B})\\mathbf{C} = \\mathbf{A}\\mathbf{C} + \\mathbf{B}\\mathbf{C} $.\n",
        "- $ (\\mathbf{A}\\mathbf{B})^\\top = \\mathbf{B}^\\top \\mathbf{A}^\\top $.\n",
        "- $ \\det(\\mathbf{A}\\mathbf{B}) = \\det(\\mathbf{A}) \\det(\\mathbf{B}) $.\n",
        "- $ (\\mathbf{A}^\\top)^\\top = \\mathbf{A} $.\n",
        "- $ (c\\mathbf{A})^\\top = c\\mathbf{A}^\\top $.\n",
        "- $ (\\mathbf{A} + \\mathbf{B})^\\top = \\mathbf{A}^\\top + \\mathbf{B}^\\top $.\n",
        "\n"
      ],
      "metadata": {
        "id": "U9hC1R-F0-iH"
      }
    },
    {
      "cell_type": "code",
      "source": [
        "#generamos las matrices aleatorias 3x3\n",
        "A = np.random.randint(0, 10, size=(3, 3))\n",
        "B = np.random.randint(0, 10, size=(3, 3))\n",
        "C = np.random.randint(0, 10, size=(3, 3))\n",
        "\n",
        "print(\"Matriz A:\\n\", A)\n",
        "print(\"Matriz B:\\n\", B)\n",
        "print(\"Matriz C:\\n\", C)\n",
        "\n",
        "#usamos np.array_equal para comparar si son identicos\n",
        "#1: AB ≠ BA\n",
        "AB = A @ B\n",
        "BA = B @ A\n",
        "\n",
        "if np.array_equal(AB, BA):\n",
        "    print(\"Relación 1: AB = BA\")\n",
        "else:\n",
        "    print(\"Relación 1: AB ≠ BA\")\n",
        "\n",
        "#2: (AB)C = A(BC)\n",
        "AB_C = AB @ C\n",
        "A_BC = A @ (B @ C)\n",
        "\n",
        "if np.array_equal(AB_C, A_BC):\n",
        "    print(\"Relación 2: (AB)C = A(BC)\")\n",
        "else:\n",
        "    print(\"Relación 2: (AB)C ≠ A(BC)\")\n",
        "\n",
        "#3: A(B + C) = AB + AC\n",
        "A_BmasC = A @ (B + C)\n",
        "ABmasAC = AB + A @ C\n",
        "\n",
        "if np.array_equal(A_BmasC, ABmasAC):\n",
        "    print(\"Relación 3: A(B + C) = AB + AC\")\n",
        "else:\n",
        "    print(\"Relación 3: A(B + C) ≠ AB + AC\")\n",
        "\n",
        "#4: (A + B)C = AC + BC\n",
        "AmasB_C = (A + B) @ C\n",
        "ACmasBC = A @ C + B @ C\n",
        "\n",
        "if np.array_equal(AmasB_C, ACmasBC):\n",
        "    print(\"Relación 4: (A + B)C = AC + BC\")\n",
        "else:\n",
        "    print(\"Relación 4: (A + B)C ≠ AC + BC\")\n",
        "\n",
        "#5: (AB)^T = B^T A^T\n",
        "AB_T = AB.T\n",
        "BT_AT = B.T @ A.T\n",
        "\n",
        "if np.array_equal(AB_T, BT_AT):\n",
        "    print(\"Relación 5: (AB)^T = B^T A^T\")\n",
        "else:\n",
        "    print(\"Relación 5: (AB)^T ≠ B^T A^T\")\n",
        "\n",
        "#6: det(AB) = det(A) * det(B)\n",
        "detAB = np.linalg.det(AB)\n",
        "detA = np.linalg.det(A)\n",
        "detB = np.linalg.det(B)\n",
        "\n",
        "if np.isclose(detAB, detA * detB):\n",
        "    print(\"Relación 6: det(AB) = det(A) * det(B)\")\n",
        "else:\n",
        "    print(\"Relación 6: det(AB) ≠ det(A) * det(B)\")\n",
        "\n",
        "#7: (A^T)^T = A\n",
        "if np.array_equal(A.T.T, A):\n",
        "    print(\"Relación 7: (A^T)^T = A\")\n",
        "else:\n",
        "    print(\"Relación 7: (A^T)^T ≠ A\")\n",
        "\n",
        "#8: (cA)^T = c A^T\n",
        "c = np.random.randint(1, 100)\n",
        "cA_T = (c * A).T\n",
        "c_AT = c * A.T\n",
        "if np.array_equal(cA_T, c_AT):\n",
        "    print(f\"Relación 8: ({c}A)^T = {c}(A^T)\")\n",
        "else:\n",
        "    print(f\"Relación 8: ({c}A)^T ≠ {c}(A^T)\")\n",
        "\n",
        "#9: (A + B)^T = A^T + B^T\n",
        "AmasB_T = (A + B).T\n",
        "ATmasBT = A.T + B.T\n",
        "if np.array_equal(AmasB_T, ATmasBT):\n",
        "    print(\"Relación 9: (A + B)^T = A^T + B^T\")\n",
        "else:\n",
        "    print(\"Relación 9: (A + B)^T ≠ A^T + B^T\")\n"
      ],
      "metadata": {
        "id": "cQQ6cPGW1anK",
        "colab": {
          "base_uri": "https://localhost:8080/"
        },
        "outputId": "fc883a7c-4a09-48f9-be8e-770a35f15e45"
      },
      "execution_count": 6,
      "outputs": [
        {
          "output_type": "stream",
          "name": "stdout",
          "text": [
            "Matriz A:\n",
            " [[0 2 6]\n",
            " [8 0 4]\n",
            " [9 5 9]]\n",
            "Matriz B:\n",
            " [[0 8 3]\n",
            " [2 8 4]\n",
            " [6 2 6]]\n",
            "Matriz C:\n",
            " [[0 5 6]\n",
            " [8 8 0]\n",
            " [4 7 4]]\n",
            "Relación 1: AB ≠ BA\n",
            "Relación 2: (AB)C = A(BC)\n",
            "Relación 3: A(B + C) = AB + AC\n",
            "Relación 4: (A + B)C = AC + BC\n",
            "Relación 5: (AB)^T = B^T A^T\n",
            "Relación 6: det(AB) = det(A) * det(B)\n",
            "Relación 7: (A^T)^T = A\n",
            "Relación 8: (53A)^T = 53(A^T)\n",
            "Relación 9: (A + B)^T = A^T + B^T\n"
          ]
        }
      ]
    },
    {
      "cell_type": "markdown",
      "source": [
        "#2\n",
        "\n",
        "El **Teorema de Laplace** es un método para calcular el determinante de una matriz cuadrada, particularmente útil para matrices de orden mayor a 2. Este teorema se basa en la expansión del determinante por los elementos de una fila o una columna cualquiera.\n",
        "\n",
        "\n",
        "\n",
        "$$\n",
        "\\det(A) = \\sum_{j=1}^n (-1)^{1+j} a_{1j} M_{1j}\n",
        "$$\n",
        "\n",
        "donde:\n",
        "- $a_{1j}$ es el elemento de la primera fila y columna $j$.\n",
        "- $M_{1j}$ es el menor asociado al elemento $a_{1j}$, es decir, el determinante de la submatriz de $3 \\times 3$ que se obtiene al eliminar la fila 1 y la columna $j$.\n",
        "- $(-1)^{1+j}$ es el signo correspondiente al cofactor del elemento $a_{1j}$.\n",
        "\n",
        "Podemos realizar una función recursiva para el cálculo del determinante, sabiendo que el valor del determinante de una matriz de orden uno es el único elemento de esa matriz, y el de una matriz de orden superior a uno es la suma de cada uno de los elementos de una fila o columna por los Adjuntos a ese elemento, como en la función recursiva se emplea la misma función definida el cálculo lo haremos por Menor complementario, un ejemplo desarrollado por la primera fila sería:\n",
        "\n",
        "$$\n",
        "   \\det (A_{j,j}) =\n",
        "   \\left \\{\n",
        "   \\begin{array}{llcl}\n",
        "      si & j = 1 & \\to & a_{1,1} \\\\\n",
        "                                 \\\\\n",
        "      si & j > 1 & \\to & \\displaystyle \\sum_{k=1}^j \\; (-1)^{(1+k)} \\cdot a_{1,k} \\cdot \\det( \\alpha_{1,k})\n",
        "   \\end{array}\n",
        "   \\right .\n",
        "$$\n",
        "\n",
        "Realice una función que encuentre el determinante de una matriz usando la recursividad aqui planteada, explique explicitamente su código"
      ],
      "metadata": {
        "id": "ibYf2I9T2pIw"
      }
    },
    {
      "cell_type": "code",
      "source": [
        "def determinante(matriz):\n",
        "    \"\"\"\n",
        "    Calcula el determinante de una matriz cuadrada usando recursividad\n",
        "    y el Teorema de Laplace.\n",
        "    \"\"\"\n",
        "    #para asegurar que es la matriz es cuadrada\n",
        "    if matriz.shape[0] != matriz.shape[1]:\n",
        "        raise ValueError(\"La matriz debe ser cuadrada\")\n",
        "\n",
        "    n = matriz.shape[0]\n",
        "\n",
        "    #caso base: matriz 1x1\n",
        "    if n == 1:\n",
        "        return matriz[0, 0]\n",
        "\n",
        "    #inicializamos el determinante\n",
        "    det = 0\n",
        "\n",
        "    #expansión de Laplace por la primera fila\n",
        "    for j in range(n):\n",
        "        #menor complementario: eliminar la primera fila y columna j\n",
        "        menor = np.delete(np.delete(matriz, 0, axis=0), j, axis=1)\n",
        "\n",
        "        #calculamos el cofactor\n",
        "        cofactor = (-1) ** j * matriz[0, j] * determinante(menor)\n",
        "\n",
        "        #sumar al determinante\n",
        "        det += cofactor\n",
        "\n",
        "    return det"
      ],
      "metadata": {
        "id": "CBUDgZClUMMO"
      },
      "execution_count": 7,
      "outputs": []
    },
    {
      "cell_type": "code",
      "source": [
        "A = np.array([[2, 1, -1],\n",
        "              [4, -2, 4],\n",
        "              [-6, 2, 1]])\n",
        "\n",
        "print(\"Determinante de A:\", determinante(A))"
      ],
      "metadata": {
        "colab": {
          "base_uri": "https://localhost:8080/"
        },
        "id": "3Flxw6VZVEsv",
        "outputId": "70d6dbfb-4a10-4138-8621-f739965c2e57"
      },
      "execution_count": 8,
      "outputs": [
        {
          "output_type": "stream",
          "name": "stdout",
          "text": [
            "Determinante de A: -44\n"
          ]
        }
      ]
    },
    {
      "cell_type": "markdown",
      "source": [
        "#3 Método de Gauss - Seidel\n",
        "\n",
        "Sea \\$A\\in\\mathbb{R}^{n\\times n}\\$ no singular y sea \\$b\\in\\mathbb{R}^n\\$.\n",
        "Descomponga \\$A\\$ como\n",
        "\n",
        "$$\n",
        "A \\;=\\; D \\;+\\; L \\;+\\; U,\n",
        "$$\n",
        "\n",
        "donde\n",
        "\n",
        "* \\$D\\$ es la matriz diagonal de \\$A\\$,\n",
        "* \\$L\\$ es la parte estrictamente triangular inferior,\n",
        "* \\$U\\$ es la parte estrictamente triangular superior.\n",
        "\n",
        "El algoritmo de Gauss - Seidel reorganiza el sistema \\$Ax=b\\$ como\n",
        "\n",
        "$$\n",
        "x \\;=\\; (D+L)^{-1}\\bigl(b \\;-\\; Ux\\bigr),\n",
        "$$\n",
        "\n",
        "y genera la sucesión\n",
        "\n",
        "$$\n",
        "x_i^{(k+1)}\n",
        "= \\frac{1}{a_{ii}}\n",
        "\\Bigl(b_i - \\sum_{j<i} a_{ij}\\,x_j^{(k+1)} - \\sum_{j>i} a_{ij}\\,x_j^{(k)}\\Bigr),\n",
        "\\qquad i=1,\\dots,n.\n",
        "$$\n",
        "\n",
        "Implemente una función `gauss_seidel(A, b, tol=1e-7, max_iter=100)` que:\n",
        "   * Realice las iteraciones hasta que\n",
        "     $\\lVert x^{(k+1)}-x^{(k)}\\rVert_\\infty<\\text{tol}$\n",
        "     o se alcance `max_iter`;\n",
        "   * devuelva el vector solución aproximado \\$x\\$, el número de iteraciones realizadas y la norma del último residuo.\n",
        "\n",
        "Incluya una documentación clara.\n",
        "\n",
        "Luego,\n",
        "\n",
        "   * Genere una matriz aleatoria \\$5\\times5\\$ (por ejemplo, con `np.random.rand`) y un vector \\$b\\$ aleatorio.\n",
        "   * Resuelva \\$Ax=b\\$ con su función; calcule el error relativo frente a `numpy.linalg.solve`.\n",
        "   * Estime igualmente el error respecto a la solución obtenida mediante \\$x=A^{-1}b\\$ (usando `numpy.linalg.inv`).\n",
        "   * Presente las normas de los residuos y los errores relativos."
      ],
      "metadata": {
        "id": "fTSweDGhnAUN"
      }
    },
    {
      "cell_type": "code",
      "source": [
        "#función para Gauss-Seidel\n",
        "def gauss_seidel(A, b, tol=1e-7, max_iter=100):\n",
        "    \"\"\"\n",
        "    Resuelve el sistema Ax = b usando el método iterativo de Gauss-Seidel\n",
        "\n",
        "    Parámetros:\n",
        "    A : Matriz de coeficientes, debe ser cuadrada -> ndarray\n",
        "    b : Vector de términos independientes -> ndarray\n",
        "    tol : Tolerancia para la norma del residuo -> float\n",
        "    max_iter : Número máximo de iteraciones permitidas -> int\n",
        "\n",
        "    Retorna:\n",
        "    x : Vector solución -> ndarray\n",
        "    iter : Número de iteraciones realizadas -> int\n",
        "    residuo : Norma del residuo final -> float\n",
        "    \"\"\"\n",
        "\n",
        "    n = len(b)\n",
        "    x = np.zeros_like(b, dtype=float)\n",
        "    iter = 0\n",
        "\n",
        "    for _ in range(max_iter):\n",
        "        x_o = x.copy()\n",
        "\n",
        "        for i in range(n):\n",
        "            suma1 = sum(A[i, j] * x[j] for j in range(i))\n",
        "            suma2 = sum(A[i, j] * x_o[j] for j in range(i + 1, n))\n",
        "            x[i] = (b[i] - suma1 - suma2) / A[i, i]\n",
        "\n",
        "        residuo = np.linalg.norm(x - x_o, ord=np.inf)\n",
        "        iter += 1\n",
        "\n",
        "        if residuo < tol:\n",
        "            break\n",
        "\n",
        "    return x, iter, residuo"
      ],
      "metadata": {
        "id": "xXuUhfjznlnO"
      },
      "execution_count": 9,
      "outputs": []
    },
    {
      "cell_type": "code",
      "source": [
        "#generamos la matriz A y vector b aleatorios\n",
        "A = np.random.rand(5, 5) * 10\n",
        "b = np.random.rand(5) * 10\n",
        "\n",
        "print(\"Matriz A:\\n\", A)\n",
        "print(\"Vector b:\\n\", b)\n",
        "\n",
        "#resolvemos con Gauss-Seidel\n",
        "x_g, iteraciones, residuo_final = gauss_seidel(A, b)\n",
        "\n",
        "print(\"\\nResultados Gauss-Seidel\")\n",
        "print(\"Solución aproximada:\", x_g)\n",
        "print(\"Iteraciones:\", iteraciones)\n",
        "print(\"Norma del residuo final:\", residuo_final)"
      ],
      "metadata": {
        "colab": {
          "base_uri": "https://localhost:8080/"
        },
        "id": "BPVkC7_lYwJr",
        "outputId": "fbaf4e93-4589-4fc1-c960-3fc68dfdcb9d"
      },
      "execution_count": 10,
      "outputs": [
        {
          "output_type": "stream",
          "name": "stdout",
          "text": [
            "Matriz A:\n",
            " [[7.05617527 6.99052551 8.60457572 8.32445816 5.19277457]\n",
            " [8.95163797 7.25106899 6.88601406 1.03914539 8.3625741 ]\n",
            " [4.52174122 8.20872162 1.16600527 1.64503424 2.92016445]\n",
            " [0.94534191 5.43925826 4.77146713 5.79753617 8.107128  ]\n",
            " [6.82420987 5.60106601 5.36865403 0.29193873 2.34210314]]\n",
            "Vector b:\n",
            " [7.68635847 8.61676962 5.01476169 6.08205847 9.22679025]\n",
            "\n",
            "Resultados Gauss-Seidel\n",
            "Solución aproximada: [-6.68937186e+70  8.43890323e+69 -1.10650485e+71 -4.86711334e+70\n",
            "  4.34431372e+71]\n",
            "Iteraciones: 100\n",
            "Norma del residuo final: 3.3236392378267573e+71\n"
          ]
        }
      ]
    },
    {
      "cell_type": "code",
      "source": [
        "#comparamos con numpy.linalg.solve\n",
        "x_exacta = np.linalg.solve(A, b)\n",
        "error_relativo = np.linalg.norm(x_g - x_exacta, ord=np.inf) / np.linalg.norm(x_exacta, ord=np.inf)\n",
        "\n",
        "print(\"\\nComparación con np.linalg.solve\")\n",
        "print(\"Solución exacta:\", x_exacta)\n",
        "print(\"Error relativo:\", error_relativo)"
      ],
      "metadata": {
        "colab": {
          "base_uri": "https://localhost:8080/"
        },
        "id": "w5usP1izZbq8",
        "outputId": "1a47ed61-7b21-4487-b26c-ac82ffb6d19b"
      },
      "execution_count": 11,
      "outputs": [
        {
          "output_type": "stream",
          "name": "stdout",
          "text": [
            "\n",
            "Comparación con np.linalg.solve\n",
            "Solución exacta: [-1.12463549  1.30984689  2.0328365  -1.04676363 -0.44532843]\n",
            "Error relativo: 2.1370699105742572e+71\n"
          ]
        }
      ]
    },
    {
      "cell_type": "code",
      "source": [
        "#comparamos con A^-1 b\n",
        "x_inversa = np.linalg.inv(A) @ b\n",
        "error_inversa = np.linalg.norm(x_g - x_inversa, ord=np.inf)\n",
        "\n",
        "print(\"\\nComparación con (A^-1) b\")\n",
        "print(\"Solución por (A^-1) b:\", x_inversa)\n",
        "print(\"Error respecto a (A^-1) b:\", error_inversa)"
      ],
      "metadata": {
        "colab": {
          "base_uri": "https://localhost:8080/"
        },
        "id": "EovNsUzLZlEj",
        "outputId": "14c5fc33-1c53-4095-988a-9e026e47fce0"
      },
      "execution_count": 12,
      "outputs": [
        {
          "output_type": "stream",
          "name": "stdout",
          "text": [
            "\n",
            "Comparación con (A^-1) b\n",
            "Solución por (A^-1) b: [-1.12463549  1.30984689  2.0328365  -1.04676363 -0.44532843]\n",
            "Error respecto a (A^-1) b: 4.344313724492413e+71\n"
          ]
        }
      ]
    },
    {
      "cell_type": "code",
      "source": [
        "#normas del residuo\n",
        "residuo_vector = b - A @ x_g\n",
        "norma_2 = np.linalg.norm(residuo_vector, ord=2)\n",
        "norma_inf = np.linalg.norm(residuo_vector, ord=np.inf)\n",
        "\n",
        "print(\"Norma 2 del residuo:\", norma_2)\n",
        "print(\"Norma infinito del residuo:\", norma_inf)"
      ],
      "metadata": {
        "colab": {
          "base_uri": "https://localhost:8080/"
        },
        "id": "yX8x8FoEZ5Rc",
        "outputId": "fdf2e613-9f51-4dcf-bcbb-ced2be0bc470"
      },
      "execution_count": 13,
      "outputs": [
        {
          "output_type": "stream",
          "name": "stdout",
          "text": [
            "Norma 2 del residuo: 3.6592857233801084e+72\n",
            "Norma infinito del residuo: 2.694516873535831e+72\n"
          ]
        }
      ]
    },
    {
      "cell_type": "markdown",
      "source": [
        "#4 Método de potencias para el valor propio dominante\n",
        "\n",
        "Sea \\$A\\in\\mathbb{R}^{n\\times n}\\$ diagonalizable con valor propio dominante \\$\\lambda\\_{\\max}\\$ (en magnitud) y vector propio asociado \\$v\\_{\\max}\\$.\n",
        "\n",
        "El método de potencias genera, a partir de un vector inicial \\$q^{(0)}\\neq 0\\$, la sucesión\n",
        "\n",
        "$$\n",
        "q^{(k+1)} \\;=\\; \\frac{A\\,q^{(k)}}{\\lVert A\\,q^{(k)}\\rVert_2},\n",
        "\\qquad\n",
        "\\lambda^{(k+1)} \\;=\\; (q^{(k+1)})^{\\!\\top} A\\, q^{(k+1)},\n",
        "$$\n",
        "\n",
        "que converge a \\$v\\_{\\max}/\\lVert v\\_{\\max}\\rVert\\_2\\$ y a \\$\\lambda\\_{\\max}\\$ respectivamente, bajo hipótesis estándar.\n",
        "\n",
        "Implemente `power_method(A, tol=1e-7, max_iter=1000)` que:\n",
        "\n",
        "   * Acepte matrices reales cuadradas,\n",
        "   * Devuelva \\$\\lambda\\_{\\max}\\$, el vector propio normalizado \\$v\\_{\\max}\\$, el número de iteraciones y la última variación relativa de \\$\\lambda\\$,\n",
        "   * detenga la iteración cuando\n",
        "     $\\bigl|\\lambda^{(k+1)}-\\lambda^{(k)}\\bigr|<\\text{tol}\\,|\\lambda^{(k+1)}|$\n",
        "     o se alcance `max_iter`.\n",
        "\n",
        "Luego,\n",
        "   * Genere una matriz simétrica aleatoria \\$6\\times6\\$ (por ejemplo, \\$A = (M+M^\\top)/2\\$ con \\$M\\$ aleatoria).\n",
        "   * Aplique su `power_method` y compare \\$\\lambda\\_{\\max}\\$ y \\$v\\_{\\max}\\$ con los resultados de `numpy.linalg.eig`."
      ],
      "metadata": {
        "id": "REVJcqYtnmM-"
      }
    },
    {
      "cell_type": "code",
      "source": [
        "#realizamos la función\n",
        "def power_method(A, tol=1e-7, max_iter=1000):\n",
        "  '''\n",
        "  Método de potencias para encontrar el valor propio dominante y su vector propio asociado.\n",
        "\n",
        "  Parámetros:\n",
        "  A: Matriz cuadrada real -> ndarray\n",
        "  tol: Tolerancia para el criterio de convergencia. -> float\n",
        "  max_iter: Número máximo de iteraciones -> int\n",
        "\n",
        "  Retorna:\n",
        "  tupla: (λ_max, v_max, iteraciones, delta_lambda)\n",
        "  λ_max: valor propio dominante\n",
        "  v_max: vector propio asociado\n",
        "  iteraciones: número de iteraciones realizadas\n",
        "  delta_lambda: última variación relativa del valor propio.\n",
        "  '''\n",
        "\n",
        "  #verificamos si la matriz es cuadrada\n",
        "  if A.shape[0] != A.shape[1]:\n",
        "      raise ValueError(\"La matriz debe ser cuadrada para aplicar el método.\")\n",
        "\n",
        "  n = A.shape[0]\n",
        "  q = np.random.rand(n) #vector inicial aleatorio\n",
        "  q = q / la.norm(q) #normalizamos\n",
        "\n",
        "#inicializar el valor propio anterior\n",
        "  lambda_o = 0\n",
        "\n",
        "  for i in range(max_iter):\n",
        "      Aq = A @ q #multiplicar la matriz por el vector actual\n",
        "      q = Aq / la.norm(Aq) #normalizar el nuevo vector\n",
        "      lambda_n = q.T @ A @ q #estimar el valor propio usando el producto escalar\n",
        "\n",
        "      #criterio de convergencia para lambda\n",
        "      if abs(lambda_n - lambda_o) < tol:\n",
        "          break #convergió\n",
        "\n",
        "      lambda_o = lambda_n\n",
        "\n",
        "  #valor propio, vector propio, número de iteraciones, variación final\n",
        "  return lambda_n, q, i + 1, abs(lambda_n - lambda_o)"
      ],
      "metadata": {
        "id": "lPzFAOE7obZY"
      },
      "execution_count": 14,
      "outputs": []
    },
    {
      "cell_type": "code",
      "source": [
        "#generamos la matriz aleatoria\n",
        "M = np.random.rand(6, 6)\n",
        "A = (M + M.T) / 2  #simetría"
      ],
      "metadata": {
        "id": "HgcABM9sfagQ"
      },
      "execution_count": 15,
      "outputs": []
    },
    {
      "cell_type": "code",
      "source": [
        "#método de potencias\n",
        "lambdap_max, vp_max, iteraciones, delta_lambda = power_method(A)\n",
        "\n",
        "#comparar con el método de numpy\n",
        "valores, vectores = la.eig(A)\n",
        "i_max = np.argmax(np.abs(valores))\n",
        "lambdan_max = valores[i_max]\n",
        "vn_max = vectores[:, i_max]\n",
        "\n",
        "# resultados\n",
        "print(f\"λ_max con Power Method: {lambdap_max}\")\n",
        "print(f\"v_max con Power Method: {vp_max}\")\n",
        "print(f\"Número de iteraciones: {iteraciones}\")\n",
        "print(f\"Última variación de λ: {delta_lambda}\")\n",
        "print(f\"\\nλ_max con NumPy: {lambdan_max}\")\n",
        "print(f\"v_max con NumPy {vn_max / la.norm(vn_max)}\")\n"
      ],
      "metadata": {
        "colab": {
          "base_uri": "https://localhost:8080/"
        },
        "id": "vwn3tnBrfjyJ",
        "outputId": "c954f257-c48b-4fb9-ee5a-5128542dc83e"
      },
      "execution_count": 16,
      "outputs": [
        {
          "output_type": "stream",
          "name": "stdout",
          "text": [
            "λ_max con Power Method: 2.555774689386226\n",
            "v_max con Power Method: [0.46205267 0.41456819 0.49573051 0.27779233 0.47870249 0.25013429]\n",
            "Número de iteraciones: 7\n",
            "Última variación de λ: 2.6911397110751523e-08\n",
            "\n",
            "λ_max con NumPy: (2.5557746914739248+0j)\n",
            "v_max con NumPy [0.46206711 0.41457179 0.49571215 0.27779676 0.4787058  0.25012677]\n"
          ]
        }
      ]
    },
    {
      "cell_type": "markdown",
      "source": [
        "#5\n",
        "\n",
        "Verifique que cualquier matriz hermitiana de 2 × 2 $ L $ puede escribirse como una suma de cuatro términos:\n",
        "\n",
        "$$ L = a\\sigma_x + b\\sigma_y + c\\sigma_z + dI $$\n",
        "\n",
        "donde $ a $, $ b $, $ c $ y $ d $ son números reales.\n",
        "\n",
        "Las cuatro matrices de Pauli son:\n",
        "\n",
        "$$ \\sigma_x = \\begin{pmatrix} 0 & 1 \\\\ 1 & 0 \\end{pmatrix}, \\quad \\sigma_y = \\begin{pmatrix} 0 & -i \\\\ i & 0 \\end{pmatrix}, \\quad \\sigma_z = \\begin{pmatrix} 1 & 0 \\\\ 0 & -1 \\end{pmatrix}, \\quad I = \\begin{pmatrix} 1 & 0 \\\\ 0 & 1 \\end{pmatrix} $$\n",
        "\n",
        "\n"
      ],
      "metadata": {
        "id": "iggu2jNwVpnK"
      }
    },
    {
      "cell_type": "code",
      "source": [
        "#definimos las matrices de Pauli e identidad\n",
        "sigma_x = np.array([[0, 1], [1, 0]], dtype=complex)\n",
        "sigma_y = np.array([[0, -1j], [1j, 0]], dtype=complex)\n",
        "sigma_z = np.array([[1, 0], [0, -1]], dtype=complex)\n",
        "I = np.eye(2, dtype=complex)\n",
        "\n",
        "def decomponer(L):\n",
        "    \"\"\"Recibe matriz 2x2 Hermitiana L y devuelve (a,b,c,d) reales\n",
        "       tales que L = a*sigma_x + b*sigma_y + c*sigma_z + d*I\n",
        "    \"\"\"\n",
        "    if L.shape != (2,2):\n",
        "        raise ValueError(\"L debe ser 2x2\")\n",
        "    if not np.allclose(L, L.conj().T):\n",
        "        raise ValueError(\"L debe ser Hermitiana\")\n",
        "    p = L[0,0].real\n",
        "    r = L[1,1].real\n",
        "    q = L[0,1]\n",
        "    a = q.real\n",
        "    b = -q.imag\n",
        "    c = (p - r) / 2\n",
        "    d = (p + r) / 2\n",
        "    return float(a), float(b), float(c), float(d)\n",
        "\n",
        "def reconstruir(a,b,c,d):\n",
        "    \"\"\"Reconstruye la matriz a*sx + b*sy + c*sz + d*I\"\"\"\n",
        "    return a*sigma_x + b*sigma_y + c*sigma_z + d*I\n"
      ],
      "metadata": {
        "id": "LoIanCaNazHA"
      },
      "execution_count": 17,
      "outputs": []
    },
    {
      "cell_type": "code",
      "source": [
        "#generamos una matriz aleatoria hermitiana 2x2\n",
        "p = np.random.randn()\n",
        "r = np.random.randn()\n",
        "q = np.random.randn() + 1j*np.random.randn()\n",
        "L_rand = np.array([[p, q], [np.conj(q), r]], dtype=complex)\n",
        "\n",
        "#descomponer y reconstruir\n",
        "a,b,c,d = decomponer(L_rand)\n",
        "L_rec = reconstruir(a,b,c,d)\n",
        "\n",
        "#resultados\n",
        "print(\"Matriz aleatoria Hermitiana:\\n\", L_rand)\n",
        "print(f\"Coeficientes: a={a:.4f}, b={b:.4f}, c={c:.4f}, d={d:.4f}\")\n",
        "print(\"Reconstrucción:\\n\", L_rec)\n",
        "print(\"¿Las matrices son iguales?:\", np.allclose(L_rand, L_rec))"
      ],
      "metadata": {
        "colab": {
          "base_uri": "https://localhost:8080/"
        },
        "id": "wVxD0Hh2l6n8",
        "outputId": "4fd3a532-05ef-442b-f669-a4fa2c198d45"
      },
      "execution_count": 18,
      "outputs": [
        {
          "output_type": "stream",
          "name": "stdout",
          "text": [
            "Matriz aleatoria Hermitiana:\n",
            " [[-0.42533682+0.j          0.58613265+0.74392087j]\n",
            " [ 0.58613265-0.74392087j -1.25966705+0.j        ]]\n",
            "Coeficientes: a=0.5861, b=-0.7439, c=0.4172, d=-0.8425\n",
            "Reconstrucción:\n",
            " [[-0.42533682+0.j          0.58613265+0.74392087j]\n",
            " [ 0.58613265-0.74392087j -1.25966705+0.j        ]]\n",
            "¿Las matrices son iguales?: True\n"
          ]
        }
      ]
    },
    {
      "cell_type": "markdown",
      "source": [
        "# 6\n",
        "\n",
        "Haga un breve resumen en Markdown de las funciones y métodos más relevantes para algebra lineal usando Python. Emplee ejemplos."
      ],
      "metadata": {
        "id": "GnCw5_O5pMxl"
      }
    },
    {
      "cell_type": "markdown",
      "source": [
        "Las funciones y métodos de álgebra lineal en Python, especialmente a través de NumPy, permiten realizar operaciones esenciales como productos punto (`np.dot`) y cruz (`np.cross`), transposición de matrices (`np.transpose`), cálculo de inversas (`np.linalg.inv`), determinantes (`np.linalg.det`) y trazas (`np.trace`), extracción o creación de diagonales (`np.diag`) y resolución de sistemas lineales (`np.linalg.solve`). Estas herramientas son fundamentales para multiplicación de matrices, análisis de transformaciones lineales y manejo de matrices diagonales. Además, la factorización LU optimiza la resolución de múltiples sistemas con la misma matriz, y los métodos iterativos como Jacobi o Gauss-Seidel resultan ser más eficientes, aunque su convergencia depende de las propiedades de la matriz."
      ],
      "metadata": {
        "id": "uXRHUDpFsg2b"
      }
    },
    {
      "cell_type": "markdown",
      "source": [
        "```python\n",
        "# 1. Productos punto y cruz\n",
        "a = np.array([1, 2, 3])\n",
        "b = np.array([4, 5, 6])\n",
        "\n",
        "# Producto punto: suma de multiplicaciones elemento a elemento\n",
        "punto = np.dot(a, b)\n",
        "print(\"Producto punto:\", punto)  # Resultado: 1*4 + 2*5 + 3*6 = 32\n",
        "\n",
        "# Producto cruz: vector perpendicular a ambos\n",
        "cruz = np.cross(a, b)\n",
        "print(\"Producto cruz:\", cruz)  # Resultado: [-3, 6, -3]\n",
        "\n",
        "# 2. Transposición de matrices\n",
        "M = np.array([[1, 2], [3, 4]])\n",
        "print(\"\\nMatriz original:\\n\", M)\n",
        "print(\"Matriz transpuesta:\\n\", np.transpose(M))  # Cambia filas por columnas\n",
        "\n",
        "# 3. Inversa de una matriz\n",
        "A = np.array([[1, 2], [3, 4]])\n",
        "A_inv = np.linalg.inv(A)  # Calcula la inversa de A\n",
        "print(\"\\nInversa de A:\\n\", A_inv)\n",
        "\n",
        "# 4. Determinante de una matriz\n",
        "det_A = np.linalg.det(A)  # Determinante\n",
        "print(\"\\nDeterminante de A:\", det_A)\n",
        "\n",
        "# 5. Traza de una matriz\n",
        "traza = np.trace(A)  # Suma de los elementos en la diagonal principal\n",
        "print(\"Traza de A:\", traza)\n",
        "\n",
        "# 6. Creación y extracción de diagonales\n",
        "# Crear matriz diagonal a partir de un vector\n",
        "diag_mat = np.diag([1, 2, 3])\n",
        "print(\"\\nMatriz diagonal:\\n\", diag_mat)\n",
        "\n",
        "# Extraer diagonal principal de una matriz\n",
        "diagonal = np.diag(A)\n",
        "print(\"Diagonal de A:\", diagonal)\n",
        "\n",
        "# 7. Resolución de sistemas lineales\n",
        "# Sistema: 3x + y = 9  y  x + 2y = 8\n",
        "A = np.array([[3, 1], [1, 2]])  # Matriz de coeficientes\n",
        "b = np.array([9, 8]) # Vector de términos independientes\n",
        "\n",
        "# Resolver usando numpy.linalg.solve\n",
        "x = np.linalg.solve(A, b)\n",
        "print(\"\\nSolución del sistema (x, y):\", x)\n"
      ],
      "metadata": {
        "id": "gnJM3L2qwMZB"
      }
    }
  ]
}