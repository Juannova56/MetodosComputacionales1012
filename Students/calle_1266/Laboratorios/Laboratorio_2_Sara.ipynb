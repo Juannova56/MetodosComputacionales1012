{
  "metadata": {
    "kernelspec": {
      "name": "python3",
      "display_name": "Python 3 (ipykernel)",
      "language": "python"
    },
    "language_info": {
      "name": "python",
      "version": "3.10.16",
      "mimetype": "text/x-python",
      "codemirror_mode": {
        "name": "ipython",
        "version": 3
      },
      "pygments_lexer": "ipython3",
      "nbconvert_exporter": "python",
      "file_extension": ".py"
    },
    "colab": {
      "provenance": []
    }
  },
  "nbformat_minor": 5,
  "nbformat": 4,
  "cells": [
    {
      "id": "5833cba4",
      "cell_type": "markdown",
      "source": [
        "# Laboratorio 02: Representación Numérica, Errores y Estabilidad.\n",
        "\n",
        "---\n",
        "### Profesor: Daniel Ruiz Mejía\n",
        "### Nombre: Sara Calle Muñoz\n",
        "*Métodos computacionales 2025-I*\n",
        "\n",
        "---"
      ],
      "metadata": {
        "id": "5833cba4"
      }
    },
    {
      "id": "204306de",
      "cell_type": "markdown",
      "source": [
        "# 1.\n",
        "Cree una función llamada `myint` pero que a partir de un número binario con base de 16 bits encuentre el entero correspondiente. Compare su resultado con `int(0b1000011100001)`"
      ],
      "metadata": {
        "id": "204306de"
      }
    },
    {
      "id": "6b0117ca",
      "cell_type": "code",
      "source": [
        "def myint(n_binario):\n",
        "    if len(n_binario) != 16:  #verifica que el número binario tenga exactamente 16 bits\n",
        "        raise ValueError('El número debe tener 16 bits')\n",
        "\n",
        "    valor = 0  #acumulará el valor decimal\n",
        "    potencia = 0  #usada para elevar 2^potencia en cada posición\n",
        "\n",
        "    #recorre los bits de derecha a izquierda (de menor a mayor peso)\n",
        "    for i in reversed(n_binario):\n",
        "        if i == '1':\n",
        "            valor += 2**potencia  #suma 2**potencia si el bit es 1\n",
        "        potencia += 1  #aumenta la potencia para el siguiente bit\n",
        "\n",
        "    return valor"
      ],
      "metadata": {
        "trusted": false,
        "id": "6b0117ca"
      },
      "outputs": [],
      "execution_count": null
    },
    {
      "cell_type": "code",
      "source": [
        "#comparamos con el valor solicitado\n",
        "myint('0001000011100001')\n",
        "print(myint('0001000011100001'))\n",
        "\n",
        "int(0b1000011100001)\n",
        "print(int(0b1000011100001))"
      ],
      "metadata": {
        "colab": {
          "base_uri": "https://localhost:8080/"
        },
        "id": "R_sWXwpwYCTX",
        "outputId": "115db439-4e25-4fe6-db34-45f9ab3ee611"
      },
      "id": "R_sWXwpwYCTX",
      "execution_count": null,
      "outputs": [
        {
          "output_type": "stream",
          "name": "stdout",
          "text": [
            "4321\n",
            "4321\n"
          ]
        }
      ]
    },
    {
      "id": "bb956b56",
      "cell_type": "markdown",
      "source": [
        "# 2.\n",
        "Generar una función llamada `number64` para flotantes de precisión doble (64bits) donde a partir de un número binario encuentre el valor real. Compruebe su solución usando\n",
        "\n",
        "```\n",
        "number64(\"0100000000111011100100001111111111111111111111111111111111111111\")\n",
        "```"
      ],
      "metadata": {
        "id": "bb956b56"
      }
    },
    {
      "id": "8d675a1e",
      "cell_type": "code",
      "source": [
        "def number64(n_binario):\n",
        "    if len(n_binario) != 64: #verifica que la cadena tenga 64 bits\n",
        "        raise ValueError('El número debe tener 64 bits')\n",
        "\n",
        "    #para el signo\n",
        "    signo = int(n_binario[0])  #primer bit indica el signo\n",
        "    signo = -1 if signo == 1 else 1\n",
        "\n",
        "    #para el exponente\n",
        "    exp_bin = n_binario[1:12]  #bits 1 a 11 (11 bits para el exponente)\n",
        "    exponente = int(exp_bin, 2) - 1023  #convierte a decimal y aplica el sesgo IEEE 754\n",
        "\n",
        "    #para la mantisa\n",
        "    mantisa_bin = n_binario[12:64]  #bits 12 a 63 (52 bits)\n",
        "    mantisa = 0.0\n",
        "    for i, bit in enumerate(mantisa_bin):\n",
        "        if bit == '1':\n",
        "            mantisa += 2**(-i-1)  #cada bit representa 1/(2^(i+1))\n",
        "\n",
        "    #para el valor\n",
        "    valor = signo * 2**exponente * (1 + mantisa)\n",
        "\n",
        "    return valor\n",
        "\n",
        "print(number64(\"0100000000111011100100001111111111111111111111111111111111111111\"))\n"
      ],
      "metadata": {
        "trusted": false,
        "id": "8d675a1e",
        "colab": {
          "base_uri": "https://localhost:8080/"
        },
        "outputId": "abc7f1a1-3665-4e83-819c-f72bce25c4f6"
      },
      "outputs": [
        {
          "output_type": "stream",
          "name": "stdout",
          "text": [
            "27.566406249999996\n"
          ]
        }
      ],
      "execution_count": null
    },
    {
      "id": "a5693385",
      "cell_type": "markdown",
      "source": [
        "# 3. Aproximación de $\\pi$\n",
        "\n",
        "La serie de Maclaurin para la función tangente inversa converge en $-1 < x \\leq 1$ y está dada por:\n",
        "\n",
        "$$\n",
        "\\arctan x = \\lim_{n \\to \\infty} P_n(x) = \\lim_{n \\to \\infty} \\sum_{i=1}^n (-1)^{i+1} \\frac{x^{2i-1}}{2i-1}\n",
        "$$\n",
        "\n",
        "- **Aproximación básica**\n",
        "    - Utilizando el hecho de que $\\tan(\\pi/4) = 1$, implemente en Python una función que calcule $4P_n(1)$ y determina el número mínimo de términos $n$ necesarios para que $|4P_n(1) - \\pi| < 10^{-3}$. Compare su resultado con el valor de $\\pi$ de la librería math.\n",
        "    - Requiriendo que el valor de $\\pi$ esté dentro de un error de $10^{-4}$. ¿Cuántos términos de la serie se necesitaría sumar para obtener esta precisión? Implemente una solución en Python para encontrar este valor.\n",
        "- **Mejora de la convergencia**\n",
        "    El método anterior puede mejorarse significativamente usando la identidad:\n",
        "    $$\n",
        "    \\frac{\\pi}{4} = \\arctan\\left(\\frac{1}{2}\\right) + \\arctan\\left(\\frac{1}{3}\\right)\n",
        "    $$\n",
        "    - Implemente en Python una función que evalúe la serie para $\\arctan(1/2)$ y $\\arctan(1/3)$ por separado y luego las sume. Determine el número mínimo de términos necesarios para cada serie (pueden ser diferentes) para aproximar $\\pi$ con un error menor a $10^{-3}$ y $10^{-6}$.\n",
        "\n",
        "- **Método de alta precisión**\n",
        "    Para obtener una convergencia aún más rápida, usamos la identidad:\n",
        "    $$\n",
        "    \\frac{\\pi}{4} = 4\\arctan\\left(\\frac{1}{5}\\right) - \\arctan\\left(\\frac{1}{239}\\right)\n",
        "    $$\n",
        "    Desarrolle un programa en Python que implemente esta fórmula y determine:\n",
        "    - El número mínimo de términos necesarios en cada serie para aproximar $\\pi$ con error menor a $10^{-3}$ y $10^{-6}$.\n",
        "    - Compare el rendimiento (número de términos requeridos) con los métodos anteriores.\n",
        "\n"
      ],
      "metadata": {
        "id": "a5693385"
      }
    },
    {
      "id": "8aef365a",
      "cell_type": "code",
      "source": [
        "import math\n",
        "\n",
        "#función para calcular la serie hasta N términos\n",
        "def P_n(x, N):\n",
        "    suma = 0\n",
        "    for i in range(1, N + 1):\n",
        "        termino = ((-1) ** (i + 1)) * (x ** (2 * i - 1)) / (2 * i - 1)\n",
        "        suma += termino\n",
        "    return suma\n",
        "\n",
        "#aproximación básica de pi usando arctan(1)\n",
        "tol = 1e-3  #tolerancia\n",
        "n = 1 #número inicial de términos\n",
        "\n",
        "while True:\n",
        "    pi_aprox = 4 * P_n(1, n)  #4 * arctan(1)\n",
        "    if abs(pi_aprox - math.pi) < tol:\n",
        "        break\n",
        "    n += 1\n",
        "\n",
        "print(f\"Aproximación de π con tol = 1e-3: {pi_aprox}\")\n",
        "print(f\"Términos necesarios: {n}\")\n",
        "print(f\"Error absoluto: {abs(pi_aprox - math.pi)}\")\n",
        "\n",
        "#proximación básica de pi con tol = 1e-4\n",
        "tol = 1e-4  #tolerancia\n",
        "n = 1 #número inicial de términos\n",
        "\n",
        "while True:\n",
        "    pi_aprox = 4 * P_n(1, n)  #4 * arctan(1)\n",
        "    if abs(pi_aprox - math.pi) < tol:\n",
        "        break\n",
        "    n += 1\n",
        "\n",
        "print(f\"\\nAproximación de π con tol = 1e-4: {pi_aprox}\")\n",
        "print(f\"Términos necesarios: {n}\")\n",
        "print(f\"Error absoluto: {abs(pi_aprox - math.pi)}\")"
      ],
      "metadata": {
        "trusted": false,
        "id": "8aef365a",
        "colab": {
          "base_uri": "https://localhost:8080/"
        },
        "outputId": "4ec162b5-f232-4c84-cb3e-d977bd748f16"
      },
      "outputs": [
        {
          "output_type": "stream",
          "name": "stdout",
          "text": [
            "Aproximación de π con tol = 1e-3: 3.140592653839794\n",
            "Términos necesarios: 1000\n",
            "Error absoluto: 0.000999999749998981\n",
            "\n",
            "Aproximación de π con tol = 1e-4: 3.1414926535900345\n",
            "Términos necesarios: 10000\n",
            "Error absoluto: 9.99999997586265e-05\n"
          ]
        }
      ],
      "execution_count": 1
    },
    {
      "cell_type": "code",
      "source": [
        "#Mejoremos la convergencia con  π / 4 = arctan(1/2) + arctan(1/3)\n",
        "#usamos P_n(x, N)\n",
        "\n",
        "tol = 1e-3\n",
        "n = 1\n",
        "\n",
        "while True:\n",
        "    pi_aprox = 4 * (P_n(1/2, n) + P_n(1/3, n))\n",
        "    if abs(pi_aprox - math.pi) < tol:\n",
        "        break\n",
        "    n += 1\n",
        "\n",
        "print(f\"Aproximación de π con arctan(1/2) + arctan(1/3) con tol = 1e-3: {pi_aprox}\")\n",
        "print(f\"Términos necesarios por serie: {n}\")\n",
        "print(f\"Error absoluto: {abs(pi_aprox - math.pi)}\")\n",
        "\n",
        "#con tol =1e-6\n",
        "tol = 1e-6\n",
        "n = 1\n",
        "\n",
        "while True:\n",
        "    pi_aprox = 4 * (P_n(1/2, n) + P_n(1/3, n))\n",
        "    if abs(pi_aprox - math.pi) < tol:\n",
        "        break\n",
        "    n += 1\n",
        "\n",
        "print(f\"\\nAproximación de π con arctan(1/2) + arctan(1/3) con tol = 1e-6: {pi_aprox}\")\n",
        "print(f\"Términos necesarios por serie: {n}\")\n",
        "print(f\"Error absoluto: {abs(pi_aprox - math.pi)}\")"
      ],
      "metadata": {
        "colab": {
          "base_uri": "https://localhost:8080/"
        },
        "id": "pt-h42G5jXEy",
        "outputId": "62200171-14ce-47e5-a7c4-31eacf0e507c"
      },
      "id": "pt-h42G5jXEy",
      "execution_count": null,
      "outputs": [
        {
          "output_type": "stream",
          "name": "stdout",
          "text": [
            "Aproximación de π con arctan(1/2) + arctan(1/3) con tol = 1e-3: 3.1408505617610554\n",
            "Términos necesarios por serie: 4\n",
            "Error absoluto: 0.0007420918287377454\n",
            "\n",
            "Aproximación de π con arctan(1/2) + arctan(1/3) con tol = 1e-6: 3.1415929813345667\n",
            "Términos necesarios por serie: 9\n",
            "Error absoluto: 3.2774477354280407e-07\n"
          ]
        }
      ]
    },
    {
      "cell_type": "code",
      "source": [
        "#Mejoremos aún más la convergencia utilizando π = 4 * (4*arctan(1/5)−arctan(1/239))\n",
        "#usamos P_n(x, N)\n",
        "tol = 1e-3\n",
        "n = 1\n",
        "\n",
        "while True:\n",
        "    pi_aprox = 4 * (4 * P_n(1/5, n) - P_n(1/239, n))\n",
        "    if abs(pi_aprox - math.pi) < tol:\n",
        "        break\n",
        "    n += 1\n",
        "\n",
        "print(f\"Aproximación de π con 4 * (4*arctan(1/5)−arctan(1/239)) con tol = 1e-3: {pi_aprox}\")\n",
        "print(f\"Términos necesarios por serie: {n}\")\n",
        "print(f\"Error absoluto: {abs(pi_aprox - math.pi)}\")\n",
        "\n",
        "#con tol =1e-6\n",
        "tol = 1e-6\n",
        "n = 1\n",
        "\n",
        "while True:\n",
        "    pi_aprox = 4 * (4 * P_n(1/5, n) - P_n(1/239, n))\n",
        "    if abs(pi_aprox - math.pi) < tol:\n",
        "        break\n",
        "    n += 1\n",
        "\n",
        "print(f\"\\nAproximación de π con 4 * (4*arctan(1/5)−arctan(1/239)) con tol = 1e-6: {pi_aprox}\")\n",
        "print(f\"Términos necesarios por serie: {n}\")\n",
        "print(f\"Error absoluto: {abs(pi_aprox - math.pi)}\")\n",
        "#observe que este último método requiere un número significativamente menor a comparación con el primer método\n",
        "#en comparación al segundo también es un poco más eficiente"
      ],
      "metadata": {
        "colab": {
          "base_uri": "https://localhost:8080/"
        },
        "id": "oT2A2W93jqJI",
        "outputId": "3063e1d9-4712-41a0-c754-fdc579aae314"
      },
      "id": "oT2A2W93jqJI",
      "execution_count": null,
      "outputs": [
        {
          "output_type": "stream",
          "name": "stdout",
          "text": [
            "Aproximación de π con 4 * (4*arctan(1/5)−arctan(1/239)) con tol = 1e-3: 3.1405970293260603\n",
            "Términos necesarios por serie: 2\n",
            "Error absoluto: 0.0009956242637327861\n",
            "\n",
            "Aproximación de π con 4 * (4*arctan(1/5)−arctan(1/239)) con tol = 1e-6: 3.1415917721821773\n",
            "Términos necesarios por serie: 4\n",
            "Error absoluto: 8.814076157825923e-07\n"
          ]
        }
      ]
    },
    {
      "id": "ca9640b7",
      "cell_type": "markdown",
      "source": [
        "# 4. Serie Exponencial\n",
        "Considere la serie para $e^{-x}$\n",
        "\n",
        "$$\n",
        "e^{-x}=\\sum_{n=0}^{N}  (-1)^n \\frac{x^{n}}{n!}\n",
        "$$\n",
        "\n",
        "- Calcula la serie para $x \\le 1$ y compárela con la función incorporada `np.exp(x)` (asuma que la función exponencial incorporada es exacta). Elegir un $N$ para el cual el siguiente término en la serie no sea más que $10^{-7}$ de la suma hasta ese punto.\n",
        "\n",
        "$$\n",
        "\\left| \\frac{(-x)^{N+1}}{(N+1)!} \\right | \\le \\left| 10^{-7} \\sum_{N=0}^{N} \\frac{(-x)^{n}}{n!} \\right|\n",
        "$$\n",
        "\n",
        "- Examine los términos de la serie para $x\\approx 10$ y observa las cancelaciones sustractivas significativas que ocurren cuando términos grandes se suman para dar respuestas pequeñas. En particular, imprime la cancelación casi perfecta en $n \\approx x − 1$.\n",
        "\n",
        "- Compruebe si se obtiene una mejor precisión siendo ingenioso y usando $e^{−x} = \\frac{1}{e^x}$ para valores grandes de $x$. Esto elimina la cancelación sustractiva, pero no elimina todos los errores de redondeo.\n",
        "\n",
        "\n",
        "- Incrementando progresivamente $x$ de 1 a 10, y luego de 10 a 100, use el programa para determinar experimentalmente cuándo la serie comienza a perder precisión, y cuándo la serie ya no converge.\n",
        "\n",
        "\n",
        "- Realice una serie de gráficos del error versus $N$ para diferentes valores de $x$."
      ],
      "metadata": {
        "id": "ca9640b7"
      }
    },
    {
      "id": "ad34281d",
      "cell_type": "code",
      "source": [
        "import numpy as np\n",
        "import matplotlib.pyplot as plt"
      ],
      "metadata": {
        "trusted": false,
        "id": "ad34281d"
      },
      "outputs": [],
      "execution_count": 2
    },
    {
      "cell_type": "code",
      "source": [
        "#serie de Taylor para e^{-x}\n",
        "def exponencial(x, N):\n",
        "    \"\"\"\n",
        "    Calcula e^{-x} usando la serie de taylor truncada en N términos:\n",
        "    e^{-x} ≈ sum_{i=0}^{N} (-1)^i * x^i / i!\n",
        "    \"\"\"\n",
        "    exp = 0  #iniciamos la suma\n",
        "    for i in range(N):\n",
        "        exp += (-1)**i * x**i / math.factorial(i)  # Término i-ésimo de la serie\n",
        "    return exp\n",
        "\n",
        "\n",
        "#truncamos la serie\n",
        "def exponencial_truncado(x, N):\n",
        "    \"\"\"\n",
        "    Calcula e^{-x} truncando la serie cuando el siguiente término es menor\n",
        "    que un umbral relativo (1e-7 * valor de la serie).\n",
        "    \"\"\"\n",
        "    ex = exponencial(x, N)  #valor inicial de la serie\n",
        "    tol = abs(1e-7 * ex)\n",
        "\n",
        "    for i in range(N):\n",
        "        #valor absoluto del siguiente término de la serie\n",
        "        siguiente = abs((-x)**(i+1) / math.factorial(i+1))\n",
        "        if siguiente <= tol:\n",
        "            break  #terminamos cuando el término es suficientemente pequeño\n",
        "\n",
        "    #calculamos la serie hasta el término i\n",
        "    exp = exponencial(x, i)\n",
        "    return exp, i  #devolvemos el valor aproximado y el número de términos usados\n",
        "\n",
        "#usamos 1/e^x\n",
        "def invertida(x, N):\n",
        "    \"\"\"\n",
        "    Calcula e^{-x} como 1 / (serie de Taylor de e^{x}).\n",
        "    Es útil cuando x es grande.\n",
        "    \"\"\"\n",
        "    exp = 0\n",
        "    for i in range(N):\n",
        "        exp += x**i / math.factorial(i)\n",
        "    return 1 / exp\n"
      ],
      "metadata": {
        "id": "RHpYFd30fyjL"
      },
      "id": "RHpYFd30fyjL",
      "execution_count": 3,
      "outputs": []
    },
    {
      "cell_type": "code",
      "source": [
        "#comparemos con distintios valores de x\n",
        "#evaluemos para x = 0.1\n",
        "x = 0.1\n",
        "N = 100\n",
        "exacto = np.exp(-x)  #valor exacto\n",
        "\n",
        "print(\"Para x = 0.1\")\n",
        "print(f\"Valor de la serie: {exponencial(x, N)}\")\n",
        "print(f\"Valor de la serie truncado: {exponencial_truncado(x, N)}\")\n",
        "print(f\"Valor exacto: {exacto}\")\n",
        "print()\n",
        "\n",
        "#evaluamos para x = 6\n",
        "x = 6\n",
        "exacto = np.exp(-x)\n",
        "print(\"Para x = 6\")\n",
        "print(f\"Valor de la serie: {exponencial(x, N)}\")\n",
        "print(f\"Valor de la serie truncado: {exponencial_truncado(x, N)}\")\n",
        "print(f\"Valor exacto: {exacto}\")\n",
        "print()\n",
        "\n",
        "#evaluamos para x = 10\n",
        "x = 10\n",
        "exacto = np.exp(-x)\n",
        "print(\"Para x = 10\")\n",
        "print(f\"Valor de la serie (forma alternante): {exponencial(x, N)}\")\n",
        "print(f\"Valor de la serie (forma invertida): {invertida(x, N)}\")\n",
        "print(f\"Valor exacto: {exacto}\")\n",
        "print()\n"
      ],
      "metadata": {
        "colab": {
          "base_uri": "https://localhost:8080/"
        },
        "id": "wAOrgjIig911",
        "outputId": "81083006-98ec-49fb-eef0-53c29c55f0ca"
      },
      "id": "wAOrgjIig911",
      "execution_count": 4,
      "outputs": [
        {
          "output_type": "stream",
          "name": "stdout",
          "text": [
            "Para x = 0.1\n",
            "Valor de la serie: 0.9048374180359596\n",
            "Valor de la serie truncado: (0.9048333333333334, 4)\n",
            "Valor exacto: 0.9048374180359595\n",
            "\n",
            "Para x = 6\n",
            "Valor de la serie: 0.0024787521766645613\n",
            "Valor de la serie truncado: (0.0024787514789560493, 30)\n",
            "Valor exacto: 0.0024787521766663585\n",
            "\n",
            "Para x = 10\n",
            "Valor de la serie (forma alternante): 4.5399929433607724e-05\n",
            "Valor de la serie (forma invertida): 4.539992976248486e-05\n",
            "Valor exacto: 4.5399929762484854e-05\n",
            "\n"
          ]
        }
      ]
    },
    {
      "cell_type": "code",
      "source": [
        "#inicializamos listas vacías para guardar los resultados\n",
        "N_vals = []\n",
        "exp1_ = []  #resultados de la serie alternante\n",
        "exp2_ = []  #resultados de la serie invertida\n",
        "\n",
        "for N in range(1, 30):\n",
        "    N_vals.append(N)\n",
        "    exp1_.append(exponencial(x, N))\n",
        "    exp2_.append(invertida(x, N))\n",
        "\n",
        "#graficamos los valores para ambas aproximaciones\n",
        "plt.figure()\n",
        "plt.plot(N_vals, exp1_, \"-\", color = 'purple', label=\"Serie alternante\")\n",
        "plt.plot(N_vals, exp2_, \"k--\", label=\"Exponencial invertida\")\n",
        "plt.axhline(exacto, color='blue', linestyle=':', label=\"Valor exacto\")\n",
        "plt.legend()\n",
        "plt.xlabel(\"Número de términos (N)\")\n",
        "plt.ylabel(\"Aproximación de e^{-x}\")\n",
        "plt.title(\"Convergencia de series para e^{-x} con x=10\")\n",
        "plt.grid(True)\n",
        "plt.show()"
      ],
      "metadata": {
        "colab": {
          "base_uri": "https://localhost:8080/",
          "height": 472
        },
        "id": "a3nbjpBdht2e",
        "outputId": "2ab0e028-00b6-4eb5-a248-270f283f4579"
      },
      "id": "a3nbjpBdht2e",
      "execution_count": 14,
      "outputs": [
        {
          "output_type": "display_data",
          "data": {
            "text/plain": [
              "<Figure size 640x480 with 1 Axes>"
            ],
            "image/png": "[encoded data removed]"
          },
          "metadata": {}
        }
      ]
    },
    {
      "cell_type": "code",
      "source": [
        "#calculamos el error relativo de cada valor\n",
        "errores = []\n",
        "for val in exp1_:\n",
        "    error = abs(val - exacto) / exacto * 100\n",
        "    errores.append(error)\n",
        "\n",
        "#graficamos el error relativo\n",
        "plt.figure()\n",
        "plt.plot(N_vals, errores, color = 'purple')\n",
        "plt.xlabel(\"Número de términos (N)\")\n",
        "plt.ylabel(\"Error relativo\")\n",
        "plt.title(\"Error relativo de la serie alternante para e^{-x} con x=10\")\n",
        "plt.grid(True)\n",
        "plt.show()"
      ],
      "metadata": {
        "colab": {
          "base_uri": "https://localhost:8080/",
          "height": 487
        },
        "id": "C4dgsC_uiFBs",
        "outputId": "fa60765d-7690-4a2b-dbc7-d37a633c5b4d"
      },
      "id": "C4dgsC_uiFBs",
      "execution_count": 13,
      "outputs": [
        {
          "output_type": "display_data",
          "data": {
            "text/plain": [
              "<Figure size 640x480 with 1 Axes>"
            ],
            "image/png": "[encoded data removed]"
          },
          "metadata": {}
        }
      ]
    },
    {
      "id": "56688fa9",
      "cell_type": "markdown",
      "source": [
        "# 5.\n",
        "\n",
        "Supongamos que tenemos una función $f(x)$ y queremos calcular su derivada en un punto $x$. Podemos hacerlo manualmente si conocemos la forma matemática de la función, o podemos hacerlo computacionalmente usando la definición de derivada:\n",
        "\n",
        "$$\n",
        "\\frac{df}{dx} = \\lim_{\\delta \\to 0} \\frac{f(x + \\delta) - f(x)}{\\delta}.\n",
        "$$\n",
        "\n",
        "En el computador no podemos tomar el límite cuando $\\delta$ tiende a cero, pero podemos obtener una aproximación razonable usando valores pequeños de $\\delta$.\n",
        "\n",
        "- Escriba un programa que:\n",
        "    - Defina una función $f(x)$ que retorne el valor $x(x-1)$\n",
        "    - Calcule la derivada de la función en $x = 1$ usando la fórmula anterior con $\\delta = 10^{-2}$\n",
        "    - Compare este resultado con el valor exacto obtenido analíticamente\n",
        "    \n",
        "    Los resultados no coincidirán exactamente. ¿Por qué?\n",
        "    \n",
        "- Repita el cálculo para $\\delta = 10^{-4}, 10^{-6}, 10^{-8}, 10^{-10}, 10^{-12}$, y $10^{-14}$. Observará que la precisión mejora inicialmente al disminuir $\\delta$, pero luego empeora. Explique este comportamiento.\n"
      ],
      "metadata": {
        "id": "56688fa9"
      }
    },
    {
      "id": "066104c2",
      "cell_type": "code",
      "source": [
        "#definimos f(x) tal que retorne el valor  x(x−1)\n",
        "def f(x):\n",
        "    return x * (x - 1)\n",
        "\n",
        "#definimos la derivada con la fórmula\n",
        "def derivada(f, x, delta):\n",
        "    return (f(x + delta) - f(x)) / delta\n",
        "\n",
        "#definimos la derivada a mano\n",
        "def derivada_analitica(x):\n",
        "    return 2*x - 1\n",
        "\n",
        "#definimos el punto solicitado\n",
        "x = 1\n",
        "delta = 1e-2\n",
        "\n",
        "#comparamos\n",
        "aproximacion = derivada(f, x, delta)\n",
        "exacta = derivada_analitica(x)\n",
        "\n",
        "print(f\"Derivada numérica: {aproximacion}\")\n",
        "print(f\"Derivada exacta: {exacta}\")\n",
        "print(f\"Error absoluto: {abs(aproximacion - exacta)}\")\n",
        "\n",
        "#los resultados no coinciden exactamente porque la computadora no puede trabajar con números tan pequeños\n",
        "#cuando usamos valores de δ muy grandes, la aproximación no es precisa\n",
        "#cuando usamos valores muy pequeños, la computadora comete errores por redondeo al restar dos números casi iguales"
      ],
      "metadata": {
        "trusted": false,
        "id": "066104c2",
        "colab": {
          "base_uri": "https://localhost:8080/"
        },
        "outputId": "31a8f4c7-d3cf-4af5-d555-698a36d7f064"
      },
      "outputs": [
        {
          "output_type": "stream",
          "name": "stdout",
          "text": [
            "Derivada numérica: 1.010000000000001\n",
            "Derivada exacta: 1\n",
            "Error absoluto: 0.010000000000000897\n"
          ]
        }
      ],
      "execution_count": null
    },
    {
      "cell_type": "code",
      "source": [
        "#definimos varios deltas para comparar\n",
        "deltas = [1e-4, 1e-6, 1e-8, 1e-10, 1e-12, 1e-14]\n",
        "\n",
        "print(\"δ\\tAproximada\\tExacta\\t\\tError\")\n",
        "for delta in deltas:\n",
        "    aprox = derivada(f, x, delta)\n",
        "    error = abs(aprox - exacta)\n",
        "    print(f\"{delta:.0e}\\t{aprox:.10f}\\t{exacta:.10f}\\t{error:.2e}\")\n"
      ],
      "metadata": {
        "colab": {
          "base_uri": "https://localhost:8080/"
        },
        "id": "jGw8fROUnDip",
        "outputId": "69462ce6-f030-462a-fcac-d9797f981354"
      },
      "id": "jGw8fROUnDip",
      "execution_count": null,
      "outputs": [
        {
          "output_type": "stream",
          "name": "stdout",
          "text": [
            "δ\tAproximada\tExacta\t\tError\n",
            "1e-04\t1.0001000000\t1.0000000000\t1.00e-04\n",
            "1e-06\t1.0000009999\t1.0000000000\t1.00e-06\n",
            "1e-08\t1.0000000039\t1.0000000000\t3.92e-09\n",
            "1e-10\t1.0000000828\t1.0000000000\t8.28e-08\n",
            "1e-12\t1.0000889006\t1.0000000000\t8.89e-05\n",
            "1e-14\t0.9992007222\t1.0000000000\t7.99e-04\n"
          ]
        }
      ]
    }
  ]
}