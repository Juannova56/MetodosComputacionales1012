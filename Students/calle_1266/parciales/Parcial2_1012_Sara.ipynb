{
  "nbformat": 4,
  "nbformat_minor": 0,
  "metadata": {
    "colab": {
      "provenance": []
    },
    "kernelspec": {
      "name": "python3",
      "display_name": "Python 3"
    },
    "language_info": {
      "name": "python"
    }
  },
  "cells": [
    {
      "cell_type": "code",
      "execution_count": 1,
      "metadata": {
        "id": "7Y1lCE6sq6dB"
      },
      "outputs": [],
      "source": [
        "import numpy as np # Númerica\n",
        "import matplotlib.pyplot as plt # Gráficas\n",
        "from scipy.interpolate import CubicSpline, lagrange, interp1d # Interpolación\n",
        "from scipy.integrate import quad, dblquad, tplquad, trapezoid, simpson # Integración\n",
        "import sympy as sp # Símbolos"
      ]
    },
    {
      "cell_type": "markdown",
      "source": [
        "# ⚠ Importante\n",
        "\n",
        "👁 Puede usar unicamente las librerias vistas en clase (estas están en la parte superior) en caso de agregar una nueva, debe justificarla.\n",
        "\n",
        "💀 No está permitido el uso de IA's en caso de hacerlo su parcial será **anulado**!\n",
        "\n",
        "❗ Comente su código y funciones, esto hace parte de la nota.\n",
        "\n",
        "✅ Responda ordenadamente y con claridad.\n",
        "\n",
        "\n",
        "### Nombre: Sara Calle Muñoz"
      ],
      "metadata": {
        "id": "ejroOZ4F4qg3"
      }
    },
    {
      "cell_type": "markdown",
      "source": [
        "# 1\n",
        "\n",
        "**(30 puntos)** Sea la función $f(x) = 3^x$,\n",
        "\n",
        "---\n",
        "\n",
        "a. Defina una función llamada derivada (ver abajo) que encuentre el valor de la derivada en $x=2$ usando diferencias finitas centrales,\n",
        "\n",
        "$$\n",
        "f'(x) ≈ \\frac{f(x+h) - f(x-h)}{2h}\n",
        "$$\n",
        "\n",
        "con una tolerancia menor a $10^{-8}$ y que retorne el valor de $f'(x=2)$ para cada valor de $h$. Tome con $h$ inicial 0.1.\n",
        "\n",
        "---\n",
        "\n",
        "b. Realice un gráfico logaritmico del error absoluto asociado a $f'(x)$ en función de $h$, conociendo que\n",
        "\n",
        "$$\n",
        "\\frac{d}{dx}(b^x) = b^x\\ln b\n",
        "$$\n",
        "\n",
        "\n",
        "\n",
        "\n",
        "\n",
        "```python\n",
        "def derivada(f,x, tol = 1e-8):\n",
        "'''\n",
        "Recuerde hacer su documentación\n",
        "'''\n",
        "\n",
        "  return valor_derivada, h_valores\n",
        "```\n",
        "\n"
      ],
      "metadata": {
        "id": "wNcvYgSvMr0P"
      }
    },
    {
      "cell_type": "code",
      "source": [
        "#definamos la función para encontrar la derivada\n",
        "def derivada(f,x, tol = 1e-8):\n",
        "'''\n",
        "Calcula la derivada aproximada usando diferencias finitas centrales\n",
        "Entradas:\n",
        "f: función a derivar\n",
        "x: valores para evaluar la derivada\n",
        "retorna:\n",
        "el valor de la derivada aproximado\n",
        "'''\n",
        "error = 1.0\n",
        "h = (b - a) / 2\n",
        "h_values = []\n",
        "x = np.array([2])\n",
        "while error > tol:\n",
        "\n",
        "\n",
        " valor derivada = (f(x+h) - f(x-h)) / (2*h)\n",
        " return valor_derivada, h_valores\n"
      ],
      "metadata": {
        "id": "fifYPyLU2mSN"
      },
      "execution_count": null,
      "outputs": []
    },
    {
      "cell_type": "markdown",
      "source": [
        "## 2\n",
        "\n",
        "**(40 puntos)** Considere un fluido viscoso que fluye en régimen laminar a través de una tubería cilíndrica horizontal de radio $R = 1.0\\ \\text{cm}$. Se ha medido experimentalmente la velocidad axial del fluido en distintos radios desde el centro de la tubería ($r = 0$) hasta la pared ($r = R$). Los datos obtenidos son:\n",
        "\n",
        "| $r$ (cm) | $v(r)$ (cm/s) |\n",
        "|----------|---------------|\n",
        "| 0.0      | 2.00          |\n",
        "| 0.2      | 1.92          |\n",
        "| 0.4      | 1.68          |\n",
        "| 0.6      | 1.28          |\n",
        "| 0.8      | 0.72          |\n",
        "| 1.0      | 0.00          |\n",
        "\n",
        "Con base en estos datos responda:\n",
        "\n",
        "---\n",
        "\n",
        "**a.** Encuentre una expresión para el polinomio interpolador de **Lagrange** para $v(r)$.\n",
        "\n",
        "---\n",
        "\n",
        "**b.** Usando las funciones obtenidas por **Lagrange** y **CubicSpline**, haga un gráfico donde se muestre el comportamiento de ambas interpolaciones, comparándolas con los datos experimentales.\n",
        "\n",
        "---\n",
        "\n",
        "**c.** Calcule la derivada $\\frac{dv}{dr}$, correspondiente al **gradiente de velocidad radial** usando los datos procedentes de la interpolación CubicSpline. Use `np.gradient` con $h = 10^{-4}$.\n",
        "\n",
        "---\n",
        "\n",
        "**d.** Determine el **esfuerzo cortante** en el fluido, dado por:\n",
        "\n",
        "$$\n",
        "\\tau(r) = \\mu \\frac{dv}{dr},\n",
        "$$\n",
        "\n",
        "donde $\\mu = 0.001\\ \\text{Pa}\\cdot\\text{s}$ es la viscosidad dinámica del fluido. Grafique $\\tau(r)$ para $r \\in [0, 1]$.\n",
        "\n",
        "---\n",
        "\n"
      ],
      "metadata": {
        "id": "UmhjjdEyBL7R"
      }
    },
    {
      "cell_type": "code",
      "source": [
        "# datos\n",
        "r = np.array([0.0, 0.2, 0.4, 0.6, 0.8, 1.0]) #en cm\n",
        "v = np.array([2.00, 1.92, 1.68, 1.28, 0.72, 0.00]) #en cm/s\n",
        "\n",
        "#calculemos el polinomio de lagrange\n",
        "pol_lagrange = lagrange(r, v)\n",
        "#print(f'El polinomio de interpolación de Lagrange para v(r) es: {pol_lagrange}')\n",
        "\n",
        "#calculemos el polinomio utilizando cubicspline\n",
        "pol_spline = CubicSpline(r, v)\n",
        "#print(f'El polinomio de interpolación de Lagrange para v(r) es: {pol_spline}')"
      ],
      "metadata": {
        "id": "qBbt3yi322-3"
      },
      "execution_count": 15,
      "outputs": []
    },
    {
      "cell_type": "code",
      "source": [
        "CubicSpline?"
      ],
      "metadata": {
        "id": "frRrnI6wv40m"
      },
      "execution_count": 11,
      "outputs": []
    },
    {
      "cell_type": "code",
      "source": [
        "x_interp = np.linspace(min(r), max(r), 100) #puntos para interpolar\n",
        "\n",
        "#graficamos\n",
        "plt.plot(r, v, 'o', label='Datos')\n",
        "plt.plot(x_interp, pol_lagrange(x_interp), label='Polinomio de Lagrange', color ='purple')\n",
        "plt.plot(x_interp, pol_spline(x_interp), label='Polinomio Con CubicSpline', color ='pink')\n",
        "plt.title(\"Polinomios de interpolación\")\n",
        "plt.legend()\n",
        "plt.grid()"
      ],
      "metadata": {
        "colab": {
          "base_uri": "https://localhost:8080/",
          "height": 453
        },
        "id": "EX2bIXVOy-8i",
        "outputId": "4558a3d1-37e4-4e95-e413-4bf6823845d8"
      },
      "execution_count": 74,
      "outputs": [
        {
          "output_type": "display_data",
          "data": {
            "text/plain": [
              "<Figure size 640x480 with 1 Axes>"
            ],
            "image/png": "[encoded data removed]"
          },
          "metadata": {}
        }
      ]
    },
    {
      "cell_type": "code",
      "source": [
        "np.gradient?"
      ],
      "metadata": {
        "id": "mz1027tf0auj"
      },
      "execution_count": 28,
      "outputs": []
    },
    {
      "cell_type": "code",
      "source": [
        "#calculemos dv/dr\n",
        "h = 1e-4\n",
        "r_i = np.arange(min(r), max(r)+h, h)\n",
        "fprime = np.gradient(pol_spline(r_i), h, edge_order=2)\n",
        "print(f'{fprime}')"
      ],
      "metadata": {
        "colab": {
          "base_uri": "https://localhost:8080/"
        },
        "id": "onIfhDGt0nuy",
        "outputId": "2fce29f8-cd2d-4cf2-ac6c-b2100700c032"
      },
      "execution_count": 44,
      "outputs": [
        {
          "output_type": "stream",
          "name": "stdout",
          "text": [
            "[-5.45696821e-12 -4.00000000e-04 -8.00000000e-04 ... -3.99920000e+00\n",
            " -3.99960000e+00 -4.00000000e+00]\n"
          ]
        }
      ]
    },
    {
      "cell_type": "code",
      "source": [
        "#determinemos el esfuerzo cortante en el fluido\n",
        "u = 0.001 #en Pa*s\n",
        "esfuerzo = u*fprime\n",
        "print(f'{esfuerzo}')\n",
        "\n",
        "#graficamos\n",
        "x = np.linspace(0, 1, len(r_i))\n",
        "plt.plot(x, esfuerzo, color ='purple')\n",
        "plt.title('$\\\\tau(r)$')\n",
        "plt.grid()\n",
        "plt.legend()"
      ],
      "metadata": {
        "colab": {
          "base_uri": "https://localhost:8080/",
          "height": 561
        },
        "id": "LHtOHCqM5I1u",
        "outputId": "d7f0642f-5f01-4ca6-fd49-e230399d36e7"
      },
      "execution_count": 84,
      "outputs": [
        {
          "output_type": "stream",
          "name": "stdout",
          "text": [
            "[-5.45696821e-15 -4.00000000e-07 -8.00000000e-07 ... -3.99920000e-03\n",
            " -3.99960000e-03 -4.00000000e-03]\n"
          ]
        },
        {
          "output_type": "stream",
          "name": "stderr",
          "text": [
            "/tmp/ipython-input-84-3485167617.py:11: UserWarning: No artists with labels found to put in legend.  Note that artists whose label start with an underscore are ignored when legend() is called with no argument.\n",
            "  plt.legend()\n"
          ]
        },
        {
          "output_type": "execute_result",
          "data": {
            "text/plain": [
              "<matplotlib.legend.Legend at 0x780fad583550>"
            ]
          },
          "metadata": {},
          "execution_count": 84
        },
        {
          "output_type": "display_data",
          "data": {
            "text/plain": [
              "<Figure size 640x480 with 1 Axes>"
            ],
            "image/png": "[encoded data removed]"
          },
          "metadata": {}
        }
      ]
    },
    {
      "cell_type": "markdown",
      "source": [
        "# 3\n",
        "\n",
        "**(30 puntos)** Considere un sólido tetraédrico $R$ delimitado por los planos:\n",
        "\n",
        "- $x = 0$, $y = 0$, $z = 0$,  \n",
        "- y el plano $x + y + z = 1$.\n",
        "\n",
        "Este sólido ocupa una región en el primer octante y está contenido completamente dentro del cubo unidad.\n",
        "\n",
        "La densidad del sólido es variable y está dada por $\\rho(x, y, z) = xyz$ [kg/m³].\n",
        "\n",
        "Considere:\n",
        "\n",
        "\n",
        "$$\n",
        "\\iiint_R f(x,y,z)\\, dV = \\int_0^1 \\int_0^{1-x} \\int_0^{1-x-y} f(x,y,z)\\, dz\\, dy\\, dx\n",
        "$$\n",
        "\n",
        "con\n",
        "\n",
        "$$\n",
        "dV = dz\\,dy\\,dx\n",
        "$$\n",
        "\n",
        "---\n",
        "\n",
        "a. Calcule la **masa total** del sólido:\n",
        "\n",
        "$$\n",
        "m = \\iiint_R \\rho(x, y, z)\\, dV.\n",
        "$$\n",
        "\n",
        "Usando la forma iterativa de `quad`, compare su resultado con `tplquad`.\n",
        "\n",
        "---\n",
        "\n",
        "b. Calcule el **momento de inercia respecto a los ejes $x$ y $z$**, definidos como:\n",
        "\n",
        "$$\n",
        "I_z = \\iiint_R (x^2 + y^2)\\, \\rho(x, y, z)\\, dV.\n",
        "$$\n",
        "\n",
        "$$\n",
        "I_x = \\iiint_R (y^2 + z^2)\\, \\rho(x, y, z)\\, dV.\n",
        "$$\n",
        "\n",
        "Puede usar la forma iterativa de `quad` o `tplquad`.\n",
        "\n",
        "\n",
        "\n"
      ],
      "metadata": {
        "id": "Qu0LchSUBfh4"
      }
    },
    {
      "cell_type": "code",
      "source": [
        "#calculemos la masa total, primero utilizando quad\n",
        "def integral_interna(y, x):\n",
        "  integrando = lambda z: x*y*z\n",
        "  res, _ = quad(integrando, 0, 1-x-y)\n",
        "  return res\n",
        "\n",
        "def integral_intermedia(x):\n",
        "  integrando = lambda y: integral_interna(y, x)\n",
        "  res, _ = quad(integrando, 0, 1-x)\n",
        "  return res\n",
        "\n",
        "integral_quad, _ = quad(integral_intermedia, 0, 1)\n",
        "print(f'La integral usando quad es {integral_quad}')\n"
      ],
      "metadata": {
        "id": "7EXQFhCI24pU",
        "colab": {
          "base_uri": "https://localhost:8080/"
        },
        "outputId": "8a550123-9b0c-455a-fb87-655c66180eaa"
      },
      "execution_count": 64,
      "outputs": [
        {
          "output_type": "stream",
          "name": "stdout",
          "text": [
            "La integral usando quad es 0.001388888888888889\n"
          ]
        }
      ]
    },
    {
      "cell_type": "code",
      "source": [
        "#ahora usando tlpquad\n",
        "f = lambda z, y, x: x*y*z\n",
        "a = lambda x: 0\n",
        "b = lambda x: 1- x\n",
        "c = lambda x, y: 0\n",
        "d = lambda x,y: 1-x-y\n",
        "\n",
        "integral_tlpquad, _ = tplquad(f, 0, 1, a, b, c, d )\n",
        "print(f'La integral usando tlpquad es: {integral_tlpquad}')\n",
        "\n",
        "#la diferencia entre ambos métodos\n",
        "error = abs(integral_quad - integral_tlpquad)\n",
        "print(f'El error es {error}') #no se"
      ],
      "metadata": {
        "colab": {
          "base_uri": "https://localhost:8080/"
        },
        "id": "0QP1YxDx_GPJ",
        "outputId": "add6855e-3228-469e-b563-38da1f623ed0"
      },
      "execution_count": 67,
      "outputs": [
        {
          "output_type": "stream",
          "name": "stdout",
          "text": [
            "La integral usando tlpquad es: 0.001388888888888889\n",
            "El error es 0.0\n"
          ]
        }
      ]
    },
    {
      "cell_type": "code",
      "source": [
        "#ahora calculemos el momento de inercia para z\n",
        "f = lambda z, y, x: (y**2 + z**2)*(x*y*z)\n",
        "a = lambda x: 0\n",
        "b = lambda x: 1- x\n",
        "c = lambda x, y: 0\n",
        "d = lambda x,y: 1-x-y\n",
        "\n",
        "momento_z, _ = tplquad(f, 0, 1, a, b, c, d)\n",
        "print(f'El momento de inercia en x usando tlpquad es: {momento_z}')"
      ],
      "metadata": {
        "colab": {
          "base_uri": "https://localhost:8080/"
        },
        "id": "-YU9mmdf_awV",
        "outputId": "41281ab1-f7b2-4599-daed-1c181d5fe23b"
      },
      "execution_count": 71,
      "outputs": [
        {
          "output_type": "stream",
          "name": "stdout",
          "text": [
            "El momento de inercia en x usando tlpquad es: 0.00029761904761904765\n"
          ]
        }
      ]
    },
    {
      "cell_type": "code",
      "source": [
        "#ahora calculemos el momento de inercia para x\n",
        "f = lambda z, y, x: (x**2 + y**2)*(x*y*z)\n",
        "a = lambda x: 0\n",
        "b = lambda x: 1- x\n",
        "c = lambda x, y: 0\n",
        "d = lambda x,y: 1-x-y\n",
        "\n",
        "momento_x, _ = tplquad(f, 0, 1, a, b, c, d)\n",
        "print(f'El momento de inercia en x usando tlpquad es: {momento_x}')"
      ],
      "metadata": {
        "colab": {
          "base_uri": "https://localhost:8080/"
        },
        "id": "LNECB8zgBFYv",
        "outputId": "4e17cb8f-0bd9-4e54-a03e-f2d829f9841a"
      },
      "execution_count": 72,
      "outputs": [
        {
          "output_type": "stream",
          "name": "stdout",
          "text": [
            "El momento de inercia en x usando tlpquad es: 0.00029761904761904765\n"
          ]
        }
      ]
    }
  ]
}