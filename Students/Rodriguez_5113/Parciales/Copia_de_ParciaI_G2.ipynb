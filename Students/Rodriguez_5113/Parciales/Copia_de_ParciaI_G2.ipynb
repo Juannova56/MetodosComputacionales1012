{
  "nbformat": 4,
  "nbformat_minor": 0,
  "metadata": {
    "colab": {
      "provenance": []
    },
    "kernelspec": {
      "name": "python3",
      "display_name": "Python 3"
    },
    "language_info": {
      "name": "python"
    }
  },
  "cells": [
    {
      "cell_type": "markdown",
      "source": [
        "# Parcial I - Métodos Computacionales\n",
        "\n",
        "**2025-1**\n",
        "\n",
        "---\n",
        "\n",
        "Nombre: Jose Nicolas Rodriguez Montoya\n",
        "\n",
        "Identificación: 1066865113\n",
        "\n",
        "---\n",
        "\n",
        "* ⚠ Explique su código usando con comentarios,\n",
        "\n",
        "* ❗Todas las funciones deben tener documentación básica,\n",
        "\n",
        "* 🛑 El uso de IA's no está permitido,\n",
        "\n",
        "* ⚛ La interpretación del enunciado hace parte de la evaluación,\n",
        "\n",
        "* ⏲ Este parcial tiene una duración de 2 horas"
      ],
      "metadata": {
        "id": "bcIQtfNJ4sBq"
      }
    },
    {
      "cell_type": "code",
      "source": [
        "# Librerias útiles\n",
        "import numpy as np\n",
        "import matplotlib.pyplot as plt\n",
        "import pandas as pd\n",
        "from math import factorial\n",
        "from scipy.optimize import root_scalar, newton, bisect # Funciones para raices\n",
        "\n",
        "## Ayudas\n",
        "# np.sign (Signo de una variable)\n",
        "# np.deg2rad (Convertir grados a radianes)\n",
        "# pd.Dataframe Genera un dataframe a partir de un diccionario o listas\n",
        "# range(0, 10, 2) (Pasos de 2 comenzando en 0 hasta 10)"
      ],
      "metadata": {
        "id": "-86TwvuE48Kp"
      },
      "execution_count": 1,
      "outputs": []
    },
    {
      "cell_type": "markdown",
      "source": [
        "# 1\n",
        "\n",
        "**(40 puntos)** El **método de Ridder** es un algoritmo de búsqueda de raíces que, como la bisección, requiere un intervalo $[a, b]$ tal que $f(a) \\cdot f(b) < 0$. A diferencia de la bisección, Ridder introduce una corrección exponencial para acelerar la convergencia, logrando **convergencia cuadrática** sin requerir derivadas.\n",
        "\n",
        "---\n",
        "### Pasos para implementar\n",
        "\n",
        "1. **Definir la función** $f(x)$ y un intervalo $[a, b]$ tal que:\n",
        "\n",
        "   - $f(a) \\cdot f(b) < 0$ (la función tiene signos opuestos en los extremos del intervalo).\n",
        "   - La función debe ser continua en $[a, b]$.\n",
        "\n",
        "2. **Calcular el punto medio**:\n",
        "\n",
        "   $$\n",
        "   m = \\frac{a + b}{2}\n",
        "   $$\n",
        "\n",
        "3. **Calcular la corrección exponencial**:\n",
        "\n",
        "   - Evaluar $f(a)$, $f(b)$ y $f(m)$.\n",
        "   - Calcular:\n",
        "\n",
        "     $$\n",
        "     s = \\sqrt{f(m)^2 - f(a) f(b)}\n",
        "     $$\n",
        "\n",
        "   - Si $s = 0$, detener: la raíz no puede estimarse en esta iteración.\n",
        "\n",
        "   - Calcular el nuevo candidato a raíz:\n",
        "\n",
        "     $$\n",
        "     x = m + \\frac{(m - a) f(m)}{s} \\cdot \\text{sign}(f(a) - f(b))\n",
        "     $$\n",
        "\n",
        "4. **Evaluar $f(x)$** y actualizar el intervalo:\n",
        "\n",
        "   - Si $f(m) \\cdot f(x) < 0$, entonces la nueva raíz está entre $m$ y $x$.\n",
        "   - Si $f(a) \\cdot f(x) < 0$, entonces actualizar $b = x$, luego $f(b) = f(x)$.\n",
        "   - Si $f(b) \\cdot f(x) < 0$, entonces actualizar $a = x$, luego $f(a) = f(x)$.\n",
        "   - En cada paso mantener la condición $f(a) \\cdot f(b) < 0$.\n",
        "\n",
        "5. **Criterio de parada**:\n",
        "\n",
        "   - Repetir los pasos anteriores hasta que se alcance la tolerancia deseada:\n",
        "\n",
        "     $$\n",
        "     |f(x)| < \\varepsilon \\quad \\text{o} \\quad |b - a| < \\delta\n",
        "     $$\n",
        "\n",
        "   donde $\\varepsilon$ y $\\delta$ son tolerancias establecidas por el usuario.\n",
        "\n",
        "---\n",
        "\n",
        "* Defina una función llamada `Ridder` que calcule la raiz de una función dada. Su función debe tener documentación y retornar el valor de la raiz junto con el número de iteraciones empleadas para alcanzar la convergencia dada una tolerancia.\n",
        "\n",
        "* Usando\n",
        "$$\\cos(x) = x,$$\n",
        "\n",
        "Grafique la función para $0\\leq x \\leq \\pi/2$ usando 100 puntos. Luego, cree un DataFrame con los datos de $x$ y $f(x)$, y encuentre una primera aproximación a la raiz aplicando un filtro en el dataframe con los valores más cercanos a cero.\n",
        "\n",
        "* Usando el método de Ridder encuentre la raiz númericamente y compare su resultado usando el método de bisección y secante.\n",
        "\n",
        "* Para las siguientes tolerancias (ver código) realice un gráfico usando escala logaritimica en $y$ de cuantas iteraciones son necesarias hasta alcanzar la convergencia. ¿Qué puede concluir acerca de la misma?\n",
        "\n",
        "```python\n",
        "# Tolerancias\n",
        "tol = np.logspace(-1, -20, 20)\n",
        "\n",
        "# Grafico semilog\n",
        "\n",
        "plt.semilogy(N, tol)\n",
        "\n",
        "```"
      ],
      "metadata": {
        "id": "rNIchL-H5ZII"
      }
    },
    {
      "cell_type": "code",
      "source": [
        "# Aquí va su código\n",
        "M = lambda a, b: (a + b)/2 #funcion auxiliar para el punto medio\n",
        "s = lambda f, ms, a_s, b_s : np.sqrt((f(ms)**2)-(f(a_s)*f(b_s)))\n",
        "\n",
        "def Ridder (f, a, b, tol=1e-8, maxiter=1000):\n",
        "  '''\n",
        "  Toma una funcion y dos puntos que tengan signos opuestos de la funcion y retorna su raiz\n",
        "\n",
        "  parametros:\n",
        "  f = la funcion\n",
        "  a = primer valor\n",
        "  b = segund valor\n",
        "  tol = epsilon que usaremos\n",
        "  maxiter = rango maximo de iteraciones\n",
        "\n",
        "  '''\n",
        "\n",
        "  for i in range(maxiter):\n",
        "\n",
        "    m = M(a, b)\n",
        "    if f(a)*f(b)>0:\n",
        "      raise ValueError('f(a) y f(b) deben tener signos diferentes')\n",
        "\n",
        "    if s(f, m, a, b) <= tol:\n",
        "      raise ValueError('no es posible continuar con la iteracion')\n",
        "    else:\n",
        "      x = m +(((m - a)*f(m))/(s(f, m,a, b)))*(np.sign(f(a)-f(b)))\n",
        "\n",
        "      if abs(f(x))< tol:\n",
        "        print(f'{x} es una raiz')\n",
        "        return x, i\n",
        "\n",
        "      elif f(m)*f(x) < 0:\n",
        "        a = m\n",
        "        b = x\n",
        "\n",
        "      elif f(a)*f(x) < 0:\n",
        "        b = x\n",
        "        n +=1\n",
        "      elif f(b)*f(x) < 0:\n",
        "        a=x\n",
        "        n+=1\n",
        "  print('maximo de iteraciones alcanzando')\n",
        "\n",
        "\n",
        "\n",
        "\n",
        "\n",
        "\n",
        "\n",
        "\n"
      ],
      "metadata": {
        "id": "phBAIpoX7Y9W"
      },
      "execution_count": 89,
      "outputs": []
    },
    {
      "cell_type": "code",
      "source": [
        "f = lambda x: np.cos(x)-x\n",
        "x = np. radians(np.linspace(0, 90, 100))\n",
        "\n",
        "plt.plot(x, f(x))\n",
        "\n",
        "d = {'thetas': x, 'f(thetas)': f(x)}\n",
        "\n",
        "table = pd.DataFrame(d)\n",
        "table\n",
        "\n",
        "print(table[(table['f(thetas)']<0.1) & (table['f(thetas)']>- (0.1))])\n",
        "\n",
        "print (f' tenemos una raiz en x{Ridder(f, 0, 1)[0]} y tomo {Ridder(f, 0, 1)[1]} iteracioness')\n",
        "\n",
        "#diferencia\n",
        "print(abs(bisect(f, 0, 1)-Ridder(f, 0, 1)[0]))\n",
        "\n",
        "\n",
        "\n"
      ],
      "metadata": {
        "colab": {
          "base_uri": "https://localhost:8080/",
          "height": 673
        },
        "id": "3oJ-ink2ttof",
        "outputId": "1fc65849-1e92-489d-fc01-6f05e174f344"
      },
      "execution_count": 92,
      "outputs": [
        {
          "output_type": "stream",
          "name": "stdout",
          "text": [
            "      thetas  f(thetas)\n",
            "43  0.682265   0.093881\n",
            "44  0.698132   0.067913\n",
            "45  0.713998   0.041751\n",
            "46  0.729865   0.015399\n",
            "47  0.745732  -0.011140\n",
            "48  0.761598  -0.037864\n",
            "49  0.777465  -0.064771\n",
            "50  0.793331  -0.091857\n",
            "0.7390851332162256 es una raiz\n",
            "0.7390851332162256 es una raiz\n",
            " tenemos una raiz en x0.7390851332162256 y tomo 3 iteracioness\n",
            "0.7390851332162256 es una raiz\n",
            "1.467936883159382e-12\n"
          ]
        },
        {
          "output_type": "display_data",
          "data": {
            "text/plain": [
              "<Figure size 640x480 with 1 Axes>"
            ],
            "image/png": "[encoded data removed]"
          },
          "metadata": {}
        }
      ]
    },
    {
      "cell_type": "markdown",
      "source": [
        "#2\n",
        "\n",
        "**(60 puntos)** En óptica, cuando un rayo de luz atraviesa la interfaz entre dos medios con diferentes índices de refracción, su dirección cambia según la ley de Snell. Para el caso de un prisma triangular, cuando un rayo emerge después de dos refracciones, el ángulo de desviación total $\\delta$ está dado por:\n",
        "\n",
        "$$\\delta(\\theta_i) = \\theta_i + \\arcsin\\left(n\\sin\\left(A - \\arcsin\\left(\\frac{\\sin\\theta_i}{n}\\right)\\right)\\right) - A$$\n",
        "\n",
        "donde $\\theta_i$ es el ángulo de incidencia, $n$ es el índice de refracción del prisma y $A$ es el ángulo del prisma.\n",
        "\n",
        "La derivada de esta función con respecto al ángulo de incidencia $\\theta_i$ es:\n",
        "\n",
        "$$\\frac{d\\delta}{d\\theta_i} = 1 - \\frac{\\cos\\theta_i \\cdot \\cos(A-\\theta_r)}{\\cos\\theta_r \\cdot \\sqrt{1-n^2\\sin^2(A-\\theta_r)}}$$\n",
        "\n",
        "donde $\\theta_r = \\arcsin\\left(\\frac{\\sin\\theta_i}{n}\\right)$ es el ángulo de refracción en la primera interfaz.\n",
        "\n",
        "Considere un prisma de vidrio crown con $n = 1.52$ y $A = 60°$.\n",
        "\n",
        "### Parte A:\n",
        "* Escriba una función explicita y documentada para $\\frac{d\\delta}{d\\theta_i}$\n",
        "\n",
        "* Realice un gráfico para $\\frac{d\\delta}{d\\theta_i}$ y encuentre el ángulo de incidencia $\\theta_i$ que produce el ángulo de desviación mínimo para $\\theta_i \\in [30°, 80°]$.\n",
        "\n",
        "* Use el método de Newton-Raphson (sin derivada) y el método de la secante para hallar el ángulo de desviación mínimo.\n",
        "\n",
        "\n",
        "### Parte B:\n",
        "* Determine el ángulo crítico $\\theta_c$ para el cual el rayo comienza a experimentar reflexión interna total en la segunda interfaz del prisma. Esta condición ocurre cuando:\n",
        "\n",
        "$$\\sin(A - \\theta_r) = \\frac{1}{n}$$\n",
        "\n",
        "* Resuelva numéricamente la ecuación anterior para encontrar el ángulo de incidencia $\\theta_i$ correspondiente a este ángulo crítico, utilizando el método de la bisección.\n",
        "\n",
        "\n",
        "\n"
      ],
      "metadata": {
        "id": "od2GDFK5-QJC"
      }
    },
    {
      "cell_type": "code",
      "source": [
        "# Aquí va su código\n",
        "n = 1.52\n",
        "A = np.radians(60)  # damos los parametros de la funcion en el caso particular.\n",
        "\n",
        "#Creamos un espacio con los valores de theta que queremos que tome y los pasamos a radianes\n",
        "\n",
        "thetas = np.radians(np.linspace(30, 80, 100))\n",
        "\n",
        "delta = lambda t : t + np.asin(n*np.sin(A - np.asin(np.sen(t/n)))) - A  #escribimos la funcion $delta$\n",
        "\n",
        "\n",
        "#Para delta prime es necesario calcular un theta_r que consideraremos como otra funcion auxiliar\n",
        "\n",
        "t_r = lambda t: np.asin(np.sin(t)/n)\n",
        "\n",
        "\n",
        "delta_prime = lambda t: 1 - ((np.cos(t) * np.cos(A - t_r(t)))/(np.cos(t_r(t)) * np.sqrt(1 - (n**2)*(np.sin(A - t_r(t)))**2)))\n",
        "\n",
        "plt.plot(thetas, delta_prime(thetas))\n",
        "plt.axhline(y = 0, color= 'red', linestyle = '--')\n",
        "\n",
        "\n",
        "# como nos estan pidiend un maximo y un minimo debemos hallar las raices de esta funcion derivada\n",
        "\n",
        "#Metodo de newton.\n",
        "angulo = np.rad2deg(newton(delta_prime, 0.7))\n",
        "print(f'angulo minimo hayado con el metodo de newton {angulo}')\n",
        "\n",
        "#Metodo de la secante\n",
        "angulosec = np.rad2deg(newton(delta_prime,x0 = 0.7, x1=1.2))\n",
        "print(f'angulo encontrado con el metodo de la secante {angulosec}')\n",
        "\n",
        "\n",
        "\n",
        "\n"
      ],
      "metadata": {
        "id": "hkHRzyB9-mSS",
        "colab": {
          "base_uri": "https://localhost:8080/",
          "height": 468
        },
        "outputId": "bffa229e-44c0-407f-eda2-76fa3dd38e74"
      },
      "execution_count": 48,
      "outputs": [
        {
          "output_type": "stream",
          "name": "stdout",
          "text": [
            "angulo minimo hayado con el metodo de newton 49.46419788868343\n",
            "angulo encontrado con el metodo de la secante 49.46419788868343\n"
          ]
        },
        {
          "output_type": "display_data",
          "data": {
            "text/plain": [
              "<Figure size 640x480 with 1 Axes>"
            ],
            "image/png": "[encoded data removed]"
          },
          "metadata": {}
        }
      ]
    },
    {
      "cell_type": "code",
      "source": [
        "# Parte B\n",
        "thetas_crit = np.radians(np.linspace(0 , 80, 100))\n",
        "Theta_crit = lambda t: np.sin(A - t_r(t)) - 1/n #definimos la funcion de esta segunda funcion\n",
        "\n",
        "plt.plot(thetas_crit, Theta_crit(thetas_crit))\n",
        "plt.axhline(0, color= 'red', linestyle = '--')\n",
        "\n",
        "print(f'El angulo critico de esta funcion hallado con el metodo de biseccion es {bisect(Theta_crit, 0.2, 1)}')"
      ],
      "metadata": {
        "colab": {
          "base_uri": "https://localhost:8080/",
          "height": 447
        },
        "id": "VMBmS776gjs-",
        "outputId": "2cce89f8-5462-4e20-f0e1-9e57d0586266"
      },
      "execution_count": 47,
      "outputs": [
        {
          "output_type": "stream",
          "name": "stdout",
          "text": [
            "El angulo critico de esta funcion hallado con el metodo de biseccion es 0.5136536662190336\n"
          ]
        },
        {
          "output_type": "display_data",
          "data": {
            "text/plain": [
              "<Figure size 640x480 with 1 Axes>"
            ],
            "image/png": "[encoded data removed]"
          },
          "metadata": {}
        }
      ]
    },
    {
      "cell_type": "code",
      "source": [],
      "metadata": {
        "id": "i88nJFqLd490"
      },
      "execution_count": null,
      "outputs": []
    }
  ]
}