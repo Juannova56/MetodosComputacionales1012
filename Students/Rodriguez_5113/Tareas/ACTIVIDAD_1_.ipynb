{
  "nbformat": 4,
  "nbformat_minor": 0,
  "metadata": {
    "colab": {
      "provenance": []
    },
    "kernelspec": {
      "name": "python3",
      "display_name": "Python 3"
    },
    "language_info": {
      "name": "python"
    }
  },
  "cells": [
    {
      "cell_type": "code",
      "execution_count": null,
      "metadata": {
        "id": "EgKe4kSFhS0c"
      },
      "outputs": [],
      "source": [
        "def Eratostenes(n):\n",
        "\n",
        "  bool_values = []\n",
        "  for i in range(n+1):        #creamos la lista con los valores True, excpeto el 0 y 1, que seran FALSE\n",
        "    if i == 0 or i == 1:\n",
        "      bool_values.append(False)\n",
        "    else:\n",
        "      bool_values.append(True)\n",
        "  index_bool=[]\n",
        "  for p in range (2, n+1):\n",
        "    if bool_values[p] == True:\n",
        "      for i in range(p*2, n+1, p):\n",
        "        bool_values[i] = False\n",
        "\n",
        "    if bool_values[p] == True:\n",
        "      index_bool.append(p)\n",
        "  return index_bool\n",
        "\n",
        "\n",
        "\n",
        "\n",
        "\n",
        "\n",
        "\n",
        "\n",
        "\n"
      ]
    },
    {
      "cell_type": "code",
      "source": [
        "Eratostenes(50)"
      ],
      "metadata": {
        "colab": {
          "base_uri": "https://localhost:8080/"
        },
        "id": "FVY31Y7nhmR4",
        "outputId": "39bc292b-edae-437b-8979-1dc7dc096dc5"
      },
      "execution_count": null,
      "outputs": [
        {
          "output_type": "execute_result",
          "data": {
            "text/plain": [
              "[2, 3, 5, 7, 11, 13, 17, 19, 23, 29, 31, 37, 41, 43, 47]"
            ]
          },
          "metadata": {},
          "execution_count": 28
        }
      ]
    },
    {
      "cell_type": "code",
      "source": [
        "##Aproximacion de pi\n",
        "def apro_pi (N):\n",
        "  sum = 0\n",
        "  for i in range(N+1):\n",
        "    x= (-1)**i/ (2*i+1)\n",
        "    sum += x\n",
        "\n",
        "  return 4*sum\n"
      ],
      "metadata": {
        "id": "zGBM2T-1hsaH"
      },
      "execution_count": null,
      "outputs": []
    },
    {
      "cell_type": "code",
      "source": [
        "print(apro_pi(10))\n",
        "print(apro_pi(100))\n",
        "print(apro_pi(1000))\n",
        "print(apro_pi(10000))\n"
      ],
      "metadata": {
        "colab": {
          "base_uri": "https://localhost:8080/"
        },
        "id": "9gMun2s0hzvB",
        "outputId": "aab1c97b-d4be-4ac2-9eaf-2c7814fe80e7"
      },
      "execution_count": null,
      "outputs": [
        {
          "output_type": "stream",
          "name": "stdout",
          "text": [
            "3.232315809405594\n",
            "3.1514934010709914\n",
            "3.1425916543395442\n",
            "3.1416926435905346\n"
          ]
        }
      ]
    },
    {
      "cell_type": "code",
      "source": [
        "def suma_div_propios(n):\n",
        "  sum= 0\n",
        "  if n==1 or n== 0:\n",
        "    print(0)\n",
        "  else:\n",
        "    for i in range(1,n+1):\n",
        "      if n%i == 0 and i != n:\n",
        "        sum += i\n",
        "  return sum\n",
        "\n",
        "#suma_div_propios(4)\n",
        "\n",
        "\n"
      ],
      "metadata": {
        "id": "JTQvAttHpm3R"
      },
      "execution_count": null,
      "outputs": []
    },
    {
      "cell_type": "code",
      "source": [
        "def frnumbers(limi, lims):\n",
        "  friends= set()\n",
        "  for a in range(limi, lims+1):\n",
        "    b = suma_div_propios(a)\n",
        "    if b>a and b<lims:\n",
        "      if suma_div_propios(b) == a:\n",
        "        friends.add((a,b))\n",
        "\n",
        "  return sorted(friends)\n",
        "\n",
        "\n",
        "\n",
        "frnumbers(1,10000)\n",
        "\n",
        "\n"
      ],
      "metadata": {
        "colab": {
          "base_uri": "https://localhost:8080/"
        },
        "id": "NPOZ_H2UsiGI",
        "outputId": "d3130752-0da8-42dc-a179-5b0dea1fb3ea"
      },
      "execution_count": null,
      "outputs": [
        {
          "output_type": "stream",
          "name": "stdout",
          "text": [
            "0\n"
          ]
        },
        {
          "output_type": "execute_result",
          "data": {
            "text/plain": [
              "[(220, 284), (1184, 1210), (2620, 2924), (5020, 5564), (6232, 6368)]"
            ]
          },
          "metadata": {},
          "execution_count": 5
        }
      ]
    },
    {
      "cell_type": "code",
      "source": [
        "# Solicitar palabra al usuario\n",
        "palabra = input(\"Ingrese una palabra: \").lower()\n",
        "\n",
        "# Crear diccionario para contar letras\n",
        "contador_letras = {}\n",
        "\n",
        "# Contar ocurrencias de cada letra\n",
        "for letra in palabra:\n",
        "    if letra in contador_letras:\n",
        "        contador_letras[letra] += 1\n",
        "    else:\n",
        "        contador_letras[letra] = 1\n",
        "\n",
        "# Mostrar resultado\n",
        "print(\"\\nConteo de letras:\")\n",
        "for letra, cantidad in contador_letras.items():\n",
        "    print(f\"'{letra}': {cantidad}\")"
      ],
      "metadata": {
        "colab": {
          "base_uri": "https://localhost:8080/"
        },
        "id": "O5Hwrcvju57t",
        "outputId": "b156825f-7c05-4cc9-9703-59397a4b1647"
      },
      "execution_count": null,
      "outputs": [
        {
          "output_type": "stream",
          "name": "stdout",
          "text": [
            "Ingrese una palabra: esternocleidomastoideo\n",
            "\n",
            "Conteo de letras:\n",
            "'e': 4\n",
            "'s': 2\n",
            "'t': 2\n",
            "'r': 1\n",
            "'n': 1\n",
            "'o': 4\n",
            "'c': 1\n",
            "'l': 1\n",
            "'i': 2\n",
            "'d': 2\n",
            "'m': 1\n",
            "'a': 1\n"
          ]
        }
      ]
    }
  ]
}