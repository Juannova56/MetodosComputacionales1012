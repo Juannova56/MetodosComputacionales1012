{
  "nbformat": 4,
  "nbformat_minor": 0,
  "metadata": {
    "colab": {
      "provenance": []
    },
    "kernelspec": {
      "name": "python3",
      "display_name": "Python 3"
    },
    "language_info": {
      "name": "python"
    }
  },
  "cells": [
    {
      "cell_type": "code",
      "execution_count": null,
      "metadata": {
        "id": "z7RCty67y3ME"
      },
      "outputs": [],
      "source": [
        "import numpy as np\n",
        "import matplotlib.pyplot as plt\n",
        "import scipy.linalg as la"
      ]
    },
    {
      "cell_type": "markdown",
      "source": [
        "# Actividad 08: Algebra Lineal y Matrices\n",
        "\n",
        "---\n",
        "### Profesor: Juan Marcos Marín\n",
        "### Nombre: Jose Nicolas Rodriguez Montoya\n",
        "*Métodos computacionales*\n",
        "\n",
        "---"
      ],
      "metadata": {
        "id": "GGQpGoujzAnQ"
      }
    },
    {
      "cell_type": "markdown",
      "source": [
        "#1\n",
        "Escriba tres matrices aleatorias $A$, $B$ y $C$ de $3\\times 3$, y demuestre las siguientes relaciones\n",
        "\n",
        "- $ \\mathbf{A}\\mathbf{B} \\neq \\mathbf{B}\\mathbf{A} $, en general.\n",
        "- $ (\\mathbf{A}\\mathbf{B})\\mathbf{C} = \\mathbf{A}(\\mathbf{B}\\mathbf{C}) $.\n",
        "- $ \\mathbf{A}(\\mathbf{B} + \\mathbf{C}) = \\mathbf{A}\\mathbf{B} + \\mathbf{A}\\mathbf{C} $.\n",
        "- $ (\\mathbf{A} + \\mathbf{B})\\mathbf{C} = \\mathbf{A}\\mathbf{C} + \\mathbf{B}\\mathbf{C} $.\n",
        "- $ (\\mathbf{A}\\mathbf{B})^\\top = \\mathbf{B}^\\top \\mathbf{A}^\\top $.\n",
        "- $ \\det(\\mathbf{A}\\mathbf{B}) = \\det(\\mathbf{A}) \\det(\\mathbf{B}) $.\n",
        "- $ (\\mathbf{A}^\\top)^\\top = \\mathbf{A} $.\n",
        "- $ (c\\mathbf{A})^\\top = c\\mathbf{A}^\\top $.\n",
        "- $ (\\mathbf{A} + \\mathbf{B})^\\top = \\mathbf{A}^\\top + \\mathbf{B}^\\top $.\n",
        "\n"
      ],
      "metadata": {
        "id": "U9hC1R-F0-iH"
      }
    },
    {
      "cell_type": "code",
      "source": [
        "from numpy import linalg as la\n",
        "\n",
        "A = np.random.rand(3, 3)  # Definimos 3 matrices con entradas flotantes aleatorias\n",
        "B = np.random.rand(3, 3)\n",
        "C = np.random.rand(3, 3)\n",
        "\n",
        "conmutatividad = np.allclose(A@B, B@A) # Para cada caso definimos una variable Booleana que nos idra si la condicion se ccumple o no\n",
        "print(f'la conmutatividad es {conmutatividad}')\n",
        "\n",
        "asociatividad = np.allclose((A@B)@C, A@(B@C))\n",
        "print(f'la asociatividad es {asociatividad}')\n",
        "\n",
        "distributividad = np.allclose(A@(B+C), (A@B) + (A@C))\n",
        "print(f'la distributividad es {distributividad}')\n",
        "\n",
        "distributividad_2 = np.allclose((A+B)@C, A@C + B@C)\n",
        "print(f'la distributividad es {distributividad}')\n",
        "\n",
        "transpose_distribute = np.allclose((A@B).T, (B.T) @ (A.T))\n",
        "print(f'la distribucion de transpuesta es {transpose_distribute}')\n",
        "\n",
        "distribute_det = np.allclose(la.det(A@B), la.det(A)*la.det(B))\n",
        "print(f'la distribucion de determinante es {distribute_det}')\n",
        "\n",
        "inversibilidad_transpose = np.allclose((A.T).T, A)\n",
        "print(f'la inversibilidad de transpuesta es {inversibilidad_transpose}')\n",
        "\n",
        "escalar_transpose = np.allclose((3*A).T, 3*(A.T))\n",
        "print(f'la escalar de transpuesta es {escalar_transpose}')\n",
        "\n",
        "distribute_transpose = np.allclose((A+B).T, (A.T) + (B.T))\n",
        "print(f'la distribucion de transpuesta es {distribute_transpose}')"
      ],
      "metadata": {
        "colab": {
          "base_uri": "https://localhost:8080/"
        },
        "id": "odczSIceg53_",
        "outputId": "ac551036-e47d-464b-b221-f5d4038e07a1"
      },
      "execution_count": null,
      "outputs": [
        {
          "output_type": "stream",
          "name": "stdout",
          "text": [
            "la conmutatividad es False\n",
            "la asociatividad es True\n",
            "la distributividad es True\n",
            "la distributividad es True\n",
            "la distribucion de transpuesta es True\n",
            "la distribucion de determinante es True\n",
            "la inversibilidad de transpuesta es True\n",
            "la escalar de transpuesta es True\n",
            "la distribucion de transpuesta es True\n"
          ]
        }
      ]
    },
    {
      "cell_type": "markdown",
      "source": [
        "#2\n",
        "\n",
        "El **Teorema de Laplace** es un método para calcular el determinante de una matriz cuadrada, particularmente útil para matrices de orden mayor a 2. Este teorema se basa en la expansión del determinante por los elementos de una fila o una columna cualquiera.\n",
        "\n",
        "\n",
        "\n",
        "$$\n",
        "\\det(A) = \\sum_{j=1}^n (-1)^{1+j} a_{1j} M_{1j}\n",
        "$$\n",
        "\n",
        "donde:\n",
        "- $a_{1j}$ es el elemento de la primera fila y columna $j$.\n",
        "- $M_{1j}$ es el menor asociado al elemento $a_{1j}$, es decir, el determinante de la submatriz de $3 \\times 3$ que se obtiene al eliminar la fila 1 y la columna $j$.\n",
        "- $(-1)^{1+j}$ es el signo correspondiente al cofactor del elemento $a_{1j}$.\n",
        "\n",
        "Podemos realizar una función recursiva para el cálculo del determinante, sabiendo que el valor del determinante de una matriz de orden uno es el único elemento de esa matriz, y el de una matriz de orden superior a uno es la suma de cada uno de los elementos de una fila o columna por los Adjuntos a ese elemento, como en la función recursiva se emplea la misma función definida el cálculo lo haremos por Menor complementario, un ejemplo desarrollado por la primera fila sería:\n",
        "\n",
        "$$\n",
        "   \\det (A_{j,j}) =\n",
        "   \\left \\{\n",
        "   \\begin{array}{llcl}\n",
        "      si & j = 1 & \\to & a_{1,1} \\\\\n",
        "                                 \\\\\n",
        "      si & j > 1 & \\to & \\displaystyle \\sum_{k=1}^j \\; (-1)^{(1+k)} \\cdot a_{1,k} \\cdot \\det( \\alpha_{1,k})\n",
        "   \\end{array}\n",
        "   \\right .\n",
        "$$\n",
        "\n",
        "Realice una función que encuentre el determinante de una matriz usando la recursividad aqui planteada, explique explicitamente su código"
      ],
      "metadata": {
        "id": "ibYf2I9T2pIw"
      }
    },
    {
      "cell_type": "code",
      "source": [
        "def laplace_theorem(M):\n",
        "  '''\n",
        "  Regresa el determinante de una Matriz M usando el teorema de Laplace\n",
        "\n",
        "  Entradas:\n",
        "    M (matriz): matriz cuadrada ndarray\n",
        "\n",
        "  Salida:\n",
        "    Coeff: determinante de la función -> float\n",
        "\n",
        "  '''\n",
        "  n = np.shape(M)[0]  #le decimos a la maquina cuantas filas tiene nuestra matriz\n",
        "  if np.shape(M)[0] != np.shape(M)[1]:\n",
        "    raise ValueError('La matriz no es cuadrada')\n",
        "\n",
        "  #Caso base\n",
        "  if n == 1:\n",
        "    return M.item() #cuando es de un solo elemento  y habiando comprobado que es cuadrada el determinante sera el unico elemento de la matriz\n",
        "\n",
        "  det = 0 #Inicializamos una suma en 0\n",
        "\n",
        "  for j in range(n):\n",
        "        # Crear la submatriz eliminando fila 0 y columna j\n",
        "        menor = np.delete(np.delete(M, 0, axis=0), j, axis=1)\n",
        "\n",
        "        # Calcular el cofactor: (-1)^(i+j) donde i=0 (primera fila)\n",
        "        cofactor = (-1) ** (0 + j) * M[0, j]\n",
        "\n",
        "        # Llamada recursiva\n",
        "        det += cofactor * laplace_theorem(menor)\n",
        "\n",
        "  return det\n",
        "\n"
      ],
      "metadata": {
        "id": "-8tYERLHtrtY"
      },
      "execution_count": null,
      "outputs": []
    },
    {
      "cell_type": "code",
      "source": [
        "A = np.array([[1,2,5],\n",
        "              [4,6,3],\n",
        "              [7,8,0]], dtype= float)\n",
        "\n",
        "\n",
        "laplace_theorem(A)"
      ],
      "metadata": {
        "colab": {
          "base_uri": "https://localhost:8080/"
        },
        "id": "xQBgVldR8-IP",
        "outputId": "ba2d3531-c7e1-4e50-8ae8-a1c868f6e4d6"
      },
      "execution_count": null,
      "outputs": [
        {
          "output_type": "execute_result",
          "data": {
            "text/plain": [
              "np.float64(-32.0)"
            ]
          },
          "metadata": {},
          "execution_count": 4
        }
      ]
    },
    {
      "cell_type": "markdown",
      "source": [
        "#3 Método de Gauss - Seidel\n",
        "\n",
        "Sea \\$A\\in\\mathbb{R}^{n\\times n}\\$ no singular y sea \\$b\\in\\mathbb{R}^n\\$.\n",
        "Descomponga \\$A\\$ como\n",
        "\n",
        "$$\n",
        "A \\;=\\; D \\;+\\; L \\;+\\; U,\n",
        "$$\n",
        "\n",
        "donde\n",
        "\n",
        "* \\$D\\$ es la matriz diagonal de \\$A\\$,\n",
        "* \\$L\\$ es la parte estrictamente triangular inferior,\n",
        "* \\$U\\$ es la parte estrictamente triangular superior.\n",
        "\n",
        "El algoritmo de Gauss - Seidel reorganiza el sistema \\$Ax=b\\$ como\n",
        "\n",
        "$$\n",
        "x \\;=\\; (D+L)^{-1}\\bigl(b \\;-\\; Ux\\bigr),\n",
        "$$\n",
        "\n",
        "y genera la sucesión\n",
        "\n",
        "$$\n",
        "x_i^{(k+1)}\n",
        "= \\frac{1}{a_{ii}}\n",
        "\\Bigl(b_i - \\sum_{j<i} a_{ij}\\,x_j^{(k+1)} - \\sum_{j>i} a_{ij}\\,x_j^{(k)}\\Bigr),\n",
        "\\qquad i=1,\\dots,n.\n",
        "$$\n",
        "\n",
        "Implemente una función `gauss_seidel(A, b, tol=1e-7, max_iter=100)` que:\n",
        "   * Realice las iteraciones hasta que\n",
        "     $\\lVert x^{(k+1)}-x^{(k)}\\rVert_\\infty<\\text{tol}$\n",
        "     o se alcance `max_iter`;\n",
        "   * devuelva el vector solución aproximado \\$x\\$, el número de iteraciones realizadas y la norma del último residuo.\n",
        "\n",
        "Incluya una documentación clara.\n",
        "\n",
        "Luego,\n",
        "\n",
        "   * Genere una matriz aleatoria \\$5\\times5\\$ (por ejemplo, con `np.random.rand`) y un vector \\$b\\$ aleatorio.\n",
        "   * Resuelva \\$Ax=b\\$ con su función; calcule el error relativo frente a `numpy.linalg.solve`.\n",
        "   * Estime igualmente el error respecto a la solución obtenida mediante \\$x=A^{-1}b\\$ (usando `numpy.linalg.inv`).\n",
        "   * Presente las normas de los residuos y los errores relativos."
      ],
      "metadata": {
        "id": "fTSweDGhnAUN"
      }
    },
    {
      "cell_type": "code",
      "source": [
        "def gauss_seidel(A, b, tol=1e-7, max_iter=100):\n",
        "    # Verificar que A es cuadrada\n",
        "    n, m = A.shape\n",
        "    if n != m:\n",
        "        raise ValueError(\"La matriz A debe ser cuadrada.\")\n",
        "\n",
        "    # Verificar que b tiene la dimensión correcta\n",
        "    if len(b) != n:\n",
        "        raise ValueError(\"Las dimensiones de A y b no son compatibles.\")\n",
        "\n",
        "    # Inicializar el vector solución\n",
        "    x = np.zeros_like(b, dtype=np.float64)\n",
        "    x_prev = np.copy(x)\n",
        "\n",
        "    # Iteraciones de Gauss-Seidel\n",
        "    for k in range(max_iter):\n",
        "        for i in range(n):\n",
        "            # Calcular las sumas separando los términos ya actualizados y no actualizados\n",
        "            sum1 = np.dot(A[i, :i], x[:i])  # Suma de términos ya actualizados (j < i)\n",
        "            sum2 = np.dot(A[i, i+1:], x_prev[i+1:])  # Suma de términos no actualizados (j > i)\n",
        "\n",
        "            # Actualizar la componente i-ésima del vector solución\n",
        "            x[i] = (b[i] - sum1 - sum2) / A[i, i]\n",
        "\n",
        "        # Verificar convergencia\n",
        "        diff_norm = np.linalg.norm(x - x_prev, np.inf)\n",
        "        if diff_norm < tol:\n",
        "            break\n",
        "\n",
        "        # Actualizar x_prev para la siguiente iteración\n",
        "        x_prev = np.copy(x)\n",
        "\n",
        "    # Calcular la norma del residuo final\n",
        "    residual = np.dot(A, x) - b\n",
        "    residual_norm = np.linalg.norm(residual, np.inf)\n",
        "\n",
        "    return x, k+1, residual_norm"
      ],
      "metadata": {
        "id": "xXuUhfjznlnO"
      },
      "execution_count": null,
      "outputs": []
    },
    {
      "cell_type": "code",
      "source": [
        "# Crear una matriz diagonalmente dominante\n",
        "M = np.random.rand(5,5)\n",
        "for i in range(5):\n",
        "    M[i,i] = np.sum(np.abs(M[i,:])) + 1  # Hacemos la diagonal dominante\n",
        "\n",
        "b = np.random.rand(5)\n",
        "\n",
        "\n",
        "print(\"Solución numpy:\", np.linalg.solve(M,b))\n",
        "print(\"Solución Gauss-Seidel:\", gauss_seidel(M,b)[0])\n",
        "print(\"Solucion con la inversa de M:\", np.linalg.inv(M) @ b)\n",
        "print(\"Error relativo:\", np.linalg.norm(np.linalg.solve(M,b) - gauss_seidel(M,b)[0], np.inf) / np.linalg.norm(np.linalg.solve(M,b), np.inf))"
      ],
      "metadata": {
        "colab": {
          "base_uri": "https://localhost:8080/"
        },
        "id": "rBuVLo-jlTMa",
        "outputId": "353109be-ad95-4385-b004-39a17c4c2644"
      },
      "execution_count": null,
      "outputs": [
        {
          "output_type": "stream",
          "name": "stdout",
          "text": [
            "Solución numpy: [ 0.24522102 -0.05364504  0.19720506  0.02766589  0.26995875]\n",
            "Solución Gauss-Seidel: [ 0.24522102 -0.05364504  0.19720506  0.02766588  0.26995875]\n",
            "Solucion con la inversa de M: [ 0.24522102 -0.05364504  0.19720506  0.02766589  0.26995875]\n",
            "Error relativo: 4.78489772545916e-09\n"
          ]
        }
      ]
    },
    {
      "cell_type": "code",
      "source": [
        "def gauss_seidel(A, b, tol=1e-7, max_iter=100):\n",
        "    \"\"\"\n",
        "    Implementa el método de Gauss-Seidel para resolver sistemas lineales Ax = b\n",
        "\n",
        "    Entradas:\n",
        "        A (matriz): matriz cuadrada\n",
        "        b (array): vector de dimensión n\n",
        "        tol (float): tolerancia para criterio de convergencia\n",
        "        max_iter (int): número máximo de iteraciones\n",
        "\n",
        "    Salidas:\n",
        "        x: vector solución\n",
        "        k: número de iteraciones realizadas\n",
        "        residual: norma del residuo\n",
        "    \"\"\"\n",
        "    # Verificar dimensiones\n",
        "    if A.shape[0] != A.shape[1]:\n",
        "        raise ValueError(\"La matriz A debe ser cuadrada\")\n",
        "    if A.shape[0] != b.shape[0]:\n",
        "        raise ValueError(\"Dimensiones incompatibles entre A y b\")\n",
        "\n",
        "    n = A.shape[0]\n",
        "    x = np.zeros_like(b)  # Solución inicial\n",
        "\n",
        "    for k in range(max_iter):\n",
        "        x_old = x.copy()  # Guardar la iteración anterior\n",
        "\n",
        "        # Actualizar cada componente de x\n",
        "        for i in range(n):\n",
        "            sum1 = np.dot(A[i, :i], x[:i])  # Suma con los x_i ya actualizados\n",
        "            sum2 = np.dot(A[i, i+1:], x_old[i+1:])  # Suma con los x_i no actualizados\n",
        "            x[i] = (b[i] - sum1 - sum2) / A[i, i]\n",
        "\n",
        "        # Calcular diferencia entre iteraciones y residuo\n",
        "        diff = np.linalg.norm(x - x_old, np.inf)\n",
        "        residual = np.linalg.norm(b - np.dot(A, x), np.inf)\n",
        "\n",
        "        # Verificar criterio de convergencia\n",
        "        if diff < tol:\n",
        "            break\n",
        "\n",
        "    return x, k, residual"
      ],
      "metadata": {
        "id": "cmq-a3Rip1vo"
      },
      "execution_count": null,
      "outputs": []
    },
    {
      "cell_type": "code",
      "source": [
        "#generamos la matriz aleatoria\n",
        "M = np.random.rand(5, 5)\n",
        "#generamos el vector aleatorio\n",
        "b = np.random.rand(5)\n",
        "\n",
        "sol_gs = gauss_seidel(M, b)\n",
        "sol_sol = np.linalg.solve(M, b)\n",
        "sol_inv = np.linalg.inv(M) @ b\n",
        "\n",
        "Relative_error_sol = abs(sol_sol - sol_gs[0]) / abs(sol_sol)\n",
        "Relative_error_inv = abs(sol_inv - sol_gs[0]) / abs(sol_inv)\n",
        "\n",
        "Relative_error_inv\n"
      ],
      "metadata": {
        "colab": {
          "base_uri": "https://localhost:8080/"
        },
        "id": "63cKuNNAqidU",
        "outputId": "db72763f-b259-41c1-96f8-6ba4f0a6c66e"
      },
      "execution_count": null,
      "outputs": [
        {
          "output_type": "execute_result",
          "data": {
            "text/plain": [
              "array([1.05052424e-04, 9.98149887e-05, 1.42314245e-04, 1.12702051e-04,\n",
              "       8.02648659e-05])"
            ]
          },
          "metadata": {},
          "execution_count": 8
        }
      ]
    },
    {
      "cell_type": "markdown",
      "source": [
        "#4 Método de potencias para el valor propio dominante\n",
        "\n",
        "Sea \\$A\\in\\mathbb{R}^{n\\times n}\\$ diagonalizable con valor propio dominante \\$\\lambda\\_{\\max}\\$ (en magnitud) y vector propio asociado \\$v\\_{\\max}\\$.\n",
        "\n",
        "El método de potencias genera, a partir de un vector inicial \\$q^{(0)}\\neq 0\\$, la sucesión\n",
        "\n",
        "$$\n",
        "q^{(k+1)} \\;=\\; \\frac{A\\,q^{(k)}}{\\lVert A\\,q^{(k)}\\rVert_2},\n",
        "\\qquad\n",
        "\\lambda^{(k+1)} \\;=\\; (q^{(k+1)})^{\\!\\top} A\\, q^{(k+1)},\n",
        "$$\n",
        "\n",
        "que converge a \\$v\\_{\\max}/\\lVert v\\_{\\max}\\rVert\\_2\\$ y a \\$\\lambda\\_{\\max}\\$ respectivamente, bajo hipótesis estándar.\n",
        "\n",
        "Implemente `power_method(A, tol=1e-7, max_iter=1000)` que:\n",
        "\n",
        "   * Acepte matrices reales cuadradas,\n",
        "   * Devuelva \\$\\lambda\\_{\\max}\\$, el vector propio normalizado \\$v\\_{\\max}\\$, el número de iteraciones y la última variación relativa de \\$\\lambda\\$,\n",
        "   * detenga la iteración cuando\n",
        "     $\\bigl|\\lambda^{(k+1)}-\\lambda^{(k)}\\bigr|<\\text{tol}\\,|\\lambda^{(k+1)}|$\n",
        "     o se alcance `max_iter`.\n",
        "\n",
        "Luego,\n",
        "   * Genere una matriz simétrica aleatoria \\$6\\times6\\$ (por ejemplo, \\$A = (M+M^\\top)/2\\$ con \\$M\\$ aleatoria).\n",
        "   * Aplique su `power_method` y compare \\$\\lambda\\_{\\max}\\$ y \\$v\\_{\\max}\\$ con los resultados de `numpy.linalg.eig`."
      ],
      "metadata": {
        "id": "REVJcqYtnmM-"
      }
    },
    {
      "cell_type": "code",
      "source": [
        "def power_method(A, tol=1e-7, max_iter=1000):\n",
        "    \"\"\"\n",
        "    Calcula el valor propio dominante y el vector propio asociado de una matriz.\n",
        "\n",
        "    Args:\n",
        "        A (np.ndarray): Matriz cuadrada.\n",
        "        tol (float): Tolerancia para la convergencia.\n",
        "        max_iter (int): Número máximo de iteraciones.\n",
        "\n",
        "    Returns:\n",
        "        tuple: (valor propio dominante, vector propio, número de iteraciones, variación relativa)\n",
        "    \"\"\"\n",
        "    if A.shape[0] != A.shape[1]:\n",
        "        raise ValueError(\"La matriz A debe ser cuadrada\")\n",
        "\n",
        "    q = np.random.rand(A.shape[0])\n",
        "    q = q / np.linalg.norm(q)\n",
        "    lambda_ = 0\n",
        "\n",
        "    for i in range(max_iter):\n",
        "        q_new = A @ q\n",
        "        q_new = q_new / np.linalg.norm(q_new)\n",
        "\n",
        "        lambda_new = q_new.T @ A @ q_new\n",
        "\n",
        "        if lambda_ != 0 and abs(lambda_new - lambda_) / abs(lambda_new) < tol:\n",
        "            return lambda_new, q_new, i + 1, abs(lambda_new - lambda_) / abs(lambda_new)\n",
        "\n",
        "        q = q_new\n",
        "        lambda_ = lambda_new\n",
        "\n",
        "    raise RuntimeError('Máximas iteraciones alcanzadas sin convergencia')"
      ],
      "metadata": {
        "id": "lPzFAOE7obZY"
      },
      "execution_count": null,
      "outputs": []
    },
    {
      "cell_type": "code",
      "source": [
        "M = np.random.rand(6,6)\n",
        "A = (M+(M.T))/2\n",
        "A\n",
        "\n",
        "print(f'\\nEl autovalor más grande encontrado con el método de potencias fue {power_method(A)[0]}')\n",
        "\n",
        "print(f'\\nel autovalor más grande encontrado: {np.linalg.eig(A)[0][0]}')\n",
        "\n",
        "print(f'\\nlos autovectores encontrados con el metodo de potencias fueron {power_method(A)[1]}')\n",
        "\n",
        "print(f'\\nlos autovectores encontrados con numpy fueron {np.linalg.eig(A)[1][:,0]}')\n",
        "\n",
        "print(f'\\nla variación relativa fue {power_method(A)[3]}')\n",
        "\n",
        "print(f'\\ntardo {power_method(A)[2]} iteraciones')"
      ],
      "metadata": {
        "colab": {
          "base_uri": "https://localhost:8080/"
        },
        "id": "Is3Y6lHfugUF",
        "outputId": "0a0894f2-6960-4cd3-a538-7dbec466bcf8"
      },
      "execution_count": null,
      "outputs": [
        {
          "output_type": "stream",
          "name": "stdout",
          "text": [
            "\n",
            "El autovalor más grande encontrado con el método de potencias fue 3.0603712949305857\n",
            "\n",
            "el autovalor más grande encontrado: 3.0603712973584445\n",
            "\n",
            "los autovectores encontrados con el metodo de potencias fueron [0.37852348 0.37416574 0.41942932 0.35166856 0.44737405 0.46581617]\n",
            "\n",
            "los autovectores encontrados con numpy fueron [-0.37850298 -0.37420448 -0.41940565 -0.35168625 -0.44740292 -0.46578192]\n",
            "\n",
            "la variación relativa fue 1.1085832518295781e-08\n",
            "\n",
            "tardo 7 iteraciones\n"
          ]
        }
      ]
    },
    {
      "cell_type": "markdown",
      "source": [
        "#5\n",
        "\n",
        "Verifique que cualquier matriz hermitiana de 2 × 2 $ L $ puede escribirse como una suma de cuatro términos:\n",
        "\n",
        "$$ L = a\\sigma_x + b\\sigma_y + c\\sigma_z + dI $$\n",
        "\n",
        "donde $ a $, $ b $, $ c $ y $ d $ son números reales.\n",
        "\n",
        "Las cuatro matrices de Pauli son:\n",
        "\n",
        "$$ \\sigma_x = \\begin{pmatrix} 0 & 1 \\\\ 1 & 0 \\end{pmatrix}, \\quad \\sigma_y = \\begin{pmatrix} 0 & -i \\\\ i & 0 \\end{pmatrix}, \\quad \\sigma_z = \\begin{pmatrix} 1 & 0 \\\\ 0 & -1 \\end{pmatrix}, \\quad I = \\begin{pmatrix} 1 & 0 \\\\ 0 & 1 \\end{pmatrix} $$\n",
        "\n",
        "\n"
      ],
      "metadata": {
        "id": "iggu2jNwVpnK"
      }
    },
    {
      "cell_type": "code",
      "source": [
        "# Definir las matrices de Pauli y la identidad\n",
        "sigma_x = np.array([[0, 1], [1, 0]], dtype=complex)\n",
        "sigma_y = np.array([[0, -1j], [1j, 0]], dtype=complex)\n",
        "sigma_z = np.array([[1, 0], [0, -1]], dtype=complex)\n",
        "I = np.array([[1, 0], [0, 1]], dtype=complex)\n",
        "\n",
        "# Crear una matriz hermitiana general de 2x2 (ejemplo)\n",
        "def random_hermitian_matrix():\n",
        "    # Elementos reales y complejos aleatorios\n",
        "    a = np.random.rand()  # a real (diagonal)\n",
        "    d = np.random.rand()  # d real (diagonal)\n",
        "    b_real = np.random.rand()\n",
        "    b_imag = np.random.rand()\n",
        "    b = b_real + 1j * b_imag  # b complejo (fuera de diagonal)\n",
        "    # Construir la matriz hermitiana: L = [[a, b], [conj(b), d]]\n",
        "    L = np.array([[a, b], [np.conj(b), d]], dtype=complex)\n",
        "    return L\n",
        "\n",
        "L = random_hermitian_matrix()\n",
        "print(\"Matriz hermitiana L generada:\\n\", L)\n",
        "\n",
        "# Resolver para los coeficientes a, b, c, d (reales)\n",
        "# Usamos las propiedades de traza de las matrices de Pauli:\n",
        "# tr(sigm_i sigm_j) = 2 d_ij, tr(sigm_i) = 0, tr(I) = 2\n",
        "# Por lo tanto:\n",
        "\n",
        "\n",
        "a = np.trace(L @ sigma_x) / 2\n",
        "b = np.trace(L @ sigma_y) / 2\n",
        "c = np.trace(L @ sigma_z) / 2\n",
        "d = np.trace(L @ I) / 2\n",
        "\n",
        "# Los coeficientes deben ser reales porque L es hermitica\n",
        "a, b, c, d = np.real(a), np.real(b), np.real(c), np.real(d)\n",
        "print(\"\\nCoeficientes encontrados:\")\n",
        "print(f\"a = {a:.4f}, b = {b:.4f}, c = {c:.4f}, d = {d:.4f}\")"
      ],
      "metadata": {
        "id": "8WN9_cOCV7cM",
        "colab": {
          "base_uri": "https://localhost:8080/"
        },
        "outputId": "c085f270-1491-4398-9091-70c4deeaf42e"
      },
      "execution_count": null,
      "outputs": [
        {
          "output_type": "stream",
          "name": "stdout",
          "text": [
            "Matriz hermitiana L generada:\n",
            " [[0.04443202+0.j         0.40941173+0.11292281j]\n",
            " [0.40941173-0.11292281j 0.95719871+0.j        ]]\n",
            "\n",
            "Coeficientes encontrados:\n",
            "a = 0.4094, b = -0.1129, c = -0.4564, d = 0.5008\n"
          ]
        }
      ]
    },
    {
      "cell_type": "markdown",
      "source": [
        "# 6\n",
        "\n",
        "Haga un breve resumen en Markdown de las funciones y métodos más relevantes para algebra lineal usando Python. Emplee ejemplos."
      ],
      "metadata": {
        "id": "GnCw5_O5pMxl"
      }
    },
    {
      "cell_type": "markdown",
      "source": [
        "## Librerías principales\n",
        "- **NumPy**: Operaciones básicas con arrays y matrices.\n",
        "- **SciPy**: Funciones avanzadas de álgebra lineal.\n",
        "\n",
        "## Funciones y métodos clave\n",
        "\n",
        "### Creación de matrices\n",
        "```python\n",
        "A = np.array([[1, 2], [3, 4]])  # Matriz 2x2\n",
        "B = np.eye(3)                   # Matriz identidad\n",
        "Operaciones básicas\n",
        "python\n",
        "A @ B               # Multiplicación matricial\n",
        "np.linalg.inv(A)    # Inversa de matriz\n",
        "Resolución de sistemas\n",
        "python\n",
        "x = np.linalg.solve(A, b)  # Solución de Ax = b\n",
        "Descomposiciones\n",
        "python\n",
        "np.linalg.eig(A)    # Autovalores/autovectores\n",
        "np.linalg.svd(A)    # Descomposición SVD\n",
        "Normas y determinante\n",
        "python\n",
        "np.linalg.det(A)    # Determinante\n",
        "np.linalg.norm(A)   # Norma de matriz\n"
      ],
      "metadata": {
        "id": "exgOXb791UXy"
      }
    },
    {
      "cell_type": "code",
      "source": [],
      "metadata": {
        "id": "djdVPgpoparm"
      },
      "execution_count": null,
      "outputs": []
    }
  ]
}