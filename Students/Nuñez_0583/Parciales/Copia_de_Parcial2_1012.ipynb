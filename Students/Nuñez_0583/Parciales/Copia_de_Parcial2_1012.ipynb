{
  "nbformat": 4,
  "nbformat_minor": 0,
  "metadata": {
    "colab": {
      "provenance": []
    },
    "kernelspec": {
      "name": "python3",
      "display_name": "Python 3"
    },
    "language_info": {
      "name": "python"
    }
  },
  "cells": [
    {
      "cell_type": "code",
      "execution_count": 3,
      "metadata": {
        "id": "7Y1lCE6sq6dB"
      },
      "outputs": [],
      "source": [
        "import numpy as np # Númerica\n",
        "import matplotlib.pyplot as plt # Gráficas\n",
        "from scipy.interpolate import CubicSpline, lagrange, interp1d # Interpolación\n",
        "from scipy.integrate import quad, dblquad, tplquad, trapezoid, simpson # Integración\n",
        "import sympy as sp # Símbolos"
      ]
    },
    {
      "cell_type": "markdown",
      "source": [
        "# ⚠ Importante\n",
        "\n",
        "👁 Puede usar unicamente las librerias vistas en clase (estas están en la parte superior) en caso de agregar una nueva, debe justificarla.\n",
        "\n",
        "💀 No está permitido el uso de IA's en caso de hacerlo su parcial será **anulado**!\n",
        "\n",
        "❗ Comente su código y funciones, esto hace parte de la nota.\n",
        "\n",
        "✅ Responda ordenadamente y con claridad.\n",
        "\n",
        "\n",
        "### Nombre: ___"
      ],
      "metadata": {
        "id": "ejroOZ4F4qg3"
      }
    },
    {
      "cell_type": "markdown",
      "source": [
        "# 1\n",
        "\n",
        "**(30 puntos)** Sea la función $f(x) = 3^x$,\n",
        "\n",
        "---\n",
        "\n",
        "a. Defina una función llamada derivada (ver abajo) que encuentre el valor de la derivada en $x=2$ usando diferencias finitas centrales,\n",
        "\n",
        "$$\n",
        "f'(x) ≈ \\frac{f(x+h) - f(x-h)}{2h}\n",
        "$$\n",
        "\n",
        "con una tolerancia menor a $10^{-8}$ y que retorne el valor de $f'(x=2)$ para cada valor de $h$. Tome con $h$ inicial 0.1.\n",
        "\n",
        "---\n",
        "\n",
        "b. Realice un gráfico logaritmico del error absoluto asociado a $f'(x)$ en función de $h$, conociendo que\n",
        "\n",
        "$$\n",
        "\\frac{d}{dx}(b^x) = b^x\\ln b\n",
        "$$\n",
        "\n",
        "\n",
        "\n",
        "\n",
        "\n",
        "```python\n",
        "def derivada(f,x, tol = 1e-8):\n",
        "'''\n",
        "Recuerde hacer su documentación\n",
        "'''\n",
        "\n",
        "  return valor_derivada, h_valores\n",
        "```\n",
        "\n"
      ],
      "metadata": {
        "id": "wNcvYgSvMr0P"
      }
    },
    {
      "cell_type": "code",
      "source": [
        "f = lambda x:3**x\n",
        "y = np.linspace(0,2)\n",
        "def derivada(f,x, tol = 1e-8):\n",
        "  '''\n",
        "En la siguiente funcion se busca encontrar el valor numerico de una derivada teniendo como entrada\n",
        "  f: la funcion a evaluar\n",
        "  x: respecto a que valor se busca el resultado\n",
        "  tol: el error que debe alcanzar la funcion\n",
        "\n",
        "  esta funcion devolvera\n",
        "  valor_derivada: el resultado numerico de la derivada\n",
        "  h_valores: una lista en la que se guardaron todos los valores de h hasta llegar al resultado\n",
        "'''\n",
        "  h = 0.1\n",
        "  h0 = 1\n",
        "  h_valores =[]\n",
        "  while abs(valor_derivada) > tol:\n",
        "    fx = (f(x+h)-f(x-h))/2*h\n",
        "    valor_derivada = h0-fx\n",
        "    if abs(valor_derivada)<tol:\n",
        "      break\n",
        "    else:\n",
        "      h = fx\n",
        "      h0 = valor_derivada\n",
        "      h_valores.append(h)\n",
        "\n",
        "  return valor_derivada, h_valores"
      ],
      "metadata": {
        "id": "fifYPyLU2mSN"
      },
      "execution_count": 8,
      "outputs": []
    },
    {
      "cell_type": "code",
      "source": [
        "bx = lambda x: (3**x)*np.log10(3)\n",
        "valor_derivada, h_valores1 = derivada(f,y)\n",
        "valor_array = np.array(valor_derivada)\n",
        "by = np.array(bx(y))\n",
        "ya = np.array(y)\n",
        "plt.loglog(ya, by, color = 'red', label = 'Derivada analitica')\n",
        "plt.loglog(ya,valor_array, color = 'blue', label = 'Funcion para la derivada')\n",
        "plt.legend()\n",
        "plt.grid()\n",
        "plt.show\n"
      ],
      "metadata": {
        "id": "S7GKSQXpyqNE"
      },
      "execution_count": null,
      "outputs": []
    },
    {
      "cell_type": "code",
      "source": [
        "valor_derivada1, h_valores = derivada(f,x=2)\n",
        "bh = np.array(bx(h_valores))\n",
        "harray = np.array(h_valores)\n",
        "plt.loglog(bh,harray, color= 'green', label = 'Grafico de $f´(x)$ respecto a h')\n",
        "plt.grid()\n",
        "plt.legend()\n",
        "plt.show\n"
      ],
      "metadata": {
        "id": "WI0-hTKEzmcr"
      },
      "execution_count": 11,
      "outputs": []
    },
    {
      "cell_type": "markdown",
      "source": [
        "## 2\n",
        "\n",
        "**(40 puntos)** Considere un fluido viscoso que fluye en régimen laminar a través de una tubería cilíndrica horizontal de radio $R = 1.0\\ \\text{cm}$. Se ha medido experimentalmente la velocidad axial del fluido en distintos radios desde el centro de la tubería ($r = 0$) hasta la pared ($r = R$). Los datos obtenidos son:\n",
        "\n",
        "| $r$ (cm) | $v(r)$ (cm/s) |\n",
        "|----------|---------------|\n",
        "| 0.0      | 2.00          |\n",
        "| 0.2      | 1.92          |\n",
        "| 0.4      | 1.68          |\n",
        "| 0.6      | 1.28          |\n",
        "| 0.8      | 0.72          |\n",
        "| 1.0      | 0.00          |\n",
        "\n",
        "Con base en estos datos responda:\n",
        "\n",
        "---\n",
        "\n",
        "**a.** Encuentre una expresión para el polinomio interpolador de **Lagrange** para $v(r)$.\n",
        "\n",
        "---\n",
        "\n",
        "**b.** Usando las funciones obtenidas por **Lagrange** y **CubicSpline**, haga un gráfico donde se muestre el comportamiento de ambas interpolaciones, comparándolas con los datos experimentales.\n",
        "\n",
        "---\n",
        "\n",
        "**c.** Calcule la derivada $\\frac{dv}{dr}$, correspondiente al **gradiente de velocidad radial** usando los datos procedentes de la interpolación CubicSpline. Use `np.gradient` con $h = 10^{-4}$.\n",
        "\n",
        "---\n",
        "\n",
        "**d.** Determine el **esfuerzo cortante** en el fluido, dado por:\n",
        "\n",
        "$$\n",
        "\\tau(r) = \\mu \\frac{dv}{dr},\n",
        "$$\n",
        "\n",
        "donde $\\mu = 0.001\\ \\text{Pa}\\cdot\\text{s}$ es la viscosidad dinámica del fluido. Grafique $\\tau(r)$ para $r \\in [0, 1]$.\n",
        "\n",
        "---\n",
        "\n"
      ],
      "metadata": {
        "id": "UmhjjdEyBL7R"
      }
    },
    {
      "cell_type": "code",
      "source": [
        "r = (0,0.2,0.4,0.6,0.8,1.0)\n",
        "v = (2,1.92,1.68,1.28,0.72,0)\n",
        "polinterpolador = interp1d(r,v)\n",
        "pollagrange = lagrange(r,v)\n",
        "value_poli = polinterpolador(r)\n",
        "value_poll = pollagrange(r)\n",
        "print(f\"Valores del polinomio contra lagrnage: {value_poli},{value_poll}\")"
      ],
      "metadata": {
        "id": "qBbt3yi322-3",
        "colab": {
          "base_uri": "https://localhost:8080/"
        },
        "outputId": "4749d3f8-86ad-4501-fd8b-25335fc76b30"
      },
      "execution_count": 27,
      "outputs": [
        {
          "output_type": "stream",
          "name": "stdout",
          "text": [
            "Valores del polinomio contra lagrnage: [2.   1.92 1.68 1.28 0.72 0.  ],[ 2.000000e+00  1.920000e+00  1.680000e+00  1.280000e+00  7.200000e-01\n",
            " -1.687539e-14]\n"
          ]
        }
      ]
    },
    {
      "cell_type": "code",
      "source": [
        "polcubicspline = CubicSpline(r,v, bc_type=\"natural\")\n",
        "value_polc = polcubicspline(r)\n",
        "plt.plot(r,v, '.b', label = 'Datos Experimentales')\n",
        "plt.plot(r,value_poll, '-0', label = 'Datos Lagrange')\n",
        "plt.plot(r,value_polc, '--y', label = 'Datos CubicSpline')\n",
        "plt.legend()\n",
        "plt.grid()"
      ],
      "metadata": {
        "colab": {
          "base_uri": "https://localhost:8080/",
          "height": 430
        },
        "id": "FTxVzk-r20FD",
        "outputId": "758a63b7-8d4a-46e7-d2bf-60b5acad732d"
      },
      "execution_count": 33,
      "outputs": [
        {
          "output_type": "display_data",
          "data": {
            "text/plain": [
              "<Figure size 640x480 with 1 Axes>"
            ],
            "image/png": "[encoded data removed]"
          },
          "metadata": {}
        }
      ]
    },
    {
      "cell_type": "code",
      "source": [
        "x = np.array(value_polc)\n",
        "np.gradient(x, 1e-4)"
      ],
      "metadata": {
        "colab": {
          "base_uri": "https://localhost:8080/"
        },
        "id": "rVbhms8Z5xaO",
        "outputId": "0b6fdd09-9239-42f7-936d-37827b704e62"
      },
      "execution_count": 35,
      "outputs": [
        {
          "output_type": "execute_result",
          "data": {
            "text/plain": [
              "array([ -800., -1600., -3200., -4800., -6400., -7200.])"
            ]
          },
          "metadata": {},
          "execution_count": 35
        }
      ]
    },
    {
      "cell_type": "code",
      "source": [
        "r = np.linspace(0,1,50)\n",
        "v = polinterpolador(r)\n",
        "mu = 0.001\n",
        "t = lambda r: mu * np.gradient(polinterpolador(r))\n",
        "plt.plot(r, t(r), color = 'red', label = 'viscosidad del fluido')\n",
        "plt.plot(r,v, color = 'black', label = 'velocida respecto radio')\n",
        "plt.grid()\n",
        "plt.legend()"
      ],
      "metadata": {
        "colab": {
          "base_uri": "https://localhost:8080/",
          "height": 447
        },
        "id": "MoUF0RiL6if1",
        "outputId": "e0196b7b-8ea5-492a-eafb-67a175db31d2"
      },
      "execution_count": 36,
      "outputs": [
        {
          "output_type": "execute_result",
          "data": {
            "text/plain": [
              "<matplotlib.legend.Legend at 0x7b85eb25bf10>"
            ]
          },
          "metadata": {},
          "execution_count": 36
        },
        {
          "output_type": "display_data",
          "data": {
            "text/plain": [
              "<Figure size 640x480 with 1 Axes>"
            ],
            "image/png": "[encoded data removed]"
          },
          "metadata": {}
        }
      ]
    },
    {
      "cell_type": "markdown",
      "source": [
        "# 3\n",
        "\n",
        "**(30 puntos)** Considere un sólido tetraédrico $R$ delimitado por los planos:\n",
        "\n",
        "- $x = 0$, $y = 0$, $z = 0$,  \n",
        "- y el plano $x + y + z = 1$.\n",
        "\n",
        "Este sólido ocupa una región en el primer octante y está contenido completamente dentro del cubo unidad.\n",
        "\n",
        "La densidad del sólido es variable y está dada por $\\rho(x, y, z) = xyz$ [kg/m³].\n",
        "\n",
        "Considere:\n",
        "\n",
        "\n",
        "$$\n",
        "\\iiint_R f(x,y,z)\\, dV = \\int_0^1 \\int_0^{1-x} \\int_0^{1-x-y} f(x,y,z)\\, dz\\, dy\\, dx\n",
        "$$\n",
        "\n",
        "con\n",
        "\n",
        "$$\n",
        "dV = dz\\,dy\\,dx\n",
        "$$\n",
        "\n",
        "---\n",
        "\n",
        "a. Calcule la **masa total** del sólido:\n",
        "\n",
        "$$\n",
        "m = \\iiint_R \\rho(x, y, z)\\, dV.\n",
        "$$\n",
        "\n",
        "Usando la forma iterativa de `quad`, compare su resultado con `tplquad`.\n",
        "\n",
        "---\n",
        "\n",
        "b. Calcule el **momento de inercia respecto a los ejes $x$ y $z$**, definidos como:\n",
        "\n",
        "$$\n",
        "I_z = \\iiint_R (x^2 + y^2)\\, \\rho(x, y, z)\\, dV.\n",
        "$$\n",
        "\n",
        "$$\n",
        "I_x = \\iiint_R (y^2 + z^2)\\, \\rho(x, y, z)\\, dV.\n",
        "$$\n",
        "\n",
        "Puede usar la forma iterativa de `quad` o `tplquad`.\n",
        "\n",
        "\n",
        "\n"
      ],
      "metadata": {
        "id": "Qu0LchSUBfh4"
      }
    },
    {
      "cell_type": "code",
      "source": [
        "\n",
        "p = lambda z,y,x: x*y*z\n",
        "def primera_integral(y,x):\n",
        "  f = lambda z: x*y*z\n",
        "  integral = quad(f,0,1 - x - y)\n",
        "  return integral[0]\n",
        "def segunda_integral(x):\n",
        "  f = lambda y: primera_integral(y,x)\n",
        "  integral = quad(f,0, 1 - x)\n",
        "  return integral[0]\n",
        "\n",
        "integral = quad(segunda_integral,0,1)\n",
        "\n",
        "a = 0\n",
        "b = 1\n",
        "g = 0\n",
        "h = lambda x:1-x\n",
        "q = 0\n",
        "r = lambda x,y:1-x-y\n",
        "\n",
        "integral_tplquad = tplquad(p,a,b,g,h,q,r)\n",
        "\n",
        "print(f\"El valor con la forma iterativa es:{integral}, y el valor con tplquad es:{integral_tplquad}\")"
      ],
      "metadata": {
        "id": "7EXQFhCI24pU",
        "colab": {
          "base_uri": "https://localhost:8080/"
        },
        "outputId": "5b218e46-0f8b-494f-fed1-350bcab7eace"
      },
      "execution_count": 42,
      "outputs": [
        {
          "output_type": "stream",
          "name": "stdout",
          "text": [
            "El valor con la forma iterativa es:(0.001388888888888889, 1.5419764230904953e-17), y el valor con tplquad es:(0.001388888888888889, 8.555839940243213e-17)\n"
          ]
        }
      ]
    },
    {
      "cell_type": "code",
      "source": [
        "I_z = lambda z,y,x: ((x**2)+(y**2))*(x*y*z)\n",
        "I_x = lambda z,y,x: ((y**2)+(z**2))*(x*y*z)\n",
        "integral_iz = tplquad(I_z,a,b,g,h,q,r)\n",
        "integral_ix = tplquad(I_x,a,b,g,h,q,r)\n",
        "\n",
        "print(f\"El momento de inercia en el eje z es:{integral_iz[0]}, el valor de la inercia en el eje x es:{integral_ix[0]}\")"
      ],
      "metadata": {
        "colab": {
          "base_uri": "https://localhost:8080/"
        },
        "id": "uKuEOj4hr6fk",
        "outputId": "1b0a0a81-f63a-4aec-a3ea-ceb80ea9fc8c"
      },
      "execution_count": 45,
      "outputs": [
        {
          "output_type": "stream",
          "name": "stdout",
          "text": [
            "El momento de inercia en el eje z es:0.00029761904761904765, el valor de la inercia en el eje x es:0.00029761904761904765\n"
          ]
        }
      ]
    }
  ]
}