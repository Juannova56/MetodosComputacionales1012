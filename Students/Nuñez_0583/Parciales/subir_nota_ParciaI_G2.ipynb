{
  "nbformat": 4,
  "nbformat_minor": 0,
  "metadata": {
    "colab": {
      "provenance": []
    },
    "kernelspec": {
      "name": "python3",
      "display_name": "Python 3"
    },
    "language_info": {
      "name": "python"
    }
  },
  "cells": [
    {
      "cell_type": "markdown",
      "source": [
        "# Parcial I - Métodos Computacionales\n",
        "\n",
        "**2025-1**\n",
        "\n",
        "---\n",
        "\n",
        "Nombre: Camilo Nuñez\n",
        "\n",
        "Identificación: 1027400583\n",
        "\n",
        "---\n",
        "\n",
        "* ⚠ Explique su código usando con comentarios,\n",
        "\n",
        "* ❗Todas las funciones deben tener documentación básica,\n",
        "\n",
        "* 🛑 El uso de IA's no está permitido,\n",
        "\n",
        "* ⚛ La interpretación del enunciado hace parte de la evaluación,\n",
        "\n",
        "* ⏲ Este parcial tiene una duración de 2 horas"
      ],
      "metadata": {
        "id": "bcIQtfNJ4sBq"
      }
    },
    {
      "cell_type": "code",
      "source": [
        "# Librerias útiles\n",
        "import numpy as np\n",
        "import matplotlib.pyplot as plt\n",
        "import pandas as pd\n",
        "from math import factorial\n",
        "from scipy.optimize import root_scalar, newton, bisect # Funciones para raices\n",
        "\n",
        "## Ayudas\n",
        "# np.sign (Signo de una variable)\n",
        "# np.deg2rad (Convertir grados a radianes)\n",
        "# pd.Dataframe Genera un dataframe a partir de un diccionario o listas\n",
        "# range(0, 10, 2) (Pasos de 2 comenzando en 0 hasta 10)"
      ],
      "metadata": {
        "id": "-86TwvuE48Kp"
      },
      "execution_count": 2,
      "outputs": []
    },
    {
      "cell_type": "markdown",
      "source": [
        "# 1\n",
        "\n",
        "**(40 puntos)** El **método de Ridder** es un algoritmo de búsqueda de raíces que, como la bisección, requiere un intervalo $[a, b]$ tal que $f(a) \\cdot f(b) < 0$. A diferencia de la bisección, Ridder introduce una corrección exponencial para acelerar la convergencia, logrando **convergencia cuadrática** sin requerir derivadas.\n",
        "\n",
        "---\n",
        "### Pasos para implementar\n",
        "\n",
        "1. **Definir la función** $f(x)$ y un intervalo $[a, b]$ tal que:\n",
        "\n",
        "   - $f(a) \\cdot f(b) < 0$ (la función tiene signos opuestos en los extremos del intervalo).\n",
        "   - La función debe ser continua en $[a, b]$.\n",
        "\n",
        "2. **Calcular el punto medio**:\n",
        "\n",
        "   $$\n",
        "   m = \\frac{a + b}{2}\n",
        "   $$\n",
        "\n",
        "3. **Calcular la corrección exponencial**:\n",
        "\n",
        "   - Evaluar $f(a)$, $f(b)$ y $f(m)$.\n",
        "   - Calcular:\n",
        "\n",
        "     $$\n",
        "     s = \\sqrt{f(m)^2 - f(a) f(b)}\n",
        "     $$\n",
        "\n",
        "   - Si $s = 0$, detener: la raíz no puede estimarse en esta iteración.\n",
        "\n",
        "   - Calcular el nuevo candidato a raíz:\n",
        "\n",
        "     $$\n",
        "     x = m + \\frac{(m - a) f(m)}{s} \\cdot \\text{sign}(f(a) - f(b))\n",
        "     $$\n",
        "\n",
        "4. **Evaluar $f(x)$** y actualizar el intervalo:\n",
        "\n",
        "   - Si $f(m) \\cdot f(x) < 0$, entonces la nueva raíz está entre $m$ y $x$.\n",
        "   - Si $f(a) \\cdot f(x) < 0$, entonces actualizar $b = x$, luego $f(b) = f(x)$.\n",
        "   - Si $f(b) \\cdot f(x) < 0$, entonces actualizar $a = x$, luego $f(a) = f(x)$.\n",
        "   - En cada paso mantener la condición $f(a) \\cdot f(b) < 0$.\n",
        "\n",
        "5. **Criterio de parada**:\n",
        "\n",
        "   - Repetir los pasos anteriores hasta que se alcance la tolerancia deseada:\n",
        "\n",
        "     $$\n",
        "     |f(x)| < \\varepsilon \\quad \\text{o} \\quad |b - a| < \\delta\n",
        "     $$\n",
        "\n",
        "   donde $\\varepsilon$ y $\\delta$ son tolerancias establecidas por el usuario.\n",
        "\n",
        "---\n",
        "\n",
        "* Defina una función llamada `Ridder` que calcule la raiz de una función dada. Su función debe tener documentación y retornar el valor de la raiz junto con el número de iteraciones empleadas para alcanzar la convergencia dada una tolerancia.\n",
        "\n",
        "* Usando\n",
        "$$\\cos(x) = x,$$\n",
        "\n",
        "Grafique la función para $0\\leq x \\leq \\pi/2$ usando 100 puntos. Luego, cree un DataFrame con los datos de $x$ y $f(x)$, y encuentre una primera aproximación a la raiz aplicando un filtro en el dataframe con los valores más cercanos a cero.\n",
        "\n",
        "* Usando el método de Ridder encuentre la raiz númericamente y compare su resultado usando el método de bisección y secante.\n",
        "\n",
        "* Para las siguientes tolerancias (ver código) realice un gráfico usando escala logaritimica en $y$ de cuantas iteraciones son necesarias hasta alcanzar la convergencia. ¿Qué puede concluir acerca de la misma?\n",
        "\n",
        "```python\n",
        "# Tolerancias\n",
        "tol = np.logspace(-1, -20, 20)\n",
        "\n",
        "# Grafico semilog\n",
        "\n",
        "plt.semilogy(N, tol)\n",
        "\n",
        "```"
      ],
      "metadata": {
        "id": "rNIchL-H5ZII"
      }
    },
    {
      "cell_type": "code",
      "source": [
        "f = lambda x: np.cos(x) - x\n",
        "def Ridder(f,a,b,tol = 1e-8, max_iter = 100):\n",
        "#En la siguiente funcion se ingresaran variable las cuales seran\n",
        "#f = a la funcion que se desea evaluar\n",
        "#a,b = sera el intervalo en el que se evaluara la funcion\n",
        "#tol = es la tolerancia con la cual funcionara la funcion\n",
        "#max_iter = el numero maximo de iteraciones del codigo\n",
        "#el codgio retornara una variable x la cual dara la raiz de la funcion segun la tolerancia y el maximo de iteraciones\n",
        "# el codigo funciona con un for que va hasta max_iter + 1 en el cual cada vez que recorre la funcion evalua si el intevalo es valido\n",
        "# para despues encontrar m y su respectivo valor en la funcion, de esta manera se encuentra s la cual si su valor es 0 no es posible encontrar la raiz\n",
        "#por ultimo el valor que nos interesa que es x se encuentra su valor en la funcion para empezar a compararlo con la tolerancia\n",
        "# si este no cumple se multiplica con los otros valores para saber cual sera el numero intervalo a trabajar retornando x\n",
        "  valores_x = []\n",
        "  valores_fx = []\n",
        "  fa = f(a)\n",
        "  fb = f(b)\n",
        "  for i in range(max_iter+1):\n",
        "    if fa * fb > 0:\n",
        "      raise ValueError(\"El intervalo dado no el valido\")\n",
        "    m = (a+b)/2\n",
        "    fm = f(m)\n",
        "    s = np.sqrt((fm**2) - (fa*fb))\n",
        "    if s == 0:\n",
        "      return \"La raiz no se puede encontrar en esta iteracion\", i\n",
        "    x = m + (((m-a)*fm)/s) * np.sign(fa - fb)\n",
        "    valores_x.append(x)\n",
        "    fx = f(x)\n",
        "    valores_fx.append(fx)\n",
        "    if abs(fx) < tol:\n",
        "      return valores_x,valores_fx,i\n",
        "    if fx * fm < 0:\n",
        "      m = a\n",
        "      fa = fm\n",
        "      b = x\n",
        "      fb = fx\n",
        "    elif fa * fx < 0:\n",
        "      b = x\n",
        "      fb = fx\n",
        "    elif fb * fx < 0:\n",
        "      a = x\n",
        "      fa = fx\n",
        "  raise RuntimeError('Error')\n",
        "x, fx, i = Ridder(f, 0,np.pi/2)\n",
        "df = pd.DataFrame({\"x\": x, \"f(x)\": fx})\n",
        "print(df[(df[\"f(x)\"]<0.1)&(df[\"f(x)\"]> -0.1)])\n",
        "newton(f, 0.5)\n",
        "bisect(f,0,np.pi/2)\n",
        "\n",
        "\n",
        "y = np.linspace(0, np.pi/2, 200)\n",
        "plt.semilogy(y, f(y), label = \"Grafica $cos(x)$\")\n",
        "plt.semilogy(x, range(i))\n",
        "plt.legend()\n",
        "plt.grid()\n",
        "plt.axhline(0, color = \"black\")\n",
        "plt.show()"
      ],
      "metadata": {
        "id": "phBAIpoX7Y9W",
        "colab": {
          "base_uri": "https://localhost:8080/",
          "height": 348
        },
        "outputId": "682507b4-f7fc-4809-83a2-64d1aaa003dc"
      },
      "execution_count": null,
      "outputs": [
        {
          "output_type": "error",
          "ename": "RuntimeError",
          "evalue": "Error",
          "traceback": [
            "\u001b[0;31m---------------------------------------------------------------------------\u001b[0m",
            "\u001b[0;31mRuntimeError\u001b[0m                              Traceback (most recent call last)",
            "\u001b[0;32m<ipython-input-2-fc4efb528220>\u001b[0m in \u001b[0;36m<cell line: 0>\u001b[0;34m()\u001b[0m\n\u001b[1;32m     43\u001b[0m       \u001b[0mfa\u001b[0m \u001b[0;34m=\u001b[0m \u001b[0mfx\u001b[0m\u001b[0;34m\u001b[0m\u001b[0;34m\u001b[0m\u001b[0m\n\u001b[1;32m     44\u001b[0m   \u001b[0;32mraise\u001b[0m \u001b[0mRuntimeError\u001b[0m\u001b[0;34m(\u001b[0m\u001b[0;34m'Error'\u001b[0m\u001b[0;34m)\u001b[0m\u001b[0;34m\u001b[0m\u001b[0;34m\u001b[0m\u001b[0m\n\u001b[0;32m---> 45\u001b[0;31m \u001b[0mRidder\u001b[0m\u001b[0;34m(\u001b[0m\u001b[0mf\u001b[0m\u001b[0;34m,\u001b[0m \u001b[0;36m0\u001b[0m\u001b[0;34m,\u001b[0m\u001b[0mnp\u001b[0m\u001b[0;34m.\u001b[0m\u001b[0mpi\u001b[0m\u001b[0;34m/\u001b[0m\u001b[0;36m2\u001b[0m\u001b[0;34m)\u001b[0m\u001b[0;34m\u001b[0m\u001b[0;34m\u001b[0m\u001b[0m\n\u001b[0m\u001b[1;32m     46\u001b[0m \u001b[0mnewton\u001b[0m\u001b[0;34m(\u001b[0m\u001b[0mf\u001b[0m\u001b[0;34m,\u001b[0m \u001b[0;36m0.5\u001b[0m\u001b[0;34m,\u001b[0m \u001b[0mdf\u001b[0m\u001b[0;34m)\u001b[0m\u001b[0;34m\u001b[0m\u001b[0;34m\u001b[0m\u001b[0m\n\u001b[1;32m     47\u001b[0m \u001b[0mbisect\u001b[0m\u001b[0;34m(\u001b[0m\u001b[0mf\u001b[0m\u001b[0;34m,\u001b[0m\u001b[0;36m0\u001b[0m\u001b[0;34m,\u001b[0m\u001b[0mnp\u001b[0m\u001b[0;34m.\u001b[0m\u001b[0mpi\u001b[0m\u001b[0;34m/\u001b[0m\u001b[0;36m2\u001b[0m\u001b[0;34m)\u001b[0m\u001b[0;34m\u001b[0m\u001b[0;34m\u001b[0m\u001b[0m\n",
            "\u001b[0;32m<ipython-input-2-fc4efb528220>\u001b[0m in \u001b[0;36mRidder\u001b[0;34m(f, a, b, tol, max_iter)\u001b[0m\n\u001b[1;32m     42\u001b[0m       \u001b[0ma\u001b[0m \u001b[0;34m=\u001b[0m \u001b[0mx\u001b[0m\u001b[0;34m\u001b[0m\u001b[0;34m\u001b[0m\u001b[0m\n\u001b[1;32m     43\u001b[0m       \u001b[0mfa\u001b[0m \u001b[0;34m=\u001b[0m \u001b[0mfx\u001b[0m\u001b[0;34m\u001b[0m\u001b[0;34m\u001b[0m\u001b[0m\n\u001b[0;32m---> 44\u001b[0;31m   \u001b[0;32mraise\u001b[0m \u001b[0mRuntimeError\u001b[0m\u001b[0;34m(\u001b[0m\u001b[0;34m'Error'\u001b[0m\u001b[0;34m)\u001b[0m\u001b[0;34m\u001b[0m\u001b[0;34m\u001b[0m\u001b[0m\n\u001b[0m\u001b[1;32m     45\u001b[0m \u001b[0mRidder\u001b[0m\u001b[0;34m(\u001b[0m\u001b[0mf\u001b[0m\u001b[0;34m,\u001b[0m \u001b[0;36m0\u001b[0m\u001b[0;34m,\u001b[0m\u001b[0mnp\u001b[0m\u001b[0;34m.\u001b[0m\u001b[0mpi\u001b[0m\u001b[0;34m/\u001b[0m\u001b[0;36m2\u001b[0m\u001b[0;34m)\u001b[0m\u001b[0;34m\u001b[0m\u001b[0;34m\u001b[0m\u001b[0m\n\u001b[1;32m     46\u001b[0m \u001b[0mnewton\u001b[0m\u001b[0;34m(\u001b[0m\u001b[0mf\u001b[0m\u001b[0;34m,\u001b[0m \u001b[0;36m0.5\u001b[0m\u001b[0;34m,\u001b[0m \u001b[0mdf\u001b[0m\u001b[0;34m)\u001b[0m\u001b[0;34m\u001b[0m\u001b[0;34m\u001b[0m\u001b[0m\n",
            "\u001b[0;31mRuntimeError\u001b[0m: Error"
          ]
        }
      ]
    },
    {
      "cell_type": "markdown",
      "source": [
        "#2\n",
        "\n",
        "**(60 puntos)** En óptica, cuando un rayo de luz atraviesa la interfaz entre dos medios con diferentes índices de refracción, su dirección cambia según la ley de Snell. Para el caso de un prisma triangular, cuando un rayo emerge después de dos refracciones, el ángulo de desviación total $\\delta$ está dado por:\n",
        "\n",
        "$$\\delta(\\theta_i) = \\theta_i + \\arcsin\\left(n\\sin\\left(A - \\arcsin\\left(\\frac{\\sin\\theta_i}{n}\\right)\\right)\\right) - A$$\n",
        "\n",
        "donde $\\theta_i$ es el ángulo de incidencia, $n$ es el índice de refracción del prisma y $A$ es el ángulo del prisma.\n",
        "\n",
        "La derivada de esta función con respecto al ángulo de incidencia $\\theta_i$ es:\n",
        "\n",
        "$$\\frac{d\\delta}{d\\theta_i} = 1 - \\frac{\\cos\\theta_i \\cdot \\cos(A-\\theta_r)}{\\cos\\theta_r \\cdot \\sqrt{1-n^2\\sin^2(A-\\theta_r)}}$$\n",
        "\n",
        "donde $\\theta_r = \\arcsin\\left(\\frac{\\sin\\theta_i}{n}\\right)$ es el ángulo de refracción en la primera interfaz.\n",
        "\n",
        "Considere un prisma de vidrio crown con $n = 1.52$ y $A = 60°$.\n",
        "\n",
        "### Parte A:\n",
        "* Escriba una función explicita y documentada para $\\frac{d\\delta}{d\\theta_i}$\n",
        "\n",
        "* Realice un gráfico para $\\frac{d\\delta}{d\\theta_i}$ y encuentre el ángulo de incidencia $\\theta_i$ que produce el ángulo de desviación mínimo para $\\theta_i \\in [30°, 80°]$.\n",
        "\n",
        "* Use el método de Newton-Raphson (sin derivada) y el método de la secante para hallar el ángulo de desviación mínimo.\n",
        "\n",
        "\n",
        "### Parte B:\n",
        "* Determine el ángulo crítico $\\theta_c$ para el cual el rayo comienza a experimentar reflexión interna total en la segunda interfaz del prisma. Esta condición ocurre cuando:\n",
        "\n",
        "$$\\sin(A - \\theta_r) = \\frac{1}{n}$$\n",
        "\n",
        "* Resuelva numéricamente la ecuación anterior para encontrar el ángulo de incidencia $\\theta_i$ correspondiente a este ángulo crítico, utilizando el método de la bisección.\n",
        "\n",
        "\n",
        "\n"
      ],
      "metadata": {
        "id": "od2GDFK5-QJC"
      }
    },
    {
      "cell_type": "code",
      "source": [
        "# En est aprimera funcion definicmo thetar ingresando el angulo thetai y asi hallando el angulo thetae\n",
        "thetar = lambda x: np.arcsin(np.sin(x)/1.52)\n",
        "#para esta segunda funcion tenemos la funcion original de la ley de snell la cual solo depende de theta i y valores constantes como n y A\n",
        "delta = lambda thetai: thetai + np.arcsin(1.52 * np.sin(np.deg2rad(60) - np.arcsin(np.sin(thetai)/1.52))) - np.deg2rad\n",
        "def derivadadelta(thetai):\n",
        "  \"\"\"La siguiente funcion tiene como entrada\n",
        "  thetai = el cual es el angulo o intevalo de angulo en el cual queremos encontrar el resultado\n",
        "  esta funcion retornara el valor del angulo de desviacion de la derivada de la funcion inicial de delta\"\"\"\n",
        "  n = 1.52\n",
        "  A = np.deg2rad(60)\n",
        "  thetaR = thetar(thetai)\n",
        "  arriba = np.cos(thetai) * np.cos(A-thetaR)\n",
        "  abajo = np.cos(thetaR) * np.sqrt(1 - n**2 * np.sin(A-thetaR)**2)\n",
        "  return 1 - arriba / abajo\n",
        "#generamos un intervalo de 30 a 80 grados\n",
        "thetai_grados = np.linspace(30, 80, 200)\n",
        "#lo pasamos de grados a radianes ya que todo lo trabajamos en radianes\n",
        "thetai = np.deg2rad(thetai_grados)\n",
        "#evaluamos la funcion en el intervalo que nos interesa\n",
        "valores_derivada = derivadadelta(thetai)\n",
        "#buscamos entre todos los valores minimos que nos dio la funcion en el intervalo\n",
        "valor_min = np.argmin(abs(valores_derivada))\n",
        "#buscamos el angulo asociado al valor que se nos dio\n",
        "thetai_minimo = thetai_grados[valor_min]\n",
        "#el grafico y el resultado que nos da\n",
        "plt.plot(thetai_grados,valores_derivada, label = \"Derivada respecto grados\")\n",
        "plt.axvline(thetai_minimo, color = \"green\")\n",
        "plt.grid()\n",
        "plt.legend()\n",
        "plt.axhline(0, color = \"black\")\n",
        "plt.show()\n",
        "thetai_minimo"
      ],
      "metadata": {
        "id": "hkHRzyB9-mSS",
        "colab": {
          "base_uri": "https://localhost:8080/",
          "height": 450
        },
        "outputId": "905c285d-f4e4-461d-bbc7-5f6f628f139c"
      },
      "execution_count": 17,
      "outputs": [
        {
          "output_type": "display_data",
          "data": {
            "text/plain": [
              "<Figure size 640x480 with 1 Axes>"
            ],
            "image/png": "[encoded data removed]"
          },
          "metadata": {}
        },
        {
          "output_type": "execute_result",
          "data": {
            "text/plain": [
              "np.float64(49.346733668341706)"
            ]
          },
          "metadata": {},
          "execution_count": 17
        }
      ]
    },
    {
      "cell_type": "code",
      "source": [
        "newton(delta,49)"
      ],
      "metadata": {
        "id": "kCjXxIxZTCUR"
      },
      "execution_count": null,
      "outputs": []
    },
    {
      "cell_type": "code",
      "source": [
        "def angulocritico(thetai):\n",
        "  \"\"\"en la sigueinte funcion nuevamente solo ingresara el valor de\n",
        "  thetai\n",
        "  pero ahora lo que haremos es encontrar el angulo critico para el cual la igualdad se cumple\n",
        "  primero evaluaremos los dos valores y los compararemos\n",
        "  si son iguales retornara un 1\n",
        "  si son diferentes retornara un 0\n",
        "  esto es ya que lo evaluaremos en un intervalo de angulos para asi poder encontrar el angulo critico solo sera buscar en una lista de 0 y 1\n",
        "  sinedo 1 un angulo critico y 0 no\"\"\"\n",
        "  A = np.deg2rad(60)\n",
        "  n = 1.52\n",
        "  thetaR = thetar(thetai)\n",
        "  valor1 = np.sin(A - thetaR)\n",
        "  valor2 = 1/n\n",
        "  if valor1 == valor2\n",
        "    return 1\n",
        "  else:\n",
        "    return 0\n",
        "#evaluamos la funcion anterior en el rango de angulos dado(30 - 80)\n",
        "angulo_critico = angulocritico(thetai)\n",
        "#buscamos los valores maximos en esa lista para saber cuales angulos son criticos\n",
        "theta_critico = np.argmax(angulo_critico)\n",
        "#buscamos los angulos asociados\n",
        "valor_critico = thetai_grados[theta_critico]\n",
        "valor_critico\n",
        "#en la sigueinte funcion igualamos a 0 la ecuacion del angulo critico para hacer biseccion\n",
        "f = lambda thetai: (1/1.52) - np.sin(np.deg2rad(60) - thetar(thetai))\n",
        "def angulocriticobiseccion(f,a,b,tol = 1e-8,max_iter = 100):\n",
        "  \"\"\"primera mente ingresara\n",
        "  f = la funcion que deseamos encontra\n",
        "  a,b = el intervalo en el que sera evaluada\n",
        "  primeramente se busca que el intervalo sea valido\n",
        "  para despues iniciar con un el cual ira hasta el maximo de iteraciones permitida\n",
        "  enocontrando el valor c y segun sea necesaria actualizar el valor de a o b\n",
        "  retornando el valor c cuando cumpla la condicion de ser menor a la tolerancia\"\"\"\n",
        "  if f(a) * f(b) > 0:\n",
        "    raise ValueError(\"Intervalo invalido\")\n",
        "  for i in range(max_iter + 1)\n",
        "    c = (a + b)/2\n",
        "    if abs(f(c)) < tol:\n",
        "      return c , i+1\n",
        "    elif f(c) * f(a) < 0:\n",
        "      b = c\n",
        "    elif f(c) * f(a) < 0:\n",
        "      a = c\n",
        "  raise RuntimeError(\"error\")"
      ],
      "metadata": {
        "id": "jdIvfMUjVGEw"
      },
      "execution_count": null,
      "outputs": []
    }
  ]
}