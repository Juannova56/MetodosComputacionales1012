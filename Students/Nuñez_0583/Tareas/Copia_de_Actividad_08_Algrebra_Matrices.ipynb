{
  "nbformat": 4,
  "nbformat_minor": 0,
  "metadata": {
    "colab": {
      "provenance": []
    },
    "kernelspec": {
      "name": "python3",
      "display_name": "Python 3"
    },
    "language_info": {
      "name": "python"
    }
  },
  "cells": [
    {
      "cell_type": "code",
      "execution_count": null,
      "metadata": {
        "id": "z7RCty67y3ME"
      },
      "outputs": [],
      "source": [
        "import numpy as np\n",
        "import matplotlib.pyplot as plt\n",
        "import scipy.linalg as la"
      ]
    },
    {
      "cell_type": "markdown",
      "source": [
        "# Actividad 08: Algebra Lineal y Matrices\n",
        "\n",
        "---\n",
        "### Profesor: Juan Marcos Marín\n",
        "### Nombre: ______\n",
        "*Métodos computacionales*\n",
        "\n",
        "---"
      ],
      "metadata": {
        "id": "GGQpGoujzAnQ"
      }
    },
    {
      "cell_type": "markdown",
      "source": [
        "#1\n",
        "Escriba tres matrices aleatorias $A$, $B$ y $C$ de $3\\times 3$, y demuestre las siguientes relaciones\n",
        "\n",
        "- $ \\mathbf{A}\\mathbf{B} \\neq \\mathbf{B}\\mathbf{A} $, en general.\n",
        "- $ (\\mathbf{A}\\mathbf{B})\\mathbf{C} = \\mathbf{A}(\\mathbf{B}\\mathbf{C}) $.\n",
        "- $ \\mathbf{A}(\\mathbf{B} + \\mathbf{C}) = \\mathbf{A}\\mathbf{B} + \\mathbf{A}\\mathbf{C} $.\n",
        "- $ (\\mathbf{A} + \\mathbf{B})\\mathbf{C} = \\mathbf{A}\\mathbf{C} + \\mathbf{B}\\mathbf{C} $.\n",
        "- $ (\\mathbf{A}\\mathbf{B})^\\top = \\mathbf{B}^\\top \\mathbf{A}^\\top $.\n",
        "- $ \\det(\\mathbf{A}\\mathbf{B}) = \\det(\\mathbf{A}) \\det(\\mathbf{B}) $.\n",
        "- $ (\\mathbf{A}^\\top)^\\top = \\mathbf{A} $.\n",
        "- $ (c\\mathbf{A})^\\top = c\\mathbf{A}^\\top $.\n",
        "- $ (\\mathbf{A} + \\mathbf{B})^\\top = \\mathbf{A}^\\top + \\mathbf{B}^\\top $.\n",
        "\n"
      ],
      "metadata": {
        "id": "U9hC1R-F0-iH"
      }
    },
    {
      "cell_type": "code",
      "source": [
        "A = np.array([[1, 2, 3],\n",
        "              [0, 1, 4],\n",
        "              [5, 6, 0]])\n",
        "\n",
        "B = np.array([[7, 8, 9],\n",
        "              [1, 3, 5],\n",
        "              [2, 4, 6]])\n",
        "\n",
        "C = np.array([[1, 0, 2],\n",
        "              [2, 1, 1],\n",
        "              [3, 2, 0]])\n",
        "\n",
        "c = 2\n",
        "AB = A @ B\n",
        "BA = B @ A\n",
        "print(\"1. AB ≠ BA:\")\n",
        "print(\"AB =\\n\", AB)\n",
        "print(\"BA =\\n\", BA)\n",
        "print(\"Son iguales:\", np.array_equal(AB, BA), \"\\n\")\n",
        "\n",
        "\n",
        "# 2. (AB)C = A(BC)\n",
        "ABC1 = (A @ B) @ C\n",
        "ABC2 = A @ (B @ C)\n",
        "print(\"2. (AB)C = A(BC):\", np.allclose(ABC1, ABC2), \"\\n\")\n",
        "\n",
        "\n",
        "# 3. A(B + C) = AB + AC\n",
        "left = A @ (B + C)\n",
        "right = A @ B + A @ C\n",
        "print(\"3. A(B + C) = AB + AC:\", np.allclose(left, right), \"\\n\")\n",
        "\n",
        "\n",
        "# 4. (A + B)C = AC + BC\n",
        "left = (A + B) @ C\n",
        "right = A @ C + B @ C\n",
        "print(\"4. (A + B)C = AC + BC:\", np.allclose(left, right), \"\\n\")\n",
        "\n",
        "\n",
        "# 5. (AB)^T = B^T A^T\n",
        "left = (A @ B).T\n",
        "right = B.T @ A.T\n",
        "print(\"5. (AB)^T = B^T A^T:\", np.allclose(left, right), \"\\n\")\n",
        "\n",
        "\n",
        "# 6. det(AB) = det(A) * det(B)\n",
        "det_AB = np.linalg.det(A @ B)\n",
        "det_A = np.linalg.det(A)\n",
        "det_B = np.linalg.det(B)\n",
        "print(\"6. det(AB) = det(A) * det(B):\", np.isclose(det_AB, det_A * det_B), \"\\n\")\n",
        "\n",
        "\n",
        "# 7. (A^T)^T = A\n",
        "print(\"7. (A^T)^T = A:\", np.allclose(A.T.T, A), \"\\n\")\n",
        "\n",
        "\n",
        "# 8. (cA)^T = cA^T\n",
        "print(\"8. (cA)^T = cA^T:\", np.allclose((c * A).T, c * A.T), \"\\n\")\n",
        "\n",
        "\n",
        "# 9. (A + B)^T = A^T + B^T\n",
        "print(\"9. (A + B)^T = A^T + B^T:\", np.allclose((A + B).T, A.T + B.T), \"\\n\")"
      ],
      "metadata": {
        "id": "cQQ6cPGW1anK"
      },
      "execution_count": null,
      "outputs": []
    },
    {
      "cell_type": "markdown",
      "source": [
        "#2\n",
        "\n",
        "El **Teorema de Laplace** es un método para calcular el determinante de una matriz cuadrada, particularmente útil para matrices de orden mayor a 2. Este teorema se basa en la expansión del determinante por los elementos de una fila o una columna cualquiera.\n",
        "\n",
        "\n",
        "\n",
        "$$\n",
        "\\det(A) = \\sum_{j=1}^n (-1)^{1+j} a_{1j} M_{1j}\n",
        "$$\n",
        "\n",
        "donde:\n",
        "- $a_{1j}$ es el elemento de la primera fila y columna $j$.\n",
        "- $M_{1j}$ es el menor asociado al elemento $a_{1j}$, es decir, el determinante de la submatriz de $3 \\times 3$ que se obtiene al eliminar la fila 1 y la columna $j$.\n",
        "- $(-1)^{1+j}$ es el signo correspondiente al cofactor del elemento $a_{1j}$.\n",
        "\n",
        "Podemos realizar una función recursiva para el cálculo del determinante, sabiendo que el valor del determinante de una matriz de orden uno es el único elemento de esa matriz, y el de una matriz de orden superior a uno es la suma de cada uno de los elementos de una fila o columna por los Adjuntos a ese elemento, como en la función recursiva se emplea la misma función definida el cálculo lo haremos por Menor complementario, un ejemplo desarrollado por la primera fila sería:\n",
        "\n",
        "$$\n",
        "   \\det (A_{j,j}) =\n",
        "   \\left \\{\n",
        "   \\begin{array}{llcl}\n",
        "      si & j = 1 & \\to & a_{1,1} \\\\\n",
        "                                 \\\\\n",
        "      si & j > 1 & \\to & \\displaystyle \\sum_{k=1}^j \\; (-1)^{(1+k)} \\cdot a_{1,k} \\cdot \\det( \\alpha_{1,k})\n",
        "   \\end{array}\n",
        "   \\right .\n",
        "$$\n",
        "\n",
        "Realice una función que encuentre el determinante de una matriz usando la recursividad aqui planteada, explique explicitamente su código"
      ],
      "metadata": {
        "id": "ibYf2I9T2pIw"
      }
    },
    {
      "cell_type": "code",
      "source": [
        "def determinante_laplace(mat):\n",
        "    '''La siguiente funcion recibira una matriz la cual convertira en un array para asi poder empezar a manipularlo con mas facilidad\n",
        "    se verifica si la matriz es cuadrada o no\n",
        "    se evalua en casos 1x1, 2x2 y por ultimo ya en un caso general'''\n",
        "    mat = np.array(mat)\n",
        "\n",
        "\n",
        "    if mat.shape[0] != mat.shape[1]:\n",
        "        raise ValueError(\"La matriz debe ser cuadrada\")\n",
        "\n",
        "    n = mat.shape[0]\n",
        "\n",
        "    if n == 1:\n",
        "        return mat[0, 0]\n",
        "\n",
        "\n",
        "    if n == 2:\n",
        "        return mat[0, 0]*mat[1, 1] - mat[0, 1]*mat[1, 0]\n",
        "\n",
        "\n",
        "    det = 0\n",
        "    for j in range(n):\n",
        "        signo = (-1) ** (1 + (j + 1))\n",
        "        submatriz = np.delete(np.delete(mat, 0, axis=0), j, axis=1)\n",
        "        cofactor = signo * mat[0, j] * determinante_laplace(submatriz)\n",
        "        det += cofactor\n",
        "\n",
        "    return det"
      ],
      "metadata": {
        "id": "-8tYERLHtrtY"
      },
      "execution_count": null,
      "outputs": []
    },
    {
      "cell_type": "markdown",
      "source": [
        "#3 Método de Gauss - Seidel\n",
        "\n",
        "Sea \\$A\\in\\mathbb{R}^{n\\times n}\\$ no singular y sea \\$b\\in\\mathbb{R}^n\\$.\n",
        "Descomponga \\$A\\$ como\n",
        "\n",
        "$$\n",
        "A \\;=\\; D \\;+\\; L \\;+\\; U,\n",
        "$$\n",
        "\n",
        "donde\n",
        "\n",
        "* \\$D\\$ es la matriz diagonal de \\$A\\$,\n",
        "* \\$L\\$ es la parte estrictamente triangular inferior,\n",
        "* \\$U\\$ es la parte estrictamente triangular superior.\n",
        "\n",
        "El algoritmo de Gauss - Seidel reorganiza el sistema \\$Ax=b\\$ como\n",
        "\n",
        "$$\n",
        "x \\;=\\; (D+L)^{-1}\\bigl(b \\;-\\; Ux\\bigr),\n",
        "$$\n",
        "\n",
        "y genera la sucesión\n",
        "\n",
        "$$\n",
        "x_i^{(k+1)}\n",
        "= \\frac{1}{a_{ii}}\n",
        "\\Bigl(b_i - \\sum_{j<i} a_{ij}\\,x_j^{(k+1)} - \\sum_{j>i} a_{ij}\\,x_j^{(k)}\\Bigr),\n",
        "\\qquad i=1,\\dots,n.\n",
        "$$\n",
        "\n",
        "Implemente una función `gauss_seidel(A, b, tol=1e-7, max_iter=100)` que:\n",
        "   * Realice las iteraciones hasta que\n",
        "     $\\lVert x^{(k+1)}-x^{(k)}\\rVert_\\infty<\\text{tol}$\n",
        "     o se alcance `max_iter`;\n",
        "   * devuelva el vector solución aproximado \\$x\\$, el número de iteraciones realizadas y la norma del último residuo.\n",
        "\n",
        "Incluya una documentación clara.\n",
        "\n",
        "Luego,\n",
        "\n",
        "   * Genere una matriz aleatoria \\$5\\times5\\$ (por ejemplo, con `np.random.rand`) y un vector \\$b\\$ aleatorio.\n",
        "   * Resuelva \\$Ax=b\\$ con su función; calcule el error relativo frente a `numpy.linalg.solve`.\n",
        "   * Estime igualmente el error respecto a la solución obtenida mediante \\$x=A^{-1}b\\$ (usando `numpy.linalg.inv`).\n",
        "   * Presente las normas de los residuos y los errores relativos."
      ],
      "metadata": {
        "id": "fTSweDGhnAUN"
      }
    },
    {
      "cell_type": "code",
      "source": [
        "def gauss_seidel(A, b, tol=1e-7, max_iter=100):\n",
        "    \"\"\"\n",
        "    Resuelve el sistema Ax = b mediante el método de Gauss-Seidel.\n",
        "\n",
        "    Parámetros:\n",
        "        A (ndarray): matriz cuadrada no singular de tamaño n x n\n",
        "        b (ndarray): vector columna de tamaño n\n",
        "        tol (float): tolerancia para el criterio de convergencia (norma infinito)\n",
        "        max_iter (int): número máximo de iteraciones permitidas\n",
        "\n",
        "    Retorna:\n",
        "        x (ndarray): solución aproximada\n",
        "        iteraciones (int): número de iteraciones realizadas\n",
        "        residuo (float): norma infinito del último residuo\n",
        "    \"\"\"\n",
        "    A = np.array(A, dtype=float)\n",
        "    b = np.array(b, dtype=float).flatten()\n",
        "    n = A.shape[0]\n",
        "    x = np.zeros_like(b)\n",
        "    x_new = np.copy(x)\n",
        "\n",
        "    for k in range(max_iter):\n",
        "        for i in range(n):\n",
        "            suma1 = sum(A[i, j] * x_new[j] for j in range(i))\n",
        "            suma2 = sum(A[i, j] * x[j] for j in range(i + 1, n))\n",
        "            x_new[i] = (1 / A[i, i]) * (b[i] - suma1 - suma2)\n",
        "\n",
        "        if np.linalg.norm(x_new - x, ord=np.inf) < tol:\n",
        "            break\n",
        "        x = np.copy(x_new)\n",
        "\n",
        "    residuo = np.linalg.norm(b - A @ x_new, ord=np.inf)\n",
        "    return x_new, k + 1, residuo"
      ],
      "metadata": {
        "id": "xXuUhfjznlnO"
      },
      "execution_count": null,
      "outputs": []
    },
    {
      "cell_type": "markdown",
      "source": [
        "#4 Método de potencias para el valor propio dominante\n",
        "\n",
        "Sea \\$A\\in\\mathbb{R}^{n\\times n}\\$ diagonalizable con valor propio dominante \\$\\lambda\\_{\\max}\\$ (en magnitud) y vector propio asociado \\$v\\_{\\max}\\$.\n",
        "\n",
        "El método de potencias genera, a partir de un vector inicial \\$q^{(0)}\\neq 0\\$, la sucesión\n",
        "\n",
        "$$\n",
        "q^{(k+1)} \\;=\\; \\frac{A\\,q^{(k)}}{\\lVert A\\,q^{(k)}\\rVert_2},\n",
        "\\qquad\n",
        "\\lambda^{(k+1)} \\;=\\; (q^{(k+1)})^{\\!\\top} A\\, q^{(k+1)},\n",
        "$$\n",
        "\n",
        "que converge a \\$v\\_{\\max}/\\lVert v\\_{\\max}\\rVert\\_2\\$ y a \\$\\lambda\\_{\\max}\\$ respectivamente, bajo hipótesis estándar.\n",
        "\n",
        "Implemente `power_method(A, tol=1e-7, max_iter=1000)` que:\n",
        "\n",
        "   * Acepte matrices reales cuadradas,\n",
        "   * Devuelva \\$\\lambda\\_{\\max}\\$, el vector propio normalizado \\$v\\_{\\max}\\$, el número de iteraciones y la última variación relativa de \\$\\lambda\\$,\n",
        "   * detenga la iteración cuando\n",
        "     $\\bigl|\\lambda^{(k+1)}-\\lambda^{(k)}\\bigr|<\\text{tol}\\,|\\lambda^{(k+1)}|$\n",
        "     o se alcance `max_iter`.\n",
        "\n",
        "Luego,\n",
        "   * Genere una matriz simétrica aleatoria \\$6\\times6\\$ (por ejemplo, \\$A = (M+M^\\top)/2\\$ con \\$M\\$ aleatoria).\n",
        "   * Aplique su `power_method` y compare \\$\\lambda\\_{\\max}\\$ y \\$v\\_{\\max}\\$ con los resultados de `numpy.linalg.eig`."
      ],
      "metadata": {
        "id": "REVJcqYtnmM-"
      }
    },
    {
      "cell_type": "code",
      "source": [
        "def power_method(A, tol=1e-7, max_iter=1000):\n",
        "    \"\"\"\n",
        "    Método de potencias para estimar el valor propio dominante (en magnitud)\n",
        "    y su vector propio asociado.\n",
        "\n",
        "    Parámetros:\n",
        "        A (ndarray): matriz cuadrada real (n x n)\n",
        "        tol (float): tolerancia para el criterio de parada\n",
        "        max_iter (int): número máximo de iteraciones\n",
        "\n",
        "    Retorna:\n",
        "        lambda_max (float): valor propio dominante estimado\n",
        "        v_max (ndarray): vector propio normalizado asociado\n",
        "        k (int): número de iteraciones realizadas\n",
        "        rel_diff (float): última diferencia relativa |λ(k+1) − λ(k)| / |λ(k+1)|\n",
        "    \"\"\"\n",
        "    A = np.array(A, dtype=float)\n",
        "    n = A.shape[0]\n",
        "\n",
        "    # Vector inicial aleatorio normalizado\n",
        "    q = np.random.rand(n)\n",
        "    q = q / np.linalg.norm(q)\n",
        "\n",
        "    lambda_old = 0\n",
        "\n",
        "    for k in range(1, max_iter + 1):\n",
        "        z = A @ q\n",
        "        q = z / np.linalg.norm(z)\n",
        "        lambda_new = q @ A @ q  # Rayleigh quotient\n",
        "\n",
        "        # Criterio de convergencia relativo\n",
        "        rel_diff = abs(lambda_new - lambda_old) / abs(lambda_new)\n",
        "\n",
        "        if rel_diff < tol:\n",
        "            break\n",
        "\n",
        "        lambda_old = lambda_new\n",
        "\n",
        "    return lambda_new, q, k, rel_diff"
      ],
      "metadata": {
        "id": "lPzFAOE7obZY"
      },
      "execution_count": null,
      "outputs": []
    },
    {
      "cell_type": "markdown",
      "source": [
        "#5\n",
        "\n",
        "Verifique que cualquier matriz hermitiana de 2 × 2 $ L $ puede escribirse como una suma de cuatro términos:\n",
        "\n",
        "$$ L = a\\sigma_x + b\\sigma_y + c\\sigma_z + dI $$\n",
        "\n",
        "donde $ a $, $ b $, $ c $ y $ d $ son números reales.\n",
        "\n",
        "Las cuatro matrices de Pauli son:\n",
        "\n",
        "$$ \\sigma_x = \\begin{pmatrix} 0 & 1 \\\\ 1 & 0 \\end{pmatrix}, \\quad \\sigma_y = \\begin{pmatrix} 0 & -i \\\\ i & 0 \\end{pmatrix}, \\quad \\sigma_z = \\begin{pmatrix} 1 & 0 \\\\ 0 & -1 \\end{pmatrix}, \\quad I = \\begin{pmatrix} 1 & 0 \\\\ 0 & 1 \\end{pmatrix} $$\n",
        "\n",
        "\n"
      ],
      "metadata": {
        "id": "iggu2jNwVpnK"
      }
    },
    {
      "cell_type": "code",
      "source": [
        "sigma_x = np.array([[0, 1], [1, 0]], dtype=complex)\n",
        "sigma_y = np.array([[0, -1j], [1j, 0]], dtype=complex)\n",
        "sigma_z = np.array([[1, 0], [0, -1]], dtype=complex)\n",
        "I = np.eye(2, dtype=complex)\n",
        "\n",
        "\n",
        "\n",
        "p, q = np.random.rand(2)\n",
        "u, v = np.random.rand(2)\n",
        "L = np.array([[p, u + 1j*v],\n",
        "              [u - 1j*v, q]], dtype=complex)\n",
        "\n",
        "\n",
        "a = 0.5 * np.trace(L @ sigma_x).real\n",
        "b = 0.5 * np.trace(L @ sigma_y).real\n",
        "c = 0.5 * np.trace(L @ sigma_z).real\n",
        "d = 0.5 * np.trace(L @ I).real\n",
        "\n",
        "\n",
        "L_reconstructed = a*sigma_x + b*sigma_y + c*sigma_z + d*I\n",
        "\n",
        "\n",
        "print(\"Matriz original L:\")\n",
        "print(np.round(L, 4))\n",
        "\n",
        "print(\"\\nCoeficientes:\")\n",
        "print(f\"a = {a:.4f}, b = {b:.4f}, c = {c:.4f}, d = {d:.4f}\")\n",
        "\n",
        "print(\"\\nMatriz reconstruida L':\")\n",
        "print(np.round(L_reconstructed, 4))\n",
        "\n",
        "\n",
        "diff_norm = np.linalg.norm(L - L_reconstructed)\n",
        "print(f\"\\n¿L ≈ L'? Error absoluto: {diff_norm:.2e}\")\n"
      ],
      "metadata": {
        "id": "8WN9_cOCV7cM"
      },
      "execution_count": null,
      "outputs": []
    },
    {
      "cell_type": "markdown",
      "source": [
        "# 6\n",
        "\n",
        "Haga un breve resumen en Markdown de las funciones y métodos más relevantes para algebra lineal usando Python. Emplee ejemplos."
      ],
      "metadata": {
        "id": "GnCw5_O5pMxl"
      }
    },
    {
      "cell_type": "code",
      "source": [],
      "metadata": {
        "id": "djdVPgpoparm"
      },
      "execution_count": null,
      "outputs": []
    },
    {
      "cell_type": "markdown",
      "source": [
        "Python proporciona instrumentos altamente eficientes para el álgebra lineal, principalmente mediante las librerías `numpy` y `scipy`.  Para elaborar matrices y vectores, se utilizan características como `np.array`, `np.eye` (para generar identidades), `np.zeros`, o `np.random.rand` para valores aleatorios.  Operaciones como la adición y división de matrices, transposición (`A.T`), cálculo inverso (`np.linalg.inv`) y potencias de matrices (`np.linalg.matrix_power`) pueden llevarse a cabo.  Asimismo, es posible adquirir el determinante (`np.linalg.det`), la traza (`np.trace`) y varias normas (`np.linalg.norm`).Para resolver ecuaciones del tipo Ax = b, se recomienda `np.linalg.solve`, o `np.linalg.lstsq` si el sistema no tiene solución directa.  Además, se pueden obtener valores y vectores propios con `np.linalg.eig` o `np.linalg.eigh` si la matriz es simétrica, y hacer descomposiciones como LU (`scipy.linalg.lu`), QR (`np.linalg.qr`) o SVD (`np.linalg.svd`).  La pseudoinversa se calcula con `np.linalg.pinv`.  También es posible verificar propiedades numéricas usando `np.allclose` o `np.isclose`, siendo buena práctica usar `np.linalg.solve` en lugar de multiplicar por la inversa debido a su mayor precisión y velocidad.  Estas funciones permiten resolver de forma efectiva y precisa una gran variedad de problemas de álgebra lineal."
      ],
      "metadata": {
        "id": "dcg-B_E4xEKO"
      }
    }
  ]
}