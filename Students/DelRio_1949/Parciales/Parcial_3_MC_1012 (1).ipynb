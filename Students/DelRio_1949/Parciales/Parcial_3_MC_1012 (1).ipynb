{
  "nbformat": 4,
  "nbformat_minor": 0,
  "metadata": {
    "colab": {
      "provenance": []
    },
    "kernelspec": {
      "name": "python3",
      "display_name": "Python 3"
    },
    "language_info": {
      "name": "python"
    }
  },
  "cells": [
    {
      "cell_type": "code",
      "execution_count": 1,
      "metadata": {
        "id": "Yuv-rOLsiZWr"
      },
      "outputs": [],
      "source": [
        "#@title Librerias\n",
        "import numpy as np\n",
        "import numpy.linalg as la\n",
        "import matplotlib.pyplot as plt\n",
        "from scipy.integrate import solve_ivp"
      ]
    },
    {
      "cell_type": "markdown",
      "source": [
        "# Parcial III - Métodos Computacionales\n",
        "\n",
        "### Nombre: Ana Sofia Del Rio\n",
        "\n",
        "---\n",
        "\n",
        "## ⚠ Importante\n",
        "\n",
        "👁 Puede usar unicamente las librerias vistas en clase (estas están en la parte superior) en caso de agregar una nueva, debe justificarla.\n",
        "\n",
        "💀 No está permitido el uso de IA's en caso de hacerlo su parcial será **anulado**!\n",
        "\n",
        "❗ Comente su código y funciones, esto hace parte de la nota.\n",
        "\n",
        "✅ Responda ordenadamente y con claridad.\n",
        "\n",
        "\n",
        "---"
      ],
      "metadata": {
        "id": "n7iqcT1JqoQK"
      }
    },
    {
      "cell_type": "markdown",
      "source": [
        "# 1\n",
        "\n",
        "(**35 puntos**) El **método de Jacobi** es un algoritmo iterativo para resolver sistemas lineales de la forma:\n",
        "\n",
        "$$\n",
        "A \\mathbf{x} = \\mathbf{b},\n",
        "$$\n",
        "\n",
        "donde \\$A\\$ es una matriz cuadrada no singular. A diferencia del método de Gauss-Seidel, Jacobi utiliza exclusivamente los valores de la iteración anterior para actualizar todas las variables simultáneamente, lo que lo hace más sencillo de paralelizar pero, en general, con una convergencia más lenta.\n",
        "\n",
        "## Algoritmo\n",
        "\n",
        "Dado un sistema lineal \\$A \\mathbf{x} = \\mathbf{b}\\$, el método de Jacobi consiste en:\n",
        "\n",
        "1. Elegir un vector inicial \\$\\mathbf{x}^{(0)}\\$ (por ejemplo, el vector nulo).\n",
        "\n",
        "2. Para cada iteración \\$k\\$ y cada componente \\$i = 1, 2, ..., n\\$, actualizar:\n",
        "\n",
        "$$\n",
        "x_i^{(k)} = \\frac{1}{a_{ii}} \\left( b_i - \\sum_{\\substack{j=1 \\\\ j \\neq i}}^{n} a_{ij} x_j^{(k-1)} \\right)\n",
        "$$\n",
        "\n",
        "3. Repetir hasta que se cumpla un criterio de convergencia, como:\n",
        "\n",
        "$$\n",
        "\\| \\mathbf{x}^{(k)} - \\mathbf{x}^{(k-1)} \\| < \\text{tolerancia}\n",
        "$$\n",
        "\n",
        "---\n",
        "\n",
        "**a)** Escriba una función llamada `jacobi` que resuelva el sistema lineal \\$A \\mathbf{x} = \\mathbf{b}\\$ usando el método iterativo de Jacobi. La función debe aceptar como argumentos:\n",
        "\n",
        "* La matriz \\$A\\$ y el vector \\$\\mathbf{b}\\$,\n",
        "* Una tolerancia (por defecto \\$1\\times 10^{-10}\\$),\n",
        "* Un número máximo de iteraciones.\n",
        "\n",
        "Debe retornar la solución aproximada \\$\\mathbf{x}\\$ y el número de iteraciones realizadas.\n",
        "\n",
        "---\n",
        "\n",
        "**b)** Aplique su función para resolver el siguiente sistema de ecuaciones lineales:\n",
        "\n",
        "$$\n",
        "\\begin{cases}\n",
        "10x_1 - x_2 + 2x_3 = 6 \\\\[2mm]\n",
        "-2x_1 + 11x_2 - x_4 = 25 \\\\[2mm]\n",
        "3x_1 - x_2 + 10x_3 - x_4 = -11 \\\\[2mm]\n",
        "2x_2 - x_3 + 8x_4 = 15\n",
        "\\end{cases}\n",
        "$$\n",
        "\n",
        "Use como vector inicial \\$\\mathbf{x}^{(0)} = \\[0, 0, 0, 0]^T\\$. Imprima la solución aproximada y el número de iteraciones necesarias para adquirir la convergencia.\n",
        "\n",
        "---\n",
        "\n",
        "**c)** Compare su solución con `np.linalg.solve`. ¿Qué tan cercana es la solución iterativa a la exacta? Para esto, realice un gráfico del error usando la norma euclidiana (`np.linalg.norm`) en función de la tolerancia y otro del número de iteraciones, empleando un `np.logspace(-18, -1, 18)`.\n",
        "\n",
        "---\n",
        "\n"
      ],
      "metadata": {
        "id": "atjx6Bv7i7sE"
      }
    },
    {
      "cell_type": "code",
      "source": [
        "def jacobi(A, b, tol=1e-10, max_iter=100):\n",
        "    '''\n",
        "    Implementa el método de Jacobi para resolver un sistema matricial Ax = b\n",
        "    Entradas:\n",
        "        - A = Matriz cuadrada de coeficientes (array)\n",
        "        - b = Vector de terminos independientes (array)\n",
        "        - tol = tolerancia (1e-10)\n",
        "        - max_iter = número máximos de iteraciones\n",
        "    Salidas:\n",
        "        - vector solución (array)\n",
        "    '''\n",
        "    n = len(b)\n",
        "    x = np.zeros_like(b)\n",
        "    x_ = np.zeros_like(x)  #Elegimos un vector inicial x_0 = vector nulo (del mismo tamaño que b)\n",
        "\n",
        "    for iteraciones in range(max_iter):\n",
        "        for i in range(n):\n",
        "            suma = 0\n",
        "            for j in range(n):\n",
        "                if j != i: #j tiene que ser diferente de i\n",
        "                    suma += A[i, j] * x[j]\n",
        "            x_[i] = (b[i] - suma) / A[i, i]\n",
        "\n",
        "        error = np.linalg.norm(x_ - x)  #verificamos la convergencia\n",
        "        if error < tol:\n",
        "            x[:] = x_\n",
        "            return x, iteraciones+1\n",
        "\n",
        "        x  =x_.copy()\n",
        "    return x, max_iter"
      ],
      "metadata": {
        "id": "u6O8BwjuR89R"
      },
      "execution_count": 35,
      "outputs": []
    },
    {
      "cell_type": "code",
      "source": [
        "#Punto b\n",
        "A= np.array ([[10, -1, 2, 0],\n",
        "    [-2, 11, 0, -1],\n",
        "    [3, -1, 10, -1],\n",
        "    [0, 2, -1, 8]])\n",
        "\n",
        "b = np.array ([[6, 25, -11, 15]])\n",
        "\n",
        "sol= jacobi(A, b, tol = 1e-10, max_iter = 100)\n",
        "sol"
      ],
      "metadata": {
        "colab": {
          "base_uri": "https://localhost:8080/"
        },
        "id": "UrfJ-CgyLGko",
        "outputId": "c909b6b5-d750-477f-f029-398b3fd61cd7"
      },
      "execution_count": 36,
      "outputs": [
        {
          "output_type": "execute_result",
          "data": {
            "text/plain": [
              "(array([[ 0,  2, -1,  1]]), 2)"
            ]
          },
          "metadata": {},
          "execution_count": 36
        }
      ]
    },
    {
      "cell_type": "code",
      "source": [
        "#Punto c\n",
        "sol_exacta = np.linalg.solve(A,b)\n",
        "sol_exacta"
      ],
      "metadata": {
        "colab": {
          "base_uri": "https://localhost:8080/",
          "height": 297
        },
        "id": "7UUZ5WelTPUD",
        "outputId": "3f00820b-08a4-439b-a6f1-64e79bcce06c"
      },
      "execution_count": 40,
      "outputs": [
        {
          "output_type": "error",
          "ename": "ValueError",
          "evalue": "solve: Input operand 1 has a mismatch in its core dimension 0, with gufunc signature (m,m),(m,n)->(m,n) (size 1 is different from 4)",
          "traceback": [
            "\u001b[0;31m---------------------------------------------------------------------------\u001b[0m",
            "\u001b[0;31mValueError\u001b[0m                                Traceback (most recent call last)",
            "\u001b[0;32m/tmp/ipython-input-3763936891.py\u001b[0m in \u001b[0;36m<cell line: 0>\u001b[0;34m()\u001b[0m\n\u001b[1;32m      1\u001b[0m \u001b[0;31m#Punto c\u001b[0m\u001b[0;34m\u001b[0m\u001b[0;34m\u001b[0m\u001b[0m\n\u001b[0;32m----> 2\u001b[0;31m \u001b[0msol_exacta\u001b[0m \u001b[0;34m=\u001b[0m \u001b[0mnp\u001b[0m\u001b[0;34m.\u001b[0m\u001b[0mlinalg\u001b[0m\u001b[0;34m.\u001b[0m\u001b[0msolve\u001b[0m\u001b[0;34m(\u001b[0m\u001b[0mA\u001b[0m\u001b[0;34m,\u001b[0m\u001b[0mb\u001b[0m\u001b[0;34m)\u001b[0m\u001b[0;34m\u001b[0m\u001b[0;34m\u001b[0m\u001b[0m\n\u001b[0m\u001b[1;32m      3\u001b[0m \u001b[0msol_exacta\u001b[0m\u001b[0;34m\u001b[0m\u001b[0;34m\u001b[0m\u001b[0m\n",
            "\u001b[0;32m/usr/local/lib/python3.11/dist-packages/numpy/linalg/_linalg.py\u001b[0m in \u001b[0;36msolve\u001b[0;34m(a, b)\u001b[0m\n\u001b[1;32m    408\u001b[0m     with errstate(call=_raise_linalgerror_singular, invalid='call',\n\u001b[1;32m    409\u001b[0m                   over='ignore', divide='ignore', under='ignore'):\n\u001b[0;32m--> 410\u001b[0;31m         \u001b[0mr\u001b[0m \u001b[0;34m=\u001b[0m \u001b[0mgufunc\u001b[0m\u001b[0;34m(\u001b[0m\u001b[0ma\u001b[0m\u001b[0;34m,\u001b[0m \u001b[0mb\u001b[0m\u001b[0;34m,\u001b[0m \u001b[0msignature\u001b[0m\u001b[0;34m=\u001b[0m\u001b[0msignature\u001b[0m\u001b[0;34m)\u001b[0m\u001b[0;34m\u001b[0m\u001b[0;34m\u001b[0m\u001b[0m\n\u001b[0m\u001b[1;32m    411\u001b[0m \u001b[0;34m\u001b[0m\u001b[0m\n\u001b[1;32m    412\u001b[0m     \u001b[0;32mreturn\u001b[0m \u001b[0mwrap\u001b[0m\u001b[0;34m(\u001b[0m\u001b[0mr\u001b[0m\u001b[0;34m.\u001b[0m\u001b[0mastype\u001b[0m\u001b[0;34m(\u001b[0m\u001b[0mresult_t\u001b[0m\u001b[0;34m,\u001b[0m \u001b[0mcopy\u001b[0m\u001b[0;34m=\u001b[0m\u001b[0;32mFalse\u001b[0m\u001b[0;34m)\u001b[0m\u001b[0;34m)\u001b[0m\u001b[0;34m\u001b[0m\u001b[0;34m\u001b[0m\u001b[0m\n",
            "\u001b[0;31mValueError\u001b[0m: solve: Input operand 1 has a mismatch in its core dimension 0, with gufunc signature (m,m),(m,n)->(m,n) (size 1 is different from 4)"
          ]
        }
      ]
    },
    {
      "cell_type": "markdown",
      "source": [
        "# 2\n",
        "\n",
        "(**50 puntos**) El sistema **masa-resorte con fricción** es un modelo clásico en física que describe el movimiento de una masa sujeta a una fuerza restauradora (resorte) y una fuerza disipativa (fricción o viscosidad). Su dinámica está gobernada por la ecuación diferencial de segundo orden:\n",
        "\n",
        "$$\n",
        "m y''(t) + c y'(t) + k y(t) = 0,\n",
        "$$\n",
        "\n",
        "donde:\n",
        "\n",
        "* $m$ es la masa del objeto,\n",
        "* $c$ es el coeficiente de fricción (amortiguamiento),\n",
        "* $k$ es la constante del resorte,\n",
        "* $y(t)$ es la posición de la masa respecto a su equilibrio.\n",
        "\n",
        "---\n",
        "\n",
        "**a)** Reformule esta ecuación como un sistema de primer orden adecuado para ser resuelto con `solve_ivp`. Explique mediante una función explicita y realice su documentación.\n",
        "\n",
        "---\n",
        "\n",
        "**b)** Considere el siguiente caso:\n",
        "\n",
        "* Masa: $m = 1$ kg\n",
        "* Constante del resorte: $k = 4$ N/m\n",
        "* Coeficiente de fricción: $c = 0.5$ N·s/m\n",
        "* Condiciones iniciales: $y(0) = 1$, $y'(0) = 0$\n",
        "* Intervalo de tiempo: $t \\in [0, 20]$\n",
        "\n",
        "Utilice `solve_ivp` para resolver el sistema y grafique $y(t)$ como $y'(t)$. Interprete el comportamiento del sistema.\n",
        "\n",
        "---\n",
        "\n",
        "**c)** Simule dos escenarios adicionales:\n",
        "\n",
        "1. Sin fricción: $c = 0$\n",
        "2. Con fuerte fricción: $c = 4.5$\n",
        "\n",
        "Grafique los tres casos \\$y(t)\\$ en una misma figura y compare los regímenes: **no amortiguado**, **subamortiguado**, y **sobreamortiguado**.\n",
        "\n",
        "---\n",
        "\n",
        "**d)** Para cada uno de los tres casos, calcule la **energía mecánica total** del sistema en función del tiempo. La energía total se define como la suma de energía cinética y potencial:\n",
        "\n",
        "$$\n",
        "E(t) = \\frac{1}{2} m v^2 + \\frac{1}{2} k y^2\n",
        "$$\n",
        "\n",
        "Grafique $E(t)$ para los tres escenarios simulados. Analice y compare el comportamiento de la energía en cada caso. ¿Qué sucede con la energía a lo largo del tiempo? ¿Cómo se relaciona esto con el valor del coeficiente de fricción $c$?\n"
      ],
      "metadata": {
        "id": "h7JrrJrOpNex"
      }
    },
    {
      "cell_type": "code",
      "source": [
        "#Punto a\n",
        "def f(t, Y):\n",
        "  m, k, c = 1, 4, 0.5 #constantes\n",
        "  y1, y2 = Y #cambio de variable\n",
        "  dy1, dy2 = y2, (-c*y2-k*y1)/ m\n",
        "  return dy1, dy2\n",
        "\n",
        "#Punto b\n",
        "y0dy0= [1, 0] #condiciones iniciales\n",
        "t_span = (0, 20)\n",
        "t_eval= np.linspace (0, 20, 100)\n",
        "sol = solve_ivp(f, t_span, y0dy0, t_eval= t_eval )\n",
        "#Graficar y(t)\n",
        "plt.plot(sol.t, sol.y[0])\n",
        "plt.grid()\n",
        "plt.legend()\n",
        "plt.show()\n",
        "#Graaficar y'(t)\n",
        "plt.plot(sol.t, sol.y[1])\n",
        "plt.grid()\n",
        "plt.legend()\n",
        "plt.show()"
      ],
      "metadata": {
        "id": "DYkQ7TUmrti-",
        "colab": {
          "base_uri": "https://localhost:8080/",
          "height": 932
        },
        "outputId": "61cd0f40-8ffd-41f4-e501-af9fb264a49c"
      },
      "execution_count": 45,
      "outputs": [
        {
          "output_type": "stream",
          "name": "stderr",
          "text": [
            "/tmp/ipython-input-1211055381.py:16: UserWarning: No artists with labels found to put in legend.  Note that artists whose label start with an underscore are ignored when legend() is called with no argument.\n",
            "  plt.legend()\n"
          ]
        },
        {
          "output_type": "display_data",
          "data": {
            "text/plain": [
              "<Figure size 640x480 with 1 Axes>"
            ],
            "image/png": "[encoded data removed]"
          },
          "metadata": {}
        },
        {
          "output_type": "stream",
          "name": "stderr",
          "text": [
            "/tmp/ipython-input-1211055381.py:21: UserWarning: No artists with labels found to put in legend.  Note that artists whose label start with an underscore are ignored when legend() is called with no argument.\n",
            "  plt.legend()\n"
          ]
        },
        {
          "output_type": "display_data",
          "data": {
            "text/plain": [
              "<Figure size 640x480 with 1 Axes>"
            ],
            "image/png": "[encoded data removed]"
          },
          "metadata": {}
        }
      ]
    },
    {
      "cell_type": "markdown",
      "source": [
        "# 3\n",
        "\n",
        "**(15 puntos)** Sea $A$ una matriz cuadrada de tamaño $n \\times n$. Dos propiedades fundamentales de los autovalores de $A$ son:\n",
        "\n",
        "1. **Determinante**:\n",
        "\n",
        "   $$\n",
        "   \\det(A) = \\prod_{i=1}^{n} \\lambda_i\n",
        "   $$\n",
        "\n",
        "2. **Traza**:\n",
        "\n",
        "   $$\n",
        "   \\mathrm{tr}(A) = \\sum_{i=1}^{n} \\lambda_i\n",
        "   $$\n",
        "\n",
        "donde $\\lambda_1, \\lambda_2, \\dots, \\lambda_n$ son los autovalores de $A$.\n",
        "\n",
        "Usando un conjunto de matrices aleatorias $A$ de $5\\times 5$ (1000 matrices diferentes), verifique numéricamente ambas propiedades. Puede emplear las funciones `np.linalg.det`, `np.trace` y `np.linalg.eigvals`.\n"
      ],
      "metadata": {
        "id": "oST6HBD1BCAA"
      }
    },
    {
      "cell_type": "code",
      "source": [
        "n = 1000 #número de matrices a generar\n",
        "\n",
        "for i in range(n):\n",
        "    A = np.random.rand(5, 5) #generar una matriz aleatoria de 5x5\n",
        "\n",
        "    #Calcular determinante y traza de la matriz\n",
        "    det_A = np.linalg.det(A)\n",
        "    tr_A = np.trace(A)\n",
        "\n",
        "    #Calcular los autovalores de la matriz\n",
        "    autovalores = np.linalg.eigvals(A)\n",
        "\n",
        "    #Calcular el producto y la suma de los autovalores\n",
        "    prod_autovalores = np.prod(autovalores)\n",
        "    sum_autovalores = np.sum(autovalores)\n",
        "\n",
        "    if not np.isclose(det_A, prod_autovalores):\n",
        "        print(f'La propiedad del determinante no funcionó para la matriz {i+1}')\n",
        "        break\n",
        "\n",
        "    #Propiedad de la Traza\n",
        "    if not np.isclose(tr_A, sum_autovalores):\n",
        "        print(f'La propiedad de la traza no funcionó para la matriz {i+1}')\n",
        "        break\n",
        "\n",
        "print('Las dos se cumpplen para las 1000 matrices')"
      ],
      "metadata": {
        "id": "V2rc7C4kBH0b"
      },
      "execution_count": 4,
      "outputs": []
    }
  ]
}