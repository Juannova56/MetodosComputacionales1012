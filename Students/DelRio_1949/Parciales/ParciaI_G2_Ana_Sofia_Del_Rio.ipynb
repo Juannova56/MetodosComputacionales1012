{
  "nbformat": 4,
  "nbformat_minor": 0,
  "metadata": {
    "colab": {
      "provenance": []
    },
    "kernelspec": {
      "name": "python3",
      "display_name": "Python 3"
    },
    "language_info": {
      "name": "python"
    }
  },
  "cells": [
    {
      "cell_type": "markdown",
      "source": [
        "# Parcial I - Métodos Computacionales\n",
        "\n",
        "**2025-1**\n",
        "\n",
        "---\n",
        "\n",
        "Nombre:\n",
        "\n",
        "Identificación:\n",
        "\n",
        "---\n",
        "\n",
        "* ⚠ Explique su código usando con comentarios,\n",
        "\n",
        "* ❗Todas las funciones deben tener documentación básica,\n",
        "\n",
        "* 🛑 El uso de IA's no está permitido,\n",
        "\n",
        "* ⚛ La interpretación del enunciado hace parte de la evaluación,\n",
        "\n",
        "* ⏲ Este parcial tiene una duración de 2 horas"
      ],
      "metadata": {
        "id": "bcIQtfNJ4sBq"
      }
    },
    {
      "cell_type": "code",
      "source": [
        "# Librerias útiles\n",
        "import numpy as np\n",
        "import matplotlib.pyplot as plt\n",
        "import pandas as pd\n",
        "from math import factorial\n",
        "from scipy.optimize import root_scalar, newton, bisect # Funciones para raices\n",
        "\n",
        "## Ayudas\n",
        "# np.sign (Signo de una variable)\n",
        "# np.deg2rad (Convertir grados a radianes)\n",
        "# pd.DataFrame Genera un dataframe a partir de un diccionario o listas\n",
        "# range(0, 10, 2) (Pasos de 2 comenzando en 0 hasta 10)"
      ],
      "metadata": {
        "id": "-86TwvuE48Kp"
      },
      "execution_count": 7,
      "outputs": []
    },
    {
      "cell_type": "markdown",
      "source": [
        "# 1\n",
        "\n",
        "**(40 puntos)** El **método de Ridder** es un algoritmo de búsqueda de raíces que, como la bisección, requiere un intervalo $[a, b]$ tal que $f(a) \\cdot f(b) < 0$. A diferencia de la bisección, Ridder introduce una corrección exponencial para acelerar la convergencia, logrando **convergencia cuadrática** sin requerir derivadas.\n",
        "\n",
        "---\n",
        "### Pasos para implementar\n",
        "\n",
        "1. **Definir la función** $f(x)$ y un intervalo $[a, b]$ tal que:\n",
        "\n",
        "   - $f(a) \\cdot f(b) < 0$ (la función tiene signos opuestos en los extremos del intervalo).\n",
        "   - La función debe ser continua en $[a, b]$.\n",
        "\n",
        "2. **Calcular el punto medio**:\n",
        "\n",
        "   $$\n",
        "   m = \\frac{a + b}{2}\n",
        "   $$\n",
        "\n",
        "3. **Calcular la corrección exponencial**:\n",
        "\n",
        "   - Evaluar $f(a)$, $f(b)$ y $f(m)$.\n",
        "   - Calcular:\n",
        "\n",
        "     $$\n",
        "     s = \\sqrt{f(m)^2 - f(a) f(b)}\n",
        "     $$\n",
        "\n",
        "   - Si $s = 0$, detener: la raíz no puede estimarse en esta iteración.\n",
        "\n",
        "   - Calcular el nuevo candidato a raíz:\n",
        "\n",
        "     $$\n",
        "     x = m + \\frac{(m - a) f(m)}{s} \\cdot \\text{sign}(f(a) - f(b))\n",
        "     $$\n",
        "\n",
        "4. **Evaluar $f(x)$** y actualizar el intervalo:\n",
        "\n",
        "   - Si $f(m) \\cdot f(x) < 0$, entonces la nueva raíz está entre $m$ y $x$.\n",
        "   - Si $f(a) \\cdot f(x) < 0$, entonces actualizar $b = x$, luego $f(b) = f(x)$.\n",
        "   - Si $f(b) \\cdot f(x) < 0$, entonces actualizar $a = x$, luego $f(a) = f(x)$.\n",
        "   - En cada paso mantener la condición $f(a) \\cdot f(b) < 0$.\n",
        "\n",
        "5. **Criterio de parada**:\n",
        "\n",
        "   - Repetir los pasos anteriores hasta que se alcance la tolerancia deseada:\n",
        "\n",
        "     $$\n",
        "     |f(x)| < \\varepsilon \\quad \\text{o} \\quad |b - a| < \\delta\n",
        "     $$\n",
        "\n",
        "   donde $\\varepsilon$ y $\\delta$ son tolerancias establecidas por el usuario.\n",
        "\n",
        "---\n",
        "\n",
        "* Defina una función llamada `Ridder` que calcule la raiz de una función dada. Su función debe tener documentación y retornar el valor de la raiz junto con el número de iteraciones empleadas para alcanzar la convergencia dada una tolerancia.\n",
        "\n",
        "* Usando\n",
        "$$\\cos(x) = x,$$\n",
        "\n",
        "Grafique la función para $0\\leq x \\leq \\pi/2$ usando 100 puntos. Luego, cree un DataFrame con los datos de $x$ y $f(x)$, y encuentre una primera aproximación a la raiz aplicando un filtro en el dataframe con los valores más cercanos a cero.\n",
        "\n",
        "* Usando el método de Ridder encuentre la raiz númericamente y compare su resultado usando el método de bisección y secante.\n",
        "\n",
        "* Para las siguientes tolerancias (ver código) realice un gráfico usando escala logaritimica en $y$ de cuantas iteraciones son necesarias hasta alcanzar la convergencia. ¿Qué puede concluir acerca de la misma?\n",
        "\n",
        "```python\n",
        "# Tolerancias\n",
        "tol = np.logspace(-1, -20, 20)\n",
        "\n",
        "# Grafico semilog\n",
        "\n",
        "plt.semilogy(N, tol)\n",
        "\n",
        "```"
      ],
      "metadata": {
        "id": "rNIchL-H5ZII"
      }
    },
    {
      "cell_type": "code",
      "source": [
        "\n",
        "def Ridder(f,a,b, tol=1e-6, maxiter=100):\n",
        "  n=0\n",
        "  terminos=[]\n",
        "  while n < maxiter:\n",
        "    if f(a)*f(b)>0:\n",
        "      raise ValueError('f(a)*f(b) debe ser menor que 0')\n",
        "\n",
        "    m= (a+b)/2\n",
        "    f_a= f(a)\n",
        "    f_b= f(b)\n",
        "    f_m= f(m)\n",
        "    s= np.sqrt((f_m**2)-(f_a*f_b))\n",
        "\n",
        "    if s==0:\n",
        "      raise ValueError('la raíz no puede estimarse en esta iteración')\n",
        "    else:\n",
        "      x= m + (((m-a)*f_m)/s)*np.sign(f_a - f_b)\n",
        "      f_x= f(x)\n",
        "\n",
        "    if (f_m*f_x)<0:\n",
        "      a=x\n",
        "      b=x\n",
        "    elif (f_a*f_x)<0:\n",
        "      b=x\n",
        "    else:\n",
        "      a=x\n",
        "    terminos.append(x)\n",
        "    n+=1\n",
        "    if abs(f_x) < tol:\n",
        "      return (x,n)"
      ],
      "metadata": {
        "id": "phBAIpoX7Y9W"
      },
      "execution_count": 45,
      "outputs": []
    },
    {
      "cell_type": "code",
      "source": [
        "\n",
        "def f(x):\n",
        "  return np.cos(x) - x\n",
        "\n",
        "x= np.linspace(0, np.pi / 2, 100)\n",
        "df = pd.DataFrame({'x': x, 'f(x)': f(x)})\n",
        "\n",
        "plt.figure(figsize=(10, 6))\n",
        "plt.plot(df['x'], df['f(x)'], label='f(x) = cos(x) - x')\n",
        "plt.axhline(0, color='red', linewidth=0.8, linestyle='--')\n",
        "plt.title('Gráfica de la función f(x) = cos(x) - x')\n",
        "plt.xlabel('x')\n",
        "plt.ylabel('f(x)')\n",
        "plt.grid(True)\n",
        "plt.legend()\n",
        "plt.show()\n",
        "\n",
        "\n"
      ],
      "metadata": {
        "colab": {
          "base_uri": "https://localhost:8080/",
          "height": 564
        },
        "id": "FQZIZ8AVrLRD",
        "outputId": "72857007-d91e-4d7c-c71c-6af4bcb96acf"
      },
      "execution_count": 46,
      "outputs": [
        {
          "output_type": "display_data",
          "data": {
            "text/plain": [
              "<Figure size 1000x600 with 1 Axes>"
            ],
            "image/png": "[encoded data removed]"
          },
          "metadata": {}
        }
      ]
    },
    {
      "cell_type": "code",
      "source": [
        "def f(x):\n",
        "  return np.cos(x)-x\n",
        "Ridder(f, 0, np.pi/2)"
      ],
      "metadata": {
        "colab": {
          "base_uri": "https://localhost:8080/"
        },
        "id": "h69oA8XRx3mS",
        "outputId": "90e5fbbd-f46e-4ef0-ed52-4d1b7ea75048"
      },
      "execution_count": 40,
      "outputs": [
        {
          "output_type": "execute_result",
          "data": {
            "text/plain": [
              "(np.float64(0.7390850564429174), 4)"
            ]
          },
          "metadata": {},
          "execution_count": 40
        }
      ]
    },
    {
      "cell_type": "markdown",
      "source": [
        "#2\n",
        "\n",
        "**(60 puntos)** En óptica, cuando un rayo de luz atraviesa la interfaz entre dos medios con diferentes índices de refracción, su dirección cambia según la ley de Snell. Para el caso de un prisma triangular, cuando un rayo emerge después de dos refracciones, el ángulo de desviación total $\\delta$ está dado por:\n",
        "\n",
        "$$\\delta(\\theta_i) = \\theta_i + \\arcsin\\left(n\\sin\\left(A - \\arcsin\\left(\\frac{\\sin\\theta_i}{n}\\right)\\right)\\right) - A$$\n",
        "\n",
        "donde $\\theta_i$ es el ángulo de incidencia, $n$ es el índice de refracción del prisma y $A$ es el ángulo del prisma.\n",
        "\n",
        "La derivada de esta función con respecto al ángulo de incidencia $\\theta_i$ es:\n",
        "\n",
        "$$\\frac{d\\delta}{d\\theta_i} = 1 - \\frac{\\cos\\theta_i \\cdot \\cos(A-\\theta_r)}{\\cos\\theta_r \\cdot \\sqrt{1-n^2\\sin^2(A-\\theta_r)}}$$\n",
        "\n",
        "donde $\\theta_r = \\arcsin\\left(\\frac{\\sin\\theta_i}{n}\\right)$ es el ángulo de refracción en la primera interfaz.\n",
        "\n",
        "Considere un prisma de vidrio crown con $n = 1.52$ y $A = 60°$.\n",
        "\n",
        "### Parte A:\n",
        "* Escriba una función explicita y documentada para $\\frac{d\\delta}{d\\theta_i}$\n",
        "\n",
        "* Realice un gráfico para $\\frac{d\\delta}{d\\theta_i}$ y encuentre el ángulo de incidencia $\\theta_i$ que produce el ángulo de desviación mínimo para $\\theta_i \\in [30°, 80°]$.\n",
        "\n",
        "* Use el método de Newton-Raphson (sin derivada) y el método de la secante para hallar el ángulo de desviación mínimo.\n",
        "\n",
        "\n",
        "### Parte B:\n",
        "* Determine el ángulo crítico $\\theta_c$ para el cual el rayo comienza a experimentar reflexión interna total en la segunda interfaz del prisma. Esta condición ocurre cuando:\n",
        "\n",
        "$$\\sin(A - \\theta_r) = \\frac{1}{n}$$\n",
        "\n",
        "* Resuelva numéricamente la ecuación anterior para encontrar el ángulo de incidencia $\\theta_i$ correspondiente a este ángulo crítico, utilizando el método de la bisección.\n",
        "\n",
        "\n",
        "\n"
      ],
      "metadata": {
        "id": "od2GDFK5-QJC"
      }
    },
    {
      "cell_type": "code",
      "source": [
        "def derivada(theta, A, n):\n",
        ""
      ],
      "metadata": {
        "id": "hkHRzyB9-mSS",
        "colab": {
          "base_uri": "https://localhost:8080/",
          "height": 106
        },
        "outputId": "ff1a435b-0148-4e54-c901-216a7e138bbf"
      },
      "execution_count": 9,
      "outputs": [
        {
          "output_type": "error",
          "ename": "SyntaxError",
          "evalue": "incomplete input (<ipython-input-9-9835724a200c>, line 2)",
          "traceback": [
            "\u001b[0;36m  File \u001b[0;32m\"<ipython-input-9-9835724a200c>\"\u001b[0;36m, line \u001b[0;32m2\u001b[0m\n\u001b[0;31m    \u001b[0m\n\u001b[0m    ^\u001b[0m\n\u001b[0;31mSyntaxError\u001b[0m\u001b[0;31m:\u001b[0m incomplete input\n"
          ]
        }
      ]
    },
    {
      "cell_type": "code",
      "source": [],
      "metadata": {
        "id": "BRugsAh7peEv"
      },
      "execution_count": null,
      "outputs": []
    }
  ]
}