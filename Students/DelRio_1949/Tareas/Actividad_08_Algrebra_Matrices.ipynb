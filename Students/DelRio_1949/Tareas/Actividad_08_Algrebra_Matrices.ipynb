{
  "nbformat": 4,
  "nbformat_minor": 0,
  "metadata": {
    "colab": {
      "provenance": []
    },
    "kernelspec": {
      "name": "python3",
      "display_name": "Python 3"
    },
    "language_info": {
      "name": "python"
    }
  },
  "cells": [
    {
      "cell_type": "code",
      "execution_count": 1,
      "metadata": {
        "id": "z7RCty67y3ME"
      },
      "outputs": [],
      "source": [
        "import numpy as np\n",
        "import matplotlib.pyplot as plt\n",
        "import scipy.linalg as la"
      ]
    },
    {
      "cell_type": "markdown",
      "source": [
        "# Actividad 08: Algebra Lineal y Matrices\n",
        "\n",
        "---\n",
        "### Profesor: Juan Marcos Marín\n",
        "### Nombre: Ana Sofia Del Rio\n",
        "*Métodos computacionales*\n",
        "\n",
        "---"
      ],
      "metadata": {
        "id": "GGQpGoujzAnQ"
      }
    },
    {
      "cell_type": "markdown",
      "source": [
        "#1\n",
        "Escriba tres matrices aleatorias $A$, $B$ y $C$ de $3\\times 3$, y demuestre las siguientes relaciones\n",
        "\n",
        "- $ \\mathbf{A}\\mathbf{B} \\neq \\mathbf{B}\\mathbf{A} $, en general.\n",
        "- $ (\\mathbf{A}\\mathbf{B})\\mathbf{C} = \\mathbf{A}(\\mathbf{B}\\mathbf{C}) $.\n",
        "- $ \\mathbf{A}(\\mathbf{B} + \\mathbf{C}) = \\mathbf{A}\\mathbf{B} + \\mathbf{A}\\mathbf{C} $.\n",
        "- $ (\\mathbf{A} + \\mathbf{B})\\mathbf{C} = \\mathbf{A}\\mathbf{C} + \\mathbf{B}\\mathbf{C} $.\n",
        "- $ (\\mathbf{A}\\mathbf{B})^\\top = \\mathbf{B}^\\top \\mathbf{A}^\\top $.\n",
        "- $ \\det(\\mathbf{A}\\mathbf{B}) = \\det(\\mathbf{A}) \\det(\\mathbf{B}) $.\n",
        "- $ (\\mathbf{A}^\\top)^\\top = \\mathbf{A} $.\n",
        "- $ (c\\mathbf{A})^\\top = c\\mathbf{A}^\\top $.\n",
        "- $ (\\mathbf{A} + \\mathbf{B})^\\top = \\mathbf{A}^\\top + \\mathbf{B}^\\top $.\n",
        "\n"
      ],
      "metadata": {
        "id": "U9hC1R-F0-iH"
      }
    },
    {
      "cell_type": "code",
      "source": [
        "np.random.seed(0)\n",
        "A = np.random.rand(3,3)\n",
        "B = np.random.rand(3,3)\n",
        "C = np.random.rand(3,3)\n",
        "c = np.random.rand()\n",
        "#Punto 1\n",
        "print('-AB≠BA')\n",
        "AB =np.dot(A,B)\n",
        "BA =np.dot(B,A)\n",
        "\n",
        "if np.isclose(AB,BA).all():\n",
        "  print('False')\n",
        "else:\n",
        "  print('True')\n",
        "\n",
        "#Punto 2\n",
        "print('-(AB)C = A(BC)')\n",
        "ABxC = np.dot(np.dot(A,B),C)\n",
        "AxBC = np.dot(A,np.dot(B,C))\n",
        "\n",
        "print(np.isclose(ABxC,AxBC).all())\n",
        "\n",
        "# Punto 3\n",
        "print('- A(B + C) = AB + AC')\n",
        "AxBplusC = np.dot(A, B + C)\n",
        "AxBplusAxC = np.dot(A, B) + np.dot(A, C)\n",
        "print(np.isclose(AxBplusC , AxBplusAxC).all())\n",
        "\n",
        "# Punto 4\n",
        "print('- (A + B)C = AC + BC')\n",
        "AplusBxC = np.dot(A + B, C)\n",
        "AxCplusBxC = np.dot(A, C) + np.dot(B, C)\n",
        "print(np.isclose(AplusBxC, AxCplusBxC).all())\n",
        "\n",
        "# Punto 5\n",
        "print('- (AB)^T = B^T A^T')\n",
        "AB_T = np.transpose(np.dot(A, B))\n",
        "B_TxA_T = np.dot(np.transpose(B), np.transpose(A))\n",
        "print(np.isclose(AB_T, B_TxA_T).all())\n",
        "\n",
        "# Punto 6\n",
        "print('- det(AB) = det(A) * det(B)')\n",
        "det_AB = np.linalg.det(np.dot(A, B))\n",
        "det_A_x_det_B = np.linalg.det(A) * np.linalg.det(B)\n",
        "print(np.isclose(det_AB, det_A_x_det_B))\n",
        "\n",
        "# Punto 7\n",
        "print('- (A^T)^T = A')\n",
        "print(np.isclose(np.transpose(np.transpose(A)), A).all())\n",
        "\n",
        "# Punto 8\n",
        "print('- (cA)^T = cA^T')\n",
        "cA_T = np.transpose(c * A)\n",
        "c_AT = c * np.transpose(A)\n",
        "print(np.isclose(cA_T, c_AT).all())\n",
        "\n",
        "# Punto 9\n",
        "print('- (A + B)^T = A^T + B^T')\n",
        "AplusB_T = np.transpose(A + B)\n",
        "AT_plus_BT = np.transpose(A) + np.transpose(B)\n",
        "print(np.isclose(AplusB_T, AT_plus_BT).all())"
      ],
      "metadata": {
        "id": "cQQ6cPGW1anK",
        "colab": {
          "base_uri": "https://localhost:8080/"
        },
        "outputId": "317a7df9-fe2c-4a11-8e39-1cef208725d8"
      },
      "execution_count": 2,
      "outputs": [
        {
          "output_type": "stream",
          "name": "stdout",
          "text": [
            "-AB≠BA\n",
            "True\n",
            "-(AB)C = A(BC)\n",
            "True\n",
            "- A(B + C) = AB + AC\n",
            "True\n",
            "- (A + B)C = AC + BC\n",
            "True\n",
            "- (AB)^T = B^T A^T\n",
            "True\n",
            "- det(AB) = det(A) * det(B)\n",
            "True\n",
            "- (A^T)^T = A\n",
            "True\n",
            "- (cA)^T = cA^T\n",
            "True\n",
            "- (A + B)^T = A^T + B^T\n",
            "True\n"
          ]
        }
      ]
    },
    {
      "cell_type": "markdown",
      "source": [
        "#2\n",
        "\n",
        "El **Teorema de Laplace** es un método para calcular el determinante de una matriz cuadrada, particularmente útil para matrices de orden mayor a 2. Este teorema se basa en la expansión del determinante por los elementos de una fila o una columna cualquiera.\n",
        "\n",
        "\n",
        "\n",
        "$$\n",
        "\\det(A) = \\sum_{j=1}^n (-1)^{1+j} a_{1j} M_{1j}\n",
        "$$\n",
        "\n",
        "donde:\n",
        "- $a_{1j}$ es el elemento de la primera fila y columna $j$.\n",
        "- $M_{1j}$ es el menor asociado al elemento $a_{1j}$, es decir, el determinante de la submatriz de $3 \\times 3$ que se obtiene al eliminar la fila 1 y la columna $j$.\n",
        "- $(-1)^{1+j}$ es el signo correspondiente al cofactor del elemento $a_{1j}$.\n",
        "\n",
        "Podemos realizar una función recursiva para el cálculo del determinante, sabiendo que el valor del determinante de una matriz de orden uno es el único elemento de esa matriz, y el de una matriz de orden superior a uno es la suma de cada uno de los elementos de una fila o columna por los Adjuntos a ese elemento, como en la función recursiva se emplea la misma función definida el cálculo lo haremos por Menor complementario, un ejemplo desarrollado por la primera fila sería:\n",
        "\n",
        "$$\n",
        "   \\det (A_{j,j}) =\n",
        "   \\left \\{\n",
        "   \\begin{array}{llcl}\n",
        "      si & j = 1 & \\to & a_{1,1} \\\\\n",
        "                                 \\\\\n",
        "      si & j > 1 & \\to & \\displaystyle \\sum_{k=1}^j \\; (-1)^{(1+k)} \\cdot a_{1,k} \\cdot \\det( \\alpha_{1,k})\n",
        "   \\end{array}\n",
        "   \\right .\n",
        "$$\n",
        "\n",
        "Realice una función que encuentre el determinante de una matriz usando la recursividad aqui planteada, explique explicitamente su código"
      ],
      "metadata": {
        "id": "ibYf2I9T2pIw"
      }
    },
    {
      "cell_type": "code",
      "source": [
        "def det(A):\n",
        "    n = A.shape[0]\n",
        "    #Si A es una matriz 1x1\n",
        "    if n == 1:\n",
        "        return A[0, 0]\n",
        "    #Si A es 2x2\n",
        "    if n == 2:\n",
        "        return A[0,0]*A[1,1] - A[0,1]*A[1,0]\n",
        "\n",
        "    determinante = 0\n",
        "    for j in range(n):\n",
        "        #Creamos otra matriz menor (eliminando fila 0 y columna j)\n",
        "        B= np.delete(np.delete(A, 0, axis=0), j, axis=1)\n",
        "        cofactor = (-1) ** (1 + (j + 1))  #porque filas y columnas comienzan desde 1\n",
        "        determinante += cofactor * A[0, j] * det(B)\n",
        "    return determinante\n",
        "\n",
        "\n",
        "np.random.seed(0)\n",
        "M = np.random.rand(3, 3)\n",
        "print('Matriz:')\n",
        "print(M)\n",
        "\n",
        "print(f'Determinante por Laplace:, {det(M)}')\n",
        "print(f'Determinante con numpy:, {(np.linalg.det(M))}')"
      ],
      "metadata": {
        "id": "-8tYERLHtrtY",
        "colab": {
          "base_uri": "https://localhost:8080/"
        },
        "outputId": "f8055c67-3f35-45b6-b003-b9e997ce9f8d"
      },
      "execution_count": 3,
      "outputs": [
        {
          "output_type": "stream",
          "name": "stdout",
          "text": [
            "Matriz:\n",
            "[[0.5488135  0.71518937 0.60276338]\n",
            " [0.54488318 0.4236548  0.64589411]\n",
            " [0.43758721 0.891773   0.96366276]]\n",
            "Determinante por Laplace:, -0.08430330697685007\n",
            "Determinante con numpy:, -0.08430330697685008\n"
          ]
        }
      ]
    },
    {
      "cell_type": "markdown",
      "source": [
        "#3 Método de Gauss - Seidel\n",
        "\n",
        "Sea \\$A\\in\\mathbb{R}^{n\\times n}\\$ no singular y sea \\$b\\in\\mathbb{R}^n\\$.\n",
        "Descomponga \\$A\\$ como\n",
        "\n",
        "$$\n",
        "A \\;=\\; D \\;+\\; L \\;+\\; U,\n",
        "$$\n",
        "\n",
        "donde\n",
        "\n",
        "* \\$D\\$ es la matriz diagonal de \\$A\\$,\n",
        "* \\$L\\$ es la parte estrictamente triangular inferior,\n",
        "* \\$U\\$ es la parte estrictamente triangular superior.\n",
        "\n",
        "El algoritmo de Gauss - Seidel reorganiza el sistema \\$Ax=b\\$ como\n",
        "\n",
        "$$\n",
        "x \\;=\\; (D+L)^{-1}\\bigl(b \\;-\\; Ux\\bigr),\n",
        "$$\n",
        "\n",
        "y genera la sucesión\n",
        "\n",
        "$$\n",
        "x_i^{(k+1)}\n",
        "= \\frac{1}{a_{ii}}\n",
        "\\Bigl(b_i - \\sum_{j<i} a_{ij}\\,x_j^{(k+1)} - \\sum_{j>i} a_{ij}\\,x_j^{(k)}\\Bigr),\n",
        "\\qquad i=1,\\dots,n.\n",
        "$$\n",
        "\n",
        "Implemente una función `gauss_seidel(A, b, tol=1e-7, max_iter=100)` que:\n",
        "   * Realice las iteraciones hasta que\n",
        "     $\\lVert x^{(k+1)}-x^{(k)}\\rVert_\\infty<\\text{tol}$\n",
        "     o se alcance `max_iter`;\n",
        "   * devuelva el vector solución aproximado \\$x\\$, el número de iteraciones realizadas y la norma del último residuo.\n",
        "\n",
        "Incluya una documentación clara.\n",
        "\n",
        "Luego,\n",
        "\n",
        "   * Genere una matriz aleatoria \\$5\\times5\\$ (por ejemplo, con `np.random.rand`) y un vector \\$b\\$ aleatorio.\n",
        "   * Resuelva \\$Ax=b\\$ con su función; calcule el error relativo frente a `numpy.linalg.solve`.\n",
        "   * Estime igualmente el error respecto a la solución obtenida mediante \\$x=A^{-1}b\\$ (usando `numpy.linalg.inv`).\n",
        "   * Presente las normas de los residuos y los errores relativos."
      ],
      "metadata": {
        "id": "fTSweDGhnAUN"
      }
    },
    {
      "cell_type": "code",
      "source": [
        "def Gauss_Seidel(A, b, tol=1e-7, max_iter=100):\n",
        "    \"\"\"\n",
        "    Resuelve el sistema lineal Ax = b usando el método iterativo de Gauss-Seidel.\n",
        "\n",
        "    Parámetros:\n",
        "    A : ndarray (n x n)\n",
        "        Matriz de coeficientes.\n",
        "    b : ndarray (n)\n",
        "        Vector de términos independientes.\n",
        "    tol : float\n",
        "        Tolerancia para la convergencia (norma infinito del cambio en x).\n",
        "    max_iter : int\n",
        "        Número máximo de iteraciones permitidas.\n",
        "\n",
        "    Retorna:\n",
        "    x : ndarray\n",
        "        Aproximación del vector solución.\n",
        "    iter_count : int\n",
        "        Número de iteraciones realizadas.\n",
        "    residuo_norm : float\n",
        "        Norma infinito del último residuo\n",
        "    \"\"\"\n",
        "    n = len(b)\n",
        "    x = np.zeros_like(b, dtype=float)\n",
        "    iter_count = 0\n",
        "\n",
        "    for _ in range(max_iter):\n",
        "        x_old = np.copy(x)\n",
        "\n",
        "        for i in range(n):\n",
        "            suma1 = sum(A[i, j] * x[j] for j in range(i))       #Usa valores actualizados\n",
        "            suma2 = sum(A[i, j] * x_old[j] for j in range(i + 1, n))  #Usa valores antiguos\n",
        "            x[i] = (b[i] - suma1 - suma2) / A[i, i]\n",
        "\n",
        "        # Verificamos convergencia con norma infinito\n",
        "        error = np.linalg.norm(x - x_old, ord=np.inf)\n",
        "        if error < tol:\n",
        "            break\n",
        "        iter_count += 1\n",
        "\n",
        "    residuo = b - A @ x\n",
        "    residuo_norm = np.linalg.norm(residuo, ord=np.inf)\n",
        "\n",
        "    return x, iter_count + 1, residuo_norm"
      ],
      "metadata": {
        "id": "QsjZvjCHCmMO"
      },
      "execution_count": 4,
      "outputs": []
    },
    {
      "cell_type": "code",
      "source": [
        "np.random.seed(0)\n",
        "A = np.random.rand(5, 5)\n",
        "b = np.random.rand(5)\n",
        "#Solución con la función de Gauss-Seidel\n",
        "x, iter_count, residuo_norm = Gauss_Seidel(A, b)\n",
        "#Solución con numpy.linalg.solve\n",
        "x_solve = np.linalg.solve(A, b)\n",
        "#Solución con la inversa\n",
        "x_inv = np.linalg.inv(A) @ b\n",
        "#Errores relativos\n",
        "error_relativo_solve = np.linalg.norm(x - x_solve, ord=np.inf) / np.linalg.norm(x_solve, ord=np.inf)\n",
        "error_relativo_inv = np.linalg.norm(x - x_inv, ord=np.inf) / np.linalg.norm(x_inv, ord=np.inf)\n",
        "#Residuo de la solución con solve y con inversa\n",
        "residuo_solve = b - A @ x_solve\n",
        "residuo_inv = b - A @ x_inv\n",
        "residuo_norm_solve = np.linalg.norm(residuo_solve, ord=np.inf)\n",
        "residuo_norm_inv = np.linalg.norm(residuo_inv, ord=np.inf)\n",
        "#Resultados\n",
        "print(f'-Error relativo con solve: {error_relativo_solve}')\n",
        "print(f'-Error relativo con inversa: {error_relativo_inv}')\n",
        "print(f'-Norma del residuo con solve: {residuo_norm_solve}')\n",
        "print(f'-Norma del residuo con inversa: {residuo_norm_inv}')"
      ],
      "metadata": {
        "colab": {
          "base_uri": "https://localhost:8080/"
        },
        "id": "bf9jkY6QDWVW",
        "outputId": "6f4c4076-fdff-4a2a-a7be-d17c487f77ed"
      },
      "execution_count": 5,
      "outputs": [
        {
          "output_type": "stream",
          "name": "stdout",
          "text": [
            "-Error relativo con solve: 7.263635606562689e+108\n",
            "-Error relativo con inversa: 7.263635606562685e+108\n",
            "-Norma del residuo con solve: 1.915134717478395e-15\n",
            "-Norma del residuo con inversa: 1.6653345369377348e-15\n"
          ]
        }
      ]
    },
    {
      "cell_type": "markdown",
      "source": [
        "#4 Método de potencias para el valor propio dominante\n",
        "\n",
        "Sea \\$A\\in\\mathbb{R}^{n\\times n}\\$ diagonalizable con valor propio dominante \\$\\lambda\\_{\\max}\\$ (en magnitud) y vector propio asociado \\$v\\_{\\max}\\$.\n",
        "\n",
        "El método de potencias genera, a partir de un vector inicial \\$q^{(0)}\\neq 0\\$, la sucesión\n",
        "\n",
        "$$\n",
        "q^{(k+1)} \\;=\\; \\frac{A\\,q^{(k)}}{\\lVert A\\,q^{(k)}\\rVert_2},\n",
        "\\qquad\n",
        "\\lambda^{(k+1)} \\;=\\; (q^{(k+1)})^{\\!\\top} A\\, q^{(k+1)},\n",
        "$$\n",
        "\n",
        "que converge a \\$v\\_{\\max}/\\lVert v\\_{\\max}\\rVert\\_2\\$ y a \\$\\lambda\\_{\\max}\\$ respectivamente, bajo hipótesis estándar.\n",
        "\n",
        "Implemente `power_method(A, tol=1e-7, max_iter=1000)` que:\n",
        "\n",
        "   * Acepte matrices reales cuadradas,\n",
        "   * Devuelva \\$\\lambda\\_{\\max}\\$, el vector propio normalizado \\$v\\_{\\max}\\$, el número de iteraciones y la última variación relativa de \\$\\lambda\\$,\n",
        "   * detenga la iteración cuando\n",
        "     $\\bigl|\\lambda^{(k+1)}-\\lambda^{(k)}\\bigr|<\\text{tol}\\,|\\lambda^{(k+1)}|$\n",
        "     o se alcance `max_iter`.\n",
        "\n",
        "Luego,\n",
        "   * Genere una matriz simétrica aleatoria \\$6\\times6\\$ (por ejemplo, \\$A = (M+M^\\top)/2\\$ con \\$M\\$ aleatoria).\n",
        "   * Aplique su `power_method` y compare \\$\\lambda\\_{\\max}\\$ y \\$v\\_{\\max}\\$ con los resultados de `numpy.linalg.eig`."
      ],
      "metadata": {
        "id": "REVJcqYtnmM-"
      }
    },
    {
      "cell_type": "code",
      "source": [
        "def power_method(A, tol=1e-7, max_iter=1000):\n",
        "    #Verificar que la matriz sea cuadrada\n",
        "    n, m = A.shape\n",
        "    if n != m:\n",
        "        raise ValueError('La matriz no es cuadrada')\n",
        "    q = np.random.rand(n) #Vector inicial aleatorio\n",
        "    q = q / np.linalg.norm(q)\n",
        "\n",
        "    lambda_ = 0\n",
        "    for i in range(max_iter):\n",
        "        z = A @ q #Multiplicamos por A\n",
        "        q = z / np.linalg.norm(z) #Normalizamos\n",
        "        lambda_nuevo = q.T @ A @ q #Calculamos el nuevo valor de lambda\n",
        "        v_relativa = abs(lambda_nuevo - lambda_)\n",
        "        if v_relativa < tol:\n",
        "            return lambda_nuevo, q, i+1, v_relativa\n",
        "\n",
        "        lambda_ = lambda_nuevo\n",
        "\n",
        "    return lambda_nuevo, q, max_iter, v_relativa\n",
        "\n",
        "#Generamps una matriz simétrica aleatoria 6x6\n",
        "np.random.seed(42)\n",
        "M = np.random.rand(6, 6)\n",
        "A = (M + M.T) / 2\n",
        "\n",
        "#Aplicar método de potencias\n",
        "lambda_1, v1, i, v_r = power_method(A)\n",
        "print('Método de potencias:')\n",
        "print(f'λ_max ≈ {lambda_1}')\n",
        "print(f'v_max ≈ {v1}')\n",
        "print(f'Iteraciones: {i}')\n",
        "print(f'Variación final: {v_r}')\n",
        "\n",
        "#Comparar con numpy.linalg.eig\n",
        "lambda_2, v2 = np.linalg.eig(A)\n",
        "idx_max = np.argmax(lambda_2)\n",
        "print('Con Numpy:')\n",
        "print(f'λ_max exacto: {lambda_2[idx_max]}')\n",
        "print(f'v_max exacto: {v2[:, idx_max]}')\n"
      ],
      "metadata": {
        "id": "lPzFAOE7obZY",
        "colab": {
          "base_uri": "https://localhost:8080/"
        },
        "outputId": "6574b401-3ae5-4946-d688-43a05345cd68"
      },
      "execution_count": 12,
      "outputs": [
        {
          "output_type": "stream",
          "name": "stdout",
          "text": [
            "Método de potencias:\n",
            "λ_max ≈ 2.835152533482731\n",
            "v_max ≈ [0.40258952 0.47908181 0.33574933 0.38350287 0.3542382  0.47235107]\n",
            "Iteraciones: 6\n",
            "Variación final: 2.2363044305251378e-08\n",
            "Con Numpy:\n",
            "λ_max exacto: 2.835152534247637\n",
            "v_max exacto: [-0.40259498 -0.4790814  -0.3357358  -0.38350111 -0.3542414  -0.47235548]\n"
          ]
        }
      ]
    },
    {
      "cell_type": "markdown",
      "source": [
        "#5\n",
        "\n",
        "Verifique que cualquier matriz hermitiana de 2 × 2 $ L $ puede escribirse como una suma de cuatro términos:\n",
        "\n",
        "$$ L = a\\sigma_x + b\\sigma_y + c\\sigma_z + dI $$\n",
        "\n",
        "donde $ a $, $ b $, $ c $ y $ d $ son números reales.\n",
        "\n",
        "Las cuatro matrices de Pauli son:\n",
        "\n",
        "$$ \\sigma_x = \\begin{pmatrix} 0 & 1 \\\\ 1 & 0 \\end{pmatrix}, \\quad \\sigma_y = \\begin{pmatrix} 0 & -i \\\\ i & 0 \\end{pmatrix}, \\quad \\sigma_z = \\begin{pmatrix} 1 & 0 \\\\ 0 & -1 \\end{pmatrix}, \\quad I = \\begin{pmatrix} 1 & 0 \\\\ 0 & 1 \\end{pmatrix} $$\n",
        "\n",
        "\n"
      ],
      "metadata": {
        "id": "iggu2jNwVpnK"
      }
    },
    {
      "cell_type": "code",
      "source": [
        "#Matrices de Pauli\n",
        "sigma_x = np.array([[0, 1], [1, 0]], dtype=complex)\n",
        "sigma_y = np.array([[0, -1j], [1j, 0]], dtype=complex)\n",
        "sigma_z = np.array([[1, 0], [0, -1]], dtype=complex)\n",
        "I = np.eye(2, dtype=complex)\n",
        "\n",
        "#Generamos una matriz Hermitiana aleatoria\n",
        "np.random.seed(0)\n",
        "L = np.random.rand(2, 2) + 1j * np.random.rand(2, 2)\n",
        "L = (L + L.conj().T) / 2\n",
        "\n",
        "a = np.trace(L @ sigma_x) / 2\n",
        "b = np.trace(L @ sigma_y) / 2\n",
        "c = np.trace(L @ sigma_z) / 2\n",
        "d = np.trace(L @ I) / 2\n",
        "\n",
        "L_ = a * sigma_x + b * sigma_y + c * sigma_z + d * I\n",
        "\n",
        "#Verificamos si son iguales\n",
        "print( np.allclose(L, L_))\n",
        "\n"
      ],
      "metadata": {
        "id": "8WN9_cOCV7cM",
        "colab": {
          "base_uri": "https://localhost:8080/"
        },
        "outputId": "2b470e07-54cc-40be-e6ec-400f0811b856"
      },
      "execution_count": 15,
      "outputs": [
        {
          "output_type": "stream",
          "name": "stdout",
          "text": [
            "True\n"
          ]
        }
      ]
    },
    {
      "cell_type": "markdown",
      "source": [
        "# 6\n",
        "\n",
        "Haga un breve resumen en Markdown de las funciones y métodos más relevantes para algebra lineal usando Python. Emplee ejemplos."
      ],
      "metadata": {
        "id": "GnCw5_O5pMxl"
      }
    },
    {
      "cell_type": "markdown",
      "source": [
        "* Creacion y manipulación de matrices, operaciones entre ellas, determinantes,inversas, etc.\n",
        "(Como en el primer punto)\n",
        "\n",
        "* Resolver sistemas de ecuaciones Gauss, Gauss-Jordan y numpy:\n",
        "\n",
        "x = np.linalg.solve(A, b)\n",
        "\n",
        "* Métodos iterativos:\n",
        "\n",
        "Jacobi: actualiza todas las variables usando valores de la iteración anterior.\n",
        "\n",
        "Gauss–Seidel: usa valores recién calculados en la misma iteración.\n",
        "\n",
        "* Operaciones con números complejos\n",
        "\n",
        "B = np.array([[1+2j, 3], [4, 5-1j]])\n",
        "np.linalg.inv(B)\n",
        "\n",
        "* Valores y vectores propios\n",
        "\n",
        "valores, vectores = np.linalg.eig(A)"
      ],
      "metadata": {
        "id": "IzoLy2lvHKaQ"
      }
    },
    {
      "cell_type": "code",
      "source": [],
      "metadata": {
        "id": "KGPK-f_sKOQV"
      },
      "execution_count": null,
      "outputs": []
    }
  ]
}