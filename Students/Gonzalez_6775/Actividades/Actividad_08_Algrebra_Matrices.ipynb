{
  "nbformat": 4,
  "nbformat_minor": 0,
  "metadata": {
    "colab": {
      "provenance": []
    },
    "kernelspec": {
      "name": "python3",
      "display_name": "Python 3"
    },
    "language_info": {
      "name": "python"
    }
  },
  "cells": [
    {
      "cell_type": "code",
      "execution_count": null,
      "metadata": {
        "id": "z7RCty67y3ME"
      },
      "outputs": [],
      "source": [
        "import numpy as np\n",
        "import matplotlib.pyplot as plt\n",
        "import scipy.linalg as la"
      ]
    },
    {
      "cell_type": "markdown",
      "source": [
        "# Actividad 08: Algebra Lineal y Matrices\n",
        "\n",
        "---\n",
        "### Profesor: Juan Marcos Marín\n",
        "### Nombre: kevin velasquez gonzalez\n",
        "*Métodos computacionales*\n",
        "\n",
        "---"
      ],
      "metadata": {
        "id": "GGQpGoujzAnQ"
      }
    },
    {
      "cell_type": "markdown",
      "source": [
        "#1\n",
        "Escriba tres matrices aleatorias $A$, $B$ y $C$ de $3\\times 3$, y demuestre las siguientes relaciones\n",
        "\n",
        "- $ \\mathbf{A}\\mathbf{B} \\neq \\mathbf{B}\\mathbf{A} $, en general.\n",
        "- $ (\\mathbf{A}\\mathbf{B})\\mathbf{C} = \\mathbf{A}(\\mathbf{B}\\mathbf{C}) $.\n",
        "- $ \\mathbf{A}(\\mathbf{B} + \\mathbf{C}) = \\mathbf{A}\\mathbf{B} + \\mathbf{A}\\mathbf{C} $.\n",
        "- $ (\\mathbf{A} + \\mathbf{B})\\mathbf{C} = \\mathbf{A}\\mathbf{C} + \\mathbf{B}\\mathbf{C} $.\n",
        "- $ (\\mathbf{A}\\mathbf{B})^\\top = \\mathbf{B}^\\top \\mathbf{A}^\\top $.\n",
        "- $ \\det(\\mathbf{A}\\mathbf{B}) = \\det(\\mathbf{A}) \\det(\\mathbf{B}) $.\n",
        "- $ (\\mathbf{A}^\\top)^\\top = \\mathbf{A} $.\n",
        "- $ (c\\mathbf{A})^\\top = c\\mathbf{A}^\\top $.\n",
        "- $ (\\mathbf{A} + \\mathbf{B})^\\top = \\mathbf{A}^\\top + \\mathbf{B}^\\top $.\n",
        "\n"
      ],
      "metadata": {
        "id": "U9hC1R-F0-iH"
      }
    },
    {
      "cell_type": "code",
      "source": [
        "import numpy as np\n",
        "\n",
        "# Crear tres matrices aleatorias 3x3\n",
        "A = np.random.randint(1, 10, (3, 3))\n",
        "B = np.random.randint(1, 10, (3, 3))\n",
        "C = np.random.randint(1, 10, (3, 3))\n",
        "\n",
        "print(\"Matriz A:\\n\", A)\n",
        "print(\"Matriz B:\\n\", B)\n",
        "print(\"Matriz C:\\n\", C)\n",
        "\n",
        "# 1. AB != BA en general\n",
        "print(\"\\nAB:\\n\", np.dot(A, B))\n",
        "print(\"BA:\\n\", np.dot(B, A))\n",
        "\n",
        "# 2. (AB)C = A(BC)\n",
        "print(\"\\n(AB)C:\\n\", np.dot(np.dot(A, B), C))\n",
        "print(\"A(BC):\\n\", np.dot(A, np.dot(B, C)))\n",
        "\n",
        "# 3. A(B + C) = AB + AC\n",
        "print(\"\\nA(B + C):\\n\", np.dot(A, (B + C)))\n",
        "print(\"AB + AC:\\n\", np.dot(A, B) + np.dot(A, C))\n",
        "\n",
        "# 4. (A + B)C = AC + BC\n",
        "print(\"\\n(A + B)C:\\n\", np.dot((A + B), C))\n",
        "print(\"AC + BC:\\n\", np.dot(A, C) + np.dot(B, C))\n",
        "\n",
        "# 5. (AB)^T = B^T A^T\n",
        "print(\"\\n(AB)^T:\\n\", np.transpose(np.dot(A, B)))\n",
        "print(\"B^T A^T:\\n\", np.dot(np.transpose(B), np.transpose(A)))\n",
        "\n",
        "# 6. det(AB) = det(A) * det(B)\n",
        "print(\"\\ndet(AB):\", np.linalg.det(np.dot(A, B)))\n",
        "print(\"det(A)*det(B):\", np.linalg.det(A) * np.linalg.det(B))\n",
        "\n",
        "# 7. (A^T)^T = A\n",
        "print(\"\\n(A^T)^T:\\n\", np.transpose(np.transpose(A)))\n",
        "print(\"A:\\n\", A)\n",
        "\n",
        "# 8. (cA)^T = cA^T\n",
        "c = 3\n",
        "print(f\"\\n({c}A)^T:\\n\", np.transpose(c * A))\n",
        "print(f\"{c}A^T:\\n\", c * np.transpose(A))\n",
        "\n",
        "# 9. (A + B)^T = A^T + B^T\n",
        "print(\"\\n(A + B)^T:\\n\", np.transpose(A + B))\n",
        "print(\"A^T + B^T:\\n\", np.transpose(A) + np.transpose(B))"
      ],
      "metadata": {
        "id": "cQQ6cPGW1anK",
        "colab": {
          "base_uri": "https://localhost:8080/"
        },
        "outputId": "c1db57ae-029d-4825-f553-d2acca7799cb"
      },
      "execution_count": 1,
      "outputs": [
        {
          "output_type": "stream",
          "name": "stdout",
          "text": [
            "Matriz A:\n",
            " [[4 7 9]\n",
            " [9 3 9]\n",
            " [3 7 5]]\n",
            "Matriz B:\n",
            " [[3 6 9]\n",
            " [3 6 3]\n",
            " [5 7 6]]\n",
            "Matriz C:\n",
            " [[7 1 9]\n",
            " [2 2 2]\n",
            " [8 4 7]]\n",
            "\n",
            "AB:\n",
            " [[ 78 129 111]\n",
            " [ 81 135 144]\n",
            " [ 55  95  78]]\n",
            "BA:\n",
            " [[ 93 102 126]\n",
            " [ 75  60  96]\n",
            " [101  98 138]]\n",
            "\n",
            "(AB)C:\n",
            " [[1692  780 1737]\n",
            " [1989  927 2007]\n",
            " [1199  557 1231]]\n",
            "A(BC):\n",
            " [[1692  780 1737]\n",
            " [1989  927 2007]\n",
            " [1199  557 1231]]\n",
            "\n",
            "A(B + C):\n",
            " [[192 183 224]\n",
            " [222 186 294]\n",
            " [130 132 154]]\n",
            "AB + AC:\n",
            " [[192 183 224]\n",
            " [222 186 294]\n",
            " [130 132 154]]\n",
            "\n",
            "(A + B)C:\n",
            " [[219 105 215]\n",
            " [198  78 210]\n",
            " [172  80 177]]\n",
            "AC + BC:\n",
            " [[219 105 215]\n",
            " [198  78 210]\n",
            " [172  80 177]]\n",
            "\n",
            "(AB)^T:\n",
            " [[ 78  81  55]\n",
            " [129 135  95]\n",
            " [111 144  78]]\n",
            "B^T A^T:\n",
            " [[ 78  81  55]\n",
            " [129 135  95]\n",
            " [111 144  78]]\n",
            "\n",
            "det(AB): -9072.000000000016\n",
            "det(A)*det(B): -9071.99999999999\n",
            "\n",
            "(A^T)^T:\n",
            " [[4 7 9]\n",
            " [9 3 9]\n",
            " [3 7 5]]\n",
            "A:\n",
            " [[4 7 9]\n",
            " [9 3 9]\n",
            " [3 7 5]]\n",
            "\n",
            "(3A)^T:\n",
            " [[12 27  9]\n",
            " [21  9 21]\n",
            " [27 27 15]]\n",
            "3A^T:\n",
            " [[12 27  9]\n",
            " [21  9 21]\n",
            " [27 27 15]]\n",
            "\n",
            "(A + B)^T:\n",
            " [[ 7 12  8]\n",
            " [13  9 14]\n",
            " [18 12 11]]\n",
            "A^T + B^T:\n",
            " [[ 7 12  8]\n",
            " [13  9 14]\n",
            " [18 12 11]]\n"
          ]
        }
      ]
    },
    {
      "cell_type": "markdown",
      "source": [
        "#2\n",
        "\n",
        "El **Teorema de Laplace** es un método para calcular el determinante de una matriz cuadrada, particularmente útil para matrices de orden mayor a 2. Este teorema se basa en la expansión del determinante por los elementos de una fila o una columna cualquiera.\n",
        "\n",
        "\n",
        "\n",
        "$$\n",
        "\\det(A) = \\sum_{j=1}^n (-1)^{1+j} a_{1j} M_{1j}\n",
        "$$\n",
        "\n",
        "donde:\n",
        "- $a_{1j}$ es el elemento de la primera fila y columna $j$.\n",
        "- $M_{1j}$ es el menor asociado al elemento $a_{1j}$, es decir, el determinante de la submatriz de $3 \\times 3$ que se obtiene al eliminar la fila 1 y la columna $j$.\n",
        "- $(-1)^{1+j}$ es el signo correspondiente al cofactor del elemento $a_{1j}$.\n",
        "\n",
        "Podemos realizar una función recursiva para el cálculo del determinante, sabiendo que el valor del determinante de una matriz de orden uno es el único elemento de esa matriz, y el de una matriz de orden superior a uno es la suma de cada uno de los elementos de una fila o columna por los Adjuntos a ese elemento, como en la función recursiva se emplea la misma función definida el cálculo lo haremos por Menor complementario, un ejemplo desarrollado por la primera fila sería:\n",
        "\n",
        "$$\n",
        "   \\det (A_{j,j}) =\n",
        "   \\left \\{\n",
        "   \\begin{array}{llcl}\n",
        "      si & j = 1 & \\to & a_{1,1} \\\\\n",
        "                                 \\\\\n",
        "      si & j > 1 & \\to & \\displaystyle \\sum_{k=1}^j \\; (-1)^{(1+k)} \\cdot a_{1,k} \\cdot \\det( \\alpha_{1,k})\n",
        "   \\end{array}\n",
        "   \\right .\n",
        "$$\n",
        "\n",
        "Realice una función que encuentre el determinante de una matriz usando la recursividad aqui planteada, explique explicitamente su código"
      ],
      "metadata": {
        "id": "ibYf2I9T2pIw"
      }
    },
    {
      "cell_type": "code",
      "source": [
        "def determinante(matriz):\n",
        "  \"\"\"\n",
        "  divide la matriz en matrices más pequeñas, calcula sus determinantes y los combina siguiendo la fórmula de Laplace.\n",
        "  \"\"\"\n",
        "  if len(matriz) == 1: # Si es 1x1, el determinante es el único elemento\n",
        "        return matriz[0][0]\n",
        "  if len(matriz) == 2:  # Si es 2x2, aplicar la fórmula directa\n",
        "        return matriz[0][0] * matriz[1][1] - matriz[0][1] * matriz[1][0]\n",
        "\n",
        "  det = 0\n",
        "  for j in range(len(matriz)):\n",
        "        submatriz = [fila[:j] + fila[j+1:] for fila in matriz[1:]] # Crear submatriz quitando la fila 0 y columna j\n",
        "        det += ((-1) ** j) * matriz[0][j] * determinante(submatriz)\n",
        "  return det\n",
        "\n",
        "#Ejemplo\n",
        "matriz = [\n",
        "    [2, 3, 1],\n",
        "    [4, 1, 5],\n",
        "    [7, 2, 6]\n",
        "]\n",
        "\n",
        "print(\"Matriz:\")\n",
        "for fila in matriz:\n",
        "    print(fila)\n",
        "\n",
        "print(\"Determinante:\", determinante(matriz))"
      ],
      "metadata": {
        "id": "-8tYERLHtrtY",
        "colab": {
          "base_uri": "https://localhost:8080/"
        },
        "outputId": "42fcca39-0ed2-4aeb-9cdb-023981a172ab"
      },
      "execution_count": 4,
      "outputs": [
        {
          "output_type": "stream",
          "name": "stdout",
          "text": [
            "Matriz:\n",
            "[2, 3, 1]\n",
            "[4, 1, 5]\n",
            "[7, 2, 6]\n",
            "Determinante: 26\n"
          ]
        }
      ]
    },
    {
      "cell_type": "markdown",
      "source": [
        "#3 Método de Gauss - Seidel\n",
        "\n",
        "Sea \\$A\\in\\mathbb{R}^{n\\times n}\\$ no singular y sea \\$b\\in\\mathbb{R}^n\\$.\n",
        "Descomponga \\$A\\$ como\n",
        "\n",
        "$$\n",
        "A \\;=\\; D \\;+\\; L \\;+\\; U,\n",
        "$$\n",
        "\n",
        "donde\n",
        "\n",
        "* \\$D\\$ es la matriz diagonal de \\$A\\$,\n",
        "* \\$L\\$ es la parte estrictamente triangular inferior,\n",
        "* \\$U\\$ es la parte estrictamente triangular superior.\n",
        "\n",
        "El algoritmo de Gauss - Seidel reorganiza el sistema \\$Ax=b\\$ como\n",
        "\n",
        "$$\n",
        "x \\;=\\; (D+L)^{-1}\\bigl(b \\;-\\; Ux\\bigr),\n",
        "$$\n",
        "\n",
        "y genera la sucesión\n",
        "\n",
        "$$\n",
        "x_i^{(k+1)}\n",
        "= \\frac{1}{a_{ii}}\n",
        "\\Bigl(b_i - \\sum_{j<i} a_{ij}\\,x_j^{(k+1)} - \\sum_{j>i} a_{ij}\\,x_j^{(k)}\\Bigr),\n",
        "\\qquad i=1,\\dots,n.\n",
        "$$\n",
        "\n",
        "Implemente una función `gauss_seidel(A, b, tol=1e-7, max_iter=100)` que:\n",
        "   * Realice las iteraciones hasta que\n",
        "     $\\lVert x^{(k+1)}-x^{(k)}\\rVert_\\infty<\\text{tol}$\n",
        "     o se alcance `max_iter`;\n",
        "   * devuelva el vector solución aproximado \\$x\\$, el número de iteraciones realizadas y la norma del último residuo.\n",
        "\n",
        "Incluya una documentación clara.\n",
        "\n",
        "Luego,\n",
        "\n",
        "   * Genere una matriz aleatoria \\$5\\times5\\$ (por ejemplo, con `np.random.rand`) y un vector \\$b\\$ aleatorio.\n",
        "   * Resuelva \\$Ax=b\\$ con su función; calcule el error relativo frente a `numpy.linalg.solve`.\n",
        "   * Estime igualmente el error respecto a la solución obtenida mediante \\$x=A^{-1}b\\$ (usando `numpy.linalg.inv`).\n",
        "   * Presente las normas de los residuos y los errores relativos."
      ],
      "metadata": {
        "id": "fTSweDGhnAUN"
      }
    },
    {
      "cell_type": "code",
      "source": [
        "import numpy as np\n",
        "\n",
        "def gauss_seidel(A, b, tol=1e-7, max_iter=100):\n",
        "    n = len(b)\n",
        "    x = np.zeros(n)\n",
        "\n",
        "    for k in range(max_iter):\n",
        "        x_new = np.copy(x)\n",
        "\n",
        "        for i in range(n):\n",
        "            suma1 = np.dot(A[i, :i], x_new[:i])\n",
        "            suma2 = np.dot(A[i, i+1:], x[i+1:])\n",
        "            x_new[i] = (b[i] - suma1 - suma2) / A[i, i]\n",
        "\n",
        "        if np.linalg.norm(x_new - x, np.inf) < tol:\n",
        "            return x_new, k+1, np.linalg.norm(b - A @ x_new)\n",
        "\n",
        "        x = x_new\n",
        "\n",
        "    return x, max_iter, np.linalg.norm(b - A @ x)\n",
        "\n",
        "# Matriz y vector aleatorio\n",
        "A = np.random.rand(5, 5)\n",
        "b = np.random.rand(5)\n",
        "\n",
        "#Gauss-Seidel\n",
        "x_gs, iters, residuo = gauss_seidel(A, b)\n",
        "print(\"Solución Gauss-Seidel:\", x_gs)\n",
        "print(\"Iteraciones:\", iters)\n",
        "print(\"Norma residuo:\", residuo)\n",
        "\n",
        "#Comparar con numpy\n",
        "x_np = np.linalg.solve(A, b)\n",
        "print(\"\\nSolución numpy:\", x_np)\n",
        "\n",
        "#Errores\n",
        "error_relativo = np.linalg.norm(x_gs - x_np) / np.linalg.norm(x_np)\n",
        "print(\"Error relativo:\", error_relativo)\n"
      ],
      "metadata": {
        "id": "xXuUhfjznlnO",
        "colab": {
          "base_uri": "https://localhost:8080/"
        },
        "outputId": "2d565679-a71d-498d-f8b9-c0fc6ff8f0a8"
      },
      "execution_count": 8,
      "outputs": [
        {
          "output_type": "stream",
          "name": "stdout",
          "text": [
            "Solución Gauss-Seidel: [-8.39845089e+119 -1.18906229e+119 -1.27484918e+121  2.33237205e+120\n",
            "  2.49658604e+121]\n",
            "Iteraciones: 100\n",
            "Norma residuo: 3.0210581031439275e+121\n",
            "\n",
            "Solución numpy: [-1.20736145  0.82064284 -1.25497328  2.35564009 -0.22892469]\n",
            "Error relativo: 9.224398452714249e+120\n"
          ]
        }
      ]
    },
    {
      "cell_type": "markdown",
      "source": [
        "#4 Método de potencias para el valor propio dominante\n",
        "\n",
        "Sea \\$A\\in\\mathbb{R}^{n\\times n}\\$ diagonalizable con valor propio dominante \\$\\lambda\\_{\\max}\\$ (en magnitud) y vector propio asociado \\$v\\_{\\max}\\$.\n",
        "\n",
        "El método de potencias genera, a partir de un vector inicial \\$q^{(0)}\\neq 0\\$, la sucesión\n",
        "\n",
        "$$\n",
        "q^{(k+1)} \\;=\\; \\frac{A\\,q^{(k)}}{\\lVert A\\,q^{(k)}\\rVert_2},\n",
        "\\qquad\n",
        "\\lambda^{(k+1)} \\;=\\; (q^{(k+1)})^{\\!\\top} A\\, q^{(k+1)},\n",
        "$$\n",
        "\n",
        "que converge a \\$v\\_{\\max}/\\lVert v\\_{\\max}\\rVert\\_2\\$ y a \\$\\lambda\\_{\\max}\\$ respectivamente, bajo hipótesis estándar.\n",
        "\n",
        "Implemente `power_method(A, tol=1e-7, max_iter=1000)` que:\n",
        "\n",
        "   * Acepte matrices reales cuadradas,\n",
        "   * Devuelva \\$\\lambda\\_{\\max}\\$, el vector propio normalizado \\$v\\_{\\max}\\$, el número de iteraciones y la última variación relativa de \\$\\lambda\\$,\n",
        "   * detenga la iteración cuando\n",
        "     $\\bigl|\\lambda^{(k+1)}-\\lambda^{(k)}\\bigr|<\\text{tol}\\,|\\lambda^{(k+1)}|$\n",
        "     o se alcance `max_iter`.\n",
        "\n",
        "Luego,\n",
        "   * Genere una matriz simétrica aleatoria \\$6\\times6\\$ (por ejemplo, \\$A = (M+M^\\top)/2\\$ con \\$M\\$ aleatoria).\n",
        "   * Aplique su `power_method` y compare \\$\\lambda\\_{\\max}\\$ y \\$v\\_{\\max}\\$ con los resultados de `numpy.linalg.eig`."
      ],
      "metadata": {
        "id": "REVJcqYtnmM-"
      }
    },
    {
      "cell_type": "code",
      "source": [
        "import numpy as np\n",
        "\n",
        "def power_method(A, tol=1e-7, max_iter=1000):\n",
        "    n = A.shape[0]\n",
        "    q = np.random.rand(n)\n",
        "    q = q / np.linalg.norm(q)\n",
        "    lam = 0\n",
        "\n",
        "    for i in range(max_iter):\n",
        "        z = A @ q\n",
        "        q_new = z / np.linalg.norm(z)\n",
        "        lam_new = q_new @ (A @ q_new)\n",
        "\n",
        "        if abs(lam_new - lam) < tol:\n",
        "            return lam_new, q_new, i+1\n",
        "        q = q_new\n",
        "        lam = lam_new\n",
        "\n",
        "    return lam, q, max_iter\n",
        "\n",
        "# Matriz aleatoria 6x6\n",
        "M = np.random.rand(6, 6)\n",
        "A = (M + M.T) / 2\n",
        "\n",
        "# Método potencias\n",
        "lam_max, v_max, iters = power_method(A)\n",
        "\n",
        "print(\"λ_max (método de potencias):\", lam_max)\n",
        "print(\"v_max (método de potencias):\\n\", v_max)\n",
        "print(\"Iteraciones:\", iters)\n",
        "\n",
        "# Comparar con numpy\n",
        "vals, vecs = np.linalg.eig(A)\n",
        "idx = np.argmax(vals)\n",
        "print(\"\\nλ_max (numpy):\", vals[idx])\n",
        "print(\"v_max (numpy):\\n\", vecs[:, idx])\n"
      ],
      "metadata": {
        "id": "lPzFAOE7obZY",
        "colab": {
          "base_uri": "https://localhost:8080/"
        },
        "outputId": "32cfdb6a-b007-4fcd-b552-ebfe8af4ac42"
      },
      "execution_count": 7,
      "outputs": [
        {
          "output_type": "stream",
          "name": "stdout",
          "text": [
            "λ_max (método de potencias): 3.1991809968741833\n",
            "v_max (método de potencias):\n",
            " [0.35978493 0.43264234 0.4998745  0.34110423 0.33718331 0.4510612 ]\n",
            "Iteraciones: 5\n",
            "\n",
            "λ_max (numpy): 3.199181000677134\n",
            "v_max (numpy):\n",
            " [0.35979288 0.43263702 0.49989069 0.3411212  0.33717984 0.4510318 ]\n"
          ]
        }
      ]
    },
    {
      "cell_type": "markdown",
      "source": [
        "#5\n",
        "\n",
        "Verifique que cualquier matriz hermitiana de 2 × 2 $ L $ puede escribirse como una suma de cuatro términos:\n",
        "\n",
        "$$ L = a\\sigma_x + b\\sigma_y + c\\sigma_z + dI $$\n",
        "\n",
        "donde $ a $, $ b $, $ c $ y $ d $ son números reales.\n",
        "\n",
        "Las cuatro matrices de Pauli son:\n",
        "\n",
        "$$ \\sigma_x = \\begin{pmatrix} 0 & 1 \\\\ 1 & 0 \\end{pmatrix}, \\quad \\sigma_y = \\begin{pmatrix} 0 & -i \\\\ i & 0 \\end{pmatrix}, \\quad \\sigma_z = \\begin{pmatrix} 1 & 0 \\\\ 0 & -1 \\end{pmatrix}, \\quad I = \\begin{pmatrix} 1 & 0 \\\\ 0 & 1 \\end{pmatrix} $$\n",
        "\n",
        "\n"
      ],
      "metadata": {
        "id": "iggu2jNwVpnK"
      }
    },
    {
      "cell_type": "code",
      "source": [
        "import numpy as np\n",
        "\n",
        "# Matrices de Pauli y matriz identidad\n",
        "sx = np.array([[0, 1], [1, 0]])\n",
        "sy = np.array([[0, -1j], [1j, 0]])\n",
        "sz = np.array([[1, 0], [0, -1]])\n",
        "I  = np.array([[1, 0], [0, 1]])\n",
        "\n",
        "# Coeficientes reales\n",
        "a, b, c, d = 2, -1, 3, 4\n",
        "\n",
        "# Combinación lineal\n",
        "L = a*sx + b*sy + c*sz + d*I\n",
        "\n",
        "print(\"Matriz L:\\n\", L)\n",
        "\n",
        "# Verificar que L es hermitiana\n",
        "print(\"L es hermitiana?:\", np.allclose(L, L.conj().T))\n"
      ],
      "metadata": {
        "id": "8WN9_cOCV7cM",
        "colab": {
          "base_uri": "https://localhost:8080/"
        },
        "outputId": "b7a37996-eb00-494d-83aa-a0a5c503680f"
      },
      "execution_count": 6,
      "outputs": [
        {
          "output_type": "stream",
          "name": "stdout",
          "text": [
            "Matriz L:\n",
            " [[7.+0.j 2.+1.j]\n",
            " [2.-1.j 1.+0.j]]\n",
            "L es hermitiana?: True\n"
          ]
        }
      ]
    },
    {
      "cell_type": "markdown",
      "source": [
        "# 6\n",
        "\n",
        "Haga un breve resumen en Markdown de las funciones y métodos más relevantes para algebra lineal usando Python. Emplee ejemplos."
      ],
      "metadata": {
        "id": "GnCw5_O5pMxl"
      }
    },
    {
      "cell_type": "markdown",
      "source": [
        "NumPy es perfecto para álgebra lineal:\n",
        "crear matrices y vectores, calcular transpuesta, inversa y determinante, multiplicar matrices, resolver sistemas de ecuaciones, obtener valores y vectores propios, y calcular normas de vectores."
      ],
      "metadata": {
        "id": "Yh0fe3QfPYwy"
      }
    },
    {
      "cell_type": "code",
      "source": [
        "# Funciones y métodos de álgebra lineal en Python (NumPy)\n",
        "\n",
        "## Crear matrices y vectores\n",
        "import numpy as np\n",
        "A = np.array([[1, 2], [3, 4]])\n",
        "b = np.array([5, 6])\n",
        "\n",
        "## Transpuesta\n",
        "n=A.T\n",
        "\n",
        "## Inversa\n",
        "m=np.linalg.inv(A)\n",
        "\n",
        "## Determinante\n",
        "p=np.linalg.det(A)\n",
        "\n",
        "## Multiplicación de matrices\n",
        "q=np.dot(A, b)\n",
        "\n",
        "## Resolver sistemas\n",
        "x = np.linalg.solve(A, b)\n",
        "\n",
        "## Valores y vectores propios\n",
        "y=valores, vectores = np.linalg.eig(A)\n",
        "\n",
        "## Norma de un vector\n",
        "z=np.linalg.norm(b)\n",
        "\n",
        "print(n,m,p,q,x,y,z)\n"
      ],
      "metadata": {
        "colab": {
          "base_uri": "https://localhost:8080/"
        },
        "id": "vaWXLgXNQtuj",
        "outputId": "5e574588-6920-4e08-ed9b-8a64c8b2358f"
      },
      "execution_count": 11,
      "outputs": [
        {
          "output_type": "stream",
          "name": "stdout",
          "text": [
            "[[1 3]\n",
            " [2 4]] [[-2.   1. ]\n",
            " [ 1.5 -0.5]] -2.0000000000000004 [17 39] [-4.   4.5] EigResult(eigenvalues=array([-0.37228132,  5.37228132]), eigenvectors=array([[-0.82456484, -0.41597356],\n",
            "       [ 0.56576746, -0.90937671]])) 7.810249675906654\n"
          ]
        }
      ]
    }
  ]
}