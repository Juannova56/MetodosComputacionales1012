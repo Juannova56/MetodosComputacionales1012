{
  "nbformat": 4,
  "nbformat_minor": 0,
  "metadata": {
    "colab": {
      "provenance": []
    },
    "kernelspec": {
      "name": "python3",
      "display_name": "Python 3"
    },
    "language_info": {
      "name": "python"
    }
  },
  "cells": [
    {
      "cell_type": "code",
      "execution_count": 2,
      "metadata": {
        "id": "z7RCty67y3ME"
      },
      "outputs": [],
      "source": [
        "import numpy as np\n",
        "import matplotlib.pyplot as plt\n",
        "import scipy.linalg as la"
      ]
    },
    {
      "cell_type": "markdown",
      "source": [
        "# Actividad 08: Algebra Lineal y Matrices\n",
        "\n",
        "---\n",
        "### Profesor: Juan Marcos Marín\n",
        "### Nombre: Laura Sofía Sierra Sánchez\n",
        "*Métodos computacionales*\n",
        "\n",
        "---"
      ],
      "metadata": {
        "id": "GGQpGoujzAnQ"
      }
    },
    {
      "cell_type": "markdown",
      "source": [
        "#1\n",
        "Escriba tres matrices aleatorias $A$, $B$ y $C$ de $3\\times 3$, y demuestre las siguientes relaciones\n",
        "\n",
        "- $ \\mathbf{A}\\mathbf{B} \\neq \\mathbf{B}\\mathbf{A} $, en general.\n",
        "- $ (\\mathbf{A}\\mathbf{B})\\mathbf{C} = \\mathbf{A}(\\mathbf{B}\\mathbf{C}) $.\n",
        "- $ \\mathbf{A}(\\mathbf{B} + \\mathbf{C}) = \\mathbf{A}\\mathbf{B} + \\mathbf{A}\\mathbf{C} $.\n",
        "- $ (\\mathbf{A} + \\mathbf{B})\\mathbf{C} = \\mathbf{A}\\mathbf{C} + \\mathbf{B}\\mathbf{C} $.\n",
        "- $ (\\mathbf{A}\\mathbf{B})^\\top = \\mathbf{B}^\\top \\mathbf{A}^\\top $.\n",
        "- $ \\det(\\mathbf{A}\\mathbf{B}) = \\det(\\mathbf{A}) \\det(\\mathbf{B}) $.\n",
        "- $ (\\mathbf{A}^\\top)^\\top = \\mathbf{A} $.\n",
        "- $ (c\\mathbf{A})^\\top = c\\mathbf{A}^\\top $.\n",
        "- $ (\\mathbf{A} + \\mathbf{B})^\\top = \\mathbf{A}^\\top + \\mathbf{B}^\\top $.\n",
        "\n"
      ],
      "metadata": {
        "id": "U9hC1R-F0-iH"
      }
    },
    {
      "cell_type": "code",
      "source": [
        "# Tres matrices aleatorias de 3x3\n",
        "A = np.random.randint(0, 10, (3, 3))\n",
        "B = np.random.randint(0, 10, (3, 3))\n",
        "C = np.random.randint(0, 10, (3, 3))\n",
        "\n",
        "# Para mostrar las matrices\n",
        "print(\"Matriz A:\")\n",
        "print(A)\n",
        "print(\"\\nMatriz B:\")\n",
        "print(B)\n",
        "print(\"\\nMatriz C:\")\n",
        "print(C)"
      ],
      "metadata": {
        "id": "cQQ6cPGW1anK",
        "colab": {
          "base_uri": "https://localhost:8080/"
        },
        "outputId": "f892a0d8-9596-42a9-ae56-f50c6b81659b"
      },
      "execution_count": 47,
      "outputs": [
        {
          "output_type": "stream",
          "name": "stdout",
          "text": [
            "Matriz A:\n",
            "[[0 7 0]\n",
            " [0 1 1]\n",
            " [5 6 4]]\n",
            "\n",
            "Matriz B:\n",
            "[[0 0 2]\n",
            " [1 4 9]\n",
            " [5 6 3]]\n",
            "\n",
            "Matriz C:\n",
            "[[6 7 0]\n",
            " [5 7 4]\n",
            " [3 1 5]]\n"
          ]
        }
      ]
    },
    {
      "cell_type": "code",
      "source": [
        "# Demostración 1:\n",
        "AB = A @ B\n",
        "BA = B @ A\n",
        "print(\"\\n1. AB es diferente a BA (en general):\")\n",
        "print(\"AB =\")\n",
        "print(AB)\n",
        "print(\"\\nBA =\")\n",
        "print(BA)\n",
        "print(\"\\n¿AB == BA?\", np.array_equal(AB, BA))\n",
        "print(\"Se demuestra que AB es diferente que BA.\")"
      ],
      "metadata": {
        "colab": {
          "base_uri": "https://localhost:8080/"
        },
        "id": "Dwruj0RylFB0",
        "outputId": "9cd4b869-b469-4943-8a64-0a5ddf07005e"
      },
      "execution_count": 48,
      "outputs": [
        {
          "output_type": "stream",
          "name": "stdout",
          "text": [
            "\n",
            "1. AB es diferente a BA (en general):\n",
            "AB =\n",
            "[[ 7 28 63]\n",
            " [ 6 10 12]\n",
            " [26 48 76]]\n",
            "\n",
            "BA =\n",
            "[[10 12  8]\n",
            " [45 65 40]\n",
            " [15 59 18]]\n",
            "\n",
            "¿AB == BA? False\n",
            "Se demuestra que AB es diferente que BA.\n"
          ]
        }
      ]
    },
    {
      "cell_type": "code",
      "source": [
        "# Demostración 2:\n",
        "AB_C = (A @ B) @ C\n",
        "A_BC = A @ (B @ C)\n",
        "print(\"\\n2. (AB)C = A(BC):\")\n",
        "print(\"(AB)C =\")\n",
        "print(AB_C)\n",
        "print(\"\\nA(BC) =\")\n",
        "print(A_BC)\n",
        "print(\"\\n¿(AB)C == A(BC)?\", np.array_equal(AB_C, A_BC))\n",
        "print(\"Se demuestra que (AB)C es igual a A(BC).\")"
      ],
      "metadata": {
        "colab": {
          "base_uri": "https://localhost:8080/"
        },
        "id": "k8kqkVU0lthN",
        "outputId": "54943c63-4a4f-4760-f7ca-3231edfd7065"
      },
      "execution_count": 49,
      "outputs": [
        {
          "output_type": "stream",
          "name": "stdout",
          "text": [
            "\n",
            "2. (AB)C = A(BC):\n",
            "(AB)C =\n",
            "[[371 308 427]\n",
            " [122 124 100]\n",
            " [624 594 572]]\n",
            "\n",
            "A(BC) =\n",
            "[[371 308 427]\n",
            " [122 124 100]\n",
            " [624 594 572]]\n",
            "\n",
            "¿(AB)C == A(BC)? True\n",
            "Se demuestra que (AB)C es igual a A(BC).\n"
          ]
        }
      ]
    },
    {
      "cell_type": "code",
      "source": [
        "# Demostración 3:\n",
        "A_BmasC = A @ (B + C)\n",
        "AB_mas_AC = (A @ B) + (A @ C)\n",
        "print(\"\\n3. A(B + C) = AB + AC:\")\n",
        "print(\"A(B + C) =\")\n",
        "print(A_BmasC)\n",
        "print(\"\\nAB + AC =\")\n",
        "print(AB_mas_AC)\n",
        "print(\"\\n¿A(B + C) == AB + AC?\", np.array_equal(A_BmasC, AB_mas_AC))\n",
        "print(\"Se demuestra que A(B + C) = AB + AC\")"
      ],
      "metadata": {
        "colab": {
          "base_uri": "https://localhost:8080/"
        },
        "id": "SWFgsXz8mlnT",
        "outputId": "a40dea3b-5bf0-4c9b-960b-998eecbe83ee"
      },
      "execution_count": 50,
      "outputs": [
        {
          "output_type": "stream",
          "name": "stdout",
          "text": [
            "\n",
            "3. A(B + C) = AB + AC:\n",
            "A(B + C) =\n",
            "[[ 42  77  91]\n",
            " [ 14  18  21]\n",
            " [ 98 129 120]]\n",
            "\n",
            "AB + AC =\n",
            "[[ 42  77  91]\n",
            " [ 14  18  21]\n",
            " [ 98 129 120]]\n",
            "\n",
            "¿A(B + C) == AB + AC? True\n",
            "Se demuestra que A(B + C) = AB + AC\n"
          ]
        }
      ]
    },
    {
      "cell_type": "code",
      "source": [
        "# Demostración 4:\n",
        "AmasB_C = (A + B) @ C\n",
        "AC_mas_BC = (A @ C) + (B @ C)\n",
        "print(\"\\n4. (A + B)C = AC + BC:\")\n",
        "print(\"(A + B)C =\")\n",
        "print(AmasB_C)\n",
        "print(\"\\nAC + BC =\")\n",
        "print(AC_mas_BC)\n",
        "print(\"\\n¿(A + B)C == AC + BC?\", np.array_equal(AmasB_C, AC_mas_BC))\n",
        "print(\"Se demuestra que (A + B)C = AC + BC.\")"
      ],
      "metadata": {
        "colab": {
          "base_uri": "https://localhost:8080/"
        },
        "id": "IjQILtNTnok_",
        "outputId": "4481adb1-f458-47b7-c40c-5a427e0b3ced"
      },
      "execution_count": 51,
      "outputs": [
        {
          "output_type": "stream",
          "name": "stdout",
          "text": [
            "\n",
            "4. (A + B)C = AC + BC:\n",
            "(A + B)C =\n",
            "[[ 41  51  38]\n",
            " [ 61  52  70]\n",
            " [141 161  83]]\n",
            "\n",
            "AC + BC =\n",
            "[[ 41  51  38]\n",
            " [ 61  52  70]\n",
            " [141 161  83]]\n",
            "\n",
            "¿(A + B)C == AC + BC? True\n",
            "Se demuestra que (A + B)C = AC + BC.\n"
          ]
        }
      ]
    },
    {
      "cell_type": "code",
      "source": [
        "# Demostración 5:\n",
        "AB_transp = (A @ B).T\n",
        "B_transp_A_transp = B.T @ A.T\n",
        "print(\"\\n5. (AB)ᵀ = BᵀAᵀ:\")\n",
        "print(\"(AB)ᵀ =\")\n",
        "print(AB_transp)\n",
        "print(\"\\nBᵀAᵀ =\")\n",
        "print(B_transp_A_transp)\n",
        "print(\"\\n¿(AB)ᵀ == BᵀAᵀ?\", np.array_equal(AB_transp, B_transp_A_transp))\n",
        "print(\"Se demuestra que (AB)ᵀ = BᵀAᵀ.\")"
      ],
      "metadata": {
        "colab": {
          "base_uri": "https://localhost:8080/"
        },
        "id": "W_KGjxlPoUl2",
        "outputId": "4f698f57-bc60-4f3d-87a5-fee6568a19bf"
      },
      "execution_count": 52,
      "outputs": [
        {
          "output_type": "stream",
          "name": "stdout",
          "text": [
            "\n",
            "5. (AB)ᵀ = BᵀAᵀ:\n",
            "(AB)ᵀ =\n",
            "[[ 7  6 26]\n",
            " [28 10 48]\n",
            " [63 12 76]]\n",
            "\n",
            "BᵀAᵀ =\n",
            "[[ 7  6 26]\n",
            " [28 10 48]\n",
            " [63 12 76]]\n",
            "\n",
            "¿(AB)ᵀ == BᵀAᵀ? True\n",
            "Se demuestra que (AB)ᵀ = BᵀAᵀ.\n"
          ]
        }
      ]
    },
    {
      "cell_type": "code",
      "source": [
        "# Demostración 6:\n",
        "det_A = la.det(A)\n",
        "det_B = la.det(B)\n",
        "det_AB = la.det(A @ B)\n",
        "print(\"\\n6. det(AB) = det(A)det(B):\")\n",
        "print(f\"det(A) = {det_A}\")\n",
        "print(f\"det(B) = {det_B:}\")\n",
        "print(f\"det(AB) = {det_AB}\")\n",
        "print(f\"det(A)*det(B) = {det_A * det_B}\")\n",
        "print(\"\\n¿det(AB) == det(A)det(B)?\", np.isclose(det_AB, det_A * det_B))\n",
        "print(\"Se demuestra que det(AB) = det(A)det(B).\")"
      ],
      "metadata": {
        "colab": {
          "base_uri": "https://localhost:8080/"
        },
        "id": "M-CDBapgo479",
        "outputId": "4e6131b0-55d8-4ca7-d693-8dd4f92cf486"
      },
      "execution_count": 53,
      "outputs": [
        {
          "output_type": "stream",
          "name": "stdout",
          "text": [
            "\n",
            "6. det(AB) = det(A)det(B):\n",
            "det(A) = 35.0\n",
            "det(B) = -28.0\n",
            "det(AB) = -980.0000000000007\n",
            "det(A)*det(B) = -980.0\n",
            "\n",
            "¿det(AB) == det(A)det(B)? True\n",
            "Se demuestra que det(AB) = det(A)det(B).\n"
          ]
        }
      ]
    },
    {
      "cell_type": "code",
      "source": [
        "# Demostración 7:\n",
        "A_transp_transp = A.T.T\n",
        "print(\"\\n7. (Aᵀ)ᵀ = A:\")\n",
        "print(\"(Aᵀ)ᵀ =\")\n",
        "print(A_transp_transp)\n",
        "print(\"\\nA =\")\n",
        "print(A)\n",
        "print(\"\\n¿(Aᵀ)ᵀ == A?\", np.array_equal(A_transp_transp, A))\n",
        "print(\"Se demuestra que (Aᵀ)ᵀ = A.\")"
      ],
      "metadata": {
        "colab": {
          "base_uri": "https://localhost:8080/"
        },
        "id": "i4vcx3wupW_y",
        "outputId": "3650fa82-7593-4c0e-9a37-2bc281fedc96"
      },
      "execution_count": 54,
      "outputs": [
        {
          "output_type": "stream",
          "name": "stdout",
          "text": [
            "\n",
            "7. (Aᵀ)ᵀ = A:\n",
            "(Aᵀ)ᵀ =\n",
            "[[0 7 0]\n",
            " [0 1 1]\n",
            " [5 6 4]]\n",
            "\n",
            "A =\n",
            "[[0 7 0]\n",
            " [0 1 1]\n",
            " [5 6 4]]\n",
            "\n",
            "¿(Aᵀ)ᵀ == A? True\n",
            "Se demuestra que (Aᵀ)ᵀ = A.\n"
          ]
        }
      ]
    },
    {
      "cell_type": "code",
      "source": [
        "# Demostración 8:\n",
        "c = np.random.randint(1, 10)\n",
        "cA_transp = (c * A).T\n",
        "c_A_transp = c * A.T\n",
        "print(f\"\\n8. (cA)ᵀ = cAᵀ (con c = {c}):\")\n",
        "print(\"(cA)ᵀ =\")\n",
        "print(cA_transp)\n",
        "print(\"\\ncAᵀ =\")\n",
        "print(c_A_transp)\n",
        "print(\"\\n¿(cA)ᵀ == cAᵀ?\", np.array_equal(cA_transp, c_A_transp))\n",
        "print(\"Se demuestra que (cA)ᵀ = cAᵀ.\")"
      ],
      "metadata": {
        "colab": {
          "base_uri": "https://localhost:8080/"
        },
        "id": "45MzobszpyLe",
        "outputId": "d6e5456c-bae2-4b76-bd89-22088e1a6a89"
      },
      "execution_count": 55,
      "outputs": [
        {
          "output_type": "stream",
          "name": "stdout",
          "text": [
            "\n",
            "8. (cA)ᵀ = cAᵀ (con c = 6):\n",
            "(cA)ᵀ =\n",
            "[[ 0  0 30]\n",
            " [42  6 36]\n",
            " [ 0  6 24]]\n",
            "\n",
            "cAᵀ =\n",
            "[[ 0  0 30]\n",
            " [42  6 36]\n",
            " [ 0  6 24]]\n",
            "\n",
            "¿(cA)ᵀ == cAᵀ? True\n",
            "Se demuestra que (cA)ᵀ = cAᵀ.\n"
          ]
        }
      ]
    },
    {
      "cell_type": "code",
      "source": [
        "# Demostración 9:\n",
        "AmasB_transp = (A + B).T\n",
        "A_transp_mas_B_transp = A.T + B.T\n",
        "print(\"\\n9. (A + B)ᵀ = Aᵀ + Bᵀ:\")\n",
        "print(\"(A + B)ᵀ =\")\n",
        "print(AmasB_transp)\n",
        "print(\"\\nAᵀ + Bᵀ =\")\n",
        "print(A_transp_mas_B_transp)\n",
        "print(\"\\n¿(A + B)ᵀ == Aᵀ + Bᵀ?\", np.array_equal(AmasB_transp, A_transp_mas_B_transp))\n",
        "print(\"Se demuestra que (A + B)ᵀ = Aᵀ + Bᵀ.\")"
      ],
      "metadata": {
        "colab": {
          "base_uri": "https://localhost:8080/"
        },
        "id": "u3fnZEM5rLIB",
        "outputId": "f2780bea-efc4-42d0-d78b-fa417dd35339"
      },
      "execution_count": 56,
      "outputs": [
        {
          "output_type": "stream",
          "name": "stdout",
          "text": [
            "\n",
            "9. (A + B)ᵀ = Aᵀ + Bᵀ:\n",
            "(A + B)ᵀ =\n",
            "[[ 0  1 10]\n",
            " [ 7  5 12]\n",
            " [ 2 10  7]]\n",
            "\n",
            "Aᵀ + Bᵀ =\n",
            "[[ 0  1 10]\n",
            " [ 7  5 12]\n",
            " [ 2 10  7]]\n",
            "\n",
            "¿(A + B)ᵀ == Aᵀ + Bᵀ? True\n",
            "Se demuestra que (A + B)ᵀ = Aᵀ + Bᵀ.\n"
          ]
        }
      ]
    },
    {
      "cell_type": "markdown",
      "source": [
        "#2\n",
        "\n",
        "El **Teorema de Laplace** es un método para calcular el determinante de una matriz cuadrada, particularmente útil para matrices de orden mayor a 2. Este teorema se basa en la expansión del determinante por los elementos de una fila o una columna cualquiera.\n",
        "\n",
        "\n",
        "\n",
        "$$\n",
        "\\det(A) = \\sum_{j=1}^n (-1)^{1+j} a_{1j} M_{1j}\n",
        "$$\n",
        "\n",
        "donde:\n",
        "- $a_{1j}$ es el elemento de la primera fila y columna $j$.\n",
        "- $M_{1j}$ es el menor asociado al elemento $a_{1j}$, es decir, el determinante de la submatriz de $3 \\times 3$ que se obtiene al eliminar la fila 1 y la columna $j$.\n",
        "- $(-1)^{1+j}$ es el signo correspondiente al cofactor del elemento $a_{1j}$.\n",
        "\n",
        "Podemos realizar una función recursiva para el cálculo del determinante, sabiendo que el valor del determinante de una matriz de orden uno es el único elemento de esa matriz, y el de una matriz de orden superior a uno es la suma de cada uno de los elementos de una fila o columna por los Adjuntos a ese elemento, como en la función recursiva se emplea la misma función definida el cálculo lo haremos por Menor complementario, un ejemplo desarrollado por la primera fila sería:\n",
        "\n",
        "$$\n",
        "   \\det (A_{j,j}) =\n",
        "   \\left \\{\n",
        "   \\begin{array}{llcl}\n",
        "      si & j = 1 & \\to & a_{1,1} \\\\\n",
        "                                 \\\\\n",
        "      si & j > 1 & \\to & \\displaystyle \\sum_{k=1}^j \\; (-1)^{(1+k)} \\cdot a_{1,k} \\cdot \\det( \\alpha_{1,k})\n",
        "   \\end{array}\n",
        "   \\right .\n",
        "$$\n",
        "\n",
        "Realice una función que encuentre el determinante de una matriz usando la recursividad aqui planteada, explique explicitamente su código"
      ],
      "metadata": {
        "id": "ibYf2I9T2pIw"
      }
    },
    {
      "cell_type": "code",
      "source": [
        "def determinante_laplace(A):\n",
        "  '''\n",
        "  Calcula el determinante de una matriz cuadrada A usando el Teorema de Laplace.\n",
        "\n",
        "  Entradas:\n",
        "  - A : matriz cuadrada de tamaño nxn -> ndarray\n",
        "\n",
        "  Retorna:\n",
        "  - det: determinante de la matriz A -> float\n",
        "  '''\n",
        "  n = A.shape[0]\n",
        "\n",
        "  # Si la matriz es de 1x1, el determinante es el único elemento.\n",
        "  if n == 1:\n",
        "      return A[0, 0]\n",
        "\n",
        "  # Si es 2x2, usar la fórmula directa\n",
        "  if n == 2:\n",
        "      return A[0, 0]*A[1, 1] - A[0, 1]*A[1, 0]\n",
        "\n",
        "  # Para matrices de orden mayor, usar Laplace en la primera fila\n",
        "  det = 0\n",
        "  for j in range(n):  # recorrer columnas de la primera fila\n",
        "      signo = (-1) ** (0 + j)  # calcular el signo del cofactor\n",
        "      # Crear la submatriz (menor)\n",
        "      submatriz = np.delete(np.delete(A, 0, axis=0), j, axis=1)  # se elimina la fila 0 y columna j-ésima\n",
        "      det += signo * A[0, j] * determinante_laplace(submatriz)  # aplicar función\n",
        "  return det\n",
        "\n",
        "# Ejemplo\n",
        "A = np.random.randint(1, 10, (3, 3))\n",
        "print(\"Matriz A:\\n\", A)\n",
        "print(\"Determinante -> Laplace:\", determinante_laplace(A))\n",
        "print(\"Determinante -> NumPy:\", np.linalg.det(A))\n"
      ],
      "metadata": {
        "id": "-8tYERLHtrtY",
        "colab": {
          "base_uri": "https://localhost:8080/"
        },
        "outputId": "705c960e-465b-4816-91f2-1dec961873da"
      },
      "execution_count": 58,
      "outputs": [
        {
          "output_type": "stream",
          "name": "stdout",
          "text": [
            "Matriz A:\n",
            " [[4 7 4]\n",
            " [9 1 8]\n",
            " [7 2 8]]\n",
            "Determinante -> Laplace: -100\n",
            "Determinante -> NumPy: -100.00000000000004\n"
          ]
        }
      ]
    },
    {
      "cell_type": "markdown",
      "source": [
        "#3 Método de Gauss - Seidel\n",
        "\n",
        "Sea \\$A\\in\\mathbb{R}^{n\\times n}\\$ no singular y sea \\$b\\in\\mathbb{R}^n\\$.\n",
        "Descomponga \\$A\\$ como\n",
        "\n",
        "$$\n",
        "A \\;=\\; D \\;+\\; L \\;+\\; U,\n",
        "$$\n",
        "\n",
        "donde\n",
        "\n",
        "* \\$D\\$ es la matriz diagonal de \\$A\\$,\n",
        "* \\$L\\$ es la parte estrictamente triangular inferior,\n",
        "* \\$U\\$ es la parte estrictamente triangular superior.\n",
        "\n",
        "El algoritmo de Gauss - Seidel reorganiza el sistema \\$Ax=b\\$ como\n",
        "\n",
        "$$\n",
        "x \\;=\\; (D+L)^{-1}\\bigl(b \\;-\\; Ux\\bigr),\n",
        "$$\n",
        "\n",
        "y genera la sucesión\n",
        "\n",
        "$$\n",
        "x_i^{(k+1)}\n",
        "= \\frac{1}{a_{ii}}\n",
        "\\Bigl(b_i - \\sum_{j<i} a_{ij}\\,x_j^{(k+1)} - \\sum_{j>i} a_{ij}\\,x_j^{(k)}\\Bigr),\n",
        "\\qquad i=1,\\dots,n.\n",
        "$$\n",
        "\n",
        "Implemente una función `gauss_seidel(A, b, tol=1e-7, max_iter=100)` que:\n",
        "   * Realice las iteraciones hasta que\n",
        "     $\\lVert x^{(k+1)}-x^{(k)}\\rVert_\\infty<\\text{tol}$\n",
        "     o se alcance `max_iter`;\n",
        "   * devuelva el vector solución aproximado \\$x\\$, el número de iteraciones realizadas y la norma del último residuo.\n",
        "\n",
        "Incluya una documentación clara.\n",
        "\n",
        "Luego,\n",
        "\n",
        "   * Genere una matriz aleatoria \\$5\\times5\\$ (por ejemplo, con `np.random.rand`) y un vector \\$b\\$ aleatorio.\n",
        "   * Resuelva \\$Ax=b\\$ con su función; calcule el error relativo frente a `numpy.linalg.solve`.\n",
        "   * Estime igualmente el error respecto a la solución obtenida mediante \\$x=A^{-1}b\\$ (usando `numpy.linalg.inv`).\n",
        "   * Presente las normas de los residuos y los errores relativos."
      ],
      "metadata": {
        "id": "fTSweDGhnAUN"
      }
    },
    {
      "cell_type": "code",
      "source": [
        "def gauss_seidel(A, b, tol=1e-7, max_iter=1000):\n",
        "  '''\n",
        "  Resuelve el sistema Ax = b usando el método de Gauss-Seidel.\n",
        "\n",
        "  Entradas:\n",
        "  - A : matriz cuadrada de tamaño nxn -> ndarray\n",
        "  - b : vector columna de la matruz A -> ndarray\n",
        "  - tol : tolerancia para la convergencia.\n",
        "  - max_iter : número máximo de iteraciones.\n",
        "\n",
        "  Retorna:\n",
        "  - x : vector solución aprox. -> ndarray\n",
        "  - iter : número de iteraciones realizadas.\n",
        "  - residuo : norma infinita del residuo final.\n",
        "  '''\n",
        "  n = len(b)\n",
        "  x = np.zeros_like(b, dtype=float) # Inicializar con ceros\n",
        "\n",
        "  for iter in range(1, max_iter + 1):\n",
        "      x_old = x.copy() # Guardar una copia de la solución actual\n",
        "\n",
        "      # Calcular el nuevo valor de x[i] usando la fórmula de Gauss-Seidel\n",
        "      for i in range(n):\n",
        "          x[i] = (b[i] - np.dot(A[i, :i], x[:i]) - np.dot(A[i, i+1:], x_old[i+1:])) / A[i, i]\n",
        "\n",
        "      if np.linalg.norm(x - x_old, ord=np.inf) < tol:\n",
        "          break # Si alcanza la convergencia, se rompe el bucle\n",
        "\n",
        "  residuo = np.linalg.norm(A @ x - b, ord=np.inf) # Calcular el residuo final\n",
        "  return x, iter, residuo\n",
        "\n",
        "# Generar matriz 5x5\n",
        "A = np.random.rand(5, 5)\n",
        "b = np.random.rand(5)\n",
        "\n",
        "# Hacer la matriz diagonal dominante para garantizar convergencia\n",
        "A = A + np.diag(np.sum(np.abs(A), axis=1) * 1.1)\n",
        "\n",
        "print(\"Matriz A (5x5):\")\n",
        "print(np.around(A, 4))\n",
        "print(\"\\nVector b:\")\n",
        "print(np.around(b, 4))\n",
        "\n",
        "# Resolver con Gauss-Seidel\n",
        "x_gs, it_gs, res_gs = gauss_seidel(A, b)\n",
        "\n",
        "# Resolver con numpy.linalg.solve (referencia)\n",
        "x_ref = np.linalg.solve(A, b)\n",
        "\n",
        "# Resolver con inversa (A^{-1}b)\n",
        "x_inv = np.linalg.inv(A) @ b\n",
        "\n",
        "# Cálculo de errores\n",
        "error_gs = np.linalg.norm(x_gs - x_ref) / np.linalg.norm(x_ref)\n",
        "error_inv = np.linalg.norm(x_inv - x_ref) / np.linalg.norm(x_ref)\n",
        "\n",
        "# Cálculo de residuos\n",
        "res_inv = np.linalg.norm(A @ x_inv - b, ord=np.inf)\n",
        "res_ref = np.linalg.norm(A @ x_ref - b, ord=np.inf)\n",
        "\n",
        "# Resultados\n",
        "print(\"\\nResultados:\")\n",
        "print(f\"Número de iteraciones en Gauss-Seidel (para convergencia): {it_gs}\")\n",
        "print(f\"Residuo (GS): {res_gs:.4e}\")\n",
        "print(f\"Residuo (inv): {res_inv:.4e}\")\n",
        "print(f\"Residuo (ref): {res_ref:.4e}\")\n",
        "print(f\"\\nError relativo GS vs. referencia: {error_gs:.4e}\")\n",
        "print(f\"Error relativo inv vs. referencia: {error_inv:.4e}\")\n",
        "\n",
        "# Comparación de soluciones\n",
        "print(\"\\nSolución Gauss-Seidel:\")\n",
        "print(np.around(x_gs, 6))\n",
        "print(\"\\nSolución referencia (np.linalg.solve):\")\n",
        "print(np.around(x_ref, 6))\n",
        "print(\"\\nSolución con inversa (np.linalg.inv):\")\n",
        "print(np.around(x_inv, 6))"
      ],
      "metadata": {
        "colab": {
          "base_uri": "https://localhost:8080/"
        },
        "id": "l3pWUhoWjHww",
        "outputId": "73bf773a-e512-4d33-9fa6-efdb2533e7d3"
      },
      "execution_count": 60,
      "outputs": [
        {
          "output_type": "stream",
          "name": "stdout",
          "text": [
            "Matriz A (5x5):\n",
            "[[2.6662 0.5487 0.6919 0.652  0.2243]\n",
            " [0.7122 3.1753 0.3254 0.7465 0.6496]\n",
            " [0.8492 0.6576 3.3585 0.0937 0.3677]\n",
            " [0.2652 0.244  0.973  3.4372 0.892 ]\n",
            " [0.6311 0.7948 0.5026 0.5769 3.7903]]\n",
            "\n",
            "Vector b:\n",
            "[0.1952 0.7225 0.2808 0.0243 0.6455]\n",
            "\n",
            "Resultados:\n",
            "Número de iteraciones en Gauss-Seidel (para convergencia): 10\n",
            "Residuo (GS): 1.1493e-08\n",
            "Residuo (inv): 1.1102e-16\n",
            "Residuo (ref): 2.2204e-16\n",
            "\n",
            "Error relativo GS vs. referencia: 2.2293e-08\n",
            "Error relativo inv vs. referencia: 3.6489e-16\n",
            "\n",
            "Solución Gauss-Seidel:\n",
            "[ 0.026148  0.204734  0.024341 -0.049405  0.127301]\n",
            "\n",
            "Solución referencia (np.linalg.solve):\n",
            "[ 0.026148  0.204734  0.024341 -0.049405  0.127301]\n",
            "\n",
            "Solución con inversa (np.linalg.inv):\n",
            "[ 0.026148  0.204734  0.024341 -0.049405  0.127301]\n"
          ]
        }
      ]
    },
    {
      "cell_type": "markdown",
      "source": [
        "#4 Método de potencias para el valor propio dominante\n",
        "\n",
        "Sea \\$A\\in\\mathbb{R}^{n\\times n}\\$ diagonalizable con valor propio dominante \\$\\lambda\\_{\\max}\\$ (en magnitud) y vector propio asociado \\$v\\_{\\max}\\$.\n",
        "\n",
        "El método de potencias genera, a partir de un vector inicial \\$q^{(0)}\\neq 0\\$, la sucesión\n",
        "\n",
        "$$\n",
        "q^{(k+1)} \\;=\\; \\frac{A\\,q^{(k)}}{\\lVert A\\,q^{(k)}\\rVert_2},\n",
        "\\qquad\n",
        "\\lambda^{(k+1)} \\;=\\; (q^{(k+1)})^{\\!\\top} A\\, q^{(k+1)},\n",
        "$$\n",
        "\n",
        "que converge a \\$v\\_{\\max}/\\lVert v\\_{\\max}\\rVert\\_2\\$ y a \\$\\lambda\\_{\\max}\\$ respectivamente, bajo hipótesis estándar.\n",
        "\n",
        "Implemente `power_method(A, tol=1e-7, max_iter=1000)` que:\n",
        "\n",
        "   * Acepte matrices reales cuadradas,\n",
        "   * Devuelva \\$\\lambda\\_{\\max}\\$, el vector propio normalizado \\$v\\_{\\max}\\$, el número de iteraciones y la última variación relativa de \\$\\lambda\\$,\n",
        "   * detenga la iteración cuando\n",
        "     $\\bigl|\\lambda^{(k+1)}-\\lambda^{(k)}\\bigr|<\\text{tol}\\,|\\lambda^{(k+1)}|$\n",
        "     o se alcance `max_iter`.\n",
        "\n",
        "Luego,\n",
        "   * Genere una matriz simétrica aleatoria \\$6\\times6\\$ (por ejemplo, \\$A = (M+M^\\top)/2\\$ con \\$M\\$ aleatoria).\n",
        "   * Aplique su `power_method` y compare \\$\\lambda\\_{\\max}\\$ y \\$v\\_{\\max}\\$ con los resultados de `numpy.linalg.eig`."
      ],
      "metadata": {
        "id": "REVJcqYtnmM-"
      }
    },
    {
      "cell_type": "code",
      "source": [
        "import numpy as np\n",
        "\n",
        "def power_method(A, tol=1e-7, max_iter=1000):\n",
        "  '''\n",
        "  Método de potencias para encontrar el valor propio dominante y su vector propio asociado.\n",
        "\n",
        "  Entradas:\n",
        "  - A : matriz cuadrada de tamaño nxn -> ndarray\n",
        "  - tol : tolerancia para la convergencia\n",
        "  - max_iter : número máximo de iteraciones\n",
        "\n",
        "  Retorna:\n",
        "  - lambda_new : valor propio dominante estimado.\n",
        "  - q : vector propio normalizado asociado al valor dominante.\n",
        "  - max_iter : número de iteraciones realizadas (convergencia)\n",
        "  - rel_error: variación relativa final entre los dos últimos valores propios.\n",
        "  '''\n",
        "  n = A.shape[0]\n",
        "  if A.shape != (n, n):\n",
        "      raise ValueError(\"La matriz debe ser cuadrada\")\n",
        "  # Vector propio inicial\n",
        "  q = np.random.rand(n)\n",
        "  q = q / np.linalg.norm(q)\n",
        "\n",
        "  lambda_old = 0\n",
        "\n",
        "  for k in range(1, max_iter + 1):\n",
        "    z = A @ q # Obtener el nuevo vector z\n",
        "    q = z / np.linalg.norm(z) # Normalizar el vector z\n",
        "    lambda_new = q.T @ A @ q # Estimar el valor propio dominante\n",
        "    rel_error = abs(lambda_new - lambda_old) / abs(lambda_new) # Variación relativa\n",
        "\n",
        "    # Comprobar convergencia\n",
        "    if rel_error < tol:\n",
        "      return lambda_new, q, k, rel_error\n",
        "\n",
        "    # Actualizar el valor propio\n",
        "    lambda_old = lambda_new\n",
        "\n",
        "  return lambda_new, q, max_iter, rel_error\n",
        "\n",
        "\n",
        "# Matriz aleatoria 6x6\n",
        "M = np.random.rand(6, 6)\n",
        "A = (M + M.T) / 2  # Matriz simétrica\n",
        "\n",
        "# Aplicar power_method\n",
        "lambda_max_pm, v_max_pm, num_iter, rel_err = power_method(A)\n",
        "\n",
        "# Comparar con valores propios reales\n",
        "eigvals, eigvecs = np.linalg.eig(A)\n",
        "idx_max = np.argmax(np.abs(eigvals))\n",
        "lambda_max_np = eigvals[idx_max]\n",
        "v_max_np = eigvecs[:, idx_max]\n",
        "v_max_np = v_max_np / np.linalg.norm(v_max_np)\n",
        "\n",
        "# Alinear el signo para que sean comparables\n",
        "if np.dot(v_max_pm, v_max_np) < 0:\n",
        "    v_max_np *= -1\n",
        "\n",
        "# Resultados\n",
        "print(\"Matriz simétrica A:\\n\", A)\n",
        "print(\"\\nMétodo de Potencias:\")\n",
        "print(\"Valor propio dominante:\", lambda_max_pm)\n",
        "print(\"Vector propio asociado:\", v_max_pm)\n",
        "print(\"Iteraciones:\", num_iter)\n",
        "print(\"Error relativo final:\", rel_err)\n",
        "\n",
        "print(\"\\n Con NumPy:\")\n",
        "print(\"Valor propio dominante (real):\", lambda_max_np)\n",
        "print(\"Vector propio asociado:\", v_max_np)\n",
        "\n",
        "# Comparaciones\n",
        "error_valprop = abs(lambda_max_pm - lambda_max_np)\n",
        "error_vec = np.linalg.norm(v_max_pm - v_max_np)\n",
        "\n",
        "print(\"\\nComparación:\")\n",
        "print(\"Error absoluto en lambda_max:\", error_valprop)\n",
        "print(\"Distancia euclídea entre vectores propios:\", error_vec)\n"
      ],
      "metadata": {
        "id": "lPzFAOE7obZY",
        "colab": {
          "base_uri": "https://localhost:8080/"
        },
        "outputId": "6cb35017-0b7d-4c02-8a55-4a78f45ab9e4"
      },
      "execution_count": 61,
      "outputs": [
        {
          "output_type": "stream",
          "name": "stdout",
          "text": [
            "Matriz simétrica A:\n",
            " [[0.17711068 0.93438857 0.66951315 0.80544709 0.44424418 0.15452423]\n",
            " [0.93438857 0.42818415 0.90889575 0.76684057 0.86519126 0.55190502]\n",
            " [0.66951315 0.90889575 0.31692201 0.13333462 0.64878494 0.87313408]\n",
            " [0.80544709 0.76684057 0.13333462 0.61500723 0.8435348  0.50357817]\n",
            " [0.44424418 0.86519126 0.64878494 0.8435348  0.70248408 0.63636585]\n",
            " [0.15452423 0.55190502 0.87313408 0.50357817 0.63636585 0.5113424 ]]\n",
            "\n",
            "Método de Potencias:\n",
            "Valor propio dominante: 3.756801811259077\n",
            "Vector propio asociado: [0.3591081  0.47620321 0.38692748 0.40346917 0.45446844 0.35387861]\n",
            "Iteraciones: 5\n",
            "Error relativo final: 1.9663697936612574e-08\n",
            "\n",
            " Con NumPy:\n",
            "Valor propio dominante (real): 3.7568018156578953\n",
            "Vector propio asociado: [0.35912295 0.47621022 0.38690362 0.40346089 0.45447206 0.35388498]\n",
            "\n",
            "Comparación:\n",
            "Error absoluto en lambda_max: 4.3988181985810115e-09\n",
            "Distancia euclídea entre vectores propios: 3.1004901413333885e-05\n"
          ]
        }
      ]
    },
    {
      "cell_type": "markdown",
      "source": [
        "#5\n",
        "\n",
        "Verifique que cualquier matriz hermitiana de 2 × 2 $ L $ puede escribirse como una suma de cuatro términos:\n",
        "\n",
        "$$ L = a\\sigma_x + b\\sigma_y + c\\sigma_z + dI $$\n",
        "\n",
        "donde $ a $, $ b $, $ c $ y $ d $ son números reales.\n",
        "\n",
        "Las cuatro matrices de Pauli son:\n",
        "\n",
        "$$ \\sigma_x = \\begin{pmatrix} 0 & 1 \\\\ 1 & 0 \\end{pmatrix}, \\quad \\sigma_y = \\begin{pmatrix} 0 & -i \\\\ i & 0 \\end{pmatrix}, \\quad \\sigma_z = \\begin{pmatrix} 1 & 0 \\\\ 0 & -1 \\end{pmatrix}, \\quad I = \\begin{pmatrix} 1 & 0 \\\\ 0 & 1 \\end{pmatrix} $$\n",
        "\n",
        "\n"
      ],
      "metadata": {
        "id": "iggu2jNwVpnK"
      }
    },
    {
      "cell_type": "code",
      "source": [
        "# Matrices de Pauli\n",
        "sigma_x = np.array([[0, 1], [1, 0]], dtype=complex)\n",
        "sigma_y = np.array([[0, -1j], [1j, 0]], dtype=complex)\n",
        "sigma_z = np.array([[1, 0], [0, -1]], dtype=complex)\n",
        "I = np.eye(2, dtype=complex)\n",
        "\n",
        "# Generar una matriz hermitiana aleatoria 2x2\n",
        "alpha = np.random.rand()\n",
        "delta = np.random.rand()\n",
        "beta_real = np.random.rand()\n",
        "beta_imag = np.random.rand()\n",
        "beta = beta_real + 1j * beta_imag\n",
        "\n",
        "L = np.array([[alpha, beta], [np.conj(beta), delta]], dtype=complex)\n",
        "\n",
        "# Calcular los coeficientes reales correctos\n",
        "a = 0.5 * (L[0, 1] + L[1, 0]).real      # parte real simétrica\n",
        "b = -0.5 * (L[0, 1] - L[1, 0]).imag     # parte imaginaria antisimétrica\n",
        "c = 0.5 * (L[0, 0] - L[1, 1]).real\n",
        "d = 0.5 * (L[0, 0] + L[1, 1]).real\n",
        "\n",
        "# Reconstruir L\n",
        "L_reconstructed = a * sigma_x + b * sigma_y + c * sigma_z + d * I\n",
        "\n",
        "# Verificar\n",
        "print(\"Matriz hermitiana L original:\\n\", L)\n",
        "print(\"\\nCoeficientes reales:\")\n",
        "print(\"a =\", a)\n",
        "print(\"b =\", b)\n",
        "print(\"c =\", c)\n",
        "print(\"d =\", d)\n",
        "\n",
        "print(\"\\nL reconstruida:\\n\", L_reconstructed)\n",
        "print(\"\\n¿Son iguales L y la reconstrucción?:\", np.allclose(L, L_reconstructed))\n"
      ],
      "metadata": {
        "colab": {
          "base_uri": "https://localhost:8080/"
        },
        "id": "u9NxjiCqfbXF",
        "outputId": "d913b45c-fc6a-4e79-a7a4-b522b0b994d2"
      },
      "execution_count": 63,
      "outputs": [
        {
          "output_type": "stream",
          "name": "stdout",
          "text": [
            "Matriz hermitiana L original:\n",
            " [[0.4236548 +0.j       0.43758721+0.891773j]\n",
            " [0.43758721-0.891773j 0.64589411+0.j      ]]\n",
            "\n",
            "Coeficientes reales:\n",
            "a = 0.4375872112626925\n",
            "b = -0.8917730007820798\n",
            "c = -0.1111196568638757\n",
            "d = 0.5347744562027804\n",
            "\n",
            "L reconstruida:\n",
            " [[0.4236548 +0.j       0.43758721+0.891773j]\n",
            " [0.43758721-0.891773j 0.64589411+0.j      ]]\n",
            "\n",
            "¿Son iguales L y la reconstrucción?: True\n"
          ]
        }
      ]
    },
    {
      "cell_type": "markdown",
      "source": [
        "# 6\n",
        "\n",
        "Haga un breve resumen en Markdown de las funciones y métodos más relevantes para algebra lineal usando Python. Emplee ejemplos."
      ],
      "metadata": {
        "id": "GnCw5_O5pMxl"
      }
    },
    {
      "cell_type": "markdown",
      "source": [
        "En primer lugar, empezamos con lo más básico que es la creación de matrices con Numpy:"
      ],
      "metadata": {
        "id": "BqBV9P7ERsbs"
      }
    },
    {
      "cell_type": "code",
      "source": [
        "A = np.array([[3, 9], [2, 4],], dtype=float)\n",
        "B = np.array([[1, 6], [8, 5]], dtype=float)\n",
        "b = np.array([ 2, 3], dtype=float)"
      ],
      "metadata": {
        "id": "djdVPgpoparm"
      },
      "execution_count": 95,
      "outputs": []
    },
    {
      "cell_type": "markdown",
      "source": [
        "Para hacer el producto entre dos matrices, existen dos maneras de hacerlo:"
      ],
      "metadata": {
        "id": "Ho9a97oFSVAB"
      }
    },
    {
      "cell_type": "code",
      "source": [
        "f1 = np.dot(A, B)\n",
        "f2 = A @ B\n",
        "print(\"Forma 1:\\n\", f1)\n",
        "print(\"------------\")\n",
        "print(\"Forma 2:\\n\", f2)"
      ],
      "metadata": {
        "colab": {
          "base_uri": "https://localhost:8080/"
        },
        "id": "bBbOH9MQSUMc",
        "outputId": "893d4f83-61b8-49cb-f5e6-466c67c6418b"
      },
      "execution_count": 96,
      "outputs": [
        {
          "output_type": "stream",
          "name": "stdout",
          "text": [
            "Forma 1:\n",
            " [[75. 63.]\n",
            " [34. 32.]]\n",
            "------------\n",
            "Forma 2:\n",
            " [[75. 63.]\n",
            " [34. 32.]]\n"
          ]
        }
      ]
    },
    {
      "cell_type": "markdown",
      "source": [
        "Para hallar la transpuesta y la transpuesta conjugada de una matriz:"
      ],
      "metadata": {
        "id": "hk2ofzysTjk_"
      }
    },
    {
      "cell_type": "code",
      "source": [
        "transp = A.T\n",
        "conjugada = A.conj().T\n",
        "print(\"Transpuesta:\\n\", transp)\n",
        "print(\"------------\")\n",
        "print(\"Conjugada:\\n\", conjugada)"
      ],
      "metadata": {
        "colab": {
          "base_uri": "https://localhost:8080/"
        },
        "id": "Pqpdju3lSyXQ",
        "outputId": "ae51459b-4c40-4f48-cc78-feb7d81b21e3"
      },
      "execution_count": 97,
      "outputs": [
        {
          "output_type": "stream",
          "name": "stdout",
          "text": [
            "Transpuesta:\n",
            " [[3. 2.]\n",
            " [9. 4.]]\n",
            "------------\n",
            "Conjugada:\n",
            " [[3. 2.]\n",
            " [9. 4.]]\n"
          ]
        }
      ]
    },
    {
      "cell_type": "markdown",
      "source": [
        "Para la identidad, ceros, y unos de una matriz:"
      ],
      "metadata": {
        "id": "p7he9RngUgCY"
      }
    },
    {
      "cell_type": "code",
      "source": [
        "np.eye(3)         # Matriz identidad 3x3\n",
        "np.zeros((2, 3))  # Matriz de ceros 2x3\n",
        "np.ones((2, 2))   # Matriz de unos 2x2"
      ],
      "metadata": {
        "colab": {
          "base_uri": "https://localhost:8080/"
        },
        "id": "h1ujKPdbUVlL",
        "outputId": "eba9b6c8-b45b-43c3-f29d-38301bba9e99"
      },
      "execution_count": 98,
      "outputs": [
        {
          "output_type": "execute_result",
          "data": {
            "text/plain": [
              "array([[1., 1.],\n",
              "       [1., 1.]])"
            ]
          },
          "metadata": {},
          "execution_count": 98
        }
      ]
    },
    {
      "cell_type": "markdown",
      "source": [
        "Normas de un vector:"
      ],
      "metadata": {
        "id": "5xaVof5-VcB8"
      }
    },
    {
      "cell_type": "code",
      "source": [
        "z = np.linalg.norm(b)\n",
        "print(\"Norma 2 de b:\", z)"
      ],
      "metadata": {
        "colab": {
          "base_uri": "https://localhost:8080/"
        },
        "id": "qt4TM3EvVMwW",
        "outputId": "8693ad63-a5b2-4a5b-a770-ccc1a98afe0b"
      },
      "execution_count": 99,
      "outputs": [
        {
          "output_type": "stream",
          "name": "stdout",
          "text": [
            "Norma 2 de b: 3.605551275463989\n"
          ]
        }
      ]
    },
    {
      "cell_type": "markdown",
      "source": [
        "Para la colución rápida de sistemas de ecuaciones, se tiene:"
      ],
      "metadata": {
        "id": "8DjlJT_iVqFW"
      }
    },
    {
      "cell_type": "code",
      "source": [
        "x = la.solve(A, b)         # Resuelve Ax = b\n",
        "print(\"Solución de Ax = b:\\n\", x)"
      ],
      "metadata": {
        "colab": {
          "base_uri": "https://localhost:8080/"
        },
        "id": "0ct3Z3AHVbLb",
        "outputId": "6e106ceb-3f9f-498a-eab1-6de10aa555a6"
      },
      "execution_count": 100,
      "outputs": [
        {
          "output_type": "stream",
          "name": "stdout",
          "text": [
            "Solución de Ax = b:\n",
            " [ 3.16666667 -0.83333333]\n"
          ]
        }
      ]
    },
    {
      "cell_type": "markdown",
      "source": [
        "Para hallar el determinante de una matriz n x n:"
      ],
      "metadata": {
        "id": "aG1Am8mCV6d0"
      }
    },
    {
      "cell_type": "code",
      "source": [
        "la.det(A)"
      ],
      "metadata": {
        "colab": {
          "base_uri": "https://localhost:8080/"
        },
        "id": "Wmb1O5MMVo1T",
        "outputId": "c3311da4-1e8e-4939-b831-b9f36f7bb8a8"
      },
      "execution_count": 101,
      "outputs": [
        {
          "output_type": "execute_result",
          "data": {
            "text/plain": [
              "np.float64(-6.000000000000001)"
            ]
          },
          "metadata": {},
          "execution_count": 101
        }
      ]
    },
    {
      "cell_type": "markdown",
      "source": [
        "Para hallar la inversa de una matriz:"
      ],
      "metadata": {
        "id": "os07kK3DWH5v"
      }
    },
    {
      "cell_type": "code",
      "source": [
        "la.inv(A)"
      ],
      "metadata": {
        "colab": {
          "base_uri": "https://localhost:8080/"
        },
        "id": "OxLM6WSZWHkJ",
        "outputId": "b6072711-d507-48ec-bcac-ac024a084e26"
      },
      "execution_count": 102,
      "outputs": [
        {
          "output_type": "execute_result",
          "data": {
            "text/plain": [
              "array([[-0.66666667,  1.5       ],\n",
              "       [ 0.33333333, -0.5       ]])"
            ]
          },
          "metadata": {},
          "execution_count": 102
        }
      ]
    },
    {
      "cell_type": "markdown",
      "source": [
        "## Métodos\n",
        "\n",
        "Funciones para resolver sistemas de ecuacuiones lineales:"
      ],
      "metadata": {
        "id": "37KiDiaXWrPw"
      }
    },
    {
      "cell_type": "markdown",
      "source": [
        "### Regla de Cramer:"
      ],
      "metadata": {
        "id": "JgrdrQ92W8QD"
      }
    },
    {
      "cell_type": "code",
      "source": [
        "def Cramer(A, b):\n",
        "  '''\n",
        "  Resuelve un sistema de ecuaciones lineales Ax = b usando el método de Cramer.\n",
        "  Parámetros:\n",
        "  A : ndarray\n",
        "      Matriz de coeficientes del sistema.\n",
        "  b : ndarray\n",
        "      Vector de términos independientes.\n",
        "  Retorna:\n",
        "  x : ndarray\n",
        "      Vector de soluciones del sistema.\n",
        "  '''\n",
        "  # Calcular el determinante de A\n",
        "  det_A = la.det(A)\n",
        "\n",
        "  # Verificar si el determinante es cero o si las dimensiones no coinciden\n",
        "  if np.isclose(det_A, 0):\n",
        "      raise ValueError(\"El sistema no tiene solución única (determinante es cero).\")\n",
        "  if A.shape[0] != b.shape[0]:\n",
        "      raise ValueError(\"Las dimensiones de A y b no coinciden.\")\n",
        "  # Calcular las soluciones usando el método de Cramer\n",
        "  n = A.shape[1]\n",
        "  # Inicializar el vector de soluciones\n",
        "  x = np.zeros(n)\n",
        "  for i in range(n):\n",
        "      # Crear una copia de A y reemplazar la columna i por b\n",
        "      Ai = A.copy()\n",
        "      Ai[:, i] = b\n",
        "      # Calcular la solución para la variable i\n",
        "      x[i] = la.det(Ai) / det_A\n",
        "  return x #  Retornar el vector de soluciones\n",
        "\n",
        "\n",
        "sol = Cramer(A, b)\n",
        "sol"
      ],
      "metadata": {
        "colab": {
          "base_uri": "https://localhost:8080/"
        },
        "id": "CK1HtpBtWwEg",
        "outputId": "73b08ca2-8c52-44f0-9a28-b013fd086010"
      },
      "execution_count": 103,
      "outputs": [
        {
          "output_type": "execute_result",
          "data": {
            "text/plain": [
              "array([ 3.16666667, -0.83333333])"
            ]
          },
          "metadata": {},
          "execution_count": 103
        }
      ]
    },
    {
      "cell_type": "markdown",
      "source": [
        "### Eliminación de Guss simple"
      ],
      "metadata": {
        "id": "gbqJioU5X97P"
      }
    },
    {
      "cell_type": "code",
      "source": [
        "def Eliminacion_Gauss(A, b):\n",
        "  '''\n",
        "  Resuelve un sistema de ecuaciones lineales Ax = b usando eliminación de Gauss.\n",
        "  Parámetros:\n",
        "  A : ndarray\n",
        "      Matriz de coeficientes del sistema.\n",
        "  b : ndarray\n",
        "      Vector de términos independientes.\n",
        "  Retorna:\n",
        "  x : ndarray\n",
        "      Vector de soluciones del sistema.\n",
        "  A_aumentada : ndarray\n",
        "      Matriz aumentada después de aplicar eliminación de Gauss.\n",
        "  '''\n",
        "  # Crear la matriz aumentada\n",
        "  A_aumentada = np.column_stack((A, b))\n",
        "\n",
        "  # Aplicar eliminación de Gauss\n",
        "  n = A.shape[0]\n",
        "\n",
        "  for i in range(n):\n",
        "      # Hacer el pivote en la fila i\n",
        "      for j in range(i + 1, n):\n",
        "          if A_aumentada[j, i] != 0:\n",
        "              # Calcular el factor de eliminación\n",
        "              factor = A_aumentada[j, i] / A_aumentada[i, i]\n",
        "              # Restar la fila i multiplicada por el factor de eliminación de la fila j\n",
        "              A_aumentada[j, :] -= factor * A_aumentada[i, :]\n",
        "\n",
        "  # Sustitución hacia atrás para encontrar las soluciones\n",
        "  x = np.zeros(n)\n",
        "  for i in range(n - 1, -1, -1):\n",
        "      x[i] = (A_aumentada[i, -1] - np.dot(A_aumentada[i, i + 1:n], x[i + 1:n])) / A_aumentada[i, i]\n",
        "  return x, A_aumentada  # Retornar el vector de soluciones y la matriz aumentada con eliminación de Gauss\n",
        "\n",
        "\n",
        "sol, matriz = Eliminacion_Gauss(A, b)\n",
        "print(f'La solución es: {sol}')\n",
        "print(f'La matriz aumentada es: \\n{matriz}')"
      ],
      "metadata": {
        "colab": {
          "base_uri": "https://localhost:8080/"
        },
        "id": "-XVgkcmfXUNt",
        "outputId": "7d8ff9b9-6e05-4ef9-a1f6-5c7990ee28bb"
      },
      "execution_count": 104,
      "outputs": [
        {
          "output_type": "stream",
          "name": "stdout",
          "text": [
            "La solución es: [ 3.16666667 -0.83333333]\n",
            "La matriz aumentada es: \n",
            "[[ 3.          9.          2.        ]\n",
            " [ 0.         -2.          1.66666667]]\n"
          ]
        }
      ]
    },
    {
      "cell_type": "markdown",
      "source": [
        "### Método de pivoteo parcial por eliminación Gaussiana"
      ],
      "metadata": {
        "id": "VpfMS5UQX9ct"
      }
    },
    {
      "cell_type": "code",
      "source": [
        "def Eliminacion_Gauss_Pivote_Simple(A, b):\n",
        "  '''\n",
        "  Resuelve un sistema de ecuaciones lineales Ax = b usando eliminación de Gauss con un único pivoteo inicial.\n",
        "\n",
        "  Parámetros:\n",
        "  A : ndarray\n",
        "      Matriz de coeficientes del sistema.\n",
        "  b : ndarray\n",
        "      Vector de términos independientes.\n",
        "\n",
        "  Retorna:\n",
        "  x : ndarray\n",
        "      Vector de soluciones del sistema.\n",
        "  A_aumentada : ndarray\n",
        "      Matriz aumentada después de aplicar eliminación de Gauss con pivoteo inicial.\n",
        "  '''\n",
        "  # Crear la matriz aumentada\n",
        "  A_aumentada = np.column_stack((A, b))\n",
        "\n",
        "  n = A.shape[0]\n",
        "\n",
        "  # Encontrar el índice del máximo en la primera columna (columna 0)\n",
        "  max_index = np.argmax(np.abs(A_aumentada[0:n, 0]))\n",
        "\n",
        "  if max_index != 0:\n",
        "      # Intercambiar la fila 0 con la fila que tiene el elemento más grande\n",
        "      A_aumentada[[0, max_index], :] = A_aumentada[[max_index, 0], :]\n",
        "\n",
        "  # Fase de Eliminación hacia adelante\n",
        "  for i in range(n):\n",
        "      # Hacer ceros debajo del pivote\n",
        "      for j in range(i + 1, n):\n",
        "          if A_aumentada[j, i] != 0: # Solo si el elemento a eliminar no es ya cero\n",
        "              factor = A_aumentada[j, i] / A_aumentada[i, i]\n",
        "              A_aumentada[j, :] -= factor * A_aumentada[i, :]\n",
        "\n",
        "  # Sustitución hacia atrás para encontrar las soluciones\n",
        "  x = np.zeros(n)\n",
        "  for i in range(n - 1, -1, -1):\n",
        "      # Asegurarse de que el pivote diagonal no sea cero para la división\n",
        "      if A_aumentada[i, i] == 0:\n",
        "          raise ValueError(f\"El elemento pivote diagonal A[{i},{i}] es cero durante la sustitución hacia atrás. El sistema puede no tener solución única.\")\n",
        "\n",
        "      x[i] = (A_aumentada[i, -1] - np.dot(A_aumentada[i, i + 1:n], x[i + 1:n])) / A_aumentada[i, i]\n",
        "\n",
        "  return x, A_aumentada\n",
        "\n",
        "\n",
        "sol, matriz_pivote = Eliminacion_Gauss_Pivote_Simple(A, b)\n",
        "print(\"Solución usando Eliminación de Gauss con Pivoteo Simple:\", sol)\n",
        "print(\"Matriz aumentada después de la eliminación de Gauss con pivoteo:\")\n",
        "print(matriz_pivote)"
      ],
      "metadata": {
        "colab": {
          "base_uri": "https://localhost:8080/"
        },
        "id": "wLRJMBDeX8vq",
        "outputId": "65805ac2-4a1f-4c23-d169-6a7943db4317"
      },
      "execution_count": 105,
      "outputs": [
        {
          "output_type": "stream",
          "name": "stdout",
          "text": [
            "Solución usando Eliminación de Gauss con Pivoteo Simple: [ 3.16666667 -0.83333333]\n",
            "Matriz aumentada después de la eliminación de Gauss con pivoteo:\n",
            "[[ 3.          9.          2.        ]\n",
            " [ 0.         -2.          1.66666667]]\n"
          ]
        }
      ]
    },
    {
      "cell_type": "code",
      "source": [],
      "metadata": {
        "id": "6QJIybMjY42J"
      },
      "execution_count": null,
      "outputs": []
    }
  ]
}