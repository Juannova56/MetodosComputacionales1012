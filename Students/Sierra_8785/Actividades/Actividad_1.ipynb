{
 "cells": [
  {
   "cell_type": "markdown",
   "metadata": {
    "colab_type": "text",
    "id": "view-in-github"
   },
   "source": [
    "<a href=\"https://colab.research.google.com/github/jmmarinr/ComputationalMethods/blob/master/Basics/Actividad_PythonB%C3%A1sico.ipynb\" target=\"_parent\"><img src=\"https://colab.research.google.com/assets/colab-badge.svg\" alt=\"Open In Colab\"/></a>"
   ]
  },
  {
   "cell_type": "markdown",
   "metadata": {
    "id": "ym3QAv5yfZSO"
   },
   "source": [
    "# Actividad: Introducción a Python (sin librerías)\n",
    "\n",
    "---"
   ]
  },
  {
   "cell_type": "markdown",
   "metadata": {
    "id": "W0C9oNGXfwDj"
   },
   "source": [
    "## Problema 1: Números primos entre 2 y 50 con la Criba de Eratóstenes\n",
    "\n",
    "La **Criba de Eratóstenes** es un método eficiente para encontrar todos los números primos menores que un número dado. El algoritmo consiste en:\n",
    "\n",
    "1. Crear una lista de valores booleanos para representar los números del 2 al 50, todos inicialmente marcados como verdaderos.\n",
    "2. Comenzando desde el primer número primo (2), eliminar todos sus múltiplos (marcándolos como falsos).\n",
    "3. Repetir el proceso para el siguiente número no eliminado.\n",
    "4. Los números que permanezcan marcados como verdaderos son primos.\n",
    "\n",
    "Usando funciones, implementa este método y muestra en pantalla todos los números primos entre 2 y 50.\n",
    "\n"
   ]
  },
  {
   "cell_type": "code",
   "execution_count": 1,
   "metadata": {
    "id": "GIk3OsqxfZ50"
   },
   "outputs": [
    {
     "name": "stdout",
     "output_type": "stream",
     "text": [
      "Números primos entre 2 y 50: [2, 3, 5, 7, 11, 13, 17, 19, 23, 29, 31, 37, 41, 43, 47]\n"
     ]
    }
   ],
   "source": [
    "def cibra_eratostenes(maximo):\n",
    "  '''\n",
    "  Crea una lista de valores booleanos verdaderos del 2 al 50\n",
    "  Iterar el proceso de eliminar los múltiplos de cada número, marcándolos como falsos\n",
    "  Los número que permanezcan como verdaderos, son primos\n",
    "  Retornar: lista de números primos del 2 al 50\n",
    "  '''\n",
    "  primos = [True] * (maximo + 1) # Marcar todos verdaderos\n",
    "  primos[0] = primos[1] = False # Podemos decir de una vez que el 0 y el 1 son falsos (no primos)\n",
    "\n",
    " # Eliminar múltiplos\n",
    "  for i in range(2, int(maximo ** 0.5) + 1): # i recorre desde 2 hasta la raíz cuadrada de 50\n",
    "    # Si i es primo (verdadero), marcar los múltiplos como falsos\n",
    "    if primos[i]:\n",
    "      for x in range(i * i, maximo + 1, i):\n",
    "        primos[x] = False\n",
    "\n",
    "  # Crear una lista para almacenar los números marcados como verdaderos (primos)\n",
    "  lista = []\n",
    "  for i in range(2, maximo + 1):\n",
    "    if primos[i]:\n",
    "      lista.append(i)\n",
    "\n",
    "  return lista\n",
    "\n",
    "primos_final = cibra_eratostenes(50)\n",
    "print(\"Números primos entre 2 y 50:\", primos_final)"
   ]
  },
  {
   "cell_type": "markdown",
   "metadata": {
    "id": "WzI-FhIWf2iJ"
   },
   "source": [
    "## Problema 2: Aproximación de π usando la serie de Leibniz\n",
    "\n",
    "La serie de Leibniz es una forma sencilla de aproximar el valor de π:\n",
    "\n",
    "$$\n",
    "\\pi \\approx 4 \\sum_{n=0}^{N} \\frac{(-1)^n}{2n + 1}\n",
    "$$\n",
    "\n",
    "Implementa una función que realice este calculo y muestra la aproximación para distintos valores de $N$ (por ejemplo: 10, 100, 1000, 10000)."
   ]
  },
  {
   "cell_type": "code",
   "execution_count": 2,
   "metadata": {
    "id": "DfVwDvrRf7Fz"
   },
   "outputs": [
    {
     "name": "stdout",
     "output_type": "stream",
     "text": [
      "Valor de pi aproximado con N = 10 es: 3.0418396189294032\n",
      "Valor de pi aproximado con N = 100 es: 3.1315929035585537\n",
      "Valor de pi aproximado con N = 1000 es: 3.140592653839794\n",
      "Valor de pi aproximado con N = 10000 es: 3.1414926535900345\n"
     ]
    }
   ],
   "source": [
    "def serie_leibniz(N):\n",
    "  '''\n",
    "  Realizar el cálculo de la serie de Leibniz para aproximar pi\n",
    "  Retornar: valor aproximado de pi para N iteraciones\n",
    "  '''\n",
    "  suma = 0\n",
    "  for n in range(N):\n",
    "    operacion = ((-1) ** n)/(2 * n + 1)\n",
    "    suma += operacion # Agregar cada valor de la iteración\n",
    "  resultado = 4 * suma\n",
    "\n",
    "  return resultado\n",
    "\n",
    "valores = [10, 100, 1000, 10000]\n",
    "for N in valores:\n",
    "  pi = serie_leibniz(N)\n",
    "  print(f\"Valor de pi aproximado con N = {N} es: {pi}\")"
   ]
  },
  {
   "cell_type": "markdown",
   "metadata": {
    "id": "Z1-gsRbNf7jy"
   },
   "source": [
    "## Problema 3: Números amigos en un rango dado\n",
    "\n",
    "Dos números naturales $a$ y $b$ se llaman **números amigos** si la suma de los divisores propios (excluyendo el número mismo) de $a$ es igual a $b$, y viceversa.\n",
    "\n",
    "Por ejemplo, 220 y 284 son números amigos porque:\n",
    "- Los divisores propios de 220 son: 1, 2, 4, 5, 10, 11, 20, 22, 44, 55, 110 → suma: 284\n",
    "- Los divisores propios de 284 son: 1, 2, 4, 71, 142 → suma: 220\n",
    "\n",
    "Escribe un programa que encuentre todos los pares de números amigos en un rango dado por el usuario (por ejemplo, entre 1 y 10000)."
   ]
  },
  {
   "cell_type": "code",
   "execution_count": 3,
   "metadata": {
    "id": "m87mKCXlgGjN"
   },
   "outputs": [
    {
     "name": "stdin",
     "output_type": "stream",
     "text": [
      "Ingrese el inicio del rango:  1\n",
      "Ingrese el final del rango:  10000\n"
     ]
    },
    {
     "name": "stdout",
     "output_type": "stream",
     "text": [
      "220 y 284 son números amigos\n",
      "1184 y 1210 son números amigos\n",
      "2620 y 2924 son números amigos\n",
      "5020 y 5564 son números amigos\n",
      "6232 y 6368 son números amigos\n"
     ]
    }
   ],
   "source": [
    "def suma_divisores(n):\n",
    "  '''\n",
    "  Calcular la suma de los divisores propios de un número\n",
    "  Retornar: suma de los divisores propios\n",
    "  '''\n",
    "  suma = 1\n",
    "  for i in range(2, int(n ** 0.5) + 1):\n",
    "    # Calcular divisores\n",
    "    if n % i == 0:\n",
    "      suma += i\n",
    "      if i != n // i:\n",
    "        suma += n // i\n",
    "\n",
    "  return suma\n",
    "\n",
    "def numeros_amigos(y, z):\n",
    "  '''\n",
    "  Encontrar pares de números amigos en un rango dado\n",
    "  Retornar: lista de pares de números amigos\n",
    "  '''\n",
    "  amigos = [] # Crear lista vacía\n",
    "  for a in range(y, z + 1):\n",
    "    b = suma_divisores(a)\n",
    "    if b > a and b <= z: # Así no se repitem números\n",
    "      if suma_divisores(b) == a: # Si son números amigos, se adiciona a la lista\n",
    "        amigos.append((a, b))\n",
    "\n",
    "  return amigos\n",
    "y = int(input(\"Ingrese el inicio del rango: \"))\n",
    "z = int(input(\"Ingrese el final del rango: \"))\n",
    "paresAmigos = numeros_amigos(y, z)\n",
    "\n",
    "for a, b in paresAmigos:\n",
    "  print(f\"{a} y {b} son números amigos\")"
   ]
  },
  {
   "cell_type": "markdown",
   "metadata": {
    "id": "ASKmJNuBgHIp"
   },
   "source": [
    "\n",
    "## Problema 4: Contador de frecuencias de letras en una palabra\n",
    "\n",
    "Escribe un programa que lea una palabra ingresada por el usuario y construya un diccionario donde cada clave sea una letra de la palabra, y el valor asociado sea la cantidad de veces que esa letra aparece. Imprime el resultado.\n"
   ]
  },
  {
   "cell_type": "code",
   "execution_count": 4,
   "metadata": {
    "id": "klMGSddPgUQ5"
   },
   "outputs": [
    {
     "name": "stdin",
     "output_type": "stream",
     "text": [
      "Ingrese una palabra en minúscula:  abuelita\n"
     ]
    },
    {
     "name": "stdout",
     "output_type": "stream",
     "text": [
      "Cantidad de veces que las letras aparecen: \n",
      "a: 2\n",
      "b: 1\n",
      "u: 1\n",
      "e: 1\n",
      "l: 1\n",
      "i: 1\n",
      "t: 1\n",
      "{'a': 2, 'b': 1, 'u': 1, 'e': 1, 'l': 1, 'i': 1, 't': 1}\n"
     ]
    }
   ],
   "source": [
    "# El usuario ingresa la palabra en minúsculas\n",
    "palabra = input(\"Ingrese una palabra en minúscula: \")\n",
    "diccionario = {} # Crear un diccionario vacío\n",
    "for i in palabra: # Recorre cada i en la palabra\n",
    "  if i in diccionario:\n",
    "    diccionario[i] += 1 # Si la letra i ya está en el diccionario, se adiciona uno al contador\n",
    "  else:\n",
    "    diccionario[i] = 1 # De lo contrario, se agrega\n",
    "\n",
    "print(\"Cantidad de veces que las letras aparecen: \")\n",
    "for i, num in diccionario.items():\n",
    "  print(f\"{i}: {num}\")\n",
    "print(diccionario)"
   ]
  }
 ],
 "metadata": {
  "colab": {
   "authorship_tag": "ABX9TyOvOl3Rc9WbzSqMaRiHP15b",
   "include_colab_link": true,
   "provenance": []
  },
  "kernelspec": {
   "display_name": "Python 3 (ipykernel)",
   "language": "python",
   "name": "python3"
  },
  "language_info": {
   "codemirror_mode": {
    "name": "ipython",
    "version": 3
   },
   "file_extension": ".py",
   "mimetype": "text/x-python",
   "name": "python",
   "nbconvert_exporter": "python",
   "pygments_lexer": "ipython3",
   "version": "3.10.16"
  }
 },
 "nbformat": 4,
 "nbformat_minor": 4
}
