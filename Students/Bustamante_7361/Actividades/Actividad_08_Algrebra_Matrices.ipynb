{
  "nbformat": 4,
  "nbformat_minor": 0,
  "metadata": {
    "colab": {
      "provenance": []
    },
    "kernelspec": {
      "name": "python3",
      "display_name": "Python 3"
    },
    "language_info": {
      "name": "python"
    }
  },
  "cells": [
    {
      "cell_type": "code",
      "execution_count": 9,
      "metadata": {
        "id": "z7RCty67y3ME"
      },
      "outputs": [],
      "source": [
        "import numpy as np\n",
        "import matplotlib.pyplot as plt\n",
        "import scipy.linalg as la"
      ]
    },
    {
      "cell_type": "markdown",
      "source": [
        "# Actividad 08: Algebra Lineal y Matrices\n",
        "\n",
        "---\n",
        "### Profesor: Juan Marcos Marín\n",
        "### Nombre: Juan Jose Bustamante Guiral\n",
        "*Métodos computacionales*\n",
        "\n",
        "---"
      ],
      "metadata": {
        "id": "GGQpGoujzAnQ"
      }
    },
    {
      "cell_type": "markdown",
      "source": [
        "#1\n",
        "Escriba tres matrices aleatorias $A$, $B$ y $C$ de $3\\times 3$, y demuestre las siguientes relaciones\n",
        "\n",
        "- $ \\mathbf{A}\\mathbf{B} \\neq \\mathbf{B}\\mathbf{A} $, en general.\n",
        "- $ (\\mathbf{A}\\mathbf{B})\\mathbf{C} = \\mathbf{A}(\\mathbf{B}\\mathbf{C}) $.\n",
        "- $ \\mathbf{A}(\\mathbf{B} + \\mathbf{C}) = \\mathbf{A}\\mathbf{B} + \\mathbf{A}\\mathbf{C} $.\n",
        "- $ (\\mathbf{A} + \\mathbf{B})\\mathbf{C} = \\mathbf{A}\\mathbf{C} + \\mathbf{B}\\mathbf{C} $.\n",
        "- $ (\\mathbf{A}\\mathbf{B})^\\top = \\mathbf{B}^\\top \\mathbf{A}^\\top $.\n",
        "- $ \\det(\\mathbf{A}\\mathbf{B}) = \\det(\\mathbf{A}) \\det(\\mathbf{B}) $.\n",
        "- $ (\\mathbf{A}^\\top)^\\top = \\mathbf{A} $.\n",
        "- $ (c\\mathbf{A})^\\top = c\\mathbf{A}^\\top $.\n",
        "- $ (\\mathbf{A} + \\mathbf{B})^\\top = \\mathbf{A}^\\top + \\mathbf{B}^\\top $.\n",
        "\n"
      ],
      "metadata": {
        "id": "U9hC1R-F0-iH"
      }
    },
    {
      "cell_type": "code",
      "source": [
        "A = np.array([[4, 5, 2],\n",
        "              [6, 7, 3],\n",
        "              [5, 6, 5]])\n",
        "\n",
        "B = np.array([[2, 7, 4],\n",
        "              [2, 6, 5],\n",
        "              [1, 3, 8]])\n",
        "\n",
        "C = np.array([[6, 0, 8],\n",
        "              [8, 9, 5],\n",
        "              [6, 2, 2]])\n",
        "\n",
        "c = 8\n",
        "AB = A @ B\n",
        "BA = B @ A\n",
        "print('AB ≠ BA:')\n",
        "print(f'Son iguales: {np.array_equal(AB, BA)}')\n",
        "\n",
        "\n",
        "# (AB)C = A(BC)\n",
        "ABC1 = (A @ B) @ C\n",
        "ABC2 = A @ (B @ C)\n",
        "print(f'(AB)C = A(BC): {np.allclose(ABC1, ABC2)}')\n",
        "\n",
        "\n",
        "# A(B + C) = AB + AC\n",
        "izq = A @ (B + C)\n",
        "der = A @ B + A @ C\n",
        "print(f'A(B + C) = AB + AC: {np.allclose(izq, der)}')\n",
        "\n",
        "\n",
        "# (A + B)C = AC + BC\n",
        "izq = (A + B) @ C\n",
        "der = A @ C + B @ C\n",
        "print(f'(A + B)C = AC + BC {np.allclose(izq, der)}')\n",
        "\n",
        "\n",
        "# (AB)^T = B^T A^T\n",
        "izq = (A @ B).T\n",
        "der = B.T @ A.T\n",
        "print(f'(AB)^T = B^T A^T: {np.allclose(izq, der)}')\n",
        "\n",
        "\n",
        "# det(AB) = det(A) * det(B)\n",
        "det_AB = np.linalg.det(A @ B)\n",
        "det_A = np.linalg.det(A)\n",
        "det_B = np.linalg.det(B)\n",
        "print(f'det(AB) = det(A) * det(B): {np.isclose(det_AB, det_A * det_B)}')\n",
        "\n",
        "\n",
        "# (A^T)^T = A\n",
        "print(f'(A^T)^T = A: {np.allclose(A.T.T, A)}')\n",
        "\n",
        "\n",
        "# (cA)^T = cA^T\n",
        "print(f'(cA)^T = cA^T: {np.allclose((c * A).T, c * A.T)}')\n",
        "\n",
        "\n",
        "# (A + B)^T = A^T + B^T\n",
        "print(f'(A + B)^T = A^T + B^T: {np.allclose((A + B).T, A.T + B.T)}')"
      ],
      "metadata": {
        "id": "cQQ6cPGW1anK",
        "colab": {
          "base_uri": "https://localhost:8080/"
        },
        "outputId": "31975b2e-23ae-495f-8b5c-5d51c9ad4bef"
      },
      "execution_count": 9,
      "outputs": [
        {
          "output_type": "stream",
          "name": "stdout",
          "text": [
            "AB ≠ BA:\n",
            "Son iguales: False\n",
            "(AB)C = A(BC): True\n",
            "A(B + C) = AB + AC: True\n",
            "(A + B)C = AC + BC True\n",
            "(AB)^T = B^T A^T: True\n",
            "det(AB) = det(A) * det(B): True\n",
            "(A^T)^T = A: True\n",
            "(cA)^T = cA^T: True\n",
            "(A + B)^T = A^T + B^T: True\n"
          ]
        }
      ]
    },
    {
      "cell_type": "markdown",
      "source": [
        "#2\n",
        "\n",
        "El **Teorema de Laplace** es un método para calcular el determinante de una matriz cuadrada, particularmente útil para matrices de orden mayor a 2. Este teorema se basa en la expansión del determinante por los elementos de una fila o una columna cualquiera.\n",
        "\n",
        "\n",
        "\n",
        "$$\n",
        "\\det(A) = \\sum_{j=1}^n (-1)^{1+j} a_{1j} M_{1j}\n",
        "$$\n",
        "\n",
        "donde:\n",
        "- $a_{1j}$ es el elemento de la primera fila y columna $j$.\n",
        "- $M_{1j}$ es el menor asociado al elemento $a_{1j}$, es decir, el determinante de la submatriz de $3 \\times 3$ que se obtiene al eliminar la fila 1 y la columna $j$.\n",
        "- $(-1)^{1+j}$ es el signo correspondiente al cofactor del elemento $a_{1j}$.\n",
        "\n",
        "Podemos realizar una función recursiva para el cálculo del determinante, sabiendo que el valor del determinante de una matriz de orden uno es el único elemento de esa matriz, y el de una matriz de orden superior a uno es la suma de cada uno de los elementos de una fila o columna por los Adjuntos a ese elemento, como en la función recursiva se emplea la misma función definida el cálculo lo haremos por Menor complementario, un ejemplo desarrollado por la primera fila sería:\n",
        "\n",
        "$$\n",
        "   \\det (A_{j,j}) =\n",
        "   \\left \\{\n",
        "   \\begin{array}{llcl}\n",
        "      si & j = 1 & \\to & a_{1,1} \\\\\n",
        "                                 \\\\\n",
        "      si & j > 1 & \\to & \\displaystyle \\sum_{k=1}^j \\; (-1)^{(1+k)} \\cdot a_{1,k} \\cdot \\det( \\alpha_{1,k})\n",
        "   \\end{array}\n",
        "   \\right .\n",
        "$$\n",
        "\n",
        "Realice una función que encuentre el determinante de una matriz usando la recursividad aqui planteada, explique explicitamente su código"
      ],
      "metadata": {
        "id": "ibYf2I9T2pIw"
      }
    },
    {
      "cell_type": "code",
      "source": [
        "def determinante_laplace(matriz):\n",
        "    matriz = np.array(matriz)\n",
        "\n",
        "    if matriz.shape[0] != matriz.shape[1]:\n",
        "        raise ValueError('La matriz debe ser cuadrada')\n",
        "\n",
        "    n = matriz.shape[0]\n",
        "\n",
        "    if n == 1:\n",
        "        return matriz[0, 0]\n",
        "\n",
        "\n",
        "    if n == 2:\n",
        "        return matriz[0, 0]*matriz[1, 1] - matriz[0, 1]*matriz[1, 0]\n",
        "\n",
        "\n",
        "    det = 0\n",
        "    for j in range(n):\n",
        "        signo = (-1) ** (1 + (j + 1))\n",
        "        submatriz = np.delete(np.delete(matriz, 0, axis=0), j, axis=1)\n",
        "        cofactor = signo * matriz[0, j] * determinante_laplace(submatriz)\n",
        "        det += cofactor\n",
        "\n",
        "    return det"
      ],
      "metadata": {
        "id": "-8tYERLHtrtY"
      },
      "execution_count": 7,
      "outputs": []
    },
    {
      "cell_type": "code",
      "source": [
        "L = ([[4, 5, 2],\n",
        "    [6, 7, 3],\n",
        "    [5, 6, 5]])\n",
        "\n",
        "determinante_laplace(L)\n"
      ],
      "metadata": {
        "colab": {
          "base_uri": "https://localhost:8080/"
        },
        "id": "O26K7nItWUMg",
        "outputId": "86863c6e-6414-4b4c-f6f8-a139ff1bedcd"
      },
      "execution_count": 10,
      "outputs": [
        {
          "output_type": "execute_result",
          "data": {
            "text/plain": [
              "np.int64(-5)"
            ]
          },
          "metadata": {},
          "execution_count": 10
        }
      ]
    },
    {
      "cell_type": "code",
      "source": [
        "det_L = np.linalg.det(L)\n",
        "det_L"
      ],
      "metadata": {
        "colab": {
          "base_uri": "https://localhost:8080/"
        },
        "id": "QU1ezp5VXA9n",
        "outputId": "1f131a69-ba5f-4113-edc4-ad61f971c613"
      },
      "execution_count": 16,
      "outputs": [
        {
          "output_type": "execute_result",
          "data": {
            "text/plain": [
              "np.float64(-5.000000000000008)"
            ]
          },
          "metadata": {},
          "execution_count": 16
        }
      ]
    },
    {
      "cell_type": "markdown",
      "source": [
        "#3 Método de Gauss - Seidel\n",
        "\n",
        "Sea \\$A\\in\\mathbb{R}^{n\\times n}\\$ no singular y sea \\$b\\in\\mathbb{R}^n\\$.\n",
        "Descomponga \\$A\\$ como\n",
        "\n",
        "$$\n",
        "A \\;=\\; D \\;+\\; L \\;+\\; U,\n",
        "$$\n",
        "\n",
        "donde\n",
        "\n",
        "* \\$D\\$ es la matriz diagonal de \\$A\\$,\n",
        "* \\$L\\$ es la parte estrictamente triangular inferior,\n",
        "* \\$U\\$ es la parte estrictamente triangular superior.\n",
        "\n",
        "El algoritmo de Gauss - Seidel reorganiza el sistema \\$Ax=b\\$ como\n",
        "\n",
        "$$\n",
        "x \\;=\\; (D+L)^{-1}\\bigl(b \\;-\\; Ux\\bigr),\n",
        "$$\n",
        "\n",
        "y genera la sucesión\n",
        "\n",
        "$$\n",
        "x_i^{(k+1)}\n",
        "= \\frac{1}{a_{ii}}\n",
        "\\Bigl(b_i - \\sum_{j<i} a_{ij}\\,x_j^{(k+1)} - \\sum_{j>i} a_{ij}\\,x_j^{(k)}\\Bigr),\n",
        "\\qquad i=1,\\dots,n.\n",
        "$$\n",
        "\n",
        "Implemente una función `gauss_seidel(A, b, tol=1e-7, max_iter=100)` que:\n",
        "   * Realice las iteraciones hasta que\n",
        "     $\\lVert x^{(k+1)}-x^{(k)}\\rVert_\\infty<\\text{tol}$\n",
        "     o se alcance `max_iter`;\n",
        "   * devuelva el vector solución aproximado \\$x\\$, el número de iteraciones realizadas y la norma del último residuo.\n",
        "\n",
        "Incluya una documentación clara.\n",
        "\n",
        "Luego,\n",
        "\n",
        "   * Genere una matriz aleatoria \\$5\\times5\\$ (por ejemplo, con `np.random.rand`) y un vector \\$b\\$ aleatorio.\n",
        "   * Resuelva \\$Ax=b\\$ con su función; calcule el error relativo frente a `numpy.linalg.solve`.\n",
        "   * Estime igualmente el error respecto a la solución obtenida mediante \\$x=A^{-1}b\\$ (usando `numpy.linalg.inv`).\n",
        "   * Presente las normas de los residuos y los errores relativos."
      ],
      "metadata": {
        "id": "fTSweDGhnAUN"
      }
    },
    {
      "cell_type": "code",
      "source": [
        "def gauss_seidel(A, b, tol=1e-7, max_iter=100):\n",
        "    '''\n",
        "    Resuelve el sistema Ax = b mediante el método de Gauss-Seidel.\n",
        "\n",
        "    Entrada:\n",
        "        A: matriz cuadrada no singular de tamaño n x n\n",
        "        b: vector columna de tamaño n\n",
        "\n",
        "  Retorna:\n",
        "        x: solución\n",
        "        iteraciones (int): número de iteraciones realizadas\n",
        "        residuo (float): norma infinito del último residuo\n",
        "    '''\n",
        "    A = np.array(A, dtype=float)\n",
        "    b = np.array(b, dtype=float).flatten()\n",
        "    n = A.shape[0]\n",
        "    x = np.zeros_like(b)\n",
        "    x_copia = np.copy(x)\n",
        "\n",
        "    for k in range(max_iter):\n",
        "        for i in range(n):\n",
        "            suma1 = sum(A[i, j] * x_copia[j] for j in range(i))\n",
        "            suma2 = sum(A[i, j] * x[j] for j in range(i + 1, n))\n",
        "            x_copia[i] = (1 / A[i, i]) * (b[i] - suma1 - suma2)\n",
        "\n",
        "        if np.linalg.norm(x_copia - x, ord=np.inf) < tol:\n",
        "            break\n",
        "        x = np.copy(x_copia)\n",
        "\n",
        "    residuo = np.linalg.norm(b - A @ x_copia, ord=np.inf)\n",
        "    return x_copia, k + 1, residuo"
      ],
      "metadata": {
        "id": "xXuUhfjznlnO"
      },
      "execution_count": 4,
      "outputs": []
    },
    {
      "cell_type": "markdown",
      "source": [
        "#4 Método de potencias para el valor propio dominante\n",
        "\n",
        "Sea \\$A\\in\\mathbb{R}^{n\\times n}\\$ diagonalizable con valor propio dominante \\$\\lambda\\_{\\max}\\$ (en magnitud) y vector propio asociado \\$v\\_{\\max}\\$.\n",
        "\n",
        "El método de potencias genera, a partir de un vector inicial \\$q^{(0)}\\neq 0\\$, la sucesión\n",
        "\n",
        "$$\n",
        "q^{(k+1)} \\;=\\; \\frac{A\\,q^{(k)}}{\\lVert A\\,q^{(k)}\\rVert_2},\n",
        "\\qquad\n",
        "\\lambda^{(k+1)} \\;=\\; (q^{(k+1)})^{\\!\\top} A\\, q^{(k+1)},\n",
        "$$\n",
        "\n",
        "que converge a \\$v\\_{\\max}/\\lVert v\\_{\\max}\\rVert\\_2\\$ y a \\$\\lambda\\_{\\max}\\$ respectivamente, bajo hipótesis estándar.\n",
        "\n",
        "Implemente `power_method(A, tol=1e-7, max_iter=1000)` que:\n",
        "\n",
        "   * Acepte matrices reales cuadradas,\n",
        "   * Devuelva \\$\\lambda\\_{\\max}\\$, el vector propio normalizado \\$v\\_{\\max}\\$, el número de iteraciones y la última variación relativa de \\$\\lambda\\$,\n",
        "   * detenga la iteración cuando\n",
        "     $\\bigl|\\lambda^{(k+1)}-\\lambda^{(k)}\\bigr|<\\text{tol}\\,|\\lambda^{(k+1)}|$\n",
        "     o se alcance `max_iter`.\n",
        "\n",
        "Luego,\n",
        "   * Genere una matriz simétrica aleatoria \\$6\\times6\\$ (por ejemplo, \\$A = (M+M^\\top)/2\\$ con \\$M\\$ aleatoria).\n",
        "   * Aplique su `power_method` y compare \\$\\lambda\\_{\\max}\\$ y \\$v\\_{\\max}\\$ con los resultados de `numpy.linalg.eig`."
      ],
      "metadata": {
        "id": "REVJcqYtnmM-"
      }
    },
    {
      "cell_type": "code",
      "source": [
        "def power_method(A, tol=1e-7, max_iter=1000):\n",
        "    '''\n",
        "    Método de potencias\n",
        "\n",
        "    Entrada:\n",
        "        A: matriz cuadrada real (n x n)\n",
        "\n",
        "    Retorna:\n",
        "        lambda_max: valor propio\n",
        "        v_max: vector propio normalizado\n",
        "    '''\n",
        "    A = np.array(A, dtype=float)\n",
        "    n = A.shape[0]\n",
        "\n",
        "    q = np.random.rand(n)\n",
        "    q = q / np.linalg.norm(q)\n",
        "\n",
        "    lambda_0 = 0\n",
        "\n",
        "    for k in range(1, max_iter + 1):\n",
        "        z = A @ q\n",
        "        q = z / np.linalg.norm(z)\n",
        "        lambda_nuevo = q @ A @ q\n",
        "\n",
        "        # Criterio de convergencia\n",
        "        rel_diff = abs(lambda_nuevo - lambda_0) / abs(lambda_nuevo)\n",
        "\n",
        "        if rel_diff < tol:\n",
        "            break\n",
        "\n",
        "        lambda_0 = lambda_nuevo\n",
        "\n",
        "    return lambda_nuevo, q, k, rel_diff"
      ],
      "metadata": {
        "id": "lPzFAOE7obZY"
      },
      "execution_count": 5,
      "outputs": []
    },
    {
      "cell_type": "code",
      "source": [
        "power_method(L)"
      ],
      "metadata": {
        "colab": {
          "base_uri": "https://localhost:8080/"
        },
        "id": "muWUhH2xDPRM",
        "outputId": "d40bd0d6-38cb-4e28-e37d-2ceadd5eeab7"
      },
      "execution_count": 11,
      "outputs": [
        {
          "output_type": "execute_result",
          "data": {
            "text/plain": [
              "(np.float64(14.216775863506818),\n",
              " array([0.43407369, 0.62898917, 0.64494392]),\n",
              " 8,\n",
              " np.float64(2.4122989324317236e-08))"
            ]
          },
          "metadata": {},
          "execution_count": 11
        }
      ]
    },
    {
      "cell_type": "markdown",
      "source": [
        "#5\n",
        "\n",
        "Verifique que cualquier matriz hermitiana de 2 × 2 $ L $ puede escribirse como una suma de cuatro términos:\n",
        "\n",
        "$$ L = a\\sigma_x + b\\sigma_y + c\\sigma_z + dI $$\n",
        "\n",
        "donde $ a $, $ b $, $ c $ y $ d $ son números reales.\n",
        "\n",
        "Las cuatro matrices de Pauli son:\n",
        "\n",
        "$$ \\sigma_x = \\begin{pmatrix} 0 & 1 \\\\ 1 & 0 \\end{pmatrix}, \\quad \\sigma_y = \\begin{pmatrix} 0 & -i \\\\ i & 0 \\end{pmatrix}, \\quad \\sigma_z = \\begin{pmatrix} 1 & 0 \\\\ 0 & -1 \\end{pmatrix}, \\quad I = \\begin{pmatrix} 1 & 0 \\\\ 0 & 1 \\end{pmatrix} $$\n",
        "\n",
        "\n"
      ],
      "metadata": {
        "id": "iggu2jNwVpnK"
      }
    },
    {
      "cell_type": "code",
      "source": [
        "sigma_x = np.array([[0, 1], [1, 0]], dtype=complex)\n",
        "sigma_y = np.array([[0, -1j], [1j, 0]], dtype=complex)\n",
        "sigma_z = np.array([[1, 0], [0, -1]], dtype=complex)\n",
        "I = np.eye(2, dtype=complex)\n",
        "\n",
        "\n",
        "\n",
        "p, q = np.random.rand(2)\n",
        "u, v = np.random.rand(2)\n",
        "L = np.array([[p, u + 1j*v],\n",
        "              [u - 1j*v, q]], dtype=complex)\n",
        "\n",
        "\n",
        "a = 0.5 * np.trace(L @ sigma_x).real\n",
        "b = 0.5 * np.trace(L @ sigma_y).real\n",
        "c = 0.5 * np.trace(L @ sigma_z).real\n",
        "d = 0.5 * np.trace(L @ I).real\n",
        "\n",
        "\n",
        "L_nueva = a*sigma_x + b*sigma_y + c*sigma_z + d*I\n",
        "\n",
        "\n",
        "print('Matriz original L:')\n",
        "print(np.round(L, 4))\n",
        "\n",
        "print('Coeficientes:')\n",
        "print(f'a = {a:.4f}, b = {b:.4f}, c = {c:.4f}, d = {d:.4f}')\n",
        "\n",
        "print('Matriz Nueva L')\n",
        "print(np.round(L_nueva, 4))\n",
        "\n",
        "\n",
        "diff_norm = np.linalg.norm(L - L_nueva)\n",
        "print(f'Error absoluto: {diff_norm:.2e}')\n"
      ],
      "metadata": {
        "id": "8WN9_cOCV7cM",
        "colab": {
          "base_uri": "https://localhost:8080/"
        },
        "outputId": "93fcf59f-8d05-4bac-ef76-dda5d9e669b4"
      },
      "execution_count": 17,
      "outputs": [
        {
          "output_type": "stream",
          "name": "stdout",
          "text": [
            "Matriz original L:\n",
            "[[0.9158+0.j     0.1061+0.6268j]\n",
            " [0.1061-0.6268j 0.6399+0.j    ]]\n",
            "Coeficientes:\n",
            "a = 0.1061, b = -0.6268, c = 0.1380, d = 0.7778\n",
            "Matriz Nueva L\n",
            "[[0.9158+0.j     0.1061+0.6268j]\n",
            " [0.1061-0.6268j 0.6399+0.j    ]]\n",
            "Error absoluto: 0.00e+00\n"
          ]
        }
      ]
    },
    {
      "cell_type": "markdown",
      "source": [
        "# 6\n",
        "\n",
        "Haga un breve resumen en Markdown de las funciones y métodos más relevantes para algebra lineal usando Python. Emplee ejemplos."
      ],
      "metadata": {
        "id": "GnCw5_O5pMxl"
      }
    },
    {
      "cell_type": "code",
      "source": [
        "print('1. Crear vectores y matrices')\n",
        "v = np.array([1, 2, 3])         # Vector fila\n",
        "A = np.array([[1, 2], [3, 4]])  # Matriz 2x2\n",
        "print(f'Vector v: {v}')\n",
        "print(f'Matriz A:\\n {A}')\n",
        "\n",
        "print('\\n2. Suma y resta de matrices')\n",
        "B = np.array([[5, 6], [7, 8]])\n",
        "print(f'Matriz B:\\n {B}')\n",
        "print(f'A + B =\\n {A + B}')\n",
        "print(f'A - B =\\n {A - B}')\n",
        "\n",
        "print('\\n3. Multiplicación de matrices')\n",
        "C = np.dot(A, B)  # o A @ B\n",
        "print(f'A * B =\\ {C}')\n",
        "\n",
        "print('\\n4. Producto matriz por vector')\n",
        "v2 = np.array([1, 2])\n",
        "resultado = np.dot(A, v2)\n",
        "print(f'A * v2 = {resultado}')\n",
        "\n",
        "print('\\n 5. Transpuesta de una matriz')\n",
        "print(f'A^T =\\n {A.T}')\n",
        "\n",
        "print('\\n6. Inversa de una matriz')\n",
        "A_inv = np.linalg.inv(A)\n",
        "print(f'A = {A}\\n A⁻¹ = {A_inv}')\n",
        "\n",
        "print('\\n 7. Determinante de una matriz')\n",
        "det_A = np.linalg.det(A)\n",
        "print(f'det(A) = {det_A:3f}')\n",
        "\n",
        "print('\\n8. Autovalores y autovectores')\n",
        "valores, vectores = np.linalg.eig(A)\n",
        "print(f'Autovalores: {valores}')\n",
        "print(f'Autovectores (columnas):\\n {vectores}')\n",
        "\n",
        "print('\\n 9. Resolver sistema de ecuaciones Ax = b')\n",
        "A_ejem = np.array([[2, 1], [1, 3]])\n",
        "b = np.array([8, 13])\n",
        "x = np.linalg.solve(A_ejem, b)\n",
        "print(f'Solución x: {x}')\n",
        "\n",
        "print('\\n10. Norma de un vector')\n",
        "vec = np.array([3, 4])\n",
        "norma = np.linalg.norm(vec)\n",
        "print(f'Norma de [3, 4] = {norma}')\n"
      ],
      "metadata": {
        "id": "djdVPgpoparm",
        "colab": {
          "base_uri": "https://localhost:8080/"
        },
        "outputId": "12a4964b-a3ea-4be4-c009-86ce1d0048c8"
      },
      "execution_count": 21,
      "outputs": [
        {
          "output_type": "stream",
          "name": "stdout",
          "text": [
            "1. Crear vectores y matrices\n",
            "Vector v: [1 2 3]\n",
            "Matriz A:\n",
            " [[1 2]\n",
            " [3 4]]\n",
            "\n",
            "2. Suma y resta de matrices\n",
            "Matriz B:\n",
            " [[5 6]\n",
            " [7 8]]\n",
            "A + B =\n",
            " [[ 6  8]\n",
            " [10 12]]\n",
            "A - B =\n",
            " [[-4 -4]\n",
            " [-4 -4]]\n",
            "\n",
            "3. Multiplicación de matrices\n",
            "A * B =\\ [[19 22]\n",
            " [43 50]]\n",
            "\n",
            "4. Producto matriz por vector\n",
            "A * v2 = [ 5 11]\n",
            "\n",
            " 5. Transpuesta de una matriz\n",
            "A^T =\n",
            " [[1 3]\n",
            " [2 4]]\n",
            "\n",
            "6. Inversa de una matriz\n",
            "A = [[1 2]\n",
            " [3 4]]\n",
            " A⁻¹ = [[-2.   1. ]\n",
            " [ 1.5 -0.5]]\n",
            "\n",
            " 7. Determinante de una matriz\n",
            "det(A) = -2.000000\n",
            "\n",
            "8. Autovalores y autovectores\n",
            "Autovalores: [-0.37228132  5.37228132]\n",
            "Autovectores (columnas):\n",
            " [[-0.82456484 -0.41597356]\n",
            " [ 0.56576746 -0.90937671]]\n",
            "\n",
            " 9. Resolver sistema de ecuaciones Ax = b\n",
            "Solución x: [2.2 3.6]\n",
            "\n",
            "10. Norma de un vector\n",
            "Norma de [3, 4] = 5.0\n"
          ]
        }
      ]
    },
    {
      "cell_type": "code",
      "source": [],
      "metadata": {
        "id": "n74HlcpyEgZV"
      },
      "execution_count": null,
      "outputs": []
    }
  ]
}