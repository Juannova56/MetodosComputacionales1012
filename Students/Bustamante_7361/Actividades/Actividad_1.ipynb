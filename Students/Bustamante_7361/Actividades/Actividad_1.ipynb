{
  "metadata": {
    "kernelspec": {
      "name": "python3",
      "display_name": "Python 3 (ipykernel)",
      "language": "python"
    },
    "language_info": {
      "name": "python",
      "version": "3.10.16",
      "mimetype": "text/x-python",
      "codemirror_mode": {
        "name": "ipython",
        "version": 3
      },
      "pygments_lexer": "ipython3",
      "nbconvert_exporter": "python",
      "file_extension": ".py"
    },
    "colab": {
      "provenance": []
    }
  },
  "nbformat_minor": 0,
  "nbformat": 4,
  "cells": [
    {
      "cell_type": "markdown",
      "source": [
        "# Actividad: Introducción a Python (sin librerías)\n",
        "\n",
        "---"
      ],
      "metadata": {
        "id": "ym3QAv5yfZSO"
      }
    },
    {
      "cell_type": "markdown",
      "source": [
        "## Problema 1: Números primos entre 2 y 50 con la Criba de Eratóstenes\n",
        "\n",
        "La **Criba de Eratóstenes** es un método eficiente para encontrar todos los números primos menores que un número dado. El algoritmo consiste en:\n",
        "\n",
        "1. Crear una lista de valores booleanos para representar los números del 2 al 50, todos inicialmente marcados como verdaderos.\n",
        "2. Comenzando desde el primer número primo (2), eliminar todos sus múltiplos (marcándolos como falsos).\n",
        "3. Repetir el proceso para el siguiente número no eliminado.\n",
        "4. Los números que permanezcan marcados como verdaderos son primos.\n",
        "\n",
        "Usando funciones, implementa este método y muestra en pantalla todos los números primos entre 2 y 50.\n",
        "\n"
      ],
      "metadata": {
        "id": "W0C9oNGXfwDj"
      }
    },
    {
      "cell_type": "code",
      "source": [
        "#Aqui va su código\n",
        "def criba_eratostenes(inicio, limite):\n",
        "    '''\n",
        "    Numeros primos\n",
        "    '''\n",
        "    es_primo = [True] * (limite - inicio + 1)\n",
        "\n",
        "    for i in range(len(es_primo)):\n",
        "        numero = i + 2\n",
        "        if es_primo[i]:\n",
        "            for multiplo in range(numero * 2, limite + 1, numero):\n",
        "                es_primo[multiplo - 2] = False\n",
        "\n",
        "    print (es_primo)"
      ],
      "metadata": {
        "id": "GIk3OsqxfZ50",
        "trusted": true
      },
      "outputs": [],
      "execution_count": null
    },
    {
      "cell_type": "code",
      "source": [
        "criba_eratostenes(2,50)"
      ],
      "metadata": {
        "trusted": true,
        "id": "TIdvSN7T1lFy",
        "outputId": "18fc99b4-8e64-490e-bf58-87e96e062ad5"
      },
      "outputs": [
        {
          "name": "stdout",
          "text": "[True, True, False, True, False, True, False, False, False, True, False, True, False, False, False, True, False, True, False, False, False, True, False, False, False, False, False, True, False, True, False, False, False, False, False, True, False, False, False, True, False, True, False, False, False, True, False, False, False]\n",
          "output_type": "stream"
        }
      ],
      "execution_count": null
    },
    {
      "cell_type": "markdown",
      "source": [
        "## Problema 2: Aproximación de π usando la serie de Leibniz\n",
        "\n",
        "La serie de Leibniz es una forma sencilla de aproximar el valor de π:\n",
        "\n",
        "$$\n",
        "\\pi \\approx 4 \\sum_{n=0}^{N} \\frac{(-1)^n}{2n + 1}\n",
        "$$\n",
        "\n",
        "Implementa una función que realice este calculo y muestra la aproximación para distintos valores de $N$ (por ejemplo: 10, 100, 1000, 10000)."
      ],
      "metadata": {
        "id": "WzI-FhIWf2iJ"
      }
    },
    {
      "cell_type": "code",
      "source": [
        "#Aqui va su código\n",
        "def aprox_pi(N):\n",
        "    '''\n",
        "    Aproximacion del valor de pi\n",
        "    '''\n",
        "    suma = 0\n",
        "    for n in range(N):\n",
        "        suma += (-1)**n / (2 * n + 1)\n",
        "    return 4 * suma\n",
        "\n",
        "print(f'La aproximacion para N=10 es: {aprox_pi(10)}')\n",
        "print(f'La aproximacion para N=100 es: {aprox_pi(100)}')\n",
        "print(f'La aproximacion para N=1000 es: {aprox_pi(1000)}')\n",
        "print(f'La aproximacion para N=10000 es: {aprox_pi(10000)}')"
      ],
      "metadata": {
        "id": "DfVwDvrRf7Fz",
        "trusted": true,
        "outputId": "de056f1b-10f7-480d-cded-6bcb1569a685"
      },
      "outputs": [
        {
          "name": "stdout",
          "text": "La aproximacion para N=10 es: 3.0418396189294032\nLa aproximacion para N=100 es: 3.1315929035585537\nLa aproximacion para N=1000 es: 3.140592653839794\nLa aproximacion para N=10000 es: 3.1414926535900345\n",
          "output_type": "stream"
        }
      ],
      "execution_count": null
    },
    {
      "cell_type": "markdown",
      "source": [
        "## Problema 3: Números amigos en un rango dado\n",
        "\n",
        "Dos números naturales $a$ y $b$ se llaman **números amigos** si la suma de los divisores propios (excluyendo el número mismo) de $a$ es igual a $b$, y viceversa.\n",
        "\n",
        "Por ejemplo, 220 y 284 son números amigos porque:\n",
        "- Los divisores propios de 220 son: 1, 2, 4, 5, 10, 11, 20, 22, 44, 55, 110 → suma: 284\n",
        "- Los divisores propios de 284 son: 1, 2, 4, 71, 142 → suma: 220\n",
        "\n",
        "Escribe un programa que encuentre todos los pares de números amigos en un rango dado por el usuario (por ejemplo, entre 1 y 10000)."
      ],
      "metadata": {
        "id": "Z1-gsRbNf7jy"
      }
    },
    {
      "cell_type": "code",
      "source": [
        "#Aqui va su código\n",
        "def suma_divisores(n):\n",
        "    '''\n",
        "    Funcion para calcular primero la suma de los divisores\n",
        "    '''\n",
        "    if n == 1:\n",
        "        return 0\n",
        "    suma = 1\n",
        "    for i in range(2, n-1):\n",
        "        if n % i == 0:\n",
        "            suma += i\n",
        "    return suma"
      ],
      "metadata": {
        "id": "m87mKCXlgGjN",
        "trusted": true
      },
      "outputs": [],
      "execution_count": null
    },
    {
      "cell_type": "code",
      "source": [
        "suma_divisores(220)"
      ],
      "metadata": {
        "trusted": true,
        "id": "TmlpmFGz1lF2",
        "outputId": "077cee41-4a6f-4737-e723-1d1ac575bcb0"
      },
      "outputs": [
        {
          "execution_count": 20,
          "output_type": "execute_result",
          "data": {
            "text/plain": "284"
          },
          "metadata": {}
        }
      ],
      "execution_count": null
    },
    {
      "cell_type": "code",
      "source": [
        "def numeros_amigos(x, n):\n",
        "    '''\n",
        "    Pares de numeros amigos\n",
        "    '''\n",
        "    amigos = set()\n",
        "    for a in range(x, n+1):\n",
        "        b = suma_divisores(a)\n",
        "\n",
        "        if (x <= b <= n and suma_divisores(b) == a and b<a):\n",
        "            amigos.add((a,b))\n",
        "\n",
        "    return sorted(amigos)\n"
      ],
      "metadata": {
        "trusted": true,
        "id": "K-DZfuFZ1lF3"
      },
      "outputs": [],
      "execution_count": null
    },
    {
      "cell_type": "code",
      "source": [
        "numeros_amigos(1, 10000)"
      ],
      "metadata": {
        "trusted": true,
        "id": "xl5g0Ra61lF4",
        "outputId": "23eb9c4e-fc46-4fd9-f834-cfe613a59cad"
      },
      "outputs": [
        {
          "execution_count": 31,
          "output_type": "execute_result",
          "data": {
            "text/plain": "[(284, 220), (1210, 1184), (2924, 2620), (5564, 5020), (6368, 6232)]"
          },
          "metadata": {}
        }
      ],
      "execution_count": null
    },
    {
      "cell_type": "markdown",
      "source": [
        "\n",
        "## Problema 4: Contador de frecuencias de letras en una palabra\n",
        "\n",
        "Escribe un programa que lea una palabra ingresada por el usuario y construya un diccionario donde cada clave sea una letra de la palabra, y el valor asociado sea la cantidad de veces que esa letra aparece. Imprime el resultado.\n"
      ],
      "metadata": {
        "id": "ASKmJNuBgHIp"
      }
    },
    {
      "cell_type": "code",
      "source": [
        "#Aqui va su codigo\n",
        "palabra = input(\"Ingresa una palabra: \")\n",
        "contador = {}\n",
        "for letra in palabra:\n",
        "    if letra in contador:\n",
        "        contador[letra] += 1\n",
        "    else:\n",
        "        contador[letra] = 1\n",
        "\n",
        "print(\"Conteo de letras:\", contador)\n",
        "\n",
        ""
      ],
      "metadata": {
        "id": "klMGSddPgUQ5",
        "trusted": true,
        "outputId": "ec7f4931-7981-4f1d-86eb-bbcf2a6412dd"
      },
      "outputs": [
        {
          "output_type": "stream",
          "name": "stdin",
          "text": "Ingresa una palabra:  jootaa\n"
        },
        {
          "name": "stdout",
          "text": "Conteo de letras: {'j': 1, 'o': 2, 't': 1, 'a': 2}\n",
          "output_type": "stream"
        }
      ],
      "execution_count": null
    },
    {
      "cell_type": "code",
      "source": [],
      "metadata": {
        "trusted": true,
        "id": "6oGTjdyu1lF5"
      },
      "outputs": [],
      "execution_count": null
    }
  ]
}