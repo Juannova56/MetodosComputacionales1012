{
  "metadata": {
    "kernelspec": {
      "name": "python3",
      "display_name": "Python 3 (ipykernel)",
      "language": "python"
    },
    "language_info": {
      "name": "python",
      "version": "3.10.16",
      "mimetype": "text/x-python",
      "codemirror_mode": {
        "name": "ipython",
        "version": 3
      },
      "pygments_lexer": "ipython3",
      "nbconvert_exporter": "python",
      "file_extension": ".py"
    },
    "colab": {
      "provenance": []
    }
  },
  "nbformat_minor": 5,
  "nbformat": 4,
  "cells": [
    {
      "id": "5833cba4",
      "cell_type": "markdown",
      "source": [
        "# Laboratorio 02: Representación Numérica, Errores y Estabilidad.\n",
        "\n",
        "---\n",
        "### Profesor: Daniel Ruiz Mejía\n",
        "### Nombre: Juan Jose Bustamante Guiral\n",
        "*Métodos computacionales 2025-I*\n",
        "\n",
        "---"
      ],
      "metadata": {
        "id": "5833cba4"
      }
    },
    {
      "id": "204306de",
      "cell_type": "markdown",
      "source": [
        "# 1.\n",
        "Cree una función llamada `myint` pero que a partir de un número binario con base de 16 bits encuentre el entero correspondiente. Compare su resultado con `int(0b1000011100001)`"
      ],
      "metadata": {
        "id": "204306de"
      }
    },
    {
      "id": "6b0117ca",
      "cell_type": "code",
      "source": [
        "#Aquí va su código\n",
        "def myint(binario):\n",
        "    \"\"\"\n",
        "    Convierte un número binario (cadena de 16 bits) a su valor entero.\n",
        "    \"\"\"\n",
        "    resultado = 0\n",
        "    longitud = len(binario)\n",
        "\n",
        "    for i in range(longitud):\n",
        "        bit = int(binario[i])  # Convertimos el carácter '0' o '1' a número\n",
        "        potencia = longitud - 1 - i\n",
        "        resultado += bit * (2 ** potencia)\n",
        "\n",
        "    return resultado"
      ],
      "metadata": {
        "trusted": false,
        "id": "6b0117ca"
      },
      "outputs": [],
      "execution_count": 1
    },
    {
      "cell_type": "code",
      "source": [
        "myint(\"1000011100001\")"
      ],
      "metadata": {
        "colab": {
          "base_uri": "https://localhost:8080/"
        },
        "id": "61wUJVO1DfGR",
        "outputId": "5da5b57a-f92d-40ac-816f-ca8b34853d09"
      },
      "id": "61wUJVO1DfGR",
      "execution_count": 2,
      "outputs": [
        {
          "output_type": "execute_result",
          "data": {
            "text/plain": [
              "4321"
            ]
          },
          "metadata": {},
          "execution_count": 2
        }
      ]
    },
    {
      "cell_type": "code",
      "source": [
        "int(0b1000011100001)"
      ],
      "metadata": {
        "colab": {
          "base_uri": "https://localhost:8080/"
        },
        "id": "Jug5e7ggDkh4",
        "outputId": "fd2ebb61-0207-4a8d-ab76-3c0559faaa5b"
      },
      "id": "Jug5e7ggDkh4",
      "execution_count": 3,
      "outputs": [
        {
          "output_type": "execute_result",
          "data": {
            "text/plain": [
              "4321"
            ]
          },
          "metadata": {},
          "execution_count": 3
        }
      ]
    },
    {
      "id": "bb956b56",
      "cell_type": "markdown",
      "source": [
        "# 2.\n",
        "Generar una función llamada `number64` para flotantes de precisión doble (64bits) donde a partir de un número binario encuentre el valor real. Compruebe su solución usando\n",
        "\n",
        "```\n",
        "number64(\"0100000000111011100100001111111111111111111111111111111111111111\")\n",
        "```"
      ],
      "metadata": {
        "id": "bb956b56"
      }
    },
    {
      "id": "8d675a1e",
      "cell_type": "code",
      "source": [
        "#Aquí va su código\n",
        "def number64(binario):\n",
        "    '''\n",
        "    Convierte una cadena de 64 bits a un número flotante de doble precisión.\n",
        "    '''\n",
        "    if len(binario) != 64:\n",
        "        raise ValueError(\"El número binario debe tener exactamente 64 bits.\")\n",
        "\n",
        "    # Obtener el signo\n",
        "    signo_bit = binario[0]\n",
        "    signo = -1 if signo_bit == '1' else 1\n",
        "\n",
        "    # Obtener el exponente\n",
        "    exponente_bits = binario[1:12]\n",
        "    exponente = int(exponente_bits, 2) - 1023  # Restar el 1023\n",
        "\n",
        "    # Obtener la mantisa\n",
        "    mantisa_bits = binario[12:]\n",
        "    mantisa = 1  # Iniciar con el 1 implícito\n",
        "    for i, bit in enumerate(mantisa_bits):\n",
        "        if bit == '1':\n",
        "            mantisa += 2 ** -(i + 1)\n",
        "\n",
        "    # Calcular el valor final\n",
        "    numero = signo * mantisa * (2 ** exponente)\n",
        "    return numero\n"
      ],
      "metadata": {
        "trusted": false,
        "id": "8d675a1e"
      },
      "outputs": [],
      "execution_count": 4
    },
    {
      "cell_type": "code",
      "source": [
        "number64(\"0100000000111011100100001111111111111111111111111111111111111111\")"
      ],
      "metadata": {
        "colab": {
          "base_uri": "https://localhost:8080/"
        },
        "id": "BOrPAPZ7SBwj",
        "outputId": "8c2f334e-f71c-4146-b5fd-8deaa54ae4fd"
      },
      "id": "BOrPAPZ7SBwj",
      "execution_count": null,
      "outputs": [
        {
          "output_type": "execute_result",
          "data": {
            "text/plain": [
              "27.566406249999996"
            ]
          },
          "metadata": {},
          "execution_count": 3
        }
      ]
    },
    {
      "id": "a5693385",
      "cell_type": "markdown",
      "source": [
        "# 3. Aproximación de $\\pi$\n",
        "\n",
        "La serie de Maclaurin para la función tangente inversa converge en $-1 < x \\leq 1$ y está dada por:\n",
        "\n",
        "$$\n",
        "\\arctan x = \\lim_{n \\to \\infty} P_n(x) = \\lim_{n \\to \\infty} \\sum_{i=1}^n (-1)^{i+1} \\frac{x^{2i-1}}{2i-1}\n",
        "$$\n",
        "\n",
        "- **Aproximación básica**\n",
        "    - Utilizando el hecho de que $\\tan(\\pi/4) = 1$, implemente en Python una función que calcule $4P_n(1)$ y determina el número mínimo de términos $n$ necesarios para que $|4P_n(1) - \\pi| < 10^{-3}$. Compare su resultado con el valor de $\\pi$ de la librería math.\n",
        "    - Requiriendo que el valor de $\\pi$ esté dentro de un error de $10^{-4}$. ¿Cuántos términos de la serie se necesitaría sumar para obtener esta precisión? Implemente una solución en Python para encontrar este valor.\n",
        "- **Mejora de la convergencia**\n",
        "    El método anterior puede mejorarse significativamente usando la identidad:\n",
        "    $$\n",
        "    \\frac{\\pi}{4} = \\arctan\\left(\\frac{1}{2}\\right) + \\arctan\\left(\\frac{1}{3}\\right)\n",
        "    $$\n",
        "    - Implemente en Python una función que evalúe la serie para $\\arctan(1/2)$ y $\\arctan(1/3)$ por separado y luego las sume. Determine el número mínimo de términos necesarios para cada serie (pueden ser diferentes) para aproximar $\\pi$ con un error menor a $10^{-3}$ y $10^{-6}$.\n",
        "\n",
        "- **Método de alta precisión**\n",
        "    Para obtener una convergencia aún más rápida, usamos la identidad:\n",
        "    $$\n",
        "    \\frac{\\pi}{4} = 4\\arctan\\left(\\frac{1}{5}\\right) - \\arctan\\left(\\frac{1}{239}\\right)\n",
        "    $$\n",
        "    Desarrolle un programa en Python que implemente esta fórmula y determine:\n",
        "    - El número mínimo de términos necesarios en cada serie para aproximar $\\pi$ con error menor a $10^{-3}$ y $10^{-6}$.\n",
        "    - Compare el rendimiento (número de términos requeridos) con los métodos anteriores.\n",
        "\n"
      ],
      "metadata": {
        "id": "a5693385"
      }
    },
    {
      "cell_type": "code",
      "source": [
        "import math\n",
        "\n",
        "def arctan_series(x, n):\n",
        "    '''\n",
        "    Calcula la serie de Maclaurin para arctan(x) hasta n términos.\n",
        "    '''\n",
        "    resultado = 0\n",
        "    for i in range(1, n + 1):\n",
        "        termino = ((-1)**(i + 1)) * (x**(2*i - 1)) / (2*i - 1)\n",
        "        resultado += termino\n",
        "    return resultado\n",
        "\n",
        "def encontrar_n(x, error_maximo):\n",
        "    '''\n",
        "    Encuentra el número mínimo de términos para una aproximación de arctan(x)\n",
        "    con un error menor que error_maximo.\n",
        "    '''\n",
        "    n = 1\n",
        "    while True:\n",
        "        aproximacion = 4 * arctan_series(x, n)\n",
        "        error = abs(aproximacion - math.pi)\n",
        "        if error < error_maximo:\n",
        "            break\n",
        "        n += 1\n",
        "    return aproximacion, math.pi, n\n",
        "\n"
      ],
      "metadata": {
        "id": "28SdyojFgrRO"
      },
      "id": "28SdyojFgrRO",
      "execution_count": 73,
      "outputs": []
    },
    {
      "cell_type": "code",
      "source": [
        "encontrar_n(1, 1e-3)"
      ],
      "metadata": {
        "colab": {
          "base_uri": "https://localhost:8080/"
        },
        "id": "DydvpS3EkMhY",
        "outputId": "4de43860-8f4c-44d1-d1c6-568ee57274e7"
      },
      "id": "DydvpS3EkMhY",
      "execution_count": 71,
      "outputs": [
        {
          "output_type": "execute_result",
          "data": {
            "text/plain": [
              "(3.140592653839794, 3.141592653589793, 1000)"
            ]
          },
          "metadata": {},
          "execution_count": 71
        }
      ]
    },
    {
      "cell_type": "code",
      "source": [
        "encontrar_n(1, 1e-4)"
      ],
      "metadata": {
        "colab": {
          "base_uri": "https://localhost:8080/"
        },
        "id": "MSMwqXdUkcS4",
        "outputId": "6a0de5d5-6ba4-409e-fd4a-7df95b0979af"
      },
      "id": "MSMwqXdUkcS4",
      "execution_count": 72,
      "outputs": [
        {
          "output_type": "execute_result",
          "data": {
            "text/plain": [
              "(3.1414926535900345, 3.141592653589793, 10000)"
            ]
          },
          "metadata": {},
          "execution_count": 72
        }
      ]
    },
    {
      "cell_type": "code",
      "source": [
        "def encontrar_n_mejorado(error_maximo):\n",
        "    '''\n",
        "    Metodo de convergencia mejorado.\n",
        "    Encuentra el número mínimo de términos para una aproximación de arctan(1/2) y arctan(1/3)\n",
        "    con un error menor que error_maximo.\n",
        "    '''\n",
        "    n = 1\n",
        "    while True:\n",
        "        arctan_1 = arctan_series(1/2, n)\n",
        "        arctan_2 = arctan_series(1/3, n)\n",
        "        pi_aprox = 4 * (arctan_1 + arctan_2)\n",
        "        error = abs(pi_aprox - math.pi)\n",
        "        if error < error_maximo:\n",
        "            break\n",
        "        n += 1\n",
        "    return pi_aprox, n\n",
        "\n"
      ],
      "metadata": {
        "id": "Nnsn1KYnkufV"
      },
      "id": "Nnsn1KYnkufV",
      "execution_count": 77,
      "outputs": []
    },
    {
      "cell_type": "code",
      "source": [
        "encontrar_n_mejorado(1e-3)"
      ],
      "metadata": {
        "colab": {
          "base_uri": "https://localhost:8080/"
        },
        "id": "38Gs-u10lLt6",
        "outputId": "eff9336a-7d13-45a8-bdb3-da8549897ac7"
      },
      "id": "38Gs-u10lLt6",
      "execution_count": 78,
      "outputs": [
        {
          "output_type": "execute_result",
          "data": {
            "text/plain": [
              "(3.1408505617610554, 4)"
            ]
          },
          "metadata": {},
          "execution_count": 78
        }
      ]
    },
    {
      "cell_type": "code",
      "source": [
        "encontrar_n_mejorado(1e-6)"
      ],
      "metadata": {
        "colab": {
          "base_uri": "https://localhost:8080/"
        },
        "id": "5HmsTU9mlRkr",
        "outputId": "3201abb1-9e87-4fb4-f78d-61e3b6537fe7"
      },
      "id": "5HmsTU9mlRkr",
      "execution_count": 79,
      "outputs": [
        {
          "output_type": "execute_result",
          "data": {
            "text/plain": [
              "(3.1415929813345667, 9)"
            ]
          },
          "metadata": {},
          "execution_count": 79
        }
      ]
    },
    {
      "cell_type": "code",
      "source": [
        "def encontrar_n_alta_precision(error_maximo):\n",
        "    '''\n",
        "    Metodo de alta precision.\n",
        "    Encuentra el número mínimo de términos para una aproximación de arctan(1/5) y arctan(1/239)\n",
        "    con un error menor que error_maximo.\n",
        "    '''\n",
        "    n = 1\n",
        "    while True:\n",
        "        arctan_1_5 = arctan_series(1/5, n)\n",
        "        arctan_1_239 = arctan_series(1/239, n)\n",
        "        pi_aprox2 = 4 * (4 * arctan_1_5 - arctan_1_239)\n",
        "        error = abs(pi_aprox2 - math.pi)\n",
        "        if error < error_maximo:\n",
        "            break\n",
        "        n += 1\n",
        "    return pi_aprox2, n\n"
      ],
      "metadata": {
        "id": "VDI_a7Zuluc1"
      },
      "id": "VDI_a7Zuluc1",
      "execution_count": 91,
      "outputs": []
    },
    {
      "cell_type": "code",
      "source": [
        "encontrar_n_alta_precision(1e-3)"
      ],
      "metadata": {
        "colab": {
          "base_uri": "https://localhost:8080/"
        },
        "id": "6GKOpFYDl8NK",
        "outputId": "8ae109b0-4013-48b4-8b49-733638fac12d"
      },
      "id": "6GKOpFYDl8NK",
      "execution_count": 92,
      "outputs": [
        {
          "output_type": "execute_result",
          "data": {
            "text/plain": [
              "(3.1405970293260603, 2)"
            ]
          },
          "metadata": {},
          "execution_count": 92
        }
      ]
    },
    {
      "cell_type": "code",
      "source": [
        "encontrar_n_alta_precision(1e-6)"
      ],
      "metadata": {
        "colab": {
          "base_uri": "https://localhost:8080/"
        },
        "id": "fOzQEDVYl8YW",
        "outputId": "ec600af8-d14c-4ba9-8357-ad83ce3890af"
      },
      "id": "fOzQEDVYl8YW",
      "execution_count": 93,
      "outputs": [
        {
          "output_type": "execute_result",
          "data": {
            "text/plain": [
              "(3.1415917721821773, 4)"
            ]
          },
          "metadata": {},
          "execution_count": 93
        }
      ]
    },
    {
      "id": "ca9640b7",
      "cell_type": "markdown",
      "source": [
        "# 4. Serie Exponencial\n",
        "Considere la serie para $e^{-x}$\n",
        "\n",
        "$$\n",
        "e^{-x}=\\sum_{n=0}^{N}  (-1)^n \\frac{x^{n}}{n!}\n",
        "$$\n",
        "\n",
        "- Calcula la serie para $x \\le 1$ y compárela con la función incorporada `np.exp(x)` (asuma que la función exponencial incorporada es exacta). Elegir un $N$ para el cual el siguiente término en la serie no sea más que $10^{-7}$ de la suma hasta ese punto.\n",
        "\n",
        "$$\n",
        "\\left| \\frac{(-x)^{N+1}}{(N+1)!} \\right | \\le \\left| 10^{-7} \\sum_{N=0}^{N} \\frac{(-x)^{n}}{n!} \\right|\n",
        "$$\n",
        "\n",
        "- Examine los términos de la serie para $x\\approx 10$ y observa las cancelaciones sustractivas significativas que ocurren cuando términos grandes se suman para dar respuestas pequeñas. En particular, imprime la cancelación casi perfecta en $n \\approx x − 1$.\n",
        "\n",
        "- Compruebe si se obtiene una mejor precisión siendo ingenioso y usando $e^{−x} = \\frac{1}{e^x}$ para valores grandes de $x$. Esto elimina la cancelación sustractiva, pero no elimina todos los errores de redondeo.\n",
        "\n",
        "\n",
        "- Incrementando progresivamente $x$ de 1 a 10, y luego de 10 a 100, use el programa para determinar experimentalmente cuándo la serie comienza a perder precisión, y cuándo la serie ya no converge.\n",
        "\n",
        "\n",
        "- Realice una serie de gráficos del error versus $N$ para diferentes valores de $x$."
      ],
      "metadata": {
        "id": "ca9640b7"
      }
    },
    {
      "cell_type": "code",
      "source": [
        "import numpy as np\n",
        "import matplotlib.pyplot as plt\n",
        "import math\n",
        "\n",
        "\n",
        "def serie_exp_negativo(x, N):\n",
        "    '''\n",
        "    Calcula e^(-x) usando la serie de Taylor hasta N términos.\n",
        "    '''\n",
        "    suma = 0\n",
        "    for n in range(N + 1):\n",
        "        termino = ((-1)**n) * (x**n) / math.factorial(n)\n",
        "        suma += termino\n",
        "    return suma\n",
        "\n",
        "import math\n",
        "\n",
        "# Función para imprimir los términos de la serie de e^{-x}\n",
        "def imprimir_terminos(x, N_max):\n",
        "    suma = 0\n",
        "    print(f\"Términos de la serie para e^(-{x}):\")\n",
        "    print(f\"{'n':>2} {'Término':>20} {'Suma parcial':>25}\")\n",
        "\n",
        "    for n in range(N_max + 1):\n",
        "        termino = ((-x)**n) / math.factorial(n)\n",
        "        suma += termino\n",
        "\n",
        "        # Imprime el término y la suma parcial\n",
        "        print(f\"{n:2d} {termino:20.10e} {suma:25.10e}\")\n",
        "\n",
        "        # Destacar si estamos cerca de n ≈ x - 1\n",
        "        if abs(n - (x - 1)) < 1:\n",
        "            print(\"Cancelación significativa cerca de n ≈ x - 1\")\n",
        "\n",
        "    print(f\"\\nValor exacto usando math.exp(-{x}): {math.exp(-x):.10e}\")\n",
        "\n",
        "# Probar con x ≈ 10\n",
        "x = 10\n",
        "N_max = 20\n",
        "\n",
        "imprimir_terminos(x, N_max)\n",
        "\n",
        "\n",
        "\n",
        "def error_relativo(valor_aproximado, valor_real):\n",
        "    '''\n",
        "    Calcula el error relativo entre dos valores.\n",
        "    '''\n",
        "    return abs(valor_aproximado - valor_real) / abs(valor_real)\n",
        "\n",
        "\n",
        "valores_x = [1, 5, 10, 20, 50, 100]\n",
        "N_max = 50\n",
        "\n",
        "for x in valores_x:\n",
        "    errores = []\n",
        "    Ns = list(range(1, N_max + 1))\n",
        "\n",
        "    for N in Ns:\n",
        "        aproximado = serie_exp_negativo(x, N)\n",
        "        exacto = np.exp(-x)\n",
        "        error = error_relativo(aproximado, exacto)\n",
        "        errores.append(error)\n",
        "\n",
        "    plt.plot(Ns, errores, label=f\"x = {x}\")\n",
        "\n",
        "\n",
        "plt.yscale(\"log\")\n",
        "plt.xlabel(\"Número de términos N\")\n",
        "plt.ylabel(\"Error relativo\")\n",
        "plt.title(\"Error relativo de la serie de Taylor para e^(-x)\")\n",
        "plt.legend()\n",
        "plt.grid()\n",
        "plt.show()\n"
      ],
      "metadata": {
        "colab": {
          "base_uri": "https://localhost:8080/",
          "height": 923
        },
        "id": "0eey_HehH-Ep",
        "outputId": "402c46c2-f3aa-45cd-e24d-78123b4fe341"
      },
      "execution_count": null,
      "outputs": [
        {
          "output_type": "stream",
          "name": "stdout",
          "text": [
            "Términos de la serie para e^(-10):\n",
            " n              Término              Suma parcial\n",
            " 0     1.0000000000e+00          1.0000000000e+00\n",
            " 1    -1.0000000000e+01         -9.0000000000e+00\n",
            " 2     5.0000000000e+01          4.1000000000e+01\n",
            " 3    -1.6666666667e+02         -1.2566666667e+02\n",
            " 4     4.1666666667e+02          2.9100000000e+02\n",
            " 5    -8.3333333333e+02         -5.4233333333e+02\n",
            " 6     1.3888888889e+03          8.4655555556e+02\n",
            " 7    -1.9841269841e+03         -1.1375714286e+03\n",
            " 8     2.4801587302e+03          1.3425873016e+03\n",
            " 9    -2.7557319224e+03         -1.4131446208e+03\n",
            "Cancelación significativa cerca de n ≈ x - 1\n",
            "10     2.7557319224e+03          1.3425873016e+03\n",
            "11    -2.5052108385e+03         -1.1626235370e+03\n",
            "12     2.0876756988e+03          9.2505216183e+02\n",
            "13    -1.6059043837e+03         -6.8085222185e+02\n",
            "14     1.1470745598e+03          4.6622233792e+02\n",
            "15    -7.6471637318e+02         -2.9849403526e+02\n",
            "16     4.7794773324e+02          1.7945369798e+02\n",
            "17    -2.8114572543e+02         -1.0169202746e+02\n",
            "18     1.5619206969e+02          5.4500042229e+01\n",
            "19    -8.2206352466e+01         -2.7706310237e+01\n",
            "20     4.1103176233e+01          1.3396865996e+01\n",
            "\n",
            "Valor exacto usando math.exp(-10): 4.5399929762e-05\n"
          ]
        },
        {
          "output_type": "display_data",
          "data": {
            "text/plain": [
              "<Figure size 640x480 with 1 Axes>"
            ],
            "image/png": "[encoded data removed]"
          },
          "metadata": {}
        }
      ],
      "id": "0eey_HehH-Ep"
    },
    {
      "id": "56688fa9",
      "cell_type": "markdown",
      "source": [
        "# 5.\n",
        "\n",
        "Supongamos que tenemos una función $f(x)$ y queremos calcular su derivada en un punto $x$. Podemos hacerlo manualmente si conocemos la forma matemática de la función, o podemos hacerlo computacionalmente usando la definición de derivada:\n",
        "\n",
        "$$\n",
        "\\frac{df}{dx} = \\lim_{\\delta \\to 0} \\frac{f(x + \\delta) - f(x)}{\\delta}.\n",
        "$$\n",
        "\n",
        "En el computador no podemos tomar el límite cuando $\\delta$ tiende a cero, pero podemos obtener una aproximación razonable usando valores pequeños de $\\delta$.\n",
        "\n",
        "- Escriba un programa que:\n",
        "    - Defina una función $f(x)$ que retorne el valor $x(x-1)$\n",
        "    - Calcule la derivada de la función en $x = 1$ usando la fórmula anterior con $\\delta = 10^{-2}$\n",
        "    - Compare este resultado con el valor exacto obtenido analíticamente\n",
        "    \n",
        "    Los resultados no coincidirán exactamente. ¿Por qué?\n",
        "    \n",
        "- Repita el cálculo para $\\delta = 10^{-4}, 10^{-6}, 10^{-8}, 10^{-10}, 10^{-12}$, y $10^{-14}$. Observará que la precisión mejora inicialmente al disminuir $\\delta$, pero luego empeora. Explique este comportamiento.\n"
      ],
      "metadata": {
        "id": "56688fa9"
      }
    },
    {
      "cell_type": "code",
      "source": [
        "def f(x):\n",
        "    '''\n",
        "    Función f(x) = x * (x - 1)\n",
        "    '''\n",
        "    return x * (x - 1)\n",
        "\n",
        "def derivada_f(x):\n",
        "    '''\n",
        "    Calcula la derivada de la función f(x) = x * (x - 1) en x.\n",
        "    '''\n",
        "    return 2 * x - 1\n",
        "\n",
        "# Aproximar la derivada usando la fórmula del cociente de diferencias\n",
        "def derivada_aproximada(x, delta):\n",
        "    return (f(x + delta) - f(x)) / delta\n",
        "\n",
        "# Punto donde queremos calcular la derivada\n",
        "x = 1\n",
        "\n",
        "# Lista de valores de delta\n",
        "deltas = [1e-2, 1e-4, 1e-6, 1e-8, 1e-10, 1e-12, 1e-14]\n",
        "\n",
        "# Mostrar encabezado\n",
        "print(\"Delta\\t\\tAprox\\t\\tExacta\\t\\tError absoluto\")\n",
        "\n",
        "# Calcular y mostrar resultados\n",
        "for delta in deltas:\n",
        "    aprox = derivada_aproximada(x, delta)\n",
        "    exacta = derivada_f(x)\n",
        "    error = abs(aprox - exacta)\n",
        "    print(f\"{delta:.0e}\\t{aprox:.8f}\\t{exacta:.8f}\\t{error:.2e}\")\n"
      ],
      "metadata": {
        "colab": {
          "base_uri": "https://localhost:8080/"
        },
        "id": "v9uVj1DQSMoR",
        "outputId": "8f59ef71-1c9d-4f80-fb64-9e5733b76b87"
      },
      "id": "v9uVj1DQSMoR",
      "execution_count": 63,
      "outputs": [
        {
          "output_type": "stream",
          "name": "stdout",
          "text": [
            "Delta\t\tAprox\t\tExacta\t\tError absoluto\n",
            "1e-02\t1.01000000\t1.00000000\t1.00e-02\n",
            "1e-04\t1.00010000\t1.00000000\t1.00e-04\n",
            "1e-06\t1.00000100\t1.00000000\t1.00e-06\n",
            "1e-08\t1.00000000\t1.00000000\t3.92e-09\n",
            "1e-10\t1.00000008\t1.00000000\t8.28e-08\n",
            "1e-12\t1.00008890\t1.00000000\t8.89e-05\n",
            "1e-14\t0.99920072\t1.00000000\t7.99e-04\n"
          ]
        }
      ]
    }
  ]
}