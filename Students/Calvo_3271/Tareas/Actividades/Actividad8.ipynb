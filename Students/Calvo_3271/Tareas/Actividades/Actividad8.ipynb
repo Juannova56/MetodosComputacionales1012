{
  "nbformat": 4,
  "nbformat_minor": 0,
  "metadata": {
    "colab": {
      "provenance": []
    },
    "kernelspec": {
      "name": "python3",
      "display_name": "Python 3"
    },
    "language_info": {
      "name": "python"
    }
  },
  "cells": [
    {
      "cell_type": "code",
      "execution_count": 2,
      "metadata": {
        "id": "z7RCty67y3ME"
      },
      "outputs": [],
      "source": [
        "import numpy as np\n",
        "import matplotlib.pyplot as plt\n",
        "import scipy.linalg as la\n",
        "import sympy as sp"
      ]
    },
    {
      "cell_type": "markdown",
      "source": [
        "# Actividad 08: Algebra Lineal y Matrices\n",
        "\n",
        "---\n",
        "### Profesor: Juan Marcos Marín\n",
        "### Nombre: Martín Calvo D\n",
        "*Métodos computacionales*\n",
        "\n",
        "---"
      ],
      "metadata": {
        "id": "GGQpGoujzAnQ"
      }
    },
    {
      "cell_type": "markdown",
      "source": [
        "#1\n",
        "Escriba tres matrices aleatorias $A$, $B$ y $C$ de $3\\times 3$, y demuestre las siguientes relaciones\n",
        "\n",
        "- $ \\mathbf{A}\\mathbf{B} \\neq \\mathbf{B}\\mathbf{A} $, en general.\n",
        "- $ (\\mathbf{A}\\mathbf{B})\\mathbf{C} = \\mathbf{A}(\\mathbf{B}\\mathbf{C}) $.\n",
        "- $ \\mathbf{A}(\\mathbf{B} + \\mathbf{C}) = \\mathbf{A}\\mathbf{B} + \\mathbf{A}\\mathbf{C} $.\n",
        "- $ (\\mathbf{A} + \\mathbf{B})\\mathbf{C} = \\mathbf{A}\\mathbf{C} + \\mathbf{B}\\mathbf{C} $.\n",
        "- $ (\\mathbf{A}\\mathbf{B})^\\top = \\mathbf{B}^\\top \\mathbf{A}^\\top $.\n",
        "- $ \\det(\\mathbf{A}\\mathbf{B}) = \\det(\\mathbf{A}) \\det(\\mathbf{B}) $.\n",
        "- $ (\\mathbf{A}^\\top)^\\top = \\mathbf{A} $.\n",
        "- $ (c\\mathbf{A})^\\top = c\\mathbf{A}^\\top $.\n",
        "- $ (\\mathbf{A} + \\mathbf{B})^\\top = \\mathbf{A}^\\top + \\mathbf{B}^\\top $.\n",
        "\n"
      ],
      "metadata": {
        "id": "U9hC1R-F0-iH"
      }
    },
    {
      "cell_type": "code",
      "source": [
        "from math import isclose\n",
        "n=0\n",
        "for k in range(10000):\n",
        "  A=np.random.randint(-10000,10000,size=(3,3))\n",
        "  B=np.random.randint(np.random.randint(-20500,0),np.random.randint(0,20500),size=(3,3))\n",
        "  C=np.random.randint(np.random.randint(-10000,0),np.random.randint(0,10000),size=(3,3))\n",
        "  a=sp.Matrix(A)\n",
        "  b=sp.Matrix(B)\n",
        "\n",
        "  AB=A@B\n",
        "  BA=B@A\n",
        "\n",
        "  bul=np.ones_like(AB, dtype=bool)\n",
        "  suma=0\n",
        "  for i in range(3):\n",
        "    for j in range(3):\n",
        "      suma+=(abs(AB[i,j]-BA[i,j]))\n",
        "  if np.isclose(suma,0)==True: #Esta es la forma que se me ocurrió de comparar todos los elementos de ambas matrices, porque toca demostrar que no son iguales\n",
        "    print(\"En el caso específico de estas dos matrices, el producto es conmutativo\")\n",
        "\n",
        "  abC=(A@B)@C\n",
        "  Abc=A@(B@C)\n",
        "  bul=np.isclose(abC,Abc)\n",
        "  for i in range(3):\n",
        "    for j in range(3):\n",
        "      if bul[i,j]==False: #Para este y el resto de ejemplos es suficiente que uno sea falso para que no se cumpla, pues se quiere demostrar igualdad\n",
        "        sp.pprint(a)\n",
        "        sp.pprint(b)\n",
        "        print(\"Para el caso de estas dos matrices, el producto matricial no es asociativo\")\n",
        "        n+=1\n",
        "\n",
        "  distAbc=A@(B+C)\n",
        "  AbAc=A@B+A@C\n",
        "  bul=np.isclose(distAbc,AbAc)\n",
        "  for i in range(3):\n",
        "    for j in range(3):\n",
        "      if bul[i,j]==False: #El resto siguen la misma lógica, de encontrar un False en el arreglo que entrega el isclose\n",
        "        sp.pprint(a)\n",
        "        sp.pprint(b)\n",
        "        print(\"Para el caso de estas dos matrices, el producto matricial no es distributivo\")\n",
        "        n+=1\n",
        "\n",
        "  abT=(A@B).T\n",
        "  aTbT=B.T@A.T\n",
        "  bul=np.isclose(abT,aTbT)\n",
        "  for i in range(3):\n",
        "    for j in range(3):\n",
        "      if bul[i,j]==False:\n",
        "        sp.pprint(a)\n",
        "        print(\"\")\n",
        "        sp.pprint(b)\n",
        "        print(\"Para el caso de estas dos matrices, la transpuesta del producto no es igual al producto de las transpuestas planteado\")\n",
        "        n+=1\n",
        "\n",
        "  detAB=la.det(A@B)\n",
        "  detAdetB=la.det(A)*la.det(B)\n",
        "  bul=np.isclose(detAB,detAdetB)\n",
        "  if bul==False:\n",
        "    sp.pprint(a)\n",
        "    sp.pprint(b)\n",
        "    print(\"Para el caso de estas dos matrices, el determinante de un producto no es igual al producto de determinantes\")\n",
        "    n+=1\n",
        "\n",
        "  bul=np.isclose(A,(A.T).T)\n",
        "  for i in range(3):\n",
        "    for j in range(3):\n",
        "      if bul[i,j]==False:\n",
        "        sp.pprint(a)\n",
        "        sp.pprint(b)\n",
        "        print(\"Para el caso de esta matriz, la transpuesta de la transpuesta no es igual a la matriz\")\n",
        "        n+=1\n",
        "\n",
        "  q=np.random.randint(-1000,1000)\n",
        "  p=np.random.randint(1,10000)\n",
        "  alpha=q/p #Este es un escalar arbitrario\n",
        "  bul=np.isclose(alpha*(A.T),(alpha*A).T)\n",
        "  for i in range(3):\n",
        "    for j in range(3):\n",
        "      if bul[i,j]==False:\n",
        "        sp.pprint(a)\n",
        "        sp.pprint(b)\n",
        "        print(\"Para el caso de esta matriz, la transpuesta por un escalar no es igual a la matriz por un escalar transpuesta\")\n",
        "        n+=1\n",
        "\n",
        "  bul=np.isclose(A.T+B.T,(A+B).T)\n",
        "  for i in range(3):\n",
        "    for j in range(3):\n",
        "      if bul[i,j]==False:\n",
        "        sp.pprint(a)\n",
        "        sp.pprint(b)\n",
        "        print(\"Para el caso de estas dos matrices, la suma de las transpuestas no es igual a la transpuesta de las sumas\")\n",
        "        n+=1\n",
        "\n",
        "print(f\"En 10000 iteraciones, se encontraron {n} excepciones a los enunciados\")"
      ],
      "metadata": {
        "id": "cQQ6cPGW1anK",
        "colab": {
          "base_uri": "https://localhost:8080/"
        },
        "outputId": "446b015d-f8f0-4fa9-b38f-56ea678a5c67"
      },
      "execution_count": 138,
      "outputs": [
        {
          "output_type": "stream",
          "name": "stdout",
          "text": [
            "En 10000 iteraciones, se encontraron 0 excepciones a los enunciados\n"
          ]
        }
      ]
    },
    {
      "cell_type": "markdown",
      "source": [
        "#2\n",
        "\n",
        "El **Teorema de Laplace** es un método para calcular el determinante de una matriz cuadrada, particularmente útil para matrices de orden mayor a 2. Este teorema se basa en la expansión del determinante por los elementos de una fila o una columna cualquiera.\n",
        "\n",
        "\n",
        "\n",
        "$$\n",
        "\\det(A) = \\sum_{j=1}^n (-1)^{1+j} a_{1j} M_{1j}\n",
        "$$\n",
        "\n",
        "donde:\n",
        "- $a_{1j}$ es el elemento de la primera fila y columna $j$.\n",
        "- $M_{1j}$ es el menor asociado al elemento $a_{1j}$, es decir, el determinante de la submatriz de $3 \\times 3$ que se obtiene al eliminar la fila 1 y la columna $j$.\n",
        "- $(-1)^{1+j}$ es el signo correspondiente al cofactor del elemento $a_{1j}$.\n",
        "\n",
        "Podemos realizar una función recursiva para el cálculo del determinante, sabiendo que el valor del determinante de una matriz de orden uno es el único elemento de esa matriz, y el de una matriz de orden superior a uno es la suma de cada uno de los elementos de una fila o columna por los Adjuntos a ese elemento, como en la función recursiva se emplea la misma función definida el cálculo lo haremos por Menor complementario, un ejemplo desarrollado por la primera fila sería:\n",
        "\n",
        "$$\n",
        "   \\det (A_{j,j}) =\n",
        "   \\left \\{\n",
        "   \\begin{array}{llcl}\n",
        "      si & j = 1 & \\to & a_{1,1} \\\\\n",
        "                                 \\\\\n",
        "      si & j > 1 & \\to & \\displaystyle \\sum_{k=1}^j \\; (-1)^{(1+k)} \\cdot a_{1,k} \\cdot \\det( M_{1,k})\n",
        "   \\end{array}\n",
        "   \\right .\n",
        "$$\n",
        "\n",
        "Realice una función que encuentre el determinante de una matriz usando la recursividad aqui planteada, explique explicitamente su código"
      ],
      "metadata": {
        "id": "ibYf2I9T2pIw"
      }
    },
    {
      "cell_type": "code",
      "source": [
        "n=np.random.randint(2,5)\n",
        "A=np.random.randint(-50,50, size=(n,n))\n",
        "def dt(A):\n",
        "  \"\"\"\n",
        "  Calcula el determinante por la primera fila, usando recursividad y el Teorema de Laplace\n",
        "\n",
        "  Inputs\n",
        "    A: matriz cuadrada\n",
        "\n",
        "  Outputs\n",
        "    suma: El determinante de la matriz\n",
        "  \"\"\"\n",
        "  if len(A[0])==1:\n",
        "\n",
        "    return A[0,0]\n",
        "  suma=0\n",
        "  for k in range(len(A[0])):\n",
        "    menor=np.delete(A,0,0)\n",
        "    menor=np.delete(menor,k,1)\n",
        "    suma+=((-1)**(2+k))*A[0,k]*dt(menor)\n",
        "  return suma\n",
        "dt(A)-la.det(A)\n",
        "print(f\"El determinante de una matriz arbitraria obtenido de esta forma es {dt(A)}, con la.det es {la.det(A)}, el error es de {abs((dt(A)-la.det(A))/la.det(A))}\")"
      ],
      "metadata": {
        "id": "-8tYERLHtrtY",
        "colab": {
          "base_uri": "https://localhost:8080/"
        },
        "outputId": "75d49f81-9f5a-40c2-a0ce-d69274853eb3"
      },
      "execution_count": null,
      "outputs": [
        {
          "output_type": "stream",
          "name": "stdout",
          "text": [
            "El determinante de una matriz arbitraria obtenido de esta forma es 474, con la.det es 474.0, el error es de 0.0\n"
          ]
        }
      ]
    },
    {
      "cell_type": "markdown",
      "source": [
        "#3 Método de Gauss - Seidel\n",
        "\n",
        "Sea \\$A\\in\\mathbb{R}^{n\\times n}\\$ no singular y sea \\$b\\in\\mathbb{R}^n\\$.\n",
        "Descomponga \\$A\\$ como\n",
        "\n",
        "$$\n",
        "A \\;=\\; D \\;+\\; L \\;+\\; U,\n",
        "$$\n",
        "\n",
        "donde\n",
        "\n",
        "* \\$D\\$ es la matriz diagonal de \\$A\\$,\n",
        "* \\$L\\$ es la parte estrictamente triangular inferior,\n",
        "* \\$U\\$ es la parte estrictamente triangular superior.\n",
        "\n",
        "El algoritmo de Gauss - Seidel reorganiza el sistema \\$Ax=b\\$ como\n",
        "\n",
        "$$\n",
        "x \\;=\\; (D+L)^{-1}\\bigl(b \\;-\\; Ux\\bigr),\n",
        "$$\n",
        "\n",
        "y genera la sucesión\n",
        "\n",
        "$$\n",
        "x_i^{(k+1)}\n",
        "= \\frac{1}{a_{ii}}\n",
        "\\Bigl(b_i - \\sum_{j<i} a_{ij}\\,x_j^{(k+1)} - \\sum_{j>i} a_{ij}\\,x_j^{(k)}\\Bigr),\n",
        "\\qquad i=1,\\dots,n.\n",
        "$$\n",
        "\n",
        "Implemente una función `gauss_seidel(A, b, tol=1e-7, max_iter=100)` que:\n",
        "   * Realice las iteraciones hasta que\n",
        "     $\\lVert x^{(k+1)}-x^{(k)}\\rVert_\\infty<\\text{tol}$\n",
        "     o se alcance `max_iter`;\n",
        "   * devuelva el vector solución aproximado \\$x\\$, el número de iteraciones realizadas y la norma del último residuo.\n",
        "\n",
        "Incluya una documentación clara.\n",
        "\n",
        "Luego,\n",
        "\n",
        "   * Genere una matriz aleatoria \\$5\\times5\\$ (por ejemplo, con `np.random.rand`) y un vector \\$b\\$ aleatorio.\n",
        "   * Resuelva \\$Ax=b\\$ con su función; calcule el error relativo frente a `numpy.linalg.solve`.\n",
        "   * Estime igualmente el error respecto a la solución obtenida mediante \\$x=A^{-1}b\\$ (usando `numpy.linalg.inv`).\n",
        "   * Presente las normas de los residuos y los errores relativos."
      ],
      "metadata": {
        "id": "fTSweDGhnAUN"
      }
    },
    {
      "cell_type": "code",
      "source": [
        "def gauss_seidel(A, b, tol=1e-7, maxiter=100):\n",
        "  \"\"\"\n",
        "  Resuelve un sistema de la forma AX=b usando el método de gauss_seidel\n",
        "\n",
        "  Entradas\n",
        "    A: matriz\n",
        "    b: vector solución\n",
        "\n",
        "  Salida\n",
        "    xnext: vector x\n",
        " \"\"\"\n",
        "  x=np.zeros_like(b,dtype=float)\n",
        "  xnext=np.zeros_like(b,dtype=float)\n",
        "\n",
        "  for k in range(maxiter):\n",
        "    for i in range(len(xnext)):\n",
        "      mayores=0  #defino las sumas cuando j es menor o mayor que i\n",
        "      menores=0\n",
        "      for j in range(len(xnext)):\n",
        "        if j>i:\n",
        "          mayores+=A[i,j]*x[j]\n",
        "        if j<i:\n",
        "          menores+=A[i,j]*xnext[j]\n",
        "      xnext[i]=(1/A[i,i])*(b[i]-menores-mayores)\n",
        "\n",
        "    dif= la.norm(xnext-x,ord=np.inf) #la forma de comparar con la última iteración\n",
        "\n",
        "    if dif<tol:\n",
        "      return xnext\n",
        "\n",
        "    x=xnext.copy() #me estaba loco porque en lugar de estar haciendo la copia estaba poniendo x=xnext, y al parecer eso hace que explote todo, x se volvía 2 vectores en uno solo, estaba rarísimo. .copy() lo resolvió\n",
        "  print(\"Demasiadas iteracioens\")\n",
        "\n",
        "\n",
        "\n",
        "\n",
        "#A=np.random.randint(-10,10, size=(5,5))*np.random.rand()\n",
        "#b=np.random.rand(5)\n",
        "\n",
        "#gs=gauss_seidel(A,b)\n",
        "\n",
        "print(\"Al parecer Gauss-Seidel es relativamente dificil que converja, entonces hacer matrices aleatorias con random.rand o random.randint difícilmente van a dar un resultado, casi siempre tiran error o no convergen\")\n",
        "\n",
        "A = np.random.rand(5,5)\n",
        "for i in range(len(A[0])):\n",
        "  A[i,i]=np.random.randint(10,1000) #Según lo que averigué, el método solo converge cuando hay valores más grandes en la diagonal, entonces hice esto para que siempre converja\n",
        "\n",
        "b=np.array([np.random.rand(), np.random.rand(), np.random.rand(), np.random.rand(), np.random.rand()], dtype=float)*np.random.randint(-100,100) #lo hice así porque el rand y el randint dan unas dimensiones que joden mi función o las de numpy\n",
        "\n",
        "gs=gauss_seidel(A,b)\n",
        "\n",
        "Ainv=la.inv(A)\n",
        "inb=Ainv@b\n",
        "\n",
        "lan=la.solve(A,b)\n",
        "\n",
        "print(gs, inb, lan) #Los vectores x\n",
        "\n",
        "print(f\"El error respecto la.solve es {abs(la.norm(gs)-la.norm(lan))/la.norm(lan):.2e}\")\n",
        "print(f\"El error respecto al producto de la inversa es {abs(la.norm(gs)-la.norm(inb))/la.norm(inb):.2e}\")"
      ],
      "metadata": {
        "id": "xXuUhfjznlnO",
        "colab": {
          "base_uri": "https://localhost:8080/"
        },
        "outputId": "6a74ec17-258d-4d46-af56-6e3f29056f99"
      },
      "execution_count": 501,
      "outputs": [
        {
          "output_type": "stream",
          "name": "stdout",
          "text": [
            "Al parecer Gauss-Seidel es relativamente dificil que converja, entonces hacer matrices aleatorias con random.rand o random.randint difícilmente van a dar un resultado, casi siempre tiran error o no convergen\n",
            "[-0.11436067 -0.20727576 -0.59925932 -0.02963942 -0.08264911] [-0.11436067 -0.20727576 -0.59925932 -0.02963942 -0.08264911] [-0.11436067 -0.20727576 -0.59925932 -0.02963942 -0.08264911]\n",
            "El error respecto la.solve es 1.16e-13\n",
            "El error respecto al producto de la inversa es 1.15e-13\n"
          ]
        }
      ]
    },
    {
      "cell_type": "markdown",
      "source": [
        "#4 Método de potencias para el valor propio dominante\n",
        "\n",
        "Sea \\$A\\in\\mathbb{R}^{n\\times n}\\$ diagonalizable con valor propio dominante \\$\\lambda\\_{\\max}\\$ (en magnitud) y vector propio asociado \\$v\\_{\\max}\\$.\n",
        "\n",
        "El método de potencias genera, a partir de un vector inicial \\$q^{(0)}\\neq 0\\$, la sucesión\n",
        "\n",
        "$$\n",
        "q^{(k+1)} \\;=\\; \\frac{A\\,q^{(k)}}{\\lVert A\\,q^{(k)}\\rVert_2},\n",
        "\\qquad\n",
        "\\lambda^{(k+1)} \\;=\\; (q^{(k+1)})^{\\!\\top} A\\, q^{(k+1)},\n",
        "$$\n",
        "\n",
        "que converge a \\$v\\_{\\max}/\\lVert v\\_{\\max}\\rVert\\_2\\$ y a \\$\\lambda\\_{\\max}\\$ respectivamente, bajo hipótesis estándar.\n",
        "\n",
        "Implemente `power_method(A, tol=1e-7, max_iter=1000)` que:\n",
        "\n",
        "   * Acepte matrices reales cuadradas,\n",
        "   * Devuelva \\$\\lambda\\_{\\max}\\$, el vector propio normalizado \\$v\\_{\\max}\\$, el número de iteraciones y la última variación relativa de \\$\\lambda\\$,\n",
        "   * detenga la iteración cuando\n",
        "     $\\bigl|\\lambda^{(k+1)}-\\lambda^{(k)}\\bigr|<\\text{tol}\\,|\\lambda^{(k+1)}|$\n",
        "     o se alcance `max_iter`.\n",
        "\n",
        "Luego,\n",
        "   * Genere una matriz simétrica aleatoria \\$6\\times6\\$ (por ejemplo, \\$A = (M+M^\\top)/2\\$ con \\$M\\$ aleatoria).\n",
        "   * Aplique su `power_method` y compare \\$\\lambda\\_{\\max}\\$ y \\$v\\_{\\max}\\$ con los resultados de `numpy.linalg.eig`."
      ],
      "metadata": {
        "id": "REVJcqYtnmM-"
      }
    },
    {
      "cell_type": "code",
      "source": [
        "def power_method(A, tol=1e-7, maxiter=1000):\n",
        "  \"\"\"\n",
        "  Entrega el vector propio dominante de una matriz normalizado, así como el valor propio dominante, usando método dde potencias\n",
        "\n",
        "  Inputs\n",
        "    A:Matriz real nxn\n",
        "    tol: tolerancia\n",
        "    maxiter máximo de iteraciones\n",
        "\n",
        "  Outputs\n",
        "    landanext: valor propio dominante normalizado\n",
        "    qnext: vector propio dominante\n",
        "    k+1: cantidad de iteraciones necesarias para la convergencia\n",
        "    (abs(landanext-landa)/landa)*100: ülitma variación relativa en porcentaje\n",
        "  \"\"\"\n",
        "  if A.dtype!=float:\n",
        "    raise ValueError(\"la matriz debe ser real\") #Filtro para que todas las matrices sean reales\n",
        "  if len(A[0])!=len(A[1]):\n",
        "    raise ValueError(\"La matriz debe ser cuadrada\")\n",
        "  q=np.ones_like(A[0])\n",
        "  qnext=np.ones_like(q)\n",
        "  landa=1\n",
        "  for k in range(maxiter):\n",
        "    v=A@q\n",
        "    norma=la.norm(A@q, ord=2)\n",
        "    qnext=v/norma\n",
        "    landanext=qnext.T@A@qnext\n",
        "    if abs(landanext-landa)<tol:\n",
        "      return landanext,qnext,k+1, (abs(landanext-landa)/landa)*100\n",
        "    landa=landanext\n",
        "    q=qnext.copy()\n",
        "  print(\"Demasiadas iteraciones\")"
      ],
      "metadata": {
        "id": "lPzFAOE7obZY"
      },
      "execution_count": 422,
      "outputs": []
    },
    {
      "cell_type": "code",
      "source": [
        "M=np.random.rand(6,6)*np.random.randint(-50,50)\n",
        "A=M+M.T\n",
        "\n",
        "vplinalg=1*la.eig(A)[1].T[0] #Esa cantidad de índices para que me de el vector que quiero, los vectores propios son las columnas de la matriz que entrega eig\n",
        "lplinalg=float(la.eig(A)[0][0])\n",
        "\n",
        "\n",
        "vmax=power_method(A)[1]\n",
        "landamax=power_method(A)[0]\n",
        "\n",
        "if vplinalg[0]*vmax[0]<0:\n",
        "  vplinalg=-vplinalg #Un truquito para que el error no sea del 200%, el signo no es relevante cuando se habla de vectores propios\n",
        "\n",
        "print(\"A=\")\n",
        "print(A)\n",
        "print(\"\")\n",
        "print(f\"Para la matriz simétrica A, con el método encontramos el valor propio dominante {landamax:.2e}, con la.eig el valor propio dominante es {lplinalg:.2e}\") #Las amtrices simétricas siempre tienen valores propios reales entonces no hay problema con mocharle ese pedazo\n",
        "print(f\"El error es de {abs(landamax-(lplinalg))/(lplinalg)*100:.2e} %\")\n",
        "print(\"\")\n",
        "vspl=sp.Matrix(vplinalg)\n",
        "vspm=sp.Matrix(vmax)\n",
        "print(\"El vector obtenido con el método fue\")\n",
        "print(\"\")\n",
        "sp.pprint(vspm)\n",
        "print(\"\")\n",
        "print(\"El vector obtenido con linalg.eig fue\")\n",
        "print(\"\")\n",
        "sp.pprint(vspl)\n",
        "print(\"\")\n",
        "print(f\"El error es de {abs(la.norm(vplinalg-vmax))/la.norm(vplinalg)}\")\n",
        "\n",
        "\n",
        "\n",
        "\n",
        "print(\"\")\n",
        "print(\"\")\n",
        "print(\"\")"
      ],
      "metadata": {
        "colab": {
          "base_uri": "https://localhost:8080/"
        },
        "id": "BjJsLzXzz7Gj",
        "outputId": "4584c460-3b67-4fbe-decb-0fd6405cba2c"
      },
      "execution_count": 492,
      "outputs": [
        {
          "output_type": "stream",
          "name": "stdout",
          "text": [
            "A=\n",
            "[[ 5.82685315  7.05504174  0.28708902  7.66613651 14.86064525  7.85597008]\n",
            " [ 7.05504174 15.75305453 11.78251026  4.27626018 18.01988725 18.95571446]\n",
            " [ 0.28708902 11.78251026 20.76978554 11.14091255 10.8493744   6.02236218]\n",
            " [ 7.66613651  4.27626018 11.14091255  1.01957585 18.68937228 12.9822339 ]\n",
            " [14.86064525 18.01988725 10.8493744  18.68937228 13.94884085  2.43296401]\n",
            " [ 7.85597008 18.95571446  6.02236218 12.9822339   2.43296401  9.77802624]]\n",
            "\n",
            "Para la matriz simétrica A, con el método encontramos el valor propio dominante 6.44e+01, con la.eig el valor propio dominante es 6.44e+01\n",
            "El error es de 6.32e-09 %\n",
            "\n",
            "El vector obtenido con el método fue\n",
            "\n",
            "⎡0.284117354336267⎤\n",
            "⎢                 ⎥\n",
            "⎢0.496665777214792⎥\n",
            "⎢                 ⎥\n",
            "⎢0.401905620667756⎥\n",
            "⎢                 ⎥\n",
            "⎢0.360024585964922⎥\n",
            "⎢                 ⎥\n",
            "⎢0.498169976163893⎥\n",
            "⎢                 ⎥\n",
            "⎣0.365077086563789⎦\n",
            "\n",
            "El vector obtenido con linalg.eig fue\n",
            "\n",
            "⎡0.284116191988808⎤\n",
            "⎢                 ⎥\n",
            "⎢0.496662978382678⎥\n",
            "⎢                 ⎥\n",
            "⎢0.401906462240983⎥\n",
            "⎢                 ⎥\n",
            "⎢0.360020573616072⎥\n",
            "⎢                 ⎥\n",
            "⎢0.498173389274865⎥\n",
            "⎢                 ⎥\n",
            "⎣0.365080171680567⎦\n",
            "\n",
            "El error es de 6.867239156829564e-06\n",
            "\n",
            "\n",
            "\n"
          ]
        },
        {
          "output_type": "stream",
          "name": "stderr",
          "text": [
            "/tmp/ipython-input-652132627.py:5: ComplexWarning: Casting complex values to real discards the imaginary part\n",
            "  lplinalg=float(la.eig(A)[0][0])\n"
          ]
        }
      ]
    },
    {
      "cell_type": "markdown",
      "source": [
        "#5\n",
        "\n",
        "Verifique que cualquier matriz hermitiana de 2 × 2 $ L $ puede escribirse como una suma de cuatro términos:\n",
        "\n",
        "$$ L = a\\sigma_x + b\\sigma_y + c\\sigma_z + dI $$\n",
        "\n",
        "donde $ a $, $ b $, $ c $ y $ d $ son números reales.\n",
        "\n",
        "Las cuatro matrices de Pauli son:\n",
        "\n",
        "$$ \\sigma_x = \\begin{pmatrix} 0 & 1 \\\\ 1 & 0 \\end{pmatrix}, \\quad \\sigma_y = \\begin{pmatrix} 0 & -i \\\\ i & 0 \\end{pmatrix}, \\quad \\sigma_z = \\begin{pmatrix} 1 & 0 \\\\ 0 & -1 \\end{pmatrix}, \\quad I = \\begin{pmatrix} 1 & 0 \\\\ 0 & 1 \\end{pmatrix} $$\n",
        "\n",
        "\n"
      ],
      "metadata": {
        "id": "iggu2jNwVpnK"
      }
    },
    {
      "cell_type": "code",
      "source": [
        "x=np.array([[0,1],\n",
        "            [1,0]])\n",
        "\n",
        "y=np.array([[0,-1j],\n",
        "            [1j,0]])\n",
        "\n",
        "z=np.array([[1,0],\n",
        "            [0,-1]]) #Finalmente no las terminé usando pero las dejo enunciadas\n",
        "\n",
        "I=np.eye(2)\n",
        "\n",
        "def eshermit(A):\n",
        "  \"\"\"\n",
        "  Recibe una matriz cuadrada y regresa un True o False\n",
        "  True si es Hermítica\n",
        "  False si no lo es\n",
        "  \"\"\"\n",
        "  Adagger=A.conj().T\n",
        "  bul=np.isclose(A,Adagger)\n",
        "  for i in bul:\n",
        "    for j in i:\n",
        "      if j!=True:\n",
        "        return False\n",
        "  return True #Si llega acá significa que fue por todos y cada uno y solo encontró True\n",
        "\n",
        "\n",
        "n=0\n",
        "for i in range(100000): #Vamos a revisar 100000 iteraciones y ver que no haya ninguna excepción\n",
        "  a=np.random.randint(-10000,10000)*np.random.rand()\n",
        "  b=np.random.randint(-10000,10000)*np.random.rand()\n",
        "  c=np.random.randint(-10000,10000)*np.random.rand()\n",
        "  d=np.random.randint(-10000,10000)*np.random.rand()\n",
        "  A=np.array([[c+d,a-b*1j],\n",
        "            [a+b*1j,-c+d]],dtype=complex) #La combinación lineal de las matrices usando valores aleatorios de a,b,c,d\n",
        "  if eshermit(A)==False: #Si alguna combinación no resulta en una hermítica demostrará que no necesariamente una combinación de esa forma resulta en una hermítica, y por ende no todas las Hermíticas tienen esa forma\n",
        "    n+=1\n",
        "    print(\"Se rompieron las matemáticas llamen a Dios\")\n",
        "\n",
        "print(f\"Tras 100000 iteraciones con valores de a,b,c,d aleatorios, se encontraron {n} combinaciones lineales de las matrices de Pauli que no resultaran en una Hermítica\")\n",
        "\n"
      ],
      "metadata": {
        "id": "8WN9_cOCV7cM",
        "colab": {
          "base_uri": "https://localhost:8080/"
        },
        "outputId": "2535dc6d-77a0-4023-fb31-f586dcce455e"
      },
      "execution_count": null,
      "outputs": [
        {
          "output_type": "stream",
          "name": "stdout",
          "text": [
            "Tras 100000 iteraciones con valores de a,b,c,d aleatorios, se encontraron 0 combinaciones lineales de las matrices de Pauli que no resultaran en una Hermítica\n"
          ]
        }
      ]
    },
    {
      "cell_type": "markdown",
      "source": [
        "# 6\n",
        "\n",
        "##Haga un breve resumen en Markdown de las funciones y métodos más relevantes para algebra lineal usando Python. Emplee ejemplos."
      ],
      "metadata": {
        "id": "GnCw5_O5pMxl"
      }
    },
    {
      "cell_type": "markdown",
      "source": [
        "La librería más clave para problemas de álgebra lineal es `numpy`, y más específicamente `numpy.linalg`.\n",
        "Se crean matrices usando `numpy.array()`. Siendo A un array (una matriz), se puede usar `len()` para conocer su cantidad de filas, y `len(A[0])` para conocer la cantidad de columnas. Se usa la @ para el producto de matrices.\n",
        "Sean A y B dos matrices 3x3, a continuación se mostrarán las funciones más importantes para ttrabajar álgebra lineal en Python"
      ],
      "metadata": {
        "id": "xhJiiL0LCpb6"
      }
    },
    {
      "cell_type": "code",
      "source": [
        "import numpy as np\n",
        "from numpy import linalg as la\n",
        "\n",
        "A=np.random.randint(-10,10, size=(3,3))\n",
        "B=np.random.randint(-10,10, size=(3,3))\n",
        "\n",
        "As=sp.Matrix(A) #Se pueden convertir a sympy para mostrarlas mejor\n",
        "Bs=sp.Matrix(B)\n",
        "sp.pprint(As)\n",
        "print(\"\")\n",
        "sp.pprint(Bs)\n"
      ],
      "metadata": {
        "colab": {
          "base_uri": "https://localhost:8080/"
        },
        "id": "qQpIocZBE8XR",
        "outputId": "c68946b3-79ab-41a4-9fdc-5fd0f8f26654"
      },
      "execution_count": 30,
      "outputs": [
        {
          "output_type": "stream",
          "name": "stdout",
          "text": [
            "⎡7   0   5 ⎤\n",
            "⎢          ⎥\n",
            "⎢7   -1  -9⎥\n",
            "⎢          ⎥\n",
            "⎣-6  -7  7 ⎦\n",
            "\n",
            "⎡5   -3   9 ⎤\n",
            "⎢           ⎥\n",
            "⎢-3  -10  -3⎥\n",
            "⎢           ⎥\n",
            "⎣9    2   7 ⎦\n"
          ]
        }
      ]
    },
    {
      "cell_type": "markdown",
      "source": [
        "Otras formas de hacer matrices es con `np.zeros`, `np.zeros_like`, `np.ones`, `np.ones_like`, que hacen matrices llenas de zeros o unos, o `np.eye`, que hace una matriz identidad nxn de la dimensión que se especifique."
      ],
      "metadata": {
        "id": "9b2lt5S3JC6V"
      }
    },
    {
      "cell_type": "code",
      "source": [
        "print(\"Traspuesta de A\")\n",
        "sp.pprint(sp.Matrix(A.T))\n",
        "print(\"Conjugada de A, como es una matriz real es ella misma\")\n",
        "sp.pprint(sp.Matrix(A.conjugate()))\n",
        "A.conjugate\n",
        "print(\"Valores de la diagonal, o sea aij tal que i=j\")\n",
        "sp.pprint(sp.Matrix(np.diag(A)))\n",
        "print(\"si se le entreg un array devuelve una matriz diagonal con esos elementos\")\n",
        "sp.pprint(sp.Matrix(np.diag(np.diag(A))))\n",
        "print(\"La traza, la suma de los elemntos de la diagonal\")\n",
        "print(np.trace(A))\n",
        "print(\"El determinante\")\n",
        "print(la.det(A))\n",
        "print(\"La forma de hacer una identidad\")\n",
        "sp.pprint(sp.Matrix(np.eye(np.shape(A)[0])))"
      ],
      "metadata": {
        "colab": {
          "base_uri": "https://localhost:8080/"
        },
        "id": "PH20OsIVDNBh",
        "outputId": "cddfdb61-c097-4624-8695-914c3d06835d"
      },
      "execution_count": 48,
      "outputs": [
        {
          "output_type": "stream",
          "name": "stdout",
          "text": [
            "Traspuesta de A\n",
            "⎡7  7   -6⎤\n",
            "⎢         ⎥\n",
            "⎢0  -1  -7⎥\n",
            "⎢         ⎥\n",
            "⎣5  -9  7 ⎦\n",
            "Conjugada de A, como es una matriz real es ella misma\n",
            "⎡7   0   5 ⎤\n",
            "⎢          ⎥\n",
            "⎢7   -1  -9⎥\n",
            "⎢          ⎥\n",
            "⎣-6  -7  7 ⎦\n",
            "Valores de la diagonal, o sea aij tal que i=j\n",
            "⎡7 ⎤\n",
            "⎢  ⎥\n",
            "⎢-1⎥\n",
            "⎢  ⎥\n",
            "⎣7 ⎦\n",
            "si se le entreg un array devuelve una matriz diagonal con esos elementos\n",
            "⎡7  0   0⎤\n",
            "⎢        ⎥\n",
            "⎢0  -1  0⎥\n",
            "⎢        ⎥\n",
            "⎣0  0   7⎦\n",
            "La traza, la suma de los elemntos de la diagonal\n",
            "13\n",
            "El determinante\n",
            "-765.0\n",
            "La forma de hacer una identidad\n",
            "⎡1.0  0.0  0.0⎤\n",
            "⎢             ⎥\n",
            "⎢0.0  1.0  0.0⎥\n",
            "⎢             ⎥\n",
            "⎣0.0  0.0  1.0⎦\n"
          ]
        }
      ]
    },
    {
      "cell_type": "code",
      "source": [
        "print(\"Producto cruz y producto punto\")\n",
        "\n",
        "v=np.diag(A)\n",
        "u=np.diag(B)\n",
        "\n",
        "print(np.dot(u,v))\n",
        "sp.pprint(sp.Matrix(np.cross(u,v)))\n",
        "print(\"\")\n",
        "sp.pprint(sp.Matrix(np.cross(v,u)))\n",
        "print(\"\")\n",
        "print(\"Producto matricial\")\n",
        "print(\"AB\")\n",
        "sp.pprint(sp.Matrix(A@B))\n",
        "print(\"BA\")\n",
        "sp.pprint(sp.Matrix(B@A))"
      ],
      "metadata": {
        "colab": {
          "base_uri": "https://localhost:8080/"
        },
        "id": "o1-c-B5lHLiF",
        "outputId": "4c6cbc7b-8f47-4b41-ed39-49a8d5b5ddd6"
      },
      "execution_count": 39,
      "outputs": [
        {
          "output_type": "stream",
          "name": "stdout",
          "text": [
            "Producto cruz y producto punto\n",
            "94\n",
            "⎡-63⎤\n",
            "⎢   ⎥\n",
            "⎢14 ⎥\n",
            "⎢   ⎥\n",
            "⎣65 ⎦\n",
            "\n",
            "⎡63 ⎤\n",
            "⎢   ⎥\n",
            "⎢-14⎥\n",
            "⎢   ⎥\n",
            "⎣-65⎦\n",
            "\n",
            "Producto matricial\n",
            "AB\n",
            "⎡80   -11  98⎤\n",
            "⎢            ⎥\n",
            "⎢-43  -29  3 ⎥\n",
            "⎢            ⎥\n",
            "⎣54   102  16⎦\n",
            "BA\n",
            "⎡-40  -60  115⎤\n",
            "⎢             ⎥\n",
            "⎢-73  31   54 ⎥\n",
            "⎢             ⎥\n",
            "⎣35   -51  76 ⎦\n"
          ]
        }
      ]
    },
    {
      "cell_type": "markdown",
      "source": [
        "Para solucionar matrices"
      ],
      "metadata": {
        "id": "2jdtN4oCKc5z"
      }
    },
    {
      "cell_type": "code",
      "source": [
        "print(\"Vector x para el sistema AX=b\")\n",
        "sp.pprint(sp.Matrix(la.solve(A,u)))"
      ],
      "metadata": {
        "colab": {
          "base_uri": "https://localhost:8080/"
        },
        "id": "nw48Wz8gJxoM",
        "outputId": "8c110b25-77a7-43fb-b459-4986fd162ace"
      },
      "execution_count": 42,
      "outputs": [
        {
          "output_type": "stream",
          "name": "stdout",
          "text": [
            "Vector x para el sistema AX=b\n",
            "⎡-0.0457516339869281⎤\n",
            "⎢                   ⎥\n",
            "⎢ 0.103267973856209 ⎥\n",
            "⎢                   ⎥\n",
            "⎣  1.0640522875817  ⎦\n"
          ]
        }
      ]
    },
    {
      "cell_type": "markdown",
      "source": [
        "Autovectores y autovaores, `la.eig` devuelve un array con los autovectores y otro que es la matriz U tal que $ A=UDU^{-1}$, así que los autovectiores son las columnas de `eig(A)[1]`, o las filas de `eig(A)[1].T`"
      ],
      "metadata": {
        "id": "XkyhuEKVLsfT"
      }
    },
    {
      "cell_type": "code",
      "source": [
        "autovalores=la.eig(A)[0]\n",
        "print(\"Diagonalizar una matriz\")\n",
        "sp.Matrix(np.diag(autovalores))"
      ],
      "metadata": {
        "colab": {
          "base_uri": "https://localhost:8080/",
          "height": 95
        },
        "id": "HN1Ql4dHKgWR",
        "outputId": "70b97d5f-929c-4ec5-cb5b-4f891e30f0fc"
      },
      "execution_count": 47,
      "outputs": [
        {
          "output_type": "stream",
          "name": "stdout",
          "text": [
            "Diagonalizar una matriz\n"
          ]
        },
        {
          "output_type": "execute_result",
          "data": {
            "text/plain": [
              "Matrix([\n",
              "[9.62597049988939 + 5.45001754099*I,                                  0,                 0],\n",
              "[                                 0, 9.62597049988939 - 5.45001754099*I,                 0],\n",
              "[                                 0,                                  0, -6.25194099977881]])"
            ],
            "text/latex": "$\\displaystyle \\left[\\begin{matrix}9.62597049988939 + 5.45001754099 i & 0 & 0\\\\0 & 9.62597049988939 - 5.45001754099 i & 0\\\\0 & 0 & -6.25194099977881\\end{matrix}\\right]$"
          },
          "metadata": {},
          "execution_count": 47
        }
      ]
    },
    {
      "cell_type": "code",
      "source": [
        "print(\"U\")\n",
        "sp.Matrix(la.eig(A)[1])"
      ],
      "metadata": {
        "colab": {
          "base_uri": "https://localhost:8080/",
          "height": 95
        },
        "id": "ZuEJQ1KkL1Wq",
        "outputId": "9c9e1d47-d6a9-4c91-c313-09a7ea680c47"
      },
      "execution_count": 50,
      "outputs": [
        {
          "output_type": "stream",
          "name": "stdout",
          "text": [
            "U\n"
          ]
        },
        {
          "output_type": "execute_result",
          "data": {
            "text/plain": [
              "Matrix([\n",
              "[  0.243606221561882 - 0.505587622047723*I,   0.243606221561882 + 0.505587622047723*I, -0.153327225841365],\n",
              "[-0.463536787814414 - 0.0953164447296261*I, -0.463536787814414 + 0.0953164447296261*I,  0.900749001560745],\n",
              "[                        0.679032832015707,                         0.679032832015707,  0.406376670101905]])"
            ],
            "text/latex": "$\\displaystyle \\left[\\begin{matrix}0.243606221561882 - 0.505587622047723 i & 0.243606221561882 + 0.505587622047723 i & -0.153327225841365\\\\-0.463536787814414 - 0.0953164447296261 i & -0.463536787814414 + 0.0953164447296261 i & 0.900749001560745\\\\0.679032832015707 & 0.679032832015707 & 0.406376670101905\\end{matrix}\\right]$"
          },
          "metadata": {},
          "execution_count": 50
        }
      ]
    },
    {
      "cell_type": "markdown",
      "source": [
        "Inversa de Una Matriz\n"
      ],
      "metadata": {
        "id": "1sRsu95wNnIj"
      }
    },
    {
      "cell_type": "code",
      "source": [
        "sp.Matrix(la.inv(A))"
      ],
      "metadata": {
        "colab": {
          "base_uri": "https://localhost:8080/",
          "height": 78
        },
        "id": "B-LxMNFZNpMo",
        "outputId": "37611385-9a44-417f-f610-a3235fe6964a"
      },
      "execution_count": 52,
      "outputs": [
        {
          "output_type": "execute_result",
          "data": {
            "text/plain": [
              "Matrix([\n",
              "[  0.0915032679738562,  0.0457516339869281, -0.0065359477124183],\n",
              "[-0.00653594771241829,  -0.103267973856209,  -0.128104575163399],\n",
              "[  0.0718954248366013, -0.0640522875816994, 0.00915032679738562]])"
            ],
            "text/latex": "$\\displaystyle \\left[\\begin{matrix}0.0915032679738562 & 0.0457516339869281 & -0.0065359477124183\\\\-0.00653594771241829 & -0.103267973856209 & -0.128104575163399\\\\0.0718954248366013 & -0.0640522875816994 & 0.00915032679738562\\end{matrix}\\right]$"
          },
          "metadata": {},
          "execution_count": 52
        }
      ]
    },
    {
      "cell_type": "markdown",
      "source": [
        "En general, para ver si dos matrices son aproximadamente iguales se usa `np.isclose`, que devuelve un array booleano que dice si cada elemento de los arrays son aproximadamente iguales, dentro de una tolerancia."
      ],
      "metadata": {
        "id": "XbaAMnYrN9lB"
      }
    },
    {
      "cell_type": "code",
      "source": [
        "np.isclose(la.inv(A)@A, np.eye(3))"
      ],
      "metadata": {
        "colab": {
          "base_uri": "https://localhost:8080/"
        },
        "id": "-28PhyxSNszX",
        "outputId": "ac89ca96-b077-4376-adf5-63fb9946d742"
      },
      "execution_count": 56,
      "outputs": [
        {
          "output_type": "execute_result",
          "data": {
            "text/plain": [
              "array([[ True,  True,  True],\n",
              "       [ True,  True,  True],\n",
              "       [ True,  True,  True]])"
            ]
          },
          "metadata": {},
          "execution_count": 56
        }
      ]
    }
  ]
}