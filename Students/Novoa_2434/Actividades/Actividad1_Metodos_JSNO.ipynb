{
 "nbformat": 4,
 "nbformat_minor": 0,
 "metadata": {
  "colab": {
   "provenance": [],
   "collapsed_sections": [
    "ym3QAv5yfZSO"
   ]
  },
  "kernelspec": {
   "name": "python3",
   "display_name": "Python 3"
  },
  "language_info": {
   "name": "python"
  }
 },
 "cells": [
  {
   "cell_type": "markdown",
   "source": [
    "# Actividad: Introducción a Python (sin librerías)\n",
    "\n",
    "---"
   ],
   "metadata": {
    "id": "4bzu1uAcGJVT"
   }
  },
  {
   "cell_type": "markdown",
   "source": [
    "## Problema 1: Números primos entre 2 y 50 con la Criba de Eratóstenes\n",
    "\n",
    "La **Criba de Eratóstenes** es un método eficiente para encontrar todos los números primos menores que un número dado. El algoritmo consiste en:\n",
    "\n",
    "1. Crear una lista de valores booleanos para representar los números del 2 al 50, todos inicialmente marcados como verdaderos.\n",
    "2. Comenzando desde el primer número primo (2), eliminar todos sus múltiplos (marcándolos como falsos).\n",
    "3. Repetir el proceso para el siguiente número no eliminado.\n",
    "4. Los números que permanezcan marcados como verdaderos son primos.\n",
    "\n",
    "Usando funciones, implementa este método y muestra en pantalla todos los números primos entre 2 y 50.\n",
    "\n"
   ],
   "metadata": {
    "id": "W0C9oNGXfwDj"
   }
  },
  {
   "cell_type": "code",
   "source": [
    "def criba_eratostenes(n):\n",
    "  # creación de lista marcando el 0 y 1 como falso desde el inicio\n",
    "  lista_booleanos = [True] * (n + 1)\n",
    "  lista_booleanos[0] = lista_booleanos[1] = False\n",
    "\n",
    "  for i in range(2, n+1):\n",
    "    if lista_booleanos[i]:                #los numeros marcados como falsos se omiten para evitar tomarlos de nuevo\n",
    "      for j in range(i * i, n + 1, i):    # j se mueve de i en i desde i² hasta n+1, esto para obtener los numeros que son multiplos de i\n",
    "        lista_booleanos[j] = False        # marca estos numeros como falsos\n",
    "\n",
    "  return [i for i, is_prime in enumerate(lista_booleanos) if is_prime]\n",
    "\n",
    "limite_criba2 = int(input(\"Ingrese el límite para la criba de Eratóstenes: \"))\n",
    "primos2 = criba_eratostenes(limite_criba2)\n",
    "print(f\"Números primos entre 2 y {limite_criba2}:\", primos2)"
   ],
   "metadata": {
    "colab": {
     "base_uri": "https://localhost:8080/"
    },
    "id": "cBp55fIVA5Lb",
    "outputId": "08d2c7db-f995-4f52-af7c-990bedf984f9",
    "ExecuteTime": {
     "end_time": "2025-05-13T15:53:26.859213Z",
     "start_time": "2025-05-13T15:53:20.069918Z"
    }
   },
   "outputs": [
    {
     "name": "stdout",
     "output_type": "stream",
     "text": [
      "Números primos entre 2 y 15: [2, 3, 5, 7, 11, 13]\n"
     ]
    }
   ],
   "execution_count": 1
  },
  {
   "cell_type": "markdown",
   "source": [
    "## Problema 2: Aproximación de π usando la serie de Leibniz\n",
    "\n",
    "La serie de Leibniz es una forma sencilla de aproximar el valor de π:\n",
    "\n",
    "$$\n",
    "\\pi \\approx 4 \\sum_{n=0}^{N} \\frac{(-1)^n}{2n + 1}\n",
    "$$\n",
    "\n",
    "Implementa una función que realice este cálculo y muestra la aproximación para distintos valores de $N$ (por ejemplo: 10, 100, 1000, 10000)."
   ],
   "metadata": {
    "id": "WzI-FhIWf2iJ"
   }
  },
  {
   "cell_type": "code",
   "source": [
    "# se realiza la funcion por partes y después se pone en un ciclo para terminar la sumatoria\n",
    "def leibniz_pi(N):\n",
    "    suma = 0\n",
    "    for n in range(N):\n",
    "        termino = ((-1) ** n) / (2 * n + 1)\n",
    "        suma += termino\n",
    "    return 4 * suma\n",
    "\n",
    "# Input N\n",
    "entrada = input(\"Ingrese el valor de N para la aproximación de π separado por comas (ejm: 10,100,10000):  \")\n",
    "valores_N = [int(n.strip()) for n in entrada.split(',')]\n",
    "\n",
    "\n",
    "for N in valores_N:\n",
    "    print(f\"Con N={N}: π ≈ {leibniz_pi(N)}\")\n",
    "print(len(valores_N))\n"
   ],
   "metadata": {
    "colab": {
     "base_uri": "https://localhost:8080/"
    },
    "id": "IvS3ItGE9Wd4",
    "outputId": "2342e78e-7f94-48f3-c792-f83a10e0e712",
    "ExecuteTime": {
     "end_time": "2025-05-13T15:57:08.861979Z",
     "start_time": "2025-05-13T15:56:59.835390Z"
    }
   },
   "outputs": [
    {
     "name": "stdout",
     "output_type": "stream",
     "text": [
      "Con N=10: π ≈ 3.0418396189294032\n",
      "Con N=100: π ≈ 3.1315929035585537\n",
      "Con N=1000: π ≈ 3.140592653839794\n",
      "3\n"
     ]
    }
   ],
   "execution_count": 3
  },
  {
   "cell_type": "markdown",
   "source": [
    "## Problema 3: Números amigos en un rango dado\n",
    "\n",
    "Dos números naturales $a$ y $b$ se llaman **números amigos** si la suma de los divisores propios (excluyendo el número mismo) de $a$ es igual a $b$, y viceversa.\n",
    "\n",
    "Por ejemplo, 220 y 284 son números amigos porque:\n",
    "- Los divisores propios de 220 son: 1, 2, 4, 5, 10, 11, 20, 22, 44, 55, 110 → suma: 284\n",
    "- Los divisores propios de 284 son: 1, 2, 4, 71, 142 → suma: 220\n",
    "\n",
    "Escribe un programa que encuentre todos los pares de números amigos en un rango dado por el usuario (por ejemplo, entre 1 y 10000)."
   ],
   "metadata": {
    "id": "Z1-gsRbNf7jy"
   }
  },
  {
   "cell_type": "code",
   "source": [
    "''' Fumcion diseñada para encontrar divisores hasta n/2 ya que no hay numero que divida a n entero mayor a su mitad ''' #optimizacion de codigo\n",
    "def suma_divisores_propios(num):\n",
    "    return sum(i for i in range(1, num // 2 + 1) if num % i == 0)\n",
    "\n",
    "def numeros_amigos(rango_inferior, rango_superior):\n",
    "    amigos = []\n",
    "    for a in range(rango_inferior, rango_superior + 1):\n",
    "        b = suma_divisores_propios(a)         # se define b como la suma de divisores de a\n",
    "        if b > a and b <= rango_superior:     # se comprueba que b sea mayor que a para evitar repetir parejas\n",
    "            if suma_divisores_propios(b) == a:  # se realiza la funcion de suma de divisore y se comprueba si da igual a a, en ese caso se añade a la lista de pares\n",
    "                amigos.append((a, b))\n",
    "    return amigos\n",
    "\n",
    "# selector de rango numeros\n",
    "rango_inferior = int(input(\"Ingrese el límite inferior del rango: \"))\n",
    "rango_superior = int(input(\"Ingrese el límite superior del rango: \"))\n",
    "\n",
    "resultado = numeros_amigos(rango_inferior, rango_superior)    # se recoge los valores que cumplen\n",
    "\n",
    "print(\"Pares de números amigos en el rango:\", resultado)\n"
   ],
   "metadata": {
    "id": "m87mKCXlgGjN",
    "colab": {
     "base_uri": "https://localhost:8080/"
    },
    "outputId": "b41dc231-8bb3-4c34-f5c1-191141431871",
    "ExecuteTime": {
     "end_time": "2025-05-13T15:59:27.029761Z",
     "start_time": "2025-05-13T15:57:19.098192Z"
    }
   },
   "outputs": [
    {
     "name": "stdout",
     "output_type": "stream",
     "text": [
      "Pares de números amigos en el rango: [(220, 284), (1184, 1210), (2620, 2924), (5020, 5564), (6232, 6368), (10744, 10856), (12285, 14595), (17296, 18416), (63020, 76084), (66928, 66992), (67095, 71145), (69615, 87633), (79750, 88730)]\n"
     ]
    }
   ],
   "execution_count": 4
  },
  {
   "cell_type": "markdown",
   "source": [
    "\n",
    "## Problema 4: Contador de frecuencias de letras en una palabra\n",
    "\n",
    "Escribe un programa que lea una palabra ingresada por el usuario y construya un diccionario donde cada clave sea una letra de la palabra, y el valor asociado sea la cantidad de veces que esa letra aparece. Imprime el resultado.\n"
   ],
   "metadata": {
    "id": "lGm-jCO0FRqC"
   }
  },
  {
   "cell_type": "code",
   "source": [
    "def contador_frecuencias(palabra):\n",
    "    frecuencias = {}\n",
    "    for letra in palabra:\n",
    "        if letra in frecuencias:\n",
    "            frecuencias[letra] += 1\n",
    "        else:\n",
    "            frecuencias[letra] = 1\n",
    "    return frecuencias\n",
    "\n",
    "# input usuario\n",
    "palabra = input(\"Ingrese una palabra: \")\n",
    "frecuencias = contador_frecuencias(palabra)\n",
    "print(\"Frecuencias de letras:\", frecuencias)\n",
    "\n"
   ],
   "metadata": {
    "id": "klMGSddPgUQ5",
    "colab": {
     "base_uri": "https://localhost:8080/"
    },
    "outputId": "46a0b5db-d79f-4805-a7f9-92cef2be0042",
    "ExecuteTime": {
     "end_time": "2025-05-13T16:00:39.881087Z",
     "start_time": "2025-05-13T16:00:27.376681Z"
    }
   },
   "outputs": [
    {
     "name": "stdout",
     "output_type": "stream",
     "text": [
      "Frecuencias de letras: {'e': 4, 's': 2, 't': 2, 'r': 1, 'n': 1, 'o': 4, 'c': 1, 'l': 1, 'i': 2, 'd': 2, 'm': 1, 'a': 1}\n"
     ]
    }
   ],
   "execution_count": 5
  },
  {
   "cell_type": "markdown",
   "source": [
    "# Otras opciones resolucion problemas\n",
    "\n",
    "---"
   ],
   "metadata": {
    "id": "ym3QAv5yfZSO"
   }
  },
  {
   "cell_type": "markdown",
   "source": [
    "## Criba"
   ],
   "metadata": {
    "id": "jopyPT5zGUbq"
   }
  },
  {
   "cell_type": "code",
   "source": [
    "''' Metodo con none y mas ciclos'''\n",
    "def cribado_eratostenes(n):\n",
    "\n",
    "    # lista de los numeros desde 2 hasta n+1\n",
    "    numeros = list(range(2, n+1))\n",
    "    for i in numeros:\n",
    "        if i is None:\n",
    "            continue\n",
    "        # los multiplos de i se marcan como none\n",
    "        for j in range(i*2, n+1, i):\n",
    "            numeros[j-2] = None\n",
    "    # se devuelve la lista\n",
    "    return [num for num in numeros if num is not None]\n",
    "\n",
    "# se pregunta hasta que numero se quiere hallar los numeros primos\n",
    "\n",
    "limite_criba = int(input(\"Ingrese el límite para la criba de Eratóstenes: \"))\n",
    "primos = cribado_eratostenes(limite_criba)\n",
    "print(f\"Números primos entre 2 y {limite_criba}:\", primos)"
   ],
   "metadata": {
    "id": "L4VpQS0yGWei"
   },
   "execution_count": null,
   "outputs": []
  },
  {
   "cell_type": "markdown",
   "source": [
    "## Leibniz"
   ],
   "metadata": {
    "id": "lBU4Fr66GXIW"
   }
  },
  {
   "cell_type": "code",
   "source": [
    "# se realiza la funcion por partes y despues se pone en un ciclo para terminar la sumatoria\n",
    "def leibniz_pi(N):\n",
    "    suma = 0\n",
    "    for n in range(N):\n",
    "        termino = ((-1) ** n) / (2 * n + 1)\n",
    "        suma += termino\n",
    "    return 4 * suma\n",
    "\n",
    "# Mostrar la aproximación para distintos valores de N fijos\n",
    "for N in [10, 100, 1000, 10000]:\n",
    "    print(f\"Con N={N}: π ≈ {leibniz_pi(N)}\")\n"
   ],
   "metadata": {
    "id": "b1N-dJMAGYny"
   },
   "execution_count": null,
   "outputs": []
  },
  {
   "cell_type": "markdown",
   "source": [
    "## Amigos\n"
   ],
   "metadata": {
    "id": "P9qpaJDmGaqu"
   }
  },
  {
   "cell_type": "code",
   "source": [
    "def suma_divisores_propios(num):\n",
    "    return sum(i for i in range(1, num // 2 + 1) if num % i == 0)\n",
    "\n",
    "# codigo profe modificado\n",
    "\n",
    "def encontar_numeros_amigos(rango_inferior, rango_superior):\n",
    "    conjuntoamigos = set()\n",
    "    for a in range(rango_inferior, rango_superior + 1):\n",
    "        b = suma_divisores_propios(a)\n",
    "\n",
    "        #parte corregida profe\n",
    "        if b > a and b <= rango_superior and suma_divisores_propios(b) == a:\n",
    "            conjuntoamigos.add((a, b))\n",
    "    print(sorted(conjuntoamigos))\n",
    "    return sorted(conjuntoamigos)\n",
    "\n",
    "rango_inferior = int(input(\"Ingrese el límite inferior del rango: \"))\n",
    "rango_superior = int(input(\"Ingrese el límite superior del rango: \"))\n",
    "\n",
    "resultado1 = encontar_numeros_amigos(rango_inferior, rango_superior)\n"
   ],
   "metadata": {
    "id": "3Y7-c2zHGc_d"
   },
   "execution_count": null,
   "outputs": []
  }
 ]
}
