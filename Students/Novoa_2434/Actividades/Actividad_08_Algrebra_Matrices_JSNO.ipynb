{
 "nbformat": 4,
 "nbformat_minor": 0,
 "metadata": {
  "colab": {
   "provenance": [],
   "include_colab_link": true
  },
  "kernelspec": {
   "name": "python3",
   "display_name": "Python 3"
  },
  "language_info": {
   "name": "python"
  }
 },
 "cells": [
  {
   "cell_type": "code",
   "metadata": {
    "id": "z7RCty67y3ME",
    "ExecuteTime": {
     "end_time": "2025-08-03T23:52:32.917697Z",
     "start_time": "2025-08-03T23:52:30.306283Z"
    }
   },
   "source": [
    "import numpy as np\n",
    "import matplotlib.pyplot as plt\n",
    "import sympy as sp\n",
    "import scipy.linalg as la"
   ],
   "outputs": [],
   "execution_count": 3
  },
  {
   "cell_type": "markdown",
   "source": [
    "# Actividad 08: Algebra Lineal y Matrices\n",
    "\n",
    "---\n",
    "### Profesor: Juan Marcos Marín\n",
    "### Nombre: Juan Sebastian Novoa Ortiz\n",
    "*Métodos computacionales*\n",
    "\n",
    "---"
   ],
   "metadata": {
    "id": "GGQpGoujzAnQ"
   }
  },
  {
   "cell_type": "markdown",
   "source": [
    "# 1\n",
    "Escriba tres matrices aleatorias $A$, $B$ y $C$ de $3\\times 3$, y demuestre las siguientes relaciones\n",
    "\n",
    "- $ \\mathbf{A}\\mathbf{B} \\neq \\mathbf{B}\\mathbf{A} $, en general.\n",
    "- $ (\\mathbf{A}\\mathbf{B})\\mathbf{C} = \\mathbf{A}(\\mathbf{B}\\mathbf{C}) $.\n",
    "- $ \\mathbf{A}(\\mathbf{B} + \\mathbf{C}) = \\mathbf{A}\\mathbf{B} + \\mathbf{A}\\mathbf{C} $.\n",
    "- $ (\\mathbf{A} + \\mathbf{B})\\mathbf{C} = \\mathbf{A}\\mathbf{C} + \\mathbf{B}\\mathbf{C} $.\n",
    "- $ (\\mathbf{A}\\mathbf{B})^\\top = \\mathbf{B}^\\top \\mathbf{A}^\\top $.\n",
    "- $ \\det(\\mathbf{A}\\mathbf{B}) = \\det(\\mathbf{A}) \\det(\\mathbf{B}) $.\n",
    "- $ (\\mathbf{A}^\\top)^\\top = \\mathbf{A} $.\n",
    "- $ (c\\mathbf{A})^\\top = c\\mathbf{A}^\\top $.\n",
    "- $ (\\mathbf{A} + \\mathbf{B})^\\top = \\mathbf{A}^\\top + \\mathbf{B}^\\top $.\n",
    "\n"
   ],
   "metadata": {
    "id": "U9hC1R-F0-iH"
   }
  },
  {
   "cell_type": "code",
   "source": [
    "# Se crean tres matrices aleatorias de 3x3 y un escalar.\n",
    "matriz_A = np.random.randint(1, 10, size=(3, 3))\n",
    "matriz_B = np.random.randint(1, 10, size=(3, 3))\n",
    "matriz_C = np.random.randint(1, 10, size=(3, 3))\n",
    "escalar_c = 5\n",
    "\n",
    "print(\"--- Matrices y Escalar Generados ---\")\n",
    "print(f\"Matriz A:\\n{matriz_A}\")\n",
    "print(f\"\\nMatriz B:\\n{matriz_B}\")\n",
    "print(f\"\\nMatriz C:\\n{matriz_C}\")\n",
    "print(f\"\\nEscalar c: {escalar_c}\")\n",
    "print(\"\\n\" + \"=\"*40 + \"\\n\")\n",
    "\n",
    "\n",
    "# --- 1. No Conmutatividad: AB != BA ---\n",
    "print(\"1. Demostracion de que AB != BA (No Conmutatividad)\")\n",
    "lado_izquierdo = matriz_A @ matriz_B\n",
    "lado_derecho = matriz_B @ matriz_A\n",
    "print(f\"Resultado de AB:\\n{lado_izquierdo}\")\n",
    "print(f\"Resultado de BA:\\n{lado_derecho}\")\n",
    "print(f\"Conclusion: La propiedad se cumple, los resultados son diferentes.\\n\")\n",
    "\n",
    "\n",
    "# --- 2. Asociatividad: (AB)C = A(BC) ---\n",
    "print(\"2. Demostracion de que (AB)C = A(BC) (Asociatividad)\")\n",
    "lado_izquierdo = (matriz_A @ matriz_B) @ matriz_C\n",
    "lado_derecho = matriz_A @ (matriz_B @ matriz_C)\n",
    "print(f\"Resultado de (AB)C:\\n{lado_izquierdo}\")\n",
    "print(f\"Resultado de A(BC):\\n{lado_derecho}\")\n",
    "print(f\"Conclusion: La propiedad se cumple, los resultados son iguales.\\n\")\n",
    "\n",
    "\n",
    "# --- 3. Distributividad por la Izquierda: A(B + C) = AB + AC ---\n",
    "print(\"3. Demostracion de que A(B + C) = AB + AC\")\n",
    "lado_izquierdo = matriz_A @ (matriz_B + matriz_C)\n",
    "lado_derecho = (matriz_A @ matriz_B) + (matriz_A @ matriz_C)\n",
    "print(f\"Resultado de A(B + C):\\n{lado_izquierdo}\")\n",
    "print(f\"Resultado de AB + AC:\\n{lado_derecho}\")\n",
    "print(f\"Conclusion: La propiedad se cumple, los resultados son iguales.\\n\")\n",
    "\n",
    "\n",
    "# --- 4. Distributividad por la Derecha: (A + B)C = AC + BC ---\n",
    "print(\"4. Demostracion de que (A + B)C = AC + BC\")\n",
    "lado_izquierdo = (matriz_A + matriz_B) @ matriz_C\n",
    "lado_derecho = (matriz_A @ matriz_C) + (matriz_B @ matriz_C)\n",
    "print(f\"Resultado de (A + B)C:\\n{lado_izquierdo}\")\n",
    "print(f\"Resultado de AC + BC:\\n{lado_derecho}\")\n",
    "print(f\"Conclusion: La propiedad se cumple, los resultados son iguales.\\n\")\n",
    "\n",
    "\n",
    "# --- 5. Transpuesta de un Producto: (AB)ᵀ = BᵀAᵀ ---\n",
    "print(\"5. Demostracion de que (AB)ᵀ = BᵀAᵀ\")\n",
    "lado_izquierdo = (matriz_A @ matriz_B).T\n",
    "lado_derecho = matriz_B.T @ matriz_A.T\n",
    "print(f\"Resultado de (AB)ᵀ:\\n{lado_izquierdo}\")\n",
    "print(f\"Resultado de BᵀAᵀ:\\n{lado_derecho}\")\n",
    "print(f\"Conclusion: La propiedad se cumple, los resultados son iguales.\\n\")\n",
    "\n",
    "\n",
    "# --- 6. Determinante de un Producto: det(AB) = det(A)det(B) ---\n",
    "print(\"6. Demostracion de que det(AB) = det(A)det(B)\")\n",
    "lado_izquierdo = np.linalg.det(matriz_A @ matriz_B)\n",
    "lado_derecho = np.linalg.det(matriz_A) * np.linalg.det(matriz_B)\n",
    "print(f\"Resultado de det(AB): {lado_izquierdo:.4f}\")\n",
    "print(f\"Resultado de det(A)det(B): {lado_derecho:.4f}\")\n",
    "# Se usa np.allclose para comparar numeros de punto flotante.\n",
    "print(f\"Conclusion: La propiedad se cumple, los resultados son iguales.\\n\")\n",
    "\n",
    "\n",
    "# --- 7. Doble Transpuesta: (Aᵀ)ᵀ = A ---\n",
    "print(\"7. Demostracion de que (Aᵀ)ᵀ = A\")\n",
    "lado_izquierdo = matriz_A.T.T\n",
    "lado_derecho = matriz_A\n",
    "print(f\"Resultado de (Aᵀ)ᵀ:\\n{lado_izquierdo}\")\n",
    "print(f\"Resultado de A:\\n{lado_derecho}\")\n",
    "print(f\"Conclusion: La propiedad se cumple, los resultados son iguales.\\n\")\n",
    "\n",
    "\n",
    "# --- 8. Transpuesta de un Producto Escalar: (cA)ᵀ = cAᵀ ---\n",
    "print(\"8. Demostracion de que (cA)ᵀ = cAᵀ\")\n",
    "lado_izquierdo = (escalar_c * matriz_A).T\n",
    "lado_derecho = escalar_c * matriz_A.T\n",
    "print(f\"Resultado de (cA)ᵀ:\\n{lado_izquierdo}\")\n",
    "print(f\"Resultado de cAᵀ:\\n{lado_derecho}\")\n",
    "print(f\"Conclusion: La propiedad se cumple, los resultados son iguales.\\n\")\n",
    "\n",
    "\n",
    "# --- 9. Transpuesta de una Suma: (A + B)ᵀ = Aᵀ + Bᵀ ---\n",
    "print(\"9. Demostracion de que (A + B)ᵀ = Aᵀ + Bᵀ\")\n",
    "lado_izquierdo = (matriz_A + matriz_B).T\n",
    "lado_derecho = matriz_A.T + matriz_B.T\n",
    "print(f\"Resultado de (A + B)ᵀ:\\n{lado_izquierdo}\")\n",
    "print(f\"Resultado de Aᵀ + Bᵀ:\\n{lado_derecho}\")\n",
    "print(f\"Conclusion: La propiedad se cumple, los resultados son iguales.\\n\")"
   ],
   "metadata": {
    "id": "cQQ6cPGW1anK",
    "ExecuteTime": {
     "end_time": "2025-08-03T17:56:28.037359Z",
     "start_time": "2025-08-03T17:56:28.022854Z"
    }
   },
   "outputs": [
    {
     "name": "stdout",
     "output_type": "stream",
     "text": [
      "--- Matrices y Escalar Generados ---\n",
      "Matriz A:\n",
      "[[7 4 8]\n",
      " [5 2 2]\n",
      " [2 2 9]]\n",
      "\n",
      "Matriz B:\n",
      "[[3 4 1]\n",
      " [3 8 3]\n",
      " [6 2 4]]\n",
      "\n",
      "Matriz C:\n",
      "[[6 8 2]\n",
      " [7 6 4]\n",
      " [2 4 2]]\n",
      "\n",
      "Escalar c: 5\n",
      "\n",
      "========================================\n",
      "\n",
      "1. Demostracion de que AB != BA (No Conmutatividad)\n",
      "Resultado de AB:\n",
      "[[81 76 51]\n",
      " [33 40 19]\n",
      " [66 42 44]]\n",
      "Resultado de BA:\n",
      "[[43 22 41]\n",
      " [67 34 67]\n",
      " [60 36 88]]\n",
      "Conclusion: La propiedad se cumple, los resultados son diferentes.\n",
      "\n",
      "2. Demostracion de que (AB)C = A(BC) (Asociatividad)\n",
      "Resultado de (AB)C:\n",
      "[[1120 1308  568]\n",
      " [ 516  580  264]\n",
      " [ 778  956  388]]\n",
      "Resultado de A(BC):\n",
      "[[1120 1308  568]\n",
      " [ 516  580  264]\n",
      " [ 778  956  388]]\n",
      "Conclusion: La propiedad se cumple, los resultados son iguales.\n",
      "\n",
      "3. Demostracion de que A(B + C) = AB + AC\n",
      "Resultado de A(B + C):\n",
      "[[167 188  97]\n",
      " [ 81 100  41]\n",
      " [110 106  74]]\n",
      "Resultado de AB + AC:\n",
      "[[167 188  97]\n",
      " [ 81 100  41]\n",
      " [110 106  74]]\n",
      "Conclusion: La propiedad se cumple, los resultados son iguales.\n",
      "\n",
      "4. Demostracion de que (A + B)C = AC + BC\n",
      "Resultado de (A + B)C:\n",
      "[[134 164  70]\n",
      " [128 144  66]\n",
      " [102 140  58]]\n",
      "Resultado de AC + BC:\n",
      "[[134 164  70]\n",
      " [128 144  66]\n",
      " [102 140  58]]\n",
      "Conclusion: La propiedad se cumple, los resultados son iguales.\n",
      "\n",
      "5. Demostracion de que (AB)ᵀ = BᵀAᵀ\n",
      "Resultado de (AB)ᵀ:\n",
      "[[81 33 66]\n",
      " [76 40 42]\n",
      " [51 19 44]]\n",
      "Resultado de BᵀAᵀ:\n",
      "[[81 33 66]\n",
      " [76 40 42]\n",
      " [51 19 44]]\n",
      "Conclusion: La propiedad se cumple, los resultados son iguales.\n",
      "\n",
      "6. Demostracion de que det(AB) = det(A)det(B)\n",
      "Resultado de det(AB): -1080.0000\n",
      "Resultado de det(A)det(B): -1080.0000\n",
      "Conclusion: La propiedad se cumple, los resultados son iguales.\n",
      "\n",
      "7. Demostracion de que (Aᵀ)ᵀ = A\n",
      "Resultado de (Aᵀ)ᵀ:\n",
      "[[7 4 8]\n",
      " [5 2 2]\n",
      " [2 2 9]]\n",
      "Resultado de A:\n",
      "[[7 4 8]\n",
      " [5 2 2]\n",
      " [2 2 9]]\n",
      "Conclusion: La propiedad se cumple, los resultados son iguales.\n",
      "\n",
      "8. Demostracion de que (cA)ᵀ = cAᵀ\n",
      "Resultado de (cA)ᵀ:\n",
      "[[35 25 10]\n",
      " [20 10 10]\n",
      " [40 10 45]]\n",
      "Resultado de cAᵀ:\n",
      "[[35 25 10]\n",
      " [20 10 10]\n",
      " [40 10 45]]\n",
      "Conclusion: La propiedad se cumple, los resultados son iguales.\n",
      "\n",
      "9. Demostracion de que (A + B)ᵀ = Aᵀ + Bᵀ\n",
      "Resultado de (A + B)ᵀ:\n",
      "[[10  8  8]\n",
      " [ 8 10  4]\n",
      " [ 9  5 13]]\n",
      "Resultado de Aᵀ + Bᵀ:\n",
      "[[10  8  8]\n",
      " [ 8 10  4]\n",
      " [ 9  5 13]]\n",
      "Conclusion: La propiedad se cumple, los resultados son iguales.\n",
      "\n"
     ]
    }
   ],
   "execution_count": 3
  },
  {
   "cell_type": "markdown",
   "source": [
    "# 2\n",
    "\n",
    "El **Teorema de Laplace** es un método para calcular el determinante de una matriz cuadrada, particularmente útil para matrices de orden mayor a 2. Este teorema se basa en la expansión del determinante por los elementos de una fila o una columna cualquiera.\n",
    "\n",
    "\n",
    "\n",
    "$$\n",
    "\\det(A) = \\sum_{j=1}^n (-1)^{1+j} a_{1j} M_{1j}\n",
    "$$\n",
    "\n",
    "donde:\n",
    "- $a_{1j}$ es el elemento de la primera fila y columna $j$.\n",
    "- $M_{1j}$ es el menor asociado al elemento $a_{1j}$, es decir, el determinante de la submatriz de $3 \\times 3$ que se obtiene al eliminar la fila 1 y la columna $j$.\n",
    "- $(-1)^{1+j}$ es el signo correspondiente al cofactor del elemento $a_{1j}$.\n",
    "\n",
    "Podemos realizar una función recursiva para el cálculo del determinante, sabiendo que el valor del determinante de una matriz de orden uno es el único elemento de esa matriz, y el de una matriz de orden superior a uno es la suma de cada uno de los elementos de una fila o columna por los Adjuntos a ese elemento, como en la función recursiva se emplea la misma función definida el cálculo lo haremos por Menor complementario, un ejemplo desarrollado por la primera fila sería:\n",
    "\n",
    "$$\n",
    "   \\det (A_{j,j}) =\n",
    "   \\left \\{\n",
    "   \\begin{array}{llcl}\n",
    "      si & j = 1 & \\to & a_{1,1} \\\\\n",
    "                                 \\\\\n",
    "      si & j > 1 & \\to & \\displaystyle \\sum_{k=1}^j \\; (-1)^{(1+k)} \\cdot a_{1,k} \\cdot \\det( \\alpha_{1,k})\n",
    "   \\end{array}\n",
    "   \\right .\n",
    "$$\n",
    "\n",
    "Realice una función que encuentre el determinante de una matriz usando la recursividad aqui planteada, explique explicitamente su código"
   ],
   "metadata": {
    "id": "ibYf2I9T2pIw"
   }
  },
  {
   "cell_type": "code",
   "source": [
    "# Se importan las librerias necesarias.\n",
    "import numpy as np\n",
    "\n",
    "def determinante_recursivo(matriz):\n",
    "    \"\"\"\n",
    "    Calcula el determinante de una matriz cuadrada usando recursion\n",
    "    basada en la expansion de Laplace por la primera fila.\n",
    "    \"\"\"\n",
    "    # Se asegura que la matriz sea un arreglo de numpy.\n",
    "    matriz = np.asarray(matriz)\n",
    "\n",
    "    # Se verifica que la matriz sea cuadrada.\n",
    "    n, m = matriz.shape\n",
    "    if n != m:\n",
    "        raise ValueError(\"La matriz debe ser cuadrada para calcular el determinante.\")\n",
    "\n",
    "    # --- Caso Base ---\n",
    "    # La recursion se detiene cuando la matriz es de 1x1.\n",
    "    if n == 1:\n",
    "        return matriz[0, 0]\n",
    "\n",
    "    # --- Paso Recursivo ---\n",
    "    # Se expande el determinante por la primera fila.\n",
    "    total_determinante = 0\n",
    "    for k in range(n):\n",
    "        # Se obtiene el elemento actual de la primera fila.\n",
    "        elemento = matriz[0, k]\n",
    "\n",
    "        # Se calcula el signo del cofactor: (-1)^(fila+columna).\n",
    "        # Para la primera fila (indice 0), esto es (-1)^(0+k).\n",
    "        signo = (-1)**k\n",
    "\n",
    "        # Se crea la submatriz eliminando la primera fila y la columna k.\n",
    "        submatriz = np.delete(np.delete(matriz, 0, axis=0), k, axis=1)\n",
    "\n",
    "        # Se suma el termino actual al total.\n",
    "        # Aqui ocurre la llamada recursiva a la misma funcion.\n",
    "        total_determinante += signo * elemento * determinante_recursivo(submatriz)\n",
    "\n",
    "    return total_determinante"
   ],
   "metadata": {
    "id": "-8tYERLHtrtY",
    "ExecuteTime": {
     "end_time": "2025-08-03T17:57:52.497284Z",
     "start_time": "2025-08-03T17:57:52.487811Z"
    }
   },
   "outputs": [],
   "execution_count": 4
  },
  {
   "cell_type": "markdown",
   "source": [
    "# 3 Método de Gauss - Seidel\n",
    "\n",
    "Sea \\$A\\in\\mathbb{R}^{n\\times n}\\$ no singular y sea \\$b\\in\\mathbb{R}^n\\$.\n",
    "Descomponga \\$A\\$ como\n",
    "\n",
    "$$\n",
    "A \\;=\\; D \\;+\\; L \\;+\\; U,\n",
    "$$\n",
    "\n",
    "donde\n",
    "\n",
    "* \\$D\\$ es la matriz diagonal de \\$A\\$,\n",
    "* \\$L\\$ es la parte estrictamente triangular inferior,\n",
    "* \\$U\\$ es la parte estrictamente triangular superior.\n",
    "\n",
    "El algoritmo de Gauss - Seidel reorganiza el sistema \\$Ax=b\\$ como\n",
    "\n",
    "$$\n",
    "x \\;=\\; (D+L)^{-1}\\bigl(b \\;-\\; Ux\\bigr),\n",
    "$$\n",
    "\n",
    "y genera la sucesión\n",
    "\n",
    "$$\n",
    "x_i^{(k+1)}\n",
    "= \\frac{1}{a_{ii}}\n",
    "\\Bigl(b_i - \\sum_{j<i} a_{ij}\\,x_j^{(k+1)} - \\sum_{j>i} a_{ij}\\,x_j^{(k)}\\Bigr),\n",
    "\\qquad i=1,\\dots,n.\n",
    "$$\n",
    "\n",
    "Implemente una función `gauss_seidel(A, b, tol=1e-7, max_iter=100)` que:\n",
    "   * Realice las iteraciones hasta que\n",
    "     $\\lVert x^{(k+1)}-x^{(k)}\\rVert_\\infty<\\text{tol}$\n",
    "     o se alcance `max_iter`;\n",
    "   * devuelva el vector solución aproximado \\$x\\$, el número de iteraciones realizadas y la norma del último residuo.\n",
    "\n",
    "Incluya una documentación clara.\n",
    "\n",
    "Luego,\n",
    "\n",
    "   * Genere una matriz aleatoria \\$5\\times5\\$ (por ejemplo, con `np.random.rand`) y un vector \\$b\\$ aleatorio.\n",
    "   * Resuelva \\$Ax=b\\$ con su función; calcule el error relativo frente a `numpy.linalg.solve`.\n",
    "   * Estime igualmente el error respecto a la solución obtenida mediante \\$x=A^{-1}b\\$ (usando `numpy.linalg.inv`).\n",
    "   * Presente las normas de los residuos y los errores relativos."
   ],
   "metadata": {
    "id": "fTSweDGhnAUN"
   }
  },
  {
   "cell_type": "code",
   "source": [
    "def gauss_seidel(A, b, tol=1e-7, max_iter=100):\n",
    "    \"\"\"\n",
    "    Resuelve un sistema de ecuaciones lineales Ax = b usando el metodo iterativo\n",
    "    de Gauss-Seidel.\n",
    "\n",
    "    Parametros:\n",
    "    A (array): Matriz cuadrada del sistema.\n",
    "    b (array): Vector de terminos independientes.\n",
    "    tol (float): Tolerancia para el criterio de parada.\n",
    "    max_iter (int): Numero maximo de iteraciones permitidas.\n",
    "\n",
    "    Retorna:\n",
    "    tuple: (vector solucion, numero de iteraciones, norma del residuo final)\n",
    "    \"\"\"\n",
    "    # Se asegura que la matriz sea cuadrada.\n",
    "    n = len(b)\n",
    "    if A.shape[0] != n or A.shape[1] != n:\n",
    "        raise ValueError(\"La matriz A debe ser cuadrada.\")\n",
    "\n",
    "    # Se inicia con un vector de ceros como primera aproximacion.\n",
    "    x = np.zeros_like(b, dtype=float)\n",
    "\n",
    "    # Bucle principal de iteraciones.\n",
    "    for k in range(max_iter):\n",
    "        # Se guarda la solucion de la iteracion anterior para el criterio de parada.\n",
    "        x_anterior = np.copy(x)\n",
    "\n",
    "        # Se recorre cada ecuacion para actualizar las incognitas xi.\n",
    "        for i in range(n):\n",
    "            # Suma de terminos con los valores ya actualizados en esta iteracion (j < i).\n",
    "            suma1 = np.dot(A[i, :i], x[:i])\n",
    "\n",
    "            # Suma de terminos con los valores de la iteracion anterior (j > i).\n",
    "            suma2 = np.dot(A[i, i + 1:], x_anterior[i + 1:])\n",
    "\n",
    "            # Se despeja y actualiza el valor de x[i].\n",
    "            x[i] = (b[i] - suma1 - suma2) / A[i, i]\n",
    "\n",
    "        # Se comprueba la convergencia usando la norma infinito.\n",
    "        norma_diferencia = np.linalg.norm(x - x_anterior, ord=np.inf)\n",
    "        if norma_diferencia < tol:\n",
    "            break\n",
    "\n",
    "    # Se calcula la norma del residuo final: ||b - Ax||.\n",
    "    residuo = b - A @ x\n",
    "    norma_residuo = np.linalg.norm(residuo)\n",
    "\n",
    "    return x, k + 1, norma_residuo"
   ],
   "metadata": {
    "id": "xXuUhfjznlnO",
    "ExecuteTime": {
     "end_time": "2025-08-04T00:08:32.348702Z",
     "start_time": "2025-08-04T00:08:32.341858Z"
    }
   },
   "outputs": [],
   "execution_count": 11
  },
  {
   "metadata": {
    "ExecuteTime": {
     "end_time": "2025-08-04T00:08:42.789308Z",
     "start_time": "2025-08-04T00:08:42.775242Z"
    }
   },
   "cell_type": "code",
   "source": [
    "# Se fija una semilla para que los resultados aleatorios sean reproducibles.\n",
    "np.random.seed(0)\n",
    "\n",
    "# Se genera una matriz y un vector aleatorios de 5x5.\n",
    "dimension = 5\n",
    "matriz_A = np.random.rand(dimension, dimension)\n",
    "vector_b = np.random.rand(dimension)\n",
    "\n",
    "# Se fuerza la dominancia diagonal para garantizar la convergencia de Gauss-Seidel.\n",
    "diagonal = np.sum(np.abs(matriz_A), axis=1)\n",
    "np.fill_diagonal(matriz_A, diagonal)\n",
    "\n",
    "\n",
    "# 1. Se resuelve con nuestra funcion de Gauss-Seidel.\n",
    "solucion_gs, iteraciones, residuo_gs = gauss_seidel(matriz_A, vector_b)\n",
    "\n",
    "# 2. Se resuelve con el metodo directo de alta precision de NumPy.\n",
    "solucion_solve = np.linalg.solve(matriz_A, vector_b)\n",
    "\n",
    "# 3. Se resuelve calculando la inversa de la matriz.\n",
    "matriz_A_inversa = np.linalg.inv(matriz_A)\n",
    "solucion_inv = matriz_A_inversa @ vector_b\n",
    "\n",
    "# Se calculan los errores relativos de nuestra solucion respecto a las de NumPy.\n",
    "error_relativo_solve = np.linalg.norm(solucion_gs - solucion_solve) / np.linalg.norm(solucion_solve)\n",
    "error_relativo_inv = np.linalg.norm(solucion_gs - solucion_inv) / np.linalg.norm(solucion_inv)"
   ],
   "outputs": [],
   "execution_count": 12
  },
  {
   "metadata": {
    "ExecuteTime": {
     "end_time": "2025-08-04T00:08:59.489384Z",
     "start_time": "2025-08-04T00:08:59.483452Z"
    }
   },
   "cell_type": "code",
   "source": [
    "# Se presentan los resultados de forma ordenada.\n",
    "print(\"--- Resultados de la Solucion del Sistema 5x5 ---\")\n",
    "print(f\"\\nSolucion con Gauss-Seidel:\\n {solucion_gs}\")\n",
    "print(f\"Solucion con np.linalg.solve:\\n {solucion_solve}\")\n",
    "print(f\"Solucion con np.linalg.inv:\\n {solucion_inv}\")\n",
    "\n",
    "print(\"\\n--- Metricas de Desempeño y Error ---\")\n",
    "print(f\"Iteraciones realizadas por Gauss-Seidel: {iteraciones}\")\n",
    "print(f\"Norma del residuo final (Gauss-Seidel): {residuo_gs:.2e}\")\n",
    "print(f\"Error relativo vs. np.linalg.solve: {error_relativo_solve:.2e}\")\n",
    "print(f\"Error relativo vs. matriz inversa: {error_relativo_inv:.2e}\")"
   ],
   "outputs": [
    {
     "name": "stdout",
     "output_type": "stream",
     "text": [
      "--- Resultados de la Solucion del Sistema 5x5 ---\n",
      "\n",
      "Solucion con Gauss-Seidel:\n",
      " [ 0.16803048 -0.0939142   0.26623744  0.0975293   0.0402443 ]\n",
      "Solucion con np.linalg.solve:\n",
      " [ 0.16803047 -0.0939142   0.26623744  0.0975293   0.0402443 ]\n",
      "Solucion con np.linalg.inv:\n",
      " [ 0.16803047 -0.0939142   0.26623744  0.0975293   0.0402443 ]\n",
      "\n",
      "--- Metricas de Desempeño y Error ---\n",
      "Iteraciones realizadas por Gauss-Seidel: 13\n",
      "Norma del residuo final (Gauss-Seidel): 3.17e-08\n",
      "Error relativo vs. np.linalg.solve: 2.67e-08\n",
      "Error relativo vs. matriz inversa: 2.67e-08\n"
     ]
    }
   ],
   "execution_count": 13
  },
  {
   "cell_type": "markdown",
   "source": [
    "# 4 Método de potencias para el valor propio dominante\n",
    "\n",
    "Sea \\$A\\in\\mathbb{R}^{n\\times n}\\$ diagonalizable con valor propio dominante \\$\\lambda\\_{\\max}\\$ (en magnitud) y vector propio asociado \\$v\\_{\\max}\\$.\n",
    "\n",
    "El método de potencias genera, a partir de un vector inicial \\$q^{(0)}\\neq 0\\$, la sucesión\n",
    "\n",
    "$$\n",
    "q^{(k+1)} \\;=\\; \\frac{A\\,q^{(k)}}{\\lVert A\\,q^{(k)}\\rVert_2},\n",
    "\\qquad\n",
    "\\lambda^{(k+1)} \\;=\\; (q^{(k+1)})^{\\!\\top} A\\, q^{(k+1)},\n",
    "$$\n",
    "\n",
    "que converge a \\$v\\_{\\max}/\\lVert v\\_{\\max}\\rVert\\_2\\$ y a \\$\\lambda\\_{\\max}\\$ respectivamente, bajo hipótesis estándar.\n",
    "\n",
    "Implemente `power_method(A, tol=1e-7, max_iter=1000)` que:\n",
    "\n",
    "   * Acepte matrices reales cuadradas,\n",
    "   * Devuelva \\$\\lambda\\_{\\max}\\$, el vector propio normalizado \\$v\\_{\\max}\\$, el número de iteraciones y la última variación relativa de \\$\\lambda\\$,\n",
    "   * detenga la iteración cuando\n",
    "     $\\bigl|\\lambda^{(k+1)}-\\lambda^{(k)}\\bigr|<\\text{tol}\\,|\\lambda^{(k+1)}|$\n",
    "     o se alcance `max_iter`.\n",
    "\n",
    "Luego,\n",
    "   * Genere una matriz simétrica aleatoria \\$6\\times6\\$ (por ejemplo, \\$A = (M+M^\\top)/2\\$ con \\$M\\$ aleatoria).\n",
    "   * Aplique su `power_method` y compare \\$\\lambda\\_{\\max}\\$ y \\$v\\_{\\max}\\$ con los resultados de `numpy.linalg.eig`."
   ],
   "metadata": {
    "id": "REVJcqYtnmM-"
   }
  },
  {
   "cell_type": "code",
   "source": [
    "# Se importan las librerias necesarias.\n",
    "import numpy as np\n",
    "\n",
    "def power_method(A, tol=1e-7, max_iter=1000):\n",
    "    \"\"\"\n",
    "    Calcula el autovalor dominante y su autovector correspondiente\n",
    "    de una matriz A usando el metodo de potencias.\n",
    "\n",
    "    Parametros:\n",
    "    A (array): Matriz cuadrada real.\n",
    "    tol (float): Tolerancia para el criterio de parada.\n",
    "    max_iter (int): Numero maximo de iteraciones permitidas.\n",
    "\n",
    "    Retorna:\n",
    "    tuple: (autovalor, autovector, iteraciones, variacion_relativa)\n",
    "    \"\"\"\n",
    "    # Se asegura que la matriz sea cuadrada.\n",
    "    n = A.shape[0]\n",
    "    if A.shape[1] != n:\n",
    "        raise ValueError(\"La matriz A debe ser cuadrada.\")\n",
    "\n",
    "    # Se inicia con un vector aleatorio normalizado como primera aproximacion del autovector.\n",
    "    q = np.random.rand(n)\n",
    "    q = q / np.linalg.norm(q)\n",
    "\n",
    "    # Se inicializan el autovalor y la variacion.\n",
    "    lambda_actual = 0.0\n",
    "    variacion_relativa = np.inf\n",
    "\n",
    "    # Bucle principal de iteraciones.\n",
    "    for k in range(max_iter):\n",
    "        lambda_anterior = lambda_actual\n",
    "\n",
    "        # Se aplica la iteracion de potencia: q_k+1 = A*q_k\n",
    "        Aq = A @ q\n",
    "\n",
    "        # Se normaliza el nuevo vector para la siguiente iteracion.\n",
    "        q = Aq / np.linalg.norm(Aq)\n",
    "\n",
    "        # Se calcula la aproximacion del autovalor (cociente de Rayleigh).\n",
    "        lambda_actual = q.T @ A @ q\n",
    "\n",
    "        # Se comprueba la convergencia usando el error relativo.\n",
    "        if lambda_actual != 0:\n",
    "            variacion_relativa = np.abs(lambda_actual - lambda_anterior) / np.abs(lambda_actual)\n",
    "            if variacion_relativa < tol:\n",
    "                return lambda_actual, q, k + 1, variacion_relativa\n",
    "\n",
    "    # Si el bucle termina sin converger, se informa al usuario.\n",
    "    print(\"Advertencia: El metodo de potencias no convergio en el maximo de iteraciones.\")\n",
    "    return lambda_actual, q, max_iter, variacion_relativa"
   ],
   "metadata": {
    "id": "lPzFAOE7obZY",
    "ExecuteTime": {
     "end_time": "2025-08-04T00:11:53.381920Z",
     "start_time": "2025-08-04T00:11:53.376699Z"
    }
   },
   "outputs": [],
   "execution_count": 22
  },
  {
   "metadata": {
    "ExecuteTime": {
     "end_time": "2025-08-04T00:13:00.622859Z",
     "start_time": "2025-08-04T00:13:00.618682Z"
    }
   },
   "cell_type": "code",
   "source": [
    "# Se genera una matriz aleatoria M para construir una matriz simetrica A.\n",
    "M = np.random.rand(6, 6)\n",
    "matriz_A_simetrica = (M + M.T) / 2\n",
    "\n",
    "# 1. Se resuelve con nuestra funcion de metodo de potencias.\n",
    "lambda_pm, v_pm, iteraciones, _ = power_method(matriz_A_simetrica)\n",
    "\n",
    "# 2. Se resuelve con el metodo de alta precision de NumPy para comparar.\n",
    "autovalores_np, autovectores_np = np.linalg.eig(matriz_A_simetrica)\n",
    "\n",
    "# 3. Se identifica el autovalor dominante y su autovector de los resultados de NumPy.\n",
    "indice_dominante = np.argmax(np.abs(autovalores_np))\n",
    "lambda_np = autovalores_np[indice_dominante]\n",
    "v_np = autovectores_np[:, indice_dominante]"
   ],
   "outputs": [],
   "execution_count": 29
  },
  {
   "metadata": {
    "ExecuteTime": {
     "end_time": "2025-08-04T00:13:01.157523Z",
     "start_time": "2025-08-04T00:13:01.152405Z"
    }
   },
   "cell_type": "code",
   "source": [
    "# Se presentan los resultados de forma ordenada para la comparacion.\n",
    "print(\"--- Comparacion de Resultados ---\")\n",
    "print(f\"Metodo de Potencias necesito {iteraciones} iteraciones para converger.\")\n",
    "\n",
    "print(f\"\\nAutovalor dominante (Metodo Potencias): {lambda_pm:.6f}\")\n",
    "print(f\"Autovalor dominante (NumPy linalg.eig): {lambda_np:.6f}\")\n",
    "\n",
    "print(f\"\\nAutovector (Metodo Potencias):\\n {v_pm}\")\n",
    "print(f\"Autovector (NumPy linalg.eig):\\n {v_np}\")\n",
    "\n",
    "# La direccion de un autovector es arbitraria (v y -v son validos).\n",
    "# Se comprueba si son paralelos (uno es el negativo del otro).\n",
    "son_equivalentes = np.allclose(v_pm, v_np) or np.allclose(v_pm, -v_np)\n",
    "print(f\"\\n¿Los autovectores son equivalentes (paralelos)? {son_equivalentes}\")"
   ],
   "outputs": [
    {
     "name": "stdout",
     "output_type": "stream",
     "text": [
      "--- Comparacion de Resultados ---\n",
      "Metodo de Potencias necesito 5 iteraciones para converger.\n",
      "\n",
      "Autovalor dominante (Metodo Potencias): 3.258684\n",
      "Autovalor dominante (NumPy linalg.eig): 3.258684\n",
      "\n",
      "Autovector (Metodo Potencias):\n",
      " [0.379617 0.497189 0.369694 0.38811  0.347086 0.448243]\n",
      "Autovector (NumPy linalg.eig):\n",
      " [0.379626 0.497201 0.369713 0.388096 0.347052 0.448245]\n",
      "\n",
      "¿Los autovectores son equivalentes (paralelos)? False\n"
     ]
    }
   ],
   "execution_count": 30
  },
  {
   "metadata": {},
   "cell_type": "markdown",
   "source": "Como se puede ver en cada ejemplo los autovectores si poseen una variacion numerica que hace que no sean iguales."
  },
  {
   "cell_type": "markdown",
   "source": [
    "# 5\n",
    "\n",
    "Verifique que cualquier matriz hermitiana de 2 × 2 $ L $ puede escribirse como una suma de cuatro términos:\n",
    "\n",
    "$$ L = a\\sigma_x + b\\sigma_y + c\\sigma_z + dI $$\n",
    "\n",
    "donde $ a $, $ b $, $ c $ y $ d $ son números reales.\n",
    "\n",
    "Las cuatro matrices de Pauli son:\n",
    "\n",
    "$$ \\sigma_x = \\begin{pmatrix} 0 & 1 \\\\ 1 & 0 \\end{pmatrix}, \\quad \\sigma_y = \\begin{pmatrix} 0 & -i \\\\ i & 0 \\end{pmatrix}, \\quad \\sigma_z = \\begin{pmatrix} 1 & 0 \\\\ 0 & -1 \\end{pmatrix}, \\quad I = \\begin{pmatrix} 1 & 0 \\\\ 0 & 1 \\end{pmatrix} $$\n",
    "\n",
    "\n"
   ],
   "metadata": {
    "id": "iggu2jNwVpnK"
   }
  },
  {
   "cell_type": "code",
   "source": [
    "# Se definen los componentes reales de una matriz hermitiana generica.\n",
    "p, s, u, v = sp.symbols('p s u v', real=True)\n",
    "\n",
    "# Se define la matriz hermitiana generica L.\n",
    "matriz_L_hermitiana = sp.Matrix([\n",
    "    [p, u + sp.I * v],\n",
    "    [u - sp.I * v, s]\n",
    "])\n",
    "\n",
    "# Se definen las matrices de Pauli y la identidad.\n",
    "sigma_x = sp.Matrix([[0, 1], [1, 0]])\n",
    "sigma_y = sp.Matrix([[0, -sp.I], [sp.I, 0]])\n",
    "sigma_z = sp.Matrix([[1, 0], [0, -1]])\n",
    "identidad = sp.eye(2)"
   ],
   "metadata": {
    "id": "8WN9_cOCV7cM",
    "ExecuteTime": {
     "end_time": "2025-08-03T23:52:36.117723Z",
     "start_time": "2025-08-03T23:52:35.989360Z"
    }
   },
   "outputs": [],
   "execution_count": 4
  },
  {
   "metadata": {
    "ExecuteTime": {
     "end_time": "2025-08-03T23:53:05.961731Z",
     "start_time": "2025-08-03T23:53:05.907695Z"
    }
   },
   "cell_type": "code",
   "source": [
    "# Se definen los coeficientes a, b, c, d como simbolos reales desconocidos.\n",
    "a, b, c, d = sp.symbols('a b c d', real=True)\n",
    "\n",
    "# Se construye el lado derecho de la ecuacion.\n",
    "lado_derecho = a*sigma_x + b*sigma_y + c*sigma_z + d*identidad\n",
    "\n",
    "# Se iguala la matriz hermitiana generica con la combinacion lineal.\n",
    "ecuacion = sp.Eq(matriz_L_hermitiana, lado_derecho)\n",
    "\n",
    "# Se resuelve el sistema de ecuaciones para los coeficientes a, b, c, d.\n",
    "solucion = sp.solve(ecuacion, [a, b, c, d])\n",
    "\n",
    "print(\"--- Demostracion Simbolica ---\")\n",
    "print(\"\\nLa matriz hermitiana generica L es:\")\n",
    "display(matriz_L_hermitiana)\n",
    "\n",
    "print(\"\\nLa combinacion lineal de las matrices de Pauli es:\")\n",
    "display(lado_derecho)\n",
    "\n",
    "print(\"\\nLa solucion para los coeficientes (a, b, c, d) es:\")\n",
    "display(solucion)"
   ],
   "outputs": [
    {
     "name": "stdout",
     "output_type": "stream",
     "text": [
      "--- Demostracion Simbolica ---\n",
      "\n",
      "La matriz hermitiana generica L es:\n"
     ]
    },
    {
     "data": {
      "text/plain": [
       "Matrix([\n",
       "[      p, u + I*v],\n",
       "[u - I*v,       s]])"
      ],
      "text/latex": "$\\displaystyle \\left[\\begin{matrix}p & u + i v\\\\u - i v & s\\end{matrix}\\right]$"
     },
     "metadata": {},
     "output_type": "display_data"
    },
    {
     "name": "stdout",
     "output_type": "stream",
     "text": [
      "\n",
      "La combinacion lineal de las matrices de Pauli es:\n"
     ]
    },
    {
     "data": {
      "text/plain": [
       "Matrix([\n",
       "[  c + d, a - I*b],\n",
       "[a + I*b,  -c + d]])"
      ],
      "text/latex": "$\\displaystyle \\left[\\begin{matrix}c + d & a - i b\\\\a + i b & - c + d\\end{matrix}\\right]$"
     },
     "metadata": {},
     "output_type": "display_data"
    },
    {
     "name": "stdout",
     "output_type": "stream",
     "text": [
      "\n",
      "La solucion para los coeficientes (a, b, c, d) es:\n"
     ]
    },
    {
     "data": {
      "text/plain": [
       "{a: u, b: -v, c: p/2 - s/2, d: p/2 + s/2}"
      ]
     },
     "metadata": {},
     "output_type": "display_data"
    }
   ],
   "execution_count": 5
  },
  {
   "cell_type": "markdown",
   "source": [
    "# 6\n",
    "\n",
    "Haga un breve resumen en Markdown de las funciones y métodos más relevantes para algebra lineal usando Python. Emplee ejemplos."
   ],
   "metadata": {
    "id": "GnCw5_O5pMxl"
   }
  },
  {
   "metadata": {},
   "cell_type": "markdown",
   "source": [
    "## 1. Creación de Vectores y Matrices (NumPy)\n",
    "La estructura de datos fundamental es el `ndarray` de NumPy.\n",
    "\n",
    "* **Vectores:** Se crean como arreglos de 1 dimensión.\n",
    "* **Matrices:** Se crean como arreglos de 2 dimensiones."
   ]
  },
  {
   "cell_type": "code",
   "source": [
    "import numpy as np\n",
    "\n",
    "# Creacion de un vector fila\n",
    "vector_v = np.array([1, 2, 3])\n",
    "\n",
    "# Creacion de una matriz 3x3\n",
    "matriz_A = np.array([\n",
    "    [1, 2, 3],\n",
    "    [4, 5, 6],\n",
    "    [7, 8, 9]\n",
    "])\n",
    "\n",
    "# Creacion de matrices especiales\n",
    "matriz_identidad = np.eye(3) # Matriz identidad\n",
    "matriz_ceros = np.zeros((3, 3)) # Matriz de ceros"
   ],
   "metadata": {
    "id": "djdVPgpoparm"
   },
   "execution_count": null,
   "outputs": []
  },
  {
   "metadata": {},
   "cell_type": "markdown",
   "source": [
    "## 2. Operaciones Fundamentales\n",
    "Las operaciones matriciales básicas son muy directas en NumPy.\n",
    "\n",
    "* **Multiplicación de Matrices:** Se usa el operador `@`. (No se debe confundir con `*`, que hace una multiplicación elemento a elemento).\n",
    "* **Transpuesta:** Se accede con el atributo `.T`.\n",
    "* **Inversa:** Se calcula con `np.linalg.inv()`.\n",
    "* **Determinante:** Se calcula con `np.linalg.det()`."
   ]
  },
  {
   "metadata": {
    "ExecuteTime": {
     "end_time": "2025-08-04T00:05:12.230445Z",
     "start_time": "2025-08-04T00:05:12.206984Z"
    }
   },
   "cell_type": "code",
   "source": [
    "# Se definen dos matrices para los ejemplos\n",
    "matriz_A = np.array([[1, 2], [3, 4]])\n",
    "matriz_B = np.array([[5, 6], [7, 8]])\n",
    "\n",
    "# Multiplicacion\n",
    "producto = matriz_A @ matriz_B\n",
    "print(\"Producto A @ B:\\n\", producto)\n",
    "\n",
    "# Transpuesta\n",
    "transpuesta_A = matriz_A.T\n",
    "print(\"\\nTranspuesta de A:\\n\", transpuesta_A)\n",
    "\n",
    "# Inversa\n",
    "inversa_A = np.linalg.inv(matriz_A)\n",
    "print(\"\\nInversa de A:\\n\", inversa_A)\n",
    "\n",
    "# Determinante\n",
    "determinante_A = np.linalg.det(matriz_A)\n",
    "print(f\"\\nDeterminante de A: {determinante_A:.2f}\")"
   ],
   "outputs": [
    {
     "name": "stdout",
     "output_type": "stream",
     "text": [
      "Producto A @ B:\n",
      " [[19 22]\n",
      " [43 50]]\n",
      "\n",
      "Transpuesta de A:\n",
      " [[1 3]\n",
      " [2 4]]\n",
      "\n",
      "Inversa de A:\n",
      " [[-2.   1. ]\n",
      " [ 1.5 -0.5]]\n",
      "\n",
      "Determinante de A: -2.00\n"
     ]
    }
   ],
   "execution_count": 6
  },
  {
   "metadata": {},
   "cell_type": "markdown",
   "source": [
    "## 3. Solución de Sistemas de Ecuaciones ($A\\vec{x} = \\vec{b}$)\n",
    "El método preferido es `np.linalg.solve()`, que es numéricamente más estable y eficiente que calcular la inversa. Este método es la implementación práctica de los solucionadores directos como la **descomposición LU**."
   ]
  },
  {
   "metadata": {
    "ExecuteTime": {
     "end_time": "2025-08-04T00:05:45.576424Z",
     "start_time": "2025-08-04T00:05:45.571403Z"
    }
   },
   "cell_type": "code",
   "source": [
    "# Sistema de ejemplo:\n",
    "# 3x + 2y = 7\n",
    "# 1x - 1y = 1\n",
    "matriz_A = np.array([[3, 2], [1, -1]])\n",
    "vector_b = np.array([7, 1])\n",
    "\n",
    "# Se resuelve para el vector x = [x, y]\n",
    "solucion = np.linalg.solve(matriz_A, vector_b)\n",
    "\n",
    "print(f\"La solucion al sistema es x = {solucion[0]:.2f}, y = {solucion[1]:.2f}\")"
   ],
   "outputs": [
    {
     "name": "stdout",
     "output_type": "stream",
     "text": [
      "La solucion al sistema es x = 1.80, y = 0.80\n"
     ]
    }
   ],
   "execution_count": 7
  },
  {
   "metadata": {},
   "cell_type": "markdown",
   "source": [
    "## 4. Autovalores y Autovectores\n",
    "El cálculo de autovalores ($\\lambda$) y autovectores ($\\vec{v}$) para una matriz $A$ (resolviendo $A\\vec{v} = \\lambda\\vec{v}$) se realiza con una sola función. El resultado es una tupla que contiene un arreglo con los autovalores y una matriz cuyas columnas son los autovectores correspondientes."
   ]
  },
  {
   "metadata": {
    "ExecuteTime": {
     "end_time": "2025-08-04T00:06:01.912716Z",
     "start_time": "2025-08-04T00:06:01.894680Z"
    }
   },
   "cell_type": "code",
   "source": [
    "# Se define una matriz para el ejemplo\n",
    "matriz_A = np.array([\n",
    "    [4, -2],\n",
    "    [1,  1]\n",
    "])\n",
    "\n",
    "# Se calculan los autovalores y autovectores\n",
    "autovalores, autovectores = np.linalg.eig(matriz_A)\n",
    "\n",
    "print(f\"Autovalores: {autovalores}\")\n",
    "print(f\"\\nAutovectores (dispuestos en columnas):\\n{autovectores}\")"
   ],
   "outputs": [
    {
     "name": "stdout",
     "output_type": "stream",
     "text": [
      "Autovalores: [3. 2.]\n",
      "\n",
      "Autovectores (dispuestos en columnas):\n",
      "[[0.89442719 0.70710678]\n",
      " [0.4472136  0.70710678]]\n"
     ]
    }
   ],
   "execution_count": 8
  },
  {
   "metadata": {},
   "cell_type": "markdown",
   "source": [
    "## 5. Álgebra Lineal Simbólica con SymPy\n",
    "Cuando se necesitan resultados exactos (con fracciones o símbolos) en lugar de aproximaciones numéricas, se usa `SymPy`. Permite manipular las matrices como expresiones matemáticas puras."
   ]
  },
  {
   "metadata": {
    "ExecuteTime": {
     "end_time": "2025-08-04T00:06:19.058016Z",
     "start_time": "2025-08-04T00:06:19.049509Z"
    }
   },
   "cell_type": "code",
   "source": [
    "import sympy as sp\n",
    "from IPython.display import display # Ideal para mostrar resultados de SymPy en notebooks\n",
    "\n",
    "# Se crea una matriz simbolica\n",
    "matriz_S = sp.Matrix([\n",
    "    [1, 2],\n",
    "    [3, 4]\n",
    "])\n",
    "\n",
    "# Se calculan la inversa y el determinante de forma exacta\n",
    "inversa_S = matriz_S.inv()\n",
    "determinante_S = matriz_S.det()\n",
    "\n",
    "print(\"Inversa Simbolica:\")\n",
    "display(inversa_S)\n",
    "\n",
    "print(\"\\nDeterminante Simbolico:\")\n",
    "display(determinante_S)"
   ],
   "outputs": [
    {
     "name": "stdout",
     "output_type": "stream",
     "text": [
      "Inversa Simbolica:\n"
     ]
    },
    {
     "data": {
      "text/plain": [
       "Matrix([\n",
       "[ -2,    1],\n",
       "[3/2, -1/2]])"
      ],
      "text/latex": "$\\displaystyle \\left[\\begin{matrix}-2 & 1\\\\\\frac{3}{2} & - \\frac{1}{2}\\end{matrix}\\right]$"
     },
     "metadata": {},
     "output_type": "display_data"
    },
    {
     "name": "stdout",
     "output_type": "stream",
     "text": [
      "\n",
      "Determinante Simbolico:\n"
     ]
    },
    {
     "data": {
      "text/plain": [
       "-2"
      ],
      "text/latex": "$\\displaystyle -2$"
     },
     "metadata": {},
     "output_type": "display_data"
    }
   ],
   "execution_count": 9
  },
  {
   "metadata": {},
   "cell_type": "markdown",
   "source": [
    "## 6. Operaciones con Matrices Complejas\n",
    "NumPy maneja de forma nativa las matrices con entradas complejas. La operación más importante en este dominio es la **transpuesta conjugada** (también conocida como matriz adjunta o daga, denotada como $A^\\dagger$).\n",
    "\n",
    "* **Transpuesta Conjugada ($A^\\dagger$):** Se calcula tomando la transpuesta (`.T`) y luego el conjugado (`.conj()`) de cada elemento.\n",
    "* **Matriz Hermitiana:** Una matriz es hermitiana si es igual a su propia transpuesta conjugada ($A = A^\\dagger$). Estas matrices son fundamentales en mecánica cuántica porque sus autovalores son siempre números reales."
   ]
  },
  {
   "metadata": {
    "ExecuteTime": {
     "end_time": "2025-08-04T00:07:42.928795Z",
     "start_time": "2025-08-04T00:07:42.919755Z"
    }
   },
   "cell_type": "code",
   "source": [
    "# Se crea una matriz con numeros complejos (usando 'j' para la unidad imaginaria).\n",
    "matriz_compleja = np.array([\n",
    "    [2, 1 + 3j],\n",
    "    [4j, 5 - 1j]\n",
    "])\n",
    "\n",
    "# Se calcula su transpuesta conjugada (daga).\n",
    "transpuesta_conjugada = matriz_compleja.T.conj()\n",
    "\n",
    "print(\"Matriz Compleja Original:\\n\", matriz_compleja)\n",
    "print(\"\\nTranspuesta Conjugada (Daga):\\n\", transpuesta_conjugada)\n",
    "\n",
    "# Ejemplo de una matriz Hermitiana (la diagonal es real, los otros elementos son conjugados).\n",
    "matriz_hermitiana = np.array([\n",
    "    [5    , 2 - 4j],\n",
    "    [2 + 4j, 10    ]\n",
    "])\n",
    "\n",
    "print(\"\\nMatriz Hermitiana de Ejemplo:\\n\", matriz_hermitiana)\n",
    "print(\"\\nSu transpuesta conjugada (es igual a la original):\\n\", matriz_hermitiana.T.conj())"
   ],
   "outputs": [
    {
     "name": "stdout",
     "output_type": "stream",
     "text": [
      "Matriz Compleja Original:\n",
      " [[2.+0.j 1.+3.j]\n",
      " [0.+4.j 5.-1.j]]\n",
      "\n",
      "Transpuesta Conjugada (Daga):\n",
      " [[2.-0.j 0.-4.j]\n",
      " [1.-3.j 5.+1.j]]\n",
      "\n",
      "Matriz Hermitiana de Ejemplo:\n",
      " [[ 5.+0.j  2.-4.j]\n",
      " [ 2.+4.j 10.+0.j]]\n",
      "\n",
      "Su transpuesta conjugada (es igual a la original):\n",
      " [[ 5.-0.j  2.-4.j]\n",
      " [ 2.+4.j 10.-0.j]]\n"
     ]
    }
   ],
   "execution_count": 10
  },
  {
   "metadata": {},
   "cell_type": "code",
   "outputs": [],
   "execution_count": null,
   "source": ""
  }
 ]
}
