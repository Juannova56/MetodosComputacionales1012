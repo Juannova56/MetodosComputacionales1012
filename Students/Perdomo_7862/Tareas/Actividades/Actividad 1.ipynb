{
 "cells": [
  {
   "cell_type": "markdown",
   "id": "564a6fc4-6028-47ad-945f-524589be3efd",
   "metadata": {},
   "source": [
    "# **Actividad 1**"
   ]
  },
  {
   "cell_type": "markdown",
   "id": "ef46509a-c7fe-43f9-a27c-84cbe27d8317",
   "metadata": {},
   "source": [
    "## **Punto 1**"
   ]
  },
  {
   "cell_type": "code",
   "execution_count": 3,
   "id": "1a109040-457c-4184-b996-be47603e5091",
   "metadata": {},
   "outputs": [],
   "source": [
    "def primos (n):\n",
    "    \"\"\"\n",
    "    Tiene de entrada un número n que será el límite superior del rango\n",
    "    donde se buscarán los número primos en ese intervalo y devuelve los números primos\n",
    "    \"\"\"\n",
    "    lista_bol=[] #sLista vacía\n",
    "    lista_numeros=[i for i in range(2,n+1)] #Lista de números de 2 hasta n\n",
    "    for j in range(2,n+1): #se crea una lista de valores boleanos en un inicio en True desde 2 hasta n\n",
    "        lista_bol.append(True)\n",
    "    for a in lista_numeros: #Ciclo for que recorre todos los números de 2 hasta n\n",
    "         if lista_bol[lista_numeros.index(a)]==True: #cada a en lista_numeros tiene asociado un valor True o False en lista_bol, aqui se verifica su estado\n",
    "           for iterador in lista_numeros: #otro ciclo for si el número tiene asociado un True\n",
    "             if a%iterador==0 and iterador!=a: #se condiciona a que si el número tiene divisores propios entonces:\n",
    "               indice=lista_numeros.index(a) #se busca el indice del número que satisface la condición y se guarda\n",
    "               lista_bol[indice]=False  #se cambia el estado a False (no es primo)\n",
    "    lista_filtrada=[]#lista vacía\n",
    "    for b in lista_numeros: #otro ciclo for\n",
    "        if lista_bol[lista_numeros.index(b)]==True: #aquí se relaciona si el estado asociado a cada número es True (primo)\n",
    "            lista_filtrada.append(b) #ahora si es verdadero se agrega a lista_filtrada\n",
    "    return lista_filtrada #se regresan los números primos"
   ]
  },
  {
   "cell_type": "code",
   "execution_count": 4,
   "id": "3b68801a-85a5-40dd-8fee-e5f7170eb486",
   "metadata": {},
   "outputs": [
    {
     "data": {
      "text/plain": [
       "[2, 3, 5, 7, 11, 13, 17, 19, 23, 29, 31, 37, 41, 43, 47]"
      ]
     },
     "execution_count": 4,
     "metadata": {},
     "output_type": "execute_result"
    }
   ],
   "source": [
    "primos(50)"
   ]
  },
  {
   "cell_type": "markdown",
   "id": "be1d7b46-cc8e-46d2-a027-3c5eea2be026",
   "metadata": {},
   "source": [
    "## **Punto 2**"
   ]
  },
  {
   "cell_type": "code",
   "execution_count": 5,
   "id": "8d382032-d53c-4025-ad6a-f2858d900306",
   "metadata": {},
   "outputs": [],
   "source": [
    "def calcular_pi (n):\n",
    "    \"\"\"\n",
    "    Calcula el valor de pi por medio de la serie de Leibnitz, entra un n\n",
    "    y determina la suma de esos primeros n términos\n",
    "    \"\"\"\n",
    "    suma=0\n",
    "#Se hace un ciclo for para sumar los primeros n término de la serie\n",
    "    for i in range(n):\n",
    "        termino=((-1)**i)/(2*i+1) #término general de la serie\n",
    "        suma+=termino  #suma de los términos\n",
    "    return print(4*suma) #devuelve el valor de pi\n"
   ]
  },
  {
   "cell_type": "code",
   "execution_count": 6,
   "id": "be6c8f21-7fd7-4d95-9ac0-e5582cb72fa1",
   "metadata": {},
   "outputs": [
    {
     "name": "stdout",
     "output_type": "stream",
     "text": [
      "3.0418396189294032\n"
     ]
    }
   ],
   "source": [
    "calcular_pi(10)"
   ]
  },
  {
   "cell_type": "code",
   "execution_count": 7,
   "id": "10f813af-8d14-4698-9f59-ff217be0dcbd",
   "metadata": {},
   "outputs": [
    {
     "name": "stdout",
     "output_type": "stream",
     "text": [
      "3.1315929035585537\n"
     ]
    }
   ],
   "source": [
    "calcular_pi(100)"
   ]
  },
  {
   "cell_type": "code",
   "execution_count": 8,
   "id": "fb096f87-ab66-405d-ba95-e7a7c739c600",
   "metadata": {},
   "outputs": [
    {
     "name": "stdout",
     "output_type": "stream",
     "text": [
      "3.140592653839794\n"
     ]
    }
   ],
   "source": [
    "calcular_pi(1000)"
   ]
  },
  {
   "cell_type": "code",
   "execution_count": 9,
   "id": "fd552ab4-0b31-4e84-9ac4-4db45e583d08",
   "metadata": {},
   "outputs": [
    {
     "name": "stdout",
     "output_type": "stream",
     "text": [
      "3.1414926535900345\n"
     ]
    }
   ],
   "source": [
    "calcular_pi(10000)"
   ]
  },
  {
   "cell_type": "code",
   "execution_count": 10,
   "id": "febe1d00-3f3d-4e83-90d0-a6eda75c68fd",
   "metadata": {},
   "outputs": [
    {
     "name": "stdout",
     "output_type": "stream",
     "text": [
      "3.1415826535897198\n"
     ]
    }
   ],
   "source": [
    "calcular_pi(100000)"
   ]
  },
  {
   "cell_type": "markdown",
   "id": "eb576290-d748-44a6-9543-adf23f08bf06",
   "metadata": {},
   "source": [
    "## **Punto 3**"
   ]
  },
  {
   "cell_type": "code",
   "execution_count": 11,
   "id": "20e7e8d9-60de-42b3-b84e-1e6a23497ba2",
   "metadata": {},
   "outputs": [],
   "source": [
    "def suma_divisores(n):\n",
    "  \"\"\"\n",
    "  busca todos los divisores de un número n dado\n",
    "  por el usuario\n",
    "  \"\"\"\n",
    "  suma=0 #la suma inicia en cero\n",
    "  for i in range(1,n//2+1): #un iterador que va desde 1 hasta n//2+1\n",
    "    if n%i==0:#se verifica si es divisor\n",
    "      suma+=i #entonces se suma el número que sea divisor\n",
    "  return suma #regresa la suma de los divisores"
   ]
  },
  {
   "cell_type": "code",
   "execution_count": 12,
   "id": "b9fc3c7b-e447-42a3-b31c-a147448faba2",
   "metadata": {},
   "outputs": [],
   "source": [
    "def numeros_amigos(n):\n",
    "  \"\"\"\n",
    "  Se ingresa un número n que será el límite superior\n",
    "  de un rango donde se buscarán los números amigos\n",
    "  \"\"\"\n",
    "  for i in range(1,n+1): #primer ciclo for que busca un número en un rango\n",
    "    for j in range(i,n+1): #otro ciclo for pero ahora comienza donde el iterador del primero va para evitar repeticiones\n",
    "      if suma_divisores(i)==j and suma_divisores(j)==i and i!=j: #se verifica si son números amigos\n",
    "        print(i,j) #imprime los números amigos"
   ]
  },
  {
   "cell_type": "code",
   "execution_count": 14,
   "id": "820d807c-2e92-4942-94cc-675909f9d3a4",
   "metadata": {},
   "outputs": [
    {
     "name": "stdout",
     "output_type": "stream",
     "text": [
      "220 284\n"
     ]
    }
   ],
   "source": [
    "numeros_amigos(1000)"
   ]
  },
  {
   "cell_type": "markdown",
   "id": "a92d98d7-dcbd-4fa6-9c8c-3d52c2ec8ab2",
   "metadata": {},
   "source": [
    "## **Punto 4**"
   ]
  },
  {
   "cell_type": "code",
   "execution_count": null,
   "id": "f3dc6e57-31e4-42f3-91a6-ec47caff3017",
   "metadata": {},
   "outputs": [],
   "source": [
    "def cantidad_palabras (palabra):\n",
    "    \"\"\"\n",
    "    El usuario ingresa una palabra y se le entrega un diccionario\n",
    "    donde la llave es la letra y el valor la cantidad de veces que\n",
    "    se repite en la palabra\n",
    "    \"\"\"\n",
    "    if type(palabra)!=str: #se verifica si es una palabra\n",
    "        raise ValueError(\"La entrada ingresada no es válidad, por favor, ingrese una string\") #si no es una palabra, suelta un error\n",
    "    else:\n",
    "      frecuencia={} #diccionario vacío\n",
    "      for letra in palabra: #ciclo for que itera sobre la palabra ingresa por el usuario\n",
    "        if letra in frecuencia: #condiciona que si la letra ya se ha contado\n",
    "          frecuencia[letra]+=1 #si ya se contó la letra, entonces se le suma 1\n",
    "        else:\n",
    "          frecuencia[letra]=1 #si no se ha sumado ni una vez, se suma por primera vez\n",
    "    print(frecuencia)"
   ]
  },
  {
   "cell_type": "code",
   "execution_count": null,
   "id": "a853c9f3-da9f-4746-a9cf-f243a0863e61",
   "metadata": {},
   "outputs": [],
   "source": []
  }
 ],
 "metadata": {
  "kernelspec": {
   "display_name": "Python 3 (ipykernel)",
   "language": "python",
   "name": "python3"
  },
  "language_info": {
   "codemirror_mode": {
    "name": "ipython",
    "version": 3
   },
   "file_extension": ".py",
   "mimetype": "text/x-python",
   "name": "python",
   "nbconvert_exporter": "python",
   "pygments_lexer": "ipython3",
   "version": "3.13.3"
  }
 },
 "nbformat": 4,
 "nbformat_minor": 5
}
