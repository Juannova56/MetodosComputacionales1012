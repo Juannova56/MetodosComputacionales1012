{
  "cells": [
    {
      "cell_type": "markdown",
      "metadata": {
        "colab_type": "text",
        "id": "view-in-github"
      },
      "source": [
        "<a href=\"https://colab.research.google.com/github/jmmarinr/ComputationalMethods/blob/master/Algebra_Lineal/Actividad_08_Algrebra_Matrices.ipynb\" target=\"_parent\"><img src=\"https://colab.research.google.com/assets/colab-badge.svg\" alt=\"Open In Colab\"/></a>"
      ]
    },
    {
      "cell_type": "code",
      "execution_count": 1,
      "metadata": {
        "id": "z7RCty67y3ME"
      },
      "outputs": [],
      "source": [
        "import numpy as np\n",
        "import matplotlib.pyplot as plt\n",
        "import numpy.linalg as la"
      ]
    },
    {
      "cell_type": "markdown",
      "metadata": {
        "id": "GGQpGoujzAnQ"
      },
      "source": [
        "# Actividad 08: Algebra Lineal y Matrices\n",
        "\n",
        "---\n",
        "### Profesor: Juan Marcos Marín\n",
        "### Nombre: Miguel Angel Perdomo Gaitan\n",
        "*Métodos computacionales*\n",
        "\n",
        "---"
      ]
    },
    {
      "cell_type": "markdown",
      "metadata": {
        "id": "U9hC1R-F0-iH"
      },
      "source": [
        "#1\n",
        "Escriba tres matrices aleatorias $A$, $B$ y $C$ de $3\\times 3$, y demuestre las siguientes relaciones\n",
        "\n",
        "- $ \\mathbf{A}\\mathbf{B} \\neq \\mathbf{B}\\mathbf{A} $, en general.\n",
        "- $ (\\mathbf{A}\\mathbf{B})\\mathbf{C} = \\mathbf{A}(\\mathbf{B}\\mathbf{C}) $.\n",
        "- $ \\mathbf{A}(\\mathbf{B} + \\mathbf{C}) = \\mathbf{A}\\mathbf{B} + \\mathbf{A}\\mathbf{C} $.\n",
        "- $ (\\mathbf{A} + \\mathbf{B})\\mathbf{C} = \\mathbf{A}\\mathbf{C} + \\mathbf{B}\\mathbf{C} $.\n",
        "- $ (\\mathbf{A}\\mathbf{B})^\\top = \\mathbf{B}^\\top \\mathbf{A}^\\top $.\n",
        "- $ \\det(\\mathbf{A}\\mathbf{B}) = \\det(\\mathbf{A}) \\det(\\mathbf{B}) $.\n",
        "- $ (\\mathbf{A}^\\top)^\\top = \\mathbf{A} $.\n",
        "- $ (c\\mathbf{A})^\\top = c\\mathbf{A}^\\top $.\n",
        "- $ (\\mathbf{A} + \\mathbf{B})^\\top = \\mathbf{A}^\\top + \\mathbf{B}^\\top $.\n",
        "\n"
      ]
    },
    {
      "cell_type": "code",
      "execution_count": 23,
      "metadata": {
        "id": "cQQ6cPGW1anK"
      },
      "outputs": [
        {
          "name": "stdout",
          "output_type": "stream",
          "text": [
            "[[0 5 6]\n",
            " [1 8 4]\n",
            " [8 4 5]]\n",
            "[[6 5 4]\n",
            " [2 4 2]\n",
            " [6 6 9]]\n",
            "[[4 9 5]\n",
            " [1 4 5]\n",
            " [2 4 7]]\n"
          ]
        }
      ],
      "source": [
        "#se crean las tres matrices aleatorias\n",
        "A= np.random.randint(0,10 ,(3,3))\n",
        "B= np.random.randint(0 ,10 ,(3,3))\n",
        "C= np.random.randint(0 ,10 ,(3,3))\n",
        "#se imprimen las matrices aleatorias\n",
        "print(A)\n",
        "print(B)\n",
        "print(C)\n",
        "#se declara un escalar\n",
        "c=12"
      ]
    },
    {
      "cell_type": "code",
      "execution_count": 9,
      "metadata": {},
      "outputs": [
        {
          "name": "stdout",
          "output_type": "stream",
          "text": [
            "El producto matricial no es conmutativo\n"
          ]
        }
      ],
      "source": [
        "#se verifica la primera propiedad\n",
        "if not np.array_equal(A@B,B@A):\n",
        "    print(\"El producto matricial no es conmutativo\")\n",
        "else:\n",
        "    print(\"El producto matricial es conmutativo\")"
      ]
    },
    {
      "cell_type": "code",
      "execution_count": 10,
      "metadata": {},
      "outputs": [
        {
          "name": "stdout",
          "output_type": "stream",
          "text": [
            "Se satisface que A(BC)=(AB)C\n"
          ]
        }
      ],
      "source": [
        "#se verifica la segunda propiedad\n",
        "if np.array_equal((A@B)@C, A@(B@C)):\n",
        "    print(\"Se satisface que A(BC)=(AB)C\")\n",
        "else: \n",
        "    print(\"No se satisface que A(BC)=(AB)C\")"
      ]
    },
    {
      "cell_type": "code",
      "execution_count": 11,
      "metadata": {},
      "outputs": [
        {
          "name": "stdout",
          "output_type": "stream",
          "text": [
            "La propiedad conmutativa del producto matricial se cumple\n"
          ]
        }
      ],
      "source": [
        "#se verifica la propiedad conmutativa del producto matricial\n",
        "if np.array_equal(A@(B+C),(A@B + A@C )):\n",
        "    print(\"La propiedad conmutativa del producto matricial se cumple\")\n",
        "else: \n",
        "    print(\"La propiedad conmutativa del producto matricial no se cumple\")"
      ]
    },
    {
      "cell_type": "code",
      "execution_count": 12,
      "metadata": {},
      "outputs": [
        {
          "name": "stdout",
          "output_type": "stream",
          "text": [
            "Se cumple que (A+B)C=AC+BC\n"
          ]
        }
      ],
      "source": [
        "#se verifica que (A+B)C=AC+BC\n",
        "if np.array_equal((A+B)@C,(A@C + B@C)):\n",
        "    print(\"Se cumple que (A+B)C=AC+BC\")\n",
        "else: \n",
        "    print(\"No se cumple que (A+B)C=AC+BC\")"
      ]
    },
    {
      "cell_type": "code",
      "execution_count": 15,
      "metadata": {},
      "outputs": [
        {
          "name": "stdout",
          "output_type": "stream",
          "text": [
            "La propiedad se cumple\n"
          ]
        }
      ],
      "source": [
        "#se verifica que la transpuesta de AB es igual al producto matricial de las transpuestas de A y B\n",
        "if np.array_equal((A@B).T,(B.T @ A.T)):\n",
        "    print(\"La propiedad se cumple\")\n",
        "else: \n",
        "    print(\"La propiedad no se cumple\")"
      ]
    },
    {
      "cell_type": "code",
      "execution_count": 21,
      "metadata": {},
      "outputs": [
        {
          "name": "stdout",
          "output_type": "stream",
          "text": [
            "La propiedad se cumple\n"
          ]
        }
      ],
      "source": [
        "#se verifica que det(AB)=det(A)det(B)\n",
        "if np.isclose(la.det(A@B), la.det(A)*la.det(B)):\n",
        "    print(\"La propiedad se cumple\")\n",
        "else: \n",
        "    print(\"La propiedad no se cumple\")"
      ]
    },
    {
      "cell_type": "code",
      "execution_count": 22,
      "metadata": {},
      "outputs": [
        {
          "name": "stdout",
          "output_type": "stream",
          "text": [
            "se cumple la propiedad\n"
          ]
        }
      ],
      "source": [
        "#se verifica que la transpuesta de la tranpuesta de A es A\n",
        "if np.array_equal((A.T).T, A):\n",
        "    print(\"se cumple la propiedad\")\n",
        "else: \n",
        "    print(\"No se cumple la propiedad\")"
      ]
    },
    {
      "cell_type": "code",
      "execution_count": 24,
      "metadata": {},
      "outputs": [
        {
          "name": "stdout",
          "output_type": "stream",
          "text": [
            "Se cumple la propiedad\n"
          ]
        }
      ],
      "source": [
        "if np.array_equal((c*A).T,c*(A.T)):\n",
        "    print(\"Se cumple la propiedad\")\n",
        "else:\n",
        "    print(\"No se cumple la propiedad\")"
      ]
    },
    {
      "cell_type": "code",
      "execution_count": 25,
      "metadata": {},
      "outputs": [
        {
          "name": "stdout",
          "output_type": "stream",
          "text": [
            "Se cumple la propiedad\n"
          ]
        }
      ],
      "source": [
        "#verificar que la operanción transpuesta reparte en suma\n",
        "if np.array_equal((A+B).T, A.T + B.T):\n",
        "    print(\"Se cumple la propiedad\")\n",
        "else:\n",
        "    print(\"No se cumple la propiedad\")"
      ]
    },
    {
      "cell_type": "markdown",
      "metadata": {
        "id": "ibYf2I9T2pIw"
      },
      "source": [
        "#2\n",
        "\n",
        "El **Teorema de Laplace** es un método para calcular el determinante de una matriz cuadrada, particularmente útil para matrices de orden mayor a 2. Este teorema se basa en la expansión del determinante por los elementos de una fila o una columna cualquiera.\n",
        "\n",
        "\n",
        "\n",
        "$$\n",
        "\\det(A) = \\sum_{j=1}^n (-1)^{1+j} a_{1j} M_{1j}\n",
        "$$\n",
        "\n",
        "donde:\n",
        "- $a_{1j}$ es el elemento de la primera fila y columna $j$.\n",
        "- $M_{1j}$ es el menor asociado al elemento $a_{1j}$, es decir, el determinante de la submatriz de $3 \\times 3$ que se obtiene al eliminar la fila 1 y la columna $j$.\n",
        "- $(-1)^{1+j}$ es el signo correspondiente al cofactor del elemento $a_{1j}$.\n",
        "\n",
        "Podemos realizar una función recursiva para el cálculo del determinante, sabiendo que el valor del determinante de una matriz de orden uno es el único elemento de esa matriz, y el de una matriz de orden superior a uno es la suma de cada uno de los elementos de una fila o columna por los Adjuntos a ese elemento, como en la función recursiva se emplea la misma función definida el cálculo lo haremos por Menor complementario, un ejemplo desarrollado por la primera fila sería:\n",
        "\n",
        "$$\n",
        "   \\det (A_{j,j}) =\n",
        "   \\left \\{\n",
        "   \\begin{array}{llcl}\n",
        "      si & j = 1 & \\to & a_{1,1} \\\\\n",
        "                                 \\\\\n",
        "      si & j > 1 & \\to & \\displaystyle \\sum_{k=1}^j \\; (-1)^{(1+k)} \\cdot a_{1,k} \\cdot \\det( \\alpha_{1,k})\n",
        "   \\end{array}\n",
        "   \\right .\n",
        "$$\n",
        "\n",
        "Realice una función que encuentre el determinante de una matriz usando la recursividad aqui planteada, explique explicitamente su código"
      ]
    },
    {
      "cell_type": "code",
      "execution_count": 39,
      "metadata": {
        "id": "-8tYERLHtrtY"
      },
      "outputs": [],
      "source": [
        "def determinante(A):\n",
        "    \"\"\"\n",
        "    Emplea el teorema de Laplace para calcular el determinante de una matriz cuadrada\n",
        "    Entrada:\n",
        "        A: Matríz nxn -> ndarray\n",
        "    Salida:\n",
        "        det(A): Determinante de la matriz A -> float\n",
        "    \"\"\"\n",
        "    #se verifica que la matríz sea cuadrada\n",
        "    if A.shape[0]!=A.shape[1]:\n",
        "        raise ValueError(\"La matriz ingresada no es cuadrada\")\n",
        "    #se calcula el determinante para una matriz 1x1\n",
        "    if A.shape==(1,1):\n",
        "        return A[0,0]\n",
        "    #se determina el determinante para una matriz 2x2 (usando la fórmula)\n",
        "    if A.shape==(2,2):\n",
        "        return A[0,0]*A[1,1]-A[1,0]*A[0,1]\n",
        "    #caso general\n",
        "    #se inicia la suma del determinante en cero\n",
        "    det=0\n",
        "    #ciclo for para el determinante de una matriz nxn\n",
        "    for j in range(0,A.shape[1]):\n",
        "        #se calcula el signo sabiendo que la fila 1 en python es la fila cero\n",
        "        signo=(-1)**(0+j)\n",
        "        #se calcula la submatriz M tapando la fila uno y la columna j\n",
        "        submatriz=np.delete(np.delete(A,0,axis=0),j,axis=1)\n",
        "        #Se calcula el determinante de la submatriz con recursividad\n",
        "        det_submatriz=determinante(submatriz)\n",
        "        #se suma cada determinanate de acuerdo al teorema de Laplace\n",
        "        det+=signo*A[0,j]*det_submatriz\n",
        "    return det"
      ]
    },
    {
      "cell_type": "markdown",
      "metadata": {
        "id": "fTSweDGhnAUN"
      },
      "source": [
        "#3 Método de Gauss - Seidel\n",
        "\n",
        "Sea \\$A\\in\\mathbb{R}^{n\\times n}\\$ no singular y sea \\$b\\in\\mathbb{R}^n\\$.\n",
        "Descomponga \\$A\\$ como\n",
        "\n",
        "$$\n",
        "A \\;=\\; D \\;+\\; L \\;+\\; U,\n",
        "$$\n",
        "\n",
        "donde\n",
        "\n",
        "* \\$D\\$ es la matriz diagonal de \\$A\\$,\n",
        "* \\$L\\$ es la parte estrictamente triangular inferior,\n",
        "* \\$U\\$ es la parte estrictamente triangular superior.\n",
        "\n",
        "El algoritmo de Gauss - Seidel reorganiza el sistema \\$Ax=b\\$ como\n",
        "\n",
        "$$\n",
        "x \\;=\\; (D+L)^{-1}\\bigl(b \\;-\\; Ux\\bigr),\n",
        "$$\n",
        "\n",
        "y genera la sucesión\n",
        "\n",
        "$$\n",
        "x_i^{(k+1)}\n",
        "= \\frac{1}{a_{ii}}\n",
        "\\Bigl(b_i - \\sum_{j<i} a_{ij}\\,x_j^{(k+1)} - \\sum_{j>i} a_{ij}\\,x_j^{(k)}\\Bigr),\n",
        "\\qquad i=1,\\dots,n.\n",
        "$$\n",
        "\n",
        "Implemente una función `gauss_seidel(A, b, tol=1e-7, max_iter=100)` que:\n",
        "   * Realice las iteraciones hasta que\n",
        "     $\\lVert x^{(k+1)}-x^{(k)}\\rVert_\\infty<\\text{tol}$\n",
        "     o se alcance `max_iter`;\n",
        "   * devuelva el vector solución aproximado \\$x\\$, el número de iteraciones realizadas y la norma del último residuo.\n",
        "\n",
        "Incluya una documentación clara.\n",
        "\n",
        "Luego,\n",
        "\n",
        "   * Genere una matriz aleatoria \\$5\\times5\\$ (por ejemplo, con `np.random.rand`) y un vector \\$b\\$ aleatorio.\n",
        "   * Resuelva \\$Ax=b\\$ con su función; calcule el error relativo frente a `numpy.linalg.solve`.\n",
        "   * Estime igualmente el error respecto a la solución obtenida mediante \\$x=A^{-1}b\\$ (usando `numpy.linalg.inv`).\n",
        "   * Presente las normas de los residuos y los errores relativos."
      ]
    },
    {
      "cell_type": "code",
      "execution_count": 2,
      "metadata": {
        "id": "xXuUhfjznlnO"
      },
      "outputs": [],
      "source": [
        "def gauss_seidel(A,b, tol=1e-7,max_iter=100):\n",
        "    \"\"\"\n",
        "    Calcula las soluciones a un sistema de ecuaciones lineales usando el método de Gauss-Seidel\n",
        "    Entradas:\n",
        "        A: Matriz -> ndarray \n",
        "        b: Vector de valores independiente -> array\n",
        "        tol: Tolerancia permitida -> float\n",
        "        max_iter: Número máximo de iteraciones permitidas\n",
        "    Salidas:\n",
        "    x: Vector Solución -> array\n",
        "    errores_norma: La diferencia de la actualización entre cada ciclo k -> lista\n",
        "    \"\"\"\n",
        "    #se determina la longitud de las filas de las matrices\n",
        "    n=len(b)\n",
        "    #se inicializa una lista donde se guardarán los errores\n",
        "    errores_norma=[]\n",
        "    #se inicializa el vector solución\n",
        "    x=np.zeros_like(b,dtype=float)\n",
        "    #se inicializa el ciclo for de iteraciones\n",
        "    for k in range(0,max_iter):\n",
        "        #se copia el vector solución y se declara una nueva variable con el\n",
        "        x_new=x.copy()\n",
        "        #se inicializa un ciclo for que ira de i en i\n",
        "        for i in range(n):\n",
        "            #la primera suma cuando j<i\n",
        "            suma_1= np.dot(A[i,:i],x_new[:i])\n",
        "            #la segunda suma cuando j>i \n",
        "            suma_2= np.dot(A[i,i+1:], x[i+1:])\n",
        "            #se calcula el nuevo vector solución usando la fórmula de Gauss-Seidel\n",
        "            x_new[i]=(1/A[i,i])*(b[i]-suma_1-suma_2)\n",
        "            #se calcula el error comparando cuanto cambió el vector solución en la iteración\n",
        "        error_norma=la.norm(x-x_new,ord=np.inf)\n",
        "         #se guarda el error en la lista declarada anteriormente\n",
        "        errores_norma.append(error_norma)\n",
        "        #si el error es menor que la tolerancia imprime el resultado\n",
        "        if error_norma<tol: \n",
        "            #se retorna el resultado\n",
        "            return x_new, errores_norma\n",
        "        #se actualiza la variable x\n",
        "        x=x_new\n",
        "    #se imprime lo encontrado tras el número de iteraciones \n",
        "    return x,errores_norma\n",
        "            "
      ]
    },
    {
      "cell_type": "markdown",
      "metadata": {},
      "source": [
        "### **Comparación con Linalg y la inversa de la matríz**"
      ]
    },
    {
      "cell_type": "code",
      "execution_count": 29,
      "metadata": {},
      "outputs": [
        {
          "name": "stderr",
          "output_type": "stream",
          "text": [
            "C:\\Users\\migue\\AppData\\Local\\Temp\\ipykernel_17620\\2994142639.py:28: RuntimeWarning: overflow encountered in dot\n",
            "  suma_2= np.dot(A[i,i+1:], x[i+1:])\n",
            "C:\\Users\\migue\\AppData\\Local\\Temp\\ipykernel_17620\\2994142639.py:26: RuntimeWarning: invalid value encountered in dot\n",
            "  suma_1= np.dot(A[i,:i],x_new[:i])\n"
          ]
        },
        {
          "data": {
            "image/png": "[encoded data removed]",
            "text/plain": [
              "<Figure size 640x480 with 1 Axes>"
            ]
          },
          "metadata": {},
          "output_type": "display_data"
        }
      ],
      "source": [
        "#Matriz y Vector aleatorio\n",
        "A = np.random.randint(1, 10, (5, 5))\n",
        "b = np.random.randint(0, 10, 5)\n",
        "\n",
        "# Soluciones de referencia\n",
        "sol_numpy = la.solve(A, b)\n",
        "sol_inv = la.inv(A) @ b\n",
        "\n",
        "# Rango de iteraciones\n",
        "iteraciones = np.arange(1,1000, 1)\n",
        "errores_vs_numpy = []\n",
        "errores_vs_inversa = []\n",
        "\n",
        "for it in iteraciones:\n",
        "    sol_gs, _ = gauss_seidel(A, b, max_iter=it)\n",
        "    error_numpy = la.norm(sol_numpy - sol_gs, ord=np.inf)\n",
        "    error_inv = la.norm(sol_inv - sol_gs, ord=np.inf)\n",
        "    errores_vs_numpy.append(error_numpy)\n",
        "    errores_vs_inversa.append(error_inv)\n",
        "\n",
        "# Graficar ambos errores\n",
        "plt.plot(iteraciones, errores_vs_numpy, label='vs linalg.solve', marker='o')\n",
        "plt.plot(iteraciones, errores_vs_inversa, label='vs inversa', marker='x')\n",
        "plt.xlabel('Número de iteraciones (max_iter)')\n",
        "plt.ylabel('Error absoluto ∞-norma')\n",
        "plt.title('Convergencia de Gauss-Seidel vs soluciones exactas')\n",
        "plt.legend()\n",
        "plt.grid(True)\n",
        "plt.tight_layout()\n",
        "plt.show()"
      ]
    },
    {
      "cell_type": "markdown",
      "metadata": {},
      "source": [
        "La curva \"exponencial\" obtenida para maxiter muy altos se debe a errores numéricos"
      ]
    },
    {
      "cell_type": "markdown",
      "metadata": {
        "id": "REVJcqYtnmM-"
      },
      "source": [
        "#4 Método de potencias para el valor propio dominante\n",
        "\n",
        "Sea \\$A\\in\\mathbb{R}^{n\\times n}\\$ diagonalizable con valor propio dominante \\$\\lambda\\_{\\max}\\$ (en magnitud) y vector propio asociado \\$v\\_{\\max}\\$.\n",
        "\n",
        "El método de potencias genera, a partir de un vector inicial \\$q^{(0)}\\neq 0\\$, la sucesión\n",
        "\n",
        "$$\n",
        "q^{(k+1)} \\;=\\; \\frac{A\\,q^{(k)}}{\\lVert A\\,q^{(k)}\\rVert_2},\n",
        "\\qquad\n",
        "\\lambda^{(k+1)} \\;=\\; (q^{(k+1)})^{\\!\\top} A\\, q^{(k+1)},\n",
        "$$\n",
        "\n",
        "que converge a \\$v\\_{\\max}/\\lVert v\\_{\\max}\\rVert\\_2\\$ y a \\$\\lambda\\_{\\max}\\$ respectivamente, bajo hipótesis estándar.\n",
        "\n",
        "Implemente `power_method(A, tol=1e-7, max_iter=1000)` que:\n",
        "\n",
        "   * Acepte matrices reales cuadradas,\n",
        "   * Devuelva \\$\\lambda\\_{\\max}\\$, el vector propio normalizado \\$v\\_{\\max}\\$, el número de iteraciones y la última variación relativa de \\$\\lambda\\$,\n",
        "   * detenga la iteración cuando\n",
        "     $\\bigl|\\lambda^{(k+1)}-\\lambda^{(k)}\\bigr|<\\text{tol}\\,|\\lambda^{(k+1)}|$\n",
        "     o se alcance `max_iter`.\n",
        "\n",
        "Luego,\n",
        "   * Genere una matriz simétrica aleatoria \\$6\\times6\\$ (por ejemplo, \\$A = (M+M^\\top)/2\\$ con \\$M\\$ aleatoria).\n",
        "   * Aplique su `power_method` y compare \\$\\lambda\\_{\\max}\\$ y \\$v\\_{\\max}\\$ con los resultados de `numpy.linalg.eig`."
      ]
    },
    {
      "cell_type": "code",
      "execution_count": 3,
      "metadata": {
        "id": "lPzFAOE7obZY"
      },
      "outputs": [],
      "source": [
        "def power_method(A,tol=1e-7, max_iter=1000):\n",
        "    \"\"\"\n",
        "    Determina el valor y vector propio dominante de una matriz nxn\n",
        "    empleando el método de potencias\n",
        "    Entradas:\n",
        "        A: matriz -> ndarray\n",
        "    Salidas:\n",
        "        lambda_: Valor propio dominante -> float\n",
        "        q: Vector propio dominante -> array\n",
        "        error: Error relativo para el criterio de parada -> float\n",
        "        k: Iteraciones empleadas para cumplir con l tolerancia\n",
        "    \"\"\"\n",
        "    #se verifica que la matriz sea cuadrada\n",
        "    if A.shape[0]!=A.shape[1]:\n",
        "        raise ValueError(\"La matriz debe ser cuadrada para poder aplicarse el método\")\n",
        "    #se calcula la longitud de las filas\n",
        "    n=len(A)\n",
        "    #se realiza un vector aleatorio \n",
        "    q=np.random.randint(1,10,n).astype(float)\n",
        "    #se normaliza el vector\n",
        "    q=q/la.norm(q)\n",
        "    #se inicializa el valor propio dominante lambda\n",
        "    lambda_=0\n",
        "    #se inicializa el bucle\n",
        "    for k in range(max_iter):\n",
        "        #se calcula el vector propio dominante \n",
        "        q_new=(A@q)/la.norm(A@q)\n",
        "        #se calcula el valor propio\n",
        "        lambda_new= q_new@(A@q_new)\n",
        "        #se calcula el criterio de parada\n",
        "        error= abs(lambda_new-lambda_)\n",
        "        #criterio de parada\n",
        "        if error<tol*abs(lambda_new):\n",
        "            return lambda_new, q_new, k+1, error\n",
        "        #se actualizan las variables\n",
        "        q=q_new\n",
        "        lambda_=lambda_new\n",
        "    return lambda_, q, k+1, error"
      ]
    },
    {
      "cell_type": "code",
      "execution_count": 10,
      "metadata": {},
      "outputs": [
        {
          "data": {
            "image/png": "[encoded data removed]",
            "text/plain": [
              "<Figure size 800x500 with 1 Axes>"
            ]
          },
          "metadata": {},
          "output_type": "display_data"
        }
      ],
      "source": [
        "# se genera una matriz simétrica\n",
        "A = np.random.randint(0,10,(6,6))\n",
        "M_simetrica = (A + A.T) / 2\n",
        "\n",
        "# se calcula el valor y vector propio dominante con numpy\n",
        "val_prop, vec_prop = la.eig(M_simetrica)\n",
        "idx = np.argmax(np.abs(val_prop))  # índice del dominante\n",
        "val_dominante = val_prop[idx]\n",
        "vec_dominante = vec_prop[:, idx]\n",
        "\n",
        "# se crea un array de maxiter\n",
        "maxiter = np.arange(1, 1000, 10)\n",
        "errores_vals = []\n",
        "errores_vecs = []\n",
        "\n",
        "# se aplica el método de potencias\n",
        "for max_iter in maxiter:\n",
        "    valor_propio, vector_propio, _, _ = power_method(M_simetrica, max_iter=max_iter)\n",
        "    \n",
        "    # error en el valor propio\n",
        "    error_val = abs(valor_propio - val_dominante)\n",
        "    \n",
        "    # error en el vector propio (mínimo considerando signo)\n",
        "    error_vec = min(\n",
        "        la.norm(vec_dominante - vector_propio),\n",
        "        la.norm(vec_dominante + vector_propio)\n",
        "    )\n",
        "    \n",
        "    errores_vals.append(error_val)\n",
        "    errores_vecs.append(error_vec)\n",
        "\n",
        "# se realiza una gráfica \n",
        "plt.figure(figsize=(8,5))\n",
        "plt.plot(maxiter, errores_vals, label=\"Error del Valor Propio\")\n",
        "plt.plot(maxiter, errores_vecs, label=\"Error del Vector Propio\")\n",
        "plt.title(\"Errores del Método de Potencias\", fontsize=20)\n",
        "plt.xlabel(\"Número de Iteraciones\", fontsize=15)\n",
        "plt.ylabel(\"Error\", fontsize=15)\n",
        "plt.legend()\n",
        "plt.grid()\n",
        "plt.show()\n"
      ]
    },
    {
      "cell_type": "markdown",
      "metadata": {
        "id": "iggu2jNwVpnK"
      },
      "source": [
        "# 5\n",
        "\n",
        "Verifique que cualquier matriz hermitiana de 2 × 2 $ L $ puede escribirse como una suma de cuatro términos:\n",
        "\n",
        "$$ L = a\\sigma_x + b\\sigma_y + c\\sigma_z + dI $$\n",
        "\n",
        "donde $ a $, $ b $, $ c $ y $ d $ son números reales.\n",
        "\n",
        "Las cuatro matrices de Pauli son:\n",
        "\n",
        "$$ \\sigma_x = \\begin{pmatrix} 0 & 1 \\\\ 1 & 0 \\end{pmatrix}, \\quad \\sigma_y = \\begin{pmatrix} 0 & -i \\\\ i & 0 \\end{pmatrix}, \\quad \\sigma_z = \\begin{pmatrix} 1 & 0 \\\\ 0 & -1 \\end{pmatrix}, \\quad I = \\begin{pmatrix} 1 & 0 \\\\ 0 & 1 \\end{pmatrix} $$\n",
        "\n",
        "\n"
      ]
    },
    {
      "cell_type": "code",
      "execution_count": 8,
      "metadata": {
        "id": "8WN9_cOCV7cM"
      },
      "outputs": [
        {
          "name": "stdout",
          "output_type": "stream",
          "text": [
            "La matriz resultante es: [[19.+0.j  1.-3.j]\n",
            " [ 1.+3.j  9.+0.j]]\n",
            "La matriz es Hermitiana\n"
          ]
        }
      ],
      "source": [
        "#matrices de Pauli\n",
        "sigma_x=np.array([[0,1],[1,0]],dtype=complex)\n",
        "sigma_y= np.array([[0,-1j],[1j,0]],dtype=complex)\n",
        "sigma_z= np.array([[1,0],[0,-1]], dtype=complex)\n",
        "identidad= np.eye(2, dtype=complex)\n",
        "#se declaran a, b, c, d\n",
        "a,b,c,d=1,3,5,14\n",
        "#Forma de matrices Hermitiana\n",
        "L=a*sigma_x+b*sigma_y+c*sigma_z+ d*identidad\n",
        "print(f\"La matriz resultante es: {L}\")\n",
        "if np.allclose(L,L.conj().T) is True:\n",
        "    print(\"La matriz es Hermitiana\")\n",
        "else:\n",
        "    print(\"La matriz no es Hermitiana\")"
      ]
    },
    {
      "cell_type": "markdown",
      "metadata": {
        "id": "GnCw5_O5pMxl"
      },
      "source": [
        "# 6\n",
        "\n",
        "Haga un breve resumen en Markdown de las funciones y métodos más relevantes para algebra lineal usando Python. Emplee ejemplos."
      ]
    },
    {
      "cell_type": "markdown",
      "metadata": {},
      "source": [
        "Crear vectores y matrices\n",
        "\n",
        "```python\n",
        "# Vector fila\n",
        "v = np.array([1, 2, 3])\n",
        "\n",
        "# Matriz 2x2\n",
        "A = np.array([[1, 2],\n",
        "              [3, 4]])\n",
        "```\n",
        "\n",
        "---\n",
        "\n",
        "## Operaciones básicas\n",
        "\n",
        "```python\n",
        "# Suma\n",
        "B = A + A\n",
        "\n",
        "# Producto por escalar\n",
        "C = 3 * A\n",
        "\n",
        "# Producto matricial (matriz @ matriz o np.dot)\n",
        "D = A @ A  # o np.dot(A, A)\n",
        "\n",
        "# Transpuesta\n",
        "A_T = A.T\n",
        "\n",
        "# Conjugado transpuesto (para matrices complejas)\n",
        "A_dagger = A.conj().T\n",
        "```\n",
        "\n",
        "---\n",
        "\n",
        "## Identidad y matrices especiales\n",
        "\n",
        "```python\n",
        "# Matriz identidad\n",
        "I = np.eye(3)\n",
        "\n",
        "# Matriz de ceros y unos\n",
        "Z = np.zeros((2, 2))\n",
        "U = np.ones((2, 2))\n",
        "\n",
        "# Diagonal\n",
        "D = np.diag([1, 2, 3])  # matriz diagonal\n",
        "```\n",
        "\n",
        "---\n",
        "\n",
        "## Determinante y traza\n",
        "\n",
        "```python\n",
        "# Determinante\n",
        "det_A = np.linalg.det(A)\n",
        "\n",
        "# Traza (suma de la diagonal)\n",
        "traza_A = np.trace(A)\n",
        "```\n",
        "\n",
        "---\n",
        "\n",
        "## Inversa y solución de sistemas\n",
        "\n",
        "```python\n",
        "# Inversa\n",
        "inv_A = np.linalg.inv(A)\n",
        "\n",
        "# Solución de sistema Ax = b\n",
        "b = np.array([5, 11])\n",
        "x = np.linalg.solve(A, b)\n",
        "```\n",
        "\n",
        "---\n",
        "\n",
        "## Autovalores y autovectores\n",
        "\n",
        "```python\n",
        "# Autovalores y autovectores\n",
        "valores, vectores = np.linalg.eig(A)\n",
        "```\n",
        "\n",
        "---\n",
        "\n",
        "## Verificaciones útiles\n",
        "\n",
        "```python\n",
        "# ¿Es matriz hermitiana?\n",
        "np.allclose(A, A.conj().T)\n",
        "\n",
        "# ¿Es ortogonal?\n",
        "np.allclose(A @ A.T, np.eye(A.shape[0]))\n",
        "\n",
        "# ¿Es simétrica?\n",
        "np.allclose(A, A.T)\n",
        "```\n",
        "\n",
        "---\n",
        "\n",
        "## Ejemplo completo\n",
        "\n",
        "A = np.array([[2, -1],\n",
        "              [-1, 2]])\n",
        "```\n",
        "\n",
        "### Suma de A + A\n",
        "```python\n",
        "array([[ 4, -2],\n",
        "       [-2,  4]])\n",
        "```\n",
        "\n",
        "### Producto por escalar (3 × A)\n",
        "```python\n",
        "array([[ 6, -3],\n",
        "       [-3,  6]])\n",
        "```\n",
        "\n",
        "### Producto matricial A @ A\n",
        "```python\n",
        "array([[ 5, -4],\n",
        "       [-4,  5]])\n",
        "```\n",
        "\n",
        "### Transpuesta\n",
        "```python\n",
        "array([[ 2, -1],\n",
        "       [-1,  2]])\n",
        "```\n",
        "\n",
        "### Matriz inversa\n",
        "```python\n",
        "array([[0.66666667, 0.33333333],\n",
        "       [0.33333333, 0.66666667]])\n",
        "```\n",
        "\n",
        "### Traza (suma de la diagonal)\n",
        "```python\n",
        "4\n",
        "```\n",
        "\n",
        "### Determinante\n",
        "```python\n",
        "2.9999999999999996\n",
        "```\n",
        "\n",
        "### Solución del sistema Ax = b, con b = [5, 11]\n",
        "```python\n",
        "array([7., 9.])\n",
        "```\n",
        "\n",
        "### Autovalores\n",
        "```python\n",
        "array([3., 1.])\n",
        "```\n",
        "\n",
        "### 🔹 Autovectores\n",
        "```python\n",
        "array([[ 0.70710678,  0.70710678],\n",
        "       [-0.70710678,  0.70710678]])\n",
        "```\n",
        "\n",
        "### Verificaciones:\n",
        "- ¿Es simétrica?: True\n",
        "- ¿Es ortogonal?: False\n",
        "- ¿Es hermitiana?: True\n"
      ]
    }
  ],
  "metadata": {
    "colab": {
      "include_colab_link": true,
      "provenance": []
    },
    "kernelspec": {
      "display_name": "Python 3",
      "name": "python3"
    },
    "language_info": {
      "codemirror_mode": {
        "name": "ipython",
        "version": 3
      },
      "file_extension": ".py",
      "mimetype": "text/x-python",
      "name": "python",
      "nbconvert_exporter": "python",
      "pygments_lexer": "ipython3",
      "version": "3.13.3"
    }
  },
  "nbformat": 4,
  "nbformat_minor": 0
}
