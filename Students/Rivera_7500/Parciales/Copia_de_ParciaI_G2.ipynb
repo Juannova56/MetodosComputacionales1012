{
  "nbformat": 4,
  "nbformat_minor": 0,
  "metadata": {
    "colab": {
      "provenance": []
    },
    "kernelspec": {
      "name": "python3",
      "display_name": "Python 3"
    },
    "language_info": {
      "name": "python"
    }
  },
  "cells": [
    {
      "cell_type": "markdown",
      "source": [
        "# Parcial I - Métodos Computacionales\n",
        "\n",
        "**2025-1**\n",
        "\n",
        "---\n",
        "\n",
        "Nombre: Orly de Jesus Rivera Cruz\n",
        "\n",
        "Identificación: 1137977500\n",
        "\n",
        "---\n",
        "\n",
        "* ⚠ Explique su código usando con comentarios,\n",
        "\n",
        "* ❗Todas las funciones deben tener documentación básica,\n",
        "\n",
        "* 🛑 El uso de IA's no está permitido,\n",
        "\n",
        "* ⚛ La interpretación del enunciado hace parte de la evaluación,\n",
        "\n",
        "* ⏲ Este parcial tiene una duración de 2 horas"
      ],
      "metadata": {
        "id": "bcIQtfNJ4sBq"
      }
    },
    {
      "cell_type": "code",
      "source": [
        "# Librerias útiles\n",
        "import numpy as np\n",
        "import matplotlib.pyplot as plt\n",
        "import pandas as pd\n",
        "from math import factorial\n",
        "from scipy.optimize import root_scalar, newton, bisect # Funciones para raices\n",
        "\n",
        "## Ayudas\n",
        "# np.sign (Signo de una variable)\n",
        "# np.deg2rad (Convertir grados a radianes)\n",
        "# pd.Dataframe Genera un dataframe a partir de un diccionario o listas\n",
        "# range(0, 10, 2) (Pasos de 2 comenzando en 0 hasta 10)"
      ],
      "metadata": {
        "id": "-86TwvuE48Kp"
      },
      "execution_count": 1,
      "outputs": []
    },
    {
      "cell_type": "markdown",
      "source": [
        "# 1\n",
        "\n",
        "**(40 puntos)** El **método de Ridder** es un algoritmo de búsqueda de raíces que, como la bisección, requiere un intervalo $[a, b]$ tal que $f(a) \\cdot f(b) < 0$. A diferencia de la bisección, Ridder introduce una corrección exponencial para acelerar la convergencia, logrando **convergencia cuadrática** sin requerir derivadas.\n",
        "\n",
        "---\n",
        "### Pasos para implementar\n",
        "\n",
        "1. **Definir la función** $f(x)$ y un intervalo $[a, b]$ tal que:\n",
        "\n",
        "   - $f(a) \\cdot f(b) < 0$ (la función tiene signos opuestos en los extremos del intervalo).\n",
        "   - La función debe ser continua en $[a, b]$.\n",
        "\n",
        "2. **Calcular el punto medio**:\n",
        "\n",
        "   $$\n",
        "   m = \\frac{a + b}{2}\n",
        "   $$\n",
        "\n",
        "3. **Calcular la corrección exponencial**:\n",
        "\n",
        "   - Evaluar $f(a)$, $f(b)$ y $f(m)$.\n",
        "   - Calcular:\n",
        "\n",
        "     $$\n",
        "     s = \\sqrt{f(m)^2 - f(a) f(b)}\n",
        "     $$\n",
        "\n",
        "   - Si $s = 0$, detener: la raíz no puede estimarse en esta iteración.\n",
        "\n",
        "   - Calcular el nuevo candidato a raíz:\n",
        "\n",
        "     $$\n",
        "     x = m + \\frac{(m - a) f(m)}{s} \\cdot \\text{sign}(f(a) - f(b))\n",
        "     $$\n",
        "\n",
        "4. **Evaluar $f(x)$** y actualizar el intervalo:\n",
        "\n",
        "   - Si $f(m) \\cdot f(x) < 0$, entonces la nueva raíz está entre $m$ y $x$.\n",
        "   - Si $f(a) \\cdot f(x) < 0$, entonces actualizar $b = x$, luego $f(b) = f(x)$.\n",
        "   - Si $f(b) \\cdot f(x) < 0$, entonces actualizar $a = x$, luego $f(a) = f(x)$.\n",
        "   - En cada paso mantener la condición $f(a) \\cdot f(b) < 0$.\n",
        "\n",
        "5. **Criterio de parada**:\n",
        "\n",
        "   - Repetir los pasos anteriores hasta que se alcance la tolerancia deseada:\n",
        "\n",
        "     $$\n",
        "     |f(x)| < \\varepsilon \\quad \\text{o} \\quad |b - a| < \\delta\n",
        "     $$\n",
        "\n",
        "   donde $\\varepsilon$ y $\\delta$ son tolerancias establecidas por el usuario.\n",
        "\n",
        "---\n",
        "\n",
        "* Defina una función llamada `Ridder` que calcule la raiz de una función dada. Su función debe tener documentación y retornar el valor de la raiz junto con el número de iteraciones empleadas para alcanzar la convergencia dada una tolerancia.\n",
        "\n",
        "* Usando\n",
        "$$\\cos(x) = x,$$\n",
        "\n",
        "Grafique la función para $0\\leq x \\leq \\pi/2$ usando 100 puntos. Luego, cree un DataFrame con los datos de $x$ y $f(x)$, y encuentre una primera aproximación a la raiz aplicando un filtro en el dataframe con los valores más cercanos a cero.\n",
        "\n",
        "* Usando el método de Ridder encuentre la raiz númericamente y compare su resultado usando el método de bisección y secante.\n",
        "\n",
        "* Para las siguientes tolerancias (ver código) realice un gráfico usando escala logaritimica en $y$ de cuantas iteraciones son necesarias hasta alcanzar la convergencia. ¿Qué puede concluir acerca de la misma?\n",
        "\n",
        "```python\n",
        "# Tolerancias\n",
        "tol = np.logspace(-1, -20, 20)\n",
        "\n",
        "# Grafico semilog\n",
        "\n",
        "plt.semilogy(N, tol)\n",
        "\n",
        "```"
      ],
      "metadata": {
        "id": "rNIchL-H5ZII"
      }
    },
    {
      "cell_type": "code",
      "source": [
        "# Punto 1:\n",
        "\n",
        "\"\"\"\n",
        "Función cos(x) - x\n",
        "\n",
        "Entrada:\n",
        "x --> Numeros reales en el intervalo [ 0 , pi/2 ]\n",
        "\n",
        "Salida:\n",
        "f(x) --> Imagenes de la funcion cos(x) - x en el intervalo [ 0 , pi/2 ]\n",
        "\"\"\"\n",
        "\n",
        "def f(x):\n",
        "  return np.cos(x) - x\n",
        "\n",
        "\"\"\"\n",
        "Función Ridder\n",
        "\n",
        "Entrada:\n",
        "f --> Imagenes de la funcion cos(x) - x en el intervalo [ 0 , pi/2 ]\n",
        "a --> Valor en x delimitador 1\n",
        "b --> Valor en x delimitador 2\n",
        "t --> Tolerancia de nuestra raiz\n",
        "i --> Numero de iteraciones maximo\n",
        "\n",
        "Salida:\n",
        "x0 --> Raiz truncada por nuestra tolerancia\n",
        "it --> Numero de iteraciones hechas\n",
        "\"\"\"\n",
        "\n",
        "\n",
        "def Ridder(f,a,b,t,i):\n",
        "\n",
        "  it = 0\n",
        "\n",
        "  for n in range(1,i):\n",
        "\n",
        "    if f(a) * f(b) > 0:\n",
        "     return print(\"ERROR\")\n",
        "    else:\n",
        "      pass\n",
        "\n",
        "    m=(a+b)/2\n",
        "    s = ( (f(m))**2 - f(a)*f(b))**(1/2)\n",
        "\n",
        "    if s == 0:\n",
        "      return print(\"No es posible determinar en esta iteración\")\n",
        "    else:\n",
        "      it+=1\n",
        "      x0 = m + ((m-a) * f(m) / s) * np.sign(f(a)-f(b))\n",
        "\n",
        "    if abs(f(x0)) < t or abs(a-b) < t:\n",
        "      return x0 , it\n",
        "    else:\n",
        "      pass\n",
        "\n",
        "    #-------\n",
        "\n",
        "    if f(m) * f(x0) < 0:\n",
        "       a=m\n",
        "       b=x0\n",
        "    elif f(a) * f(x0):\n",
        "       b = x0\n",
        "    else:\n",
        "       a = x0\n",
        "\n",
        "  return print(\"Diverge\")\n",
        "\n",
        "Raiz , NdeI = Ridder(f,0,np.pi/2,1e-10,100)\n",
        "\n",
        "x = np.linspace(0,np.pi/2,100)\n",
        "\n",
        "print(\"\\n-----------------------Grafica de la función-------------------------\")\n",
        "plt.style.use(\"classic\")\n",
        "plt.title(\"cos(x) - x\")\n",
        "plt.xlabel(\"Eje x\")\n",
        "plt.ylabel(\"Eje y\")\n",
        "plt.axhline(0,color = \"red\")\n",
        "plt.plot(x , f(x))\n",
        "plt.grid()\n",
        "plt.show()\n",
        "\n",
        "print(\"\\n-------------------------Tabla de la función---------------------------\")\n",
        "\n",
        "Tabla = pd.DataFrame({\"Preimagen\" : x,\"Imagen\" : f(x)})\n",
        "\n",
        "print(\"\\nTabla de imagenes cercanas al 0\")\n",
        "print(Tabla[abs(Tabla[\"Imagen\"]) < 0.05])\n",
        "print(\"\\nPodemos destacar que estara entre los valores 0.729 y 0.745\")\n",
        "\n",
        "print(\"\\n-----------------------Puntos de intersección-------------------------\")\n",
        "\n",
        "print(\"El punto de intersección es:\",Raiz ,\"\\nAl codigo le tomo de iteraciones:\", NdeI)\n",
        "\n",
        "print(\"\\nSiguiendo el metodo de bisección da:\" , bisect(f,0,np.pi/2))\n",
        "print(\"SIguiendo el metodo de la secante da:\" , newton(f,x0=0,x1=np.pi/2))\n",
        "\n",
        "tol = np.logspace(-1, -20, 20)\n",
        "N = []\n",
        "\n",
        "print(\"\\n-----------------------Puntos de intersección-------------------------\")\n",
        "\n",
        "for to in tol:\n",
        "  N.append(Ridder(f,0,np.pi/2,to,100)[1])\n",
        "plt.grid()\n",
        "plt.semilogy(N, tol)\n",
        "plt.show()"
      ],
      "metadata": {
        "id": "phBAIpoX7Y9W",
        "colab": {
          "base_uri": "https://localhost:8080/",
          "height": 1000
        },
        "outputId": "b5dc7ba2-0f46-43bc-ce6e-761f8a54cb9f"
      },
      "execution_count": 124,
      "outputs": [
        {
          "output_type": "stream",
          "name": "stdout",
          "text": [
            "\n",
            "-----------------------Grafica de la función-------------------------\n"
          ]
        },
        {
          "output_type": "display_data",
          "data": {
            "text/plain": [
              "<Figure size 640x480 with 1 Axes>"
            ],
            "image/png": "[encoded data removed]"
          },
          "metadata": {}
        },
        {
          "output_type": "stream",
          "name": "stdout",
          "text": [
            "\n",
            "-------------------------Tabla de la función---------------------------\n",
            "\n",
            "Tabla de imagenes cercanas al 0\n",
            "    Preimagen    Imagen\n",
            "45   0.713998  0.041751\n",
            "46   0.729865  0.015399\n",
            "47   0.745732 -0.011140\n",
            "48   0.761598 -0.037864\n",
            "\n",
            "Podemos destacar que estara entre los valores 0.729 y 0.745\n",
            "\n",
            "-----------------------Puntos de intersección-------------------------\n",
            "El punto de intersección es: 0.7390851332098146 \n",
            "Al codigo le tomo de iteraciones: 3\n",
            "\n",
            "Siguiendo el metodo de bisección da: 0.7390851332152737\n",
            "SIguiendo el metodo de la secante da: 0.7390851332151607\n"
          ]
        },
        {
          "output_type": "display_data",
          "data": {
            "text/plain": [
              "<Figure size 640x480 with 1 Axes>"
            ],
            "image/png": "[encoded data removed]"
          },
          "metadata": {}
        }
      ]
    },
    {
      "cell_type": "markdown",
      "source": [
        "#2\n",
        "\n",
        "**(60 puntos)** En óptica, cuando un rayo de luz atraviesa la interfaz entre dos medios con diferentes índices de refracción, su dirección cambia según la ley de Snell. Para el caso de un prisma triangular, cuando un rayo emerge después de dos refracciones, el ángulo de desviación total $\\delta$ está dado por:\n",
        "\n",
        "$$\\delta(\\theta_i) = \\theta_i + \\arcsin\\left(n\\sin\\left(A - \\arcsin\\left(\\frac{\\sin\\theta_i}{n}\\right)\\right)\\right) - A$$\n",
        "\n",
        "donde $\\theta_i$ es el ángulo de incidencia, $n$ es el índice de refracción del prisma y $A$ es el ángulo del prisma.\n",
        "\n",
        "La derivada de esta función con respecto al ángulo de incidencia $\\theta_i$ es:\n",
        "\n",
        "$$\\frac{d\\delta}{d\\theta_i} = 1 - \\frac{\\cos\\theta_i \\cdot \\cos(A-\\theta_r)}{\\cos\\theta_r \\cdot \\sqrt{1-n^2\\sin^2(A-\\theta_r)}}$$\n",
        "\n",
        "donde $\\theta_r = \\arcsin\\left(\\frac{\\sin\\theta_i}{n}\\right)$ es el ángulo de refracción en la primera interfaz.\n",
        "\n",
        "Considere un prisma de vidrio crown con $n = 1.52$ y $A = 60°$.\n",
        "\n",
        "### Parte A:\n",
        "* Escriba una función explicita y documentada para $\\frac{d\\delta}{d\\theta_i}$\n",
        "\n",
        "* Realice un gráfico para $\\frac{d\\delta}{d\\theta_i}$ y encuentre el ángulo de incidencia $\\theta_i$ que produce el ángulo de desviación mínimo para $\\theta_i \\in [30°, 80°]$.\n",
        "\n",
        "* Use el método de Newton-Raphson (sin derivada) y el método de la secante para hallar el ángulo de desviación mínimo.\n",
        "\n",
        "\n",
        "### Parte B:\n",
        "* Determine el ángulo crítico $\\theta_c$ para el cual el rayo comienza a experimentar reflexión interna total en la segunda interfaz del prisma. Esta condición ocurre cuando:\n",
        "\n",
        "$$\\sin(A - \\theta_r) = \\frac{1}{n}$$\n",
        "\n",
        "* Resuelva numéricamente la ecuación anterior para encontrar el ángulo de incidencia $\\theta_i$ correspondiente a este ángulo crítico, utilizando el método de la bisección.\n",
        "\n",
        "\n",
        "\n"
      ],
      "metadata": {
        "id": "od2GDFK5-QJC"
      }
    },
    {
      "cell_type": "code",
      "source": [
        "\"\"\"\n",
        "Función df\n",
        "\n",
        "Entrada:\n",
        "tetha --> Espectro de angulos entre [ 30° , 80° ] (En rad)\n",
        "A --> Angulo de el prisma (Pre-establecida)\n",
        "n --> Indice de refracción (Pre-establecida)\n",
        "\n",
        "Salida:\n",
        "x0 --> Raiz truncada por nuestra tolerancia\n",
        "it --> Numero de iteraciones hechas\n",
        "\"\"\"\n",
        "def df(tetha , A = np.deg2rad(60), n = 1.52):\n",
        "  tethar = np.arcsin(np.sin(tetha)/n)\n",
        "  return 1 - ((np.cos(tetha) * np.cos( A - tethar)) / (np.cos(tethar) * (1-((n**2)*((np.sin( A - tethar))**2)))**(1/2)))\n",
        "\n",
        "x = np.linspace(np.deg2rad(30),np.deg2rad(80),1000)\n",
        "\n",
        "plt.plot(x,df(x))\n",
        "plt.show()\n",
        "\n",
        "print(\"\\nSiguiendo el metodo de newton da:\" , newton(df,x0 = 1))\n",
        "print(\"SIguiendo el metodo de la secante da:\" , newton(df,x0=0.6,x1=0.8))\n",
        "\n",
        "print(\"PARTE B:\")\n",
        "\n",
        "def cri(tetha , A = np.deg2rad(60), n = 1.52):\n",
        "  tethar = np.arcsin(np.sin(tetha)/n)\n",
        "  return np.sin( A - tethar ) - (1/n)\n",
        "\n",
        "print(\"\\nSiguiendo el metodo de newton da:\" , newton(cri,x0 = 1))\n",
        "print(\"SIguiendo el metodo de la secante da:\" , newton(cri,x0=0.6,x1=0.8))"
      ],
      "metadata": {
        "id": "hkHRzyB9-mSS",
        "colab": {
          "base_uri": "https://localhost:8080/",
          "height": 555
        },
        "outputId": "6630a999-a190-40d4-8d7a-9870382389ac"
      },
      "execution_count": 111,
      "outputs": [
        {
          "output_type": "display_data",
          "data": {
            "text/plain": [
              "<Figure size 640x480 with 1 Axes>"
            ],
            "image/png": "[encoded data removed]"
          },
          "metadata": {}
        },
        {
          "output_type": "stream",
          "name": "stdout",
          "text": [
            "\n",
            "Siguiendo el metodo de newton da: 0.8633131150155535\n",
            "SIguiendo el metodo de la secante da: 0.8633131150155536\n",
            "PARTE B:\n",
            "\n",
            "Siguiendo el metodo de newton da: 0.5136536662197806\n",
            "SIguiendo el metodo de la secante da: 0.5136536662197776\n"
          ]
        }
      ]
    }
  ]
}