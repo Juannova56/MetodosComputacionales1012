{
 "cells": [
  {
   "cell_type": "markdown",
   "id": "13cb7654",
   "metadata": {},
   "source": [
    "## Problema 1: Números primos entre 2 y 50 con la Criba de Eratóstenes\n",
    "\n",
    "La **Criba de Eratóstenes** es un método eficiente para encontrar todos los números primos menores que un número dado. El algoritmo consiste en:\n",
    "\n",
    "1. Crear una lista de valores booleanos para representar los números del 2 al 50, todos inicialmente marcados como verdaderos.\n",
    "2. Comenzando desde el primer número primo (2), eliminar todos sus múltiplos (marcándolos como falsos).\n",
    "3. Repetir el proceso para el siguiente número no eliminado.\n",
    "4. Los números que permanezcan marcados como verdaderos son primos.\n",
    "\n",
    "Usando funciones, implementa este método y muestra en pantalla todos los números primos entre 2 y 50.\n",
    "\n"
   ]
  },
  {
   "cell_type": "code",
   "execution_count": 29,
   "id": "351fa73a",
   "metadata": {},
   "outputs": [
    {
     "name": "stdout",
     "output_type": "stream",
     "text": [
      " Vamos a conocer los numeros primos con la criba de eratostenes\n",
      "\n",
      " A continuación sus numeros primos desde el 2 hasta el 2 :\n",
      " [2]\n"
     ]
    }
   ],
   "source": [
    "#Criba de eratostenes\n",
    "\n",
    "\"\"\"\n",
    "---------------------------------------------------------------------------------------------------\n",
    "----------------------------LÍMITE PARA LA CRIBA DE ERATOSTENES------------------------------------\n",
    "---------------------------------------------------------------------------------------------------\n",
    "\"\"\"\n",
    "\n",
    "print(\" Vamos a conocer los numeros primos con la criba de eratostenes\")\n",
    "Tope = 2                #<------------------------             Límite pedido\n",
    "\n",
    "\n",
    "\"\"\"\n",
    "---------------------------------------------------------------------------------------------------\n",
    "------------------------------------CRIBA DE ERATOSTENES-------------------------------------------\n",
    "---------------------------------------------------------------------------------------------------\n",
    "\"\"\"\n",
    "\n",
    "def criba(Tope):\n",
    "    Lista = [True] * (Tope-1)                                       #Creación de una lista boleanna (La razon de el -1 es para quitar el numero uno)\n",
    "    Primos = []\n",
    "\n",
    "    for Num in range(2,len(Lista)+2):                               #Corremos el range para poder empezar desde el numero 2 e ir insertando estos numeros\n",
    "        if Lista[Num-2] == True:                                    #Recorre la lista y si esta TRUE lo agrega a los primos (El -2 es para iniciar desde el inicio de la lista)\n",
    "            Primos.append(Num)\n",
    "            for Mul in range(2,int(Tope/Num) + 1):                  #Cambia todos los multiplos de ese numero por FALSE\n",
    "                Lista[ Num*Mul - 2 ] = False\n",
    "        if Lista[Num-2] == False:\n",
    "            pass\n",
    "    return Primos\n",
    "\n",
    "\"\"\"\n",
    "---------------------------------------------------------------------------------------------------\n",
    "--------------------------------------NUMEROS PRIMOS-----------------------------------------------\n",
    "---------------------------------------------------------------------------------------------------\n",
    "\"\"\"\n",
    "\n",
    "\n",
    "print(\"\\n A continuación sus numeros primos desde el 2 hasta el\",Tope,\":\\n\",criba(Tope))"
   ]
  },
  {
   "cell_type": "markdown",
   "id": "7842bb50",
   "metadata": {},
   "source": [
    "## Problema 2: Aproximación de π usando la serie de Leibniz\n",
    "\n",
    "La serie de Leibniz es una forma sencilla de aproximar el valor de π:\n",
    "\n",
    "$$\n",
    "\\pi \\approx 4 \\sum_{n=0}^{N} \\frac{(-1)^n}{2n + 1}\n",
    "$$\n",
    "\n",
    "Implementa una función que realice este calculo y muestra la aproximación para distintos valores de $N$ (por ejemplo: 10, 100, 1000, 10000)."
   ]
  },
  {
   "cell_type": "code",
   "execution_count": null,
   "id": "ca2dc450",
   "metadata": {},
   "outputs": [
    {
     "name": "stdout",
     "output_type": "stream",
     "text": [
      "Vamos a aproximar pi con una serie de Leibniz\n",
      "\n",
      "Su numero pi con N iteraciones es de aproximadamente:\n",
      "N =  10      Pi =  3.0418396189294032\n",
      "N =  100      Pi =  3.1315929035585537\n",
      "N =  1000      Pi =  3.140592653839794\n",
      "N =  10000      Pi =  3.1414926535900345\n"
     ]
    }
   ],
   "source": [
    "#Aproximación de pi con la serie de Leibniz\n",
    "\n",
    "\"\"\"\n",
    "---------------------------------------------------------------------------------------------------\n",
    "----------------------------INTRODUCCIÓN-----------------------------------------------------------\n",
    "---------------------------------------------------------------------------------------------------\n",
    "\"\"\"\n",
    "\n",
    "\n",
    "print(\"Vamos a aproximar pi con una serie de Leibniz\\n\")\n",
    "\n",
    "\n",
    "\"\"\"\n",
    "---------------------------------------------------------------------------------------------------\n",
    "----------------------------APROXIMACION DE PI CON SERIE DE LIBNIZ---------------------------------\n",
    "---------------------------------------------------------------------------------------------------\n",
    "\"\"\"\n",
    "\n",
    "\n",
    "def calc_pi(Tope):\n",
    "    Sumatoria = 0                                   #Se define la suma en 0\n",
    "    for Max in range(0,Tope):                       #Se itera N veces\n",
    "        Operacion = ( (-1) ** Max ) / ( 2*Max + 1)  #Se calculo el termino\n",
    "        Sumatoria = Sumatoria + Operacion           #Suma el numero calculado\n",
    "    return(4*Sumatoria)                             #Retorna la sumatoria por 4 para dar pi\n",
    "\n",
    "\n",
    "\"\"\"\n",
    "---------------------------------------------------------------------------------------------------\n",
    "----------------------------APROXIMACIÓN DE PI CON N ITERACIONES-----------------------------------\n",
    "---------------------------------------------------------------------------------------------------\n",
    "\"\"\"\n",
    "\n",
    "\n",
    "print(\"Su numero pi con N iteraciones es de aproximadamente:\")\n",
    "\n",
    "for i in [10,100,1000,10000]:                                      #Funcion probada 4 veces con 10,100,1000,10000\n",
    "    print(\"N = \" , i   ,  \"     Pi = \" , calc_pi(i))"
   ]
  },
  {
   "cell_type": "markdown",
   "id": "4ff4a3d2",
   "metadata": {},
   "source": [
    "## Problema 3: Números amigos en un rango dado\n",
    "\n",
    "Dos números naturales $a$ y $b$ se llaman **números amigos** si la suma de los divisores propios (excluyendo el número mismo) de $a$ es igual a $b$, y viceversa.\n",
    "\n",
    "Por ejemplo, 220 y 284 son números amigos porque:\n",
    "- Los divisores propios de 220 son: 1, 2, 4, 5, 10, 11, 20, 22, 44, 55, 110 → suma: 284\n",
    "- Los divisores propios de 284 son: 1, 2, 4, 71, 142 → suma: 220\n",
    "\n",
    "Escribe un programa que encuentre todos los pares de números amigos en un rango dado por el usuario (por ejemplo, entre 1 y 10000)."
   ]
  },
  {
   "cell_type": "code",
   "execution_count": null,
   "id": "ce06a45f",
   "metadata": {},
   "outputs": [
    {
     "name": "stdout",
     "output_type": "stream",
     "text": [
      "Vamos a encontrar los numeros amigos en un rango de tu preferencia\n",
      "El rango es desde 1 hasta 10000\n",
      "\n",
      "Sus numeros amigos son:\n",
      "220 y 284\n",
      "1184 y 1210\n",
      "2620 y 2924\n",
      "5020 y 5564\n",
      "6232 y 6368\n"
     ]
    }
   ],
   "source": [
    "#Numeros amigos en un rango dado\n",
    "\n",
    "\"\"\"\n",
    "---------------------------------------------------------------------------------------------------\n",
    "---------------------------------RANGO MINIMO Y RANGO MAXIMO---------------------------------------\n",
    "---------------------------------------------------------------------------------------------------\n",
    "\"\"\"\n",
    "\n",
    "\n",
    "print(\"Vamos a encontrar los numeros amigos en un rango de tu preferencia\")\n",
    "Min = 1                                              # <------------- RANGO MINIMO\n",
    "Max = 10000                                          # <------------- RANGO MAXIMO\n",
    "\n",
    "print(\"El rango es desde\",Min,\"hasta\",Max)\n",
    "\n",
    "\n",
    "\"\"\"\n",
    "---------------------------------------------------------------------------------------------------\n",
    "----------------------------BUSQUEDA DE LOS NUMEROS AMIGOS-----------------------------------------\n",
    "---------------------------------------------------------------------------------------------------\n",
    "\"\"\"\n",
    "\n",
    "\n",
    "print(\"\\nSus numeros amigos son:\")\n",
    "for Num1 in range(Min,Max+1):           #Recorre todos los numeros en tu rango\n",
    "    Suma = 0\n",
    "    Suma2 = 0\n",
    "    for Div in range(1,int(Num1/2)+1):  #Se encuentran los divisores (Se trunca en uno mas la mitad ya que no habra mas y no contaremos a el mismo)\n",
    "        if Num1%Div == 0:\n",
    "            Suma = Suma+Div             #Se suman los divisores\n",
    "        else:\n",
    "            pass\n",
    "    for Div2 in range(1,int(Suma/2)+1): #A la suma anterior le haremos el mismo proceso anterior\n",
    "        if Suma%Div2 == 0:\n",
    "            Suma2 = Suma2 + Div2\n",
    "        else:\n",
    "            pass\n",
    "    if Suma2 == Num1 and Suma != Num1 and Num1 < Suma:      #Compara los resultados para verificar si son numeros amigos (Se verifica que uno sea mayor y diferente que el otro para que no haya repetidos)\n",
    "        print(Num1,\"y\",Suma)                                #Imprime los numeros amigos\n",
    "    else:\n",
    "        pass\n",
    "\n"
   ]
  },
  {
   "cell_type": "markdown",
   "id": "a3fb5acf",
   "metadata": {},
   "source": [
    "## Problema 4: Contador de frecuencias de letras en una palabra\n",
    "\n",
    "Escribe un programa que lea una palabra ingresada por el usuario y construya un diccionario donde cada clave sea una letra de la palabra, y el valor asociado sea la cantidad de veces que esa letra aparece. Imprime el resultado.\n"
   ]
  },
  {
   "cell_type": "code",
   "execution_count": null,
   "id": "cc1aa0c3",
   "metadata": {},
   "outputs": [
    {
     "name": "stdout",
     "output_type": "stream",
     "text": [
      "Vamos a contar las letras de una palabra dada\n",
      "Su palabra es: OTORrinolaringologia\n",
      "\n",
      "A continuación un diccionario con la frecuencia de las letras de su palabra\n",
      " {'r': 3, 'a': 2, 'g': 2, 'n': 2, 't': 1, 'i': 3, 'o': 5, 'l': 2}\n"
     ]
    }
   ],
   "source": [
    "#Contador de frecuencias de letras en una palabra\n",
    "\n",
    "\"\"\"\n",
    "---------------------------------------------------------------------------------------------------\n",
    "-------------------------------INTRODUCCION DE LA PALABRA------------------------------------------\n",
    "---------------------------------------------------------------------------------------------------\n",
    "\"\"\"\n",
    "\n",
    "\n",
    "print(\"Vamos a contar las letras de una palabra dada\")\n",
    "Palabra = input(\"Por favor ingrese la palabra deseada:\")        #Ingreso de la palabra\n",
    "print(\"Su palabra es:\",Palabra)\n",
    "\n",
    "\n",
    "\"\"\"\n",
    "---------------------------------------------------------------------------------------------------\n",
    "--------------------------------------CONTADOR DE PALABRAS-----------------------------------------\n",
    "---------------------------------------------------------------------------------------------------\n",
    "\"\"\"\n",
    "\n",
    "\n",
    "Palabra = list(Palabra.lower())              #Se pone en minuscula la palabra\n",
    "Letras = dict()                              #Se crea un diccionario\n",
    "\n",
    "for Letra in set(Palabra):                   #Se recorre un conjunto con las letras de la palabra\n",
    "    n = Palabra.count(Letra)                 #Se cuenta la frecuencia\n",
    "    Letras[Letra] = n                        #Se anexa al diccionario\n",
    "\n",
    "\"\"\"\n",
    "---------------------------------------------------------------------------------------------------\n",
    "--------------------------------------PALABRAS CONTADAS--------------------------------------------\n",
    "---------------------------------------------------------------------------------------------------\n",
    "\"\"\"\n",
    "\n",
    "\n",
    "print(\"\\nA continuación un diccionario con la frecuencia de las letras de su palabra\\n\",Letras)"
   ]
  }
 ],
 "metadata": {
  "kernelspec": {
   "display_name": "Python 3",
   "language": "python",
   "name": "python3"
  },
  "language_info": {
   "codemirror_mode": {
    "name": "ipython",
    "version": 3
   },
   "file_extension": ".py",
   "mimetype": "text/x-python",
   "name": "python",
   "nbconvert_exporter": "python",
   "pygments_lexer": "ipython3",
   "version": "3.13.2"
  }
 },
 "nbformat": 4,
 "nbformat_minor": 5
}
