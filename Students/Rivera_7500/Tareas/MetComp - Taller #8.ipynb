{
  "cells": [
    {
      "cell_type": "code",
      "execution_count": 65,
      "metadata": {
        "id": "z7RCty67y3ME"
      },
      "outputs": [],
      "source": [
        "import numpy as np\n",
        "import matplotlib.pyplot as plt\n",
        "import scipy.linalg as la\n",
        "import numpy.linalg as nla\n",
        "from IPython.display import display, Math"
      ]
    },
    {
      "cell_type": "markdown",
      "metadata": {
        "id": "GGQpGoujzAnQ"
      },
      "source": [
        "# Actividad 08: Algebra Lineal y Matrices\n",
        "\n",
        "---\n",
        "### Profesor: Juan Marcos Marín\n",
        "### Nombre: Orly de Jesus Rivera Cruz\n",
        "*Métodos computacionales*\n",
        "\n",
        "---"
      ]
    },
    {
      "cell_type": "markdown",
      "metadata": {
        "id": "U9hC1R-F0-iH"
      },
      "source": [
        "#1\n",
        "Escriba tres matrices aleatorias $A$, $B$ y $C$ de $3\\times 3$, y demuestre las siguientes relaciones\n",
        "\n",
        "- $ \\mathbf{A}\\mathbf{B} \\neq \\mathbf{B}\\mathbf{A} $, en general.\n",
        "- $ (\\mathbf{A}\\mathbf{B})\\mathbf{C} = \\mathbf{A}(\\mathbf{B}\\mathbf{C}) $.\n",
        "- $ \\mathbf{A}(\\mathbf{B} + \\mathbf{C}) = \\mathbf{A}\\mathbf{B} + \\mathbf{A}\\mathbf{C} $.\n",
        "- $ (\\mathbf{A} + \\mathbf{B})\\mathbf{C} = \\mathbf{A}\\mathbf{C} + \\mathbf{B}\\mathbf{C} $.\n",
        "- $ (\\mathbf{A}\\mathbf{B})^\\top = \\mathbf{B}^\\top \\mathbf{A}^\\top $.\n",
        "- $ \\det(\\mathbf{A}\\mathbf{B}) = \\det(\\mathbf{A}) \\det(\\mathbf{B}) $.\n",
        "- $ (\\mathbf{A}^\\top)^\\top = \\mathbf{A} $.\n",
        "- $ (c\\mathbf{A})^\\top = c\\mathbf{A}^\\top $.\n",
        "- $ (\\mathbf{A} + \\mathbf{B})^\\top = \\mathbf{A}^\\top + \\mathbf{B}^\\top $.\n",
        "\n"
      ]
    },
    {
      "cell_type": "code",
      "execution_count": 77,
      "metadata": {
        "id": "cQQ6cPGW1anK"
      },
      "outputs": [
        {
          "name": "stdout",
          "output_type": "stream",
          "text": [
            "\n",
            "La matriz A escogida al azar es:\n",
            " [[-62 -95  35]\n",
            " [-61 -50 -36]\n",
            " [ 99 -66  60]]\n",
            "\n",
            "La matriz B escogida al azar es:\n",
            " [[ 91   7   6]\n",
            " [ 98   6 -19]\n",
            " [  9  63 -69]]\n",
            "\n",
            "La matriz C escogida al azar es:\n",
            " [[-92 -79  24]\n",
            " [-17  81 -14]\n",
            " [ 67  -9  59]]\n",
            "\n"
          ]
        },
        {
          "data": {
            "text/latex": [
              "$\\displaystyle \\mathbf{A}\\mathbf{B} = \\mathbf{B}\\mathbf{A}$"
            ],
            "text/plain": [
              "<IPython.core.display.Math object>"
            ]
          },
          "metadata": {},
          "output_type": "display_data"
        },
        {
          "name": "stdout",
          "output_type": "stream",
          "text": [
            "--- False --- \n",
            "(Esto es FALSE generalmente)\n",
            "\n"
          ]
        },
        {
          "data": {
            "text/latex": [
              "$\\displaystyle (\\mathbf{A}\\mathbf{B})\\mathbf{C} = \\mathbf{A}(\\mathbf{B}\\mathbf{C})$"
            ],
            "text/plain": [
              "<IPython.core.display.Math object>"
            ]
          },
          "metadata": {},
          "output_type": "display_data"
        },
        {
          "name": "stdout",
          "output_type": "stream",
          "text": [
            "--- True ---\n",
            "\n"
          ]
        },
        {
          "data": {
            "text/latex": [
              "$\\displaystyle \\mathbf{A}(\\mathbf{B} + \\mathbf{C}) = \\mathbf{A}\\mathbf{B} + \\mathbf{A}\\mathbf{C}$"
            ],
            "text/plain": [
              "<IPython.core.display.Math object>"
            ]
          },
          "metadata": {},
          "output_type": "display_data"
        },
        {
          "name": "stdout",
          "output_type": "stream",
          "text": [
            "--- True ---\n",
            "\n"
          ]
        },
        {
          "data": {
            "text/latex": [
              "$\\displaystyle (\\mathbf{A} + \\mathbf{B})\\mathbf{C} = \\mathbf{A}\\mathbf{C} + \\mathbf{B}\\mathbf{C}$"
            ],
            "text/plain": [
              "<IPython.core.display.Math object>"
            ]
          },
          "metadata": {},
          "output_type": "display_data"
        },
        {
          "name": "stdout",
          "output_type": "stream",
          "text": [
            "--- True ---\n",
            "\n"
          ]
        },
        {
          "data": {
            "text/latex": [
              "$\\displaystyle (\\mathbf{A}\\mathbf{B})^\\top = \\mathbf{B}^\\top \\mathbf{A}^\\top$"
            ],
            "text/plain": [
              "<IPython.core.display.Math object>"
            ]
          },
          "metadata": {},
          "output_type": "display_data"
        },
        {
          "name": "stdout",
          "output_type": "stream",
          "text": [
            "--- True ---\n",
            "\n"
          ]
        },
        {
          "data": {
            "text/latex": [
              "$\\displaystyle \\det(\\mathbf{A}\\mathbf{B}) = \\det(\\mathbf{A}) \\det(\\mathbf{B})$"
            ],
            "text/plain": [
              "<IPython.core.display.Math object>"
            ]
          },
          "metadata": {},
          "output_type": "display_data"
        },
        {
          "name": "stdout",
          "output_type": "stream",
          "text": [
            "--- False --- \n",
            "(Generalmente da FALSE debido a errores numericos)\n",
            "\n",
            "Det(A@B) =  98376426720.00003 \n",
            "Det(A)*Det(B) =  98376426720.00002 \n",
            "\n",
            "Por lo que en este caso redondearemos para que de TRUE\n",
            "True (Vemos que con el redondeo ahora si da )\n",
            "\n"
          ]
        },
        {
          "data": {
            "text/latex": [
              "$\\displaystyle (\\mathbf{A}^\\top)^\\top = \\mathbf{A}$"
            ],
            "text/plain": [
              "<IPython.core.display.Math object>"
            ]
          },
          "metadata": {},
          "output_type": "display_data"
        },
        {
          "name": "stdout",
          "output_type": "stream",
          "text": [
            "--- True ---\n",
            "\n"
          ]
        },
        {
          "data": {
            "text/latex": [
              "$\\displaystyle (c\\mathbf{A})^\\top = c\\mathbf{A}^\\top$"
            ],
            "text/plain": [
              "<IPython.core.display.Math object>"
            ]
          },
          "metadata": {},
          "output_type": "display_data"
        },
        {
          "name": "stdout",
          "output_type": "stream",
          "text": [
            "--- True ---\n",
            "\n"
          ]
        },
        {
          "data": {
            "text/latex": [
              "$\\displaystyle (\\mathbf{A} + \\mathbf{B})^\\top = \\mathbf{A}^\\top + \\mathbf{B}^\\top$"
            ],
            "text/plain": [
              "<IPython.core.display.Math object>"
            ]
          },
          "metadata": {},
          "output_type": "display_data"
        },
        {
          "name": "stdout",
          "output_type": "stream",
          "text": [
            "--- True ---\n",
            "\n",
            "\n",
            "\n",
            "\n",
            "----------Quedan demostradas todas las relaciones mostradas----------\n"
          ]
        }
      ],
      "source": [
        "#Problema 1\n",
        "\n",
        "A = np.random.randint(-99, 100, size=(3, 3))\n",
        "B = np.random.randint(-99, 100, size=(3, 3))            #Nuestras tres matrices aleatorias\n",
        "C = np.random.randint(-99, 100, size=(3, 3))\n",
        "\n",
        "k = np.random.randint(-99, 100)                         #Una constante aleatoria\n",
        "\n",
        "print(\"\\nLa matriz A escogida al azar es:\\n\",A)\n",
        "print(\"\\nLa matriz B escogida al azar es:\\n\",B)\n",
        "print(\"\\nLa matriz C escogida al azar es:\\n\",C)\n",
        "\n",
        "print()\n",
        "\n",
        "\n",
        "display(Math(r\"\\mathbf{A}\\mathbf{B} = \\mathbf{B}\\mathbf{A}\"))\n",
        "\n",
        "print( \"---\" , np.array_equal(  A@B , B@A  ) , \"---\" , \"\\n(Esto es FALSE generalmente)\") #Indica que NO son iguales\n",
        "print()\n",
        "\n",
        "display(Math(r\"(\\mathbf{A}\\mathbf{B})\\mathbf{C} = \\mathbf{A}(\\mathbf{B}\\mathbf{C})\"))\n",
        "\n",
        "print( \"---\" , np.array_equal(  (A@B)@C , A@(B@C)  ), \"---\" , )\n",
        "print()\n",
        "\n",
        "display(Math(r\"\\mathbf{A}(\\mathbf{B} + \\mathbf{C}) = \\mathbf{A}\\mathbf{B} + \\mathbf{A}\\mathbf{C}\"))\n",
        "\n",
        "print( \"---\" , np.array_equal(  A@(B+C) , A@B + A@C  ), \"---\" , )\n",
        "print()\n",
        "\n",
        "display(Math(r\"(\\mathbf{A} + \\mathbf{B})\\mathbf{C} = \\mathbf{A}\\mathbf{C} + \\mathbf{B}\\mathbf{C}\"))\n",
        "\n",
        "print( \"---\" , np.array_equal(  (A+B)@C , A@C + B@C  ), \"---\" , )\n",
        "print()\n",
        "\n",
        "display(Math(r\"(\\mathbf{A}\\mathbf{B})^\\top = \\mathbf{B}^\\top \\mathbf{A}^\\top\"))\n",
        "\n",
        "print( \"---\" , np.array_equal(  (A@B).T , B.T@A.T  ), \"---\" , )\n",
        "print()\n",
        "\n",
        "display(Math(r\"\\det(\\mathbf{A}\\mathbf{B}) = \\det(\\mathbf{A}) \\det(\\mathbf{B})\"))\n",
        "\n",
        "print( \"---\" , la.det(A@B) == la.det(A)*la.det(B), \"---\" , \"\\n(Generalmente da FALSE debido a errores numericos)\\n\")\n",
        "print( \"Det(A@B) = \" , la.det(A@B) , \"\\nDet(A)*Det(B) = \" , la.det(A)*la.det(B) , \"\\n\\nPor lo que en este caso redondearemos para que de TRUE\")\n",
        "print( round(la.det(A@B) , 2) == round(la.det(A)*la.det(B) , 2) , \"(Vemos que con el redondeo ahora si da )\" )\n",
        "print()\n",
        "\n",
        "display(Math(r\"(\\mathbf{A}^\\top)^\\top = \\mathbf{A}\"))\n",
        "\n",
        "print( \"---\" , np.array_equal(  (A.T).T , A  ), \"---\" , )\n",
        "print()\n",
        "\n",
        "display(Math(r\"(c\\mathbf{A})^\\top = c\\mathbf{A}^\\top\"))\n",
        "\n",
        "print( \"---\" , np.array_equal(  (k*A).T , k*(A.T)  ), \"---\" , )\n",
        "print()\n",
        "\n",
        "display(Math(r\"(\\mathbf{A} + \\mathbf{B})^\\top = \\mathbf{A}^\\top + \\mathbf{B}^\\top\"))\n",
        "\n",
        "print( \"---\" , np.array_equal(  (A+B).T , A.T + B.T  ), \"---\" , )\n",
        "\n",
        "\n",
        "print(\"\\n\\n\\n\")\n",
        "print(\"----------Quedan demostradas todas las relaciones mostradas----------\")"
      ]
    },
    {
      "cell_type": "markdown",
      "metadata": {
        "id": "ibYf2I9T2pIw"
      },
      "source": [
        "#2\n",
        "\n",
        "El **Teorema de Laplace** es un método para calcular el determinante de una matriz cuadrada, particularmente útil para matrices de orden mayor a 2. Este teorema se basa en la expansión del determinante por los elementos de una fila o una columna cualquiera.\n",
        "\n",
        "\n",
        "\n",
        "$$\n",
        "\\det(A) = \\sum_{j=1}^n (-1)^{1+j} a_{1j} M_{1j}\n",
        "$$\n",
        "\n",
        "donde:\n",
        "- $a_{1j}$ es el elemento de la primera fila y columna $j$.\n",
        "- $M_{1j}$ es el menor asociado al elemento $a_{1j}$, es decir, el determinante de la submatriz de $3 \\times 3$ que se obtiene al eliminar la fila 1 y la columna $j$.\n",
        "- $(-1)^{1+j}$ es el signo correspondiente al cofactor del elemento $a_{1j}$.\n",
        "\n",
        "Podemos realizar una función recursiva para el cálculo del determinante, sabiendo que el valor del determinante de una matriz de orden uno es el único elemento de esa matriz, y el de una matriz de orden superior a uno es la suma de cada uno de los elementos de una fila o columna por los Adjuntos a ese elemento, como en la función recursiva se emplea la misma función definida el cálculo lo haremos por Menor complementario, un ejemplo desarrollado por la primera fila sería:\n",
        "\n",
        "$$\n",
        "   \\det (A_{j,j}) =\n",
        "   \\left \\{\n",
        "   \\begin{array}{llcl}\n",
        "      si & j = 1 & \\to & a_{1,1} \\\\\n",
        "                                 \\\\\n",
        "      si & j > 1 & \\to & \\displaystyle \\sum_{k=1}^j \\; (-1)^{(1+k)} \\cdot a_{1,k} \\cdot \\det( \\alpha_{1,k})\n",
        "   \\end{array}\n",
        "   \\right .\n",
        "$$\n",
        "\n",
        "Realice una función que encuentre el determinante de una matriz usando la recursividad aqui planteada, explique explicitamente su código"
      ]
    },
    {
      "cell_type": "code",
      "execution_count": 83,
      "metadata": {
        "id": "-8tYERLHtrtY"
      },
      "outputs": [
        {
          "name": "stdout",
          "output_type": "stream",
          "text": [
            "Determinante con nuestra funcion: 1173321633.0\n",
            "Determinante con scipy: 1173321633.0\n",
            "\n",
            "Podemos percatarnos que nuestra funcion funciona increiblemente increible\n"
          ]
        }
      ],
      "source": [
        "#Problema 2\n",
        "\n",
        "def Det(A):\n",
        "\n",
        "    \"\"\"\n",
        "    La funcion Det(A) nos devolvera el determinante de dicha matriz\n",
        "\n",
        "    Entradas:\n",
        "    A: Es una matriz cuadrada de tamaño n (Matriz nxn)\n",
        "\n",
        "    Salidas:\n",
        "    D: El determinante de la matriz (float)\n",
        "\n",
        "    \"\"\"\n",
        "\n",
        "    if A.shape[0] != A.shape[1]:\n",
        "        return \"Su matriz no es cuadrada, no es posible sacar el determinante\"\n",
        "    else:\n",
        "        pass\n",
        "\n",
        "    n = A.shape[0]              #Numero de filas \n",
        "    D = 0\n",
        "\n",
        "    if n > 1:\n",
        "        \n",
        "        for j in range(n):\n",
        "\n",
        "            M = np.delete(np.delete(A, 1, axis=0), j, axis=1)           #Matriz sin la fila 1 y sin la columna j\n",
        "            Signo = (-1)**(1+j)                                         #El signo dependiendo de j\n",
        "            a = A[1,j]                                                  #La componente A[1,j]\n",
        "            D += Det(M)*a*Signo                                         #Se suma iterativamente al determinante\n",
        "\n",
        "    else:\n",
        "        return A[0,0]                                                   #Si es un array 1x1 entonces regresamos el unico valor que hay\n",
        "    \n",
        "    return float(D)                                                     #Lo regresamos en float\n",
        "\n",
        "A = np.random.randint(-99, 100, size=(5 , 5))                           #Generamos una matriz al azar 5x5\n",
        "\n",
        "print(\"Determinante con nuestra funcion:\",Det(A))                                                         \n",
        "print(\"Determinante con scipy:\",la.det(A))                                                               \n",
        "\n",
        "print(\"\\nPodemos percatarnos que nuestra funcion funciona increiblemente increible\")"
      ]
    },
    {
      "cell_type": "markdown",
      "metadata": {
        "id": "fTSweDGhnAUN"
      },
      "source": [
        "#3 Método de Gauss - Seidel\n",
        "\n",
        "Sea \\$A\\in\\mathbb{R}^{n\\times n}\\$ no singular y sea \\$b\\in\\mathbb{R}^n\\$.\n",
        "Descomponga \\$A\\$ como\n",
        "\n",
        "$$\n",
        "A \\;=\\; D \\;+\\; L \\;+\\; U,\n",
        "$$\n",
        "\n",
        "donde\n",
        "\n",
        "* \\$D\\$ es la matriz diagonal de \\$A\\$,\n",
        "* \\$L\\$ es la parte estrictamente triangular inferior,\n",
        "* \\$U\\$ es la parte estrictamente triangular superior.\n",
        "\n",
        "El algoritmo de Gauss - Seidel reorganiza el sistema \\$Ax=b\\$ como\n",
        "\n",
        "$$\n",
        "x \\;=\\; (D+L)^{-1}\\bigl(b \\;-\\; Ux\\bigr),\n",
        "$$\n",
        "\n",
        "y genera la sucesión\n",
        "\n",
        "$$\n",
        "x_i^{(k+1)}\n",
        "= \\frac{1}{a_{ii}}\n",
        "\\Bigl(b_i - \\sum_{j<i} a_{ij}\\,x_j^{(k+1)} - \\sum_{j>i} a_{ij}\\,x_j^{(k)}\\Bigr),\n",
        "\\qquad i=1,\\dots,n.\n",
        "$$\n",
        "\n",
        "Implemente una función `gauss_seidel(A, b, tol=1e-7, max_iter=100)` que:\n",
        "   * Realice las iteraciones hasta que\n",
        "     $\\lVert x^{(k+1)}-x^{(k)}\\rVert_\\infty<\\text{tol}$\n",
        "     o se alcance `max_iter`;\n",
        "   * devuelva el vector solución aproximado \\$x\\$, el número de iteraciones realizadas y la norma del último residuo.\n",
        "\n",
        "Incluya una documentación clara.\n",
        "\n",
        "Luego,\n",
        "\n",
        "   * Genere una matriz aleatoria \\$5\\times5\\$ (por ejemplo, con `np.random.rand`) y un vector \\$b\\$ aleatorio.\n",
        "   * Resuelva \\$Ax=b\\$ con su función; calcule el error relativo frente a `numpy.linalg.solve`.\n",
        "   * Estime igualmente el error respecto a la solución obtenida mediante \\$x=A^{-1}b\\$ (usando `numpy.linalg.inv`).\n",
        "   * Presente las normas de los residuos y los errores relativos."
      ]
    },
    {
      "cell_type": "code",
      "execution_count": 90,
      "metadata": {
        "id": "xXuUhfjznlnO"
      },
      "outputs": [
        {
          "name": "stdout",
          "output_type": "stream",
          "text": [
            "Nuestra matriz D aleatoria con la diagonal dominante es de:\n",
            " [[283 -79  82 -79  35]\n",
            " [ -3 218  78  36  95]\n",
            " [ 23  91 163  11  35]\n",
            " [-51  -3 -64 172 -45]\n",
            " [ 87  27 -37  35 195]]\n",
            "\n",
            "Nuestro vector aproximado es:\n",
            " [[ 0.34879308]\n",
            " [ 0.56157054]\n",
            " [-0.8335917 ]\n",
            " [-0.6917762 ]\n",
            " [-0.0468622 ]]\n",
            "Convergio en la iteracion numero 20\n",
            "El ultimo residuo de la funcion fue de: 5.748437559294217e-08\n",
            "\n",
            "El error relativo con respecto a numpy es de: 4.2567598335097045e-08\n",
            "El error relativo con respecto a la inversa por el vector resultante es de: 4.256759844611935e-08\n"
          ]
        }
      ],
      "source": [
        "#Problema 3\n",
        "\n",
        "def gauss_seidel(A, b, tol=1e-7, max_iter=100):\n",
        "    \"\"\"\n",
        "    Nuestra funcion Gauss_Seidel funciona de manera iterativa para encontrar la solucion a nuestra matriz cuadrada (Si cumple las condiciones necesarias)\n",
        "\n",
        "    Entradas:\n",
        "    A: La matriz asociada a nuestro problema (Matriz)\n",
        "    b: El vector resultante de nuestro problema (Vector)\n",
        "\n",
        "    Salidas:\n",
        "    x_new: El vector solucion con tolerancia establecida (Vector)\n",
        "    m: Numero de iteracion en la cual convergio (Numero int)\n",
        "    Error: La norma de nuestro residuo (Numero Float)\n",
        "\n",
        "    \"\"\"\n",
        "    if A.shape[0] != A.shape[1]:\n",
        "        return \"Su matriz no es cuadrada, no es posible sacar el determinante\"\n",
        "    else:\n",
        "        pass\n",
        "\n",
        "    n = len(b)                                              #Longitud de nuestra matriz cuadrada\n",
        "    x = np.zeros_like(b, dtype = float)                     #Vector solucion antiguo\n",
        "    x_new = np.zeros_like(x)                                #Vector solucion nuevo\n",
        "\n",
        "    for m in range(1 , max_iter + 1):                       #Limite de iteraciones\n",
        "        for i in range(n):                                  #Recorremos filas\n",
        "            Suma_1 = 0.0\n",
        "            Suma_2 = 0.0\n",
        "            for j in range(n):                              #Recorremos columnas\n",
        "                if j < i :                                  #Vamos haciendo las sumatorias aparte para despues sumarlas al final\n",
        "                    Suma_1 += A[i,j]*x_new[j]\n",
        "                elif j == i:\n",
        "                    pass\n",
        "                else:\n",
        "                    Suma_2 += A[i,j]*x[j]\n",
        "            x_new[i] = (b[i] - Suma_1 - Suma_2)/(A[i,i])    #Reemplazamos la componente i de nuestro x_new\n",
        "        error = np.linalg.norm(x_new - x, ord=np.inf)       #Calculamos el error\n",
        "        if error < tol:                                     #Evaluamos convergencia\n",
        "            return x_new , m , error    \n",
        "        else:                                               #Si no se cumple convergencia reemplazamos el vector antiguo por el nuevo\n",
        "            x = x_new.copy()\n",
        "    \n",
        "    print(\"Una disculpa pero no convergio, porfavor revise que sea diagonalmente dominante o simetrica positiva.\")  #Si no converge\n",
        "\n",
        "#Matriz 5x5 aleatoria\n",
        "\n",
        "D = np.random.randint(-99, 100, size=(5, 5))\n",
        "d = np.random.randint(-99, 100, size=(5, 1))\n",
        "\n",
        "def Dia_Dom(A):                         #Creamos uan funcion para que la diagonal domine\n",
        "    for i in range(5):                  #Si no cumple la condicion en cada componente le sumanos 10 unidades hasta que cumpla\n",
        "        Suma = 0.0\n",
        "        for j in range(5):\n",
        "            if i != j :\n",
        "                Suma += abs(A[i,j])\n",
        "            else:\n",
        "                pass\n",
        "        \n",
        "        if A[i,i] > Suma:\n",
        "            pass\n",
        "        else:\n",
        "            while A[i,i] < Suma:\n",
        "                A[i,i] += 10\n",
        "    return A\n",
        "\n",
        "D = Dia_Dom(D)\n",
        "\n",
        "print(\"Nuestra matriz D aleatoria con la diagonal dominante es de:\\n\",D)\n",
        "\n",
        "Aprox , Iter , Error = gauss_seidel(D,d)    #Evaluamos nuestra función\n",
        "\n",
        "print(\"\\nNuestro vector aproximado es:\\n\" , Aprox)\n",
        "print(\"Convergio en la iteracion numero\",Iter)\n",
        "print(\"El ultimo residuo de la funcion fue de:\",Error)\n",
        "\n",
        "Error_s = np.linalg.norm(Aprox - nla.solve(D,d), ord=np.inf)\n",
        "Error_i = np.linalg.norm(Aprox - nla.inv(D)@d, ord=np.inf)\n",
        "\n",
        "print(\"\\nEl error relativo con respecto a numpy es de:\",Error_s)\n",
        "print(\"El error relativo con respecto a la inversa por el vector resultante es de:\",Error_i)"
      ]
    },
    {
      "cell_type": "markdown",
      "metadata": {
        "id": "REVJcqYtnmM-"
      },
      "source": [
        "#4 Método de potencias para el valor propio dominante\n",
        "\n",
        "Sea \\$A\\in\\mathbb{R}^{n\\times n}\\$ diagonalizable con valor propio dominante \\$\\lambda\\_{\\max}\\$ (en magnitud) y vector propio asociado \\$v\\_{\\max}\\$.\n",
        "\n",
        "El método de potencias genera, a partir de un vector inicial \\$q^{(0)}\\neq 0\\$, la sucesión\n",
        "\n",
        "$$\n",
        "q^{(k+1)} \\;=\\; \\frac{A\\,q^{(k)}}{\\lVert A\\,q^{(k)}\\rVert_2},\n",
        "\\qquad\n",
        "\\lambda^{(k+1)} \\;=\\; (q^{(k+1)})^{\\!\\top} A\\, q^{(k+1)},\n",
        "$$\n",
        "\n",
        "que converge a \\$v\\_{\\max}/\\lVert v\\_{\\max}\\rVert\\_2\\$ y a \\$\\lambda\\_{\\max}\\$ respectivamente, bajo hipótesis estándar.\n",
        "\n",
        "Implemente `power_method(A, tol=1e-7, max_iter=1000)` que:\n",
        "\n",
        "   * Acepte matrices reales cuadradas,\n",
        "   * Devuelva \\$\\lambda\\_{\\max}\\$, el vector propio normalizado \\$v\\_{\\max}\\$, el número de iteraciones y la última variación relativa de \\$\\lambda\\$,\n",
        "   * detenga la iteración cuando\n",
        "     $\\bigl|\\lambda^{(k+1)}-\\lambda^{(k)}\\bigr|<\\text{tol}\\,|\\lambda^{(k+1)}|$\n",
        "     o se alcance `max_iter`.\n",
        "\n",
        "Luego,\n",
        "   * Genere una matriz simétrica aleatoria \\$6\\times6\\$ (por ejemplo, \\$A = (M+M^\\top)/2\\$ con \\$M\\$ aleatoria).\n",
        "   * Aplique su `power_method` y compare \\$\\lambda\\_{\\max}\\$ y \\$v\\_{\\max}\\$ con los resultados de `numpy.linalg.eig`."
      ]
    },
    {
      "cell_type": "code",
      "execution_count": 96,
      "metadata": {
        "id": "lPzFAOE7obZY"
      },
      "outputs": [
        {
          "name": "stdout",
          "output_type": "stream",
          "text": [
            "La convergencia se alcanzo a las 21 Iteraciones\n",
            "Su error fue de 4.0636336962052155e-08\n",
            "El vector propio asociado es: [-0.40593727 -0.66012818  0.46464887  0.02420225 -0.05865532 -0.42369912]\n",
            "\n",
            "El valor propio DOMINANTE es: -166.59231604019283\n",
            "\n",
            "\n",
            "El vector propio asociado mediante numpy es de: [ 0.40593224  0.66013221 -0.46464617 -0.02420211  0.05866066  0.42369989]\n",
            "El valor propio dominante mediante numpy es de: -166.59231606069397\n"
          ]
        }
      ],
      "source": [
        "#Problema 4\n",
        "\n",
        "def power_method(A , tol=1e-7 , max_iter=1000):\n",
        "\n",
        "    \"\"\"\n",
        "    Nuestra funcion power_method nos permite encontrar el valor propio DOMINANTE con su respectivo vector propio asociado\n",
        "\n",
        "    Entradas:\n",
        "    A: Matriz simetrica real (Matriz)\n",
        "\n",
        "    Salidas:\n",
        "    q_new: El vector propio asociado a el valor propio DOMINANTE (Vector)\n",
        "    Y_new: El valor propio DOMINANTE (Numero float)\n",
        "    m: El numero de iteracion donde convergio (Numero Int)\n",
        "    error: El residuo relativo de los valores propios (Numero float)\n",
        "\n",
        "    \"\"\"\n",
        "\n",
        "    if (A != A.T).all():                                                                                    #Verificamos si la matriz es simetrica \n",
        "        return \"Una disculpa pero su matriz no es simetrica y no podemos usar este metodo\"\n",
        "    else:\n",
        "        pass\n",
        "\n",
        "    n = len(A[0])                                                                                   #Guardamos el largo de las filas de la matriz\n",
        "    q = np.ones(n , dtype=float)                                                                    #Vector propio antiguo\n",
        "    Y = 0                                                                                           #Valor propio antiguo\n",
        "    for m in range(1,max_iter+1):                                                                   #Numero de iteraciones\n",
        "        Numerador = A@q                                                                             #Vector por el producto matricial\n",
        "        Denominador = la.norm(A@q, ord=2)                                                           #Norma 2 de el numerador\n",
        "        q_new = Numerador / Denominador                                                             #Nuevo vector propio\n",
        "        Y_new = (q_new.T)@A@q_new                                                                   #Nuevo valor propio\n",
        "\n",
        "        error = abs(Y_new - Y)                                                                      #Calculamos el error de los valores propios\n",
        "        if error < tol:                                                                             #Evaluamos convergencia\n",
        "            return q_new , Y_new , m , error\n",
        "        else:                                                                                       #Si no cumple convergencia reemplazamos los valores\n",
        "            q = q_new.copy()\n",
        "            Y = Y_new\n",
        "    return \"Se alcanzo el maximo de iteraciones\"\n",
        "\n",
        "A = np.random.randint(-99, 100, size=(6, 6))                                                        #Generamos uan matriz 6x6 aleatoria\n",
        "\n",
        "A = (A + A.T)/2                                                                                     #La convertimos en una simetrica\n",
        "\n",
        "Vector , Valor , Iter , Error = power_method(A)                                                     #Evaluamos nuestra función\n",
        "\n",
        "print(\"La convergencia se alcanzo a las\",Iter,\"Iteraciones\")\n",
        "print(\"Su error fue de\",Error)\n",
        "\n",
        "print(\"El vector propio asociado es:\",Vector)\n",
        "print()\n",
        "print(\"El valor propio DOMINANTE es:\",Valor)\n",
        "print(\"\\n\")\n",
        "\n",
        "Valores, Vectores = nla.eig(A)\n",
        "\n",
        "i = np.argmax(np.abs(Valores))                                                                      #Encontramos el indice de el valor que es dominante\n",
        "\n",
        "Valor_dominante = Valores[i]\n",
        "\n",
        "Vector_asociado = Vectores[:, i]\n",
        "\n",
        "print(\"El vector propio asociado mediante numpy es de:\",Vector_asociado)\n",
        "print(\"El valor propio dominante mediante numpy es de:\",Valor_dominante)\n"
      ]
    },
    {
      "cell_type": "markdown",
      "metadata": {
        "id": "iggu2jNwVpnK"
      },
      "source": [
        "#5\n",
        "\n",
        "Verifique que cualquier matriz hermitiana de 2 × 2 $ L $ puede escribirse como una suma de cuatro términos:\n",
        "\n",
        "$$ L = a\\sigma_x + b\\sigma_y + c\\sigma_z + dI $$\n",
        "\n",
        "donde $ a $, $ b $, $ c $ y $ d $ son números reales.\n",
        "\n",
        "Las cuatro matrices de Pauli son:\n",
        "\n",
        "$$ \\sigma_x = \\begin{pmatrix} 0 & 1 \\\\ 1 & 0 \\end{pmatrix}, \\quad \\sigma_y = \\begin{pmatrix} 0 & -i \\\\ i & 0 \\end{pmatrix}, \\quad \\sigma_z = \\begin{pmatrix} 1 & 0 \\\\ 0 & -1 \\end{pmatrix}, \\quad I = \\begin{pmatrix} 1 & 0 \\\\ 0 & 1 \\end{pmatrix} $$\n",
        "\n",
        "\n"
      ]
    },
    {
      "cell_type": "code",
      "execution_count": 125,
      "metadata": {
        "id": "8WN9_cOCV7cM"
      },
      "outputs": [
        {
          "name": "stdout",
          "output_type": "stream",
          "text": [
            "\n",
            "Matriz hermitiana aleatoria\n",
            "[[-81.6926283  +0.j         -17.74873168+66.94945314j]\n",
            " [-17.74873168-66.94945314j -42.59194391 +0.j        ]]\n",
            "\n",
            "Parte derecha de la ecuación\n",
            "[[-81.6926283  +0.j         -17.74873168+66.94945314j]\n",
            " [-17.74873168-66.94945314j -42.59194391 +0.j        ]]\n",
            "\n",
            " [[ True  True]\n",
            " [ True False]]\n",
            "\n",
            "Como nos podemos dar cuenta la igualdad se cumple para todas las matrices hermitianas (A no ser de que ocurra algun error numerico pequeño)\n"
          ]
        }
      ],
      "source": [
        "#Problema 5\n",
        "\n",
        "x = np.array([[0,1],[1,0]])\n",
        "y = np.array([[0,-1j],[1j,0]])\n",
        "z = np.array([[1,0],[0,-1]])\n",
        "I = np.array([[1,0],[0,1]])\n",
        "\n",
        "al , be , de, th = np.random.uniform(-99, 100, 4)                                   #Generamos numeros reales para una hermitiana 2x2 general\n",
        "\n",
        "Hermi = np.array([[al , be + th*1j] , [be - 1j*th , de]])                           #Hermitiana 2x2\n",
        "\n",
        "\"\"\"\n",
        "Mediante calculo analitico obtenemos que nuestra matriz hermitiana debe que igualar a la siguiente matriz:\n",
        "\n",
        "(c+d      a-bi)\n",
        "(a+bi      d-c)\n",
        "\n",
        "Por lo que obtenemos cuatro ecuaciones:\n",
        "\n",
        "al = c + d                      (1)\n",
        "be + i*th = a-bi                (2)\n",
        "be - i*th = a+bi                (3)\n",
        "de = d - c                      (4)\n",
        "\n",
        "Si despejamos \"d\" de la ecuacion (4) obtenemos que:\n",
        "\n",
        "de + c = d\n",
        "\n",
        "Y si reemplazamos en la ecuacion (1) obtenemos:\n",
        "\n",
        "al = 2c + de\n",
        "c = (al - de)/2\n",
        "\n",
        "Si reemplazamos c nuevamente en (4) obtenemos:\n",
        "\n",
        "de = d - (al - de)/2\n",
        "d = (de + al)/2\n",
        "\n",
        "Por lo que ya obtenemos de manera analitica c y d\n",
        "\n",
        "Para encontrar a y b tenemos que resolver el sistema de ecuaciones:\n",
        "\n",
        "a - bi = be + i*th\n",
        "a + bi = be - i*th\n",
        "\n",
        "Que en forma matricial es:\n",
        "\n",
        "(1   -i)  (be + i*th)\n",
        "(1   +i)  (be - i*th)\n",
        "\n",
        "Resolviendo de forma analitica para evitar errores numericos obtenemos que los valores de a y b respectivamente son:\n",
        "\n",
        "a = be\n",
        "b = -th\n",
        "\n",
        "Ahora vamos a comprobar nuestros resultados\n",
        "\n",
        "\"\"\"\n",
        "\n",
        "#Escribimos nuestros valores\n",
        "\n",
        "a = be\n",
        "b = -th\n",
        "c = (al - de)/2\n",
        "d = (de + al)/2\n",
        "\n",
        "print(\"\\nMatriz hermitiana aleatoria\")\n",
        "print(Hermi)\n",
        "print(\"\\nParte derecha de la ecuación\")\n",
        "print(a*x + b*y + c*z + d*I)\n",
        "\n",
        "print(\"\\n\",Hermi == a*x + b*y + c*z + d*I) #Comprobamos si se cumple la igualdad\n",
        "\n",
        "print(\"\\nComo nos podemos dar cuenta la igualdad se cumple para todas las matrices hermitianas (A no ser de que ocurra algun error numerico pequeño)\")"
      ]
    },
    {
      "cell_type": "markdown",
      "metadata": {
        "id": "GnCw5_O5pMxl"
      },
      "source": [
        "# 6\n",
        "\n",
        "Haga un breve resumen en Markdown de las funciones y métodos más relevantes para algebra lineal usando Python. Emplee ejemplos."
      ]
    },
    {
      "cell_type": "markdown",
      "metadata": {},
      "source": [
        "## Álgebra Lineal con NumPy\n",
        "\n",
        "Generalmente usamos el modulo de numpy dirigido para algebra lineal para nuestras funciones mas importantes, pero primero iniciaremos con las bases que son crear las matrices y los vectores con los arrays de numpy, ya que estos estan vectorizados\n",
        "\n",
        "`np.array([])` ---> Con esta podemos creas todos nuestros vectores y matrices\n",
        "\n",
        "Otra muy util para probar distintos casos es generar matrices o vectores aleatorios con\n",
        "\n",
        "`np.random.randint(a,b, size=(n,m))` ---> Crea matrices aleatorias con valroes entre a y b\n",
        "\n",
        "A veces necesitamos simplemente arrays especiales para reemplazar, sumar o multiplicar aprovechando el hecho de que son vectores por lo que utilizamos\n",
        "\n",
        "- `np.zeros(n,m)` ---> Genera una matriz nxm llena de ceros  \n",
        "- `np.zeros_like(x)` ---> Genera una matriz llena de ceros como alguna otra \"x\"  \n",
        "- `np.ones(n,m)` ---> Genera una matriz nxm llena de unos  \n",
        "- `np.ones_like(x)` ---> Genera una matriz llena de unos como alguna otra \"x\"  \n",
        "- `np.eye(n)` ---> Genera una matriz identidad de tamaño n  \n",
        "\n",
        "Si tenemos alguna matriz `\"A\"` podemos jugar con ella con las siguientes funciones:\n",
        "\n",
        "- `A.T` ---> La matriz transpuesta de A  \n",
        "- `A.conjugate()` ---> La matriz conjugada de A  \n",
        "- `np.diag(A)` ---> La diagonal de la matriz  \n",
        "- `np.trace(A)` ---> La traza de la matriz  \n",
        "- `nla.norm(A)` ---> Distintos tipos de normas  \n",
        "- `nla.det(A)` ---> El determinante  \n",
        "\n",
        "Si tenemos dos matrices `\"A\"` y `\"B\"` podemos realizar operaciones entre ellas:\n",
        "\n",
        "- `A + B` o `A - B` ---> Puedes sumar o restar matrices (Tienen que ser del mismo tamaño)  \n",
        "- `A * B` o `A / B` ---> Puedes multiplicar o dividir componente a componente las matrices (Tienen que ser del mismo tamaño)  \n",
        "- `A @ B` ---> Puedes realizar producto matricial entre matrices o producto punto entre vectores (Cumpliendo que el len(A[j]) = len(B[i]))  \n",
        "\n",
        "Para cosas un poquito más avanzadas también tenemos funciones para autovalores, inversas y resolver sistemas del tipo Ax = b:\n",
        "\n",
        "- `nla.inv(A)` ---> Devuelve la inversa de la matriz, útil para resolver sistemas  \n",
        "- `nla.solve(A, b)` ---> Devuelve el vector solución de ese sistema  \n",
        "- `nla.eig(A)` ---> Devuelve los autovalores y autovectores de la matriz, útil para diagonalizar  \n",
        "- `np.isclose(A,B)` ---> Verifica si las matrices se acercan dentro de una tolerancia establecida, útil para errores numéricos\n"
      ]
    },
    {
      "cell_type": "code",
      "execution_count": 141,
      "metadata": {},
      "outputs": [
        {
          "name": "stdout",
          "output_type": "stream",
          "text": [
            "MATRIZ A:\n",
            " [[ -7   3  -7   6   0]\n",
            " [  6  -2  -9  -8  -5]\n",
            " [  4  -3   9   6  -2]\n",
            " [ -4  -9 -10  -6   8]\n",
            " [-10   1   4   4   0]] \n",
            "\n",
            " MATRIZ B:\n",
            " [[  9  -5   1  -8   2]\n",
            " [ -1   3   8   5   7]\n",
            " [-10   0  -2   9  -9]\n",
            " [ -1   9   3   1  -9]\n",
            " [  4  -9  -8  -7 -10]] \n",
            "\n",
            " Vector b:\n",
            " [[-7]\n",
            " [-3]\n",
            " [-6]\n",
            " [ 6]\n",
            " [ 4]]\n",
            "\n",
            "MATRIZ A LLENA DE CEROS:\n",
            " [[0 0 0 0 0]\n",
            " [0 0 0 0 0]\n",
            " [0 0 0 0 0]\n",
            " [0 0 0 0 0]\n",
            " [0 0 0 0 0]] \n",
            "\n",
            " MATRIZ B LLENA DE UNOS:\n",
            " [[1 1 1 1 1]\n",
            " [1 1 1 1 1]\n",
            " [1 1 1 1 1]\n",
            " [1 1 1 1 1]\n",
            " [1 1 1 1 1]]\n",
            "\n",
            "MATRIZ A CONJUGADA (La misma por ser real):\n",
            " [[ -7   3  -7   6   0]\n",
            " [  6  -2  -9  -8  -5]\n",
            " [  4  -3   9   6  -2]\n",
            " [ -4  -9 -10  -6   8]\n",
            " [-10   1   4   4   0]] \n",
            "\n",
            " VECTOR PLANO DE LA DIAGONAL DE A:\n",
            " [-7 -2  9 -6  0] \n",
            "\n",
            " MATRIZ A TRANSPUESTA:\n",
            " [[ -7   6   4  -4 -10]\n",
            " [  3  -2  -3  -9   1]\n",
            " [ -7  -9   9 -10   4]\n",
            " [  6  -8   6  -6   4]\n",
            " [  0  -5  -2   8   0]]\n",
            "\n",
            "El determinante de la matriz A es: 104430.0000000001\n",
            "La norma euclidiana de el vector b es: 12.083045973594572\n",
            "La traza de la matriz A es igual a: -6\n",
            "La suma de las matrices A,B es:\n",
            " [[  2  -2  -6  -2   2]\n",
            " [  5   1  -1  -3   2]\n",
            " [ -6  -3   7  15 -11]\n",
            " [ -5   0  -7  -5  -1]\n",
            " [ -6  -8  -4  -3 -10]]\n",
            "La multiplicacion de las matrices A,B elemento por elemento es:\n",
            " [[-63 -15  -7 -48   0]\n",
            " [ -6  -6 -72 -40 -35]\n",
            " [-40   0 -18  54  18]\n",
            " [  4 -81 -30  -6 -72]\n",
            " [-40  -9 -32 -28   0]]\n",
            "El producto matricial de las matrices A,B es:\n",
            " [[  -2   98   49   14   16]\n",
            " [ 134  -63   24 -112  201]\n",
            " [ -65   43   -4   54 -128]\n",
            " [ 111 -133 -138 -165   -7]\n",
            " [-135   89    2  125  -85]]\n",
            "\n",
            "La inversa de la funcion B es de:\n",
            " [[-3.34007634e+00  2.82748092e+00 -2.19274809e+00  2.56106870e-01\n",
            "   3.05419847e+00]\n",
            " [-5.90458015e-01  3.64885496e-01 -4.06488550e-01  8.66412214e-02\n",
            "   4.25190840e-01]\n",
            " [ 1.82977099e+00 -1.31755725e+00  1.17175573e+00 -8.16793893e-02\n",
            "  -1.53740458e+00]\n",
            " [-3.27824427e+00  2.76793893e+00 -2.06679389e+00  2.09541985e-01\n",
            "   2.95343511e+00]\n",
            " [ 2.63358779e-02 -8.09160305e-02 -1.90839695e-03 -5.68702290e-02\n",
            "  -9.84732824e-02]]\n",
            "\n",
            "El vector solucion de la matriz Bx = b es igual a:\n",
            " [[ 41.80801527]\n",
            " [  7.6980916 ]\n",
            " [-22.5259542 ]\n",
            " [ 40.11564885]\n",
            " [ -0.66526718]]\n",
            "Podriamos compararla con la solucion de la inversa con np.isclose\n",
            " [[ True]\n",
            " [ True]\n",
            " [ True]\n",
            " [ True]\n",
            " [ True]]\n",
            "Por ultimo los valores y vectores propios de la matriz A son\n",
            "\n",
            "Valores =  [ 12.59659286+0.j           0.96692674+9.96853834j\n",
            "   0.96692674-9.96853834j -15.03229007+0.j\n",
            "  -5.49815626+0.j        ]\n",
            "Vectores =  [[ 0.21967175+0.j          0.40111922-0.29349025j  0.40111922+0.29349025j\n",
            "   0.56107623+0.j          0.48544315+0.j        ]\n",
            " [ 0.68326734+0.j         -0.11216489-0.01818404j -0.11216489+0.01818404j\n",
            "  -0.35429596+0.j          0.40440199+0.j        ]\n",
            " [-0.5354245 +0.j         -0.37455969-0.24498703j -0.37455969+0.24498703j\n",
            "   0.03839449+0.j          0.06051435+0.j        ]\n",
            " [-0.24882593+0.j          0.63932218+0.j          0.63932218-0.j\n",
            "  -0.52917962+0.j         -0.01009095+0.j        ]\n",
            " [-0.36918332+0.j          0.16293835+0.32320251j  0.16293835-0.32320251j\n",
            "   0.52741125+0.j          0.77268374+0.j        ]]\n"
          ]
        }
      ],
      "source": [
        "#EJEMPLOS\n",
        "\n",
        "#Creacion de matrices y vectores aleatorios\n",
        "A = np.random.randint(-10,10, size=(5,5))\n",
        "B = np.random.randint(-10,10, size=(5,5))\n",
        "b = np.random.randint(-10,10, size=(5,1))\n",
        "\n",
        "print(\"MATRIZ A:\\n\",A ,\"\\n\\n\",\"MATRIZ B:\\n\", B ,\"\\n\\n\",\"Vector b:\\n\", b)\n",
        "\n",
        "#Matrices llena de ceros o unos\n",
        "\n",
        "A_0 = np.zeros_like(A)\n",
        "B_1 = np.ones_like(B)\n",
        "\n",
        "print(\"\\nMATRIZ A LLENA DE CEROS:\\n\",A_0 ,\"\\n\\n\",\"MATRIZ B LLENA DE UNOS:\\n\", B_1 )\n",
        "\n",
        "#Funciones y metodos basicos\n",
        "\n",
        "AT = A.T\n",
        "Conjugada = A.conjugate()\n",
        "Diagonal = np.diag(A)\n",
        "Traza = np.trace(A)\n",
        "Norma = nla.norm(b , 2)\n",
        "Determinante = nla.det(A)\n",
        "\n",
        "print(\"\\nMATRIZ A CONJUGADA (La misma por ser real):\\n\",Conjugada ,\"\\n\\n\",\"VECTOR PLANO DE LA DIAGONAL DE A:\\n\"\n",
        ", Diagonal ,\"\\n\\n\",\"MATRIZ A TRANSPUESTA:\\n\", AT)\n",
        "\n",
        "print(\"\\nEl determinante de la matriz A es:\", Determinante)\n",
        "print(\"La norma euclidiana de el vector b es:\", Norma)\n",
        "print(\"La traza de la matriz A es igual a:\",Traza)\n",
        "\n",
        "#Algunas operaciones basicas\n",
        "\n",
        "print(\"La suma de las matrices A,B es:\\n\",A+B)\n",
        "print(\"La multiplicacion de las matrices A,B elemento por elemento es:\\n\",A*B)\n",
        "print(\"El producto matricial de las matrices A,B es:\\n\",A@B)\n",
        "\n",
        "#Funciones un poquito mas avanzadas\n",
        "\n",
        "print(\"\\nLa inversa de la funcion B es de:\\n\",nla.inv(B))\n",
        "\n",
        "print(\"\\nEl vector solucion de la matriz Bx = b es igual a:\\n\",nla.solve(B,b))\n",
        "\n",
        "print(\"Podriamos compararla con la solucion de la inversa con np.isclose\\n\",np.isclose( nla.solve(B,b) , nla.inv(B)@b))\n",
        "\n",
        "Valores , Vectores = nla.eig(A)\n",
        "print(\"Por ultimo los valores y vectores propios de la matriz A son\\n\")\n",
        "print(\"Valores = \" , Valores)\n",
        "print(\"Vectores = \" , Vectores)\n",
        "\n"
      ]
    }
  ],
  "metadata": {
    "colab": {
      "include_colab_link": true,
      "provenance": []
    },
    "kernelspec": {
      "display_name": "Python 3",
      "name": "python3"
    },
    "language_info": {
      "codemirror_mode": {
        "name": "ipython",
        "version": 3
      },
      "file_extension": ".py",
      "mimetype": "text/x-python",
      "name": "python",
      "nbconvert_exporter": "python",
      "pygments_lexer": "ipython3",
      "version": "3.13.2"
    }
  },
  "nbformat": 4,
  "nbformat_minor": 0
}
